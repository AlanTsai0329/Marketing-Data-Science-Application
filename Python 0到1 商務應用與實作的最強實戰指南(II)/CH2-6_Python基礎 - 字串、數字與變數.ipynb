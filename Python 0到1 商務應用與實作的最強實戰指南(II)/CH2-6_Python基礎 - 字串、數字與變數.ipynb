{
 "metadata": {
  "language_info": {
   "codemirror_mode": {
    "name": "ipython",
    "version": 3
   },
   "file_extension": ".py",
   "mimetype": "text/x-python",
   "name": "python",
   "nbconvert_exporter": "python",
   "pygments_lexer": "ipython3",
   "version": "3.7.6"
  },
  "orig_nbformat": 2,
  "kernelspec": {
   "name": "python376jvsc74a57bd006abc8c84a08ce69ea155e6bb1a0bbaf04d20565f7cdfe4c0ce027bf29f88042",
   "display_name": "Python 3.7.6 64-bit (conda)"
  }
 },
 "nbformat": 4,
 "nbformat_minor": 2,
 "cells": [
  {
   "source": [
    "# `Python基礎 - 字串、數字與變數`\n",
    "### 作者：徐子皓、戴若竹\n",
    "***"
   ],
   "cell_type": "markdown",
   "metadata": {}
  },
  {
   "source": [
    "## 字串\n",
    "字串(string)，可以理解為一整串的文字或字元。"
   ],
   "cell_type": "markdown",
   "metadata": {}
  },
  {
   "cell_type": "code",
   "execution_count": 1,
   "metadata": {},
   "outputs": [
    {
     "output_type": "execute_result",
     "data": {
      "text/plain": [
       "'hello world!'"
      ]
     },
     "metadata": {},
     "execution_count": 1
    }
   ],
   "source": [
    "'hello world!'"
   ]
  },
  {
   "cell_type": "code",
   "execution_count": 2,
   "metadata": {},
   "outputs": [
    {
     "output_type": "execute_result",
     "data": {
      "text/plain": [
       "'hello world!'"
      ]
     },
     "metadata": {},
     "execution_count": 2
    }
   ],
   "source": [
    "\"hello world!\""
   ]
  },
  {
   "source": [
    "### 利用print()，列印完整格式字串"
   ],
   "cell_type": "markdown",
   "metadata": {}
  },
  {
   "cell_type": "code",
   "execution_count": 3,
   "metadata": {},
   "outputs": [
    {
     "output_type": "stream",
     "name": "stdout",
     "text": [
      "'Welcome to Python.'\n\"Welcome to Python.\"\n"
     ]
    }
   ],
   "source": [
    "print(\"'Welcome to Python.'\")\n",
    "print('\"Welcome to Python.\"')"
   ]
  },
  {
   "source": [
    "### 利用type()，檢查資料型別"
   ],
   "cell_type": "markdown",
   "metadata": {}
  },
  {
   "cell_type": "code",
   "execution_count": 4,
   "metadata": {},
   "outputs": [
    {
     "output_type": "stream",
     "name": "stdout",
     "text": [
      "<class 'str'>\n<class 'str'>\n"
     ]
    }
   ],
   "source": [
    "print(type(\"'Welcome to Python.'\"))\n",
    "print(type('\"Welcome to Python.\"'))"
   ]
  },
  {
   "source": [
    "### 使用print()字串時，要注意跳脫字元帶來的影響"
   ],
   "cell_type": "markdown",
   "metadata": {}
  },
  {
   "cell_type": "code",
   "execution_count": 5,
   "metadata": {},
   "outputs": [
    {
     "output_type": "stream",
     "name": "stdout",
     "text": [
      "C:\\some\name\n"
     ]
    }
   ],
   "source": [
    "# 這裡\\n表示開始新的一行\n",
    "print('C:\\some\\name')  "
   ]
  },
  {
   "cell_type": "code",
   "execution_count": 6,
   "metadata": {},
   "outputs": [
    {
     "output_type": "stream",
     "name": "stdout",
     "text": [
      "C:\\some\\name\n"
     ]
    }
   ],
   "source": [
    "print('C:\\\\some\\\\name')"
   ]
  },
  {
   "cell_type": "code",
   "execution_count": 7,
   "metadata": {},
   "outputs": [
    {
     "output_type": "stream",
     "name": "stdout",
     "text": [
      "C:\\some\\name\n"
     ]
    }
   ],
   "source": [
    "# r前置字元代表純路徑\n",
    "print(r'C:\\some\\name')  "
   ]
  },
  {
   "source": [
    "### 字串相加：使用「+」串接兩個字串"
   ],
   "cell_type": "markdown",
   "metadata": {}
  },
  {
   "cell_type": "code",
   "execution_count": 8,
   "metadata": {},
   "outputs": [
    {
     "output_type": "stream",
     "name": "stdout",
     "text": [
      "HelloWorld\n"
     ]
    }
   ],
   "source": [
    "print(\"Hello\" + \"World\")"
   ]
  },
  {
   "source": [
    "### 重複字串：使用「*」將字串乘上某個數字，代表重複幾次"
   ],
   "cell_type": "markdown",
   "metadata": {}
  },
  {
   "cell_type": "code",
   "execution_count": 9,
   "metadata": {},
   "outputs": [
    {
     "output_type": "stream",
     "name": "stdout",
     "text": [
      "HiHiHi\n"
     ]
    }
   ],
   "source": [
    "print(\"Hi\" * 3)"
   ]
  },
  {
   "source": [
    "### 取出部分內容"
   ],
   "cell_type": "markdown",
   "metadata": {}
  },
  {
   "cell_type": "code",
   "execution_count": 10,
   "metadata": {},
   "outputs": [
    {
     "output_type": "stream",
     "name": "stdout",
     "text": [
      "Hello W\n"
     ]
    }
   ],
   "source": [
    "# 起始編號從零開始\n",
    "print(\"Hello World\"[0:7]) "
   ]
  },
  {
   "source": [
    "### 計算字串長度"
   ],
   "cell_type": "markdown",
   "metadata": {}
  },
  {
   "cell_type": "code",
   "execution_count": 11,
   "metadata": {},
   "outputs": [
    {
     "output_type": "stream",
     "name": "stdout",
     "text": [
      "11\n"
     ]
    }
   ],
   "source": [
    "print(len(\"Hello World\"))"
   ]
  },
  {
   "source": [
    "## 數字\n",
    "數字(number)可以進行數學運算或設值"
   ],
   "cell_type": "markdown",
   "metadata": {}
  },
  {
   "source": [
    "### 查看不同型別的資料種類"
   ],
   "cell_type": "markdown",
   "metadata": {}
  },
  {
   "cell_type": "code",
   "execution_count": 12,
   "metadata": {},
   "outputs": [
    {
     "output_type": "stream",
     "name": "stdout",
     "text": [
      "<class 'int'>\n<class 'float'>\n"
     ]
    }
   ],
   "source": [
    "print(type(1))\n",
    "print(type(1.0))"
   ]
  },
  {
   "source": [
    "### 綜合應用"
   ],
   "cell_type": "markdown",
   "metadata": {}
  },
  {
   "cell_type": "code",
   "execution_count": 13,
   "metadata": {},
   "outputs": [
    {
     "output_type": "stream",
     "name": "stdout",
     "text": [
      "0\n1.9\n1\n0\n1.0\n"
     ]
    }
   ],
   "source": [
    "print(str(0))\n",
    "print(str(1.9))\n",
    "print(int(1.9)) # 會無條件省略小數部分\n",
    "print(int(\"0\")) # int(\"hello\")則會顯示錯誤\n",
    "print(float(1)) # float(\"hello\")或float(1+2j)則會顯示錯誤"
   ]
  },
  {
   "cell_type": "code",
   "execution_count": 14,
   "metadata": {},
   "outputs": [
    {
     "output_type": "stream",
     "name": "stdout",
     "text": [
      "<class 'str'>\n<class 'str'>\n<class 'int'>\n<class 'int'>\n<class 'float'>\n"
     ]
    }
   ],
   "source": [
    "print(type(str(0)))\n",
    "print(type(str(1.9)))\n",
    "print(type(int(1.9)))\n",
    "print(type(int(\"0\")))\n",
    "print(type(float(1)))"
   ]
  },
  {
   "source": [
    "### 在print()內，進行簡單運算"
   ],
   "cell_type": "markdown",
   "metadata": {}
  },
  {
   "cell_type": "code",
   "execution_count": 15,
   "metadata": {},
   "outputs": [
    {
     "output_type": "stream",
     "name": "stdout",
     "text": [
      "3\n-1\n10\n1.2857142857142858\n-8\n3\n9\n1\n2\n"
     ]
    }
   ],
   "source": [
    "print(1+2)\n",
    "print(3-4)\n",
    "print(5*2)\n",
    "print(9/7)\n",
    "print((1+3)*(2-4))\n",
    "print(1+3*2-4) # 電腦會自動判斷先乘除後加減\n",
    "print(3**2) # 三的二次方\n",
    "print(5//3) # 除法求商\n",
    "print(5%3) # 除法求餘"
   ]
  },
  {
   "source": [
    "## 變數"
   ],
   "cell_type": "markdown",
   "metadata": {}
  },
  {
   "source": [
    "### 宣告變數"
   ],
   "cell_type": "markdown",
   "metadata": {}
  },
  {
   "cell_type": "code",
   "execution_count": 16,
   "metadata": {},
   "outputs": [
    {
     "output_type": "stream",
     "name": "stdout",
     "text": [
      "7\n"
     ]
    }
   ],
   "source": [
    "a = 7\n",
    "print(a)"
   ]
  },
  {
   "source": [
    "### 使變數重新賦值"
   ],
   "cell_type": "markdown",
   "metadata": {}
  },
  {
   "cell_type": "code",
   "execution_count": 17,
   "metadata": {},
   "outputs": [
    {
     "output_type": "stream",
     "name": "stdout",
     "text": [
      "21\n35\n"
     ]
    }
   ],
   "source": [
    "a = 7 \n",
    "print(a*3) # 進行基本運算\n",
    "\n",
    "# 重新賦值\n",
    "a = a*5 \n",
    "print(a)"
   ]
  }
 ]
}