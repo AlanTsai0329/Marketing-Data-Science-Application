{
 "metadata": {
  "language_info": {
   "codemirror_mode": {
    "name": "ipython",
    "version": 3
   },
   "file_extension": ".py",
   "mimetype": "text/x-python",
   "name": "python",
   "nbconvert_exporter": "python",
   "pygments_lexer": "ipython3",
   "version": "3.7.7"
  },
  "orig_nbformat": 2,
  "kernelspec": {
   "name": "python377jvsc74a57bd017f2ce44bac20d6eeee1e2d5412832c660463c83b55cd2014f071e9a7bf66530",
   "display_name": "Python 3.7.7 64-bit"
  }
 },
 "nbformat": 4,
 "nbformat_minor": 2,
 "cells": [
  {
   "source": [
    "# `Function方法操作-模組化商務程式的整合者`\n",
    "### 作者：徐子皓、黃鈺淇\n",
    "***"
   ],
   "cell_type": "markdown",
   "metadata": {}
  },
  {
   "source": [
    "## 撰寫架構"
   ],
   "cell_type": "markdown",
   "metadata": {}
  },
  {
   "source": [
    "# 僅為架構展示，勿執行\n",
    "def Function_Name(Parameter):\n",
    "    \" Introduction \"\n",
    "    Main Code\n",
    "    return output"
   ],
   "cell_type": "code",
   "metadata": {},
   "execution_count": null,
   "outputs": []
  },
  {
   "source": [
    "## 操作案例"
   ],
   "cell_type": "markdown",
   "metadata": {}
  },
  {
   "source": [
    "### 創建模組"
   ],
   "cell_type": "markdown",
   "metadata": {}
  },
  {
   "cell_type": "code",
   "execution_count": 1,
   "metadata": {},
   "outputs": [],
   "source": [
    "def sum_three(a,b,c):\n",
    "    \"\"\"\n",
    "    This function will sum all the numbers in the parameter.\n",
    "    \"\"\"\n",
    "    output = a + b + c\n",
    "    print('sum =',output)\n",
    "    return output"
   ]
  },
  {
   "source": [
    "### 使用模組"
   ],
   "cell_type": "markdown",
   "metadata": {}
  },
  {
   "cell_type": "code",
   "execution_count": 2,
   "metadata": {},
   "outputs": [
    {
     "output_type": "stream",
     "name": "stdout",
     "text": [
      "sum = 18\n"
     ]
    },
    {
     "output_type": "execute_result",
     "data": {
      "text/plain": [
       "18"
      ]
     },
     "metadata": {},
     "execution_count": 2
    }
   ],
   "source": [
    "sum_three(3,6,9)"
   ]
  },
  {
   "source": [
    "### 創建具有預設值的模組"
   ],
   "cell_type": "markdown",
   "metadata": {}
  },
  {
   "cell_type": "code",
   "execution_count": 3,
   "metadata": {},
   "outputs": [
    {
     "output_type": "stream",
     "name": "stdout",
     "text": [
      "sum = 12\n"
     ]
    },
    {
     "output_type": "execute_result",
     "data": {
      "text/plain": [
       "12"
      ]
     },
     "metadata": {},
     "execution_count": 3
    }
   ],
   "source": [
    "# 創建\n",
    "def sum_three(a=1,b=2,c=3):\n",
    "    \"\"\"\n",
    "    This function will sum all the numbers in the parameter.\n",
    "    \"\"\"\n",
    "    output = a + b + c\n",
    "    print('sum =',output)\n",
    "    return output\n",
    "# 使用\n",
    "sum_three(3,6) "
   ]
  }
 ]
}