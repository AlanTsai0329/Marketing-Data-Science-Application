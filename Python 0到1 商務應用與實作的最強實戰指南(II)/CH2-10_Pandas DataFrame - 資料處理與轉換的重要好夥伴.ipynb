{
 "metadata": {
  "language_info": {
   "codemirror_mode": {
    "name": "ipython",
    "version": 3
   },
   "file_extension": ".py",
   "mimetype": "text/x-python",
   "name": "python",
   "nbconvert_exporter": "python",
   "pygments_lexer": "ipython3",
   "version": "3.7.7"
  },
  "orig_nbformat": 2,
  "kernelspec": {
   "name": "python377jvsc74a57bd017f2ce44bac20d6eeee1e2d5412832c660463c83b55cd2014f071e9a7bf66530",
   "display_name": "Python 3.7.7 64-bit ('new': conda)"
  }
 },
 "nbformat": 4,
 "nbformat_minor": 2,
 "cells": [
  {
   "source": [
    "# `Pandas DataFrame - 資料處理與轉換的重要好夥伴`\n",
    "### 作者：徐子皓\n",
    "***"
   ],
   "cell_type": "markdown",
   "metadata": {}
  },
  {
   "source": [
    "## 基本操作"
   ],
   "cell_type": "markdown",
   "metadata": {}
  },
  {
   "source": [
    "### 導入pandas套件包、原始資料集"
   ],
   "cell_type": "markdown",
   "metadata": {}
  },
  {
   "cell_type": "code",
   "execution_count": 1,
   "metadata": {},
   "outputs": [
    {
     "output_type": "execute_result",
     "data": {
      "text/plain": [
       "     tid  uid product  quantity  price\n",
       "0  T0001    1   lemon         5  12.40\n",
       "1  T0002    5  banana         6  42.16\n",
       "2  T0003    4  orange         4   6.20\n",
       "3  T0003    3  cherry         3  74.40\n",
       "4  T0003    3   guava         2  24.80\n",
       "5  T0004    2  banana        10  42.16\n",
       "6  T0004    2  orange         5   6.20\n",
       "7  T0004    2   guava         2  24.80\n",
       "8  T0005    5  orange         4   6.20\n",
       "9  T0005    5   lemon         5  12.40"
      ],
      "text/html": "<div>\n<style scoped>\n    .dataframe tbody tr th:only-of-type {\n        vertical-align: middle;\n    }\n\n    .dataframe tbody tr th {\n        vertical-align: top;\n    }\n\n    .dataframe thead th {\n        text-align: right;\n    }\n</style>\n<table border=\"1\" class=\"dataframe\">\n  <thead>\n    <tr style=\"text-align: right;\">\n      <th></th>\n      <th>tid</th>\n      <th>uid</th>\n      <th>product</th>\n      <th>quantity</th>\n      <th>price</th>\n    </tr>\n  </thead>\n  <tbody>\n    <tr>\n      <th>0</th>\n      <td>T0001</td>\n      <td>1</td>\n      <td>lemon</td>\n      <td>5</td>\n      <td>12.40</td>\n    </tr>\n    <tr>\n      <th>1</th>\n      <td>T0002</td>\n      <td>5</td>\n      <td>banana</td>\n      <td>6</td>\n      <td>42.16</td>\n    </tr>\n    <tr>\n      <th>2</th>\n      <td>T0003</td>\n      <td>4</td>\n      <td>orange</td>\n      <td>4</td>\n      <td>6.20</td>\n    </tr>\n    <tr>\n      <th>3</th>\n      <td>T0003</td>\n      <td>3</td>\n      <td>cherry</td>\n      <td>3</td>\n      <td>74.40</td>\n    </tr>\n    <tr>\n      <th>4</th>\n      <td>T0003</td>\n      <td>3</td>\n      <td>guava</td>\n      <td>2</td>\n      <td>24.80</td>\n    </tr>\n    <tr>\n      <th>5</th>\n      <td>T0004</td>\n      <td>2</td>\n      <td>banana</td>\n      <td>10</td>\n      <td>42.16</td>\n    </tr>\n    <tr>\n      <th>6</th>\n      <td>T0004</td>\n      <td>2</td>\n      <td>orange</td>\n      <td>5</td>\n      <td>6.20</td>\n    </tr>\n    <tr>\n      <th>7</th>\n      <td>T0004</td>\n      <td>2</td>\n      <td>guava</td>\n      <td>2</td>\n      <td>24.80</td>\n    </tr>\n    <tr>\n      <th>8</th>\n      <td>T0005</td>\n      <td>5</td>\n      <td>orange</td>\n      <td>4</td>\n      <td>6.20</td>\n    </tr>\n    <tr>\n      <th>9</th>\n      <td>T0005</td>\n      <td>5</td>\n      <td>lemon</td>\n      <td>5</td>\n      <td>12.40</td>\n    </tr>\n  </tbody>\n</table>\n</div>"
     },
     "metadata": {},
     "execution_count": 1
    }
   ],
   "source": [
    "import pandas as pd\n",
    "transaction = pd.read_csv('CH2-10_transaction.csv')\n",
    "transaction"
   ]
  },
  {
   "source": [
    "### 製作字典(dictionary)格式的資料，並轉換為pandas dataframe"
   ],
   "cell_type": "markdown",
   "metadata": {}
  },
  {
   "cell_type": "code",
   "execution_count": 2,
   "metadata": {},
   "outputs": [
    {
     "output_type": "execute_result",
     "data": {
      "text/plain": [
       "{'uid': [1, 2, 3, 4, 5],\n",
       " 'name': ['Howard', 'Lily', 'Kai', 'Jojo', 'Ivan'],\n",
       " 'age': [25, 21, 35, 18, 15]}"
      ]
     },
     "metadata": {},
     "execution_count": 2
    }
   ],
   "source": [
    "data = {'uid':[1,2,3,4,5],\n",
    "        'name':['Howard','Lily','Kai',\n",
    "                'Jojo','Ivan'],\n",
    "        'age':[25,21,35,18,15]}\n",
    "data"
   ]
  },
  {
   "cell_type": "code",
   "execution_count": 3,
   "metadata": {},
   "outputs": [
    {
     "output_type": "execute_result",
     "data": {
      "text/plain": [
       "   uid    name  age\n",
       "0    1  Howard   25\n",
       "1    2    Lily   21\n",
       "2    3     Kai   35\n",
       "3    4    Jojo   18\n",
       "4    5    Ivan   15"
      ],
      "text/html": "<div>\n<style scoped>\n    .dataframe tbody tr th:only-of-type {\n        vertical-align: middle;\n    }\n\n    .dataframe tbody tr th {\n        vertical-align: top;\n    }\n\n    .dataframe thead th {\n        text-align: right;\n    }\n</style>\n<table border=\"1\" class=\"dataframe\">\n  <thead>\n    <tr style=\"text-align: right;\">\n      <th></th>\n      <th>uid</th>\n      <th>name</th>\n      <th>age</th>\n    </tr>\n  </thead>\n  <tbody>\n    <tr>\n      <th>0</th>\n      <td>1</td>\n      <td>Howard</td>\n      <td>25</td>\n    </tr>\n    <tr>\n      <th>1</th>\n      <td>2</td>\n      <td>Lily</td>\n      <td>21</td>\n    </tr>\n    <tr>\n      <th>2</th>\n      <td>3</td>\n      <td>Kai</td>\n      <td>35</td>\n    </tr>\n    <tr>\n      <th>3</th>\n      <td>4</td>\n      <td>Jojo</td>\n      <td>18</td>\n    </tr>\n    <tr>\n      <th>4</th>\n      <td>5</td>\n      <td>Ivan</td>\n      <td>15</td>\n    </tr>\n  </tbody>\n</table>\n</div>"
     },
     "metadata": {},
     "execution_count": 3
    }
   ],
   "source": [
    "member = pd.DataFrame(data)\n",
    "member"
   ]
  },
  {
   "source": [
    "### 查看資料集頭五筆資料"
   ],
   "cell_type": "markdown",
   "metadata": {}
  },
  {
   "cell_type": "code",
   "execution_count": 4,
   "metadata": {},
   "outputs": [
    {
     "output_type": "execute_result",
     "data": {
      "text/plain": [
       "   uid    name  age\n",
       "0    1  Howard   25\n",
       "1    2    Lily   21\n",
       "2    3     Kai   35\n",
       "3    4    Jojo   18\n",
       "4    5    Ivan   15"
      ],
      "text/html": "<div>\n<style scoped>\n    .dataframe tbody tr th:only-of-type {\n        vertical-align: middle;\n    }\n\n    .dataframe tbody tr th {\n        vertical-align: top;\n    }\n\n    .dataframe thead th {\n        text-align: right;\n    }\n</style>\n<table border=\"1\" class=\"dataframe\">\n  <thead>\n    <tr style=\"text-align: right;\">\n      <th></th>\n      <th>uid</th>\n      <th>name</th>\n      <th>age</th>\n    </tr>\n  </thead>\n  <tbody>\n    <tr>\n      <th>0</th>\n      <td>1</td>\n      <td>Howard</td>\n      <td>25</td>\n    </tr>\n    <tr>\n      <th>1</th>\n      <td>2</td>\n      <td>Lily</td>\n      <td>21</td>\n    </tr>\n    <tr>\n      <th>2</th>\n      <td>3</td>\n      <td>Kai</td>\n      <td>35</td>\n    </tr>\n    <tr>\n      <th>3</th>\n      <td>4</td>\n      <td>Jojo</td>\n      <td>18</td>\n    </tr>\n    <tr>\n      <th>4</th>\n      <td>5</td>\n      <td>Ivan</td>\n      <td>15</td>\n    </tr>\n  </tbody>\n</table>\n</div>"
     },
     "metadata": {},
     "execution_count": 4
    }
   ],
   "source": [
    "member.head()"
   ]
  },
  {
   "source": [
    "### 查看資料集特定欄位內容"
   ],
   "cell_type": "markdown",
   "metadata": {}
  },
  {
   "cell_type": "code",
   "execution_count": 5,
   "metadata": {},
   "outputs": [
    {
     "output_type": "execute_result",
     "data": {
      "text/plain": [
       "0    Howard\n",
       "1      Lily\n",
       "2       Kai\n",
       "3      Jojo\n",
       "4      Ivan\n",
       "Name: name, dtype: object"
      ]
     },
     "metadata": {},
     "execution_count": 5
    }
   ],
   "source": [
    "member['name']"
   ]
  },
  {
   "cell_type": "code",
   "execution_count": 6,
   "metadata": {},
   "outputs": [
    {
     "output_type": "execute_result",
     "data": {
      "text/plain": [
       "     name  age\n",
       "0  Howard   25\n",
       "1    Lily   21\n",
       "2     Kai   35\n",
       "3    Jojo   18\n",
       "4    Ivan   15"
      ],
      "text/html": "<div>\n<style scoped>\n    .dataframe tbody tr th:only-of-type {\n        vertical-align: middle;\n    }\n\n    .dataframe tbody tr th {\n        vertical-align: top;\n    }\n\n    .dataframe thead th {\n        text-align: right;\n    }\n</style>\n<table border=\"1\" class=\"dataframe\">\n  <thead>\n    <tr style=\"text-align: right;\">\n      <th></th>\n      <th>name</th>\n      <th>age</th>\n    </tr>\n  </thead>\n  <tbody>\n    <tr>\n      <th>0</th>\n      <td>Howard</td>\n      <td>25</td>\n    </tr>\n    <tr>\n      <th>1</th>\n      <td>Lily</td>\n      <td>21</td>\n    </tr>\n    <tr>\n      <th>2</th>\n      <td>Kai</td>\n      <td>35</td>\n    </tr>\n    <tr>\n      <th>3</th>\n      <td>Jojo</td>\n      <td>18</td>\n    </tr>\n    <tr>\n      <th>4</th>\n      <td>Ivan</td>\n      <td>15</td>\n    </tr>\n  </tbody>\n</table>\n</div>"
     },
     "metadata": {},
     "execution_count": 6
    }
   ],
   "source": [
    "member[ ['name','age'] ]"
   ]
  },
  {
   "source": [
    "### 基本統計指標"
   ],
   "cell_type": "markdown",
   "metadata": {}
  },
  {
   "cell_type": "code",
   "execution_count": 7,
   "metadata": {},
   "outputs": [
    {
     "output_type": "execute_result",
     "data": {
      "text/plain": [
       "22.8"
      ]
     },
     "metadata": {},
     "execution_count": 7
    }
   ],
   "source": [
    "# 取平均\n",
    "member['age'].mean() "
   ]
  },
  {
   "cell_type": "code",
   "execution_count": 8,
   "metadata": {},
   "outputs": [
    {
     "output_type": "execute_result",
     "data": {
      "text/plain": [
       "count     5.000000\n",
       "mean     22.800000\n",
       "std       7.758866\n",
       "min      15.000000\n",
       "25%      18.000000\n",
       "50%      21.000000\n",
       "75%      25.000000\n",
       "max      35.000000\n",
       "Name: age, dtype: float64"
      ]
     },
     "metadata": {},
     "execution_count": 8
    }
   ],
   "source": [
    "# 完整統計指標\n",
    "member['age'].describe()"
   ]
  },
  {
   "source": [
    "## 資料排序"
   ],
   "cell_type": "markdown",
   "metadata": {}
  },
  {
   "source": [
    "### 遞增排序"
   ],
   "cell_type": "markdown",
   "metadata": {}
  },
  {
   "cell_type": "code",
   "execution_count": 9,
   "metadata": {},
   "outputs": [
    {
     "output_type": "execute_result",
     "data": {
      "text/plain": [
       "4    15\n",
       "3    18\n",
       "1    21\n",
       "0    25\n",
       "2    35\n",
       "Name: age, dtype: int64"
      ]
     },
     "metadata": {},
     "execution_count": 9
    }
   ],
   "source": [
    "member['age'].sort_values()"
   ]
  },
  {
   "source": [
    "### 遞減排序"
   ],
   "cell_type": "markdown",
   "metadata": {}
  },
  {
   "cell_type": "code",
   "execution_count": 10,
   "metadata": {},
   "outputs": [
    {
     "output_type": "execute_result",
     "data": {
      "text/plain": [
       "2    35\n",
       "0    25\n",
       "1    21\n",
       "3    18\n",
       "4    15\n",
       "Name: age, dtype: int64"
      ]
     },
     "metadata": {},
     "execution_count": 10
    }
   ],
   "source": [
    "member['age'].sort_values(ascending = False)"
   ]
  },
  {
   "source": [
    "### 根據特定欄位進行排序"
   ],
   "cell_type": "markdown",
   "metadata": {}
  },
  {
   "cell_type": "code",
   "execution_count": 11,
   "metadata": {},
   "outputs": [
    {
     "output_type": "execute_result",
     "data": {
      "text/plain": [
       "   uid    name  age\n",
       "4    5    Ivan   15\n",
       "3    4    Jojo   18\n",
       "1    2    Lily   21\n",
       "0    1  Howard   25\n",
       "2    3     Kai   35"
      ],
      "text/html": "<div>\n<style scoped>\n    .dataframe tbody tr th:only-of-type {\n        vertical-align: middle;\n    }\n\n    .dataframe tbody tr th {\n        vertical-align: top;\n    }\n\n    .dataframe thead th {\n        text-align: right;\n    }\n</style>\n<table border=\"1\" class=\"dataframe\">\n  <thead>\n    <tr style=\"text-align: right;\">\n      <th></th>\n      <th>uid</th>\n      <th>name</th>\n      <th>age</th>\n    </tr>\n  </thead>\n  <tbody>\n    <tr>\n      <th>4</th>\n      <td>5</td>\n      <td>Ivan</td>\n      <td>15</td>\n    </tr>\n    <tr>\n      <th>3</th>\n      <td>4</td>\n      <td>Jojo</td>\n      <td>18</td>\n    </tr>\n    <tr>\n      <th>1</th>\n      <td>2</td>\n      <td>Lily</td>\n      <td>21</td>\n    </tr>\n    <tr>\n      <th>0</th>\n      <td>1</td>\n      <td>Howard</td>\n      <td>25</td>\n    </tr>\n    <tr>\n      <th>2</th>\n      <td>3</td>\n      <td>Kai</td>\n      <td>35</td>\n    </tr>\n  </tbody>\n</table>\n</div>"
     },
     "metadata": {},
     "execution_count": 11
    }
   ],
   "source": [
    "member.sort_values(['age'])"
   ]
  },
  {
   "source": [
    "## 進階應用"
   ],
   "cell_type": "markdown",
   "metadata": {}
  },
  {
   "source": [
    "### 刪除欄位"
   ],
   "cell_type": "markdown",
   "metadata": {}
  },
  {
   "cell_type": "code",
   "execution_count": 12,
   "metadata": {},
   "outputs": [
    {
     "output_type": "execute_result",
     "data": {
      "text/plain": [
       "     name  age\n",
       "0  Howard   25\n",
       "1    Lily   21\n",
       "2     Kai   35\n",
       "3    Jojo   18\n",
       "4    Ivan   15"
      ],
      "text/html": "<div>\n<style scoped>\n    .dataframe tbody tr th:only-of-type {\n        vertical-align: middle;\n    }\n\n    .dataframe tbody tr th {\n        vertical-align: top;\n    }\n\n    .dataframe thead th {\n        text-align: right;\n    }\n</style>\n<table border=\"1\" class=\"dataframe\">\n  <thead>\n    <tr style=\"text-align: right;\">\n      <th></th>\n      <th>name</th>\n      <th>age</th>\n    </tr>\n  </thead>\n  <tbody>\n    <tr>\n      <th>0</th>\n      <td>Howard</td>\n      <td>25</td>\n    </tr>\n    <tr>\n      <th>1</th>\n      <td>Lily</td>\n      <td>21</td>\n    </tr>\n    <tr>\n      <th>2</th>\n      <td>Kai</td>\n      <td>35</td>\n    </tr>\n    <tr>\n      <th>3</th>\n      <td>Jojo</td>\n      <td>18</td>\n    </tr>\n    <tr>\n      <th>4</th>\n      <td>Ivan</td>\n      <td>15</td>\n    </tr>\n  </tbody>\n</table>\n</div>"
     },
     "metadata": {},
     "execution_count": 12
    }
   ],
   "source": [
    "member2 = member.drop(columns=['uid'])\n",
    "member2"
   ]
  },
  {
   "source": [
    "### 判斷資料是否符合條件"
   ],
   "cell_type": "markdown",
   "metadata": {}
  },
  {
   "cell_type": "code",
   "execution_count": 13,
   "metadata": {},
   "outputs": [
    {
     "output_type": "execute_result",
     "data": {
      "text/plain": [
       "0     True\n",
       "1    False\n",
       "2    False\n",
       "3    False\n",
       "4    False\n",
       "5    False\n",
       "6    False\n",
       "7    False\n",
       "8    False\n",
       "9     True\n",
       "Name: product, dtype: bool"
      ]
     },
     "metadata": {},
     "execution_count": 13
    }
   ],
   "source": [
    "transaction['product'] == 'lemon'"
   ]
  },
  {
   "source": [
    "### 篩選符合條件的資料"
   ],
   "cell_type": "markdown",
   "metadata": {}
  },
  {
   "cell_type": "code",
   "execution_count": 14,
   "metadata": {},
   "outputs": [
    {
     "output_type": "execute_result",
     "data": {
      "text/plain": [
       "     tid  uid product  quantity  price\n",
       "0  T0001    1   lemon         5   12.4\n",
       "9  T0005    5   lemon         5   12.4"
      ],
      "text/html": "<div>\n<style scoped>\n    .dataframe tbody tr th:only-of-type {\n        vertical-align: middle;\n    }\n\n    .dataframe tbody tr th {\n        vertical-align: top;\n    }\n\n    .dataframe thead th {\n        text-align: right;\n    }\n</style>\n<table border=\"1\" class=\"dataframe\">\n  <thead>\n    <tr style=\"text-align: right;\">\n      <th></th>\n      <th>tid</th>\n      <th>uid</th>\n      <th>product</th>\n      <th>quantity</th>\n      <th>price</th>\n    </tr>\n  </thead>\n  <tbody>\n    <tr>\n      <th>0</th>\n      <td>T0001</td>\n      <td>1</td>\n      <td>lemon</td>\n      <td>5</td>\n      <td>12.4</td>\n    </tr>\n    <tr>\n      <th>9</th>\n      <td>T0005</td>\n      <td>5</td>\n      <td>lemon</td>\n      <td>5</td>\n      <td>12.4</td>\n    </tr>\n  </tbody>\n</table>\n</div>"
     },
     "metadata": {},
     "execution_count": 14
    }
   ],
   "source": [
    "transaction[transaction['product'] == 'lemon']"
   ]
  },
  {
   "source": [
    "### 將資料集轉換回串列型態"
   ],
   "cell_type": "markdown",
   "metadata": {}
  },
  {
   "cell_type": "code",
   "execution_count": 15,
   "metadata": {},
   "outputs": [
    {
     "output_type": "execute_result",
     "data": {
      "text/plain": [
       "[[1, 'Howard', 25],\n",
       " [2, 'Lily', 21],\n",
       " [3, 'Kai', 35],\n",
       " [4, 'Jojo', 18],\n",
       " [5, 'Ivan', 15]]"
      ]
     },
     "metadata": {},
     "execution_count": 15
    }
   ],
   "source": [
    "member.values.tolist()"
   ]
  }
 ]
}