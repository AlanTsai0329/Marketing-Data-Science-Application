{
 "metadata": {
  "language_info": {
   "codemirror_mode": {
    "name": "ipython",
    "version": 3
   },
   "file_extension": ".py",
   "mimetype": "text/x-python",
   "name": "python",
   "nbconvert_exporter": "python",
   "pygments_lexer": "ipython3",
   "version": "3.7.9"
  },
  "orig_nbformat": 2,
  "kernelspec": {
   "name": "python379jvsc74a57bd05d87b42201e74ac320bc00dce267d44f5f134edfec9046f67f672f289707ff6a",
   "display_name": "Python 3.7.9 64-bit"
  },
  "metadata": {
   "interpreter": {
    "hash": "5d87b42201e74ac320bc00dce267d44f5f134edfec9046f67f672f289707ff6a"
   }
  }
 },
 "nbformat": 4,
 "nbformat_minor": 2,
 "cells": [
  {
   "source": [
    "# `卡方檢定 - Python實戰：商務資料結構整理`\n",
    "作者：徐子皓\n",
    "***"
   ],
   "cell_type": "markdown",
   "metadata": {}
  },
  {
   "source": [
    "## 基礎資料整理"
   ],
   "cell_type": "markdown",
   "metadata": {}
  },
  {
   "source": [
    "### 讀取資料集，挑選出系列1的資料"
   ],
   "cell_type": "markdown",
   "metadata": {}
  },
  {
   "cell_type": "code",
   "execution_count": 1,
   "metadata": {},
   "outputs": [
    {
     "output_type": "execute_result",
     "data": {
      "text/plain": [
       "                  顏色        單價       成本   系列      產品                 訂單時間  \\\n",
       "74181   whitetrigray   613.585  450.730  系列1  產品1-11  2016-01-02T14:16:32   \n",
       "74182   trigrayblack   651.420  481.985  系列1  產品1-11  2016-01-02T14:16:32   \n",
       "74183  watermelonred   713.930  416.185  系列1  產品1-12  2016-01-03T12:25:18   \n",
       "74184       jeanblue   768.215  452.375  系列1  產品1-12  2016-01-03T12:25:18   \n",
       "74185       navyblue  1138.340  697.480  系列1  產品1-13  2016-01-03T12:25:18   \n",
       "\n",
       "                會員      性別    年紀           廣告代號all 尺寸    訂單編號  \n",
       "74181  L_CBY_00946  FEMALE  32.0  廣告_critei_critei  L  187164  \n",
       "74182  L_CBY_00946  FEMALE  32.0  廣告_critei_critei  L  240855  \n",
       "74183  B_GSJ_67478  FEMALE  26.0           廣告_自然流量  M  241008  \n",
       "74184  B_GSJ_67478  FEMALE  26.0           廣告_自然流量  M  400758  \n",
       "74185  B_GSJ_67478  FEMALE  26.0           廣告_自然流量  L  457533  "
      ],
      "text/html": "<div>\n<style scoped>\n    .dataframe tbody tr th:only-of-type {\n        vertical-align: middle;\n    }\n\n    .dataframe tbody tr th {\n        vertical-align: top;\n    }\n\n    .dataframe thead th {\n        text-align: right;\n    }\n</style>\n<table border=\"1\" class=\"dataframe\">\n  <thead>\n    <tr style=\"text-align: right;\">\n      <th></th>\n      <th>顏色</th>\n      <th>單價</th>\n      <th>成本</th>\n      <th>系列</th>\n      <th>產品</th>\n      <th>訂單時間</th>\n      <th>會員</th>\n      <th>性別</th>\n      <th>年紀</th>\n      <th>廣告代號all</th>\n      <th>尺寸</th>\n      <th>訂單編號</th>\n    </tr>\n  </thead>\n  <tbody>\n    <tr>\n      <th>74181</th>\n      <td>whitetrigray</td>\n      <td>613.585</td>\n      <td>450.730</td>\n      <td>系列1</td>\n      <td>產品1-11</td>\n      <td>2016-01-02T14:16:32</td>\n      <td>L_CBY_00946</td>\n      <td>FEMALE</td>\n      <td>32.0</td>\n      <td>廣告_critei_critei</td>\n      <td>L</td>\n      <td>187164</td>\n    </tr>\n    <tr>\n      <th>74182</th>\n      <td>trigrayblack</td>\n      <td>651.420</td>\n      <td>481.985</td>\n      <td>系列1</td>\n      <td>產品1-11</td>\n      <td>2016-01-02T14:16:32</td>\n      <td>L_CBY_00946</td>\n      <td>FEMALE</td>\n      <td>32.0</td>\n      <td>廣告_critei_critei</td>\n      <td>L</td>\n      <td>240855</td>\n    </tr>\n    <tr>\n      <th>74183</th>\n      <td>watermelonred</td>\n      <td>713.930</td>\n      <td>416.185</td>\n      <td>系列1</td>\n      <td>產品1-12</td>\n      <td>2016-01-03T12:25:18</td>\n      <td>B_GSJ_67478</td>\n      <td>FEMALE</td>\n      <td>26.0</td>\n      <td>廣告_自然流量</td>\n      <td>M</td>\n      <td>241008</td>\n    </tr>\n    <tr>\n      <th>74184</th>\n      <td>jeanblue</td>\n      <td>768.215</td>\n      <td>452.375</td>\n      <td>系列1</td>\n      <td>產品1-12</td>\n      <td>2016-01-03T12:25:18</td>\n      <td>B_GSJ_67478</td>\n      <td>FEMALE</td>\n      <td>26.0</td>\n      <td>廣告_自然流量</td>\n      <td>M</td>\n      <td>400758</td>\n    </tr>\n    <tr>\n      <th>74185</th>\n      <td>navyblue</td>\n      <td>1138.340</td>\n      <td>697.480</td>\n      <td>系列1</td>\n      <td>產品1-13</td>\n      <td>2016-01-03T12:25:18</td>\n      <td>B_GSJ_67478</td>\n      <td>FEMALE</td>\n      <td>26.0</td>\n      <td>廣告_自然流量</td>\n      <td>L</td>\n      <td>457533</td>\n    </tr>\n  </tbody>\n</table>\n</div>"
     },
     "metadata": {},
     "execution_count": 1
    }
   ],
   "source": [
    "import pandas as pd\n",
    "data = pd.read_csv('電商交易資料.csv', encoding = 'utf-8-sig')\n",
    "data = data[data['系列']=='系列1']\n",
    "data.head()"
   ]
  },
  {
   "source": [
    "### 挑選出廣告系列名稱"
   ],
   "cell_type": "markdown",
   "metadata": {}
  },
  {
   "cell_type": "code",
   "execution_count": 2,
   "metadata": {},
   "outputs": [
    {
     "output_type": "execute_result",
     "data": {
      "text/plain": [
       "74181    critei\n",
       "74182    critei\n",
       "74183      自然流量\n",
       "74184      自然流量\n",
       "74185      自然流量\n",
       "74186      自然流量\n",
       "74187      自然流量\n",
       "74188      自然流量\n",
       "74189      自然流量\n",
       "74190      自然流量\n",
       "Name: 廣告代號, dtype: object"
      ]
     },
     "metadata": {},
     "execution_count": 2
    }
   ],
   "source": [
    "data['廣告代號'] = data['廣告代號all'].str.split('_', expand=True)[1].tolist()\n",
    "data['廣告代號'][:10]"
   ]
  },
  {
   "source": [
    "### 保留所需欄位，刪除遺失值"
   ],
   "cell_type": "markdown",
   "metadata": {}
  },
  {
   "cell_type": "code",
   "execution_count": 3,
   "metadata": {},
   "outputs": [
    {
     "output_type": "execute_result",
     "data": {
      "text/plain": [
       "          廣告代號      性別\n",
       "74181   critei  FEMALE\n",
       "74182   critei  FEMALE\n",
       "74183     自然流量  FEMALE\n",
       "74184     自然流量  FEMALE\n",
       "74185     自然流量  FEMALE\n",
       "...        ...     ...\n",
       "103313    自然流量    MALE\n",
       "103314    自然流量    MALE\n",
       "103315    自然流量    MALE\n",
       "103316    自然流量    MALE\n",
       "103317    自然流量    MALE\n",
       "\n",
       "[26489 rows x 2 columns]"
      ],
      "text/html": "<div>\n<style scoped>\n    .dataframe tbody tr th:only-of-type {\n        vertical-align: middle;\n    }\n\n    .dataframe tbody tr th {\n        vertical-align: top;\n    }\n\n    .dataframe thead th {\n        text-align: right;\n    }\n</style>\n<table border=\"1\" class=\"dataframe\">\n  <thead>\n    <tr style=\"text-align: right;\">\n      <th></th>\n      <th>廣告代號</th>\n      <th>性別</th>\n    </tr>\n  </thead>\n  <tbody>\n    <tr>\n      <th>74181</th>\n      <td>critei</td>\n      <td>FEMALE</td>\n    </tr>\n    <tr>\n      <th>74182</th>\n      <td>critei</td>\n      <td>FEMALE</td>\n    </tr>\n    <tr>\n      <th>74183</th>\n      <td>自然流量</td>\n      <td>FEMALE</td>\n    </tr>\n    <tr>\n      <th>74184</th>\n      <td>自然流量</td>\n      <td>FEMALE</td>\n    </tr>\n    <tr>\n      <th>74185</th>\n      <td>自然流量</td>\n      <td>FEMALE</td>\n    </tr>\n    <tr>\n      <th>...</th>\n      <td>...</td>\n      <td>...</td>\n    </tr>\n    <tr>\n      <th>103313</th>\n      <td>自然流量</td>\n      <td>MALE</td>\n    </tr>\n    <tr>\n      <th>103314</th>\n      <td>自然流量</td>\n      <td>MALE</td>\n    </tr>\n    <tr>\n      <th>103315</th>\n      <td>自然流量</td>\n      <td>MALE</td>\n    </tr>\n    <tr>\n      <th>103316</th>\n      <td>自然流量</td>\n      <td>MALE</td>\n    </tr>\n    <tr>\n      <th>103317</th>\n      <td>自然流量</td>\n      <td>MALE</td>\n    </tr>\n  </tbody>\n</table>\n<p>26489 rows × 2 columns</p>\n</div>"
     },
     "metadata": {},
     "execution_count": 3
    }
   ],
   "source": [
    "data = data[['廣告代號', '性別']] # 保留所需欄位\n",
    "data = data.dropna() # 刪除遺失值\n",
    "data"
   ]
  },
  {
   "cell_type": "code",
   "execution_count": 4,
   "metadata": {},
   "outputs": [
    {
     "output_type": "execute_result",
     "data": {
      "text/plain": [
       "         廣告代號      性別\n",
       "0      critei  FEMALE\n",
       "1      critei  FEMALE\n",
       "2        自然流量  FEMALE\n",
       "3        自然流量  FEMALE\n",
       "4        自然流量  FEMALE\n",
       "...       ...     ...\n",
       "26484    自然流量    MALE\n",
       "26485    自然流量    MALE\n",
       "26486    自然流量    MALE\n",
       "26487    自然流量    MALE\n",
       "26488    自然流量    MALE\n",
       "\n",
       "[26489 rows x 2 columns]"
      ],
      "text/html": "<div>\n<style scoped>\n    .dataframe tbody tr th:only-of-type {\n        vertical-align: middle;\n    }\n\n    .dataframe tbody tr th {\n        vertical-align: top;\n    }\n\n    .dataframe thead th {\n        text-align: right;\n    }\n</style>\n<table border=\"1\" class=\"dataframe\">\n  <thead>\n    <tr style=\"text-align: right;\">\n      <th></th>\n      <th>廣告代號</th>\n      <th>性別</th>\n    </tr>\n  </thead>\n  <tbody>\n    <tr>\n      <th>0</th>\n      <td>critei</td>\n      <td>FEMALE</td>\n    </tr>\n    <tr>\n      <th>1</th>\n      <td>critei</td>\n      <td>FEMALE</td>\n    </tr>\n    <tr>\n      <th>2</th>\n      <td>自然流量</td>\n      <td>FEMALE</td>\n    </tr>\n    <tr>\n      <th>3</th>\n      <td>自然流量</td>\n      <td>FEMALE</td>\n    </tr>\n    <tr>\n      <th>4</th>\n      <td>自然流量</td>\n      <td>FEMALE</td>\n    </tr>\n    <tr>\n      <th>...</th>\n      <td>...</td>\n      <td>...</td>\n    </tr>\n    <tr>\n      <th>26484</th>\n      <td>自然流量</td>\n      <td>MALE</td>\n    </tr>\n    <tr>\n      <th>26485</th>\n      <td>自然流量</td>\n      <td>MALE</td>\n    </tr>\n    <tr>\n      <th>26486</th>\n      <td>自然流量</td>\n      <td>MALE</td>\n    </tr>\n    <tr>\n      <th>26487</th>\n      <td>自然流量</td>\n      <td>MALE</td>\n    </tr>\n    <tr>\n      <th>26488</th>\n      <td>自然流量</td>\n      <td>MALE</td>\n    </tr>\n  </tbody>\n</table>\n<p>26489 rows × 2 columns</p>\n</div>"
     },
     "metadata": {},
     "execution_count": 4
    }
   ],
   "source": [
    "data = data.reset_index(drop=True)\n",
    "data"
   ]
  },
  {
   "source": [
    "## 進階資料整理"
   ],
   "cell_type": "markdown",
   "metadata": {}
  },
  {
   "source": [
    "### 計算廣告頻率"
   ],
   "cell_type": "markdown",
   "metadata": {}
  },
  {
   "cell_type": "code",
   "execution_count": 5,
   "metadata": {},
   "outputs": [],
   "source": [
    "from collections import Counter\n",
    "frequency_count = Counter(data['廣告代號'])"
   ]
  },
  {
   "source": [
    "### 製作廣告頻率表"
   ],
   "cell_type": "markdown",
   "metadata": {}
  },
  {
   "cell_type": "code",
   "execution_count": 6,
   "metadata": {},
   "outputs": [
    {
     "output_type": "execute_result",
     "data": {
      "text/plain": [
       "     廣告名稱     頻率\n",
       "0  critei   2145\n",
       "1    自然流量  11430\n",
       "2     B2K      3\n",
       "3    ikip    735\n",
       "4   qdwit    103"
      ],
      "text/html": "<div>\n<style scoped>\n    .dataframe tbody tr th:only-of-type {\n        vertical-align: middle;\n    }\n\n    .dataframe tbody tr th {\n        vertical-align: top;\n    }\n\n    .dataframe thead th {\n        text-align: right;\n    }\n</style>\n<table border=\"1\" class=\"dataframe\">\n  <thead>\n    <tr style=\"text-align: right;\">\n      <th></th>\n      <th>廣告名稱</th>\n      <th>頻率</th>\n    </tr>\n  </thead>\n  <tbody>\n    <tr>\n      <th>0</th>\n      <td>critei</td>\n      <td>2145</td>\n    </tr>\n    <tr>\n      <th>1</th>\n      <td>自然流量</td>\n      <td>11430</td>\n    </tr>\n    <tr>\n      <th>2</th>\n      <td>B2K</td>\n      <td>3</td>\n    </tr>\n    <tr>\n      <th>3</th>\n      <td>ikip</td>\n      <td>735</td>\n    </tr>\n    <tr>\n      <th>4</th>\n      <td>qdwit</td>\n      <td>103</td>\n    </tr>\n  </tbody>\n</table>\n</div>"
     },
     "metadata": {},
     "execution_count": 6
    }
   ],
   "source": [
    "key = list(frequency_count.keys()) # 取出廣告名稱\n",
    "value = list(frequency_count.values()) # 取出廣告頻率\n",
    "frequency_table = pd.DataFrame(zip(key,value), columns=['廣告名稱','頻率'])\n",
    "frequency_table.head()"
   ]
  },
  {
   "source": [
    "### 根據廣告頻率，由大至小排序"
   ],
   "cell_type": "markdown",
   "metadata": {}
  },
  {
   "cell_type": "code",
   "execution_count": 7,
   "metadata": {},
   "outputs": [
    {
     "output_type": "execute_result",
     "data": {
      "text/plain": [
       "      廣告名稱     頻率\n",
       "1     自然流量  11430\n",
       "11     KDP   4118\n",
       "0   critei   2145\n",
       "6    KDPOD   1660\n",
       "24   B2KMP    864"
      ],
      "text/html": "<div>\n<style scoped>\n    .dataframe tbody tr th:only-of-type {\n        vertical-align: middle;\n    }\n\n    .dataframe tbody tr th {\n        vertical-align: top;\n    }\n\n    .dataframe thead th {\n        text-align: right;\n    }\n</style>\n<table border=\"1\" class=\"dataframe\">\n  <thead>\n    <tr style=\"text-align: right;\">\n      <th></th>\n      <th>廣告名稱</th>\n      <th>頻率</th>\n    </tr>\n  </thead>\n  <tbody>\n    <tr>\n      <th>1</th>\n      <td>自然流量</td>\n      <td>11430</td>\n    </tr>\n    <tr>\n      <th>11</th>\n      <td>KDP</td>\n      <td>4118</td>\n    </tr>\n    <tr>\n      <th>0</th>\n      <td>critei</td>\n      <td>2145</td>\n    </tr>\n    <tr>\n      <th>6</th>\n      <td>KDPOD</td>\n      <td>1660</td>\n    </tr>\n    <tr>\n      <th>24</th>\n      <td>B2KMP</td>\n      <td>864</td>\n    </tr>\n  </tbody>\n</table>\n</div>"
     },
     "metadata": {},
     "execution_count": 7
    }
   ],
   "source": [
    "frequency_table = frequency_table.sort_values(by = '頻率', ascending = False)\n",
    "frequency_table.head()"
   ]
  },
  {
   "source": [
    "### 取出前三主力廣告"
   ],
   "cell_type": "markdown",
   "metadata": {}
  },
  {
   "cell_type": "code",
   "execution_count": 8,
   "metadata": {},
   "outputs": [
    {
     "output_type": "stream",
     "name": "stdout",
     "text": [
      "前三主力廣告為： ['KDP', 'critei', 'KDPOD']\n"
     ]
    }
   ],
   "source": [
    "frequency_table = frequency_table[frequency_table['廣告名稱']!='自然流量']\n",
    "ad_name = frequency_table['廣告名稱'].tolist()[:3]\n",
    "print('前三主力廣告為：', ad_name)"
   ]
  },
  {
   "source": [
    "### 保留內含主力廣告之資料"
   ],
   "cell_type": "markdown",
   "metadata": {}
  },
  {
   "cell_type": "code",
   "execution_count": 9,
   "metadata": {},
   "outputs": [
    {
     "output_type": "execute_result",
     "data": {
      "text/plain": [
       "      廣告代號      性別\n",
       "0   critei  FEMALE\n",
       "1   critei  FEMALE\n",
       "40  critei    MALE\n",
       "56  critei  FEMALE\n",
       "57  critei  FEMALE"
      ],
      "text/html": "<div>\n<style scoped>\n    .dataframe tbody tr th:only-of-type {\n        vertical-align: middle;\n    }\n\n    .dataframe tbody tr th {\n        vertical-align: top;\n    }\n\n    .dataframe thead th {\n        text-align: right;\n    }\n</style>\n<table border=\"1\" class=\"dataframe\">\n  <thead>\n    <tr style=\"text-align: right;\">\n      <th></th>\n      <th>廣告代號</th>\n      <th>性別</th>\n    </tr>\n  </thead>\n  <tbody>\n    <tr>\n      <th>0</th>\n      <td>critei</td>\n      <td>FEMALE</td>\n    </tr>\n    <tr>\n      <th>1</th>\n      <td>critei</td>\n      <td>FEMALE</td>\n    </tr>\n    <tr>\n      <th>40</th>\n      <td>critei</td>\n      <td>MALE</td>\n    </tr>\n    <tr>\n      <th>56</th>\n      <td>critei</td>\n      <td>FEMALE</td>\n    </tr>\n    <tr>\n      <th>57</th>\n      <td>critei</td>\n      <td>FEMALE</td>\n    </tr>\n  </tbody>\n</table>\n</div>"
     },
     "metadata": {},
     "execution_count": 9
    }
   ],
   "source": [
    "data = data[data['廣告代號'].isin(ad_name)]\n",
    "data.head()"
   ]
  },
  {
   "source": [
    "### 計算不同廣告、性別組合下的資料數量"
   ],
   "cell_type": "markdown",
   "metadata": {}
  },
  {
   "cell_type": "code",
   "execution_count": 10,
   "metadata": {},
   "outputs": [
    {
     "output_type": "stream",
     "name": "stdout",
     "text": [
      "男性， 且受廣告KDP促成的交易共有 2038 筆\n",
      "女性， 且受廣告KDP促成的交易共有 2080 筆\n",
      "男性， 且受廣告critei促成的交易共有 1106 筆\n",
      "女性， 且受廣告critei促成的交易共有 1039 筆\n",
      "男性， 且受廣告KDPOD促成的交易共有 743 筆\n",
      "女性， 且受廣告KDPOD促成的交易共有 917 筆\n",
      "C:\\Users\\user\\AppData\\Roaming\\Python\\Python37\\site-packages\\ipykernel_launcher.py:6: UserWarning: Boolean Series key will be reindexed to match DataFrame index.\n",
      "  \n",
      "C:\\Users\\user\\AppData\\Roaming\\Python\\Python37\\site-packages\\ipykernel_launcher.py:10: UserWarning: Boolean Series key will be reindexed to match DataFrame index.\n",
      "  # Remove the CWD from sys.path while we load stuff.\n"
     ]
    }
   ],
   "source": [
    "male_list = []\n",
    "female_list = []\n",
    "# 透過迴圈，依序使用不同主力廣告\n",
    "for ad in ad_name:\n",
    "    # 男性\n",
    "    male_count = len(data[data['性別']=='MALE'][data['廣告代號']==ad])\n",
    "    male_list.append(male_count)\n",
    "    print('男性，','且受廣告'+ad+'促成的交易共有', male_count, '筆')\n",
    "    # 女性\n",
    "    female_count = len(data[data['性別']=='FEMALE'][data['廣告代號']==ad])\n",
    "    female_list.append(female_count)\n",
    "    print('女性，','且受廣告'+ad+'促成的交易共有', female_count, '筆')"
   ]
  },
  {
   "source": [
    "### 製作性別－廣告交叉頻率表"
   ],
   "cell_type": "markdown",
   "metadata": {}
  },
  {
   "cell_type": "code",
   "execution_count": 11,
   "metadata": {},
   "outputs": [
    {
     "output_type": "execute_result",
     "data": {
      "text/plain": [
       "          男性    女性\n",
       "KDP     2038  2080\n",
       "critei  1106  1039\n",
       "KDPOD    743   917"
      ],
      "text/html": "<div>\n<style scoped>\n    .dataframe tbody tr th:only-of-type {\n        vertical-align: middle;\n    }\n\n    .dataframe tbody tr th {\n        vertical-align: top;\n    }\n\n    .dataframe thead th {\n        text-align: right;\n    }\n</style>\n<table border=\"1\" class=\"dataframe\">\n  <thead>\n    <tr style=\"text-align: right;\">\n      <th></th>\n      <th>男性</th>\n      <th>女性</th>\n    </tr>\n  </thead>\n  <tbody>\n    <tr>\n      <th>KDP</th>\n      <td>2038</td>\n      <td>2080</td>\n    </tr>\n    <tr>\n      <th>critei</th>\n      <td>1106</td>\n      <td>1039</td>\n    </tr>\n    <tr>\n      <th>KDPOD</th>\n      <td>743</td>\n      <td>917</td>\n    </tr>\n  </tbody>\n</table>\n</div>"
     },
     "metadata": {},
     "execution_count": 11
    }
   ],
   "source": [
    "chi_table = pd.DataFrame(zip(male_list, female_list), columns=['男性', '女性'],index=ad_name)\n",
    "chi_table"
   ]
  },
  {
   "source": [
    "***"
   ],
   "cell_type": "markdown",
   "metadata": {}
  },
  {
   "source": [
    "# `卡方檢定 - Python實戰：掌握不同系列產品推出的族群比重`\n",
    "作者：徐子皓\n",
    "***"
   ],
   "cell_type": "markdown",
   "metadata": {}
  },
  {
   "source": [
    "## 卡方檢定"
   ],
   "cell_type": "markdown",
   "metadata": {}
  },
  {
   "source": [
    "### 引入相關套件包"
   ],
   "cell_type": "markdown",
   "metadata": {}
  },
  {
   "cell_type": "code",
   "execution_count": 12,
   "metadata": {},
   "outputs": [],
   "source": [
    "import numpy as np\n",
    "import scipy.stats\n",
    "from scipy.stats import chisquare\n",
    "import plotly.graph_objs as go\n",
    "from plotly.offline import download_plotlyjs, init_notebook_mode, plot, iplot\n",
    "import plotly.express as px\n",
    "import plotly.offline as py"
   ]
  },
  {
   "source": [
    "### 進行卡方檢定"
   ],
   "cell_type": "markdown",
   "metadata": {}
  },
  {
   "cell_type": "code",
   "execution_count": 13,
   "metadata": {},
   "outputs": [
    {
     "output_type": "execute_result",
     "data": {
      "text/plain": [
       "(17.963949463715462,\n",
       " 0.0001256544684594472,\n",
       " 2,\n",
       " array([[2020.27842989, 2097.72157011],\n",
       "        [1052.33055661, 1092.66944339],\n",
       "        [ 814.3910135 ,  845.6089865 ]]))"
      ]
     },
     "metadata": {},
     "execution_count": 13
    }
   ],
   "source": [
    "scipy.stats.chi2_contingency(chi_table, correction = False)"
   ]
  },
  {
   "source": [
    "### 取出卡方檢定p值"
   ],
   "cell_type": "markdown",
   "metadata": {}
  },
  {
   "cell_type": "code",
   "execution_count": 14,
   "metadata": {},
   "outputs": [
    {
     "output_type": "execute_result",
     "data": {
      "text/plain": [
       "0.0001256544684594472"
      ]
     },
     "metadata": {},
     "execution_count": 14
    }
   ],
   "source": [
    "p_value = scipy.stats.chi2_contingency(chi_table, correction = False)[1]\n",
    "p_value"
   ]
  },
  {
   "source": [
    "## 事後檢定"
   ],
   "cell_type": "markdown",
   "metadata": {}
  },
  {
   "cell_type": "code",
   "execution_count": 15,
   "metadata": {},
   "outputs": [
    {
     "output_type": "stream",
     "name": "stdout",
     "text": [
      "廣告系列KDP的p值為: 0.5127931549822997\n廣告系列critei的p值為: 0.1479971375022954\n廣告系列KDPOD的p值為: 1.9489356101720793e-05\n"
     ]
    }
   ],
   "source": [
    "for ind in chi_table.index:\n",
    "    # 挑選出該廣告促成的男女銷售量\n",
    "    ad_data = chi_table.loc[ind].tolist()\n",
    "    # 進行事後檢定\n",
    "    print('廣告系列'+ind+'的p值為:', chisquare(ad_data)[1])"
   ]
  },
  {
   "source": [
    "## 視覺化呈現"
   ],
   "cell_type": "markdown",
   "metadata": {}
  },
  {
   "source": [
    "### 繪圖"
   ],
   "cell_type": "markdown",
   "metadata": {}
  },
  {
   "cell_type": "code",
   "execution_count": 16,
   "metadata": {},
   "outputs": [
    {
     "output_type": "display_data",
     "data": {
      "application/vnd.plotly.v1+json": {
       "config": {
        "plotlyServerURL": "https://plot.ly"
       },
       "data": [
        {
         "line": {
          "color": "royalblue",
          "width": 2
         },
         "mode": "lines+markers",
         "name": "男性",
         "textfont": {
          "color": "royalblue",
          "family": "sans serif",
          "size": 16
         },
         "type": "scatter",
         "x": [
          "KDP",
          "critei",
          "KDPOD"
         ],
         "y": [
          2038,
          1106,
          743
         ]
        },
        {
         "line": {
          "color": "firebrick",
          "width": 2
         },
         "mode": "lines+markers",
         "name": "女性",
         "textfont": {
          "color": "firebrick",
          "family": "sans serif",
          "size": 16
         },
         "type": "scatter",
         "x": [
          "KDP",
          "critei",
          "KDPOD"
         ],
         "y": [
          2080,
          1039,
          917
         ]
        }
       ],
       "layout": {
        "template": {
         "data": {
          "bar": [
           {
            "error_x": {
             "color": "#2a3f5f"
            },
            "error_y": {
             "color": "#2a3f5f"
            },
            "marker": {
             "line": {
              "color": "#E5ECF6",
              "width": 0.5
             }
            },
            "type": "bar"
           }
          ],
          "barpolar": [
           {
            "marker": {
             "line": {
              "color": "#E5ECF6",
              "width": 0.5
             }
            },
            "type": "barpolar"
           }
          ],
          "carpet": [
           {
            "aaxis": {
             "endlinecolor": "#2a3f5f",
             "gridcolor": "white",
             "linecolor": "white",
             "minorgridcolor": "white",
             "startlinecolor": "#2a3f5f"
            },
            "baxis": {
             "endlinecolor": "#2a3f5f",
             "gridcolor": "white",
             "linecolor": "white",
             "minorgridcolor": "white",
             "startlinecolor": "#2a3f5f"
            },
            "type": "carpet"
           }
          ],
          "choropleth": [
           {
            "colorbar": {
             "outlinewidth": 0,
             "ticks": ""
            },
            "type": "choropleth"
           }
          ],
          "contour": [
           {
            "colorbar": {
             "outlinewidth": 0,
             "ticks": ""
            },
            "colorscale": [
             [
              0,
              "#0d0887"
             ],
             [
              0.1111111111111111,
              "#46039f"
             ],
             [
              0.2222222222222222,
              "#7201a8"
             ],
             [
              0.3333333333333333,
              "#9c179e"
             ],
             [
              0.4444444444444444,
              "#bd3786"
             ],
             [
              0.5555555555555556,
              "#d8576b"
             ],
             [
              0.6666666666666666,
              "#ed7953"
             ],
             [
              0.7777777777777778,
              "#fb9f3a"
             ],
             [
              0.8888888888888888,
              "#fdca26"
             ],
             [
              1,
              "#f0f921"
             ]
            ],
            "type": "contour"
           }
          ],
          "contourcarpet": [
           {
            "colorbar": {
             "outlinewidth": 0,
             "ticks": ""
            },
            "type": "contourcarpet"
           }
          ],
          "heatmap": [
           {
            "colorbar": {
             "outlinewidth": 0,
             "ticks": ""
            },
            "colorscale": [
             [
              0,
              "#0d0887"
             ],
             [
              0.1111111111111111,
              "#46039f"
             ],
             [
              0.2222222222222222,
              "#7201a8"
             ],
             [
              0.3333333333333333,
              "#9c179e"
             ],
             [
              0.4444444444444444,
              "#bd3786"
             ],
             [
              0.5555555555555556,
              "#d8576b"
             ],
             [
              0.6666666666666666,
              "#ed7953"
             ],
             [
              0.7777777777777778,
              "#fb9f3a"
             ],
             [
              0.8888888888888888,
              "#fdca26"
             ],
             [
              1,
              "#f0f921"
             ]
            ],
            "type": "heatmap"
           }
          ],
          "heatmapgl": [
           {
            "colorbar": {
             "outlinewidth": 0,
             "ticks": ""
            },
            "colorscale": [
             [
              0,
              "#0d0887"
             ],
             [
              0.1111111111111111,
              "#46039f"
             ],
             [
              0.2222222222222222,
              "#7201a8"
             ],
             [
              0.3333333333333333,
              "#9c179e"
             ],
             [
              0.4444444444444444,
              "#bd3786"
             ],
             [
              0.5555555555555556,
              "#d8576b"
             ],
             [
              0.6666666666666666,
              "#ed7953"
             ],
             [
              0.7777777777777778,
              "#fb9f3a"
             ],
             [
              0.8888888888888888,
              "#fdca26"
             ],
             [
              1,
              "#f0f921"
             ]
            ],
            "type": "heatmapgl"
           }
          ],
          "histogram": [
           {
            "marker": {
             "colorbar": {
              "outlinewidth": 0,
              "ticks": ""
             }
            },
            "type": "histogram"
           }
          ],
          "histogram2d": [
           {
            "colorbar": {
             "outlinewidth": 0,
             "ticks": ""
            },
            "colorscale": [
             [
              0,
              "#0d0887"
             ],
             [
              0.1111111111111111,
              "#46039f"
             ],
             [
              0.2222222222222222,
              "#7201a8"
             ],
             [
              0.3333333333333333,
              "#9c179e"
             ],
             [
              0.4444444444444444,
              "#bd3786"
             ],
             [
              0.5555555555555556,
              "#d8576b"
             ],
             [
              0.6666666666666666,
              "#ed7953"
             ],
             [
              0.7777777777777778,
              "#fb9f3a"
             ],
             [
              0.8888888888888888,
              "#fdca26"
             ],
             [
              1,
              "#f0f921"
             ]
            ],
            "type": "histogram2d"
           }
          ],
          "histogram2dcontour": [
           {
            "colorbar": {
             "outlinewidth": 0,
             "ticks": ""
            },
            "colorscale": [
             [
              0,
              "#0d0887"
             ],
             [
              0.1111111111111111,
              "#46039f"
             ],
             [
              0.2222222222222222,
              "#7201a8"
             ],
             [
              0.3333333333333333,
              "#9c179e"
             ],
             [
              0.4444444444444444,
              "#bd3786"
             ],
             [
              0.5555555555555556,
              "#d8576b"
             ],
             [
              0.6666666666666666,
              "#ed7953"
             ],
             [
              0.7777777777777778,
              "#fb9f3a"
             ],
             [
              0.8888888888888888,
              "#fdca26"
             ],
             [
              1,
              "#f0f921"
             ]
            ],
            "type": "histogram2dcontour"
           }
          ],
          "mesh3d": [
           {
            "colorbar": {
             "outlinewidth": 0,
             "ticks": ""
            },
            "type": "mesh3d"
           }
          ],
          "parcoords": [
           {
            "line": {
             "colorbar": {
              "outlinewidth": 0,
              "ticks": ""
             }
            },
            "type": "parcoords"
           }
          ],
          "pie": [
           {
            "automargin": true,
            "type": "pie"
           }
          ],
          "scatter": [
           {
            "marker": {
             "colorbar": {
              "outlinewidth": 0,
              "ticks": ""
             }
            },
            "type": "scatter"
           }
          ],
          "scatter3d": [
           {
            "line": {
             "colorbar": {
              "outlinewidth": 0,
              "ticks": ""
             }
            },
            "marker": {
             "colorbar": {
              "outlinewidth": 0,
              "ticks": ""
             }
            },
            "type": "scatter3d"
           }
          ],
          "scattercarpet": [
           {
            "marker": {
             "colorbar": {
              "outlinewidth": 0,
              "ticks": ""
             }
            },
            "type": "scattercarpet"
           }
          ],
          "scattergeo": [
           {
            "marker": {
             "colorbar": {
              "outlinewidth": 0,
              "ticks": ""
             }
            },
            "type": "scattergeo"
           }
          ],
          "scattergl": [
           {
            "marker": {
             "colorbar": {
              "outlinewidth": 0,
              "ticks": ""
             }
            },
            "type": "scattergl"
           }
          ],
          "scattermapbox": [
           {
            "marker": {
             "colorbar": {
              "outlinewidth": 0,
              "ticks": ""
             }
            },
            "type": "scattermapbox"
           }
          ],
          "scatterpolar": [
           {
            "marker": {
             "colorbar": {
              "outlinewidth": 0,
              "ticks": ""
             }
            },
            "type": "scatterpolar"
           }
          ],
          "scatterpolargl": [
           {
            "marker": {
             "colorbar": {
              "outlinewidth": 0,
              "ticks": ""
             }
            },
            "type": "scatterpolargl"
           }
          ],
          "scatterternary": [
           {
            "marker": {
             "colorbar": {
              "outlinewidth": 0,
              "ticks": ""
             }
            },
            "type": "scatterternary"
           }
          ],
          "surface": [
           {
            "colorbar": {
             "outlinewidth": 0,
             "ticks": ""
            },
            "colorscale": [
             [
              0,
              "#0d0887"
             ],
             [
              0.1111111111111111,
              "#46039f"
             ],
             [
              0.2222222222222222,
              "#7201a8"
             ],
             [
              0.3333333333333333,
              "#9c179e"
             ],
             [
              0.4444444444444444,
              "#bd3786"
             ],
             [
              0.5555555555555556,
              "#d8576b"
             ],
             [
              0.6666666666666666,
              "#ed7953"
             ],
             [
              0.7777777777777778,
              "#fb9f3a"
             ],
             [
              0.8888888888888888,
              "#fdca26"
             ],
             [
              1,
              "#f0f921"
             ]
            ],
            "type": "surface"
           }
          ],
          "table": [
           {
            "cells": {
             "fill": {
              "color": "#EBF0F8"
             },
             "line": {
              "color": "white"
             }
            },
            "header": {
             "fill": {
              "color": "#C8D4E3"
             },
             "line": {
              "color": "white"
             }
            },
            "type": "table"
           }
          ]
         },
         "layout": {
          "annotationdefaults": {
           "arrowcolor": "#2a3f5f",
           "arrowhead": 0,
           "arrowwidth": 1
          },
          "autotypenumbers": "strict",
          "coloraxis": {
           "colorbar": {
            "outlinewidth": 0,
            "ticks": ""
           }
          },
          "colorscale": {
           "diverging": [
            [
             0,
             "#8e0152"
            ],
            [
             0.1,
             "#c51b7d"
            ],
            [
             0.2,
             "#de77ae"
            ],
            [
             0.3,
             "#f1b6da"
            ],
            [
             0.4,
             "#fde0ef"
            ],
            [
             0.5,
             "#f7f7f7"
            ],
            [
             0.6,
             "#e6f5d0"
            ],
            [
             0.7,
             "#b8e186"
            ],
            [
             0.8,
             "#7fbc41"
            ],
            [
             0.9,
             "#4d9221"
            ],
            [
             1,
             "#276419"
            ]
           ],
           "sequential": [
            [
             0,
             "#0d0887"
            ],
            [
             0.1111111111111111,
             "#46039f"
            ],
            [
             0.2222222222222222,
             "#7201a8"
            ],
            [
             0.3333333333333333,
             "#9c179e"
            ],
            [
             0.4444444444444444,
             "#bd3786"
            ],
            [
             0.5555555555555556,
             "#d8576b"
            ],
            [
             0.6666666666666666,
             "#ed7953"
            ],
            [
             0.7777777777777778,
             "#fb9f3a"
            ],
            [
             0.8888888888888888,
             "#fdca26"
            ],
            [
             1,
             "#f0f921"
            ]
           ],
           "sequentialminus": [
            [
             0,
             "#0d0887"
            ],
            [
             0.1111111111111111,
             "#46039f"
            ],
            [
             0.2222222222222222,
             "#7201a8"
            ],
            [
             0.3333333333333333,
             "#9c179e"
            ],
            [
             0.4444444444444444,
             "#bd3786"
            ],
            [
             0.5555555555555556,
             "#d8576b"
            ],
            [
             0.6666666666666666,
             "#ed7953"
            ],
            [
             0.7777777777777778,
             "#fb9f3a"
            ],
            [
             0.8888888888888888,
             "#fdca26"
            ],
            [
             1,
             "#f0f921"
            ]
           ]
          },
          "colorway": [
           "#636efa",
           "#EF553B",
           "#00cc96",
           "#ab63fa",
           "#FFA15A",
           "#19d3f3",
           "#FF6692",
           "#B6E880",
           "#FF97FF",
           "#FECB52"
          ],
          "font": {
           "color": "#2a3f5f"
          },
          "geo": {
           "bgcolor": "white",
           "lakecolor": "white",
           "landcolor": "#E5ECF6",
           "showlakes": true,
           "showland": true,
           "subunitcolor": "white"
          },
          "hoverlabel": {
           "align": "left"
          },
          "hovermode": "closest",
          "mapbox": {
           "style": "light"
          },
          "paper_bgcolor": "white",
          "plot_bgcolor": "#E5ECF6",
          "polar": {
           "angularaxis": {
            "gridcolor": "white",
            "linecolor": "white",
            "ticks": ""
           },
           "bgcolor": "#E5ECF6",
           "radialaxis": {
            "gridcolor": "white",
            "linecolor": "white",
            "ticks": ""
           }
          },
          "scene": {
           "xaxis": {
            "backgroundcolor": "#E5ECF6",
            "gridcolor": "white",
            "gridwidth": 2,
            "linecolor": "white",
            "showbackground": true,
            "ticks": "",
            "zerolinecolor": "white"
           },
           "yaxis": {
            "backgroundcolor": "#E5ECF6",
            "gridcolor": "white",
            "gridwidth": 2,
            "linecolor": "white",
            "showbackground": true,
            "ticks": "",
            "zerolinecolor": "white"
           },
           "zaxis": {
            "backgroundcolor": "#E5ECF6",
            "gridcolor": "white",
            "gridwidth": 2,
            "linecolor": "white",
            "showbackground": true,
            "ticks": "",
            "zerolinecolor": "white"
           }
          },
          "shapedefaults": {
           "line": {
            "color": "#2a3f5f"
           }
          },
          "ternary": {
           "aaxis": {
            "gridcolor": "white",
            "linecolor": "white",
            "ticks": ""
           },
           "baxis": {
            "gridcolor": "white",
            "linecolor": "white",
            "ticks": ""
           },
           "bgcolor": "#E5ECF6",
           "caxis": {
            "gridcolor": "white",
            "linecolor": "white",
            "ticks": ""
           }
          },
          "title": {
           "x": 0.05
          },
          "xaxis": {
           "automargin": true,
           "gridcolor": "white",
           "linecolor": "white",
           "ticks": "",
           "title": {
            "standoff": 15
           },
           "zerolinecolor": "white",
           "zerolinewidth": 2
          },
          "yaxis": {
           "automargin": true,
           "gridcolor": "white",
           "linecolor": "white",
           "ticks": "",
           "title": {
            "standoff": 15
           },
           "zerolinecolor": "white",
           "zerolinewidth": 2
          }
         }
        }
       }
      }
     },
     "metadata": {}
    }
   ],
   "source": [
    "fig = go.Figure()\n",
    "# 男性分布圖\n",
    "fig.add_trace(go.Scatter(\n",
    "            x= ad_name,\n",
    "            y= chi_table[\"男性\"].tolist(),\n",
    "            mode=\"lines+markers\",\n",
    "            textfont=dict(\n",
    "            family=\"sans serif\",\n",
    "            size=16,\n",
    "            color=\"royalblue\"),    \n",
    "            line=dict(color='royalblue', width=2),\n",
    "            name = '男性'\n",
    "            ))\n",
    "# 女性分布圖\n",
    "fig.add_trace(go.Scatter(\n",
    "            x= ad_name,\n",
    "            y= chi_table[\"女性\"].tolist(),\n",
    "            mode=\"lines+markers\",\n",
    "            textfont=dict(\n",
    "            family=\"sans serif\",\n",
    "            size=16,\n",
    "            color=\"firebrick\"),    \n",
    "            line=dict(color='firebrick', width=2),\n",
    "            name = '女性'\n",
    "            ))"
   ]
  },
  {
   "source": [
    "### 佈景主題設定"
   ],
   "cell_type": "markdown",
   "metadata": {}
  },
  {
   "cell_type": "code",
   "execution_count": 17,
   "metadata": {},
   "outputs": [
    {
     "output_type": "display_data",
     "data": {
      "application/vnd.plotly.v1+json": {
       "config": {
        "plotlyServerURL": "https://plot.ly"
       },
       "data": [
        {
         "line": {
          "color": "royalblue",
          "width": 2
         },
         "mode": "lines+markers",
         "name": "男性",
         "textfont": {
          "color": "royalblue",
          "family": "sans serif",
          "size": 16
         },
         "type": "scatter",
         "x": [
          "KDP",
          "critei",
          "KDPOD"
         ],
         "y": [
          2038,
          1106,
          743
         ]
        },
        {
         "line": {
          "color": "firebrick",
          "width": 2
         },
         "mode": "lines+markers",
         "name": "女性",
         "textfont": {
          "color": "firebrick",
          "family": "sans serif",
          "size": 16
         },
         "type": "scatter",
         "x": [
          "KDP",
          "critei",
          "KDPOD"
         ],
         "y": [
          2080,
          1039,
          917
         ]
        }
       ],
       "layout": {
        "font": {
         "color": "lightslategrey",
         "family": "Courier New, monospace",
         "size": 20
        },
        "height": 960,
        "template": {
         "data": {
          "bar": [
           {
            "error_x": {
             "color": "#2a3f5f"
            },
            "error_y": {
             "color": "#2a3f5f"
            },
            "marker": {
             "line": {
              "color": "#E5ECF6",
              "width": 0.5
             }
            },
            "type": "bar"
           }
          ],
          "barpolar": [
           {
            "marker": {
             "line": {
              "color": "#E5ECF6",
              "width": 0.5
             }
            },
            "type": "barpolar"
           }
          ],
          "carpet": [
           {
            "aaxis": {
             "endlinecolor": "#2a3f5f",
             "gridcolor": "white",
             "linecolor": "white",
             "minorgridcolor": "white",
             "startlinecolor": "#2a3f5f"
            },
            "baxis": {
             "endlinecolor": "#2a3f5f",
             "gridcolor": "white",
             "linecolor": "white",
             "minorgridcolor": "white",
             "startlinecolor": "#2a3f5f"
            },
            "type": "carpet"
           }
          ],
          "choropleth": [
           {
            "colorbar": {
             "outlinewidth": 0,
             "ticks": ""
            },
            "type": "choropleth"
           }
          ],
          "contour": [
           {
            "colorbar": {
             "outlinewidth": 0,
             "ticks": ""
            },
            "colorscale": [
             [
              0,
              "#0d0887"
             ],
             [
              0.1111111111111111,
              "#46039f"
             ],
             [
              0.2222222222222222,
              "#7201a8"
             ],
             [
              0.3333333333333333,
              "#9c179e"
             ],
             [
              0.4444444444444444,
              "#bd3786"
             ],
             [
              0.5555555555555556,
              "#d8576b"
             ],
             [
              0.6666666666666666,
              "#ed7953"
             ],
             [
              0.7777777777777778,
              "#fb9f3a"
             ],
             [
              0.8888888888888888,
              "#fdca26"
             ],
             [
              1,
              "#f0f921"
             ]
            ],
            "type": "contour"
           }
          ],
          "contourcarpet": [
           {
            "colorbar": {
             "outlinewidth": 0,
             "ticks": ""
            },
            "type": "contourcarpet"
           }
          ],
          "heatmap": [
           {
            "colorbar": {
             "outlinewidth": 0,
             "ticks": ""
            },
            "colorscale": [
             [
              0,
              "#0d0887"
             ],
             [
              0.1111111111111111,
              "#46039f"
             ],
             [
              0.2222222222222222,
              "#7201a8"
             ],
             [
              0.3333333333333333,
              "#9c179e"
             ],
             [
              0.4444444444444444,
              "#bd3786"
             ],
             [
              0.5555555555555556,
              "#d8576b"
             ],
             [
              0.6666666666666666,
              "#ed7953"
             ],
             [
              0.7777777777777778,
              "#fb9f3a"
             ],
             [
              0.8888888888888888,
              "#fdca26"
             ],
             [
              1,
              "#f0f921"
             ]
            ],
            "type": "heatmap"
           }
          ],
          "heatmapgl": [
           {
            "colorbar": {
             "outlinewidth": 0,
             "ticks": ""
            },
            "colorscale": [
             [
              0,
              "#0d0887"
             ],
             [
              0.1111111111111111,
              "#46039f"
             ],
             [
              0.2222222222222222,
              "#7201a8"
             ],
             [
              0.3333333333333333,
              "#9c179e"
             ],
             [
              0.4444444444444444,
              "#bd3786"
             ],
             [
              0.5555555555555556,
              "#d8576b"
             ],
             [
              0.6666666666666666,
              "#ed7953"
             ],
             [
              0.7777777777777778,
              "#fb9f3a"
             ],
             [
              0.8888888888888888,
              "#fdca26"
             ],
             [
              1,
              "#f0f921"
             ]
            ],
            "type": "heatmapgl"
           }
          ],
          "histogram": [
           {
            "marker": {
             "colorbar": {
              "outlinewidth": 0,
              "ticks": ""
             }
            },
            "type": "histogram"
           }
          ],
          "histogram2d": [
           {
            "colorbar": {
             "outlinewidth": 0,
             "ticks": ""
            },
            "colorscale": [
             [
              0,
              "#0d0887"
             ],
             [
              0.1111111111111111,
              "#46039f"
             ],
             [
              0.2222222222222222,
              "#7201a8"
             ],
             [
              0.3333333333333333,
              "#9c179e"
             ],
             [
              0.4444444444444444,
              "#bd3786"
             ],
             [
              0.5555555555555556,
              "#d8576b"
             ],
             [
              0.6666666666666666,
              "#ed7953"
             ],
             [
              0.7777777777777778,
              "#fb9f3a"
             ],
             [
              0.8888888888888888,
              "#fdca26"
             ],
             [
              1,
              "#f0f921"
             ]
            ],
            "type": "histogram2d"
           }
          ],
          "histogram2dcontour": [
           {
            "colorbar": {
             "outlinewidth": 0,
             "ticks": ""
            },
            "colorscale": [
             [
              0,
              "#0d0887"
             ],
             [
              0.1111111111111111,
              "#46039f"
             ],
             [
              0.2222222222222222,
              "#7201a8"
             ],
             [
              0.3333333333333333,
              "#9c179e"
             ],
             [
              0.4444444444444444,
              "#bd3786"
             ],
             [
              0.5555555555555556,
              "#d8576b"
             ],
             [
              0.6666666666666666,
              "#ed7953"
             ],
             [
              0.7777777777777778,
              "#fb9f3a"
             ],
             [
              0.8888888888888888,
              "#fdca26"
             ],
             [
              1,
              "#f0f921"
             ]
            ],
            "type": "histogram2dcontour"
           }
          ],
          "mesh3d": [
           {
            "colorbar": {
             "outlinewidth": 0,
             "ticks": ""
            },
            "type": "mesh3d"
           }
          ],
          "parcoords": [
           {
            "line": {
             "colorbar": {
              "outlinewidth": 0,
              "ticks": ""
             }
            },
            "type": "parcoords"
           }
          ],
          "pie": [
           {
            "automargin": true,
            "type": "pie"
           }
          ],
          "scatter": [
           {
            "marker": {
             "colorbar": {
              "outlinewidth": 0,
              "ticks": ""
             }
            },
            "type": "scatter"
           }
          ],
          "scatter3d": [
           {
            "line": {
             "colorbar": {
              "outlinewidth": 0,
              "ticks": ""
             }
            },
            "marker": {
             "colorbar": {
              "outlinewidth": 0,
              "ticks": ""
             }
            },
            "type": "scatter3d"
           }
          ],
          "scattercarpet": [
           {
            "marker": {
             "colorbar": {
              "outlinewidth": 0,
              "ticks": ""
             }
            },
            "type": "scattercarpet"
           }
          ],
          "scattergeo": [
           {
            "marker": {
             "colorbar": {
              "outlinewidth": 0,
              "ticks": ""
             }
            },
            "type": "scattergeo"
           }
          ],
          "scattergl": [
           {
            "marker": {
             "colorbar": {
              "outlinewidth": 0,
              "ticks": ""
             }
            },
            "type": "scattergl"
           }
          ],
          "scattermapbox": [
           {
            "marker": {
             "colorbar": {
              "outlinewidth": 0,
              "ticks": ""
             }
            },
            "type": "scattermapbox"
           }
          ],
          "scatterpolar": [
           {
            "marker": {
             "colorbar": {
              "outlinewidth": 0,
              "ticks": ""
             }
            },
            "type": "scatterpolar"
           }
          ],
          "scatterpolargl": [
           {
            "marker": {
             "colorbar": {
              "outlinewidth": 0,
              "ticks": ""
             }
            },
            "type": "scatterpolargl"
           }
          ],
          "scatterternary": [
           {
            "marker": {
             "colorbar": {
              "outlinewidth": 0,
              "ticks": ""
             }
            },
            "type": "scatterternary"
           }
          ],
          "surface": [
           {
            "colorbar": {
             "outlinewidth": 0,
             "ticks": ""
            },
            "colorscale": [
             [
              0,
              "#0d0887"
             ],
             [
              0.1111111111111111,
              "#46039f"
             ],
             [
              0.2222222222222222,
              "#7201a8"
             ],
             [
              0.3333333333333333,
              "#9c179e"
             ],
             [
              0.4444444444444444,
              "#bd3786"
             ],
             [
              0.5555555555555556,
              "#d8576b"
             ],
             [
              0.6666666666666666,
              "#ed7953"
             ],
             [
              0.7777777777777778,
              "#fb9f3a"
             ],
             [
              0.8888888888888888,
              "#fdca26"
             ],
             [
              1,
              "#f0f921"
             ]
            ],
            "type": "surface"
           }
          ],
          "table": [
           {
            "cells": {
             "fill": {
              "color": "#EBF0F8"
             },
             "line": {
              "color": "white"
             }
            },
            "header": {
             "fill": {
              "color": "#C8D4E3"
             },
             "line": {
              "color": "white"
             }
            },
            "type": "table"
           }
          ]
         },
         "layout": {
          "annotationdefaults": {
           "arrowcolor": "#2a3f5f",
           "arrowhead": 0,
           "arrowwidth": 1
          },
          "autotypenumbers": "strict",
          "coloraxis": {
           "colorbar": {
            "outlinewidth": 0,
            "ticks": ""
           }
          },
          "colorscale": {
           "diverging": [
            [
             0,
             "#8e0152"
            ],
            [
             0.1,
             "#c51b7d"
            ],
            [
             0.2,
             "#de77ae"
            ],
            [
             0.3,
             "#f1b6da"
            ],
            [
             0.4,
             "#fde0ef"
            ],
            [
             0.5,
             "#f7f7f7"
            ],
            [
             0.6,
             "#e6f5d0"
            ],
            [
             0.7,
             "#b8e186"
            ],
            [
             0.8,
             "#7fbc41"
            ],
            [
             0.9,
             "#4d9221"
            ],
            [
             1,
             "#276419"
            ]
           ],
           "sequential": [
            [
             0,
             "#0d0887"
            ],
            [
             0.1111111111111111,
             "#46039f"
            ],
            [
             0.2222222222222222,
             "#7201a8"
            ],
            [
             0.3333333333333333,
             "#9c179e"
            ],
            [
             0.4444444444444444,
             "#bd3786"
            ],
            [
             0.5555555555555556,
             "#d8576b"
            ],
            [
             0.6666666666666666,
             "#ed7953"
            ],
            [
             0.7777777777777778,
             "#fb9f3a"
            ],
            [
             0.8888888888888888,
             "#fdca26"
            ],
            [
             1,
             "#f0f921"
            ]
           ],
           "sequentialminus": [
            [
             0,
             "#0d0887"
            ],
            [
             0.1111111111111111,
             "#46039f"
            ],
            [
             0.2222222222222222,
             "#7201a8"
            ],
            [
             0.3333333333333333,
             "#9c179e"
            ],
            [
             0.4444444444444444,
             "#bd3786"
            ],
            [
             0.5555555555555556,
             "#d8576b"
            ],
            [
             0.6666666666666666,
             "#ed7953"
            ],
            [
             0.7777777777777778,
             "#fb9f3a"
            ],
            [
             0.8888888888888888,
             "#fdca26"
            ],
            [
             1,
             "#f0f921"
            ]
           ]
          },
          "colorway": [
           "#636efa",
           "#EF553B",
           "#00cc96",
           "#ab63fa",
           "#FFA15A",
           "#19d3f3",
           "#FF6692",
           "#B6E880",
           "#FF97FF",
           "#FECB52"
          ],
          "font": {
           "color": "#2a3f5f"
          },
          "geo": {
           "bgcolor": "white",
           "lakecolor": "white",
           "landcolor": "#E5ECF6",
           "showlakes": true,
           "showland": true,
           "subunitcolor": "white"
          },
          "hoverlabel": {
           "align": "left"
          },
          "hovermode": "closest",
          "mapbox": {
           "style": "light"
          },
          "paper_bgcolor": "white",
          "plot_bgcolor": "#E5ECF6",
          "polar": {
           "angularaxis": {
            "gridcolor": "white",
            "linecolor": "white",
            "ticks": ""
           },
           "bgcolor": "#E5ECF6",
           "radialaxis": {
            "gridcolor": "white",
            "linecolor": "white",
            "ticks": ""
           }
          },
          "scene": {
           "xaxis": {
            "backgroundcolor": "#E5ECF6",
            "gridcolor": "white",
            "gridwidth": 2,
            "linecolor": "white",
            "showbackground": true,
            "ticks": "",
            "zerolinecolor": "white"
           },
           "yaxis": {
            "backgroundcolor": "#E5ECF6",
            "gridcolor": "white",
            "gridwidth": 2,
            "linecolor": "white",
            "showbackground": true,
            "ticks": "",
            "zerolinecolor": "white"
           },
           "zaxis": {
            "backgroundcolor": "#E5ECF6",
            "gridcolor": "white",
            "gridwidth": 2,
            "linecolor": "white",
            "showbackground": true,
            "ticks": "",
            "zerolinecolor": "white"
           }
          },
          "shapedefaults": {
           "line": {
            "color": "#2a3f5f"
           }
          },
          "ternary": {
           "aaxis": {
            "gridcolor": "white",
            "linecolor": "white",
            "ticks": ""
           },
           "baxis": {
            "gridcolor": "white",
            "linecolor": "white",
            "ticks": ""
           },
           "bgcolor": "#E5ECF6",
           "caxis": {
            "gridcolor": "white",
            "linecolor": "white",
            "ticks": ""
           }
          },
          "title": {
           "x": 0.05
          },
          "xaxis": {
           "automargin": true,
           "gridcolor": "white",
           "linecolor": "white",
           "ticks": "",
           "title": {
            "standoff": 15
           },
           "zerolinecolor": "white",
           "zerolinewidth": 2
          },
          "yaxis": {
           "automargin": true,
           "gridcolor": "white",
           "linecolor": "white",
           "ticks": "",
           "title": {
            "standoff": 15
           },
           "zerolinecolor": "white",
           "zerolinewidth": 2
          }
         }
        },
        "title": {
         "text": "<b>廣告－性別交叉比較圖</b>",
         "x": 0.5,
         "xanchor": "center",
         "y": 0.95
        },
        "width": 1800,
        "xaxis": {
         "tickmode": "linear",
         "title": {
          "text": "廣告類別"
         }
        },
        "yaxis": {
         "title": {
          "text": "消費次數"
         }
        }
       }
      }
     },
     "metadata": {}
    }
   ],
   "source": [
    "fig.update_layout(\n",
    "    title={\n",
    "        'text': \"<b>廣告－性別交叉比較圖</b>\",\n",
    "        'y':0.95, \n",
    "        'x':0.5, \n",
    "        'xanchor': 'center',},\n",
    "    yaxis_title='消費次數',\n",
    "    xaxis={\n",
    "        'title': '廣告類別',\n",
    "        'tickmode': 'linear'},\n",
    "    width=1800, \n",
    "    height=960,\n",
    "    font=dict(\n",
    "        family=\"Courier New, monospace\",\n",
    "        size=20, color=\"lightslategrey\"))"
   ]
  },
  {
   "source": [
    "### 將產出另存新檔"
   ],
   "cell_type": "markdown",
   "metadata": {}
  },
  {
   "cell_type": "code",
   "execution_count": 18,
   "metadata": {},
   "outputs": [
    {
     "output_type": "stream",
     "name": "stderr",
     "text": [
      "C:\\Users\\user\\AppData\\Local\\Programs\\Python\\Python37\\lib\\site-packages\\plotly\\offline\\offline.py:563: UserWarning:\n\nYour filename `CH4-7產出成果_廣告－性別交叉比較圖` didn't end with .html. Adding .html to the end of your file.\n\n"
     ]
    }
   ],
   "source": [
    "# 產出另存html檔\n",
    "py.plot(fig, filename='CH4-7產出成果_廣告－性別交叉比較圖', auto_open=True)\n",
    "# 產出另存png檔\n",
    "fig.write_image(\"CH4-7產出成果_廣告－性別交叉比較圖.png\")"
   ]
  },
  {
   "source": [
    "## 製作管理決策表"
   ],
   "cell_type": "markdown",
   "metadata": {}
  },
  {
   "cell_type": "code",
   "execution_count": 19,
   "metadata": {},
   "outputs": [
    {
     "output_type": "execute_result",
     "data": {
      "text/plain": [
       "          男性    女性       加強推廣族群\n",
       "KDP     2038  2080     男女推廣效果均勻\n",
       "critei  1106  1039     男女推廣效果均勻\n",
       "KDPOD    743   917  針對女性族群推廣較有效"
      ],
      "text/html": "<div>\n<style scoped>\n    .dataframe tbody tr th:only-of-type {\n        vertical-align: middle;\n    }\n\n    .dataframe tbody tr th {\n        vertical-align: top;\n    }\n\n    .dataframe thead th {\n        text-align: right;\n    }\n</style>\n<table border=\"1\" class=\"dataframe\">\n  <thead>\n    <tr style=\"text-align: right;\">\n      <th></th>\n      <th>男性</th>\n      <th>女性</th>\n      <th>加強推廣族群</th>\n    </tr>\n  </thead>\n  <tbody>\n    <tr>\n      <th>KDP</th>\n      <td>2038</td>\n      <td>2080</td>\n      <td>男女推廣效果均勻</td>\n    </tr>\n    <tr>\n      <th>critei</th>\n      <td>1106</td>\n      <td>1039</td>\n      <td>男女推廣效果均勻</td>\n    </tr>\n    <tr>\n      <th>KDPOD</th>\n      <td>743</td>\n      <td>917</td>\n      <td>針對女性族群推廣較有效</td>\n    </tr>\n  </tbody>\n</table>\n</div>"
     },
     "metadata": {},
     "execution_count": 19
    }
   ],
   "source": [
    "weight = []\n",
    "for ind in chi_table.index:\n",
    "    # 挑選出該廣告促成的男女銷售量\n",
    "    ad_data = chi_table.loc[ind].tolist()\n",
    "    # 取得事後檢定的p值\n",
    "    p = chisquare(ad_data)[1]\n",
    "    # 判斷廣告對於性別的推廣效果\n",
    "    if p >= 0.05:\n",
    "        weight.append('男女推廣效果均勻')\n",
    "    else:\n",
    "        male = ad_data[0] # 男性消費量\n",
    "        female = ad_data[1] # 女性消費量\n",
    "        if male>female:\n",
    "            weight.append('針對男性族群推廣較有效')\n",
    "        else:\n",
    "            weight.append('針對女性族群推廣較有效')            \n",
    "# 將結果存至比較表中\n",
    "chi_table['加強推廣族群'] = weight\n",
    "chi_table"
   ]
  },
  {
   "source": [
    "### 另存管理決策表"
   ],
   "cell_type": "markdown",
   "metadata": {}
  },
  {
   "cell_type": "code",
   "execution_count": 20,
   "metadata": {},
   "outputs": [],
   "source": [
    "chi_table.to_csv(\"CH4-7產出成果_廣告－性別交叉比較表.csv\", encoding='utf-8-sig')"
   ]
  }
 ]
}