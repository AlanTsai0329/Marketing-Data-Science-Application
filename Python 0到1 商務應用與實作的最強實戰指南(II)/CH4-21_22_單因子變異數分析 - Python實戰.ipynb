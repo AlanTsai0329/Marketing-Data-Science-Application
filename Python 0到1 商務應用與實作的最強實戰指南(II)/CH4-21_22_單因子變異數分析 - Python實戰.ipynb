{
 "metadata": {
  "language_info": {
   "codemirror_mode": {
    "name": "ipython",
    "version": 3
   },
   "file_extension": ".py",
   "mimetype": "text/x-python",
   "name": "python",
   "nbconvert_exporter": "python",
   "pygments_lexer": "ipython3",
   "version": "3.7.9"
  },
  "orig_nbformat": 2,
  "kernelspec": {
   "name": "python379jvsc74a57bd05d87b42201e74ac320bc00dce267d44f5f134edfec9046f67f672f289707ff6a",
   "display_name": "Python 3.7.9 64-bit"
  },
  "metadata": {
   "interpreter": {
    "hash": "5d87b42201e74ac320bc00dce267d44f5f134edfec9046f67f672f289707ff6a"
   }
  }
 },
 "nbformat": 4,
 "nbformat_minor": 2,
 "cells": [
  {
   "source": [
    "# `單因子變異數分析 - Python實戰：商務資料結構整理`\n",
    "### 作者：徐子皓\n",
    "***"
   ],
   "cell_type": "markdown",
   "metadata": {}
  },
  {
   "source": [
    "### 導入原始資料"
   ],
   "cell_type": "markdown",
   "metadata": {}
  },
  {
   "cell_type": "code",
   "execution_count": 1,
   "metadata": {},
   "outputs": [
    {
     "output_type": "execute_result",
     "data": {
      "text/plain": [
       "    廣告   消費金額\n",
       "0  廣告1  20.83\n",
       "1  廣告1  21.45\n",
       "2  廣告1  27.09\n",
       "3  廣告1  14.09\n",
       "4  廣告1  31.23"
      ],
      "text/html": "<div>\n<style scoped>\n    .dataframe tbody tr th:only-of-type {\n        vertical-align: middle;\n    }\n\n    .dataframe tbody tr th {\n        vertical-align: top;\n    }\n\n    .dataframe thead th {\n        text-align: right;\n    }\n</style>\n<table border=\"1\" class=\"dataframe\">\n  <thead>\n    <tr style=\"text-align: right;\">\n      <th></th>\n      <th>廣告</th>\n      <th>消費金額</th>\n    </tr>\n  </thead>\n  <tbody>\n    <tr>\n      <th>0</th>\n      <td>廣告1</td>\n      <td>20.83</td>\n    </tr>\n    <tr>\n      <th>1</th>\n      <td>廣告1</td>\n      <td>21.45</td>\n    </tr>\n    <tr>\n      <th>2</th>\n      <td>廣告1</td>\n      <td>27.09</td>\n    </tr>\n    <tr>\n      <th>3</th>\n      <td>廣告1</td>\n      <td>14.09</td>\n    </tr>\n    <tr>\n      <th>4</th>\n      <td>廣告1</td>\n      <td>31.23</td>\n    </tr>\n  </tbody>\n</table>\n</div>"
     },
     "metadata": {},
     "execution_count": 1
    }
   ],
   "source": [
    "import pandas as pd\n",
    "data = pd.read_csv('CH4-21_廣告交易資料.csv', encoding = 'big5')\n",
    "data.head()"
   ]
  },
  {
   "source": [
    "### 區分不同廣告系列的消費金額"
   ],
   "cell_type": "markdown",
   "metadata": {}
  },
  {
   "cell_type": "code",
   "execution_count": 2,
   "metadata": {},
   "outputs": [
    {
     "output_type": "stream",
     "name": "stdout",
     "text": [
      "廣告1的前五筆消費金額為: [20.83, 21.45, 27.09, 14.09, 31.23]\n廣告2的前五筆消費金額為: [20.23, 18.1, 12.34, 24.08, 22.39]\n廣告3的前五筆消費金額為: [8.81, 20.26, 17.46, 25.48, 22.64]\n"
     ]
    }
   ],
   "source": [
    "alist = data[data ['廣告'] == '廣告1']['消費金額'].tolist()\n",
    "blist = data[data ['廣告'] == '廣告2']['消費金額'].tolist()\n",
    "clist = data[data ['廣告'] == '廣告3']['消費金額'].tolist()\n",
    "print('廣告1的前五筆消費金額為:', alist[:5])\n",
    "print('廣告2的前五筆消費金額為:', blist[:5])\n",
    "print('廣告3的前五筆消費金額為:', clist[:5])"
   ]
  },
  {
   "source": [
    "***"
   ],
   "cell_type": "markdown",
   "metadata": {}
  },
  {
   "source": [
    "# `單因子變異數分析 - Python實戰：如何決定多廣告的優化策略？`\n",
    "### 作者：徐子皓\n",
    "***"
   ],
   "cell_type": "markdown",
   "metadata": {}
  },
  {
   "source": [
    "## 事前檢定"
   ],
   "cell_type": "markdown",
   "metadata": {}
  },
  {
   "source": [
    "### 常態性檢定"
   ],
   "cell_type": "markdown",
   "metadata": {}
  },
  {
   "cell_type": "code",
   "execution_count": 3,
   "metadata": {},
   "outputs": [
    {
     "output_type": "stream",
     "name": "stdout",
     "text": [
      "廣告1的常態性檢定結果：\nShapiroResult(statistic=0.9915865659713745, pvalue=0.6819638013839722) \n\n廣告2的常態性檢定結果：\nShapiroResult(statistic=0.9929247498512268, pvalue=0.805463969707489) \n\n廣告3的常態性檢定結果：\nShapiroResult(statistic=0.9802003502845764, pvalue=0.07433854043483734)\n"
     ]
    }
   ],
   "source": [
    "import scipy.stats as st\n",
    "print('廣告1的常態性檢定結果：')\n",
    "print(st.shapiro(alist), '\\n')\n",
    "print('廣告2的常態性檢定結果：')\n",
    "print(st.shapiro(blist), '\\n')\n",
    "print('廣告3的常態性檢定結果：')\n",
    "print(st.shapiro(clist))"
   ]
  },
  {
   "source": [
    "### 同質性檢定"
   ],
   "cell_type": "markdown",
   "metadata": {}
  },
  {
   "cell_type": "code",
   "execution_count": 4,
   "metadata": {},
   "outputs": [
    {
     "output_type": "execute_result",
     "data": {
      "text/plain": [
       "LeveneResult(statistic=0.6891243668404422, pvalue=0.5026819827621525)"
      ]
     },
     "metadata": {},
     "execution_count": 4
    }
   ],
   "source": [
    "st.levene(alist, blist, clist, center='mean')"
   ]
  },
  {
   "source": [
    "## 單因子變異數分析"
   ],
   "cell_type": "markdown",
   "metadata": {}
  },
  {
   "cell_type": "code",
   "execution_count": 5,
   "metadata": {},
   "outputs": [
    {
     "output_type": "execute_result",
     "data": {
      "text/plain": [
       "0.0955577857122512"
      ]
     },
     "metadata": {},
     "execution_count": 5
    }
   ],
   "source": [
    "f_value, p_value = st.f_oneway(alist, blist, clist)\n",
    "p_value"
   ]
  },
  {
   "source": [
    "## 事後檢定"
   ],
   "cell_type": "markdown",
   "metadata": {}
  },
  {
   "cell_type": "code",
   "execution_count": 6,
   "metadata": {},
   "outputs": [
    {
     "output_type": "stream",
     "name": "stderr",
     "text": [
      "C:\\Users\\user\\AppData\\Roaming\\Python\\Python37\\site-packages\\outdated\\utils.py:18: OutdatedPackageWarning: The package pingouin is out of date. Your version is 0.3.7, the latest is 0.3.12.\nSet the environment variable OUTDATED_IGNORE=1 to disable these warnings.\n  **kwargs\nC:\\Users\\user\\AppData\\Roaming\\Python\\Python37\\site-packages\\outdated\\utils.py:18: OutdatedPackageWarning: The package outdated is out of date. Your version is 0.2.0, the latest is 0.2.1.\nSet the environment variable OUTDATED_IGNORE=1 to disable these warnings.\n  **kwargs\n"
     ]
    },
    {
     "output_type": "execute_result",
     "data": {
      "text/plain": [
       "     A    B    mean(A)    mean(B)     diff        se         T   p-tukey  \\\n",
       "0  廣告1  廣告2  17.135167  15.592417  1.54275  0.781281  1.974642  0.118914   \n",
       "1  廣告1  廣告3  17.135167  15.748167  1.38700  0.781281  1.775290  0.178294   \n",
       "2  廣告2  廣告3  15.592417  15.748167 -0.15575  0.781281 -0.199352  0.900000   \n",
       "\n",
       "     hedges  \n",
       "0  0.254121  \n",
       "1  0.228466  \n",
       "2 -0.025655  "
      ],
      "text/html": "<div>\n<style scoped>\n    .dataframe tbody tr th:only-of-type {\n        vertical-align: middle;\n    }\n\n    .dataframe tbody tr th {\n        vertical-align: top;\n    }\n\n    .dataframe thead th {\n        text-align: right;\n    }\n</style>\n<table border=\"1\" class=\"dataframe\">\n  <thead>\n    <tr style=\"text-align: right;\">\n      <th></th>\n      <th>A</th>\n      <th>B</th>\n      <th>mean(A)</th>\n      <th>mean(B)</th>\n      <th>diff</th>\n      <th>se</th>\n      <th>T</th>\n      <th>p-tukey</th>\n      <th>hedges</th>\n    </tr>\n  </thead>\n  <tbody>\n    <tr>\n      <th>0</th>\n      <td>廣告1</td>\n      <td>廣告2</td>\n      <td>17.135167</td>\n      <td>15.592417</td>\n      <td>1.54275</td>\n      <td>0.781281</td>\n      <td>1.974642</td>\n      <td>0.118914</td>\n      <td>0.254121</td>\n    </tr>\n    <tr>\n      <th>1</th>\n      <td>廣告1</td>\n      <td>廣告3</td>\n      <td>17.135167</td>\n      <td>15.748167</td>\n      <td>1.38700</td>\n      <td>0.781281</td>\n      <td>1.775290</td>\n      <td>0.178294</td>\n      <td>0.228466</td>\n    </tr>\n    <tr>\n      <th>2</th>\n      <td>廣告2</td>\n      <td>廣告3</td>\n      <td>15.592417</td>\n      <td>15.748167</td>\n      <td>-0.15575</td>\n      <td>0.781281</td>\n      <td>-0.199352</td>\n      <td>0.900000</td>\n      <td>-0.025655</td>\n    </tr>\n  </tbody>\n</table>\n</div>"
     },
     "metadata": {},
     "execution_count": 6
    }
   ],
   "source": [
    "from pingouin import pairwise_tukey\n",
    "m_comp = pairwise_tukey(data=data, dv='消費金額', between='廣告')\n",
    "m_comp"
   ]
  },
  {
   "source": [
    "## 進階資料處理"
   ],
   "cell_type": "markdown",
   "metadata": {}
  },
  {
   "source": [
    "### 挑選有關的資料欄位"
   ],
   "cell_type": "markdown",
   "metadata": {}
  },
  {
   "cell_type": "code",
   "execution_count": 7,
   "metadata": {},
   "outputs": [
    {
     "output_type": "execute_result",
     "data": {
      "text/plain": [
       "     A    B     diff        se\n",
       "0  廣告1  廣告2  1.54275  0.781281\n",
       "1  廣告1  廣告3  1.38700  0.781281\n",
       "2  廣告2  廣告3 -0.15575  0.781281"
      ],
      "text/html": "<div>\n<style scoped>\n    .dataframe tbody tr th:only-of-type {\n        vertical-align: middle;\n    }\n\n    .dataframe tbody tr th {\n        vertical-align: top;\n    }\n\n    .dataframe thead th {\n        text-align: right;\n    }\n</style>\n<table border=\"1\" class=\"dataframe\">\n  <thead>\n    <tr style=\"text-align: right;\">\n      <th></th>\n      <th>A</th>\n      <th>B</th>\n      <th>diff</th>\n      <th>se</th>\n    </tr>\n  </thead>\n  <tbody>\n    <tr>\n      <th>0</th>\n      <td>廣告1</td>\n      <td>廣告2</td>\n      <td>1.54275</td>\n      <td>0.781281</td>\n    </tr>\n    <tr>\n      <th>1</th>\n      <td>廣告1</td>\n      <td>廣告3</td>\n      <td>1.38700</td>\n      <td>0.781281</td>\n    </tr>\n    <tr>\n      <th>2</th>\n      <td>廣告2</td>\n      <td>廣告3</td>\n      <td>-0.15575</td>\n      <td>0.781281</td>\n    </tr>\n  </tbody>\n</table>\n</div>"
     },
     "metadata": {},
     "execution_count": 7
    }
   ],
   "source": [
    "table = m_comp.drop(columns = ['mean(A)', 'mean(B)', 'T', 'p-tukey', 'hedges'])\n",
    "table"
   ]
  },
  {
   "source": [
    "### 製作相反情況的資料"
   ],
   "cell_type": "markdown",
   "metadata": {}
  },
  {
   "cell_type": "code",
   "execution_count": 8,
   "metadata": {},
   "outputs": [
    {
     "output_type": "execute_result",
     "data": {
      "text/plain": [
       "     A    B     diff        se\n",
       "0  廣告2  廣告1 -1.54275  0.781281\n",
       "1  廣告3  廣告1 -1.38700  0.781281\n",
       "2  廣告3  廣告2  0.15575  0.781281"
      ],
      "text/html": "<div>\n<style scoped>\n    .dataframe tbody tr th:only-of-type {\n        vertical-align: middle;\n    }\n\n    .dataframe tbody tr th {\n        vertical-align: top;\n    }\n\n    .dataframe thead th {\n        text-align: right;\n    }\n</style>\n<table border=\"1\" class=\"dataframe\">\n  <thead>\n    <tr style=\"text-align: right;\">\n      <th></th>\n      <th>A</th>\n      <th>B</th>\n      <th>diff</th>\n      <th>se</th>\n    </tr>\n  </thead>\n  <tbody>\n    <tr>\n      <th>0</th>\n      <td>廣告2</td>\n      <td>廣告1</td>\n      <td>-1.54275</td>\n      <td>0.781281</td>\n    </tr>\n    <tr>\n      <th>1</th>\n      <td>廣告3</td>\n      <td>廣告1</td>\n      <td>-1.38700</td>\n      <td>0.781281</td>\n    </tr>\n    <tr>\n      <th>2</th>\n      <td>廣告3</td>\n      <td>廣告2</td>\n      <td>0.15575</td>\n      <td>0.781281</td>\n    </tr>\n  </tbody>\n</table>\n</div>"
     },
     "metadata": {},
     "execution_count": 8
    }
   ],
   "source": [
    "# 「A」欄反轉資料\n",
    "add_A = table['B'].tolist()\n",
    "# 「B」欄反轉資料\n",
    "add_B = table['A'].tolist()\n",
    "# 「diff」欄反轉資料\n",
    "diff =  (table['diff'] * -1).tolist()\n",
    "# 「se」欄反轉資料\n",
    "se = table['se'].tolist()\n",
    "# 將反轉資料合併\n",
    "table2 = pd.DataFrame(zip(add_A, add_B, diff, se), columns = ['A', 'B', 'diff', 'se'])\n",
    "table2"
   ]
  },
  {
   "source": [
    "### 將原資料與反轉資料進行合併"
   ],
   "cell_type": "markdown",
   "metadata": {}
  },
  {
   "cell_type": "code",
   "execution_count": 9,
   "metadata": {},
   "outputs": [
    {
     "output_type": "execute_result",
     "data": {
      "text/plain": [
       "     A    B     diff        se\n",
       "0  廣告1  廣告2  1.54275  0.781281\n",
       "1  廣告1  廣告3  1.38700  0.781281\n",
       "2  廣告2  廣告3 -0.15575  0.781281\n",
       "3  廣告2  廣告1 -1.54275  0.781281\n",
       "4  廣告3  廣告1 -1.38700  0.781281\n",
       "5  廣告3  廣告2  0.15575  0.781281"
      ],
      "text/html": "<div>\n<style scoped>\n    .dataframe tbody tr th:only-of-type {\n        vertical-align: middle;\n    }\n\n    .dataframe tbody tr th {\n        vertical-align: top;\n    }\n\n    .dataframe thead th {\n        text-align: right;\n    }\n</style>\n<table border=\"1\" class=\"dataframe\">\n  <thead>\n    <tr style=\"text-align: right;\">\n      <th></th>\n      <th>A</th>\n      <th>B</th>\n      <th>diff</th>\n      <th>se</th>\n    </tr>\n  </thead>\n  <tbody>\n    <tr>\n      <th>0</th>\n      <td>廣告1</td>\n      <td>廣告2</td>\n      <td>1.54275</td>\n      <td>0.781281</td>\n    </tr>\n    <tr>\n      <th>1</th>\n      <td>廣告1</td>\n      <td>廣告3</td>\n      <td>1.38700</td>\n      <td>0.781281</td>\n    </tr>\n    <tr>\n      <th>2</th>\n      <td>廣告2</td>\n      <td>廣告3</td>\n      <td>-0.15575</td>\n      <td>0.781281</td>\n    </tr>\n    <tr>\n      <th>3</th>\n      <td>廣告2</td>\n      <td>廣告1</td>\n      <td>-1.54275</td>\n      <td>0.781281</td>\n    </tr>\n    <tr>\n      <th>4</th>\n      <td>廣告3</td>\n      <td>廣告1</td>\n      <td>-1.38700</td>\n      <td>0.781281</td>\n    </tr>\n    <tr>\n      <th>5</th>\n      <td>廣告3</td>\n      <td>廣告2</td>\n      <td>0.15575</td>\n      <td>0.781281</td>\n    </tr>\n  </tbody>\n</table>\n</div>"
     },
     "metadata": {},
     "execution_count": 9
    }
   ],
   "source": [
    "new_table = pd.concat([table, table2], ignore_index=True)\n",
    "new_table"
   ]
  },
  {
   "source": [
    "### 制定上下界"
   ],
   "cell_type": "markdown",
   "metadata": {}
  },
  {
   "cell_type": "code",
   "execution_count": 10,
   "metadata": {},
   "outputs": [
    {
     "output_type": "execute_result",
     "data": {
      "text/plain": [
       "     A    B     diff        se        上界        下界\n",
       "0  廣告1  廣告2  1.54275  0.781281  3.074061  0.011439\n",
       "1  廣告1  廣告3  1.38700  0.781281  2.918311 -0.144311\n",
       "2  廣告2  廣告3 -0.15575  0.781281  1.375561 -1.687061\n",
       "3  廣告2  廣告1 -1.54275  0.781281 -0.011439 -3.074061\n",
       "4  廣告3  廣告1 -1.38700  0.781281  0.144311 -2.918311\n",
       "5  廣告3  廣告2  0.15575  0.781281  1.687061 -1.375561"
      ],
      "text/html": "<div>\n<style scoped>\n    .dataframe tbody tr th:only-of-type {\n        vertical-align: middle;\n    }\n\n    .dataframe tbody tr th {\n        vertical-align: top;\n    }\n\n    .dataframe thead th {\n        text-align: right;\n    }\n</style>\n<table border=\"1\" class=\"dataframe\">\n  <thead>\n    <tr style=\"text-align: right;\">\n      <th></th>\n      <th>A</th>\n      <th>B</th>\n      <th>diff</th>\n      <th>se</th>\n      <th>上界</th>\n      <th>下界</th>\n    </tr>\n  </thead>\n  <tbody>\n    <tr>\n      <th>0</th>\n      <td>廣告1</td>\n      <td>廣告2</td>\n      <td>1.54275</td>\n      <td>0.781281</td>\n      <td>3.074061</td>\n      <td>0.011439</td>\n    </tr>\n    <tr>\n      <th>1</th>\n      <td>廣告1</td>\n      <td>廣告3</td>\n      <td>1.38700</td>\n      <td>0.781281</td>\n      <td>2.918311</td>\n      <td>-0.144311</td>\n    </tr>\n    <tr>\n      <th>2</th>\n      <td>廣告2</td>\n      <td>廣告3</td>\n      <td>-0.15575</td>\n      <td>0.781281</td>\n      <td>1.375561</td>\n      <td>-1.687061</td>\n    </tr>\n    <tr>\n      <th>3</th>\n      <td>廣告2</td>\n      <td>廣告1</td>\n      <td>-1.54275</td>\n      <td>0.781281</td>\n      <td>-0.011439</td>\n      <td>-3.074061</td>\n    </tr>\n    <tr>\n      <th>4</th>\n      <td>廣告3</td>\n      <td>廣告1</td>\n      <td>-1.38700</td>\n      <td>0.781281</td>\n      <td>0.144311</td>\n      <td>-2.918311</td>\n    </tr>\n    <tr>\n      <th>5</th>\n      <td>廣告3</td>\n      <td>廣告2</td>\n      <td>0.15575</td>\n      <td>0.781281</td>\n      <td>1.687061</td>\n      <td>-1.375561</td>\n    </tr>\n  </tbody>\n</table>\n</div>"
     },
     "metadata": {},
     "execution_count": 10
    }
   ],
   "source": [
    "new_table['上界'] = new_table['diff'] + new_table['se']*1.96\n",
    "new_table['下界'] = new_table['diff'] - new_table['se']*1.96\n",
    "new_table"
   ]
  },
  {
   "source": [
    "### 判斷比較結果是否顯著"
   ],
   "cell_type": "markdown",
   "metadata": {}
  },
  {
   "cell_type": "code",
   "execution_count": 11,
   "metadata": {},
   "outputs": [
    {
     "output_type": "execute_result",
     "data": {
      "text/plain": [
       "     A    B     diff        se        上界        下界 是否顯著\n",
       "0  廣告1  廣告2  1.54275  0.781281  3.074061  0.011439  Yes\n",
       "1  廣告1  廣告3  1.38700  0.781281  2.918311 -0.144311   No\n",
       "2  廣告2  廣告3 -0.15575  0.781281  1.375561 -1.687061   No\n",
       "3  廣告2  廣告1 -1.54275  0.781281 -0.011439 -3.074061  Yes\n",
       "4  廣告3  廣告1 -1.38700  0.781281  0.144311 -2.918311   No\n",
       "5  廣告3  廣告2  0.15575  0.781281  1.687061 -1.375561   No"
      ],
      "text/html": "<div>\n<style scoped>\n    .dataframe tbody tr th:only-of-type {\n        vertical-align: middle;\n    }\n\n    .dataframe tbody tr th {\n        vertical-align: top;\n    }\n\n    .dataframe thead th {\n        text-align: right;\n    }\n</style>\n<table border=\"1\" class=\"dataframe\">\n  <thead>\n    <tr style=\"text-align: right;\">\n      <th></th>\n      <th>A</th>\n      <th>B</th>\n      <th>diff</th>\n      <th>se</th>\n      <th>上界</th>\n      <th>下界</th>\n      <th>是否顯著</th>\n    </tr>\n  </thead>\n  <tbody>\n    <tr>\n      <th>0</th>\n      <td>廣告1</td>\n      <td>廣告2</td>\n      <td>1.54275</td>\n      <td>0.781281</td>\n      <td>3.074061</td>\n      <td>0.011439</td>\n      <td>Yes</td>\n    </tr>\n    <tr>\n      <th>1</th>\n      <td>廣告1</td>\n      <td>廣告3</td>\n      <td>1.38700</td>\n      <td>0.781281</td>\n      <td>2.918311</td>\n      <td>-0.144311</td>\n      <td>No</td>\n    </tr>\n    <tr>\n      <th>2</th>\n      <td>廣告2</td>\n      <td>廣告3</td>\n      <td>-0.15575</td>\n      <td>0.781281</td>\n      <td>1.375561</td>\n      <td>-1.687061</td>\n      <td>No</td>\n    </tr>\n    <tr>\n      <th>3</th>\n      <td>廣告2</td>\n      <td>廣告1</td>\n      <td>-1.54275</td>\n      <td>0.781281</td>\n      <td>-0.011439</td>\n      <td>-3.074061</td>\n      <td>Yes</td>\n    </tr>\n    <tr>\n      <th>4</th>\n      <td>廣告3</td>\n      <td>廣告1</td>\n      <td>-1.38700</td>\n      <td>0.781281</td>\n      <td>0.144311</td>\n      <td>-2.918311</td>\n      <td>No</td>\n    </tr>\n    <tr>\n      <th>5</th>\n      <td>廣告3</td>\n      <td>廣告2</td>\n      <td>0.15575</td>\n      <td>0.781281</td>\n      <td>1.687061</td>\n      <td>-1.375561</td>\n      <td>No</td>\n    </tr>\n  </tbody>\n</table>\n</div>"
     },
     "metadata": {},
     "execution_count": 11
    }
   ],
   "source": [
    "import numpy as np\n",
    "justice = []\n",
    "# 判斷是否顯著\n",
    "for i in range(0,new_table.shape[0]):\n",
    "    upper = np.sign(new_table.iloc[i,4]) # 上界正負數判斷\n",
    "    lower = np.sign(new_table.iloc[i,5]) # 下界正負數判斷\n",
    "    # 如果上下界同時為正數或負數，則代表顯著\n",
    "    if upper == lower:\n",
    "        justice.append('Yes')\n",
    "    # 否則代表不顯著\n",
    "    else:\n",
    "        justice.append('No')\n",
    "new_table['是否顯著'] = justice\n",
    "new_table"
   ]
  },
  {
   "source": [
    "## 視覺化呈現"
   ],
   "cell_type": "markdown",
   "metadata": {}
  },
  {
   "source": [
    "### 繪圖"
   ],
   "cell_type": "markdown",
   "metadata": {}
  },
  {
   "cell_type": "code",
   "execution_count": 12,
   "metadata": {},
   "outputs": [],
   "source": [
    "import plotly.offline as py\n",
    "import plotly.graph_objects as go\n",
    "fig = go.Figure()\n",
    "# 透過迴圈，逐一繪製每筆資料\n",
    "for i in range(0, new_table.shape[0]):\n",
    "    if new_table.iloc[i,6] == 'Yes':\n",
    "        color = 'firebrick'\n",
    "        name = '顯著'\n",
    "    else:\n",
    "        color = 'green'\n",
    "        name = '不顯著'\n",
    "    fig.add_trace(go.Scatter(\n",
    "        x = [new_table.iloc[i,5], new_table.iloc[i,2], new_table.iloc[i,4]],\n",
    "        y = [new_table.iloc[i,0] + '-' + new_table.iloc[i,1], new_table.iloc[i,0] + '-' + new_table.iloc[i,1], new_table.iloc[i,0] + '-' + new_table.iloc[i,1]],\n",
    "        mode = \"lines+markers\",\n",
    "        textfont=dict(\n",
    "            family=\"sans serif\",\n",
    "            size=16,\n",
    "            color=color),    \n",
    "            line=dict(color=color, width=2),\n",
    "        name = name,\n",
    "        legendgroup = name,\n",
    "        ))"
   ]
  },
  {
   "source": [
    "### 佈景主題設定"
   ],
   "cell_type": "markdown",
   "metadata": {}
  },
  {
   "cell_type": "code",
   "execution_count": 13,
   "metadata": {},
   "outputs": [
    {
     "output_type": "display_data",
     "data": {
      "application/vnd.plotly.v1+json": {
       "config": {
        "plotlyServerURL": "https://plot.ly"
       },
       "data": [
        {
         "legendgroup": "顯著",
         "line": {
          "color": "firebrick",
          "width": 2
         },
         "mode": "lines+markers",
         "name": "顯著",
         "textfont": {
          "color": "firebrick",
          "family": "sans serif",
          "size": 16
         },
         "type": "scatter",
         "x": [
          0.011439440747863072,
          1.5427500000000105,
          3.0740605592521577
         ],
         "y": [
          "廣告1-廣告2",
          "廣告1-廣告2",
          "廣告1-廣告2"
         ]
        },
        {
         "legendgroup": "不顯著",
         "line": {
          "color": "green",
          "width": 2
         },
         "mode": "lines+markers",
         "name": "不顯著",
         "textfont": {
          "color": "green",
          "family": "sans serif",
          "size": 16
         },
         "type": "scatter",
         "x": [
          -0.14431055925213632,
          1.3870000000000111,
          2.9183105592521583
         ],
         "y": [
          "廣告1-廣告3",
          "廣告1-廣告3",
          "廣告1-廣告3"
         ]
        },
        {
         "legendgroup": "不顯著",
         "line": {
          "color": "green",
          "width": 2
         },
         "mode": "lines+markers",
         "name": "不顯著",
         "textfont": {
          "color": "green",
          "family": "sans serif",
          "size": 16
         },
         "type": "scatter",
         "x": [
          -1.6870605592521468,
          -0.1557499999999994,
          1.375560559252148
         ],
         "y": [
          "廣告2-廣告3",
          "廣告2-廣告3",
          "廣告2-廣告3"
         ]
        },
        {
         "legendgroup": "顯著",
         "line": {
          "color": "firebrick",
          "width": 2
         },
         "mode": "lines+markers",
         "name": "顯著",
         "textfont": {
          "color": "firebrick",
          "family": "sans serif",
          "size": 16
         },
         "type": "scatter",
         "x": [
          -3.0740605592521577,
          -1.5427500000000105,
          -0.011439440747863072
         ],
         "y": [
          "廣告2-廣告1",
          "廣告2-廣告1",
          "廣告2-廣告1"
         ]
        },
        {
         "legendgroup": "不顯著",
         "line": {
          "color": "green",
          "width": 2
         },
         "mode": "lines+markers",
         "name": "不顯著",
         "textfont": {
          "color": "green",
          "family": "sans serif",
          "size": 16
         },
         "type": "scatter",
         "x": [
          -2.9183105592521583,
          -1.3870000000000111,
          0.14431055925213632
         ],
         "y": [
          "廣告3-廣告1",
          "廣告3-廣告1",
          "廣告3-廣告1"
         ]
        },
        {
         "legendgroup": "不顯著",
         "line": {
          "color": "green",
          "width": 2
         },
         "mode": "lines+markers",
         "name": "不顯著",
         "textfont": {
          "color": "green",
          "family": "sans serif",
          "size": 16
         },
         "type": "scatter",
         "x": [
          -1.375560559252148,
          0.1557499999999994,
          1.6870605592521468
         ],
         "y": [
          "廣告3-廣告2",
          "廣告3-廣告2",
          "廣告3-廣告2"
         ]
        }
       ],
       "layout": {
        "boxmode": "group",
        "font": {
         "color": "lightslategrey",
         "family": "Courier New, monospace",
         "size": 20
        },
        "height": 960,
        "template": {
         "data": {
          "bar": [
           {
            "error_x": {
             "color": "#2a3f5f"
            },
            "error_y": {
             "color": "#2a3f5f"
            },
            "marker": {
             "line": {
              "color": "#E5ECF6",
              "width": 0.5
             }
            },
            "type": "bar"
           }
          ],
          "barpolar": [
           {
            "marker": {
             "line": {
              "color": "#E5ECF6",
              "width": 0.5
             }
            },
            "type": "barpolar"
           }
          ],
          "carpet": [
           {
            "aaxis": {
             "endlinecolor": "#2a3f5f",
             "gridcolor": "white",
             "linecolor": "white",
             "minorgridcolor": "white",
             "startlinecolor": "#2a3f5f"
            },
            "baxis": {
             "endlinecolor": "#2a3f5f",
             "gridcolor": "white",
             "linecolor": "white",
             "minorgridcolor": "white",
             "startlinecolor": "#2a3f5f"
            },
            "type": "carpet"
           }
          ],
          "choropleth": [
           {
            "colorbar": {
             "outlinewidth": 0,
             "ticks": ""
            },
            "type": "choropleth"
           }
          ],
          "contour": [
           {
            "colorbar": {
             "outlinewidth": 0,
             "ticks": ""
            },
            "colorscale": [
             [
              0,
              "#0d0887"
             ],
             [
              0.1111111111111111,
              "#46039f"
             ],
             [
              0.2222222222222222,
              "#7201a8"
             ],
             [
              0.3333333333333333,
              "#9c179e"
             ],
             [
              0.4444444444444444,
              "#bd3786"
             ],
             [
              0.5555555555555556,
              "#d8576b"
             ],
             [
              0.6666666666666666,
              "#ed7953"
             ],
             [
              0.7777777777777778,
              "#fb9f3a"
             ],
             [
              0.8888888888888888,
              "#fdca26"
             ],
             [
              1,
              "#f0f921"
             ]
            ],
            "type": "contour"
           }
          ],
          "contourcarpet": [
           {
            "colorbar": {
             "outlinewidth": 0,
             "ticks": ""
            },
            "type": "contourcarpet"
           }
          ],
          "heatmap": [
           {
            "colorbar": {
             "outlinewidth": 0,
             "ticks": ""
            },
            "colorscale": [
             [
              0,
              "#0d0887"
             ],
             [
              0.1111111111111111,
              "#46039f"
             ],
             [
              0.2222222222222222,
              "#7201a8"
             ],
             [
              0.3333333333333333,
              "#9c179e"
             ],
             [
              0.4444444444444444,
              "#bd3786"
             ],
             [
              0.5555555555555556,
              "#d8576b"
             ],
             [
              0.6666666666666666,
              "#ed7953"
             ],
             [
              0.7777777777777778,
              "#fb9f3a"
             ],
             [
              0.8888888888888888,
              "#fdca26"
             ],
             [
              1,
              "#f0f921"
             ]
            ],
            "type": "heatmap"
           }
          ],
          "heatmapgl": [
           {
            "colorbar": {
             "outlinewidth": 0,
             "ticks": ""
            },
            "colorscale": [
             [
              0,
              "#0d0887"
             ],
             [
              0.1111111111111111,
              "#46039f"
             ],
             [
              0.2222222222222222,
              "#7201a8"
             ],
             [
              0.3333333333333333,
              "#9c179e"
             ],
             [
              0.4444444444444444,
              "#bd3786"
             ],
             [
              0.5555555555555556,
              "#d8576b"
             ],
             [
              0.6666666666666666,
              "#ed7953"
             ],
             [
              0.7777777777777778,
              "#fb9f3a"
             ],
             [
              0.8888888888888888,
              "#fdca26"
             ],
             [
              1,
              "#f0f921"
             ]
            ],
            "type": "heatmapgl"
           }
          ],
          "histogram": [
           {
            "marker": {
             "colorbar": {
              "outlinewidth": 0,
              "ticks": ""
             }
            },
            "type": "histogram"
           }
          ],
          "histogram2d": [
           {
            "colorbar": {
             "outlinewidth": 0,
             "ticks": ""
            },
            "colorscale": [
             [
              0,
              "#0d0887"
             ],
             [
              0.1111111111111111,
              "#46039f"
             ],
             [
              0.2222222222222222,
              "#7201a8"
             ],
             [
              0.3333333333333333,
              "#9c179e"
             ],
             [
              0.4444444444444444,
              "#bd3786"
             ],
             [
              0.5555555555555556,
              "#d8576b"
             ],
             [
              0.6666666666666666,
              "#ed7953"
             ],
             [
              0.7777777777777778,
              "#fb9f3a"
             ],
             [
              0.8888888888888888,
              "#fdca26"
             ],
             [
              1,
              "#f0f921"
             ]
            ],
            "type": "histogram2d"
           }
          ],
          "histogram2dcontour": [
           {
            "colorbar": {
             "outlinewidth": 0,
             "ticks": ""
            },
            "colorscale": [
             [
              0,
              "#0d0887"
             ],
             [
              0.1111111111111111,
              "#46039f"
             ],
             [
              0.2222222222222222,
              "#7201a8"
             ],
             [
              0.3333333333333333,
              "#9c179e"
             ],
             [
              0.4444444444444444,
              "#bd3786"
             ],
             [
              0.5555555555555556,
              "#d8576b"
             ],
             [
              0.6666666666666666,
              "#ed7953"
             ],
             [
              0.7777777777777778,
              "#fb9f3a"
             ],
             [
              0.8888888888888888,
              "#fdca26"
             ],
             [
              1,
              "#f0f921"
             ]
            ],
            "type": "histogram2dcontour"
           }
          ],
          "mesh3d": [
           {
            "colorbar": {
             "outlinewidth": 0,
             "ticks": ""
            },
            "type": "mesh3d"
           }
          ],
          "parcoords": [
           {
            "line": {
             "colorbar": {
              "outlinewidth": 0,
              "ticks": ""
             }
            },
            "type": "parcoords"
           }
          ],
          "pie": [
           {
            "automargin": true,
            "type": "pie"
           }
          ],
          "scatter": [
           {
            "marker": {
             "colorbar": {
              "outlinewidth": 0,
              "ticks": ""
             }
            },
            "type": "scatter"
           }
          ],
          "scatter3d": [
           {
            "line": {
             "colorbar": {
              "outlinewidth": 0,
              "ticks": ""
             }
            },
            "marker": {
             "colorbar": {
              "outlinewidth": 0,
              "ticks": ""
             }
            },
            "type": "scatter3d"
           }
          ],
          "scattercarpet": [
           {
            "marker": {
             "colorbar": {
              "outlinewidth": 0,
              "ticks": ""
             }
            },
            "type": "scattercarpet"
           }
          ],
          "scattergeo": [
           {
            "marker": {
             "colorbar": {
              "outlinewidth": 0,
              "ticks": ""
             }
            },
            "type": "scattergeo"
           }
          ],
          "scattergl": [
           {
            "marker": {
             "colorbar": {
              "outlinewidth": 0,
              "ticks": ""
             }
            },
            "type": "scattergl"
           }
          ],
          "scattermapbox": [
           {
            "marker": {
             "colorbar": {
              "outlinewidth": 0,
              "ticks": ""
             }
            },
            "type": "scattermapbox"
           }
          ],
          "scatterpolar": [
           {
            "marker": {
             "colorbar": {
              "outlinewidth": 0,
              "ticks": ""
             }
            },
            "type": "scatterpolar"
           }
          ],
          "scatterpolargl": [
           {
            "marker": {
             "colorbar": {
              "outlinewidth": 0,
              "ticks": ""
             }
            },
            "type": "scatterpolargl"
           }
          ],
          "scatterternary": [
           {
            "marker": {
             "colorbar": {
              "outlinewidth": 0,
              "ticks": ""
             }
            },
            "type": "scatterternary"
           }
          ],
          "surface": [
           {
            "colorbar": {
             "outlinewidth": 0,
             "ticks": ""
            },
            "colorscale": [
             [
              0,
              "#0d0887"
             ],
             [
              0.1111111111111111,
              "#46039f"
             ],
             [
              0.2222222222222222,
              "#7201a8"
             ],
             [
              0.3333333333333333,
              "#9c179e"
             ],
             [
              0.4444444444444444,
              "#bd3786"
             ],
             [
              0.5555555555555556,
              "#d8576b"
             ],
             [
              0.6666666666666666,
              "#ed7953"
             ],
             [
              0.7777777777777778,
              "#fb9f3a"
             ],
             [
              0.8888888888888888,
              "#fdca26"
             ],
             [
              1,
              "#f0f921"
             ]
            ],
            "type": "surface"
           }
          ],
          "table": [
           {
            "cells": {
             "fill": {
              "color": "#EBF0F8"
             },
             "line": {
              "color": "white"
             }
            },
            "header": {
             "fill": {
              "color": "#C8D4E3"
             },
             "line": {
              "color": "white"
             }
            },
            "type": "table"
           }
          ]
         },
         "layout": {
          "annotationdefaults": {
           "arrowcolor": "#2a3f5f",
           "arrowhead": 0,
           "arrowwidth": 1
          },
          "autotypenumbers": "strict",
          "coloraxis": {
           "colorbar": {
            "outlinewidth": 0,
            "ticks": ""
           }
          },
          "colorscale": {
           "diverging": [
            [
             0,
             "#8e0152"
            ],
            [
             0.1,
             "#c51b7d"
            ],
            [
             0.2,
             "#de77ae"
            ],
            [
             0.3,
             "#f1b6da"
            ],
            [
             0.4,
             "#fde0ef"
            ],
            [
             0.5,
             "#f7f7f7"
            ],
            [
             0.6,
             "#e6f5d0"
            ],
            [
             0.7,
             "#b8e186"
            ],
            [
             0.8,
             "#7fbc41"
            ],
            [
             0.9,
             "#4d9221"
            ],
            [
             1,
             "#276419"
            ]
           ],
           "sequential": [
            [
             0,
             "#0d0887"
            ],
            [
             0.1111111111111111,
             "#46039f"
            ],
            [
             0.2222222222222222,
             "#7201a8"
            ],
            [
             0.3333333333333333,
             "#9c179e"
            ],
            [
             0.4444444444444444,
             "#bd3786"
            ],
            [
             0.5555555555555556,
             "#d8576b"
            ],
            [
             0.6666666666666666,
             "#ed7953"
            ],
            [
             0.7777777777777778,
             "#fb9f3a"
            ],
            [
             0.8888888888888888,
             "#fdca26"
            ],
            [
             1,
             "#f0f921"
            ]
           ],
           "sequentialminus": [
            [
             0,
             "#0d0887"
            ],
            [
             0.1111111111111111,
             "#46039f"
            ],
            [
             0.2222222222222222,
             "#7201a8"
            ],
            [
             0.3333333333333333,
             "#9c179e"
            ],
            [
             0.4444444444444444,
             "#bd3786"
            ],
            [
             0.5555555555555556,
             "#d8576b"
            ],
            [
             0.6666666666666666,
             "#ed7953"
            ],
            [
             0.7777777777777778,
             "#fb9f3a"
            ],
            [
             0.8888888888888888,
             "#fdca26"
            ],
            [
             1,
             "#f0f921"
            ]
           ]
          },
          "colorway": [
           "#636efa",
           "#EF553B",
           "#00cc96",
           "#ab63fa",
           "#FFA15A",
           "#19d3f3",
           "#FF6692",
           "#B6E880",
           "#FF97FF",
           "#FECB52"
          ],
          "font": {
           "color": "#2a3f5f"
          },
          "geo": {
           "bgcolor": "white",
           "lakecolor": "white",
           "landcolor": "#E5ECF6",
           "showlakes": true,
           "showland": true,
           "subunitcolor": "white"
          },
          "hoverlabel": {
           "align": "left"
          },
          "hovermode": "closest",
          "mapbox": {
           "style": "light"
          },
          "paper_bgcolor": "white",
          "plot_bgcolor": "#E5ECF6",
          "polar": {
           "angularaxis": {
            "gridcolor": "white",
            "linecolor": "white",
            "ticks": ""
           },
           "bgcolor": "#E5ECF6",
           "radialaxis": {
            "gridcolor": "white",
            "linecolor": "white",
            "ticks": ""
           }
          },
          "scene": {
           "xaxis": {
            "backgroundcolor": "#E5ECF6",
            "gridcolor": "white",
            "gridwidth": 2,
            "linecolor": "white",
            "showbackground": true,
            "ticks": "",
            "zerolinecolor": "white"
           },
           "yaxis": {
            "backgroundcolor": "#E5ECF6",
            "gridcolor": "white",
            "gridwidth": 2,
            "linecolor": "white",
            "showbackground": true,
            "ticks": "",
            "zerolinecolor": "white"
           },
           "zaxis": {
            "backgroundcolor": "#E5ECF6",
            "gridcolor": "white",
            "gridwidth": 2,
            "linecolor": "white",
            "showbackground": true,
            "ticks": "",
            "zerolinecolor": "white"
           }
          },
          "shapedefaults": {
           "line": {
            "color": "#2a3f5f"
           }
          },
          "ternary": {
           "aaxis": {
            "gridcolor": "white",
            "linecolor": "white",
            "ticks": ""
           },
           "baxis": {
            "gridcolor": "white",
            "linecolor": "white",
            "ticks": ""
           },
           "bgcolor": "#E5ECF6",
           "caxis": {
            "gridcolor": "white",
            "linecolor": "white",
            "ticks": ""
           }
          },
          "title": {
           "x": 0.05
          },
          "xaxis": {
           "automargin": true,
           "gridcolor": "white",
           "linecolor": "white",
           "ticks": "",
           "title": {
            "standoff": 15
           },
           "zerolinecolor": "white",
           "zerolinewidth": 2
          },
          "yaxis": {
           "automargin": true,
           "gridcolor": "white",
           "linecolor": "white",
           "ticks": "",
           "title": {
            "standoff": 15
           },
           "zerolinecolor": "white",
           "zerolinewidth": 2
          }
         }
        },
        "title": {
         "text": "<b>One-Way ANOVA 廣告效益分析</b>",
         "x": 0.5,
         "xanchor": "center",
         "y": 0.95
        },
        "width": 1800
       }
      }
     },
     "metadata": {}
    }
   ],
   "source": [
    "fig.update_layout(\n",
    "    title={\n",
    "        'text': \"<b>One-Way ANOVA 廣告效益分析</b>\",\n",
    "        'y':0.95,\n",
    "        'x':0.5,\n",
    "        'xanchor': 'center',},\n",
    "    width=1800,\n",
    "    height=960,\n",
    "    boxmode='group',\n",
    "    font=dict(\n",
    "        family=\"Courier New, monospace\",\n",
    "        size=20,\n",
    "        color=\"lightslategrey\"\n",
    "    )\n",
    "    )   "
   ]
  },
  {
   "source": [
    "### 將產出另存新檔"
   ],
   "cell_type": "markdown",
   "metadata": {}
  },
  {
   "cell_type": "code",
   "execution_count": 14,
   "metadata": {},
   "outputs": [
    {
     "output_type": "stream",
     "name": "stderr",
     "text": [
      "C:\\Users\\user\\AppData\\Local\\Programs\\Python\\Python37\\lib\\site-packages\\plotly\\offline\\offline.py:563: UserWarning:\n\nYour filename `CH4-22產出成果_廣告效益分析圖` didn't end with .html. Adding .html to the end of your file.\n\n"
     ]
    }
   ],
   "source": [
    "# 另存互動式網頁\n",
    "py.plot(fig, filename='CH4-22產出成果_廣告效益分析圖', auto_open=True)\n",
    "# 另存.png圖檔\n",
    "fig.write_image(\"CH4-22產出成果_廣告效益分析圖.png\")"
   ]
  }
 ]
}