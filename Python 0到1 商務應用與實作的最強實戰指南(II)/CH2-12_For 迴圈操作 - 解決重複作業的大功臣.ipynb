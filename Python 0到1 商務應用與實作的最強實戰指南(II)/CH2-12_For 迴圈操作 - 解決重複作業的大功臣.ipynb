{
 "metadata": {
  "language_info": {
   "codemirror_mode": {
    "name": "ipython",
    "version": 3
   },
   "file_extension": ".py",
   "mimetype": "text/x-python",
   "name": "python",
   "nbconvert_exporter": "python",
   "pygments_lexer": "ipython3",
   "version": "3.7.7"
  },
  "orig_nbformat": 2,
  "kernelspec": {
   "name": "python377jvsc74a57bd017f2ce44bac20d6eeee1e2d5412832c660463c83b55cd2014f071e9a7bf66530",
   "display_name": "Python 3.7.7 64-bit ('new': conda)"
  }
 },
 "nbformat": 4,
 "nbformat_minor": 2,
 "cells": [
  {
   "source": [
    "# `For 迴圈操作 - 解決重複作業的大功臣`\n",
    "### 作者：徐子皓\n",
    "***"
   ],
   "cell_type": "markdown",
   "metadata": {}
  },
  {
   "source": [
    "## for迴圈運作原理\n",
    "for迴圈可重複地進行相同的工作"
   ],
   "cell_type": "markdown",
   "metadata": {}
  },
  {
   "source": [
    "### 沒使用for迴圈－逐行輸入指令"
   ],
   "cell_type": "markdown",
   "metadata": {}
  },
  {
   "cell_type": "code",
   "execution_count": 1,
   "metadata": {},
   "outputs": [
    {
     "output_type": "stream",
     "name": "stdout",
     "text": [
      "1\n2\n3\n"
     ]
    }
   ],
   "source": [
    "print(1)\n",
    "print(2)\n",
    "print(3)"
   ]
  },
  {
   "source": [
    "### 使用for迴圈－一次處理完畢"
   ],
   "cell_type": "markdown",
   "metadata": {}
  },
  {
   "cell_type": "code",
   "execution_count": 2,
   "metadata": {},
   "outputs": [
    {
     "output_type": "stream",
     "name": "stdout",
     "text": [
      "A\nB\nC\n"
     ]
    }
   ],
   "source": [
    "a = ['A','B','C']\n",
    "for i in a:\n",
    "    print(i)"
   ]
  },
  {
   "source": [
    "## for迴圈基礎應用－設定range\n",
    "range括號中的三個數字分別代表了：(`起始值`,`終點值`,`遞增間隔數值`)"
   ],
   "cell_type": "markdown",
   "metadata": {}
  },
  {
   "cell_type": "code",
   "execution_count": 3,
   "metadata": {},
   "outputs": [
    {
     "output_type": "stream",
     "name": "stdout",
     "text": [
      "1\n2\n3\n4\n5\n"
     ]
    }
   ],
   "source": [
    "for i in range(1, 6, 1):\n",
    "    print(i)"
   ]
  },
  {
   "cell_type": "code",
   "execution_count": 4,
   "metadata": {},
   "outputs": [
    {
     "output_type": "stream",
     "name": "stdout",
     "text": [
      "5\n4\n3\n2\n1\n"
     ]
    }
   ],
   "source": [
    "for i in range(5, 0, -1):\n",
    "    print(i)"
   ]
  },
  {
   "source": [
    "## for迴圈進階運用－尋找特定內容\n",
    "利用for迴圈結合if判斷式做綜合應用"
   ],
   "cell_type": "markdown",
   "metadata": {}
  },
  {
   "cell_type": "code",
   "execution_count": 5,
   "metadata": {},
   "outputs": [
    {
     "output_type": "stream",
     "name": "stdout",
     "text": [
      "今日頭條新聞，TMR公司開設行銷資料科學專班\nTMR課程好\n"
     ]
    }
   ],
   "source": [
    "tmrlist = ['今日頭條新聞，TMR公司開設行銷資料科學專班', \n",
    "           '好棒棒', 'TMR課程好']\n",
    "for i in tmrlist:\n",
    "    if 'TMR' in i:\n",
    "        print(i)"
   ]
  }
 ]
}