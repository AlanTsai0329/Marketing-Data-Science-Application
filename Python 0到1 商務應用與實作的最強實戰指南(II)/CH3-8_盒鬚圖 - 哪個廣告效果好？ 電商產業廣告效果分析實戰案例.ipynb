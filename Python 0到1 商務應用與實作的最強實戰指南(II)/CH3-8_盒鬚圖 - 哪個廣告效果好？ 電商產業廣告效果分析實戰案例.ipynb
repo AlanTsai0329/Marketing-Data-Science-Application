{
 "metadata": {
  "language_info": {
   "codemirror_mode": {
    "name": "ipython",
    "version": 3
   },
   "file_extension": ".py",
   "mimetype": "text/x-python",
   "name": "python",
   "nbconvert_exporter": "python",
   "pygments_lexer": "ipython3",
   "version": "3.7.9"
  },
  "orig_nbformat": 2,
  "kernelspec": {
   "name": "python379jvsc74a57bd05d87b42201e74ac320bc00dce267d44f5f134edfec9046f67f672f289707ff6a",
   "display_name": "Python 3.7.9 64-bit"
  },
  "metadata": {
   "interpreter": {
    "hash": "5d87b42201e74ac320bc00dce267d44f5f134edfec9046f67f672f289707ff6a"
   }
  }
 },
 "nbformat": 4,
 "nbformat_minor": 2,
 "cells": [
  {
   "source": [
    "# `盒鬚圖 - 哪個廣告效果好？ 電商產業廣告效果分析實戰案例`\n",
    "### 作者：徐子皓\n",
    "***"
   ],
   "cell_type": "markdown",
   "metadata": {}
  },
  {
   "source": [
    "## 引入套件包與原始資料"
   ],
   "cell_type": "markdown",
   "metadata": {}
  },
  {
   "cell_type": "code",
   "execution_count": 1,
   "metadata": {},
   "outputs": [
    {
     "output_type": "execute_result",
     "data": {
      "text/plain": [
       "              顏色       單價       成本   系列     產品                 訂單時間  \\\n",
       "0            NaN  643.195  394.800  系列4  產品4-1  2016-01-01T03:19:35   \n",
       "1            NaN  391.510  225.365  系列4  產品4-2  2016-01-01T03:19:35   \n",
       "2  watermelonred  713.930  416.185  系列4  產品4-3  2016-01-01T03:19:35   \n",
       "3            NaN  557.655  337.225  系列4  產品4-4  2016-01-01T03:19:35   \n",
       "4          white  628.390  366.835  系列4  產品4-3  2016-01-01T03:19:35   \n",
       "\n",
       "            會員      性別    年紀     廣告代號all 尺寸  \n",
       "0  B_GSJ_06674  FEMALE  32.0  廣告_YND_pid  無  \n",
       "1  B_GSJ_06674  FEMALE  32.0  廣告_YND_pid  無  \n",
       "2  B_GSJ_06674  FEMALE  32.0  廣告_YND_pid  S  \n",
       "3  B_GSJ_06674  FEMALE  32.0  廣告_YND_pid  無  \n",
       "4  B_GSJ_06674  FEMALE  32.0  廣告_YND_pid  S  "
      ],
      "text/html": "<div>\n<style scoped>\n    .dataframe tbody tr th:only-of-type {\n        vertical-align: middle;\n    }\n\n    .dataframe tbody tr th {\n        vertical-align: top;\n    }\n\n    .dataframe thead th {\n        text-align: right;\n    }\n</style>\n<table border=\"1\" class=\"dataframe\">\n  <thead>\n    <tr style=\"text-align: right;\">\n      <th></th>\n      <th>顏色</th>\n      <th>單價</th>\n      <th>成本</th>\n      <th>系列</th>\n      <th>產品</th>\n      <th>訂單時間</th>\n      <th>會員</th>\n      <th>性別</th>\n      <th>年紀</th>\n      <th>廣告代號all</th>\n      <th>尺寸</th>\n    </tr>\n  </thead>\n  <tbody>\n    <tr>\n      <th>0</th>\n      <td>NaN</td>\n      <td>643.195</td>\n      <td>394.800</td>\n      <td>系列4</td>\n      <td>產品4-1</td>\n      <td>2016-01-01T03:19:35</td>\n      <td>B_GSJ_06674</td>\n      <td>FEMALE</td>\n      <td>32.0</td>\n      <td>廣告_YND_pid</td>\n      <td>無</td>\n    </tr>\n    <tr>\n      <th>1</th>\n      <td>NaN</td>\n      <td>391.510</td>\n      <td>225.365</td>\n      <td>系列4</td>\n      <td>產品4-2</td>\n      <td>2016-01-01T03:19:35</td>\n      <td>B_GSJ_06674</td>\n      <td>FEMALE</td>\n      <td>32.0</td>\n      <td>廣告_YND_pid</td>\n      <td>無</td>\n    </tr>\n    <tr>\n      <th>2</th>\n      <td>watermelonred</td>\n      <td>713.930</td>\n      <td>416.185</td>\n      <td>系列4</td>\n      <td>產品4-3</td>\n      <td>2016-01-01T03:19:35</td>\n      <td>B_GSJ_06674</td>\n      <td>FEMALE</td>\n      <td>32.0</td>\n      <td>廣告_YND_pid</td>\n      <td>S</td>\n    </tr>\n    <tr>\n      <th>3</th>\n      <td>NaN</td>\n      <td>557.655</td>\n      <td>337.225</td>\n      <td>系列4</td>\n      <td>產品4-4</td>\n      <td>2016-01-01T03:19:35</td>\n      <td>B_GSJ_06674</td>\n      <td>FEMALE</td>\n      <td>32.0</td>\n      <td>廣告_YND_pid</td>\n      <td>無</td>\n    </tr>\n    <tr>\n      <th>4</th>\n      <td>white</td>\n      <td>628.390</td>\n      <td>366.835</td>\n      <td>系列4</td>\n      <td>產品4-3</td>\n      <td>2016-01-01T03:19:35</td>\n      <td>B_GSJ_06674</td>\n      <td>FEMALE</td>\n      <td>32.0</td>\n      <td>廣告_YND_pid</td>\n      <td>S</td>\n    </tr>\n  </tbody>\n</table>\n</div>"
     },
     "metadata": {},
     "execution_count": 1
    }
   ],
   "source": [
    "# 引入套件包\n",
    "import pandas as pd\n",
    "import os\n",
    "from collections import Counter\n",
    "import heapq\n",
    "import plotly.offline as py\n",
    "import plotly.graph_objects as go\n",
    "# 引入電商資料\n",
    "data = pd.read_csv(\"電商交易資料.csv\", encoding='utf-8-sig')\n",
    "data.head()"
   ]
  },
  {
   "source": [
    "## 資料處理"
   ],
   "cell_type": "markdown",
   "metadata": {}
  },
  {
   "source": [
    "### 篩選資料欄位、挑選產品系列"
   ],
   "cell_type": "markdown",
   "metadata": {}
  },
  {
   "cell_type": "code",
   "execution_count": 2,
   "metadata": {},
   "outputs": [
    {
     "output_type": "execute_result",
     "data": {
      "text/plain": [
       "        單價       成本   系列                 訂單時間     廣告代號all\n",
       "0  643.195  394.800  系列4  2016-01-01T03:19:35  廣告_YND_pid\n",
       "1  391.510  225.365  系列4  2016-01-01T03:19:35  廣告_YND_pid\n",
       "2  713.930  416.185  系列4  2016-01-01T03:19:35  廣告_YND_pid\n",
       "3  557.655  337.225  系列4  2016-01-01T03:19:35  廣告_YND_pid\n",
       "4  628.390  366.835  系列4  2016-01-01T03:19:35  廣告_YND_pid"
      ],
      "text/html": "<div>\n<style scoped>\n    .dataframe tbody tr th:only-of-type {\n        vertical-align: middle;\n    }\n\n    .dataframe tbody tr th {\n        vertical-align: top;\n    }\n\n    .dataframe thead th {\n        text-align: right;\n    }\n</style>\n<table border=\"1\" class=\"dataframe\">\n  <thead>\n    <tr style=\"text-align: right;\">\n      <th></th>\n      <th>單價</th>\n      <th>成本</th>\n      <th>系列</th>\n      <th>訂單時間</th>\n      <th>廣告代號all</th>\n    </tr>\n  </thead>\n  <tbody>\n    <tr>\n      <th>0</th>\n      <td>643.195</td>\n      <td>394.800</td>\n      <td>系列4</td>\n      <td>2016-01-01T03:19:35</td>\n      <td>廣告_YND_pid</td>\n    </tr>\n    <tr>\n      <th>1</th>\n      <td>391.510</td>\n      <td>225.365</td>\n      <td>系列4</td>\n      <td>2016-01-01T03:19:35</td>\n      <td>廣告_YND_pid</td>\n    </tr>\n    <tr>\n      <th>2</th>\n      <td>713.930</td>\n      <td>416.185</td>\n      <td>系列4</td>\n      <td>2016-01-01T03:19:35</td>\n      <td>廣告_YND_pid</td>\n    </tr>\n    <tr>\n      <th>3</th>\n      <td>557.655</td>\n      <td>337.225</td>\n      <td>系列4</td>\n      <td>2016-01-01T03:19:35</td>\n      <td>廣告_YND_pid</td>\n    </tr>\n    <tr>\n      <th>4</th>\n      <td>628.390</td>\n      <td>366.835</td>\n      <td>系列4</td>\n      <td>2016-01-01T03:19:35</td>\n      <td>廣告_YND_pid</td>\n    </tr>\n  </tbody>\n</table>\n</div>"
     },
     "metadata": {},
     "execution_count": 2
    }
   ],
   "source": [
    "data = data[['單價', '成本', '系列', '訂單時間', '廣告代號all']]\n",
    "data = data[data['系列'] == '系列4']\n",
    "data.head()"
   ]
  },
  {
   "source": [
    "### 以「_」區分廣告代號"
   ],
   "cell_type": "markdown",
   "metadata": {}
  },
  {
   "cell_type": "code",
   "execution_count": 3,
   "metadata": {},
   "outputs": [
    {
     "output_type": "execute_result",
     "data": {
      "text/plain": [
       "        0     1    2\n",
       "0      廣告   YND  pid\n",
       "1      廣告   YND  pid\n",
       "2      廣告   YND  pid\n",
       "3      廣告   YND  pid\n",
       "4      廣告   YND  pid\n",
       "...    ..   ...  ...\n",
       "11054  廣告  KBDG   MP\n",
       "11055  廣告  KBDG   MP\n",
       "11056  廣告  KBDG   MP\n",
       "11057  廣告  KBDG   MP\n",
       "11058  廣告  KBDG   MP\n",
       "\n",
       "[11059 rows x 3 columns]"
      ],
      "text/html": "<div>\n<style scoped>\n    .dataframe tbody tr th:only-of-type {\n        vertical-align: middle;\n    }\n\n    .dataframe tbody tr th {\n        vertical-align: top;\n    }\n\n    .dataframe thead th {\n        text-align: right;\n    }\n</style>\n<table border=\"1\" class=\"dataframe\">\n  <thead>\n    <tr style=\"text-align: right;\">\n      <th></th>\n      <th>0</th>\n      <th>1</th>\n      <th>2</th>\n    </tr>\n  </thead>\n  <tbody>\n    <tr>\n      <th>0</th>\n      <td>廣告</td>\n      <td>YND</td>\n      <td>pid</td>\n    </tr>\n    <tr>\n      <th>1</th>\n      <td>廣告</td>\n      <td>YND</td>\n      <td>pid</td>\n    </tr>\n    <tr>\n      <th>2</th>\n      <td>廣告</td>\n      <td>YND</td>\n      <td>pid</td>\n    </tr>\n    <tr>\n      <th>3</th>\n      <td>廣告</td>\n      <td>YND</td>\n      <td>pid</td>\n    </tr>\n    <tr>\n      <th>4</th>\n      <td>廣告</td>\n      <td>YND</td>\n      <td>pid</td>\n    </tr>\n    <tr>\n      <th>...</th>\n      <td>...</td>\n      <td>...</td>\n      <td>...</td>\n    </tr>\n    <tr>\n      <th>11054</th>\n      <td>廣告</td>\n      <td>KBDG</td>\n      <td>MP</td>\n    </tr>\n    <tr>\n      <th>11055</th>\n      <td>廣告</td>\n      <td>KBDG</td>\n      <td>MP</td>\n    </tr>\n    <tr>\n      <th>11056</th>\n      <td>廣告</td>\n      <td>KBDG</td>\n      <td>MP</td>\n    </tr>\n    <tr>\n      <th>11057</th>\n      <td>廣告</td>\n      <td>KBDG</td>\n      <td>MP</td>\n    </tr>\n    <tr>\n      <th>11058</th>\n      <td>廣告</td>\n      <td>KBDG</td>\n      <td>MP</td>\n    </tr>\n  </tbody>\n</table>\n<p>11059 rows × 3 columns</p>\n</div>"
     },
     "metadata": {},
     "execution_count": 3
    }
   ],
   "source": [
    "ad_split = data['廣告代號all'].str.split('_', expand=True)\n",
    "ad_split"
   ]
  },
  {
   "source": [
    "### 挑選出廣告系列名稱"
   ],
   "cell_type": "markdown",
   "metadata": {}
  },
  {
   "cell_type": "code",
   "execution_count": 4,
   "metadata": {},
   "outputs": [
    {
     "output_type": "stream",
     "name": "stdout",
     "text": [
      "['YND', 'YND', 'YND', 'YND', 'YND', 'YND', 'YND', '自然流量', '自然流量', '自然流量']\n"
     ]
    }
   ],
   "source": [
    "ad_series = data['廣告代號all'].str.split('_', expand=True)[1].tolist()\n",
    "print(ad_series[:10])"
   ]
  },
  {
   "cell_type": "code",
   "execution_count": 5,
   "metadata": {},
   "outputs": [
    {
     "output_type": "execute_result",
     "data": {
      "text/plain": [
       "        單價       成本   系列                 訂單時間     廣告代號all 廣告代號\n",
       "0  643.195  394.800  系列4  2016-01-01T03:19:35  廣告_YND_pid  YND\n",
       "1  391.510  225.365  系列4  2016-01-01T03:19:35  廣告_YND_pid  YND\n",
       "2  713.930  416.185  系列4  2016-01-01T03:19:35  廣告_YND_pid  YND\n",
       "3  557.655  337.225  系列4  2016-01-01T03:19:35  廣告_YND_pid  YND\n",
       "4  628.390  366.835  系列4  2016-01-01T03:19:35  廣告_YND_pid  YND"
      ],
      "text/html": "<div>\n<style scoped>\n    .dataframe tbody tr th:only-of-type {\n        vertical-align: middle;\n    }\n\n    .dataframe tbody tr th {\n        vertical-align: top;\n    }\n\n    .dataframe thead th {\n        text-align: right;\n    }\n</style>\n<table border=\"1\" class=\"dataframe\">\n  <thead>\n    <tr style=\"text-align: right;\">\n      <th></th>\n      <th>單價</th>\n      <th>成本</th>\n      <th>系列</th>\n      <th>訂單時間</th>\n      <th>廣告代號all</th>\n      <th>廣告代號</th>\n    </tr>\n  </thead>\n  <tbody>\n    <tr>\n      <th>0</th>\n      <td>643.195</td>\n      <td>394.800</td>\n      <td>系列4</td>\n      <td>2016-01-01T03:19:35</td>\n      <td>廣告_YND_pid</td>\n      <td>YND</td>\n    </tr>\n    <tr>\n      <th>1</th>\n      <td>391.510</td>\n      <td>225.365</td>\n      <td>系列4</td>\n      <td>2016-01-01T03:19:35</td>\n      <td>廣告_YND_pid</td>\n      <td>YND</td>\n    </tr>\n    <tr>\n      <th>2</th>\n      <td>713.930</td>\n      <td>416.185</td>\n      <td>系列4</td>\n      <td>2016-01-01T03:19:35</td>\n      <td>廣告_YND_pid</td>\n      <td>YND</td>\n    </tr>\n    <tr>\n      <th>3</th>\n      <td>557.655</td>\n      <td>337.225</td>\n      <td>系列4</td>\n      <td>2016-01-01T03:19:35</td>\n      <td>廣告_YND_pid</td>\n      <td>YND</td>\n    </tr>\n    <tr>\n      <th>4</th>\n      <td>628.390</td>\n      <td>366.835</td>\n      <td>系列4</td>\n      <td>2016-01-01T03:19:35</td>\n      <td>廣告_YND_pid</td>\n      <td>YND</td>\n    </tr>\n  </tbody>\n</table>\n</div>"
     },
     "metadata": {},
     "execution_count": 5
    }
   ],
   "source": [
    "data['廣告代號'] = ad_series\n",
    "data.head()"
   ]
  },
  {
   "source": [
    "## 挑選主力廣告"
   ],
   "cell_type": "markdown",
   "metadata": {}
  },
  {
   "source": [
    "### 廣告總類數量"
   ],
   "cell_type": "markdown",
   "metadata": {}
  },
  {
   "cell_type": "code",
   "execution_count": 6,
   "metadata": {},
   "outputs": [
    {
     "output_type": "execute_result",
     "data": {
      "text/plain": [
       "36"
      ]
     },
     "metadata": {},
     "execution_count": 6
    }
   ],
   "source": [
    "data['廣告代號'].nunique()"
   ]
  },
  {
   "source": [
    "### 計算每個廣告的出現頻率"
   ],
   "cell_type": "markdown",
   "metadata": {}
  },
  {
   "cell_type": "code",
   "execution_count": 7,
   "metadata": {},
   "outputs": [
    {
     "output_type": "execute_result",
     "data": {
      "text/plain": [
       "Counter({'YND': 52,\n",
       "         '自然流量': 3780,\n",
       "         'ikip': 652,\n",
       "         'B2K': 452,\n",
       "         'critei': 1285,\n",
       "         'qdwit': 896,\n",
       "         'qpw': 5,\n",
       "         'KDPOD': 937,\n",
       "         'B2KPOD': 23,\n",
       "         'KDMK': 320,\n",
       "         'cridgewell': 6,\n",
       "         'pic': 5,\n",
       "         'B2KMK': 10,\n",
       "         'KDP': 1793,\n",
       "         'GINEP': 154,\n",
       "         'edmP': 128,\n",
       "         'edmM': 4,\n",
       "         'B2KP': 57,\n",
       "         'KDPM': 140,\n",
       "         'KDM': 2,\n",
       "         'GINEM': 13,\n",
       "         'B2KM': 1,\n",
       "         'edmD': 1,\n",
       "         'edm': 2,\n",
       "         'KDMP': 29,\n",
       "         'edmMK': 20,\n",
       "         'B2KMP': 1,\n",
       "         'edmMP': 26,\n",
       "         'GINEMK': 24,\n",
       "         'GINEMP': 22,\n",
       "         'B2KDG': 21,\n",
       "         'KBP': 31,\n",
       "         'KBMP': 1,\n",
       "         'IGP': 20,\n",
       "         'KBDG': 145,\n",
       "         'IGDG': 1})"
      ]
     },
     "metadata": {},
     "execution_count": 7
    }
   ],
   "source": [
    "count_list = Counter(data['廣告代號'])\n",
    "count_list"
   ]
  },
  {
   "source": [
    "### 將廣告出現頻率製作成資料集"
   ],
   "cell_type": "markdown",
   "metadata": {}
  },
  {
   "cell_type": "code",
   "execution_count": 8,
   "metadata": {},
   "outputs": [
    {
     "output_type": "execute_result",
     "data": {
      "text/plain": [
       "     廣告名稱   樣本數\n",
       "0     YND    52\n",
       "1    自然流量  3780\n",
       "2    ikip   652\n",
       "3     B2K   452\n",
       "4  critei  1285"
      ],
      "text/html": "<div>\n<style scoped>\n    .dataframe tbody tr th:only-of-type {\n        vertical-align: middle;\n    }\n\n    .dataframe tbody tr th {\n        vertical-align: top;\n    }\n\n    .dataframe thead th {\n        text-align: right;\n    }\n</style>\n<table border=\"1\" class=\"dataframe\">\n  <thead>\n    <tr style=\"text-align: right;\">\n      <th></th>\n      <th>廣告名稱</th>\n      <th>樣本數</th>\n    </tr>\n  </thead>\n  <tbody>\n    <tr>\n      <th>0</th>\n      <td>YND</td>\n      <td>52</td>\n    </tr>\n    <tr>\n      <th>1</th>\n      <td>自然流量</td>\n      <td>3780</td>\n    </tr>\n    <tr>\n      <th>2</th>\n      <td>ikip</td>\n      <td>652</td>\n    </tr>\n    <tr>\n      <th>3</th>\n      <td>B2K</td>\n      <td>452</td>\n    </tr>\n    <tr>\n      <th>4</th>\n      <td>critei</td>\n      <td>1285</td>\n    </tr>\n  </tbody>\n</table>\n</div>"
     },
     "metadata": {},
     "execution_count": 8
    }
   ],
   "source": [
    "count_frame = pd.DataFrame.from_dict(count_list,orient='index').reset_index() # 轉換為DataFrame形式\n",
    "count_frame.columns = ['廣告名稱', '樣本數'] # 重新命名欄位名稱\n",
    "count_frame.head()"
   ]
  },
  {
   "source": [
    "### 將非「自然流量」的廣告根據樣本數排序"
   ],
   "cell_type": "markdown",
   "metadata": {}
  },
  {
   "cell_type": "code",
   "execution_count": 9,
   "metadata": {},
   "outputs": [
    {
     "output_type": "execute_result",
     "data": {
      "text/plain": [
       "      廣告名稱   樣本數\n",
       "13     KDP  1793\n",
       "4   critei  1285\n",
       "7    KDPOD   937\n",
       "5    qdwit   896\n",
       "2     ikip   652"
      ],
      "text/html": "<div>\n<style scoped>\n    .dataframe tbody tr th:only-of-type {\n        vertical-align: middle;\n    }\n\n    .dataframe tbody tr th {\n        vertical-align: top;\n    }\n\n    .dataframe thead th {\n        text-align: right;\n    }\n</style>\n<table border=\"1\" class=\"dataframe\">\n  <thead>\n    <tr style=\"text-align: right;\">\n      <th></th>\n      <th>廣告名稱</th>\n      <th>樣本數</th>\n    </tr>\n  </thead>\n  <tbody>\n    <tr>\n      <th>13</th>\n      <td>KDP</td>\n      <td>1793</td>\n    </tr>\n    <tr>\n      <th>4</th>\n      <td>critei</td>\n      <td>1285</td>\n    </tr>\n    <tr>\n      <th>7</th>\n      <td>KDPOD</td>\n      <td>937</td>\n    </tr>\n    <tr>\n      <th>5</th>\n      <td>qdwit</td>\n      <td>896</td>\n    </tr>\n    <tr>\n      <th>2</th>\n      <td>ikip</td>\n      <td>652</td>\n    </tr>\n  </tbody>\n</table>\n</div>"
     },
     "metadata": {},
     "execution_count": 9
    }
   ],
   "source": [
    "count_frame = count_frame[count_frame['廣告名稱']!='自然流量']\n",
    "count_frame = count_frame.sort_values(by='樣本數', ascending=False)\n",
    "count_frame.head()"
   ]
  },
  {
   "source": [
    "### 挑選前2名廣告"
   ],
   "cell_type": "markdown",
   "metadata": {}
  },
  {
   "cell_type": "code",
   "execution_count": 10,
   "metadata": {},
   "outputs": [
    {
     "output_type": "execute_result",
     "data": {
      "text/plain": [
       "['KDP', 'critei']"
      ]
     },
     "metadata": {},
     "execution_count": 10
    }
   ],
   "source": [
    "chosen_ad = count_frame['廣告名稱'].tolist()[:2]\n",
    "chosen_ad"
   ]
  },
  {
   "source": [
    "### 篩選出受主力廣告推播的交易資料"
   ],
   "cell_type": "markdown",
   "metadata": {}
  },
  {
   "cell_type": "code",
   "execution_count": 11,
   "metadata": {},
   "outputs": [
    {
     "output_type": "execute_result",
     "data": {
      "text/plain": [
       "0        False\n",
       "1        False\n",
       "2        False\n",
       "3        False\n",
       "4        False\n",
       "         ...  \n",
       "11054    False\n",
       "11055    False\n",
       "11056    False\n",
       "11057    False\n",
       "11058    False\n",
       "Name: 廣告代號, Length: 11059, dtype: bool"
      ]
     },
     "metadata": {},
     "execution_count": 11
    }
   ],
   "source": [
    "# 判斷是否符合條件\n",
    "data['廣告代號'].isin(chosen_ad)"
   ]
  },
  {
   "cell_type": "code",
   "execution_count": 12,
   "metadata": {},
   "outputs": [
    {
     "output_type": "execute_result",
     "data": {
      "text/plain": [
       "             單價       成本   系列                 訂單時間           廣告代號all    廣告代號\n",
       "32      713.930  416.185  系列4  2016-01-01T15:10:43  廣告_critei_critei  critei\n",
       "33      628.390  366.835  系列4  2016-01-01T15:10:43  廣告_critei_critei  critei\n",
       "34      713.930  416.185  系列4  2016-01-01T15:10:43  廣告_critei_critei  critei\n",
       "48      692.545  544.495  系列4  2016-01-02T04:52:47  廣告_critei_critei  critei\n",
       "53      924.490  697.480  系列4  2016-01-02T08:05:24  廣告_critei_critei  critei\n",
       "...         ...      ...  ...                  ...               ...     ...\n",
       "10475   985.355  450.730  系列4  2019-04-02T04:58:26          廣告_KDP_D     KDP\n",
       "10527   970.550  679.385  系列4  2019-05-14T11:51:03          廣告_KDP_D     KDP\n",
       "10749  1061.025  383.285  系列4  2019-07-25T06:03:50          廣告_KDP_D     KDP\n",
       "10750   883.365  383.285  系列4  2019-07-25T06:03:50          廣告_KDP_D     KDP\n",
       "10751  1135.050  462.245  系列4  2019-07-25T06:03:50          廣告_KDP_D     KDP\n",
       "\n",
       "[3078 rows x 6 columns]"
      ],
      "text/html": "<div>\n<style scoped>\n    .dataframe tbody tr th:only-of-type {\n        vertical-align: middle;\n    }\n\n    .dataframe tbody tr th {\n        vertical-align: top;\n    }\n\n    .dataframe thead th {\n        text-align: right;\n    }\n</style>\n<table border=\"1\" class=\"dataframe\">\n  <thead>\n    <tr style=\"text-align: right;\">\n      <th></th>\n      <th>單價</th>\n      <th>成本</th>\n      <th>系列</th>\n      <th>訂單時間</th>\n      <th>廣告代號all</th>\n      <th>廣告代號</th>\n    </tr>\n  </thead>\n  <tbody>\n    <tr>\n      <th>32</th>\n      <td>713.930</td>\n      <td>416.185</td>\n      <td>系列4</td>\n      <td>2016-01-01T15:10:43</td>\n      <td>廣告_critei_critei</td>\n      <td>critei</td>\n    </tr>\n    <tr>\n      <th>33</th>\n      <td>628.390</td>\n      <td>366.835</td>\n      <td>系列4</td>\n      <td>2016-01-01T15:10:43</td>\n      <td>廣告_critei_critei</td>\n      <td>critei</td>\n    </tr>\n    <tr>\n      <th>34</th>\n      <td>713.930</td>\n      <td>416.185</td>\n      <td>系列4</td>\n      <td>2016-01-01T15:10:43</td>\n      <td>廣告_critei_critei</td>\n      <td>critei</td>\n    </tr>\n    <tr>\n      <th>48</th>\n      <td>692.545</td>\n      <td>544.495</td>\n      <td>系列4</td>\n      <td>2016-01-02T04:52:47</td>\n      <td>廣告_critei_critei</td>\n      <td>critei</td>\n    </tr>\n    <tr>\n      <th>53</th>\n      <td>924.490</td>\n      <td>697.480</td>\n      <td>系列4</td>\n      <td>2016-01-02T08:05:24</td>\n      <td>廣告_critei_critei</td>\n      <td>critei</td>\n    </tr>\n    <tr>\n      <th>...</th>\n      <td>...</td>\n      <td>...</td>\n      <td>...</td>\n      <td>...</td>\n      <td>...</td>\n      <td>...</td>\n    </tr>\n    <tr>\n      <th>10475</th>\n      <td>985.355</td>\n      <td>450.730</td>\n      <td>系列4</td>\n      <td>2019-04-02T04:58:26</td>\n      <td>廣告_KDP_D</td>\n      <td>KDP</td>\n    </tr>\n    <tr>\n      <th>10527</th>\n      <td>970.550</td>\n      <td>679.385</td>\n      <td>系列4</td>\n      <td>2019-05-14T11:51:03</td>\n      <td>廣告_KDP_D</td>\n      <td>KDP</td>\n    </tr>\n    <tr>\n      <th>10749</th>\n      <td>1061.025</td>\n      <td>383.285</td>\n      <td>系列4</td>\n      <td>2019-07-25T06:03:50</td>\n      <td>廣告_KDP_D</td>\n      <td>KDP</td>\n    </tr>\n    <tr>\n      <th>10750</th>\n      <td>883.365</td>\n      <td>383.285</td>\n      <td>系列4</td>\n      <td>2019-07-25T06:03:50</td>\n      <td>廣告_KDP_D</td>\n      <td>KDP</td>\n    </tr>\n    <tr>\n      <th>10751</th>\n      <td>1135.050</td>\n      <td>462.245</td>\n      <td>系列4</td>\n      <td>2019-07-25T06:03:50</td>\n      <td>廣告_KDP_D</td>\n      <td>KDP</td>\n    </tr>\n  </tbody>\n</table>\n<p>3078 rows × 6 columns</p>\n</div>"
     },
     "metadata": {},
     "execution_count": 12
    }
   ],
   "source": [
    "# 篩選\n",
    "data = data[data['廣告代號'].isin(chosen_ad)]\n",
    "data"
   ]
  },
  {
   "source": [
    "## 計算不同廣告每期帶來的淨利"
   ],
   "cell_type": "markdown",
   "metadata": {}
  },
  {
   "source": [
    "### 新增「月份」資料"
   ],
   "cell_type": "markdown",
   "metadata": {}
  },
  {
   "cell_type": "code",
   "execution_count": 13,
   "metadata": {},
   "outputs": [
    {
     "output_type": "execute_result",
     "data": {
      "text/plain": [
       "         單價       成本   系列                 訂單時間           廣告代號all    廣告代號  月份\n",
       "32  713.930  416.185  系列4  2016-01-01T15:10:43  廣告_critei_critei  critei   1\n",
       "33  628.390  366.835  系列4  2016-01-01T15:10:43  廣告_critei_critei  critei   1\n",
       "34  713.930  416.185  系列4  2016-01-01T15:10:43  廣告_critei_critei  critei   1\n",
       "48  692.545  544.495  系列4  2016-01-02T04:52:47  廣告_critei_critei  critei   1\n",
       "53  924.490  697.480  系列4  2016-01-02T08:05:24  廣告_critei_critei  critei   1"
      ],
      "text/html": "<div>\n<style scoped>\n    .dataframe tbody tr th:only-of-type {\n        vertical-align: middle;\n    }\n\n    .dataframe tbody tr th {\n        vertical-align: top;\n    }\n\n    .dataframe thead th {\n        text-align: right;\n    }\n</style>\n<table border=\"1\" class=\"dataframe\">\n  <thead>\n    <tr style=\"text-align: right;\">\n      <th></th>\n      <th>單價</th>\n      <th>成本</th>\n      <th>系列</th>\n      <th>訂單時間</th>\n      <th>廣告代號all</th>\n      <th>廣告代號</th>\n      <th>月份</th>\n    </tr>\n  </thead>\n  <tbody>\n    <tr>\n      <th>32</th>\n      <td>713.930</td>\n      <td>416.185</td>\n      <td>系列4</td>\n      <td>2016-01-01T15:10:43</td>\n      <td>廣告_critei_critei</td>\n      <td>critei</td>\n      <td>1</td>\n    </tr>\n    <tr>\n      <th>33</th>\n      <td>628.390</td>\n      <td>366.835</td>\n      <td>系列4</td>\n      <td>2016-01-01T15:10:43</td>\n      <td>廣告_critei_critei</td>\n      <td>critei</td>\n      <td>1</td>\n    </tr>\n    <tr>\n      <th>34</th>\n      <td>713.930</td>\n      <td>416.185</td>\n      <td>系列4</td>\n      <td>2016-01-01T15:10:43</td>\n      <td>廣告_critei_critei</td>\n      <td>critei</td>\n      <td>1</td>\n    </tr>\n    <tr>\n      <th>48</th>\n      <td>692.545</td>\n      <td>544.495</td>\n      <td>系列4</td>\n      <td>2016-01-02T04:52:47</td>\n      <td>廣告_critei_critei</td>\n      <td>critei</td>\n      <td>1</td>\n    </tr>\n    <tr>\n      <th>53</th>\n      <td>924.490</td>\n      <td>697.480</td>\n      <td>系列4</td>\n      <td>2016-01-02T08:05:24</td>\n      <td>廣告_critei_critei</td>\n      <td>critei</td>\n      <td>1</td>\n    </tr>\n  </tbody>\n</table>\n</div>"
     },
     "metadata": {},
     "execution_count": 13
    }
   ],
   "source": [
    "data['月份'] = pd.DatetimeIndex(data['訂單時間']).month\n",
    "data.head()"
   ]
  },
  {
   "source": [
    "### 新增「年月」資料"
   ],
   "cell_type": "markdown",
   "metadata": {}
  },
  {
   "cell_type": "code",
   "execution_count": 14,
   "metadata": {},
   "outputs": [
    {
     "output_type": "execute_result",
     "data": {
      "text/plain": [
       "         單價       成本   系列                 訂單時間           廣告代號all    廣告代號  月份  \\\n",
       "32  713.930  416.185  系列4  2016-01-01T15:10:43  廣告_critei_critei  critei   1   \n",
       "33  628.390  366.835  系列4  2016-01-01T15:10:43  廣告_critei_critei  critei   1   \n",
       "34  713.930  416.185  系列4  2016-01-01T15:10:43  廣告_critei_critei  critei   1   \n",
       "48  692.545  544.495  系列4  2016-01-02T04:52:47  廣告_critei_critei  critei   1   \n",
       "53  924.490  697.480  系列4  2016-01-02T08:05:24  廣告_critei_critei  critei   1   \n",
       "\n",
       "         年月  \n",
       "32  2016-01  \n",
       "33  2016-01  \n",
       "34  2016-01  \n",
       "48  2016-01  \n",
       "53  2016-01  "
      ],
      "text/html": "<div>\n<style scoped>\n    .dataframe tbody tr th:only-of-type {\n        vertical-align: middle;\n    }\n\n    .dataframe tbody tr th {\n        vertical-align: top;\n    }\n\n    .dataframe thead th {\n        text-align: right;\n    }\n</style>\n<table border=\"1\" class=\"dataframe\">\n  <thead>\n    <tr style=\"text-align: right;\">\n      <th></th>\n      <th>單價</th>\n      <th>成本</th>\n      <th>系列</th>\n      <th>訂單時間</th>\n      <th>廣告代號all</th>\n      <th>廣告代號</th>\n      <th>月份</th>\n      <th>年月</th>\n    </tr>\n  </thead>\n  <tbody>\n    <tr>\n      <th>32</th>\n      <td>713.930</td>\n      <td>416.185</td>\n      <td>系列4</td>\n      <td>2016-01-01T15:10:43</td>\n      <td>廣告_critei_critei</td>\n      <td>critei</td>\n      <td>1</td>\n      <td>2016-01</td>\n    </tr>\n    <tr>\n      <th>33</th>\n      <td>628.390</td>\n      <td>366.835</td>\n      <td>系列4</td>\n      <td>2016-01-01T15:10:43</td>\n      <td>廣告_critei_critei</td>\n      <td>critei</td>\n      <td>1</td>\n      <td>2016-01</td>\n    </tr>\n    <tr>\n      <th>34</th>\n      <td>713.930</td>\n      <td>416.185</td>\n      <td>系列4</td>\n      <td>2016-01-01T15:10:43</td>\n      <td>廣告_critei_critei</td>\n      <td>critei</td>\n      <td>1</td>\n      <td>2016-01</td>\n    </tr>\n    <tr>\n      <th>48</th>\n      <td>692.545</td>\n      <td>544.495</td>\n      <td>系列4</td>\n      <td>2016-01-02T04:52:47</td>\n      <td>廣告_critei_critei</td>\n      <td>critei</td>\n      <td>1</td>\n      <td>2016-01</td>\n    </tr>\n    <tr>\n      <th>53</th>\n      <td>924.490</td>\n      <td>697.480</td>\n      <td>系列4</td>\n      <td>2016-01-02T08:05:24</td>\n      <td>廣告_critei_critei</td>\n      <td>critei</td>\n      <td>1</td>\n      <td>2016-01</td>\n    </tr>\n  </tbody>\n</table>\n</div>"
     },
     "metadata": {},
     "execution_count": 14
    }
   ],
   "source": [
    "data['年月'] = pd.to_datetime(data['訂單時間']).dt.to_period('M')\n",
    "data.head()"
   ]
  },
  {
   "source": [
    "### 新增「淨利」資料"
   ],
   "cell_type": "markdown",
   "metadata": {}
  },
  {
   "cell_type": "code",
   "execution_count": 15,
   "metadata": {},
   "outputs": [
    {
     "output_type": "execute_result",
     "data": {
      "text/plain": [
       "         單價       成本   系列                 訂單時間           廣告代號all    廣告代號  月份  \\\n",
       "32  713.930  416.185  系列4  2016-01-01T15:10:43  廣告_critei_critei  critei   1   \n",
       "33  628.390  366.835  系列4  2016-01-01T15:10:43  廣告_critei_critei  critei   1   \n",
       "34  713.930  416.185  系列4  2016-01-01T15:10:43  廣告_critei_critei  critei   1   \n",
       "48  692.545  544.495  系列4  2016-01-02T04:52:47  廣告_critei_critei  critei   1   \n",
       "53  924.490  697.480  系列4  2016-01-02T08:05:24  廣告_critei_critei  critei   1   \n",
       "\n",
       "         年月       淨利  \n",
       "32  2016-01  297.745  \n",
       "33  2016-01  261.555  \n",
       "34  2016-01  297.745  \n",
       "48  2016-01  148.050  \n",
       "53  2016-01  227.010  "
      ],
      "text/html": "<div>\n<style scoped>\n    .dataframe tbody tr th:only-of-type {\n        vertical-align: middle;\n    }\n\n    .dataframe tbody tr th {\n        vertical-align: top;\n    }\n\n    .dataframe thead th {\n        text-align: right;\n    }\n</style>\n<table border=\"1\" class=\"dataframe\">\n  <thead>\n    <tr style=\"text-align: right;\">\n      <th></th>\n      <th>單價</th>\n      <th>成本</th>\n      <th>系列</th>\n      <th>訂單時間</th>\n      <th>廣告代號all</th>\n      <th>廣告代號</th>\n      <th>月份</th>\n      <th>年月</th>\n      <th>淨利</th>\n    </tr>\n  </thead>\n  <tbody>\n    <tr>\n      <th>32</th>\n      <td>713.930</td>\n      <td>416.185</td>\n      <td>系列4</td>\n      <td>2016-01-01T15:10:43</td>\n      <td>廣告_critei_critei</td>\n      <td>critei</td>\n      <td>1</td>\n      <td>2016-01</td>\n      <td>297.745</td>\n    </tr>\n    <tr>\n      <th>33</th>\n      <td>628.390</td>\n      <td>366.835</td>\n      <td>系列4</td>\n      <td>2016-01-01T15:10:43</td>\n      <td>廣告_critei_critei</td>\n      <td>critei</td>\n      <td>1</td>\n      <td>2016-01</td>\n      <td>261.555</td>\n    </tr>\n    <tr>\n      <th>34</th>\n      <td>713.930</td>\n      <td>416.185</td>\n      <td>系列4</td>\n      <td>2016-01-01T15:10:43</td>\n      <td>廣告_critei_critei</td>\n      <td>critei</td>\n      <td>1</td>\n      <td>2016-01</td>\n      <td>297.745</td>\n    </tr>\n    <tr>\n      <th>48</th>\n      <td>692.545</td>\n      <td>544.495</td>\n      <td>系列4</td>\n      <td>2016-01-02T04:52:47</td>\n      <td>廣告_critei_critei</td>\n      <td>critei</td>\n      <td>1</td>\n      <td>2016-01</td>\n      <td>148.050</td>\n    </tr>\n    <tr>\n      <th>53</th>\n      <td>924.490</td>\n      <td>697.480</td>\n      <td>系列4</td>\n      <td>2016-01-02T08:05:24</td>\n      <td>廣告_critei_critei</td>\n      <td>critei</td>\n      <td>1</td>\n      <td>2016-01</td>\n      <td>227.010</td>\n    </tr>\n  </tbody>\n</table>\n</div>"
     },
     "metadata": {},
     "execution_count": 15
    }
   ],
   "source": [
    "data['淨利'] = data['單價'] - data['成本']\n",
    "data.head()"
   ]
  },
  {
   "source": [
    "### 欄位篩選"
   ],
   "cell_type": "markdown",
   "metadata": {}
  },
  {
   "cell_type": "code",
   "execution_count": 16,
   "metadata": {},
   "outputs": [
    {
     "output_type": "execute_result",
     "data": {
      "text/plain": [
       "      廣告代號  月份       年月       淨利\n",
       "32  critei   1  2016-01  297.745\n",
       "33  critei   1  2016-01  261.555\n",
       "34  critei   1  2016-01  297.745\n",
       "48  critei   1  2016-01  148.050\n",
       "53  critei   1  2016-01  227.010"
      ],
      "text/html": "<div>\n<style scoped>\n    .dataframe tbody tr th:only-of-type {\n        vertical-align: middle;\n    }\n\n    .dataframe tbody tr th {\n        vertical-align: top;\n    }\n\n    .dataframe thead th {\n        text-align: right;\n    }\n</style>\n<table border=\"1\" class=\"dataframe\">\n  <thead>\n    <tr style=\"text-align: right;\">\n      <th></th>\n      <th>廣告代號</th>\n      <th>月份</th>\n      <th>年月</th>\n      <th>淨利</th>\n    </tr>\n  </thead>\n  <tbody>\n    <tr>\n      <th>32</th>\n      <td>critei</td>\n      <td>1</td>\n      <td>2016-01</td>\n      <td>297.745</td>\n    </tr>\n    <tr>\n      <th>33</th>\n      <td>critei</td>\n      <td>1</td>\n      <td>2016-01</td>\n      <td>261.555</td>\n    </tr>\n    <tr>\n      <th>34</th>\n      <td>critei</td>\n      <td>1</td>\n      <td>2016-01</td>\n      <td>297.745</td>\n    </tr>\n    <tr>\n      <th>48</th>\n      <td>critei</td>\n      <td>1</td>\n      <td>2016-01</td>\n      <td>148.050</td>\n    </tr>\n    <tr>\n      <th>53</th>\n      <td>critei</td>\n      <td>1</td>\n      <td>2016-01</td>\n      <td>227.010</td>\n    </tr>\n  </tbody>\n</table>\n</div>"
     },
     "metadata": {},
     "execution_count": 16
    }
   ],
   "source": [
    "data = data[['廣告代號', '月份', '年月', '淨利']]\n",
    "data.head()"
   ]
  },
  {
   "source": [
    "### 根據「年月」欄位，進行資料群組"
   ],
   "cell_type": "markdown",
   "metadata": {}
  },
  {
   "cell_type": "code",
   "execution_count": 17,
   "metadata": {},
   "outputs": [
    {
     "output_type": "execute_result",
     "data": {
      "text/plain": [
       "  廣告代號  月份       年月         淨利\n",
       "0  KDP   1  2018-01  46314.975\n",
       "1  KDP   1  2019-01   1118.600\n",
       "2  KDP   2  2017-02  12105.555\n",
       "3  KDP   2  2018-02   2827.755\n",
       "4  KDP   2  2019-02    858.690"
      ],
      "text/html": "<div>\n<style scoped>\n    .dataframe tbody tr th:only-of-type {\n        vertical-align: middle;\n    }\n\n    .dataframe tbody tr th {\n        vertical-align: top;\n    }\n\n    .dataframe thead th {\n        text-align: right;\n    }\n</style>\n<table border=\"1\" class=\"dataframe\">\n  <thead>\n    <tr style=\"text-align: right;\">\n      <th></th>\n      <th>廣告代號</th>\n      <th>月份</th>\n      <th>年月</th>\n      <th>淨利</th>\n    </tr>\n  </thead>\n  <tbody>\n    <tr>\n      <th>0</th>\n      <td>KDP</td>\n      <td>1</td>\n      <td>2018-01</td>\n      <td>46314.975</td>\n    </tr>\n    <tr>\n      <th>1</th>\n      <td>KDP</td>\n      <td>1</td>\n      <td>2019-01</td>\n      <td>1118.600</td>\n    </tr>\n    <tr>\n      <th>2</th>\n      <td>KDP</td>\n      <td>2</td>\n      <td>2017-02</td>\n      <td>12105.555</td>\n    </tr>\n    <tr>\n      <th>3</th>\n      <td>KDP</td>\n      <td>2</td>\n      <td>2018-02</td>\n      <td>2827.755</td>\n    </tr>\n    <tr>\n      <th>4</th>\n      <td>KDP</td>\n      <td>2</td>\n      <td>2019-02</td>\n      <td>858.690</td>\n    </tr>\n  </tbody>\n</table>\n</div>"
     },
     "metadata": {},
     "execution_count": 17
    }
   ],
   "source": [
    "data = data.groupby(['廣告代號', '月份', '年月'])['淨利'].sum()\n",
    "data = data.to_frame().reset_index()\n",
    "data.head()"
   ]
  },
  {
   "source": [
    "### 刪除「年月」欄位，新增資料計數用欄位「count」"
   ],
   "cell_type": "markdown",
   "metadata": {}
  },
  {
   "cell_type": "code",
   "execution_count": 18,
   "metadata": {},
   "outputs": [
    {
     "output_type": "execute_result",
     "data": {
      "text/plain": [
       "  廣告代號  月份         淨利  count\n",
       "0  KDP   1  46314.975      1\n",
       "1  KDP   1   1118.600      1\n",
       "2  KDP   2  12105.555      1\n",
       "3  KDP   2   2827.755      1\n",
       "4  KDP   2    858.690      1"
      ],
      "text/html": "<div>\n<style scoped>\n    .dataframe tbody tr th:only-of-type {\n        vertical-align: middle;\n    }\n\n    .dataframe tbody tr th {\n        vertical-align: top;\n    }\n\n    .dataframe thead th {\n        text-align: right;\n    }\n</style>\n<table border=\"1\" class=\"dataframe\">\n  <thead>\n    <tr style=\"text-align: right;\">\n      <th></th>\n      <th>廣告代號</th>\n      <th>月份</th>\n      <th>淨利</th>\n      <th>count</th>\n    </tr>\n  </thead>\n  <tbody>\n    <tr>\n      <th>0</th>\n      <td>KDP</td>\n      <td>1</td>\n      <td>46314.975</td>\n      <td>1</td>\n    </tr>\n    <tr>\n      <th>1</th>\n      <td>KDP</td>\n      <td>1</td>\n      <td>1118.600</td>\n      <td>1</td>\n    </tr>\n    <tr>\n      <th>2</th>\n      <td>KDP</td>\n      <td>2</td>\n      <td>12105.555</td>\n      <td>1</td>\n    </tr>\n    <tr>\n      <th>3</th>\n      <td>KDP</td>\n      <td>2</td>\n      <td>2827.755</td>\n      <td>1</td>\n    </tr>\n    <tr>\n      <th>4</th>\n      <td>KDP</td>\n      <td>2</td>\n      <td>858.690</td>\n      <td>1</td>\n    </tr>\n  </tbody>\n</table>\n</div>"
     },
     "metadata": {},
     "execution_count": 18
    }
   ],
   "source": [
    "data = data.drop(['年月'], axis=1)\n",
    "data['count'] = 1\n",
    "data.head()"
   ]
  },
  {
   "source": [
    "## 繪圖"
   ],
   "cell_type": "markdown",
   "metadata": {}
  },
  {
   "source": [
    "### 盒狀圖繪製"
   ],
   "cell_type": "markdown",
   "metadata": {}
  },
  {
   "cell_type": "code",
   "execution_count": 19,
   "metadata": {},
   "outputs": [],
   "source": [
    "fig = go.Figure() # 設定空白畫布\n",
    "colors_box = ['#3366CC', '#DC3912'] # 設定盒子顏色\n",
    "color_num = 0\n",
    "# 繪製盒鬚圖\n",
    "for i in data['廣告代號'].unique():\n",
    "    fig.add_trace(go.Box(\n",
    "    y = data[data['廣告代號'] == i]['淨利'],\n",
    "    x = data[data['廣告代號'] == i]['月份'],\n",
    "    name = i,\n",
    "    marker_color= colors_box[color_num]))\n",
    "    color_num = color_num + 1"
   ]
  },
  {
   "source": [
    "### 平均值折線圖繪製"
   ],
   "cell_type": "markdown",
   "metadata": {}
  },
  {
   "cell_type": "code",
   "execution_count": 20,
   "metadata": {},
   "outputs": [
    {
     "output_type": "stream",
     "name": "stderr",
     "text": [
      "C:\\Users\\user\\AppData\\Roaming\\Python\\Python37\\site-packages\\ipykernel_launcher.py:12: UserWarning:\n\nBoolean Series key will be reindexed to match DataFrame index.\n\nC:\\Users\\user\\AppData\\Roaming\\Python\\Python37\\site-packages\\ipykernel_launcher.py:13: UserWarning:\n\nBoolean Series key will be reindexed to match DataFrame index.\n\nC:\\Users\\user\\AppData\\Roaming\\Python\\Python37\\site-packages\\ipykernel_launcher.py:12: UserWarning:\n\nBoolean Series key will be reindexed to match DataFrame index.\n\nC:\\Users\\user\\AppData\\Roaming\\Python\\Python37\\site-packages\\ipykernel_launcher.py:13: UserWarning:\n\nBoolean Series key will be reindexed to match DataFrame index.\n\nC:\\Users\\user\\AppData\\Roaming\\Python\\Python37\\site-packages\\ipykernel_launcher.py:12: UserWarning:\n\nBoolean Series key will be reindexed to match DataFrame index.\n\nC:\\Users\\user\\AppData\\Roaming\\Python\\Python37\\site-packages\\ipykernel_launcher.py:13: UserWarning:\n\nBoolean Series key will be reindexed to match DataFrame index.\n\nC:\\Users\\user\\AppData\\Roaming\\Python\\Python37\\site-packages\\ipykernel_launcher.py:12: UserWarning:\n\nBoolean Series key will be reindexed to match DataFrame index.\n\nC:\\Users\\user\\AppData\\Roaming\\Python\\Python37\\site-packages\\ipykernel_launcher.py:13: UserWarning:\n\nBoolean Series key will be reindexed to match DataFrame index.\n\nC:\\Users\\user\\AppData\\Roaming\\Python\\Python37\\site-packages\\ipykernel_launcher.py:12: UserWarning:\n\nBoolean Series key will be reindexed to match DataFrame index.\n\nC:\\Users\\user\\AppData\\Roaming\\Python\\Python37\\site-packages\\ipykernel_launcher.py:13: UserWarning:\n\nBoolean Series key will be reindexed to match DataFrame index.\n\nC:\\Users\\user\\AppData\\Roaming\\Python\\Python37\\site-packages\\ipykernel_launcher.py:12: UserWarning:\n\nBoolean Series key will be reindexed to match DataFrame index.\n\nC:\\Users\\user\\AppData\\Roaming\\Python\\Python37\\site-packages\\ipykernel_launcher.py:13: UserWarning:\n\nBoolean Series key will be reindexed to match DataFrame index.\n\nC:\\Users\\user\\AppData\\Roaming\\Python\\Python37\\site-packages\\ipykernel_launcher.py:12: UserWarning:\n\nBoolean Series key will be reindexed to match DataFrame index.\n\nC:\\Users\\user\\AppData\\Roaming\\Python\\Python37\\site-packages\\ipykernel_launcher.py:13: UserWarning:\n\nBoolean Series key will be reindexed to match DataFrame index.\n\nC:\\Users\\user\\AppData\\Roaming\\Python\\Python37\\site-packages\\ipykernel_launcher.py:12: UserWarning:\n\nBoolean Series key will be reindexed to match DataFrame index.\n\nC:\\Users\\user\\AppData\\Roaming\\Python\\Python37\\site-packages\\ipykernel_launcher.py:13: UserWarning:\n\nBoolean Series key will be reindexed to match DataFrame index.\n\nC:\\Users\\user\\AppData\\Roaming\\Python\\Python37\\site-packages\\ipykernel_launcher.py:12: UserWarning:\n\nBoolean Series key will be reindexed to match DataFrame index.\n\nC:\\Users\\user\\AppData\\Roaming\\Python\\Python37\\site-packages\\ipykernel_launcher.py:13: UserWarning:\n\nBoolean Series key will be reindexed to match DataFrame index.\n\nC:\\Users\\user\\AppData\\Roaming\\Python\\Python37\\site-packages\\ipykernel_launcher.py:12: UserWarning:\n\nBoolean Series key will be reindexed to match DataFrame index.\n\nC:\\Users\\user\\AppData\\Roaming\\Python\\Python37\\site-packages\\ipykernel_launcher.py:13: UserWarning:\n\nBoolean Series key will be reindexed to match DataFrame index.\n\nC:\\Users\\user\\AppData\\Roaming\\Python\\Python37\\site-packages\\ipykernel_launcher.py:12: UserWarning:\n\nBoolean Series key will be reindexed to match DataFrame index.\n\nC:\\Users\\user\\AppData\\Roaming\\Python\\Python37\\site-packages\\ipykernel_launcher.py:13: UserWarning:\n\nBoolean Series key will be reindexed to match DataFrame index.\n\nC:\\Users\\user\\AppData\\Roaming\\Python\\Python37\\site-packages\\ipykernel_launcher.py:12: UserWarning:\n\nBoolean Series key will be reindexed to match DataFrame index.\n\nC:\\Users\\user\\AppData\\Roaming\\Python\\Python37\\site-packages\\ipykernel_launcher.py:13: UserWarning:\n\nBoolean Series key will be reindexed to match DataFrame index.\n\nC:\\Users\\user\\AppData\\Roaming\\Python\\Python37\\site-packages\\ipykernel_launcher.py:12: UserWarning:\n\nBoolean Series key will be reindexed to match DataFrame index.\n\nC:\\Users\\user\\AppData\\Roaming\\Python\\Python37\\site-packages\\ipykernel_launcher.py:13: UserWarning:\n\nBoolean Series key will be reindexed to match DataFrame index.\n\nC:\\Users\\user\\AppData\\Roaming\\Python\\Python37\\site-packages\\ipykernel_launcher.py:12: UserWarning:\n\nBoolean Series key will be reindexed to match DataFrame index.\n\nC:\\Users\\user\\AppData\\Roaming\\Python\\Python37\\site-packages\\ipykernel_launcher.py:13: UserWarning:\n\nBoolean Series key will be reindexed to match DataFrame index.\n\nC:\\Users\\user\\AppData\\Roaming\\Python\\Python37\\site-packages\\ipykernel_launcher.py:12: UserWarning:\n\nBoolean Series key will be reindexed to match DataFrame index.\n\nC:\\Users\\user\\AppData\\Roaming\\Python\\Python37\\site-packages\\ipykernel_launcher.py:13: UserWarning:\n\nBoolean Series key will be reindexed to match DataFrame index.\n\nC:\\Users\\user\\AppData\\Roaming\\Python\\Python37\\site-packages\\ipykernel_launcher.py:12: UserWarning:\n\nBoolean Series key will be reindexed to match DataFrame index.\n\nC:\\Users\\user\\AppData\\Roaming\\Python\\Python37\\site-packages\\ipykernel_launcher.py:13: UserWarning:\n\nBoolean Series key will be reindexed to match DataFrame index.\n\nC:\\Users\\user\\AppData\\Roaming\\Python\\Python37\\site-packages\\ipykernel_launcher.py:12: UserWarning:\n\nBoolean Series key will be reindexed to match DataFrame index.\n\nC:\\Users\\user\\AppData\\Roaming\\Python\\Python37\\site-packages\\ipykernel_launcher.py:13: UserWarning:\n\nBoolean Series key will be reindexed to match DataFrame index.\n\nC:\\Users\\user\\AppData\\Roaming\\Python\\Python37\\site-packages\\ipykernel_launcher.py:12: UserWarning:\n\nBoolean Series key will be reindexed to match DataFrame index.\n\nC:\\Users\\user\\AppData\\Roaming\\Python\\Python37\\site-packages\\ipykernel_launcher.py:13: UserWarning:\n\nBoolean Series key will be reindexed to match DataFrame index.\n\nC:\\Users\\user\\AppData\\Roaming\\Python\\Python37\\site-packages\\ipykernel_launcher.py:12: UserWarning:\n\nBoolean Series key will be reindexed to match DataFrame index.\n\nC:\\Users\\user\\AppData\\Roaming\\Python\\Python37\\site-packages\\ipykernel_launcher.py:13: UserWarning:\n\nBoolean Series key will be reindexed to match DataFrame index.\n\nC:\\Users\\user\\AppData\\Roaming\\Python\\Python37\\site-packages\\ipykernel_launcher.py:12: UserWarning:\n\nBoolean Series key will be reindexed to match DataFrame index.\n\nC:\\Users\\user\\AppData\\Roaming\\Python\\Python37\\site-packages\\ipykernel_launcher.py:13: UserWarning:\n\nBoolean Series key will be reindexed to match DataFrame index.\n\nC:\\Users\\user\\AppData\\Roaming\\Python\\Python37\\site-packages\\ipykernel_launcher.py:12: UserWarning:\n\nBoolean Series key will be reindexed to match DataFrame index.\n\nC:\\Users\\user\\AppData\\Roaming\\Python\\Python37\\site-packages\\ipykernel_launcher.py:13: UserWarning:\n\nBoolean Series key will be reindexed to match DataFrame index.\n\nC:\\Users\\user\\AppData\\Roaming\\Python\\Python37\\site-packages\\ipykernel_launcher.py:12: UserWarning:\n\nBoolean Series key will be reindexed to match DataFrame index.\n\nC:\\Users\\user\\AppData\\Roaming\\Python\\Python37\\site-packages\\ipykernel_launcher.py:13: UserWarning:\n\nBoolean Series key will be reindexed to match DataFrame index.\n\nC:\\Users\\user\\AppData\\Roaming\\Python\\Python37\\site-packages\\ipykernel_launcher.py:12: UserWarning:\n\nBoolean Series key will be reindexed to match DataFrame index.\n\nC:\\Users\\user\\AppData\\Roaming\\Python\\Python37\\site-packages\\ipykernel_launcher.py:13: UserWarning:\n\nBoolean Series key will be reindexed to match DataFrame index.\n\nC:\\Users\\user\\AppData\\Roaming\\Python\\Python37\\site-packages\\ipykernel_launcher.py:12: UserWarning:\n\nBoolean Series key will be reindexed to match DataFrame index.\n\nC:\\Users\\user\\AppData\\Roaming\\Python\\Python37\\site-packages\\ipykernel_launcher.py:13: UserWarning:\n\nBoolean Series key will be reindexed to match DataFrame index.\n\n"
     ]
    }
   ],
   "source": [
    "adlist = list(data['廣告代號'].unique()) # 廣告名稱清單\n",
    "color_line = [\"royalblue\" , \"firebrick\"] # 設定線條顏色\n",
    "colour = 0 # 取用的顏色順序\n",
    "# 畫平均線\n",
    "for i in adlist:\n",
    "    ad = i # 選用廣告\n",
    "    meanlist = [] # 平均\n",
    "    axislist = [] # 月分\n",
    "    \n",
    "    for ii in range(1,13):\n",
    "        axislist.append(ii)\n",
    "        total = data[data['廣告代號'] == ad][data['月份'] == ii]['淨利'].sum() # 總利潤\n",
    "        counts = data[data['廣告代號'] == ad][data['月份'] == ii]['count'].sum() # 資料筆數\n",
    "        aver = total/counts # 平均利潤 = 總利潤/資料筆數\n",
    "        meanlist.append(aver)\n",
    "        # 如果1~12月都已經計算完畢，就繪圖\n",
    "        if ii == 12:   \n",
    "            # 繪圖\n",
    "            fig.add_trace(go.Scatter(\n",
    "            x= axislist,\n",
    "            y= meanlist,\n",
    "            mode=\"lines+markers\",\n",
    "            textfont=dict(\n",
    "            family=\"sans serif\",\n",
    "            size=16,\n",
    "            color=\"royalblue\"),    \n",
    "            line=dict(color=color_line[colour], width=2),\n",
    "            ))\n",
    "            # 即將更換廣告，挑選另一種顏色\n",
    "            colour = colour + 1 "
   ]
  },
  {
   "source": [
    "### 佈景主題設定"
   ],
   "cell_type": "markdown",
   "metadata": {}
  },
  {
   "cell_type": "code",
   "execution_count": 21,
   "metadata": {},
   "outputs": [
    {
     "output_type": "display_data",
     "data": {
      "application/vnd.plotly.v1+json": {
       "config": {
        "plotlyServerURL": "https://plot.ly"
       },
       "data": [
        {
         "marker": {
          "color": "#3366CC"
         },
         "name": "KDP",
         "type": "box",
         "x": [
          1,
          1,
          2,
          2,
          2,
          3,
          3,
          3,
          4,
          4,
          4,
          5,
          5,
          5,
          6,
          6,
          7,
          7,
          7,
          8,
          8,
          9,
          9,
          10,
          10,
          11,
          11,
          12,
          12
         ],
         "y": [
          46314.974999999984,
          1118.6,
          12105.555,
          2827.755,
          858.69,
          66579.73000000005,
          3097.5350000000003,
          1679.5449999999998,
          97115.86500000003,
          2215.815,
          534.625,
          226835.63000000027,
          40549.24999999999,
          291.16499999999996,
          30348.604999999996,
          1200.85,
          29567.230000000003,
          16704.975000000002,
          1850.625,
          14324.659999999996,
          67767.42,
          3943.065000000001,
          5690.054999999999,
          7006.055,
          1554.5249999999999,
          6989.605,
          1019.8999999999999,
          3558.1349999999993,
          4522.1050000000005
         ]
        },
        {
         "marker": {
          "color": "#DC3912"
         },
         "name": "critei",
         "type": "box",
         "x": [
          1,
          1,
          1,
          1,
          2,
          2,
          2,
          2,
          3,
          3,
          3,
          3,
          4,
          4,
          4,
          5,
          5,
          5,
          6,
          6,
          6,
          7,
          7,
          7,
          8,
          8,
          8,
          9,
          9,
          9,
          10,
          10,
          10,
          11,
          11,
          11,
          12,
          12,
          12
         ],
         "y": [
          26923.71499999998,
          15500.834999999994,
          8261.189999999999,
          4958.030000000001,
          4915.26,
          12970.824999999997,
          4851.105,
          6056.89,
          17807.125,
          10495.1,
          1970.71,
          335.58,
          31460.624999999996,
          32493.684999999994,
          6496.105,
          42973.97999999997,
          23612.330000000005,
          7971.669999999996,
          32128.49499999999,
          23757.090000000004,
          5390.665000000001,
          10560.9,
          13475.84,
          1227.17,
          22992.164999999997,
          8665.86,
          2553.04,
          14120.679999999993,
          14107.519999999997,
          3952.935,
          15615.985,
          5346.250000000001,
          883.365,
          25655.419999999995,
          2319.45,
          2176.335,
          12217.414999999999,
          2939.615,
          2256.9399999999996
         ]
        },
        {
         "line": {
          "color": "royalblue",
          "width": 2
         },
         "mode": "lines+markers",
         "textfont": {
          "color": "royalblue",
          "family": "sans serif",
          "size": 16
         },
         "type": "scatter",
         "x": [
          1,
          2,
          3,
          4,
          5,
          6,
          7,
          8,
          9,
          10,
          11,
          12
         ],
         "y": [
          23716.78749999999,
          5264.000000000001,
          23785.60333333335,
          33288.76833333335,
          89225.3483333334,
          15774.727499999997,
          16040.943333333335,
          41046.03999999999,
          4816.56,
          4280.29,
          4004.7524999999996,
          4040.12
         ]
        },
        {
         "line": {
          "color": "firebrick",
          "width": 2
         },
         "mode": "lines+markers",
         "textfont": {
          "color": "royalblue",
          "family": "sans serif",
          "size": 16
         },
         "type": "scatter",
         "x": [
          1,
          2,
          3,
          4,
          5,
          6,
          7,
          8,
          9,
          10,
          11,
          12
         ],
         "y": [
          13910.942499999994,
          7198.5199999999995,
          7652.12875,
          23483.471666666665,
          24852.65999999999,
          20425.416666666664,
          8421.303333333331,
          11403.688333333332,
          10727.044999999996,
          7281.866666666668,
          10050.401666666665,
          5804.656666666666
         ]
        }
       ],
       "layout": {
        "boxmode": "group",
        "font": {
         "color": "lightslategrey",
         "family": "Courier New, monospace",
         "size": 20
        },
        "height": 960,
        "template": {
         "data": {
          "bar": [
           {
            "error_x": {
             "color": "#2a3f5f"
            },
            "error_y": {
             "color": "#2a3f5f"
            },
            "marker": {
             "line": {
              "color": "#E5ECF6",
              "width": 0.5
             }
            },
            "type": "bar"
           }
          ],
          "barpolar": [
           {
            "marker": {
             "line": {
              "color": "#E5ECF6",
              "width": 0.5
             }
            },
            "type": "barpolar"
           }
          ],
          "carpet": [
           {
            "aaxis": {
             "endlinecolor": "#2a3f5f",
             "gridcolor": "white",
             "linecolor": "white",
             "minorgridcolor": "white",
             "startlinecolor": "#2a3f5f"
            },
            "baxis": {
             "endlinecolor": "#2a3f5f",
             "gridcolor": "white",
             "linecolor": "white",
             "minorgridcolor": "white",
             "startlinecolor": "#2a3f5f"
            },
            "type": "carpet"
           }
          ],
          "choropleth": [
           {
            "colorbar": {
             "outlinewidth": 0,
             "ticks": ""
            },
            "type": "choropleth"
           }
          ],
          "contour": [
           {
            "colorbar": {
             "outlinewidth": 0,
             "ticks": ""
            },
            "colorscale": [
             [
              0,
              "#0d0887"
             ],
             [
              0.1111111111111111,
              "#46039f"
             ],
             [
              0.2222222222222222,
              "#7201a8"
             ],
             [
              0.3333333333333333,
              "#9c179e"
             ],
             [
              0.4444444444444444,
              "#bd3786"
             ],
             [
              0.5555555555555556,
              "#d8576b"
             ],
             [
              0.6666666666666666,
              "#ed7953"
             ],
             [
              0.7777777777777778,
              "#fb9f3a"
             ],
             [
              0.8888888888888888,
              "#fdca26"
             ],
             [
              1,
              "#f0f921"
             ]
            ],
            "type": "contour"
           }
          ],
          "contourcarpet": [
           {
            "colorbar": {
             "outlinewidth": 0,
             "ticks": ""
            },
            "type": "contourcarpet"
           }
          ],
          "heatmap": [
           {
            "colorbar": {
             "outlinewidth": 0,
             "ticks": ""
            },
            "colorscale": [
             [
              0,
              "#0d0887"
             ],
             [
              0.1111111111111111,
              "#46039f"
             ],
             [
              0.2222222222222222,
              "#7201a8"
             ],
             [
              0.3333333333333333,
              "#9c179e"
             ],
             [
              0.4444444444444444,
              "#bd3786"
             ],
             [
              0.5555555555555556,
              "#d8576b"
             ],
             [
              0.6666666666666666,
              "#ed7953"
             ],
             [
              0.7777777777777778,
              "#fb9f3a"
             ],
             [
              0.8888888888888888,
              "#fdca26"
             ],
             [
              1,
              "#f0f921"
             ]
            ],
            "type": "heatmap"
           }
          ],
          "heatmapgl": [
           {
            "colorbar": {
             "outlinewidth": 0,
             "ticks": ""
            },
            "colorscale": [
             [
              0,
              "#0d0887"
             ],
             [
              0.1111111111111111,
              "#46039f"
             ],
             [
              0.2222222222222222,
              "#7201a8"
             ],
             [
              0.3333333333333333,
              "#9c179e"
             ],
             [
              0.4444444444444444,
              "#bd3786"
             ],
             [
              0.5555555555555556,
              "#d8576b"
             ],
             [
              0.6666666666666666,
              "#ed7953"
             ],
             [
              0.7777777777777778,
              "#fb9f3a"
             ],
             [
              0.8888888888888888,
              "#fdca26"
             ],
             [
              1,
              "#f0f921"
             ]
            ],
            "type": "heatmapgl"
           }
          ],
          "histogram": [
           {
            "marker": {
             "colorbar": {
              "outlinewidth": 0,
              "ticks": ""
             }
            },
            "type": "histogram"
           }
          ],
          "histogram2d": [
           {
            "colorbar": {
             "outlinewidth": 0,
             "ticks": ""
            },
            "colorscale": [
             [
              0,
              "#0d0887"
             ],
             [
              0.1111111111111111,
              "#46039f"
             ],
             [
              0.2222222222222222,
              "#7201a8"
             ],
             [
              0.3333333333333333,
              "#9c179e"
             ],
             [
              0.4444444444444444,
              "#bd3786"
             ],
             [
              0.5555555555555556,
              "#d8576b"
             ],
             [
              0.6666666666666666,
              "#ed7953"
             ],
             [
              0.7777777777777778,
              "#fb9f3a"
             ],
             [
              0.8888888888888888,
              "#fdca26"
             ],
             [
              1,
              "#f0f921"
             ]
            ],
            "type": "histogram2d"
           }
          ],
          "histogram2dcontour": [
           {
            "colorbar": {
             "outlinewidth": 0,
             "ticks": ""
            },
            "colorscale": [
             [
              0,
              "#0d0887"
             ],
             [
              0.1111111111111111,
              "#46039f"
             ],
             [
              0.2222222222222222,
              "#7201a8"
             ],
             [
              0.3333333333333333,
              "#9c179e"
             ],
             [
              0.4444444444444444,
              "#bd3786"
             ],
             [
              0.5555555555555556,
              "#d8576b"
             ],
             [
              0.6666666666666666,
              "#ed7953"
             ],
             [
              0.7777777777777778,
              "#fb9f3a"
             ],
             [
              0.8888888888888888,
              "#fdca26"
             ],
             [
              1,
              "#f0f921"
             ]
            ],
            "type": "histogram2dcontour"
           }
          ],
          "mesh3d": [
           {
            "colorbar": {
             "outlinewidth": 0,
             "ticks": ""
            },
            "type": "mesh3d"
           }
          ],
          "parcoords": [
           {
            "line": {
             "colorbar": {
              "outlinewidth": 0,
              "ticks": ""
             }
            },
            "type": "parcoords"
           }
          ],
          "pie": [
           {
            "automargin": true,
            "type": "pie"
           }
          ],
          "scatter": [
           {
            "marker": {
             "colorbar": {
              "outlinewidth": 0,
              "ticks": ""
             }
            },
            "type": "scatter"
           }
          ],
          "scatter3d": [
           {
            "line": {
             "colorbar": {
              "outlinewidth": 0,
              "ticks": ""
             }
            },
            "marker": {
             "colorbar": {
              "outlinewidth": 0,
              "ticks": ""
             }
            },
            "type": "scatter3d"
           }
          ],
          "scattercarpet": [
           {
            "marker": {
             "colorbar": {
              "outlinewidth": 0,
              "ticks": ""
             }
            },
            "type": "scattercarpet"
           }
          ],
          "scattergeo": [
           {
            "marker": {
             "colorbar": {
              "outlinewidth": 0,
              "ticks": ""
             }
            },
            "type": "scattergeo"
           }
          ],
          "scattergl": [
           {
            "marker": {
             "colorbar": {
              "outlinewidth": 0,
              "ticks": ""
             }
            },
            "type": "scattergl"
           }
          ],
          "scattermapbox": [
           {
            "marker": {
             "colorbar": {
              "outlinewidth": 0,
              "ticks": ""
             }
            },
            "type": "scattermapbox"
           }
          ],
          "scatterpolar": [
           {
            "marker": {
             "colorbar": {
              "outlinewidth": 0,
              "ticks": ""
             }
            },
            "type": "scatterpolar"
           }
          ],
          "scatterpolargl": [
           {
            "marker": {
             "colorbar": {
              "outlinewidth": 0,
              "ticks": ""
             }
            },
            "type": "scatterpolargl"
           }
          ],
          "scatterternary": [
           {
            "marker": {
             "colorbar": {
              "outlinewidth": 0,
              "ticks": ""
             }
            },
            "type": "scatterternary"
           }
          ],
          "surface": [
           {
            "colorbar": {
             "outlinewidth": 0,
             "ticks": ""
            },
            "colorscale": [
             [
              0,
              "#0d0887"
             ],
             [
              0.1111111111111111,
              "#46039f"
             ],
             [
              0.2222222222222222,
              "#7201a8"
             ],
             [
              0.3333333333333333,
              "#9c179e"
             ],
             [
              0.4444444444444444,
              "#bd3786"
             ],
             [
              0.5555555555555556,
              "#d8576b"
             ],
             [
              0.6666666666666666,
              "#ed7953"
             ],
             [
              0.7777777777777778,
              "#fb9f3a"
             ],
             [
              0.8888888888888888,
              "#fdca26"
             ],
             [
              1,
              "#f0f921"
             ]
            ],
            "type": "surface"
           }
          ],
          "table": [
           {
            "cells": {
             "fill": {
              "color": "#EBF0F8"
             },
             "line": {
              "color": "white"
             }
            },
            "header": {
             "fill": {
              "color": "#C8D4E3"
             },
             "line": {
              "color": "white"
             }
            },
            "type": "table"
           }
          ]
         },
         "layout": {
          "annotationdefaults": {
           "arrowcolor": "#2a3f5f",
           "arrowhead": 0,
           "arrowwidth": 1
          },
          "autotypenumbers": "strict",
          "coloraxis": {
           "colorbar": {
            "outlinewidth": 0,
            "ticks": ""
           }
          },
          "colorscale": {
           "diverging": [
            [
             0,
             "#8e0152"
            ],
            [
             0.1,
             "#c51b7d"
            ],
            [
             0.2,
             "#de77ae"
            ],
            [
             0.3,
             "#f1b6da"
            ],
            [
             0.4,
             "#fde0ef"
            ],
            [
             0.5,
             "#f7f7f7"
            ],
            [
             0.6,
             "#e6f5d0"
            ],
            [
             0.7,
             "#b8e186"
            ],
            [
             0.8,
             "#7fbc41"
            ],
            [
             0.9,
             "#4d9221"
            ],
            [
             1,
             "#276419"
            ]
           ],
           "sequential": [
            [
             0,
             "#0d0887"
            ],
            [
             0.1111111111111111,
             "#46039f"
            ],
            [
             0.2222222222222222,
             "#7201a8"
            ],
            [
             0.3333333333333333,
             "#9c179e"
            ],
            [
             0.4444444444444444,
             "#bd3786"
            ],
            [
             0.5555555555555556,
             "#d8576b"
            ],
            [
             0.6666666666666666,
             "#ed7953"
            ],
            [
             0.7777777777777778,
             "#fb9f3a"
            ],
            [
             0.8888888888888888,
             "#fdca26"
            ],
            [
             1,
             "#f0f921"
            ]
           ],
           "sequentialminus": [
            [
             0,
             "#0d0887"
            ],
            [
             0.1111111111111111,
             "#46039f"
            ],
            [
             0.2222222222222222,
             "#7201a8"
            ],
            [
             0.3333333333333333,
             "#9c179e"
            ],
            [
             0.4444444444444444,
             "#bd3786"
            ],
            [
             0.5555555555555556,
             "#d8576b"
            ],
            [
             0.6666666666666666,
             "#ed7953"
            ],
            [
             0.7777777777777778,
             "#fb9f3a"
            ],
            [
             0.8888888888888888,
             "#fdca26"
            ],
            [
             1,
             "#f0f921"
            ]
           ]
          },
          "colorway": [
           "#636efa",
           "#EF553B",
           "#00cc96",
           "#ab63fa",
           "#FFA15A",
           "#19d3f3",
           "#FF6692",
           "#B6E880",
           "#FF97FF",
           "#FECB52"
          ],
          "font": {
           "color": "#2a3f5f"
          },
          "geo": {
           "bgcolor": "white",
           "lakecolor": "white",
           "landcolor": "#E5ECF6",
           "showlakes": true,
           "showland": true,
           "subunitcolor": "white"
          },
          "hoverlabel": {
           "align": "left"
          },
          "hovermode": "closest",
          "mapbox": {
           "style": "light"
          },
          "paper_bgcolor": "white",
          "plot_bgcolor": "#E5ECF6",
          "polar": {
           "angularaxis": {
            "gridcolor": "white",
            "linecolor": "white",
            "ticks": ""
           },
           "bgcolor": "#E5ECF6",
           "radialaxis": {
            "gridcolor": "white",
            "linecolor": "white",
            "ticks": ""
           }
          },
          "scene": {
           "xaxis": {
            "backgroundcolor": "#E5ECF6",
            "gridcolor": "white",
            "gridwidth": 2,
            "linecolor": "white",
            "showbackground": true,
            "ticks": "",
            "zerolinecolor": "white"
           },
           "yaxis": {
            "backgroundcolor": "#E5ECF6",
            "gridcolor": "white",
            "gridwidth": 2,
            "linecolor": "white",
            "showbackground": true,
            "ticks": "",
            "zerolinecolor": "white"
           },
           "zaxis": {
            "backgroundcolor": "#E5ECF6",
            "gridcolor": "white",
            "gridwidth": 2,
            "linecolor": "white",
            "showbackground": true,
            "ticks": "",
            "zerolinecolor": "white"
           }
          },
          "shapedefaults": {
           "line": {
            "color": "#2a3f5f"
           }
          },
          "ternary": {
           "aaxis": {
            "gridcolor": "white",
            "linecolor": "white",
            "ticks": ""
           },
           "baxis": {
            "gridcolor": "white",
            "linecolor": "white",
            "ticks": ""
           },
           "bgcolor": "#E5ECF6",
           "caxis": {
            "gridcolor": "white",
            "linecolor": "white",
            "ticks": ""
           }
          },
          "title": {
           "x": 0.05
          },
          "xaxis": {
           "automargin": true,
           "gridcolor": "white",
           "linecolor": "white",
           "ticks": "",
           "title": {
            "standoff": 15
           },
           "zerolinecolor": "white",
           "zerolinewidth": 2
          },
          "yaxis": {
           "automargin": true,
           "gridcolor": "white",
           "linecolor": "white",
           "ticks": "",
           "title": {
            "standoff": 15
           },
           "zerolinecolor": "white",
           "zerolinewidth": 2
          }
         }
        },
        "title": {
         "text": "<b>BoxPlot－廣告效益分析</b>",
         "x": 0.5,
         "xanchor": "center",
         "y": 0.95
        },
        "width": 1800,
        "xaxis": {
         "tickmode": "linear",
         "title": {
          "text": "Month"
         }
        },
        "yaxis": {
         "title": {
          "text": "Profit"
         }
        }
       }
      }
     },
     "metadata": {}
    }
   ],
   "source": [
    "# 設定佈景主題(字體、大小、背景等)\n",
    "fig.update_layout(\n",
    "    title={\n",
    "        'text': \"<b>BoxPlot－廣告效益分析</b>\",\n",
    "        'y':0.95,\n",
    "        'x':0.5,\n",
    "        'xanchor': 'center',},\n",
    "    yaxis_title='Profit',\n",
    "    xaxis={\n",
    "        'title': 'Month',\n",
    "        'tickmode': 'linear'\n",
    "        },\n",
    "    width=1800,\n",
    "    height=960,\n",
    "    boxmode='group',\n",
    "    font=dict(\n",
    "        family=\"Courier New, monospace\",\n",
    "        size=20,\n",
    "        color=\"lightslategrey\"\n",
    "    )\n",
    "    )\n",
    "fig.show()"
   ]
  },
  {
   "source": [
    "### 將繪圖成果另存新檔"
   ],
   "cell_type": "markdown",
   "metadata": {}
  },
  {
   "cell_type": "code",
   "execution_count": 22,
   "metadata": {},
   "outputs": [
    {
     "output_type": "stream",
     "name": "stderr",
     "text": [
      "C:\\Users\\user\\AppData\\Local\\Programs\\Python\\Python37\\lib\\site-packages\\plotly\\offline\\offline.py:563: UserWarning:\n\nYour filename `CH3-8產出成果_廣告效益分析` didn't end with .html. Adding .html to the end of your file.\n\n"
     ]
    }
   ],
   "source": [
    "# 另存html檔\n",
    "py.plot(fig, filename='CH3-8產出成果_廣告效益分析', auto_open=True)\n",
    "    \n",
    "# 另存圖檔\n",
    "fig.write_image(\"CH3-8產出成果_廣告效益分析.png\")"
   ]
  }
 ]
}