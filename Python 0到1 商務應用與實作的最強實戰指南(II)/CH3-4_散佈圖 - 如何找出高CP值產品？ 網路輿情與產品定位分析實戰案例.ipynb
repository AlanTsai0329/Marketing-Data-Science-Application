{
 "metadata": {
  "language_info": {
   "codemirror_mode": {
    "name": "ipython",
    "version": 3
   },
   "file_extension": ".py",
   "mimetype": "text/x-python",
   "name": "python",
   "nbconvert_exporter": "python",
   "pygments_lexer": "ipython3",
   "version": "3.7.7"
  },
  "orig_nbformat": 2,
  "kernelspec": {
   "name": "python377jvsc74a57bd017f2ce44bac20d6eeee1e2d5412832c660463c83b55cd2014f071e9a7bf66530",
   "display_name": "Python 3.7.7 64-bit ('new': conda)"
  }
 },
 "nbformat": 4,
 "nbformat_minor": 2,
 "cells": [
  {
   "source": [
    "# `散佈圖 - 如何找出高CP值產品？ 網路輿情與產品定位分析實戰案例`\n",
    "### 作者：徐子皓、張友志\n",
    "***"
   ],
   "cell_type": "markdown",
   "metadata": {}
  },
  {
   "source": [
    "## 引入相關檔案"
   ],
   "cell_type": "markdown",
   "metadata": {}
  },
  {
   "source": [
    "### 引入套件包"
   ],
   "cell_type": "markdown",
   "metadata": {}
  },
  {
   "cell_type": "code",
   "execution_count": 1,
   "metadata": {},
   "outputs": [],
   "source": [
    "import plotly.graph_objs as go\n",
    "from plotly.offline import download_plotlyjs, init_notebook_mode, plot, iplot\n",
    "import plotly.express as px\n",
    "import plotly.offline as py\n",
    "import pandas as pd\n",
    "import numpy as np\n",
    "import jieba\n",
    "jieba.set_dictionary('dict.txt.big.txt') # 讀取結巴字典"
   ]
  },
  {
   "source": [
    "### 引入輿情資料集"
   ],
   "cell_type": "markdown",
   "metadata": {}
  },
  {
   "cell_type": "code",
   "execution_count": 2,
   "metadata": {},
   "outputs": [
    {
     "output_type": "execute_result",
     "data": {
      "text/plain": [
       "                              標題        時間  \\\n",
       "0           [LIVE] 2018 SBS 演技大賞  20181231   \n",
       "1           [LIVE] 2018 KBS 演技大賞  20181231   \n",
       "2            [心得] 值得一看的就算死也喜歡(雷)  20181231   \n",
       "3  Re: [LIVE] tvN 阿爾罕布拉宮的回憶 EP10  20181231   \n",
       "4            [心得]金材昱、徐睿知：另有他路(雷)  20181231   \n",
       "\n",
       "                                                  內容  \n",
       "0  <span class=\"b1 hl\">2018 SBS 演技大賞</span>\\r\\n日　...  \n",
       "1    2018 KBS演技大賞\\r\\n\\r\\n  直播時間：2018/12/31 19:55\\...  \n",
       "2  繼金科長後~終於又看到一部讓人忍不住一集接著一集看下去的戲 說這部像金科長，但又\\r\\n多了...  \n",
       "3  以下皆爆雷，請慎入！\\r\\n\\r\\n\\r\\n\\r\\n\\r\\n\\r\\n\\r\\n\\r\\n\\r\\n...  \n",
       "4  <a href=\"https://i.imgur.com/ZFcWKLL.jpg\" rel=...  "
      ],
      "text/html": "<div>\n<style scoped>\n    .dataframe tbody tr th:only-of-type {\n        vertical-align: middle;\n    }\n\n    .dataframe tbody tr th {\n        vertical-align: top;\n    }\n\n    .dataframe thead th {\n        text-align: right;\n    }\n</style>\n<table border=\"1\" class=\"dataframe\">\n  <thead>\n    <tr style=\"text-align: right;\">\n      <th></th>\n      <th>標題</th>\n      <th>時間</th>\n      <th>內容</th>\n    </tr>\n  </thead>\n  <tbody>\n    <tr>\n      <th>0</th>\n      <td>[LIVE] 2018 SBS 演技大賞</td>\n      <td>20181231</td>\n      <td>&lt;span class=\"b1 hl\"&gt;2018 SBS 演技大賞&lt;/span&gt;\\r\\n日　...</td>\n    </tr>\n    <tr>\n      <th>1</th>\n      <td>[LIVE] 2018 KBS 演技大賞</td>\n      <td>20181231</td>\n      <td>2018 KBS演技大賞\\r\\n\\r\\n  直播時間：2018/12/31 19:55\\...</td>\n    </tr>\n    <tr>\n      <th>2</th>\n      <td>[心得] 值得一看的就算死也喜歡(雷)</td>\n      <td>20181231</td>\n      <td>繼金科長後~終於又看到一部讓人忍不住一集接著一集看下去的戲 說這部像金科長，但又\\r\\n多了...</td>\n    </tr>\n    <tr>\n      <th>3</th>\n      <td>Re: [LIVE] tvN 阿爾罕布拉宮的回憶 EP10</td>\n      <td>20181231</td>\n      <td>以下皆爆雷，請慎入！\\r\\n\\r\\n\\r\\n\\r\\n\\r\\n\\r\\n\\r\\n\\r\\n\\r\\n...</td>\n    </tr>\n    <tr>\n      <th>4</th>\n      <td>[心得]金材昱、徐睿知：另有他路(雷)</td>\n      <td>20181231</td>\n      <td>&lt;a href=\"https://i.imgur.com/ZFcWKLL.jpg\" rel=...</td>\n    </tr>\n  </tbody>\n</table>\n</div>"
     },
     "metadata": {},
     "execution_count": 2
    }
   ],
   "source": [
    "KoreaDrama=pd.read_csv('CH3-4_影劇輿情資料.csv', encoding='utf-8-sig')\n",
    "KoreaDrama.head()"
   ]
  },
  {
   "source": [
    "## 進行關鍵字統計"
   ],
   "cell_type": "markdown",
   "metadata": {}
  },
  {
   "source": [
    "### 關注影劇名稱"
   ],
   "cell_type": "markdown",
   "metadata": {}
  },
  {
   "cell_type": "code",
   "execution_count": 3,
   "metadata": {},
   "outputs": [
    {
     "output_type": "stream",
     "name": "stderr",
     "text": [
      "Building prefix dict from c:\\Users\\user\\Desktop\\Nash校稿\\dict.txt.big.txt ...\n",
      "Loading model from cache C:\\Users\\user\\AppData\\Local\\Temp\\jieba.u5cdeee7902449e994d3259f463c04a8c.cache\n",
      "Loading model cost 0.443 seconds.\n",
      "Prefix dict has been built successfully.\n"
     ]
    }
   ],
   "source": [
    "movie = ['成為王的男人','皇后的品格','赤月青日','神的測驗',\n",
    "        '死之詠讚','王牌大律師','Priest驅魔者','加油吧威基基',\n",
    "        '皮諾丘','魔女寶鑑','好運羅曼史','購物王路易','七次初吻',\n",
    "        '男朋友','請回答1997','來自星星的你']\n",
    "# 新增到結巴字典中\n",
    "for i in movie:\n",
    "    jieba.add_word(i)"
   ]
  },
  {
   "source": [
    "### 無意義字元列表，可以自行新增"
   ],
   "cell_type": "markdown",
   "metadata": {}
  },
  {
   "cell_type": "code",
   "execution_count": 4,
   "metadata": {},
   "outputs": [],
   "source": [
    "removeword = ['span','class','f3','https','imgur','h1','_   blank','href','rel',\n",
    "              'nofollow','target','cdn','cgi','b4','jpg','hl','b1','f5','f4',\n",
    "              'goo.gl','f2','email','map','f1','f6','__cf___','data','bbs',\n",
    "              'html','cf','f0','b2','b3','b5','b6','原文內容','原文連結','作者'\n",
    "              '標題','時間','看板','<','>','，','。','？','—','閒聊','・','/',\n",
    "              ' ','=','\\\"','\\n', '\\r','」','「','！','[',']','：','‧','╦','╔','╗','║'\n",
    "              ,'╠','╬','╬',':','╰','╩','╯','╭','╮','│','╪','─','《','》','_'\n",
    "              ,'.','、','（','）','　','*','※','~','○','”','“','～','@','＋']"
   ]
  },
  {
   "source": [
    "### 將無意義字元移除"
   ],
   "cell_type": "markdown",
   "metadata": {}
  },
  {
   "cell_type": "code",
   "execution_count": 5,
   "metadata": {},
   "outputs": [
    {
     "output_type": "execute_result",
     "data": {
      "text/plain": [
       "'棒棒'"
      ]
     },
     "metadata": {},
     "execution_count": 5
    }
   ],
   "source": [
    "'好棒棒'.replace('好', '') # 概念"
   ]
  },
  {
   "cell_type": "code",
   "execution_count": 6,
   "metadata": {},
   "outputs": [
    {
     "output_type": "execute_result",
     "data": {
      "text/plain": [
       "0    LIVE2018SBS演技大賞2018SBS演技大賞日期20181231時間2055主持人申...\n",
       "1    LIVE2018KBS演技大賞2018KBS演技大賞直播201812311955直播網址1a...\n",
       "2    心得值得一看的就算死也喜歡(雷)繼金科長後終於又看到一部讓人忍不住一集接著一集看下去的戲說這...\n",
       "3    ReLIVEtvN阿爾罕布拉宮的回憶EP10以下皆爆雷請慎入E10喪屍席捲而來昨晚看此集的情...\n",
       "4    心得金材昱徐睿知另有他路(雷)aicomZFcWKLLblankicomZFcWKLLa雖然...\n",
       "Name: 標題與內容, dtype: object"
      ]
     },
     "metadata": {},
     "execution_count": 6
    }
   ],
   "source": [
    "# 將標題與內容合併，移除無意義字元\n",
    "KoreaDrama['標題與內容'] = KoreaDrama['標題'] +  KoreaDrama['內容']\n",
    "for word in removeword:\n",
    "    KoreaDrama['標題與內容'] = KoreaDrama['標題與內容'].str.replace(word,'')\n",
    "KoreaDrama.head()['標題與內容']"
   ]
  },
  {
   "source": [
    "### 將「標題與內容」全部併在一起"
   ],
   "cell_type": "markdown",
   "metadata": {}
  },
  {
   "source": [
    "theSTR = KoreaDrama['標題與內容'].tolist() \n",
    "theSTR = ''.join(theSTR )\n",
    "#theSTR"
   ],
   "cell_type": "code",
   "metadata": {},
   "execution_count": 7,
   "outputs": []
  },
  {
   "source": [
    "### 進行切詞"
   ],
   "cell_type": "markdown",
   "metadata": {}
  },
  {
   "cell_type": "code",
   "execution_count": 8,
   "metadata": {},
   "outputs": [
    {
     "output_type": "execute_result",
     "data": {
      "text/plain": [
       "['LIVE2018SBS',\n",
       " '演技大賞',\n",
       " '2018SBS',\n",
       " '演技大賞',\n",
       " '日期',\n",
       " '20181231',\n",
       " '時間',\n",
       " '2055',\n",
       " '主持人',\n",
       " '申東燁',\n",
       " '申惠善',\n",
       " '李帝勳',\n",
       " '網頁',\n",
       " 'a5izEtoblank5izEtoa',\n",
       " '(',\n",
       " '感謝',\n",
       " 'watase124',\n",
       " '提供',\n",
       " ')',\n",
       " '直播']"
      ]
     },
     "metadata": {},
     "execution_count": 8
    }
   ],
   "source": [
    "words = jieba.lcut(theSTR)\n",
    "words[:20] # 前20個切詞成果"
   ]
  },
  {
   "source": [
    "### 計算關注影劇名稱出現頻率"
   ],
   "cell_type": "markdown",
   "metadata": {}
  },
  {
   "cell_type": "code",
   "execution_count": 9,
   "metadata": {},
   "outputs": [
    {
     "output_type": "execute_result",
     "data": {
      "text/plain": [
       "10"
      ]
     },
     "metadata": {},
     "execution_count": 9
    }
   ],
   "source": [
    "words.count('來自星星的你') # 概念"
   ]
  },
  {
   "cell_type": "code",
   "execution_count": 10,
   "metadata": {},
   "outputs": [
    {
     "output_type": "execute_result",
     "data": {
      "text/plain": [
       "17.1875"
      ]
     },
     "metadata": {},
     "execution_count": 10
    }
   ],
   "source": [
    "# 實際計算\n",
    "# 計算關注影劇名稱出現頻率\n",
    "mv_voice= []\n",
    "for j in movie:\n",
    "    mv_voice.append(words.count(j))\n",
    "# 計算平均頻率\n",
    "avg=np.mean(mv_voice)\n",
    "avg"
   ]
  },
  {
   "source": [
    "### 記錄豆瓣評分，計算平均分數"
   ],
   "cell_type": "markdown",
   "metadata": {}
  },
  {
   "cell_type": "code",
   "execution_count": 11,
   "metadata": {},
   "outputs": [
    {
     "output_type": "execute_result",
     "data": {
      "text/plain": [
       "7.63125"
      ]
     },
     "metadata": {},
     "execution_count": 11
    }
   ],
   "source": [
    "bean = [6.9, 7.5, 8.6, 7.8, 8.5, 9.3, 6.8, 8.6, 8.2, 5.9, 6.7, 7.2, 5.8, 7.0, 9.0, 8.3]\n",
    "# 平均評分\n",
    "score_avg = np.mean(bean)\n",
    "score_avg"
   ]
  },
  {
   "source": [
    "### 透過迴圈，逐一取得不同影劇的相關資料"
   ],
   "cell_type": "markdown",
   "metadata": {}
  },
  {
   "cell_type": "code",
   "execution_count": 12,
   "metadata": {},
   "outputs": [],
   "source": [
    "voice_list =[] # 用以儲存聲量\n",
    "bean_list = [] # 用以儲存豆瓣評分 \n",
    "axe_list = [] # 用以儲存象限\n",
    "for i in range(len(bean)):\n",
    "    if bean[i]>score_avg and mv_voice[i] >avg:#1_第一象限\n",
    "        axe = '1_第一象限'\n",
    "        \n",
    "    elif bean[i]>score_avg and mv_voice[i] <= avg:#4_第四象限\n",
    "        axe = '4_第四象限'\n",
    "        \n",
    "    elif bean[i]<=score_avg and mv_voice[i] > avg:#2_第二象限\n",
    "        axe = '2_第二象限'\n",
    "        \n",
    "    else:#2_第三象限\n",
    "        axe = '3_第三象限'\n",
    "            \n",
    "    voice_list.append(mv_voice[i])\n",
    "    bean_list.append(bean[i])\n",
    "    axe_list.append(axe)"
   ]
  },
  {
   "source": [
    "### 將影劇相關資料製作成資料集，並匯出"
   ],
   "cell_type": "markdown",
   "metadata": {}
  },
  {
   "cell_type": "code",
   "execution_count": 13,
   "metadata": {},
   "outputs": [
    {
     "output_type": "execute_result",
     "data": {
      "text/plain": [
       "    聲量   評分      象限         劇名\n",
       "2   27  8.6  1_第一象限       赤月青日\n",
       "3   26  7.8  1_第一象限       神的測驗\n",
       "4   39  8.5  1_第一象限       死之詠讚\n",
       "8   20  8.2  1_第一象限        皮諾丘\n",
       "1   62  7.5  2_第二象限      皇后的品格\n",
       "13  52  7.0  2_第二象限        男朋友\n",
       "0    4  6.9  3_第三象限     成為王的男人\n",
       "6    9  6.8  3_第三象限  Priest驅魔者\n",
       "9   14  5.9  3_第三象限       魔女寶鑑\n",
       "10   0  6.7  3_第三象限      好運羅曼史\n",
       "11   0  7.2  3_第三象限      購物王路易\n",
       "12   0  5.8  3_第三象限       七次初吻\n",
       "5    0  9.3  4_第四象限      王牌大律師\n",
       "7   12  8.6  4_第四象限     加油吧威基基\n",
       "14   0  9.0  4_第四象限    請回答1997\n",
       "15  10  8.3  4_第四象限     來自星星的你"
      ],
      "text/html": "<div>\n<style scoped>\n    .dataframe tbody tr th:only-of-type {\n        vertical-align: middle;\n    }\n\n    .dataframe tbody tr th {\n        vertical-align: top;\n    }\n\n    .dataframe thead th {\n        text-align: right;\n    }\n</style>\n<table border=\"1\" class=\"dataframe\">\n  <thead>\n    <tr style=\"text-align: right;\">\n      <th></th>\n      <th>聲量</th>\n      <th>評分</th>\n      <th>象限</th>\n      <th>劇名</th>\n    </tr>\n  </thead>\n  <tbody>\n    <tr>\n      <th>2</th>\n      <td>27</td>\n      <td>8.6</td>\n      <td>1_第一象限</td>\n      <td>赤月青日</td>\n    </tr>\n    <tr>\n      <th>3</th>\n      <td>26</td>\n      <td>7.8</td>\n      <td>1_第一象限</td>\n      <td>神的測驗</td>\n    </tr>\n    <tr>\n      <th>4</th>\n      <td>39</td>\n      <td>8.5</td>\n      <td>1_第一象限</td>\n      <td>死之詠讚</td>\n    </tr>\n    <tr>\n      <th>8</th>\n      <td>20</td>\n      <td>8.2</td>\n      <td>1_第一象限</td>\n      <td>皮諾丘</td>\n    </tr>\n    <tr>\n      <th>1</th>\n      <td>62</td>\n      <td>7.5</td>\n      <td>2_第二象限</td>\n      <td>皇后的品格</td>\n    </tr>\n    <tr>\n      <th>13</th>\n      <td>52</td>\n      <td>7.0</td>\n      <td>2_第二象限</td>\n      <td>男朋友</td>\n    </tr>\n    <tr>\n      <th>0</th>\n      <td>4</td>\n      <td>6.9</td>\n      <td>3_第三象限</td>\n      <td>成為王的男人</td>\n    </tr>\n    <tr>\n      <th>6</th>\n      <td>9</td>\n      <td>6.8</td>\n      <td>3_第三象限</td>\n      <td>Priest驅魔者</td>\n    </tr>\n    <tr>\n      <th>9</th>\n      <td>14</td>\n      <td>5.9</td>\n      <td>3_第三象限</td>\n      <td>魔女寶鑑</td>\n    </tr>\n    <tr>\n      <th>10</th>\n      <td>0</td>\n      <td>6.7</td>\n      <td>3_第三象限</td>\n      <td>好運羅曼史</td>\n    </tr>\n    <tr>\n      <th>11</th>\n      <td>0</td>\n      <td>7.2</td>\n      <td>3_第三象限</td>\n      <td>購物王路易</td>\n    </tr>\n    <tr>\n      <th>12</th>\n      <td>0</td>\n      <td>5.8</td>\n      <td>3_第三象限</td>\n      <td>七次初吻</td>\n    </tr>\n    <tr>\n      <th>5</th>\n      <td>0</td>\n      <td>9.3</td>\n      <td>4_第四象限</td>\n      <td>王牌大律師</td>\n    </tr>\n    <tr>\n      <th>7</th>\n      <td>12</td>\n      <td>8.6</td>\n      <td>4_第四象限</td>\n      <td>加油吧威基基</td>\n    </tr>\n    <tr>\n      <th>14</th>\n      <td>0</td>\n      <td>9.0</td>\n      <td>4_第四象限</td>\n      <td>請回答1997</td>\n    </tr>\n    <tr>\n      <th>15</th>\n      <td>10</td>\n      <td>8.3</td>\n      <td>4_第四象限</td>\n      <td>來自星星的你</td>\n    </tr>\n  </tbody>\n</table>\n</div>"
     },
     "metadata": {},
     "execution_count": 13
    }
   ],
   "source": [
    "final1 = pd.DataFrame(zip(voice_list, bean_list, axe_list, movie), columns=['聲量', '評分', '象限', '劇名'])\n",
    "final1 = final1.sort_values('象限')\n",
    "final1.to_csv('CH3-4產出成果_評分與聲量表.csv', encoding = 'utf-8-sig')\n",
    "final1"
   ]
  },
  {
   "source": [
    "## 資料視覺化"
   ],
   "cell_type": "markdown",
   "metadata": {}
  },
  {
   "cell_type": "code",
   "execution_count": 14,
   "metadata": {},
   "outputs": [
    {
     "output_type": "display_data",
     "data": {
      "application/vnd.plotly.v1+json": {
       "config": {
        "plotlyServerURL": "https://plot.ly"
       },
       "data": [
        {
         "customdata": [
          [
           "赤月青日"
          ],
          [
           "神的測驗"
          ],
          [
           "死之詠讚"
          ],
          [
           "皮諾丘"
          ]
         ],
         "hoverlabel": {
          "namelength": 0
         },
         "hovertemplate": "象限=1_第一象限<br>評分=%{x}<br>聲量=%{y}<br>劇名=%{customdata[0]}",
         "legendgroup": "象限=1_第一象限",
         "marker": {
          "color": "#636efa",
          "symbol": "circle"
         },
         "mode": "markers",
         "name": "象限=1_第一象限",
         "showlegend": true,
         "type": "scatter",
         "x": [
          8.6,
          7.8,
          8.5,
          8.2
         ],
         "xaxis": "x",
         "y": [
          27,
          26,
          39,
          20
         ],
         "yaxis": "y"
        },
        {
         "customdata": [
          [
           "皇后的品格"
          ],
          [
           "男朋友"
          ]
         ],
         "hoverlabel": {
          "namelength": 0
         },
         "hovertemplate": "象限=2_第二象限<br>評分=%{x}<br>聲量=%{y}<br>劇名=%{customdata[0]}",
         "legendgroup": "象限=2_第二象限",
         "marker": {
          "color": "#EF553B",
          "symbol": "circle"
         },
         "mode": "markers",
         "name": "象限=2_第二象限",
         "showlegend": true,
         "type": "scatter",
         "x": [
          7.5,
          7
         ],
         "xaxis": "x",
         "y": [
          62,
          52
         ],
         "yaxis": "y"
        },
        {
         "customdata": [
          [
           "成為王的男人"
          ],
          [
           "Priest驅魔者"
          ],
          [
           "魔女寶鑑"
          ],
          [
           "好運羅曼史"
          ],
          [
           "購物王路易"
          ],
          [
           "七次初吻"
          ]
         ],
         "hoverlabel": {
          "namelength": 0
         },
         "hovertemplate": "象限=3_第三象限<br>評分=%{x}<br>聲量=%{y}<br>劇名=%{customdata[0]}",
         "legendgroup": "象限=3_第三象限",
         "marker": {
          "color": "#00cc96",
          "symbol": "circle"
         },
         "mode": "markers",
         "name": "象限=3_第三象限",
         "showlegend": true,
         "type": "scatter",
         "x": [
          6.9,
          6.8,
          5.9,
          6.7,
          7.2,
          5.8
         ],
         "xaxis": "x",
         "y": [
          4,
          9,
          14,
          0,
          0,
          0
         ],
         "yaxis": "y"
        },
        {
         "customdata": [
          [
           "王牌大律師"
          ],
          [
           "加油吧威基基"
          ],
          [
           "請回答1997"
          ],
          [
           "來自星星的你"
          ]
         ],
         "hoverlabel": {
          "namelength": 0
         },
         "hovertemplate": "象限=4_第四象限<br>評分=%{x}<br>聲量=%{y}<br>劇名=%{customdata[0]}",
         "legendgroup": "象限=4_第四象限",
         "marker": {
          "color": "#ab63fa",
          "symbol": "circle"
         },
         "mode": "markers",
         "name": "象限=4_第四象限",
         "showlegend": true,
         "type": "scatter",
         "x": [
          9.3,
          8.6,
          9,
          8.3
         ],
         "xaxis": "x",
         "y": [
          0,
          12,
          0,
          10
         ],
         "yaxis": "y"
        }
       ],
       "layout": {
        "legend": {
         "tracegroupgap": 0
        },
        "margin": {
         "t": 60
        },
        "shapes": [
         {
          "line": {
           "color": "#FF00FF",
           "width": 2
          },
          "type": "line",
          "x0": 7.63125,
          "x1": 7.63125,
          "y0": -10,
          "y1": 68.2
         },
         {
          "line": {
           "color": "#FF00FF",
           "width": 2
          },
          "type": "line",
          "x0": 0,
          "x1": 10.230000000000002,
          "y0": 17.1875,
          "y1": 17.1875
         }
        ],
        "template": {
         "data": {
          "bar": [
           {
            "error_x": {
             "color": "#2a3f5f"
            },
            "error_y": {
             "color": "#2a3f5f"
            },
            "marker": {
             "line": {
              "color": "#E5ECF6",
              "width": 0.5
             }
            },
            "type": "bar"
           }
          ],
          "barpolar": [
           {
            "marker": {
             "line": {
              "color": "#E5ECF6",
              "width": 0.5
             }
            },
            "type": "barpolar"
           }
          ],
          "carpet": [
           {
            "aaxis": {
             "endlinecolor": "#2a3f5f",
             "gridcolor": "white",
             "linecolor": "white",
             "minorgridcolor": "white",
             "startlinecolor": "#2a3f5f"
            },
            "baxis": {
             "endlinecolor": "#2a3f5f",
             "gridcolor": "white",
             "linecolor": "white",
             "minorgridcolor": "white",
             "startlinecolor": "#2a3f5f"
            },
            "type": "carpet"
           }
          ],
          "choropleth": [
           {
            "colorbar": {
             "outlinewidth": 0,
             "ticks": ""
            },
            "type": "choropleth"
           }
          ],
          "contour": [
           {
            "colorbar": {
             "outlinewidth": 0,
             "ticks": ""
            },
            "colorscale": [
             [
              0,
              "#0d0887"
             ],
             [
              0.1111111111111111,
              "#46039f"
             ],
             [
              0.2222222222222222,
              "#7201a8"
             ],
             [
              0.3333333333333333,
              "#9c179e"
             ],
             [
              0.4444444444444444,
              "#bd3786"
             ],
             [
              0.5555555555555556,
              "#d8576b"
             ],
             [
              0.6666666666666666,
              "#ed7953"
             ],
             [
              0.7777777777777778,
              "#fb9f3a"
             ],
             [
              0.8888888888888888,
              "#fdca26"
             ],
             [
              1,
              "#f0f921"
             ]
            ],
            "type": "contour"
           }
          ],
          "contourcarpet": [
           {
            "colorbar": {
             "outlinewidth": 0,
             "ticks": ""
            },
            "type": "contourcarpet"
           }
          ],
          "heatmap": [
           {
            "colorbar": {
             "outlinewidth": 0,
             "ticks": ""
            },
            "colorscale": [
             [
              0,
              "#0d0887"
             ],
             [
              0.1111111111111111,
              "#46039f"
             ],
             [
              0.2222222222222222,
              "#7201a8"
             ],
             [
              0.3333333333333333,
              "#9c179e"
             ],
             [
              0.4444444444444444,
              "#bd3786"
             ],
             [
              0.5555555555555556,
              "#d8576b"
             ],
             [
              0.6666666666666666,
              "#ed7953"
             ],
             [
              0.7777777777777778,
              "#fb9f3a"
             ],
             [
              0.8888888888888888,
              "#fdca26"
             ],
             [
              1,
              "#f0f921"
             ]
            ],
            "type": "heatmap"
           }
          ],
          "heatmapgl": [
           {
            "colorbar": {
             "outlinewidth": 0,
             "ticks": ""
            },
            "colorscale": [
             [
              0,
              "#0d0887"
             ],
             [
              0.1111111111111111,
              "#46039f"
             ],
             [
              0.2222222222222222,
              "#7201a8"
             ],
             [
              0.3333333333333333,
              "#9c179e"
             ],
             [
              0.4444444444444444,
              "#bd3786"
             ],
             [
              0.5555555555555556,
              "#d8576b"
             ],
             [
              0.6666666666666666,
              "#ed7953"
             ],
             [
              0.7777777777777778,
              "#fb9f3a"
             ],
             [
              0.8888888888888888,
              "#fdca26"
             ],
             [
              1,
              "#f0f921"
             ]
            ],
            "type": "heatmapgl"
           }
          ],
          "histogram": [
           {
            "marker": {
             "colorbar": {
              "outlinewidth": 0,
              "ticks": ""
             }
            },
            "type": "histogram"
           }
          ],
          "histogram2d": [
           {
            "colorbar": {
             "outlinewidth": 0,
             "ticks": ""
            },
            "colorscale": [
             [
              0,
              "#0d0887"
             ],
             [
              0.1111111111111111,
              "#46039f"
             ],
             [
              0.2222222222222222,
              "#7201a8"
             ],
             [
              0.3333333333333333,
              "#9c179e"
             ],
             [
              0.4444444444444444,
              "#bd3786"
             ],
             [
              0.5555555555555556,
              "#d8576b"
             ],
             [
              0.6666666666666666,
              "#ed7953"
             ],
             [
              0.7777777777777778,
              "#fb9f3a"
             ],
             [
              0.8888888888888888,
              "#fdca26"
             ],
             [
              1,
              "#f0f921"
             ]
            ],
            "type": "histogram2d"
           }
          ],
          "histogram2dcontour": [
           {
            "colorbar": {
             "outlinewidth": 0,
             "ticks": ""
            },
            "colorscale": [
             [
              0,
              "#0d0887"
             ],
             [
              0.1111111111111111,
              "#46039f"
             ],
             [
              0.2222222222222222,
              "#7201a8"
             ],
             [
              0.3333333333333333,
              "#9c179e"
             ],
             [
              0.4444444444444444,
              "#bd3786"
             ],
             [
              0.5555555555555556,
              "#d8576b"
             ],
             [
              0.6666666666666666,
              "#ed7953"
             ],
             [
              0.7777777777777778,
              "#fb9f3a"
             ],
             [
              0.8888888888888888,
              "#fdca26"
             ],
             [
              1,
              "#f0f921"
             ]
            ],
            "type": "histogram2dcontour"
           }
          ],
          "mesh3d": [
           {
            "colorbar": {
             "outlinewidth": 0,
             "ticks": ""
            },
            "type": "mesh3d"
           }
          ],
          "parcoords": [
           {
            "line": {
             "colorbar": {
              "outlinewidth": 0,
              "ticks": ""
             }
            },
            "type": "parcoords"
           }
          ],
          "pie": [
           {
            "automargin": true,
            "type": "pie"
           }
          ],
          "scatter": [
           {
            "marker": {
             "colorbar": {
              "outlinewidth": 0,
              "ticks": ""
             }
            },
            "type": "scatter"
           }
          ],
          "scatter3d": [
           {
            "line": {
             "colorbar": {
              "outlinewidth": 0,
              "ticks": ""
             }
            },
            "marker": {
             "colorbar": {
              "outlinewidth": 0,
              "ticks": ""
             }
            },
            "type": "scatter3d"
           }
          ],
          "scattercarpet": [
           {
            "marker": {
             "colorbar": {
              "outlinewidth": 0,
              "ticks": ""
             }
            },
            "type": "scattercarpet"
           }
          ],
          "scattergeo": [
           {
            "marker": {
             "colorbar": {
              "outlinewidth": 0,
              "ticks": ""
             }
            },
            "type": "scattergeo"
           }
          ],
          "scattergl": [
           {
            "marker": {
             "colorbar": {
              "outlinewidth": 0,
              "ticks": ""
             }
            },
            "type": "scattergl"
           }
          ],
          "scattermapbox": [
           {
            "marker": {
             "colorbar": {
              "outlinewidth": 0,
              "ticks": ""
             }
            },
            "type": "scattermapbox"
           }
          ],
          "scatterpolar": [
           {
            "marker": {
             "colorbar": {
              "outlinewidth": 0,
              "ticks": ""
             }
            },
            "type": "scatterpolar"
           }
          ],
          "scatterpolargl": [
           {
            "marker": {
             "colorbar": {
              "outlinewidth": 0,
              "ticks": ""
             }
            },
            "type": "scatterpolargl"
           }
          ],
          "scatterternary": [
           {
            "marker": {
             "colorbar": {
              "outlinewidth": 0,
              "ticks": ""
             }
            },
            "type": "scatterternary"
           }
          ],
          "surface": [
           {
            "colorbar": {
             "outlinewidth": 0,
             "ticks": ""
            },
            "colorscale": [
             [
              0,
              "#0d0887"
             ],
             [
              0.1111111111111111,
              "#46039f"
             ],
             [
              0.2222222222222222,
              "#7201a8"
             ],
             [
              0.3333333333333333,
              "#9c179e"
             ],
             [
              0.4444444444444444,
              "#bd3786"
             ],
             [
              0.5555555555555556,
              "#d8576b"
             ],
             [
              0.6666666666666666,
              "#ed7953"
             ],
             [
              0.7777777777777778,
              "#fb9f3a"
             ],
             [
              0.8888888888888888,
              "#fdca26"
             ],
             [
              1,
              "#f0f921"
             ]
            ],
            "type": "surface"
           }
          ],
          "table": [
           {
            "cells": {
             "fill": {
              "color": "#EBF0F8"
             },
             "line": {
              "color": "white"
             }
            },
            "header": {
             "fill": {
              "color": "#C8D4E3"
             },
             "line": {
              "color": "white"
             }
            },
            "type": "table"
           }
          ]
         },
         "layout": {
          "annotationdefaults": {
           "arrowcolor": "#2a3f5f",
           "arrowhead": 0,
           "arrowwidth": 1
          },
          "coloraxis": {
           "colorbar": {
            "outlinewidth": 0,
            "ticks": ""
           }
          },
          "colorscale": {
           "diverging": [
            [
             0,
             "#8e0152"
            ],
            [
             0.1,
             "#c51b7d"
            ],
            [
             0.2,
             "#de77ae"
            ],
            [
             0.3,
             "#f1b6da"
            ],
            [
             0.4,
             "#fde0ef"
            ],
            [
             0.5,
             "#f7f7f7"
            ],
            [
             0.6,
             "#e6f5d0"
            ],
            [
             0.7,
             "#b8e186"
            ],
            [
             0.8,
             "#7fbc41"
            ],
            [
             0.9,
             "#4d9221"
            ],
            [
             1,
             "#276419"
            ]
           ],
           "sequential": [
            [
             0,
             "#0d0887"
            ],
            [
             0.1111111111111111,
             "#46039f"
            ],
            [
             0.2222222222222222,
             "#7201a8"
            ],
            [
             0.3333333333333333,
             "#9c179e"
            ],
            [
             0.4444444444444444,
             "#bd3786"
            ],
            [
             0.5555555555555556,
             "#d8576b"
            ],
            [
             0.6666666666666666,
             "#ed7953"
            ],
            [
             0.7777777777777778,
             "#fb9f3a"
            ],
            [
             0.8888888888888888,
             "#fdca26"
            ],
            [
             1,
             "#f0f921"
            ]
           ],
           "sequentialminus": [
            [
             0,
             "#0d0887"
            ],
            [
             0.1111111111111111,
             "#46039f"
            ],
            [
             0.2222222222222222,
             "#7201a8"
            ],
            [
             0.3333333333333333,
             "#9c179e"
            ],
            [
             0.4444444444444444,
             "#bd3786"
            ],
            [
             0.5555555555555556,
             "#d8576b"
            ],
            [
             0.6666666666666666,
             "#ed7953"
            ],
            [
             0.7777777777777778,
             "#fb9f3a"
            ],
            [
             0.8888888888888888,
             "#fdca26"
            ],
            [
             1,
             "#f0f921"
            ]
           ]
          },
          "colorway": [
           "#636efa",
           "#EF553B",
           "#00cc96",
           "#ab63fa",
           "#FFA15A",
           "#19d3f3",
           "#FF6692",
           "#B6E880",
           "#FF97FF",
           "#FECB52"
          ],
          "font": {
           "color": "#2a3f5f"
          },
          "geo": {
           "bgcolor": "white",
           "lakecolor": "white",
           "landcolor": "#E5ECF6",
           "showlakes": true,
           "showland": true,
           "subunitcolor": "white"
          },
          "hoverlabel": {
           "align": "left"
          },
          "hovermode": "closest",
          "mapbox": {
           "style": "light"
          },
          "paper_bgcolor": "white",
          "plot_bgcolor": "#E5ECF6",
          "polar": {
           "angularaxis": {
            "gridcolor": "white",
            "linecolor": "white",
            "ticks": ""
           },
           "bgcolor": "#E5ECF6",
           "radialaxis": {
            "gridcolor": "white",
            "linecolor": "white",
            "ticks": ""
           }
          },
          "scene": {
           "xaxis": {
            "backgroundcolor": "#E5ECF6",
            "gridcolor": "white",
            "gridwidth": 2,
            "linecolor": "white",
            "showbackground": true,
            "ticks": "",
            "zerolinecolor": "white"
           },
           "yaxis": {
            "backgroundcolor": "#E5ECF6",
            "gridcolor": "white",
            "gridwidth": 2,
            "linecolor": "white",
            "showbackground": true,
            "ticks": "",
            "zerolinecolor": "white"
           },
           "zaxis": {
            "backgroundcolor": "#E5ECF6",
            "gridcolor": "white",
            "gridwidth": 2,
            "linecolor": "white",
            "showbackground": true,
            "ticks": "",
            "zerolinecolor": "white"
           }
          },
          "shapedefaults": {
           "line": {
            "color": "#2a3f5f"
           }
          },
          "ternary": {
           "aaxis": {
            "gridcolor": "white",
            "linecolor": "white",
            "ticks": ""
           },
           "baxis": {
            "gridcolor": "white",
            "linecolor": "white",
            "ticks": ""
           },
           "bgcolor": "#E5ECF6",
           "caxis": {
            "gridcolor": "white",
            "linecolor": "white",
            "ticks": ""
           }
          },
          "title": {
           "x": 0.05
          },
          "xaxis": {
           "automargin": true,
           "gridcolor": "white",
           "linecolor": "white",
           "ticks": "",
           "title": {
            "standoff": 15
           },
           "zerolinecolor": "white",
           "zerolinewidth": 2
          },
          "yaxis": {
           "automargin": true,
           "gridcolor": "white",
           "linecolor": "white",
           "ticks": "",
           "title": {
            "standoff": 15
           },
           "zerolinecolor": "white",
           "zerolinewidth": 2
          }
         }
        },
        "title": {
         "text": "評分與聲量圖"
        },
        "xaxis": {
         "anchor": "y",
         "domain": [
          0,
          1
         ],
         "title": {
          "text": "評分"
         }
        },
        "yaxis": {
         "anchor": "x",
         "domain": [
          0,
          1
         ],
         "title": {
          "text": "聲量"
         }
        }
       }
      }
     },
     "metadata": {}
    }
   ],
   "source": [
    "fig = px.scatter(final1, x=\"評分\", y=\"聲量\", color=\"象限\", hover_data=[\"劇名\"])\n",
    "fig.update_layout(\n",
    "        title = '評分與聲量圖',\n",
    "        shapes=[\n",
    "        # 設定X軸\n",
    "        dict({\n",
    "            'type': 'line',\n",
    "            'x0': score_avg,\n",
    "            'y0': -10,\n",
    "            'x1': score_avg,\n",
    "            'y1': final1['聲量'].max()*1.1,\n",
    "            'line': {\n",
    "                'color': '#FF00FF',\n",
    "                'width': 2}}),\n",
    "        # 設定Y軸\n",
    "        dict({\n",
    "            'type': 'line',\n",
    "            'x0': 0,\n",
    "            'y0': avg,\n",
    "            'x1': final1['評分'].max()*1.1,\n",
    "            'y1': avg,\n",
    "            'line': {\n",
    "                'color': '#FF00FF',\n",
    "                'width': 2}})])\n",
    "fig.show()"
   ]
  },
  {
   "source": [
    "### 將成果另存新檔"
   ],
   "cell_type": "markdown",
   "metadata": {}
  },
  {
   "cell_type": "code",
   "execution_count": 15,
   "metadata": {},
   "outputs": [
    {
     "output_type": "stream",
     "name": "stderr",
     "text": [
      "C:\\Users\\user\\AppData\\Roaming\\Python\\Python37\\site-packages\\plotly\\offline\\offline.py:562: UserWarning:\n\nYour filename `CH3-4產出成果_評分與聲量圖` didn't end with .html. Adding .html to the end of your file.\n\n"
     ]
    },
    {
     "output_type": "execute_result",
     "data": {
      "text/plain": [
       "'CH3-4產出成果_評分與聲量圖.html'"
      ]
     },
     "metadata": {},
     "execution_count": 15
    }
   ],
   "source": [
    "# 圖檔\n",
    "fig.write_image('CH3-4產出成果_評分與聲量圖.png')\n",
    "# 網頁檔\n",
    "py.plot(fig, filename='CH3-4產出成果_評分與聲量圖', auto_open=True)"
   ]
  },
  {
   "source": [
    "## 加入影劇購買成本做為考量，再進行製圖"
   ],
   "cell_type": "markdown",
   "metadata": {}
  },
  {
   "source": [
    "### 引入影劇購買成本表"
   ],
   "cell_type": "markdown",
   "metadata": {}
  },
  {
   "cell_type": "code",
   "execution_count": 16,
   "metadata": {},
   "outputs": [
    {
     "output_type": "execute_result",
     "data": {
      "text/plain": [
       "           劇名     cost\n",
       "0      成為王的男人   190000\n",
       "1       皇后的品格  2000000\n",
       "2        赤月青日   760000\n",
       "3        神的測驗   450000\n",
       "4        死之詠讚  1950000\n",
       "5       王牌大律師   930000\n",
       "6   Priest驅魔者   480000\n",
       "7      加油吧威基基   860000\n",
       "8         皮諾丘   820000\n",
       "9        魔女寶鑑   590000\n",
       "10      好運羅曼史   570000\n",
       "11      購物王路易   720000\n",
       "12       七次初吻   580000\n",
       "13        男朋友   700000\n",
       "14    請回答1997   900000\n",
       "15     來自星星的你  1830000"
      ],
      "text/html": "<div>\n<style scoped>\n    .dataframe tbody tr th:only-of-type {\n        vertical-align: middle;\n    }\n\n    .dataframe tbody tr th {\n        vertical-align: top;\n    }\n\n    .dataframe thead th {\n        text-align: right;\n    }\n</style>\n<table border=\"1\" class=\"dataframe\">\n  <thead>\n    <tr style=\"text-align: right;\">\n      <th></th>\n      <th>劇名</th>\n      <th>cost</th>\n    </tr>\n  </thead>\n  <tbody>\n    <tr>\n      <th>0</th>\n      <td>成為王的男人</td>\n      <td>190000</td>\n    </tr>\n    <tr>\n      <th>1</th>\n      <td>皇后的品格</td>\n      <td>2000000</td>\n    </tr>\n    <tr>\n      <th>2</th>\n      <td>赤月青日</td>\n      <td>760000</td>\n    </tr>\n    <tr>\n      <th>3</th>\n      <td>神的測驗</td>\n      <td>450000</td>\n    </tr>\n    <tr>\n      <th>4</th>\n      <td>死之詠讚</td>\n      <td>1950000</td>\n    </tr>\n    <tr>\n      <th>5</th>\n      <td>王牌大律師</td>\n      <td>930000</td>\n    </tr>\n    <tr>\n      <th>6</th>\n      <td>Priest驅魔者</td>\n      <td>480000</td>\n    </tr>\n    <tr>\n      <th>7</th>\n      <td>加油吧威基基</td>\n      <td>860000</td>\n    </tr>\n    <tr>\n      <th>8</th>\n      <td>皮諾丘</td>\n      <td>820000</td>\n    </tr>\n    <tr>\n      <th>9</th>\n      <td>魔女寶鑑</td>\n      <td>590000</td>\n    </tr>\n    <tr>\n      <th>10</th>\n      <td>好運羅曼史</td>\n      <td>570000</td>\n    </tr>\n    <tr>\n      <th>11</th>\n      <td>購物王路易</td>\n      <td>720000</td>\n    </tr>\n    <tr>\n      <th>12</th>\n      <td>七次初吻</td>\n      <td>580000</td>\n    </tr>\n    <tr>\n      <th>13</th>\n      <td>男朋友</td>\n      <td>700000</td>\n    </tr>\n    <tr>\n      <th>14</th>\n      <td>請回答1997</td>\n      <td>900000</td>\n    </tr>\n    <tr>\n      <th>15</th>\n      <td>來自星星的你</td>\n      <td>1830000</td>\n    </tr>\n  </tbody>\n</table>\n</div>"
     },
     "metadata": {},
     "execution_count": 16
    }
   ],
   "source": [
    "drama_cost = pd.read_csv('CH3-4_影劇購買成本表.csv', encoding = 'utf-8-sig')\n",
    "drama_cost"
   ]
  },
  {
   "source": [
    "### 計算平均購買成本"
   ],
   "cell_type": "markdown",
   "metadata": {}
  },
  {
   "cell_type": "code",
   "execution_count": 17,
   "metadata": {},
   "outputs": [
    {
     "output_type": "execute_result",
     "data": {
      "text/plain": [
       "895625.0"
      ]
     },
     "metadata": {},
     "execution_count": 17
    }
   ],
   "source": [
    "avg_cost = drama_cost['cost'].mean()\n",
    "avg_cost"
   ]
  },
  {
   "source": [
    "### 透過迴圈，逐一取得不同影劇的相關資料"
   ],
   "cell_type": "markdown",
   "metadata": {}
  },
  {
   "cell_type": "code",
   "execution_count": 18,
   "metadata": {},
   "outputs": [],
   "source": [
    "voice_list =[] # 用以儲存聲量\n",
    "cost_list = [] # 用以儲存成本\n",
    "axe_list = [] # 用以儲存象限\n",
    "for i in range(len(drama_cost['cost'])):\n",
    "    if drama_cost['cost'][i]>avg_cost and mv_voice[i] >avg:#1_第一象限\n",
    "        axe = '1_第一象限'\n",
    "        \n",
    "    elif drama_cost['cost'][i]>avg_cost and mv_voice[i] <= avg:#4_第四象限\n",
    "        axe = '4_第四象限'\n",
    "        \n",
    "    elif drama_cost['cost'][i]<=avg_cost and mv_voice[i] > avg:#3_第三象限\n",
    "        axe = '2_第二象限'\n",
    "        \n",
    "    else:#2_第二象限\n",
    "        axe = '3_第三象限'\n",
    "\n",
    "    voice_list.append(mv_voice[i])\n",
    "    cost_list.append(drama_cost['cost'][i])\n",
    "    axe_list.append(axe)"
   ]
  },
  {
   "source": [
    "### 將影劇相關資料製作成資料集，並匯出"
   ],
   "cell_type": "markdown",
   "metadata": {}
  },
  {
   "cell_type": "code",
   "execution_count": 19,
   "metadata": {},
   "outputs": [
    {
     "output_type": "execute_result",
     "data": {
      "text/plain": [
       "    聲量       成本      象限         劇名\n",
       "1   62  2000000  1_第一象限      皇后的品格\n",
       "4   39  1950000  1_第一象限       死之詠讚\n",
       "2   27   760000  2_第二象限       赤月青日\n",
       "3   26   450000  2_第二象限       神的測驗\n",
       "8   20   820000  2_第二象限        皮諾丘\n",
       "13  52   700000  2_第二象限        男朋友\n",
       "0    4   190000  3_第三象限     成為王的男人\n",
       "6    9   480000  3_第三象限  Priest驅魔者\n",
       "7   12   860000  3_第三象限     加油吧威基基\n",
       "9   14   590000  3_第三象限       魔女寶鑑\n",
       "10   0   570000  3_第三象限      好運羅曼史\n",
       "11   0   720000  3_第三象限      購物王路易\n",
       "12   0   580000  3_第三象限       七次初吻\n",
       "5    0   930000  4_第四象限      王牌大律師\n",
       "14   0   900000  4_第四象限    請回答1997\n",
       "15  10  1830000  4_第四象限     來自星星的你"
      ],
      "text/html": "<div>\n<style scoped>\n    .dataframe tbody tr th:only-of-type {\n        vertical-align: middle;\n    }\n\n    .dataframe tbody tr th {\n        vertical-align: top;\n    }\n\n    .dataframe thead th {\n        text-align: right;\n    }\n</style>\n<table border=\"1\" class=\"dataframe\">\n  <thead>\n    <tr style=\"text-align: right;\">\n      <th></th>\n      <th>聲量</th>\n      <th>成本</th>\n      <th>象限</th>\n      <th>劇名</th>\n    </tr>\n  </thead>\n  <tbody>\n    <tr>\n      <th>1</th>\n      <td>62</td>\n      <td>2000000</td>\n      <td>1_第一象限</td>\n      <td>皇后的品格</td>\n    </tr>\n    <tr>\n      <th>4</th>\n      <td>39</td>\n      <td>1950000</td>\n      <td>1_第一象限</td>\n      <td>死之詠讚</td>\n    </tr>\n    <tr>\n      <th>2</th>\n      <td>27</td>\n      <td>760000</td>\n      <td>2_第二象限</td>\n      <td>赤月青日</td>\n    </tr>\n    <tr>\n      <th>3</th>\n      <td>26</td>\n      <td>450000</td>\n      <td>2_第二象限</td>\n      <td>神的測驗</td>\n    </tr>\n    <tr>\n      <th>8</th>\n      <td>20</td>\n      <td>820000</td>\n      <td>2_第二象限</td>\n      <td>皮諾丘</td>\n    </tr>\n    <tr>\n      <th>13</th>\n      <td>52</td>\n      <td>700000</td>\n      <td>2_第二象限</td>\n      <td>男朋友</td>\n    </tr>\n    <tr>\n      <th>0</th>\n      <td>4</td>\n      <td>190000</td>\n      <td>3_第三象限</td>\n      <td>成為王的男人</td>\n    </tr>\n    <tr>\n      <th>6</th>\n      <td>9</td>\n      <td>480000</td>\n      <td>3_第三象限</td>\n      <td>Priest驅魔者</td>\n    </tr>\n    <tr>\n      <th>7</th>\n      <td>12</td>\n      <td>860000</td>\n      <td>3_第三象限</td>\n      <td>加油吧威基基</td>\n    </tr>\n    <tr>\n      <th>9</th>\n      <td>14</td>\n      <td>590000</td>\n      <td>3_第三象限</td>\n      <td>魔女寶鑑</td>\n    </tr>\n    <tr>\n      <th>10</th>\n      <td>0</td>\n      <td>570000</td>\n      <td>3_第三象限</td>\n      <td>好運羅曼史</td>\n    </tr>\n    <tr>\n      <th>11</th>\n      <td>0</td>\n      <td>720000</td>\n      <td>3_第三象限</td>\n      <td>購物王路易</td>\n    </tr>\n    <tr>\n      <th>12</th>\n      <td>0</td>\n      <td>580000</td>\n      <td>3_第三象限</td>\n      <td>七次初吻</td>\n    </tr>\n    <tr>\n      <th>5</th>\n      <td>0</td>\n      <td>930000</td>\n      <td>4_第四象限</td>\n      <td>王牌大律師</td>\n    </tr>\n    <tr>\n      <th>14</th>\n      <td>0</td>\n      <td>900000</td>\n      <td>4_第四象限</td>\n      <td>請回答1997</td>\n    </tr>\n    <tr>\n      <th>15</th>\n      <td>10</td>\n      <td>1830000</td>\n      <td>4_第四象限</td>\n      <td>來自星星的你</td>\n    </tr>\n  </tbody>\n</table>\n</div>"
     },
     "metadata": {},
     "execution_count": 19
    }
   ],
   "source": [
    "final2 = pd.DataFrame(zip(voice_list, cost_list, axe_list, movie), columns=['聲量', '成本', '象限', '劇名'])\n",
    "final2 = final2.sort_values('象限')\n",
    "final2.to_csv('CH3-4產出成果_成本效益評估分析表.csv', encoding = 'utf-8-sig')\n",
    "final2"
   ]
  },
  {
   "source": [
    "## 資料視覺化"
   ],
   "cell_type": "markdown",
   "metadata": {}
  },
  {
   "cell_type": "code",
   "execution_count": 20,
   "metadata": {},
   "outputs": [
    {
     "output_type": "display_data",
     "data": {
      "application/vnd.plotly.v1+json": {
       "config": {
        "plotlyServerURL": "https://plot.ly"
       },
       "data": [
        {
         "customdata": [
          [
           "皇后的品格"
          ],
          [
           "死之詠讚"
          ]
         ],
         "hoverlabel": {
          "namelength": 0
         },
         "hovertemplate": "象限=1_第一象限<br>成本=%{marker.size}<br>聲量=%{y}<br>劇名=%{customdata[0]}",
         "legendgroup": "象限=1_第一象限",
         "marker": {
          "color": "#636efa",
          "size": [
           2000000,
           1950000
          ],
          "sizemode": "area",
          "sizeref": 5000,
          "symbol": "circle"
         },
         "mode": "markers",
         "name": "象限=1_第一象限",
         "showlegend": true,
         "type": "scatter",
         "x": [
          2000000,
          1950000
         ],
         "xaxis": "x",
         "y": [
          62,
          39
         ],
         "yaxis": "y"
        },
        {
         "customdata": [
          [
           "赤月青日"
          ],
          [
           "神的測驗"
          ],
          [
           "皮諾丘"
          ],
          [
           "男朋友"
          ]
         ],
         "hoverlabel": {
          "namelength": 0
         },
         "hovertemplate": "象限=2_第二象限<br>成本=%{marker.size}<br>聲量=%{y}<br>劇名=%{customdata[0]}",
         "legendgroup": "象限=2_第二象限",
         "marker": {
          "color": "#EF553B",
          "size": [
           760000,
           450000,
           820000,
           700000
          ],
          "sizemode": "area",
          "sizeref": 5000,
          "symbol": "circle"
         },
         "mode": "markers",
         "name": "象限=2_第二象限",
         "showlegend": true,
         "type": "scatter",
         "x": [
          760000,
          450000,
          820000,
          700000
         ],
         "xaxis": "x",
         "y": [
          27,
          26,
          20,
          52
         ],
         "yaxis": "y"
        },
        {
         "customdata": [
          [
           "成為王的男人"
          ],
          [
           "Priest驅魔者"
          ],
          [
           "加油吧威基基"
          ],
          [
           "魔女寶鑑"
          ],
          [
           "好運羅曼史"
          ],
          [
           "購物王路易"
          ],
          [
           "七次初吻"
          ]
         ],
         "hoverlabel": {
          "namelength": 0
         },
         "hovertemplate": "象限=3_第三象限<br>成本=%{marker.size}<br>聲量=%{y}<br>劇名=%{customdata[0]}",
         "legendgroup": "象限=3_第三象限",
         "marker": {
          "color": "#00cc96",
          "size": [
           190000,
           480000,
           860000,
           590000,
           570000,
           720000,
           580000
          ],
          "sizemode": "area",
          "sizeref": 5000,
          "symbol": "circle"
         },
         "mode": "markers",
         "name": "象限=3_第三象限",
         "showlegend": true,
         "type": "scatter",
         "x": [
          190000,
          480000,
          860000,
          590000,
          570000,
          720000,
          580000
         ],
         "xaxis": "x",
         "y": [
          4,
          9,
          12,
          14,
          0,
          0,
          0
         ],
         "yaxis": "y"
        },
        {
         "customdata": [
          [
           "王牌大律師"
          ],
          [
           "請回答1997"
          ],
          [
           "來自星星的你"
          ]
         ],
         "hoverlabel": {
          "namelength": 0
         },
         "hovertemplate": "象限=4_第四象限<br>成本=%{marker.size}<br>聲量=%{y}<br>劇名=%{customdata[0]}",
         "legendgroup": "象限=4_第四象限",
         "marker": {
          "color": "#ab63fa",
          "size": [
           930000,
           900000,
           1830000
          ],
          "sizemode": "area",
          "sizeref": 5000,
          "symbol": "circle"
         },
         "mode": "markers",
         "name": "象限=4_第四象限",
         "showlegend": true,
         "type": "scatter",
         "x": [
          930000,
          900000,
          1830000
         ],
         "xaxis": "x",
         "y": [
          0,
          0,
          10
         ],
         "yaxis": "y"
        }
       ],
       "layout": {
        "legend": {
         "itemsizing": "constant",
         "tracegroupgap": 0
        },
        "margin": {
         "t": 60
        },
        "shapes": [
         {
          "line": {
           "color": "#FF00FF",
           "width": 2
          },
          "type": "line",
          "x0": 895625,
          "x1": 895625,
          "y0": -10,
          "y1": 74.39999999999999
         },
         {
          "line": {
           "color": "#FF00FF",
           "width": 2
          },
          "type": "line",
          "x0": 0,
          "x1": 2200000,
          "y0": 17.1875,
          "y1": 17.1875
         }
        ],
        "template": {
         "data": {
          "bar": [
           {
            "error_x": {
             "color": "#2a3f5f"
            },
            "error_y": {
             "color": "#2a3f5f"
            },
            "marker": {
             "line": {
              "color": "#E5ECF6",
              "width": 0.5
             }
            },
            "type": "bar"
           }
          ],
          "barpolar": [
           {
            "marker": {
             "line": {
              "color": "#E5ECF6",
              "width": 0.5
             }
            },
            "type": "barpolar"
           }
          ],
          "carpet": [
           {
            "aaxis": {
             "endlinecolor": "#2a3f5f",
             "gridcolor": "white",
             "linecolor": "white",
             "minorgridcolor": "white",
             "startlinecolor": "#2a3f5f"
            },
            "baxis": {
             "endlinecolor": "#2a3f5f",
             "gridcolor": "white",
             "linecolor": "white",
             "minorgridcolor": "white",
             "startlinecolor": "#2a3f5f"
            },
            "type": "carpet"
           }
          ],
          "choropleth": [
           {
            "colorbar": {
             "outlinewidth": 0,
             "ticks": ""
            },
            "type": "choropleth"
           }
          ],
          "contour": [
           {
            "colorbar": {
             "outlinewidth": 0,
             "ticks": ""
            },
            "colorscale": [
             [
              0,
              "#0d0887"
             ],
             [
              0.1111111111111111,
              "#46039f"
             ],
             [
              0.2222222222222222,
              "#7201a8"
             ],
             [
              0.3333333333333333,
              "#9c179e"
             ],
             [
              0.4444444444444444,
              "#bd3786"
             ],
             [
              0.5555555555555556,
              "#d8576b"
             ],
             [
              0.6666666666666666,
              "#ed7953"
             ],
             [
              0.7777777777777778,
              "#fb9f3a"
             ],
             [
              0.8888888888888888,
              "#fdca26"
             ],
             [
              1,
              "#f0f921"
             ]
            ],
            "type": "contour"
           }
          ],
          "contourcarpet": [
           {
            "colorbar": {
             "outlinewidth": 0,
             "ticks": ""
            },
            "type": "contourcarpet"
           }
          ],
          "heatmap": [
           {
            "colorbar": {
             "outlinewidth": 0,
             "ticks": ""
            },
            "colorscale": [
             [
              0,
              "#0d0887"
             ],
             [
              0.1111111111111111,
              "#46039f"
             ],
             [
              0.2222222222222222,
              "#7201a8"
             ],
             [
              0.3333333333333333,
              "#9c179e"
             ],
             [
              0.4444444444444444,
              "#bd3786"
             ],
             [
              0.5555555555555556,
              "#d8576b"
             ],
             [
              0.6666666666666666,
              "#ed7953"
             ],
             [
              0.7777777777777778,
              "#fb9f3a"
             ],
             [
              0.8888888888888888,
              "#fdca26"
             ],
             [
              1,
              "#f0f921"
             ]
            ],
            "type": "heatmap"
           }
          ],
          "heatmapgl": [
           {
            "colorbar": {
             "outlinewidth": 0,
             "ticks": ""
            },
            "colorscale": [
             [
              0,
              "#0d0887"
             ],
             [
              0.1111111111111111,
              "#46039f"
             ],
             [
              0.2222222222222222,
              "#7201a8"
             ],
             [
              0.3333333333333333,
              "#9c179e"
             ],
             [
              0.4444444444444444,
              "#bd3786"
             ],
             [
              0.5555555555555556,
              "#d8576b"
             ],
             [
              0.6666666666666666,
              "#ed7953"
             ],
             [
              0.7777777777777778,
              "#fb9f3a"
             ],
             [
              0.8888888888888888,
              "#fdca26"
             ],
             [
              1,
              "#f0f921"
             ]
            ],
            "type": "heatmapgl"
           }
          ],
          "histogram": [
           {
            "marker": {
             "colorbar": {
              "outlinewidth": 0,
              "ticks": ""
             }
            },
            "type": "histogram"
           }
          ],
          "histogram2d": [
           {
            "colorbar": {
             "outlinewidth": 0,
             "ticks": ""
            },
            "colorscale": [
             [
              0,
              "#0d0887"
             ],
             [
              0.1111111111111111,
              "#46039f"
             ],
             [
              0.2222222222222222,
              "#7201a8"
             ],
             [
              0.3333333333333333,
              "#9c179e"
             ],
             [
              0.4444444444444444,
              "#bd3786"
             ],
             [
              0.5555555555555556,
              "#d8576b"
             ],
             [
              0.6666666666666666,
              "#ed7953"
             ],
             [
              0.7777777777777778,
              "#fb9f3a"
             ],
             [
              0.8888888888888888,
              "#fdca26"
             ],
             [
              1,
              "#f0f921"
             ]
            ],
            "type": "histogram2d"
           }
          ],
          "histogram2dcontour": [
           {
            "colorbar": {
             "outlinewidth": 0,
             "ticks": ""
            },
            "colorscale": [
             [
              0,
              "#0d0887"
             ],
             [
              0.1111111111111111,
              "#46039f"
             ],
             [
              0.2222222222222222,
              "#7201a8"
             ],
             [
              0.3333333333333333,
              "#9c179e"
             ],
             [
              0.4444444444444444,
              "#bd3786"
             ],
             [
              0.5555555555555556,
              "#d8576b"
             ],
             [
              0.6666666666666666,
              "#ed7953"
             ],
             [
              0.7777777777777778,
              "#fb9f3a"
             ],
             [
              0.8888888888888888,
              "#fdca26"
             ],
             [
              1,
              "#f0f921"
             ]
            ],
            "type": "histogram2dcontour"
           }
          ],
          "mesh3d": [
           {
            "colorbar": {
             "outlinewidth": 0,
             "ticks": ""
            },
            "type": "mesh3d"
           }
          ],
          "parcoords": [
           {
            "line": {
             "colorbar": {
              "outlinewidth": 0,
              "ticks": ""
             }
            },
            "type": "parcoords"
           }
          ],
          "pie": [
           {
            "automargin": true,
            "type": "pie"
           }
          ],
          "scatter": [
           {
            "marker": {
             "colorbar": {
              "outlinewidth": 0,
              "ticks": ""
             }
            },
            "type": "scatter"
           }
          ],
          "scatter3d": [
           {
            "line": {
             "colorbar": {
              "outlinewidth": 0,
              "ticks": ""
             }
            },
            "marker": {
             "colorbar": {
              "outlinewidth": 0,
              "ticks": ""
             }
            },
            "type": "scatter3d"
           }
          ],
          "scattercarpet": [
           {
            "marker": {
             "colorbar": {
              "outlinewidth": 0,
              "ticks": ""
             }
            },
            "type": "scattercarpet"
           }
          ],
          "scattergeo": [
           {
            "marker": {
             "colorbar": {
              "outlinewidth": 0,
              "ticks": ""
             }
            },
            "type": "scattergeo"
           }
          ],
          "scattergl": [
           {
            "marker": {
             "colorbar": {
              "outlinewidth": 0,
              "ticks": ""
             }
            },
            "type": "scattergl"
           }
          ],
          "scattermapbox": [
           {
            "marker": {
             "colorbar": {
              "outlinewidth": 0,
              "ticks": ""
             }
            },
            "type": "scattermapbox"
           }
          ],
          "scatterpolar": [
           {
            "marker": {
             "colorbar": {
              "outlinewidth": 0,
              "ticks": ""
             }
            },
            "type": "scatterpolar"
           }
          ],
          "scatterpolargl": [
           {
            "marker": {
             "colorbar": {
              "outlinewidth": 0,
              "ticks": ""
             }
            },
            "type": "scatterpolargl"
           }
          ],
          "scatterternary": [
           {
            "marker": {
             "colorbar": {
              "outlinewidth": 0,
              "ticks": ""
             }
            },
            "type": "scatterternary"
           }
          ],
          "surface": [
           {
            "colorbar": {
             "outlinewidth": 0,
             "ticks": ""
            },
            "colorscale": [
             [
              0,
              "#0d0887"
             ],
             [
              0.1111111111111111,
              "#46039f"
             ],
             [
              0.2222222222222222,
              "#7201a8"
             ],
             [
              0.3333333333333333,
              "#9c179e"
             ],
             [
              0.4444444444444444,
              "#bd3786"
             ],
             [
              0.5555555555555556,
              "#d8576b"
             ],
             [
              0.6666666666666666,
              "#ed7953"
             ],
             [
              0.7777777777777778,
              "#fb9f3a"
             ],
             [
              0.8888888888888888,
              "#fdca26"
             ],
             [
              1,
              "#f0f921"
             ]
            ],
            "type": "surface"
           }
          ],
          "table": [
           {
            "cells": {
             "fill": {
              "color": "#EBF0F8"
             },
             "line": {
              "color": "white"
             }
            },
            "header": {
             "fill": {
              "color": "#C8D4E3"
             },
             "line": {
              "color": "white"
             }
            },
            "type": "table"
           }
          ]
         },
         "layout": {
          "annotationdefaults": {
           "arrowcolor": "#2a3f5f",
           "arrowhead": 0,
           "arrowwidth": 1
          },
          "coloraxis": {
           "colorbar": {
            "outlinewidth": 0,
            "ticks": ""
           }
          },
          "colorscale": {
           "diverging": [
            [
             0,
             "#8e0152"
            ],
            [
             0.1,
             "#c51b7d"
            ],
            [
             0.2,
             "#de77ae"
            ],
            [
             0.3,
             "#f1b6da"
            ],
            [
             0.4,
             "#fde0ef"
            ],
            [
             0.5,
             "#f7f7f7"
            ],
            [
             0.6,
             "#e6f5d0"
            ],
            [
             0.7,
             "#b8e186"
            ],
            [
             0.8,
             "#7fbc41"
            ],
            [
             0.9,
             "#4d9221"
            ],
            [
             1,
             "#276419"
            ]
           ],
           "sequential": [
            [
             0,
             "#0d0887"
            ],
            [
             0.1111111111111111,
             "#46039f"
            ],
            [
             0.2222222222222222,
             "#7201a8"
            ],
            [
             0.3333333333333333,
             "#9c179e"
            ],
            [
             0.4444444444444444,
             "#bd3786"
            ],
            [
             0.5555555555555556,
             "#d8576b"
            ],
            [
             0.6666666666666666,
             "#ed7953"
            ],
            [
             0.7777777777777778,
             "#fb9f3a"
            ],
            [
             0.8888888888888888,
             "#fdca26"
            ],
            [
             1,
             "#f0f921"
            ]
           ],
           "sequentialminus": [
            [
             0,
             "#0d0887"
            ],
            [
             0.1111111111111111,
             "#46039f"
            ],
            [
             0.2222222222222222,
             "#7201a8"
            ],
            [
             0.3333333333333333,
             "#9c179e"
            ],
            [
             0.4444444444444444,
             "#bd3786"
            ],
            [
             0.5555555555555556,
             "#d8576b"
            ],
            [
             0.6666666666666666,
             "#ed7953"
            ],
            [
             0.7777777777777778,
             "#fb9f3a"
            ],
            [
             0.8888888888888888,
             "#fdca26"
            ],
            [
             1,
             "#f0f921"
            ]
           ]
          },
          "colorway": [
           "#636efa",
           "#EF553B",
           "#00cc96",
           "#ab63fa",
           "#FFA15A",
           "#19d3f3",
           "#FF6692",
           "#B6E880",
           "#FF97FF",
           "#FECB52"
          ],
          "font": {
           "color": "#2a3f5f"
          },
          "geo": {
           "bgcolor": "white",
           "lakecolor": "white",
           "landcolor": "#E5ECF6",
           "showlakes": true,
           "showland": true,
           "subunitcolor": "white"
          },
          "hoverlabel": {
           "align": "left"
          },
          "hovermode": "closest",
          "mapbox": {
           "style": "light"
          },
          "paper_bgcolor": "white",
          "plot_bgcolor": "#E5ECF6",
          "polar": {
           "angularaxis": {
            "gridcolor": "white",
            "linecolor": "white",
            "ticks": ""
           },
           "bgcolor": "#E5ECF6",
           "radialaxis": {
            "gridcolor": "white",
            "linecolor": "white",
            "ticks": ""
           }
          },
          "scene": {
           "xaxis": {
            "backgroundcolor": "#E5ECF6",
            "gridcolor": "white",
            "gridwidth": 2,
            "linecolor": "white",
            "showbackground": true,
            "ticks": "",
            "zerolinecolor": "white"
           },
           "yaxis": {
            "backgroundcolor": "#E5ECF6",
            "gridcolor": "white",
            "gridwidth": 2,
            "linecolor": "white",
            "showbackground": true,
            "ticks": "",
            "zerolinecolor": "white"
           },
           "zaxis": {
            "backgroundcolor": "#E5ECF6",
            "gridcolor": "white",
            "gridwidth": 2,
            "linecolor": "white",
            "showbackground": true,
            "ticks": "",
            "zerolinecolor": "white"
           }
          },
          "shapedefaults": {
           "line": {
            "color": "#2a3f5f"
           }
          },
          "ternary": {
           "aaxis": {
            "gridcolor": "white",
            "linecolor": "white",
            "ticks": ""
           },
           "baxis": {
            "gridcolor": "white",
            "linecolor": "white",
            "ticks": ""
           },
           "bgcolor": "#E5ECF6",
           "caxis": {
            "gridcolor": "white",
            "linecolor": "white",
            "ticks": ""
           }
          },
          "title": {
           "x": 0.05
          },
          "xaxis": {
           "automargin": true,
           "gridcolor": "white",
           "linecolor": "white",
           "ticks": "",
           "title": {
            "standoff": 15
           },
           "zerolinecolor": "white",
           "zerolinewidth": 2
          },
          "yaxis": {
           "automargin": true,
           "gridcolor": "white",
           "linecolor": "white",
           "ticks": "",
           "title": {
            "standoff": 15
           },
           "zerolinecolor": "white",
           "zerolinewidth": 2
          }
         }
        },
        "title": {
         "text": "成本效益評估分析"
        },
        "xaxis": {
         "anchor": "y",
         "domain": [
          0,
          1
         ],
         "title": {
          "text": "成本"
         }
        },
        "yaxis": {
         "anchor": "x",
         "domain": [
          0,
          1
         ],
         "title": {
          "text": "聲量"
         }
        }
       }
      }
     },
     "metadata": {}
    }
   ],
   "source": [
    "fig = px.scatter(final2, x = '成本', y = '聲量', size = '成本', color = '象限',  hover_data=['劇名'])\n",
    "fig.update_layout(\n",
    "        title = '成本效益評估分析',\n",
    "        shapes=[\n",
    "        # 設定X軸\n",
    "        dict({\n",
    "            'type': 'line',\n",
    "            'x0': avg_cost,\n",
    "            'y0': -10,\n",
    "            'x1': avg_cost,\n",
    "            'y1': final2['聲量'].max()*1.2,\n",
    "            'line': {\n",
    "                'color': '#FF00FF',\n",
    "                'width': 2}}),\n",
    "        # 設定Y軸\n",
    "        dict({\n",
    "            'type': 'line',\n",
    "            'x0': 0,\n",
    "            'y0': avg,\n",
    "            'x1': final2['成本'].max()*1.1,\n",
    "            'y1': avg,\n",
    "            'line': {\n",
    "                'color': '#FF00FF',\n",
    "                'width': 2}})])\n",
    "fig.show()"
   ]
  },
  {
   "source": [
    "### 將成果另存新檔"
   ],
   "cell_type": "markdown",
   "metadata": {}
  },
  {
   "cell_type": "code",
   "execution_count": 21,
   "metadata": {},
   "outputs": [
    {
     "output_type": "stream",
     "name": "stderr",
     "text": [
      "C:\\Users\\user\\AppData\\Roaming\\Python\\Python37\\site-packages\\plotly\\offline\\offline.py:562: UserWarning:\n\nYour filename `CH3-4產出成果_成本效益評估分析圖` didn't end with .html. Adding .html to the end of your file.\n\n"
     ]
    },
    {
     "output_type": "execute_result",
     "data": {
      "text/plain": [
       "'CH3-4產出成果_成本效益評估分析圖.html'"
      ]
     },
     "metadata": {},
     "execution_count": 21
    }
   ],
   "source": [
    "# 圖檔\n",
    "fig.write_image('CH3-4產出成果_成本效益評估分析圖.png')\n",
    "# 網頁檔\n",
    "py.plot(fig, filename='CH3-4產出成果_成本效益評估分析圖', auto_open=True)"
   ]
  }
 ]
}