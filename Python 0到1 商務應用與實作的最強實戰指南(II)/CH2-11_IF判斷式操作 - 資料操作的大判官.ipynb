{
 "metadata": {
  "language_info": {
   "codemirror_mode": {
    "name": "ipython",
    "version": 3
   },
   "file_extension": ".py",
   "mimetype": "text/x-python",
   "name": "python",
   "nbconvert_exporter": "python",
   "pygments_lexer": "ipython3",
   "version": "3.7.7"
  },
  "orig_nbformat": 2,
  "kernelspec": {
   "name": "python377jvsc74a57bd017f2ce44bac20d6eeee1e2d5412832c660463c83b55cd2014f071e9a7bf66530",
   "display_name": "Python 3.7.7 64-bit ('new': conda)"
  }
 },
 "nbformat": 4,
 "nbformat_minor": 2,
 "cells": [
  {
   "source": [
    "# `IF判斷式操作 - 資料操作的大判官`\n",
    "### 作者：徐子皓、戴若竹\n",
    "***"
   ],
   "cell_type": "markdown",
   "metadata": {}
  },
  {
   "source": [
    "## 單項判斷式"
   ],
   "cell_type": "markdown",
   "metadata": {}
  },
  {
   "cell_type": "code",
   "execution_count": 1,
   "metadata": {},
   "outputs": [
    {
     "output_type": "stream",
     "name": "stdout",
     "text": [
      "及格！\n"
     ]
    }
   ],
   "source": [
    "score = 70 # 設定成績變數\n",
    "if score >= 60: # 60分以上及格\n",
    "    print(\"及格！\")\n",
    "else: # 不符合以上條件的時候執行\n",
    "    print(\"不及格！\")"
   ]
  },
  {
   "source": [
    "## 多項判斷式"
   ],
   "cell_type": "markdown",
   "metadata": {}
  },
  {
   "cell_type": "code",
   "execution_count": 2,
   "metadata": {},
   "outputs": [
    {
     "output_type": "stream",
     "name": "stdout",
     "text": [
      "B\n"
     ]
    }
   ],
   "source": [
    "score = 70 # 設定成績變數\n",
    "if (score > 80):\n",
    "    print(\"A\")\n",
    "elif (score >= 70) & (score < 80): # 加上括號分群幫助易讀\n",
    "    print(\"B\")\n",
    "elif (score >= 60) & (score < 70):\n",
    "    print(\"C\")\n",
    "else:\n",
    "    print(\"F\")"
   ]
  }
 ]
}