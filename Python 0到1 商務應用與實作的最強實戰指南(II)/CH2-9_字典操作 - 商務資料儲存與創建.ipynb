{
 "metadata": {
  "language_info": {
   "codemirror_mode": {
    "name": "ipython",
    "version": 3
   },
   "file_extension": ".py",
   "mimetype": "text/x-python",
   "name": "python",
   "nbconvert_exporter": "python",
   "pygments_lexer": "ipython3",
   "version": "3.7.7"
  },
  "orig_nbformat": 2,
  "kernelspec": {
   "name": "python377jvsc74a57bd017f2ce44bac20d6eeee1e2d5412832c660463c83b55cd2014f071e9a7bf66530",
   "display_name": "Python 3.7.7 64-bit ('new': conda)"
  }
 },
 "nbformat": 4,
 "nbformat_minor": 2,
 "cells": [
  {
   "source": [
    "# `字典操作 - 商務資料儲存與創建`\n",
    "### 作者：徐子皓、戴若竹\n",
    "***"
   ],
   "cell_type": "markdown",
   "metadata": {}
  },
  {
   "source": [
    "## 建立字典"
   ],
   "cell_type": "markdown",
   "metadata": {}
  },
  {
   "source": [
    "### 用大括號{}建立"
   ],
   "cell_type": "markdown",
   "metadata": {}
  },
  {
   "cell_type": "code",
   "execution_count": 1,
   "metadata": {},
   "outputs": [
    {
     "output_type": "stream",
     "name": "stdout",
     "text": [
      "apple\n"
     ]
    }
   ],
   "source": [
    "alphabet = {\n",
    "    \"a\":\"apple\",\n",
    "    \"b\":\"ball\",\n",
    "    \"c\":\"cat\",\n",
    "    \"d\":\"dog\",\n",
    "    \"e\":\"elephant\"\n",
    "}\n",
    "print(alphabet[\"a\"])"
   ]
  },
  {
   "source": [
    "### 用dict()建立"
   ],
   "cell_type": "markdown",
   "metadata": {}
  },
  {
   "cell_type": "code",
   "execution_count": 2,
   "metadata": {},
   "outputs": [
    {
     "output_type": "stream",
     "name": "stdout",
     "text": [
      "apple\n"
     ]
    }
   ],
   "source": [
    "alphabet = dict(\n",
    "    a=\"apple\",\n",
    "    b=\"ball\",\n",
    "    c=\"cat\",\n",
    "    d=\"dog\",\n",
    "    e=\"elephant\"\n",
    ")\n",
    "print(alphabet[\"a\"])"
   ]
  },
  {
   "source": [
    "## 新增或更新資料"
   ],
   "cell_type": "markdown",
   "metadata": {}
  },
  {
   "source": [
    "### 透過定義變數新增"
   ],
   "cell_type": "markdown",
   "metadata": {}
  },
  {
   "cell_type": "code",
   "execution_count": 3,
   "metadata": {},
   "outputs": [
    {
     "output_type": "stream",
     "name": "stdout",
     "text": [
      "ant\n{'a': 'ant', 'b': 'ball', 'c': 'cat', 'd': 'dog', 'e': 'elephant', 'f': 'frog'}\n"
     ]
    }
   ],
   "source": [
    "alphabet[\"f\"] = \"frog\" # 新增新元素\n",
    "alphabet[\"a\"] = \"ant\" # 更新元素\n",
    "print(alphabet[\"a\"])\n",
    "print(alphabet)"
   ]
  },
  {
   "source": [
    "### 透過.update()更新"
   ],
   "cell_type": "markdown",
   "metadata": {}
  },
  {
   "cell_type": "code",
   "execution_count": 4,
   "metadata": {},
   "outputs": [
    {
     "output_type": "stream",
     "name": "stdout",
     "text": [
      "{'a': 'ant', 'b': 'ball', 'c': 'cat', 'd': 'dog', 'e': 'egg', 'f': 'frog', 'g': 'good', 'h': 'hello'}\n"
     ]
    }
   ],
   "source": [
    "new_dict = {\n",
    "    \"e\":\"egg\",\n",
    "    \"g\":\"good\",\n",
    "    \"h\":\"hello\"\n",
    "}\n",
    "alphabet.update(new_dict) # 更新的資料需為字典型態\n",
    "print(alphabet)"
   ]
  },
  {
   "source": [
    "## 刪除資料"
   ],
   "cell_type": "markdown",
   "metadata": {}
  },
  {
   "cell_type": "code",
   "execution_count": 5,
   "metadata": {},
   "outputs": [
    {
     "output_type": "stream",
     "name": "stdout",
     "text": [
      "{'b': 'ball', 'c': 'cat', 'd': 'dog', 'e': 'egg', 'f': 'frog', 'g': 'good', 'h': 'hello'}\n"
     ]
    }
   ],
   "source": [
    "del alphabet[\"a\"] # 刪除資料\n",
    "print(alphabet)"
   ]
  },
  {
   "source": [
    "## 其他應用\n",
    "- 字典的大小(元素個數)：len(字典變數名稱)。\n",
    "- 字典內所有鍵(Key)：字典變數名稱.keys()。\n",
    "- 字典內所有值(Value)：字典變數名稱.values()。\n",
    "- 字典所有元素：字典變數名稱.items()"
   ],
   "cell_type": "markdown",
   "metadata": {}
  },
  {
   "cell_type": "code",
   "execution_count": 6,
   "metadata": {},
   "outputs": [
    {
     "output_type": "stream",
     "name": "stdout",
     "text": [
      "7\ndict_keys(['b', 'c', 'd', 'e', 'f', 'g', 'h'])\ndict_values(['ball', 'cat', 'dog', 'egg', 'frog', 'good', 'hello'])\ndict_items([('b', 'ball'), ('c', 'cat'), ('d', 'dog'), ('e', 'egg'), ('f', 'frog'), ('g', 'good'), ('h', 'hello')])\n"
     ]
    }
   ],
   "source": [
    "print(len(alphabet))\n",
    "print(alphabet.keys())\n",
    "print(alphabet.values())\n",
    "print(alphabet.items())"
   ]
  }
 ]
}