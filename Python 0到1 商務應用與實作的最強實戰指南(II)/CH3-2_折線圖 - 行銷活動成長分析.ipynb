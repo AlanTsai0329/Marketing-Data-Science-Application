{
 "metadata": {
  "language_info": {
   "codemirror_mode": {
    "name": "ipython",
    "version": 3
   },
   "file_extension": ".py",
   "mimetype": "text/x-python",
   "name": "python",
   "nbconvert_exporter": "python",
   "pygments_lexer": "ipython3",
   "version": "3.7.9"
  },
  "orig_nbformat": 2,
  "kernelspec": {
   "name": "python379jvsc74a57bd05d87b42201e74ac320bc00dce267d44f5f134edfec9046f67f672f289707ff6a",
   "display_name": "Python 3.7.9 64-bit"
  },
  "metadata": {
   "interpreter": {
    "hash": "5d87b42201e74ac320bc00dce267d44f5f134edfec9046f67f672f289707ff6a"
   }
  }
 },
 "nbformat": 4,
 "nbformat_minor": 2,
 "cells": [
  {
   "source": [
    "# `折線圖 - 行銷活動成長分析`\n",
    "### 作者：徐子皓、陳俊凱\n",
    "***"
   ],
   "cell_type": "markdown",
   "metadata": {}
  },
  {
   "source": [
    "## 引入套件包"
   ],
   "cell_type": "markdown",
   "metadata": {}
  },
  {
   "cell_type": "code",
   "execution_count": 1,
   "metadata": {},
   "outputs": [],
   "source": [
    "import pandas as pd \n",
    "import numpy as np\n",
    "import plotly.graph_objects as go\n",
    "import plotly.offline as py\n",
    "import plotly.io as pio"
   ]
  },
  {
   "source": [
    "## 讀取資料"
   ],
   "cell_type": "markdown",
   "metadata": {}
  },
  {
   "cell_type": "code",
   "execution_count": 2,
   "metadata": {},
   "outputs": [
    {
     "output_type": "execute_result",
     "data": {
      "text/plain": [
       "              顏色       單價       成本   系列     產品                 訂單時間  \\\n",
       "0            NaN  643.195  394.800  系列4  產品4-1  2016-01-01T03:19:35   \n",
       "1            NaN  391.510  225.365  系列4  產品4-2  2016-01-01T03:19:35   \n",
       "2  watermelonred  713.930  416.185  系列4  產品4-3  2016-01-01T03:19:35   \n",
       "3            NaN  557.655  337.225  系列4  產品4-4  2016-01-01T03:19:35   \n",
       "4          white  628.390  366.835  系列4  產品4-3  2016-01-01T03:19:35   \n",
       "\n",
       "            會員      性別    年紀     廣告代號all 尺寸    訂單編號  \n",
       "0  B_GSJ_06674  FEMALE  32.0  廣告_YND_pid  無  201714  \n",
       "1  B_GSJ_06674  FEMALE  32.0  廣告_YND_pid  無  201714  \n",
       "2  B_GSJ_06674  FEMALE  32.0  廣告_YND_pid  S  201714  \n",
       "3  B_GSJ_06674  FEMALE  32.0  廣告_YND_pid  無  201714  \n",
       "4  B_GSJ_06674  FEMALE  32.0  廣告_YND_pid  S  201714  "
      ],
      "text/html": "<div>\n<style scoped>\n    .dataframe tbody tr th:only-of-type {\n        vertical-align: middle;\n    }\n\n    .dataframe tbody tr th {\n        vertical-align: top;\n    }\n\n    .dataframe thead th {\n        text-align: right;\n    }\n</style>\n<table border=\"1\" class=\"dataframe\">\n  <thead>\n    <tr style=\"text-align: right;\">\n      <th></th>\n      <th>顏色</th>\n      <th>單價</th>\n      <th>成本</th>\n      <th>系列</th>\n      <th>產品</th>\n      <th>訂單時間</th>\n      <th>會員</th>\n      <th>性別</th>\n      <th>年紀</th>\n      <th>廣告代號all</th>\n      <th>尺寸</th>\n      <th>訂單編號</th>\n    </tr>\n  </thead>\n  <tbody>\n    <tr>\n      <th>0</th>\n      <td>NaN</td>\n      <td>643.195</td>\n      <td>394.800</td>\n      <td>系列4</td>\n      <td>產品4-1</td>\n      <td>2016-01-01T03:19:35</td>\n      <td>B_GSJ_06674</td>\n      <td>FEMALE</td>\n      <td>32.0</td>\n      <td>廣告_YND_pid</td>\n      <td>無</td>\n      <td>201714</td>\n    </tr>\n    <tr>\n      <th>1</th>\n      <td>NaN</td>\n      <td>391.510</td>\n      <td>225.365</td>\n      <td>系列4</td>\n      <td>產品4-2</td>\n      <td>2016-01-01T03:19:35</td>\n      <td>B_GSJ_06674</td>\n      <td>FEMALE</td>\n      <td>32.0</td>\n      <td>廣告_YND_pid</td>\n      <td>無</td>\n      <td>201714</td>\n    </tr>\n    <tr>\n      <th>2</th>\n      <td>watermelonred</td>\n      <td>713.930</td>\n      <td>416.185</td>\n      <td>系列4</td>\n      <td>產品4-3</td>\n      <td>2016-01-01T03:19:35</td>\n      <td>B_GSJ_06674</td>\n      <td>FEMALE</td>\n      <td>32.0</td>\n      <td>廣告_YND_pid</td>\n      <td>S</td>\n      <td>201714</td>\n    </tr>\n    <tr>\n      <th>3</th>\n      <td>NaN</td>\n      <td>557.655</td>\n      <td>337.225</td>\n      <td>系列4</td>\n      <td>產品4-4</td>\n      <td>2016-01-01T03:19:35</td>\n      <td>B_GSJ_06674</td>\n      <td>FEMALE</td>\n      <td>32.0</td>\n      <td>廣告_YND_pid</td>\n      <td>無</td>\n      <td>201714</td>\n    </tr>\n    <tr>\n      <th>4</th>\n      <td>white</td>\n      <td>628.390</td>\n      <td>366.835</td>\n      <td>系列4</td>\n      <td>產品4-3</td>\n      <td>2016-01-01T03:19:35</td>\n      <td>B_GSJ_06674</td>\n      <td>FEMALE</td>\n      <td>32.0</td>\n      <td>廣告_YND_pid</td>\n      <td>S</td>\n      <td>201714</td>\n    </tr>\n  </tbody>\n</table>\n</div>"
     },
     "metadata": {},
     "execution_count": 2
    }
   ],
   "source": [
    "sales_data = pd.read_csv('電商交易資料.csv', encoding='utf-8-sig')\n",
    "sales_data.head()"
   ]
  },
  {
   "source": [
    "### 只保留廣告代號的系列，去掉細項"
   ],
   "cell_type": "markdown",
   "metadata": {}
  },
  {
   "cell_type": "code",
   "execution_count": 3,
   "metadata": {},
   "outputs": [
    {
     "output_type": "execute_result",
     "data": {
      "text/plain": [
       "              顏色       單價       成本   系列     產品                 訂單時間  \\\n",
       "0            NaN  643.195  394.800  系列4  產品4-1  2016-01-01T03:19:35   \n",
       "1            NaN  391.510  225.365  系列4  產品4-2  2016-01-01T03:19:35   \n",
       "2  watermelonred  713.930  416.185  系列4  產品4-3  2016-01-01T03:19:35   \n",
       "3            NaN  557.655  337.225  系列4  產品4-4  2016-01-01T03:19:35   \n",
       "4          white  628.390  366.835  系列4  產品4-3  2016-01-01T03:19:35   \n",
       "\n",
       "            會員      性別    年紀 廣告代號all 尺寸    訂單編號  \n",
       "0  B_GSJ_06674  FEMALE  32.0     YND  無  201714  \n",
       "1  B_GSJ_06674  FEMALE  32.0     YND  無  201714  \n",
       "2  B_GSJ_06674  FEMALE  32.0     YND  S  201714  \n",
       "3  B_GSJ_06674  FEMALE  32.0     YND  無  201714  \n",
       "4  B_GSJ_06674  FEMALE  32.0     YND  S  201714  "
      ],
      "text/html": "<div>\n<style scoped>\n    .dataframe tbody tr th:only-of-type {\n        vertical-align: middle;\n    }\n\n    .dataframe tbody tr th {\n        vertical-align: top;\n    }\n\n    .dataframe thead th {\n        text-align: right;\n    }\n</style>\n<table border=\"1\" class=\"dataframe\">\n  <thead>\n    <tr style=\"text-align: right;\">\n      <th></th>\n      <th>顏色</th>\n      <th>單價</th>\n      <th>成本</th>\n      <th>系列</th>\n      <th>產品</th>\n      <th>訂單時間</th>\n      <th>會員</th>\n      <th>性別</th>\n      <th>年紀</th>\n      <th>廣告代號all</th>\n      <th>尺寸</th>\n      <th>訂單編號</th>\n    </tr>\n  </thead>\n  <tbody>\n    <tr>\n      <th>0</th>\n      <td>NaN</td>\n      <td>643.195</td>\n      <td>394.800</td>\n      <td>系列4</td>\n      <td>產品4-1</td>\n      <td>2016-01-01T03:19:35</td>\n      <td>B_GSJ_06674</td>\n      <td>FEMALE</td>\n      <td>32.0</td>\n      <td>YND</td>\n      <td>無</td>\n      <td>201714</td>\n    </tr>\n    <tr>\n      <th>1</th>\n      <td>NaN</td>\n      <td>391.510</td>\n      <td>225.365</td>\n      <td>系列4</td>\n      <td>產品4-2</td>\n      <td>2016-01-01T03:19:35</td>\n      <td>B_GSJ_06674</td>\n      <td>FEMALE</td>\n      <td>32.0</td>\n      <td>YND</td>\n      <td>無</td>\n      <td>201714</td>\n    </tr>\n    <tr>\n      <th>2</th>\n      <td>watermelonred</td>\n      <td>713.930</td>\n      <td>416.185</td>\n      <td>系列4</td>\n      <td>產品4-3</td>\n      <td>2016-01-01T03:19:35</td>\n      <td>B_GSJ_06674</td>\n      <td>FEMALE</td>\n      <td>32.0</td>\n      <td>YND</td>\n      <td>S</td>\n      <td>201714</td>\n    </tr>\n    <tr>\n      <th>3</th>\n      <td>NaN</td>\n      <td>557.655</td>\n      <td>337.225</td>\n      <td>系列4</td>\n      <td>產品4-4</td>\n      <td>2016-01-01T03:19:35</td>\n      <td>B_GSJ_06674</td>\n      <td>FEMALE</td>\n      <td>32.0</td>\n      <td>YND</td>\n      <td>無</td>\n      <td>201714</td>\n    </tr>\n    <tr>\n      <th>4</th>\n      <td>white</td>\n      <td>628.390</td>\n      <td>366.835</td>\n      <td>系列4</td>\n      <td>產品4-3</td>\n      <td>2016-01-01T03:19:35</td>\n      <td>B_GSJ_06674</td>\n      <td>FEMALE</td>\n      <td>32.0</td>\n      <td>YND</td>\n      <td>S</td>\n      <td>201714</td>\n    </tr>\n  </tbody>\n</table>\n</div>"
     },
     "metadata": {},
     "execution_count": 3
    }
   ],
   "source": [
    "sales_data['廣告代號all'] = sales_data['廣告代號all'].str.split('_').str.get(1)\n",
    "sales_data.head()"
   ]
  },
  {
   "source": [
    "## 資料處理"
   ],
   "cell_type": "markdown",
   "metadata": {}
  },
  {
   "source": [
    "### 只保留所需欄位"
   ],
   "cell_type": "markdown",
   "metadata": {}
  },
  {
   "cell_type": "code",
   "execution_count": 4,
   "metadata": {},
   "outputs": [
    {
     "output_type": "execute_result",
     "data": {
      "text/plain": [
       "        單價       成本   系列                 訂單時間 廣告代號all\n",
       "0  643.195  394.800  系列4  2016-01-01T03:19:35     YND\n",
       "1  391.510  225.365  系列4  2016-01-01T03:19:35     YND\n",
       "2  713.930  416.185  系列4  2016-01-01T03:19:35     YND\n",
       "3  557.655  337.225  系列4  2016-01-01T03:19:35     YND\n",
       "4  628.390  366.835  系列4  2016-01-01T03:19:35     YND"
      ],
      "text/html": "<div>\n<style scoped>\n    .dataframe tbody tr th:only-of-type {\n        vertical-align: middle;\n    }\n\n    .dataframe tbody tr th {\n        vertical-align: top;\n    }\n\n    .dataframe thead th {\n        text-align: right;\n    }\n</style>\n<table border=\"1\" class=\"dataframe\">\n  <thead>\n    <tr style=\"text-align: right;\">\n      <th></th>\n      <th>單價</th>\n      <th>成本</th>\n      <th>系列</th>\n      <th>訂單時間</th>\n      <th>廣告代號all</th>\n    </tr>\n  </thead>\n  <tbody>\n    <tr>\n      <th>0</th>\n      <td>643.195</td>\n      <td>394.800</td>\n      <td>系列4</td>\n      <td>2016-01-01T03:19:35</td>\n      <td>YND</td>\n    </tr>\n    <tr>\n      <th>1</th>\n      <td>391.510</td>\n      <td>225.365</td>\n      <td>系列4</td>\n      <td>2016-01-01T03:19:35</td>\n      <td>YND</td>\n    </tr>\n    <tr>\n      <th>2</th>\n      <td>713.930</td>\n      <td>416.185</td>\n      <td>系列4</td>\n      <td>2016-01-01T03:19:35</td>\n      <td>YND</td>\n    </tr>\n    <tr>\n      <th>3</th>\n      <td>557.655</td>\n      <td>337.225</td>\n      <td>系列4</td>\n      <td>2016-01-01T03:19:35</td>\n      <td>YND</td>\n    </tr>\n    <tr>\n      <th>4</th>\n      <td>628.390</td>\n      <td>366.835</td>\n      <td>系列4</td>\n      <td>2016-01-01T03:19:35</td>\n      <td>YND</td>\n    </tr>\n  </tbody>\n</table>\n</div>"
     },
     "metadata": {},
     "execution_count": 4
    }
   ],
   "source": [
    "sales_data = sales_data[['單價','成本','系列','訂單時間','廣告代號all']]\n",
    "sales_data.head()"
   ]
  },
  {
   "source": [
    "### 時間資料處理，計算利潤"
   ],
   "cell_type": "markdown",
   "metadata": {}
  },
  {
   "cell_type": "code",
   "execution_count": 5,
   "metadata": {},
   "outputs": [
    {
     "output_type": "execute_result",
     "data": {
      "text/plain": [
       "        單價       成本   系列                訂單時間 廣告代號all  訂單時間(年)  訂單時間(月)  \\\n",
       "0  643.195  394.800  系列4 2016-01-01 03:19:35     YND     2016        1   \n",
       "1  391.510  225.365  系列4 2016-01-01 03:19:35     YND     2016        1   \n",
       "2  713.930  416.185  系列4 2016-01-01 03:19:35     YND     2016        1   \n",
       "3  557.655  337.225  系列4 2016-01-01 03:19:35     YND     2016        1   \n",
       "4  628.390  366.835  系列4 2016-01-01 03:19:35     YND     2016        1   \n",
       "\n",
       "        利潤  count  \n",
       "0  248.395      1  \n",
       "1  166.145      1  \n",
       "2  297.745      1  \n",
       "3  220.430      1  \n",
       "4  261.555      1  "
      ],
      "text/html": "<div>\n<style scoped>\n    .dataframe tbody tr th:only-of-type {\n        vertical-align: middle;\n    }\n\n    .dataframe tbody tr th {\n        vertical-align: top;\n    }\n\n    .dataframe thead th {\n        text-align: right;\n    }\n</style>\n<table border=\"1\" class=\"dataframe\">\n  <thead>\n    <tr style=\"text-align: right;\">\n      <th></th>\n      <th>單價</th>\n      <th>成本</th>\n      <th>系列</th>\n      <th>訂單時間</th>\n      <th>廣告代號all</th>\n      <th>訂單時間(年)</th>\n      <th>訂單時間(月)</th>\n      <th>利潤</th>\n      <th>count</th>\n    </tr>\n  </thead>\n  <tbody>\n    <tr>\n      <th>0</th>\n      <td>643.195</td>\n      <td>394.800</td>\n      <td>系列4</td>\n      <td>2016-01-01 03:19:35</td>\n      <td>YND</td>\n      <td>2016</td>\n      <td>1</td>\n      <td>248.395</td>\n      <td>1</td>\n    </tr>\n    <tr>\n      <th>1</th>\n      <td>391.510</td>\n      <td>225.365</td>\n      <td>系列4</td>\n      <td>2016-01-01 03:19:35</td>\n      <td>YND</td>\n      <td>2016</td>\n      <td>1</td>\n      <td>166.145</td>\n      <td>1</td>\n    </tr>\n    <tr>\n      <th>2</th>\n      <td>713.930</td>\n      <td>416.185</td>\n      <td>系列4</td>\n      <td>2016-01-01 03:19:35</td>\n      <td>YND</td>\n      <td>2016</td>\n      <td>1</td>\n      <td>297.745</td>\n      <td>1</td>\n    </tr>\n    <tr>\n      <th>3</th>\n      <td>557.655</td>\n      <td>337.225</td>\n      <td>系列4</td>\n      <td>2016-01-01 03:19:35</td>\n      <td>YND</td>\n      <td>2016</td>\n      <td>1</td>\n      <td>220.430</td>\n      <td>1</td>\n    </tr>\n    <tr>\n      <th>4</th>\n      <td>628.390</td>\n      <td>366.835</td>\n      <td>系列4</td>\n      <td>2016-01-01 03:19:35</td>\n      <td>YND</td>\n      <td>2016</td>\n      <td>1</td>\n      <td>261.555</td>\n      <td>1</td>\n    </tr>\n  </tbody>\n</table>\n</div>"
     },
     "metadata": {},
     "execution_count": 5
    }
   ],
   "source": [
    "sales_data['訂單時間'] = pd.to_datetime(sales_data['訂單時間'])\n",
    "sales_data['訂單時間(年)'] = sales_data['訂單時間'].dt.year\n",
    "sales_data['訂單時間(月)'] = sales_data['訂單時間'].dt.month\n",
    "sales_data['利潤'] = sales_data['單價'] - sales_data['成本']\n",
    "sales_data['count'] = 1\n",
    "sales_data.head()"
   ]
  },
  {
   "source": [
    "## 資料篩選"
   ],
   "cell_type": "markdown",
   "metadata": {}
  },
  {
   "source": [
    "### 篩選系列、年份"
   ],
   "cell_type": "markdown",
   "metadata": {}
  },
  {
   "cell_type": "code",
   "execution_count": 6,
   "metadata": {},
   "outputs": [
    {
     "output_type": "execute_result",
     "data": {
      "text/plain": [
       "            單價       成本   系列                訂單時間 廣告代號all  訂單時間(年)  訂單時間(月)  \\\n",
       "5315   985.355  488.565  系列4 2017-01-01 03:56:43  critei     2017        1   \n",
       "5316   985.355  498.435  系列4 2017-01-01 03:56:43  critei     2017        1   \n",
       "5317  1464.050  794.535  系列4 2017-01-01 13:02:57   KDPOD     2017        1   \n",
       "5318  1135.050  685.965  系列4 2017-01-01 13:02:57   KDPOD     2017        1   \n",
       "5319   409.605  199.045  系列4 2017-01-01 14:54:39    自然流量     2017        1   \n",
       "\n",
       "           利潤  count  \n",
       "5315  496.790      1  \n",
       "5316  486.920      1  \n",
       "5317  669.515      1  \n",
       "5318  449.085      1  \n",
       "5319  210.560      1  "
      ],
      "text/html": "<div>\n<style scoped>\n    .dataframe tbody tr th:only-of-type {\n        vertical-align: middle;\n    }\n\n    .dataframe tbody tr th {\n        vertical-align: top;\n    }\n\n    .dataframe thead th {\n        text-align: right;\n    }\n</style>\n<table border=\"1\" class=\"dataframe\">\n  <thead>\n    <tr style=\"text-align: right;\">\n      <th></th>\n      <th>單價</th>\n      <th>成本</th>\n      <th>系列</th>\n      <th>訂單時間</th>\n      <th>廣告代號all</th>\n      <th>訂單時間(年)</th>\n      <th>訂單時間(月)</th>\n      <th>利潤</th>\n      <th>count</th>\n    </tr>\n  </thead>\n  <tbody>\n    <tr>\n      <th>5315</th>\n      <td>985.355</td>\n      <td>488.565</td>\n      <td>系列4</td>\n      <td>2017-01-01 03:56:43</td>\n      <td>critei</td>\n      <td>2017</td>\n      <td>1</td>\n      <td>496.790</td>\n      <td>1</td>\n    </tr>\n    <tr>\n      <th>5316</th>\n      <td>985.355</td>\n      <td>498.435</td>\n      <td>系列4</td>\n      <td>2017-01-01 03:56:43</td>\n      <td>critei</td>\n      <td>2017</td>\n      <td>1</td>\n      <td>486.920</td>\n      <td>1</td>\n    </tr>\n    <tr>\n      <th>5317</th>\n      <td>1464.050</td>\n      <td>794.535</td>\n      <td>系列4</td>\n      <td>2017-01-01 13:02:57</td>\n      <td>KDPOD</td>\n      <td>2017</td>\n      <td>1</td>\n      <td>669.515</td>\n      <td>1</td>\n    </tr>\n    <tr>\n      <th>5318</th>\n      <td>1135.050</td>\n      <td>685.965</td>\n      <td>系列4</td>\n      <td>2017-01-01 13:02:57</td>\n      <td>KDPOD</td>\n      <td>2017</td>\n      <td>1</td>\n      <td>449.085</td>\n      <td>1</td>\n    </tr>\n    <tr>\n      <th>5319</th>\n      <td>409.605</td>\n      <td>199.045</td>\n      <td>系列4</td>\n      <td>2017-01-01 14:54:39</td>\n      <td>自然流量</td>\n      <td>2017</td>\n      <td>1</td>\n      <td>210.560</td>\n      <td>1</td>\n    </tr>\n  </tbody>\n</table>\n</div>"
     },
     "metadata": {},
     "execution_count": 6
    }
   ],
   "source": [
    "# 篩選系列\n",
    "series_data = sales_data[sales_data['系列'] == '系列4']\n",
    "# 篩選年份\n",
    "series_data = series_data[series_data['訂單時間(年)'] == 2017]\n",
    "\n",
    "series_data.head()"
   ]
  },
  {
   "source": [
    "### 計算不同月份下的利潤"
   ],
   "cell_type": "markdown",
   "metadata": {}
  },
  {
   "cell_type": "code",
   "execution_count": 7,
   "metadata": {},
   "outputs": [
    {
     "output_type": "execute_result",
     "data": {
      "text/plain": [
       "   訂單時間(月)          利潤  count        平均利潤\n",
       "0        1  159841.360    375  426.243627\n",
       "1        2   59678.955    158  377.714905\n",
       "2        3  135516.745    353  383.900127\n",
       "3        4  207288.095    521  397.865825\n",
       "4        5  351893.465    923  381.249691"
      ],
      "text/html": "<div>\n<style scoped>\n    .dataframe tbody tr th:only-of-type {\n        vertical-align: middle;\n    }\n\n    .dataframe tbody tr th {\n        vertical-align: top;\n    }\n\n    .dataframe thead th {\n        text-align: right;\n    }\n</style>\n<table border=\"1\" class=\"dataframe\">\n  <thead>\n    <tr style=\"text-align: right;\">\n      <th></th>\n      <th>訂單時間(月)</th>\n      <th>利潤</th>\n      <th>count</th>\n      <th>平均利潤</th>\n    </tr>\n  </thead>\n  <tbody>\n    <tr>\n      <th>0</th>\n      <td>1</td>\n      <td>159841.360</td>\n      <td>375</td>\n      <td>426.243627</td>\n    </tr>\n    <tr>\n      <th>1</th>\n      <td>2</td>\n      <td>59678.955</td>\n      <td>158</td>\n      <td>377.714905</td>\n    </tr>\n    <tr>\n      <th>2</th>\n      <td>3</td>\n      <td>135516.745</td>\n      <td>353</td>\n      <td>383.900127</td>\n    </tr>\n    <tr>\n      <th>3</th>\n      <td>4</td>\n      <td>207288.095</td>\n      <td>521</td>\n      <td>397.865825</td>\n    </tr>\n    <tr>\n      <th>4</th>\n      <td>5</td>\n      <td>351893.465</td>\n      <td>923</td>\n      <td>381.249691</td>\n    </tr>\n  </tbody>\n</table>\n</div>"
     },
     "metadata": {},
     "execution_count": 7
    }
   ],
   "source": [
    "ad_avg_profit = series_data.groupby('訂單時間(月)', as_index = False)[['利潤', 'count']].sum()\n",
    "ad_avg_profit['平均利潤'] = ad_avg_profit['利潤'] / ad_avg_profit['count']\n",
    "ad_avg_profit.head()"
   ]
  },
  {
   "source": [
    "## 資料視覺化"
   ],
   "cell_type": "markdown",
   "metadata": {}
  },
  {
   "source": [
    "### 透過for迴圈，製作月份標籤"
   ],
   "cell_type": "markdown",
   "metadata": {}
  },
  {
   "cell_type": "code",
   "execution_count": 8,
   "metadata": {},
   "outputs": [
    {
     "output_type": "stream",
     "name": "stdout",
     "text": [
      "['1月份', '2月份', '3月份', '4月份', '5月份', '6月份', '7月份', '8月份', '9月份', '10月份', '11月份', '12月份']\n"
     ]
    }
   ],
   "source": [
    "hover_month = []\n",
    "for i in range(1,13):\n",
    "    hover_month.append(str(i)+'月份')\n",
    "\n",
    "print(hover_month)"
   ]
  },
  {
   "source": [
    "### 繪圖"
   ],
   "cell_type": "markdown",
   "metadata": {}
  },
  {
   "cell_type": "code",
   "execution_count": 9,
   "metadata": {},
   "outputs": [
    {
     "output_type": "display_data",
     "data": {
      "application/vnd.plotly.v1+json": {
       "config": {
        "plotlyServerURL": "https://plot.ly"
       },
       "data": [
        {
         "line": {
          "width": 2
         },
         "marker": {
          "color": "#669966"
         },
         "mode": "lines+markers",
         "name": "每月平均廣告利潤",
         "showlegend": true,
         "type": "scatter",
         "x": [
          "1月份",
          "2月份",
          "3月份",
          "4月份",
          "5月份",
          "6月份",
          "7月份",
          "8月份",
          "9月份",
          "10月份",
          "11月份",
          "12月份"
         ],
         "y": [
          426.24362666666656,
          377.7149050632913,
          383.9001274787533,
          397.86582533589285,
          381.24969122426904,
          378.0397766749383,
          399.6413821138212,
          372.82026923076927,
          397.78697368421064,
          414.8315189873416,
          414.1013333333332,
          446.3567073170729
         ]
        }
       ],
       "layout": {
        "font": {
         "color": "Black",
         "size": 20
        },
        "height": 900,
        "template": {
         "data": {
          "bar": [
           {
            "error_x": {
             "color": "#2a3f5f"
            },
            "error_y": {
             "color": "#2a3f5f"
            },
            "marker": {
             "line": {
              "color": "#E5ECF6",
              "width": 0.5
             }
            },
            "type": "bar"
           }
          ],
          "barpolar": [
           {
            "marker": {
             "line": {
              "color": "#E5ECF6",
              "width": 0.5
             }
            },
            "type": "barpolar"
           }
          ],
          "carpet": [
           {
            "aaxis": {
             "endlinecolor": "#2a3f5f",
             "gridcolor": "white",
             "linecolor": "white",
             "minorgridcolor": "white",
             "startlinecolor": "#2a3f5f"
            },
            "baxis": {
             "endlinecolor": "#2a3f5f",
             "gridcolor": "white",
             "linecolor": "white",
             "minorgridcolor": "white",
             "startlinecolor": "#2a3f5f"
            },
            "type": "carpet"
           }
          ],
          "choropleth": [
           {
            "colorbar": {
             "outlinewidth": 0,
             "ticks": ""
            },
            "type": "choropleth"
           }
          ],
          "contour": [
           {
            "colorbar": {
             "outlinewidth": 0,
             "ticks": ""
            },
            "colorscale": [
             [
              0,
              "#0d0887"
             ],
             [
              0.1111111111111111,
              "#46039f"
             ],
             [
              0.2222222222222222,
              "#7201a8"
             ],
             [
              0.3333333333333333,
              "#9c179e"
             ],
             [
              0.4444444444444444,
              "#bd3786"
             ],
             [
              0.5555555555555556,
              "#d8576b"
             ],
             [
              0.6666666666666666,
              "#ed7953"
             ],
             [
              0.7777777777777778,
              "#fb9f3a"
             ],
             [
              0.8888888888888888,
              "#fdca26"
             ],
             [
              1,
              "#f0f921"
             ]
            ],
            "type": "contour"
           }
          ],
          "contourcarpet": [
           {
            "colorbar": {
             "outlinewidth": 0,
             "ticks": ""
            },
            "type": "contourcarpet"
           }
          ],
          "heatmap": [
           {
            "colorbar": {
             "outlinewidth": 0,
             "ticks": ""
            },
            "colorscale": [
             [
              0,
              "#0d0887"
             ],
             [
              0.1111111111111111,
              "#46039f"
             ],
             [
              0.2222222222222222,
              "#7201a8"
             ],
             [
              0.3333333333333333,
              "#9c179e"
             ],
             [
              0.4444444444444444,
              "#bd3786"
             ],
             [
              0.5555555555555556,
              "#d8576b"
             ],
             [
              0.6666666666666666,
              "#ed7953"
             ],
             [
              0.7777777777777778,
              "#fb9f3a"
             ],
             [
              0.8888888888888888,
              "#fdca26"
             ],
             [
              1,
              "#f0f921"
             ]
            ],
            "type": "heatmap"
           }
          ],
          "heatmapgl": [
           {
            "colorbar": {
             "outlinewidth": 0,
             "ticks": ""
            },
            "colorscale": [
             [
              0,
              "#0d0887"
             ],
             [
              0.1111111111111111,
              "#46039f"
             ],
             [
              0.2222222222222222,
              "#7201a8"
             ],
             [
              0.3333333333333333,
              "#9c179e"
             ],
             [
              0.4444444444444444,
              "#bd3786"
             ],
             [
              0.5555555555555556,
              "#d8576b"
             ],
             [
              0.6666666666666666,
              "#ed7953"
             ],
             [
              0.7777777777777778,
              "#fb9f3a"
             ],
             [
              0.8888888888888888,
              "#fdca26"
             ],
             [
              1,
              "#f0f921"
             ]
            ],
            "type": "heatmapgl"
           }
          ],
          "histogram": [
           {
            "marker": {
             "colorbar": {
              "outlinewidth": 0,
              "ticks": ""
             }
            },
            "type": "histogram"
           }
          ],
          "histogram2d": [
           {
            "colorbar": {
             "outlinewidth": 0,
             "ticks": ""
            },
            "colorscale": [
             [
              0,
              "#0d0887"
             ],
             [
              0.1111111111111111,
              "#46039f"
             ],
             [
              0.2222222222222222,
              "#7201a8"
             ],
             [
              0.3333333333333333,
              "#9c179e"
             ],
             [
              0.4444444444444444,
              "#bd3786"
             ],
             [
              0.5555555555555556,
              "#d8576b"
             ],
             [
              0.6666666666666666,
              "#ed7953"
             ],
             [
              0.7777777777777778,
              "#fb9f3a"
             ],
             [
              0.8888888888888888,
              "#fdca26"
             ],
             [
              1,
              "#f0f921"
             ]
            ],
            "type": "histogram2d"
           }
          ],
          "histogram2dcontour": [
           {
            "colorbar": {
             "outlinewidth": 0,
             "ticks": ""
            },
            "colorscale": [
             [
              0,
              "#0d0887"
             ],
             [
              0.1111111111111111,
              "#46039f"
             ],
             [
              0.2222222222222222,
              "#7201a8"
             ],
             [
              0.3333333333333333,
              "#9c179e"
             ],
             [
              0.4444444444444444,
              "#bd3786"
             ],
             [
              0.5555555555555556,
              "#d8576b"
             ],
             [
              0.6666666666666666,
              "#ed7953"
             ],
             [
              0.7777777777777778,
              "#fb9f3a"
             ],
             [
              0.8888888888888888,
              "#fdca26"
             ],
             [
              1,
              "#f0f921"
             ]
            ],
            "type": "histogram2dcontour"
           }
          ],
          "mesh3d": [
           {
            "colorbar": {
             "outlinewidth": 0,
             "ticks": ""
            },
            "type": "mesh3d"
           }
          ],
          "parcoords": [
           {
            "line": {
             "colorbar": {
              "outlinewidth": 0,
              "ticks": ""
             }
            },
            "type": "parcoords"
           }
          ],
          "pie": [
           {
            "automargin": true,
            "type": "pie"
           }
          ],
          "scatter": [
           {
            "marker": {
             "colorbar": {
              "outlinewidth": 0,
              "ticks": ""
             }
            },
            "type": "scatter"
           }
          ],
          "scatter3d": [
           {
            "line": {
             "colorbar": {
              "outlinewidth": 0,
              "ticks": ""
             }
            },
            "marker": {
             "colorbar": {
              "outlinewidth": 0,
              "ticks": ""
             }
            },
            "type": "scatter3d"
           }
          ],
          "scattercarpet": [
           {
            "marker": {
             "colorbar": {
              "outlinewidth": 0,
              "ticks": ""
             }
            },
            "type": "scattercarpet"
           }
          ],
          "scattergeo": [
           {
            "marker": {
             "colorbar": {
              "outlinewidth": 0,
              "ticks": ""
             }
            },
            "type": "scattergeo"
           }
          ],
          "scattergl": [
           {
            "marker": {
             "colorbar": {
              "outlinewidth": 0,
              "ticks": ""
             }
            },
            "type": "scattergl"
           }
          ],
          "scattermapbox": [
           {
            "marker": {
             "colorbar": {
              "outlinewidth": 0,
              "ticks": ""
             }
            },
            "type": "scattermapbox"
           }
          ],
          "scatterpolar": [
           {
            "marker": {
             "colorbar": {
              "outlinewidth": 0,
              "ticks": ""
             }
            },
            "type": "scatterpolar"
           }
          ],
          "scatterpolargl": [
           {
            "marker": {
             "colorbar": {
              "outlinewidth": 0,
              "ticks": ""
             }
            },
            "type": "scatterpolargl"
           }
          ],
          "scatterternary": [
           {
            "marker": {
             "colorbar": {
              "outlinewidth": 0,
              "ticks": ""
             }
            },
            "type": "scatterternary"
           }
          ],
          "surface": [
           {
            "colorbar": {
             "outlinewidth": 0,
             "ticks": ""
            },
            "colorscale": [
             [
              0,
              "#0d0887"
             ],
             [
              0.1111111111111111,
              "#46039f"
             ],
             [
              0.2222222222222222,
              "#7201a8"
             ],
             [
              0.3333333333333333,
              "#9c179e"
             ],
             [
              0.4444444444444444,
              "#bd3786"
             ],
             [
              0.5555555555555556,
              "#d8576b"
             ],
             [
              0.6666666666666666,
              "#ed7953"
             ],
             [
              0.7777777777777778,
              "#fb9f3a"
             ],
             [
              0.8888888888888888,
              "#fdca26"
             ],
             [
              1,
              "#f0f921"
             ]
            ],
            "type": "surface"
           }
          ],
          "table": [
           {
            "cells": {
             "fill": {
              "color": "#EBF0F8"
             },
             "line": {
              "color": "white"
             }
            },
            "header": {
             "fill": {
              "color": "#C8D4E3"
             },
             "line": {
              "color": "white"
             }
            },
            "type": "table"
           }
          ]
         },
         "layout": {
          "annotationdefaults": {
           "arrowcolor": "#2a3f5f",
           "arrowhead": 0,
           "arrowwidth": 1
          },
          "autotypenumbers": "strict",
          "coloraxis": {
           "colorbar": {
            "outlinewidth": 0,
            "ticks": ""
           }
          },
          "colorscale": {
           "diverging": [
            [
             0,
             "#8e0152"
            ],
            [
             0.1,
             "#c51b7d"
            ],
            [
             0.2,
             "#de77ae"
            ],
            [
             0.3,
             "#f1b6da"
            ],
            [
             0.4,
             "#fde0ef"
            ],
            [
             0.5,
             "#f7f7f7"
            ],
            [
             0.6,
             "#e6f5d0"
            ],
            [
             0.7,
             "#b8e186"
            ],
            [
             0.8,
             "#7fbc41"
            ],
            [
             0.9,
             "#4d9221"
            ],
            [
             1,
             "#276419"
            ]
           ],
           "sequential": [
            [
             0,
             "#0d0887"
            ],
            [
             0.1111111111111111,
             "#46039f"
            ],
            [
             0.2222222222222222,
             "#7201a8"
            ],
            [
             0.3333333333333333,
             "#9c179e"
            ],
            [
             0.4444444444444444,
             "#bd3786"
            ],
            [
             0.5555555555555556,
             "#d8576b"
            ],
            [
             0.6666666666666666,
             "#ed7953"
            ],
            [
             0.7777777777777778,
             "#fb9f3a"
            ],
            [
             0.8888888888888888,
             "#fdca26"
            ],
            [
             1,
             "#f0f921"
            ]
           ],
           "sequentialminus": [
            [
             0,
             "#0d0887"
            ],
            [
             0.1111111111111111,
             "#46039f"
            ],
            [
             0.2222222222222222,
             "#7201a8"
            ],
            [
             0.3333333333333333,
             "#9c179e"
            ],
            [
             0.4444444444444444,
             "#bd3786"
            ],
            [
             0.5555555555555556,
             "#d8576b"
            ],
            [
             0.6666666666666666,
             "#ed7953"
            ],
            [
             0.7777777777777778,
             "#fb9f3a"
            ],
            [
             0.8888888888888888,
             "#fdca26"
            ],
            [
             1,
             "#f0f921"
            ]
           ]
          },
          "colorway": [
           "#636efa",
           "#EF553B",
           "#00cc96",
           "#ab63fa",
           "#FFA15A",
           "#19d3f3",
           "#FF6692",
           "#B6E880",
           "#FF97FF",
           "#FECB52"
          ],
          "font": {
           "color": "#2a3f5f"
          },
          "geo": {
           "bgcolor": "white",
           "lakecolor": "white",
           "landcolor": "#E5ECF6",
           "showlakes": true,
           "showland": true,
           "subunitcolor": "white"
          },
          "hoverlabel": {
           "align": "left"
          },
          "hovermode": "closest",
          "mapbox": {
           "style": "light"
          },
          "paper_bgcolor": "white",
          "plot_bgcolor": "#E5ECF6",
          "polar": {
           "angularaxis": {
            "gridcolor": "white",
            "linecolor": "white",
            "ticks": ""
           },
           "bgcolor": "#E5ECF6",
           "radialaxis": {
            "gridcolor": "white",
            "linecolor": "white",
            "ticks": ""
           }
          },
          "scene": {
           "xaxis": {
            "backgroundcolor": "#E5ECF6",
            "gridcolor": "white",
            "gridwidth": 2,
            "linecolor": "white",
            "showbackground": true,
            "ticks": "",
            "zerolinecolor": "white"
           },
           "yaxis": {
            "backgroundcolor": "#E5ECF6",
            "gridcolor": "white",
            "gridwidth": 2,
            "linecolor": "white",
            "showbackground": true,
            "ticks": "",
            "zerolinecolor": "white"
           },
           "zaxis": {
            "backgroundcolor": "#E5ECF6",
            "gridcolor": "white",
            "gridwidth": 2,
            "linecolor": "white",
            "showbackground": true,
            "ticks": "",
            "zerolinecolor": "white"
           }
          },
          "shapedefaults": {
           "line": {
            "color": "#2a3f5f"
           }
          },
          "ternary": {
           "aaxis": {
            "gridcolor": "white",
            "linecolor": "white",
            "ticks": ""
           },
           "baxis": {
            "gridcolor": "white",
            "linecolor": "white",
            "ticks": ""
           },
           "bgcolor": "#E5ECF6",
           "caxis": {
            "gridcolor": "white",
            "linecolor": "white",
            "ticks": ""
           }
          },
          "title": {
           "x": 0.05
          },
          "xaxis": {
           "automargin": true,
           "gridcolor": "white",
           "linecolor": "white",
           "ticks": "",
           "title": {
            "standoff": 15
           },
           "zerolinecolor": "white",
           "zerolinewidth": 2
          },
          "yaxis": {
           "automargin": true,
           "gridcolor": "white",
           "linecolor": "white",
           "ticks": "",
           "title": {
            "standoff": 15
           },
           "zerolinecolor": "white",
           "zerolinewidth": 2
          }
         }
        },
        "title": {
         "text": "2017年廣告利潤平均",
         "x": 0.5,
         "y": 0.95
        },
        "width": 1800,
        "xaxis": {
         "title": {
          "text": "Month"
         }
        },
        "yaxis": {
         "title": {
          "text": "平均利潤"
         }
        }
       }
      }
     },
     "metadata": {}
    }
   ],
   "source": [
    "# 圖表內容\n",
    "trace = go.Scatter(x= hover_month,\n",
    "    y=ad_avg_profit['平均利潤'],\n",
    "    marker={'color': '#669966'},\n",
    "    mode='lines+markers',line={'width': 2},\n",
    "    name ='每月平均廣告利潤',showlegend=True)\n",
    "# 佈景主題設定\n",
    "layout = go.Layout(title={'text': \"2017年廣告利潤平均\",'y':0.95,'x':0.5},\n",
    "    yaxis_title='平均利潤',\n",
    "    xaxis={'title': 'Month'},\n",
    "    width=1800,\n",
    "    height=900,\n",
    "    font=dict(size=20,\n",
    "        color=\"Black\"))\n",
    "# 產出圖表\n",
    "ad_figure = go.Figure(data = trace, layout = layout)\n",
    "ad_figure.show()"
   ]
  },
  {
   "source": [
    "## 另存為網頁檔以及圖檔"
   ],
   "cell_type": "markdown",
   "metadata": {}
  },
  {
   "cell_type": "code",
   "execution_count": 10,
   "metadata": {},
   "outputs": [
    {
     "output_type": "stream",
     "name": "stderr",
     "text": [
      "C:\\Users\\user\\AppData\\Local\\Programs\\Python\\Python37\\lib\\site-packages\\plotly\\offline\\offline.py:563: UserWarning:\n\nYour filename `CH3-2產出成果_2017年－系列4_總廣告平均利潤圖` didn't end with .html. Adding .html to the end of your file.\n\n"
     ]
    },
    {
     "output_type": "execute_result",
     "data": {
      "text/plain": [
       "'CH3-2產出成果_2017年－系列4_總廣告平均利潤圖.html'"
      ]
     },
     "metadata": {},
     "execution_count": 10
    }
   ],
   "source": [
    "# 圖檔\n",
    "ad_figure.write_image('CH3-2產出成果_2017年－系列4_總廣告平均利潤圖.png')\n",
    "# 網頁檔\n",
    "py.plot(ad_figure, filename='CH3-2產出成果_2017年－系列4_總廣告平均利潤圖', auto_open=True)"
   ]
  },
  {
   "cell_type": "code",
   "execution_count": 11,
   "metadata": {},
   "outputs": [
    {
     "output_type": "execute_result",
     "data": {
      "text/plain": [
       "'CH3-2產出成果_2017年－系列4_總廣告平均利潤圖.html'"
      ]
     },
     "metadata": {},
     "execution_count": 11
    }
   ],
   "source": [
    "# 圖檔\n",
    "py.plot(ad_figure, filename='CH3-2產出成果_2017年－系列4_總廣告平均利潤圖', image=\"png\", image_filename='CH3-2產出成果_2017年－系列4_總廣告平均利潤圖')"
   ]
  },
  {
   "source": [
    "***\n",
    "## `每月廣告效益分析折現圖`"
   ],
   "cell_type": "markdown",
   "metadata": {}
  },
  {
   "source": [
    "### 所有廣告名稱"
   ],
   "cell_type": "markdown",
   "metadata": {}
  },
  {
   "cell_type": "code",
   "execution_count": 12,
   "metadata": {},
   "outputs": [
    {
     "output_type": "execute_result",
     "data": {
      "text/plain": [
       "array(['critei', 'KDPOD', '自然流量', 'B2KMK', 'ikip', 'B2KPOD', 'KDP',\n",
       "       'GINEP', 'edmP', 'edmM', 'B2KP', 'KDPM', 'KDM', 'B2K', 'GINEM',\n",
       "       'qdwit', 'B2KM', 'pic'], dtype=object)"
      ]
     },
     "metadata": {},
     "execution_count": 12
    }
   ],
   "source": [
    "ad_types=series_data['廣告代號all'].unique()\n",
    "ad_profit_df = pd.DataFrame(ad_types, columns=[\"廣告代號\"])\n",
    "ad_types"
   ]
  },
  {
   "source": [
    "### 透過迴圈，計算每月平均廣告利潤"
   ],
   "cell_type": "markdown",
   "metadata": {}
  },
  {
   "cell_type": "code",
   "execution_count": 13,
   "metadata": {},
   "outputs": [
    {
     "output_type": "execute_result",
     "data": {
      "text/plain": [
       "廣告代號      critei       KDPOD        自然流量    B2KMK        ikip    B2KPOD  \\\n",
       "1月份   407.916711  429.984352  418.371646  461.916  531.335000  455.6650   \n",
       "2月份   381.494853  452.210500  373.389297      NaN  340.844000  428.5225   \n",
       "3月份   361.900000  556.010000  411.436546      NaN  318.033333       NaN   \n",
       "4月份   421.995909         NaN  401.152078      NaN  440.695500       NaN   \n",
       "5月份   414.251404         NaN  382.832029      NaN  274.715000       NaN   \n",
       "6月份   448.246981         NaN  379.185556      NaN  410.592000       NaN   \n",
       "7月份   421.120000         NaN  400.233028      NaN  323.305769       NaN   \n",
       "8月份   346.634400         NaN  383.936146      NaN  394.800000       NaN   \n",
       "9月份   414.927059         NaN  386.898607      NaN  484.726667       NaN   \n",
       "10月份  381.875000         NaN  413.738590      NaN         NaN       NaN   \n",
       "11月份  386.575000         NaN  405.788600      NaN  254.975000       NaN   \n",
       "12月份  489.935833         NaN  449.608409      NaN         NaN       NaN   \n",
       "\n",
       "廣告代號         KDP       GINEP        edmP        edmM        B2KP        KDPM  \\\n",
       "1月份          NaN         NaN         NaN         NaN         NaN         NaN   \n",
       "2月份   366.835000  347.506250  388.220000  210.560000         NaN         NaN   \n",
       "3月份   367.843812  448.865667  387.763056         NaN  289.520000         NaN   \n",
       "4月份   388.463460  391.016500  349.014167         NaN  338.047500         NaN   \n",
       "5月份   376.803372  364.367500  532.322000  387.671667  687.610000  336.106400   \n",
       "6月份   352.890756  382.005556  336.050000         NaN  414.540000  387.454505   \n",
       "7月份   416.439859  258.813333  291.165000         NaN  448.810833  300.048000   \n",
       "8月份   367.298974  414.540000  356.965000         NaN  526.400000  290.342500   \n",
       "9月份   358.460455  484.726667  602.070000         NaN         NaN         NaN   \n",
       "10月份  467.070333  396.445000  272.521667         NaN  618.520000         NaN   \n",
       "11月份  465.973667         NaN  404.670000         NaN  394.800000         NaN   \n",
       "12月份  395.348333  477.872500         NaN         NaN         NaN         NaN   \n",
       "\n",
       "廣告代號     KDM     B2K   GINEM    qdwit     B2KM      pic  \n",
       "1月份      NaN     NaN     NaN      NaN      NaN      NaN  \n",
       "2月份      NaN     NaN     NaN      NaN      NaN      NaN  \n",
       "3月份      NaN     NaN     NaN      NaN      NaN      NaN  \n",
       "4月份      NaN     NaN     NaN      NaN      NaN      NaN  \n",
       "5月份   200.69     NaN     NaN      NaN      NaN      NaN  \n",
       "6月份      NaN  608.65  157.92      NaN      NaN      NaN  \n",
       "7月份      NaN     NaN     NaN  679.385      NaN      NaN  \n",
       "8月份      NaN     NaN     NaN      NaN      NaN      NaN  \n",
       "9月份      NaN     NaN     NaN      NaN  185.885      NaN  \n",
       "10月份     NaN     NaN     NaN      NaN      NaN  396.445  \n",
       "11月份     NaN     NaN     NaN      NaN      NaN      NaN  \n",
       "12月份     NaN     NaN     NaN      NaN      NaN      NaN  "
      ],
      "text/html": "<div>\n<style scoped>\n    .dataframe tbody tr th:only-of-type {\n        vertical-align: middle;\n    }\n\n    .dataframe tbody tr th {\n        vertical-align: top;\n    }\n\n    .dataframe thead th {\n        text-align: right;\n    }\n</style>\n<table border=\"1\" class=\"dataframe\">\n  <thead>\n    <tr style=\"text-align: right;\">\n      <th>廣告代號</th>\n      <th>critei</th>\n      <th>KDPOD</th>\n      <th>自然流量</th>\n      <th>B2KMK</th>\n      <th>ikip</th>\n      <th>B2KPOD</th>\n      <th>KDP</th>\n      <th>GINEP</th>\n      <th>edmP</th>\n      <th>edmM</th>\n      <th>B2KP</th>\n      <th>KDPM</th>\n      <th>KDM</th>\n      <th>B2K</th>\n      <th>GINEM</th>\n      <th>qdwit</th>\n      <th>B2KM</th>\n      <th>pic</th>\n    </tr>\n  </thead>\n  <tbody>\n    <tr>\n      <th>1月份</th>\n      <td>407.916711</td>\n      <td>429.984352</td>\n      <td>418.371646</td>\n      <td>461.916</td>\n      <td>531.335000</td>\n      <td>455.6650</td>\n      <td>NaN</td>\n      <td>NaN</td>\n      <td>NaN</td>\n      <td>NaN</td>\n      <td>NaN</td>\n      <td>NaN</td>\n      <td>NaN</td>\n      <td>NaN</td>\n      <td>NaN</td>\n      <td>NaN</td>\n      <td>NaN</td>\n      <td>NaN</td>\n    </tr>\n    <tr>\n      <th>2月份</th>\n      <td>381.494853</td>\n      <td>452.210500</td>\n      <td>373.389297</td>\n      <td>NaN</td>\n      <td>340.844000</td>\n      <td>428.5225</td>\n      <td>366.835000</td>\n      <td>347.506250</td>\n      <td>388.220000</td>\n      <td>210.560000</td>\n      <td>NaN</td>\n      <td>NaN</td>\n      <td>NaN</td>\n      <td>NaN</td>\n      <td>NaN</td>\n      <td>NaN</td>\n      <td>NaN</td>\n      <td>NaN</td>\n    </tr>\n    <tr>\n      <th>3月份</th>\n      <td>361.900000</td>\n      <td>556.010000</td>\n      <td>411.436546</td>\n      <td>NaN</td>\n      <td>318.033333</td>\n      <td>NaN</td>\n      <td>367.843812</td>\n      <td>448.865667</td>\n      <td>387.763056</td>\n      <td>NaN</td>\n      <td>289.520000</td>\n      <td>NaN</td>\n      <td>NaN</td>\n      <td>NaN</td>\n      <td>NaN</td>\n      <td>NaN</td>\n      <td>NaN</td>\n      <td>NaN</td>\n    </tr>\n    <tr>\n      <th>4月份</th>\n      <td>421.995909</td>\n      <td>NaN</td>\n      <td>401.152078</td>\n      <td>NaN</td>\n      <td>440.695500</td>\n      <td>NaN</td>\n      <td>388.463460</td>\n      <td>391.016500</td>\n      <td>349.014167</td>\n      <td>NaN</td>\n      <td>338.047500</td>\n      <td>NaN</td>\n      <td>NaN</td>\n      <td>NaN</td>\n      <td>NaN</td>\n      <td>NaN</td>\n      <td>NaN</td>\n      <td>NaN</td>\n    </tr>\n    <tr>\n      <th>5月份</th>\n      <td>414.251404</td>\n      <td>NaN</td>\n      <td>382.832029</td>\n      <td>NaN</td>\n      <td>274.715000</td>\n      <td>NaN</td>\n      <td>376.803372</td>\n      <td>364.367500</td>\n      <td>532.322000</td>\n      <td>387.671667</td>\n      <td>687.610000</td>\n      <td>336.106400</td>\n      <td>200.69</td>\n      <td>NaN</td>\n      <td>NaN</td>\n      <td>NaN</td>\n      <td>NaN</td>\n      <td>NaN</td>\n    </tr>\n    <tr>\n      <th>6月份</th>\n      <td>448.246981</td>\n      <td>NaN</td>\n      <td>379.185556</td>\n      <td>NaN</td>\n      <td>410.592000</td>\n      <td>NaN</td>\n      <td>352.890756</td>\n      <td>382.005556</td>\n      <td>336.050000</td>\n      <td>NaN</td>\n      <td>414.540000</td>\n      <td>387.454505</td>\n      <td>NaN</td>\n      <td>608.65</td>\n      <td>157.92</td>\n      <td>NaN</td>\n      <td>NaN</td>\n      <td>NaN</td>\n    </tr>\n    <tr>\n      <th>7月份</th>\n      <td>421.120000</td>\n      <td>NaN</td>\n      <td>400.233028</td>\n      <td>NaN</td>\n      <td>323.305769</td>\n      <td>NaN</td>\n      <td>416.439859</td>\n      <td>258.813333</td>\n      <td>291.165000</td>\n      <td>NaN</td>\n      <td>448.810833</td>\n      <td>300.048000</td>\n      <td>NaN</td>\n      <td>NaN</td>\n      <td>NaN</td>\n      <td>679.385</td>\n      <td>NaN</td>\n      <td>NaN</td>\n    </tr>\n    <tr>\n      <th>8月份</th>\n      <td>346.634400</td>\n      <td>NaN</td>\n      <td>383.936146</td>\n      <td>NaN</td>\n      <td>394.800000</td>\n      <td>NaN</td>\n      <td>367.298974</td>\n      <td>414.540000</td>\n      <td>356.965000</td>\n      <td>NaN</td>\n      <td>526.400000</td>\n      <td>290.342500</td>\n      <td>NaN</td>\n      <td>NaN</td>\n      <td>NaN</td>\n      <td>NaN</td>\n      <td>NaN</td>\n      <td>NaN</td>\n    </tr>\n    <tr>\n      <th>9月份</th>\n      <td>414.927059</td>\n      <td>NaN</td>\n      <td>386.898607</td>\n      <td>NaN</td>\n      <td>484.726667</td>\n      <td>NaN</td>\n      <td>358.460455</td>\n      <td>484.726667</td>\n      <td>602.070000</td>\n      <td>NaN</td>\n      <td>NaN</td>\n      <td>NaN</td>\n      <td>NaN</td>\n      <td>NaN</td>\n      <td>NaN</td>\n      <td>NaN</td>\n      <td>185.885</td>\n      <td>NaN</td>\n    </tr>\n    <tr>\n      <th>10月份</th>\n      <td>381.875000</td>\n      <td>NaN</td>\n      <td>413.738590</td>\n      <td>NaN</td>\n      <td>NaN</td>\n      <td>NaN</td>\n      <td>467.070333</td>\n      <td>396.445000</td>\n      <td>272.521667</td>\n      <td>NaN</td>\n      <td>618.520000</td>\n      <td>NaN</td>\n      <td>NaN</td>\n      <td>NaN</td>\n      <td>NaN</td>\n      <td>NaN</td>\n      <td>NaN</td>\n      <td>396.445</td>\n    </tr>\n    <tr>\n      <th>11月份</th>\n      <td>386.575000</td>\n      <td>NaN</td>\n      <td>405.788600</td>\n      <td>NaN</td>\n      <td>254.975000</td>\n      <td>NaN</td>\n      <td>465.973667</td>\n      <td>NaN</td>\n      <td>404.670000</td>\n      <td>NaN</td>\n      <td>394.800000</td>\n      <td>NaN</td>\n      <td>NaN</td>\n      <td>NaN</td>\n      <td>NaN</td>\n      <td>NaN</td>\n      <td>NaN</td>\n      <td>NaN</td>\n    </tr>\n    <tr>\n      <th>12月份</th>\n      <td>489.935833</td>\n      <td>NaN</td>\n      <td>449.608409</td>\n      <td>NaN</td>\n      <td>NaN</td>\n      <td>NaN</td>\n      <td>395.348333</td>\n      <td>477.872500</td>\n      <td>NaN</td>\n      <td>NaN</td>\n      <td>NaN</td>\n      <td>NaN</td>\n      <td>NaN</td>\n      <td>NaN</td>\n      <td>NaN</td>\n      <td>NaN</td>\n      <td>NaN</td>\n      <td>NaN</td>\n    </tr>\n  </tbody>\n</table>\n</div>"
     },
     "metadata": {},
     "execution_count": 13
    }
   ],
   "source": [
    " for month in range(1,13):\n",
    "    # 選擇月份\n",
    "    select_month = series_data[series_data['訂單時間(月)'] == month]\n",
    "    profit = []\n",
    "    # 選擇廣告\n",
    "    for ad in ad_types:\n",
    "        select_ad = select_month[select_month['廣告代號all']== ad]\n",
    "        select_ad = select_ad.groupby('廣告代號all')[['利潤', 'count']].sum()\n",
    "        select_ad['平均利潤'] = select_ad['利潤'] / select_ad['count'] \n",
    "        # 取出平均利潤\n",
    "        if not select_ad.empty:\n",
    "            ad_profit = select_ad['平均利潤'][0]\n",
    "        elif select_ad.empty:\n",
    "            ad_profit= None\n",
    "        profit.append(ad_profit)\n",
    "    month_profit = {\"廣告代號\": ad_types,str(month)+'月份' : profit} #+\"月份\"\n",
    "    month_profit = pd.DataFrame(month_profit)  \n",
    "    ad_profit_df = pd.merge(ad_profit_df, month_profit, on='廣告代號', how='left')\n",
    "\n",
    "# 調整格式\n",
    "ad_profit_df = ad_profit_df.set_index('廣告代號')\n",
    "ad_profit_df = ad_profit_df.T\n",
    "ad_profit_df"
   ]
  },
  {
   "source": [
    "## 篩選高於每年平均的廣告"
   ],
   "cell_type": "markdown",
   "metadata": {}
  },
  {
   "source": [
    "### 計算廣告平均利潤"
   ],
   "cell_type": "markdown",
   "metadata": {}
  },
  {
   "cell_type": "code",
   "execution_count": 14,
   "metadata": {},
   "outputs": [
    {
     "output_type": "execute_result",
     "data": {
      "text/plain": [
       "399.21267809253"
      ]
     },
     "metadata": {},
     "execution_count": 14
    }
   ],
   "source": [
    "ad_year_avg_profit = ad_avg_profit['平均利潤'].mean()\n",
    "ad_year_avg_profit"
   ]
  },
  {
   "source": [
    "### 進行篩選"
   ],
   "cell_type": "markdown",
   "metadata": {}
  },
  {
   "cell_type": "code",
   "execution_count": 15,
   "metadata": {},
   "outputs": [
    {
     "output_type": "stream",
     "name": "stdout",
     "text": [
      "critei_具有分析價值\nKDPOD_具有分析價值\n自然流量_具有分析價值\nB2KMK_具有分析價值\nB2KPOD_具有分析價值\nB2KP_具有分析價值\nB2K_具有分析價值\nqdwit_具有分析價值\n"
     ]
    }
   ],
   "source": [
    "for i in ad_profit_df.columns:\n",
    "    if ad_profit_df[i].mean() > ad_year_avg_profit: \n",
    "        print(i+'_具有分析價值')\n",
    "    elif  ad_profit_df[i].mean() <= ad_year_avg_profit:\n",
    "        ad_profit_df = ad_profit_df.drop(columns = i )"
   ]
  },
  {
   "source": [
    "## 資料視覺化"
   ],
   "cell_type": "markdown",
   "metadata": {}
  },
  {
   "cell_type": "code",
   "execution_count": 16,
   "metadata": {},
   "outputs": [],
   "source": [
    "# 調整資料格式\n",
    "ad_profit_df = ad_profit_df.T\n",
    "\n",
    "# 繪圖色卡\n",
    "colors = ['#990066','#FFCC00','#000033','#663300','#FF6600','#663333','#CC6666','#FF6666','#339900']\n",
    "\n",
    "# 透過迴圈，逐一繪製每個廣告的平均利潤\n",
    "traces = []\n",
    "for i in range(len(ad_profit_df.index)):\n",
    "    pl_y = ad_profit_df.iloc[i,:].tolist()\n",
    "    color = colors[i]\n",
    "    trace = go.Scatter(x=hover_month,y= pl_y,\n",
    "                       marker= {'color': colors[i]},\n",
    "                       mode='lines+markers',line={'width': 2},\n",
    "                       name = ad_profit_df.index[i]+'廣告')\n",
    "    traces.append(trace)"
   ]
  },
  {
   "source": [
    "### 標示每月最適廣告"
   ],
   "cell_type": "markdown",
   "metadata": {}
  },
  {
   "cell_type": "code",
   "execution_count": 17,
   "metadata": {},
   "outputs": [],
   "source": [
    "recommend_ad = [] # 最高利潤廣告名稱\n",
    "recommend_ad_profit = [] # 最高利潤廣告利潤額\n",
    "recommend_ad_list = [] # 前五大利潤廣告\n",
    "\n",
    "for i in ad_profit_df.columns:\n",
    "    ad_profit_df = ad_profit_df.sort_values(i,ascending =False)\n",
    "    recommend_ad.append(ad_profit_df[i].index[0])\n",
    "    recommend_ad_list.append(ad_profit_df[i].index[[0,1,2,3,4]].tolist())\n",
    "    recommend_ad_profit.append(ad_profit_df[i][0])"
   ]
  },
  {
   "cell_type": "code",
   "execution_count": 18,
   "metadata": {},
   "outputs": [],
   "source": [
    "max_point = go.Scatter(x= hover_month,\n",
    "    y=recommend_ad_profit,\n",
    "    marker=dict(size = 20, color='rgba(255,235,205,0.5)',line=dict(color='#666666',width=2)),\n",
    "    hovertext=recommend_ad,\n",
    "    mode='markers',\n",
    "    name = \"每月最適廣告\")\n",
    "\n",
    "traces.append(max_point)"
   ]
  },
  {
   "source": [
    "### 繪製各廣告每月平均利潤"
   ],
   "cell_type": "markdown",
   "metadata": {}
  },
  {
   "cell_type": "code",
   "execution_count": 19,
   "metadata": {},
   "outputs": [
    {
     "output_type": "display_data",
     "data": {
      "application/vnd.plotly.v1+json": {
       "config": {
        "plotlyServerURL": "https://plot.ly"
       },
       "data": [
        {
         "line": {
          "width": 2
         },
         "marker": {
          "color": "#990066"
         },
         "mode": "lines+markers",
         "name": "critei廣告",
         "type": "scatter",
         "x": [
          "1月份",
          "2月份",
          "3月份",
          "4月份",
          "5月份",
          "6月份",
          "7月份",
          "8月份",
          "9月份",
          "10月份",
          "11月份",
          "12月份"
         ],
         "y": [
          407.9167105263156,
          381.49485294117636,
          361.90000000000003,
          421.99590909090904,
          414.251403508772,
          448.2469811320755,
          421.12,
          346.6344,
          414.9270588235293,
          381.87500000000006,
          386.575,
          489.9358333333333
         ]
        },
        {
         "line": {
          "width": 2
         },
         "marker": {
          "color": "#FFCC00"
         },
         "mode": "lines+markers",
         "name": "KDPOD廣告",
         "type": "scatter",
         "x": [
          "1月份",
          "2月份",
          "3月份",
          "4月份",
          "5月份",
          "6月份",
          "7月份",
          "8月份",
          "9月份",
          "10月份",
          "11月份",
          "12月份"
         ],
         "y": [
          429.98435222672043,
          452.21049999999997,
          556.01,
          null,
          null,
          null,
          null,
          null,
          null,
          null,
          null,
          null
         ]
        },
        {
         "line": {
          "width": 2
         },
         "marker": {
          "color": "#000033"
         },
         "mode": "lines+markers",
         "name": "自然流量廣告",
         "type": "scatter",
         "x": [
          "1月份",
          "2月份",
          "3月份",
          "4月份",
          "5月份",
          "6月份",
          "7月份",
          "8月份",
          "9月份",
          "10月份",
          "11月份",
          "12月份"
         ],
         "y": [
          418.37164634146325,
          373.38929687499996,
          411.4365463917524,
          401.1520783132536,
          382.832028985507,
          379.18555555555594,
          400.2330275229358,
          383.93614583333334,
          386.89860655737687,
          413.7385897435898,
          405.78860000000003,
          449.608409090909
         ]
        },
        {
         "line": {
          "width": 2
         },
         "marker": {
          "color": "#663300"
         },
         "mode": "lines+markers",
         "name": "B2KMK廣告",
         "type": "scatter",
         "x": [
          "1月份",
          "2月份",
          "3月份",
          "4月份",
          "5月份",
          "6月份",
          "7月份",
          "8月份",
          "9月份",
          "10月份",
          "11月份",
          "12月份"
         ],
         "y": [
          461.916,
          null,
          null,
          null,
          null,
          null,
          null,
          null,
          null,
          null,
          null,
          null
         ]
        },
        {
         "line": {
          "width": 2
         },
         "marker": {
          "color": "#FF6600"
         },
         "mode": "lines+markers",
         "name": "B2KPOD廣告",
         "type": "scatter",
         "x": [
          "1月份",
          "2月份",
          "3月份",
          "4月份",
          "5月份",
          "6月份",
          "7月份",
          "8月份",
          "9月份",
          "10月份",
          "11月份",
          "12月份"
         ],
         "y": [
          455.66499999999996,
          428.52250000000004,
          null,
          null,
          null,
          null,
          null,
          null,
          null,
          null,
          null,
          null
         ]
        },
        {
         "line": {
          "width": 2
         },
         "marker": {
          "color": "#663333"
         },
         "mode": "lines+markers",
         "name": "B2KP廣告",
         "type": "scatter",
         "x": [
          "1月份",
          "2月份",
          "3月份",
          "4月份",
          "5月份",
          "6月份",
          "7月份",
          "8月份",
          "9月份",
          "10月份",
          "11月份",
          "12月份"
         ],
         "y": [
          null,
          null,
          289.52000000000004,
          338.0475,
          687.6100000000001,
          414.54,
          448.8108333333333,
          526.4000000000001,
          null,
          618.52,
          394.8,
          null
         ]
        },
        {
         "line": {
          "width": 2
         },
         "marker": {
          "color": "#CC6666"
         },
         "mode": "lines+markers",
         "name": "B2K廣告",
         "type": "scatter",
         "x": [
          "1月份",
          "2月份",
          "3月份",
          "4月份",
          "5月份",
          "6月份",
          "7月份",
          "8月份",
          "9月份",
          "10月份",
          "11月份",
          "12月份"
         ],
         "y": [
          null,
          null,
          null,
          null,
          null,
          608.6500000000001,
          null,
          null,
          null,
          null,
          null,
          null
         ]
        },
        {
         "line": {
          "width": 2
         },
         "marker": {
          "color": "#FF6666"
         },
         "mode": "lines+markers",
         "name": "qdwit廣告",
         "type": "scatter",
         "x": [
          "1月份",
          "2月份",
          "3月份",
          "4月份",
          "5月份",
          "6月份",
          "7月份",
          "8月份",
          "9月份",
          "10月份",
          "11月份",
          "12月份"
         ],
         "y": [
          null,
          null,
          null,
          null,
          null,
          null,
          679.385,
          null,
          null,
          null,
          null,
          null
         ]
        },
        {
         "hovertext": [
          "B2KMK",
          "KDPOD",
          "KDPOD",
          "critei",
          "B2KP",
          "B2K",
          "qdwit",
          "B2KP",
          "critei",
          "B2KP",
          "自然流量",
          "critei"
         ],
         "marker": {
          "color": "rgba(255,235,205,0.5)",
          "line": {
           "color": "#666666",
           "width": 2
          },
          "size": 20
         },
         "mode": "markers",
         "name": "每月最適廣告",
         "type": "scatter",
         "x": [
          "1月份",
          "2月份",
          "3月份",
          "4月份",
          "5月份",
          "6月份",
          "7月份",
          "8月份",
          "9月份",
          "10月份",
          "11月份",
          "12月份"
         ],
         "y": [
          461.916,
          452.21049999999997,
          556.01,
          421.99590909090904,
          687.6100000000001,
          608.6500000000001,
          679.385,
          526.4000000000001,
          414.9270588235293,
          618.52,
          405.78860000000003,
          489.9358333333333
         ]
        }
       ],
       "layout": {
        "boxmode": "group",
        "font": {
         "color": "lightslategrey",
         "size": 20
        },
        "height": 900,
        "template": {
         "data": {
          "bar": [
           {
            "error_x": {
             "color": "#2a3f5f"
            },
            "error_y": {
             "color": "#2a3f5f"
            },
            "marker": {
             "line": {
              "color": "#E5ECF6",
              "width": 0.5
             }
            },
            "type": "bar"
           }
          ],
          "barpolar": [
           {
            "marker": {
             "line": {
              "color": "#E5ECF6",
              "width": 0.5
             }
            },
            "type": "barpolar"
           }
          ],
          "carpet": [
           {
            "aaxis": {
             "endlinecolor": "#2a3f5f",
             "gridcolor": "white",
             "linecolor": "white",
             "minorgridcolor": "white",
             "startlinecolor": "#2a3f5f"
            },
            "baxis": {
             "endlinecolor": "#2a3f5f",
             "gridcolor": "white",
             "linecolor": "white",
             "minorgridcolor": "white",
             "startlinecolor": "#2a3f5f"
            },
            "type": "carpet"
           }
          ],
          "choropleth": [
           {
            "colorbar": {
             "outlinewidth": 0,
             "ticks": ""
            },
            "type": "choropleth"
           }
          ],
          "contour": [
           {
            "colorbar": {
             "outlinewidth": 0,
             "ticks": ""
            },
            "colorscale": [
             [
              0,
              "#0d0887"
             ],
             [
              0.1111111111111111,
              "#46039f"
             ],
             [
              0.2222222222222222,
              "#7201a8"
             ],
             [
              0.3333333333333333,
              "#9c179e"
             ],
             [
              0.4444444444444444,
              "#bd3786"
             ],
             [
              0.5555555555555556,
              "#d8576b"
             ],
             [
              0.6666666666666666,
              "#ed7953"
             ],
             [
              0.7777777777777778,
              "#fb9f3a"
             ],
             [
              0.8888888888888888,
              "#fdca26"
             ],
             [
              1,
              "#f0f921"
             ]
            ],
            "type": "contour"
           }
          ],
          "contourcarpet": [
           {
            "colorbar": {
             "outlinewidth": 0,
             "ticks": ""
            },
            "type": "contourcarpet"
           }
          ],
          "heatmap": [
           {
            "colorbar": {
             "outlinewidth": 0,
             "ticks": ""
            },
            "colorscale": [
             [
              0,
              "#0d0887"
             ],
             [
              0.1111111111111111,
              "#46039f"
             ],
             [
              0.2222222222222222,
              "#7201a8"
             ],
             [
              0.3333333333333333,
              "#9c179e"
             ],
             [
              0.4444444444444444,
              "#bd3786"
             ],
             [
              0.5555555555555556,
              "#d8576b"
             ],
             [
              0.6666666666666666,
              "#ed7953"
             ],
             [
              0.7777777777777778,
              "#fb9f3a"
             ],
             [
              0.8888888888888888,
              "#fdca26"
             ],
             [
              1,
              "#f0f921"
             ]
            ],
            "type": "heatmap"
           }
          ],
          "heatmapgl": [
           {
            "colorbar": {
             "outlinewidth": 0,
             "ticks": ""
            },
            "colorscale": [
             [
              0,
              "#0d0887"
             ],
             [
              0.1111111111111111,
              "#46039f"
             ],
             [
              0.2222222222222222,
              "#7201a8"
             ],
             [
              0.3333333333333333,
              "#9c179e"
             ],
             [
              0.4444444444444444,
              "#bd3786"
             ],
             [
              0.5555555555555556,
              "#d8576b"
             ],
             [
              0.6666666666666666,
              "#ed7953"
             ],
             [
              0.7777777777777778,
              "#fb9f3a"
             ],
             [
              0.8888888888888888,
              "#fdca26"
             ],
             [
              1,
              "#f0f921"
             ]
            ],
            "type": "heatmapgl"
           }
          ],
          "histogram": [
           {
            "marker": {
             "colorbar": {
              "outlinewidth": 0,
              "ticks": ""
             }
            },
            "type": "histogram"
           }
          ],
          "histogram2d": [
           {
            "colorbar": {
             "outlinewidth": 0,
             "ticks": ""
            },
            "colorscale": [
             [
              0,
              "#0d0887"
             ],
             [
              0.1111111111111111,
              "#46039f"
             ],
             [
              0.2222222222222222,
              "#7201a8"
             ],
             [
              0.3333333333333333,
              "#9c179e"
             ],
             [
              0.4444444444444444,
              "#bd3786"
             ],
             [
              0.5555555555555556,
              "#d8576b"
             ],
             [
              0.6666666666666666,
              "#ed7953"
             ],
             [
              0.7777777777777778,
              "#fb9f3a"
             ],
             [
              0.8888888888888888,
              "#fdca26"
             ],
             [
              1,
              "#f0f921"
             ]
            ],
            "type": "histogram2d"
           }
          ],
          "histogram2dcontour": [
           {
            "colorbar": {
             "outlinewidth": 0,
             "ticks": ""
            },
            "colorscale": [
             [
              0,
              "#0d0887"
             ],
             [
              0.1111111111111111,
              "#46039f"
             ],
             [
              0.2222222222222222,
              "#7201a8"
             ],
             [
              0.3333333333333333,
              "#9c179e"
             ],
             [
              0.4444444444444444,
              "#bd3786"
             ],
             [
              0.5555555555555556,
              "#d8576b"
             ],
             [
              0.6666666666666666,
              "#ed7953"
             ],
             [
              0.7777777777777778,
              "#fb9f3a"
             ],
             [
              0.8888888888888888,
              "#fdca26"
             ],
             [
              1,
              "#f0f921"
             ]
            ],
            "type": "histogram2dcontour"
           }
          ],
          "mesh3d": [
           {
            "colorbar": {
             "outlinewidth": 0,
             "ticks": ""
            },
            "type": "mesh3d"
           }
          ],
          "parcoords": [
           {
            "line": {
             "colorbar": {
              "outlinewidth": 0,
              "ticks": ""
             }
            },
            "type": "parcoords"
           }
          ],
          "pie": [
           {
            "automargin": true,
            "type": "pie"
           }
          ],
          "scatter": [
           {
            "marker": {
             "colorbar": {
              "outlinewidth": 0,
              "ticks": ""
             }
            },
            "type": "scatter"
           }
          ],
          "scatter3d": [
           {
            "line": {
             "colorbar": {
              "outlinewidth": 0,
              "ticks": ""
             }
            },
            "marker": {
             "colorbar": {
              "outlinewidth": 0,
              "ticks": ""
             }
            },
            "type": "scatter3d"
           }
          ],
          "scattercarpet": [
           {
            "marker": {
             "colorbar": {
              "outlinewidth": 0,
              "ticks": ""
             }
            },
            "type": "scattercarpet"
           }
          ],
          "scattergeo": [
           {
            "marker": {
             "colorbar": {
              "outlinewidth": 0,
              "ticks": ""
             }
            },
            "type": "scattergeo"
           }
          ],
          "scattergl": [
           {
            "marker": {
             "colorbar": {
              "outlinewidth": 0,
              "ticks": ""
             }
            },
            "type": "scattergl"
           }
          ],
          "scattermapbox": [
           {
            "marker": {
             "colorbar": {
              "outlinewidth": 0,
              "ticks": ""
             }
            },
            "type": "scattermapbox"
           }
          ],
          "scatterpolar": [
           {
            "marker": {
             "colorbar": {
              "outlinewidth": 0,
              "ticks": ""
             }
            },
            "type": "scatterpolar"
           }
          ],
          "scatterpolargl": [
           {
            "marker": {
             "colorbar": {
              "outlinewidth": 0,
              "ticks": ""
             }
            },
            "type": "scatterpolargl"
           }
          ],
          "scatterternary": [
           {
            "marker": {
             "colorbar": {
              "outlinewidth": 0,
              "ticks": ""
             }
            },
            "type": "scatterternary"
           }
          ],
          "surface": [
           {
            "colorbar": {
             "outlinewidth": 0,
             "ticks": ""
            },
            "colorscale": [
             [
              0,
              "#0d0887"
             ],
             [
              0.1111111111111111,
              "#46039f"
             ],
             [
              0.2222222222222222,
              "#7201a8"
             ],
             [
              0.3333333333333333,
              "#9c179e"
             ],
             [
              0.4444444444444444,
              "#bd3786"
             ],
             [
              0.5555555555555556,
              "#d8576b"
             ],
             [
              0.6666666666666666,
              "#ed7953"
             ],
             [
              0.7777777777777778,
              "#fb9f3a"
             ],
             [
              0.8888888888888888,
              "#fdca26"
             ],
             [
              1,
              "#f0f921"
             ]
            ],
            "type": "surface"
           }
          ],
          "table": [
           {
            "cells": {
             "fill": {
              "color": "#EBF0F8"
             },
             "line": {
              "color": "white"
             }
            },
            "header": {
             "fill": {
              "color": "#C8D4E3"
             },
             "line": {
              "color": "white"
             }
            },
            "type": "table"
           }
          ]
         },
         "layout": {
          "annotationdefaults": {
           "arrowcolor": "#2a3f5f",
           "arrowhead": 0,
           "arrowwidth": 1
          },
          "autotypenumbers": "strict",
          "coloraxis": {
           "colorbar": {
            "outlinewidth": 0,
            "ticks": ""
           }
          },
          "colorscale": {
           "diverging": [
            [
             0,
             "#8e0152"
            ],
            [
             0.1,
             "#c51b7d"
            ],
            [
             0.2,
             "#de77ae"
            ],
            [
             0.3,
             "#f1b6da"
            ],
            [
             0.4,
             "#fde0ef"
            ],
            [
             0.5,
             "#f7f7f7"
            ],
            [
             0.6,
             "#e6f5d0"
            ],
            [
             0.7,
             "#b8e186"
            ],
            [
             0.8,
             "#7fbc41"
            ],
            [
             0.9,
             "#4d9221"
            ],
            [
             1,
             "#276419"
            ]
           ],
           "sequential": [
            [
             0,
             "#0d0887"
            ],
            [
             0.1111111111111111,
             "#46039f"
            ],
            [
             0.2222222222222222,
             "#7201a8"
            ],
            [
             0.3333333333333333,
             "#9c179e"
            ],
            [
             0.4444444444444444,
             "#bd3786"
            ],
            [
             0.5555555555555556,
             "#d8576b"
            ],
            [
             0.6666666666666666,
             "#ed7953"
            ],
            [
             0.7777777777777778,
             "#fb9f3a"
            ],
            [
             0.8888888888888888,
             "#fdca26"
            ],
            [
             1,
             "#f0f921"
            ]
           ],
           "sequentialminus": [
            [
             0,
             "#0d0887"
            ],
            [
             0.1111111111111111,
             "#46039f"
            ],
            [
             0.2222222222222222,
             "#7201a8"
            ],
            [
             0.3333333333333333,
             "#9c179e"
            ],
            [
             0.4444444444444444,
             "#bd3786"
            ],
            [
             0.5555555555555556,
             "#d8576b"
            ],
            [
             0.6666666666666666,
             "#ed7953"
            ],
            [
             0.7777777777777778,
             "#fb9f3a"
            ],
            [
             0.8888888888888888,
             "#fdca26"
            ],
            [
             1,
             "#f0f921"
            ]
           ]
          },
          "colorway": [
           "#636efa",
           "#EF553B",
           "#00cc96",
           "#ab63fa",
           "#FFA15A",
           "#19d3f3",
           "#FF6692",
           "#B6E880",
           "#FF97FF",
           "#FECB52"
          ],
          "font": {
           "color": "#2a3f5f"
          },
          "geo": {
           "bgcolor": "white",
           "lakecolor": "white",
           "landcolor": "#E5ECF6",
           "showlakes": true,
           "showland": true,
           "subunitcolor": "white"
          },
          "hoverlabel": {
           "align": "left"
          },
          "hovermode": "closest",
          "mapbox": {
           "style": "light"
          },
          "paper_bgcolor": "white",
          "plot_bgcolor": "#E5ECF6",
          "polar": {
           "angularaxis": {
            "gridcolor": "white",
            "linecolor": "white",
            "ticks": ""
           },
           "bgcolor": "#E5ECF6",
           "radialaxis": {
            "gridcolor": "white",
            "linecolor": "white",
            "ticks": ""
           }
          },
          "scene": {
           "xaxis": {
            "backgroundcolor": "#E5ECF6",
            "gridcolor": "white",
            "gridwidth": 2,
            "linecolor": "white",
            "showbackground": true,
            "ticks": "",
            "zerolinecolor": "white"
           },
           "yaxis": {
            "backgroundcolor": "#E5ECF6",
            "gridcolor": "white",
            "gridwidth": 2,
            "linecolor": "white",
            "showbackground": true,
            "ticks": "",
            "zerolinecolor": "white"
           },
           "zaxis": {
            "backgroundcolor": "#E5ECF6",
            "gridcolor": "white",
            "gridwidth": 2,
            "linecolor": "white",
            "showbackground": true,
            "ticks": "",
            "zerolinecolor": "white"
           }
          },
          "shapedefaults": {
           "line": {
            "color": "#2a3f5f"
           }
          },
          "ternary": {
           "aaxis": {
            "gridcolor": "white",
            "linecolor": "white",
            "ticks": ""
           },
           "baxis": {
            "gridcolor": "white",
            "linecolor": "white",
            "ticks": ""
           },
           "bgcolor": "#E5ECF6",
           "caxis": {
            "gridcolor": "white",
            "linecolor": "white",
            "ticks": ""
           }
          },
          "title": {
           "x": 0.05
          },
          "xaxis": {
           "automargin": true,
           "gridcolor": "white",
           "linecolor": "white",
           "ticks": "",
           "title": {
            "standoff": 15
           },
           "zerolinecolor": "white",
           "zerolinewidth": 2
          },
          "yaxis": {
           "automargin": true,
           "gridcolor": "white",
           "linecolor": "white",
           "ticks": "",
           "title": {
            "standoff": 15
           },
           "zerolinecolor": "white",
           "zerolinewidth": 2
          }
         }
        },
        "title": {
         "text": "2017年每月廣告效益分析",
         "x": 0.5,
         "y": 0.95
        },
        "width": 1800,
        "xaxis": {
         "title": {
          "text": "月份"
         }
        },
        "yaxis": {
         "title": {
          "text": "利潤"
         }
        }
       }
      }
     },
     "metadata": {}
    }
   ],
   "source": [
    "# 佈景主題設定\n",
    "layout = go.Layout(title={'text': \"2017年每月廣告效益分析\",'y':0.95,'x':0.5},\n",
    "    yaxis_title='利潤',\n",
    "    xaxis={'title': '月份'},\n",
    "    width=1800,\n",
    "    height=900,\n",
    "    boxmode='group',\n",
    "    font=dict(size=20,color=\"lightslategrey\"))\n",
    "# 產出圖表\n",
    "ad_figure = go.Figure(data = traces, layout = layout)\n",
    "ad_figure.show()"
   ]
  },
  {
   "source": [
    "## 另存為網頁檔以及圖檔"
   ],
   "cell_type": "markdown",
   "metadata": {}
  },
  {
   "cell_type": "code",
   "execution_count": 20,
   "metadata": {},
   "outputs": [
    {
     "output_type": "stream",
     "name": "stderr",
     "text": [
      "C:\\Users\\user\\AppData\\Local\\Programs\\Python\\Python37\\lib\\site-packages\\plotly\\offline\\offline.py:563: UserWarning:\n\nYour filename `CH3-2產出成果_2017年－系列4_每月廣告效益分析圖` didn't end with .html. Adding .html to the end of your file.\n\n"
     ]
    },
    {
     "output_type": "execute_result",
     "data": {
      "text/plain": [
       "'CH3-2產出成果_2017年－系列4_每月廣告效益分析圖.html'"
      ]
     },
     "metadata": {},
     "execution_count": 20
    }
   ],
   "source": [
    "# 圖檔\n",
    "ad_figure.write_image('CH3-2產出成果_2017年－系列4_每月廣告效益分析圖.png')\n",
    "# 網頁檔\n",
    "py.plot(ad_figure, filename='CH3-2產出成果_2017年－系列4_每月廣告效益分析圖', auto_open=True)"
   ]
  },
  {
   "source": [
    "## 另存推薦清單"
   ],
   "cell_type": "markdown",
   "metadata": {}
  },
  {
   "cell_type": "code",
   "execution_count": 21,
   "metadata": {},
   "outputs": [
    {
     "output_type": "execute_result",
     "data": {
      "text/plain": [
       "           0       1       2      3       4\n",
       "1月份    B2KMK  B2KPOD   KDPOD   自然流量  critei\n",
       "2月份    KDPOD  B2KPOD  critei   自然流量   B2KMK\n",
       "3月份    KDPOD    自然流量  critei   B2KP  B2KPOD\n",
       "4月份   critei    自然流量    B2KP  KDPOD  B2KPOD\n",
       "5月份     B2KP  critei    自然流量  KDPOD  B2KPOD\n",
       "6月份      B2K  critei    B2KP   自然流量   KDPOD\n",
       "7月份    qdwit    B2KP  critei   自然流量     B2K\n",
       "8月份     B2KP    自然流量  critei  qdwit     B2K\n",
       "9月份   critei    自然流量    B2KP  qdwit     B2K\n",
       "10月份    B2KP    自然流量  critei  qdwit     B2K\n",
       "11月份    自然流量    B2KP  critei  qdwit     B2K\n",
       "12月份  critei    自然流量    B2KP  qdwit     B2K"
      ],
      "text/html": "<div>\n<style scoped>\n    .dataframe tbody tr th:only-of-type {\n        vertical-align: middle;\n    }\n\n    .dataframe tbody tr th {\n        vertical-align: top;\n    }\n\n    .dataframe thead th {\n        text-align: right;\n    }\n</style>\n<table border=\"1\" class=\"dataframe\">\n  <thead>\n    <tr style=\"text-align: right;\">\n      <th></th>\n      <th>0</th>\n      <th>1</th>\n      <th>2</th>\n      <th>3</th>\n      <th>4</th>\n    </tr>\n  </thead>\n  <tbody>\n    <tr>\n      <th>1月份</th>\n      <td>B2KMK</td>\n      <td>B2KPOD</td>\n      <td>KDPOD</td>\n      <td>自然流量</td>\n      <td>critei</td>\n    </tr>\n    <tr>\n      <th>2月份</th>\n      <td>KDPOD</td>\n      <td>B2KPOD</td>\n      <td>critei</td>\n      <td>自然流量</td>\n      <td>B2KMK</td>\n    </tr>\n    <tr>\n      <th>3月份</th>\n      <td>KDPOD</td>\n      <td>自然流量</td>\n      <td>critei</td>\n      <td>B2KP</td>\n      <td>B2KPOD</td>\n    </tr>\n    <tr>\n      <th>4月份</th>\n      <td>critei</td>\n      <td>自然流量</td>\n      <td>B2KP</td>\n      <td>KDPOD</td>\n      <td>B2KPOD</td>\n    </tr>\n    <tr>\n      <th>5月份</th>\n      <td>B2KP</td>\n      <td>critei</td>\n      <td>自然流量</td>\n      <td>KDPOD</td>\n      <td>B2KPOD</td>\n    </tr>\n    <tr>\n      <th>6月份</th>\n      <td>B2K</td>\n      <td>critei</td>\n      <td>B2KP</td>\n      <td>自然流量</td>\n      <td>KDPOD</td>\n    </tr>\n    <tr>\n      <th>7月份</th>\n      <td>qdwit</td>\n      <td>B2KP</td>\n      <td>critei</td>\n      <td>自然流量</td>\n      <td>B2K</td>\n    </tr>\n    <tr>\n      <th>8月份</th>\n      <td>B2KP</td>\n      <td>自然流量</td>\n      <td>critei</td>\n      <td>qdwit</td>\n      <td>B2K</td>\n    </tr>\n    <tr>\n      <th>9月份</th>\n      <td>critei</td>\n      <td>自然流量</td>\n      <td>B2KP</td>\n      <td>qdwit</td>\n      <td>B2K</td>\n    </tr>\n    <tr>\n      <th>10月份</th>\n      <td>B2KP</td>\n      <td>自然流量</td>\n      <td>critei</td>\n      <td>qdwit</td>\n      <td>B2K</td>\n    </tr>\n    <tr>\n      <th>11月份</th>\n      <td>自然流量</td>\n      <td>B2KP</td>\n      <td>critei</td>\n      <td>qdwit</td>\n      <td>B2K</td>\n    </tr>\n    <tr>\n      <th>12月份</th>\n      <td>critei</td>\n      <td>自然流量</td>\n      <td>B2KP</td>\n      <td>qdwit</td>\n      <td>B2K</td>\n    </tr>\n  </tbody>\n</table>\n</div>"
     },
     "metadata": {},
     "execution_count": 21
    }
   ],
   "source": [
    "recommend_ad_list = pd.DataFrame(recommend_ad_list,index =hover_month)\n",
    "recommend_ad_list.to_csv('CH3-2產出成果_2017年－系列4_各月份推薦廣告名單.csv',encoding = 'utf-8-sig')\n",
    "recommend_ad_list"
   ]
  }
 ]
}