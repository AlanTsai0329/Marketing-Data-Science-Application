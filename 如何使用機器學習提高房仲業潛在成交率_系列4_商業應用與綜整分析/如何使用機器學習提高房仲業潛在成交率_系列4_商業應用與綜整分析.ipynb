{
 "metadata": {
  "language_info": {
   "codemirror_mode": {
    "name": "ipython",
    "version": 3
   },
   "file_extension": ".py",
   "mimetype": "text/x-python",
   "name": "python",
   "nbconvert_exporter": "python",
   "pygments_lexer": "ipython3",
   "version": "3.7.7"
  },
  "orig_nbformat": 2,
  "kernelspec": {
   "name": "python377jvsc74a57bd0e1977659ddea367e51ae7d236f6dca82c64f40282afc6ae3d301bd694bd63df5",
   "display_name": "Python 3.7.7 64-bit"
  },
  "metadata": {
   "interpreter": {
    "hash": "e1977659ddea367e51ae7d236f6dca82c64f40282afc6ae3d301bd694bd63df5"
   }
  }
 },
 "nbformat": 4,
 "nbformat_minor": 2,
 "cells": [
  {
   "source": [
    "# `如何使用機器學習提高房仲業潛在成交率_系列4_商業應用與綜整分析`\n",
    "## 作者：陳政廷、王裕萍、謝豐檍(臺灣行銷研究特邀作者)、鍾皓軒(臺灣行銷研究有限公司創辦人）"
   ],
   "cell_type": "markdown",
   "metadata": {}
  },
  {
   "source": [
    "## 原始資料請見[本連結](https://www.kaggle.com/c/two-sigma-connect-rental-listing-inquiries/data)，下載下來後與本ipynb檔案放於同一個工作目錄中，再執行下方程式即可"
   ],
   "cell_type": "markdown",
   "metadata": {}
  },
  {
   "cell_type": "code",
   "execution_count": 60,
   "metadata": {},
   "outputs": [],
   "source": [
    "import numpy as np\n",
    "import pandas as pd\n",
    "from sklearn import metrics\n",
    "from sklearn.metrics import log_loss\n",
    "from sklearn.model_selection import train_test_split\n",
    "from sklearn.preprocessing import StandardScaler\n",
    "from imblearn.over_sampling import ADASYN\n",
    "from sklearn.metrics import accuracy_score\n",
    "import lightgbm as lgb\n",
    "from sklearn.feature_selection import SelectFromModel\n",
    "from sklearn.ensemble import RandomForestClassifier\n",
    "import xgboost as xgb\n",
    "from imblearn.over_sampling import RandomOverSampler\n",
    "from imblearn.over_sampling import SMOTE\n",
    "from imblearn.over_sampling import ADASYN"
   ]
  },
  {
   "source": [
    "## 系列1_資料前處理"
   ],
   "cell_type": "markdown",
   "metadata": {}
  },
  {
   "cell_type": "code",
   "execution_count": 61,
   "metadata": {},
   "outputs": [],
   "source": [
    "df_train=pd.read_json(open(r\"train.json\"))\n",
    "#系列1_資料前處理\n",
    "df_train[\"num_photos\"]=df_train[\"photos\"].apply(len)\n",
    "df_train[\"num_description_words\"]=df_train[\"description\"].apply(lambda x:len(x.split(\" \"))) #根據空白切割，去算字數\n",
    "def caculate(n_words):\n",
    "    description_test=[]\n",
    "    for i in n_words:\n",
    "        description_test.append(len(i.split(\" \")))\n",
    "    return description_test #效果和上面一樣\n",
    "df_train[\"created\"]=pd.to_datetime(df_train[\"created\"])\n",
    "df_train[\"created_year\"]=df_train[\"created\"].dt.year\n",
    "df_train[\"created_month\"] = df_train[\"created\"].dt.month\n",
    "df_train[\"created_day\"] = df_train[\"created\"].dt.day"
   ]
  },
  {
   "source": [
    "## 系列2_特徵處理：篩選頻率大於100之字詞"
   ],
   "cell_type": "markdown",
   "metadata": {}
  },
  {
   "cell_type": "code",
   "execution_count": 62,
   "metadata": {},
   "outputs": [
    {
     "output_type": "stream",
     "name": "stdout",
     "text": [
      "['Elevator', 'Cats Allowed', 'Hardwood Floors', 'Dogs Allowed', 'Doorman', 'Dishwasher', 'No Fee', 'Laundry in Building', 'Fitness Center', 'Pre-War', 'Laundry in Unit', 'Roof Deck', 'Outdoor Space', 'Dining Room', 'High Speed Internet', 'Balcony', 'Swimming Pool', 'Laundry In Building', 'New Construction', 'Terrace', 'Exclusive', 'Loft', 'Garden/Patio', 'Wheelchair Access', 'Common Outdoor Space', 'HARDWOOD', 'Fireplace', 'SIMPLEX', 'prewar', 'LOWRISE', 'Garage', 'Laundry Room', 'Reduced Fee', 'Laundry In Unit', 'Furnished', 'Multi-Level', 'Private Outdoor Space', 'Prewar', 'PublicOutdoor', 'Parking Space', 'Roof-deck', 'dishwasher', 'High Ceilings', 'elevator', 'Renovated', 'Pool', 'LAUNDRY', 'Green Building', 'HIGH CEILINGS', 'LIVE IN SUPER', 'High Ceiling', 'Washer in Unit', 'Dryer in Unit', 'Storage', 'Stainless Steel Appliances', 'On-site laundry', 'Concierge', 'Newly renovated', 'On-site Laundry', 'Live In Super', 'Hardwood', 'Light', 'On-site Garage', 'Washer/Dryer', 'Granite Kitchen', 'Gym/Fitness', 'Pets on approval', 'Marble Bath', 'Walk in Closet(s)']\n"
     ]
    }
   ],
   "source": [
    "bigdic = {}\n",
    "for i in df_train['features']:\n",
    "    for word in i:\n",
    "        if word not in bigdic:\n",
    "            bigdic[word] = 1\n",
    "        else:\n",
    "            bigdic[word] += 1\n",
    "data = {'word': [*bigdic], 'number': [*bigdic.values()]}   \n",
    "bigdf = pd.DataFrame.from_dict(data).sort_values(by='number', ascending=False)\n",
    "keyword = bigdf[bigdf['number'] > 100]['word'].to_list()\n",
    "print(keyword)\n",
    "#\n",
    "def get_dummy(keyword, alist):\n",
    "    countlist = []\n",
    "    for row in df_train['features']:\n",
    "        if keyword in row:\n",
    "            countlist.append(1)\n",
    "        else:\n",
    "            countlist.append(0)\n",
    "    df_train[keyword] = countlist\n",
    "for word in keyword:\n",
    "    get_dummy(word, df_train['features'])\n",
    "#\n",
    "choose_columns=[\"bathrooms\", \"bedrooms\", \"latitude\", \"longitude\",\"num_photos\",\"price\",'Elevator', 'Cats Allowed', 'Hardwood Floors', 'Dogs Allowed', 'Doorman', 'Dishwasher', 'No Fee', 'Laundry in Building', 'Fitness Center', 'Pre-War', 'Laundry in Unit', 'Roof Deck', 'Outdoor Space', 'Dining Room', 'High Speed Internet', 'Balcony', 'Swimming Pool', 'Laundry In Building', 'New Construction', 'Terrace', 'Exclusive', 'Loft', 'Garden/Patio', 'Wheelchair Access', 'Common Outdoor Space', 'HARDWOOD', 'Fireplace', 'SIMPLEX', 'prewar', 'LOWRISE', 'Garage', 'Laundry Room', 'Reduced Fee', 'Laundry In Unit', 'Furnished', 'Multi-Level', 'Private Outdoor Space', 'Prewar', 'PublicOutdoor', 'Parking Space', 'Roof-deck', 'dishwasher', 'High Ceilings', 'elevator', 'Renovated', 'Pool', 'LAUNDRY', 'Green Building', 'HIGH CEILINGS', 'LIVE IN SUPER', 'High Ceiling', 'Washer in Unit', 'Dryer in Unit', 'Storage', 'Stainless Steel Appliances', 'On-site laundry', 'Concierge', 'Newly renovated', 'On-site Laundry', 'Live In Super', 'Hardwood', 'Light', 'On-site Garage', 'Washer/Dryer', 'Granite Kitchen', 'Gym/Fitness', 'Pets on approval', 'Marble Bath', 'Walk in Closet(s)']"
   ]
  },
  {
   "source": [
    "## LGBM：特徵篩選、標準化、模型訓練"
   ],
   "cell_type": "markdown",
   "metadata": {}
  },
  {
   "cell_type": "code",
   "execution_count": 63,
   "metadata": {},
   "outputs": [
    {
     "output_type": "stream",
     "name": "stdout",
     "text": [
      "('bathrooms', 230)\n('bedrooms', 806)\n('latitude', 1655)\n('longitude', 1456)\n('num_photos', 602)\n('price', 1824)\n('Elevator', 95)\n('Cats Allowed', 69)\n('Hardwood Floors', 103)\n('Dogs Allowed', 63)\n('Doorman', 47)\n('Dishwasher', 79)\n('No Fee', 205)\n('Laundry in Building', 90)\n('Fitness Center', 55)\n('Pre-War', 122)\n('Laundry in Unit', 84)\n('Roof Deck', 30)\n('Outdoor Space', 65)\n('Dining Room', 48)\n('High Speed Internet', 33)\n('Balcony', 63)\n('Swimming Pool', 46)\n('Laundry In Building', 125)\n('New Construction', 34)\n('Terrace', 52)\n('Exclusive', 73)\n('Loft', 36)\n('Garden/Patio', 22)\n('Wheelchair Access', 44)\n('Common Outdoor Space', 27)\n('HARDWOOD', 69)\n('Fireplace', 16)\n('SIMPLEX', 10)\n('prewar', 6)\n('LOWRISE', 3)\n('Garage', 11)\n('Laundry Room', 4)\n('Reduced Fee', 78)\n('Laundry In Unit', 60)\n('Furnished', 114)\n('Multi-Level', 15)\n('Private Outdoor Space', 55)\n('Prewar', 2)\n('PublicOutdoor', 3)\n('Parking Space', 28)\n('Roof-deck', 5)\n('dishwasher', 11)\n('High Ceilings', 16)\n('elevator', 19)\n('Renovated', 13)\n('Pool', 1)\n('LAUNDRY', 3)\n('Green Building', 2)\n('HIGH CEILINGS', 6)\n('LIVE IN SUPER', 6)\n('High Ceiling', 23)\n('Washer in Unit', 18)\n('Dryer in Unit', 0)\n('Storage', 22)\n('Stainless Steel Appliances', 17)\n('On-site laundry', 12)\n('Concierge', 12)\n('Newly renovated', 11)\n('On-site Laundry', 2)\n('Live In Super', 7)\n('Hardwood', 3)\n('Light', 2)\n('On-site Garage', 18)\n('Washer/Dryer', 1)\n('Granite Kitchen', 2)\n('Gym/Fitness', 0)\n('Pets on approval', 7)\n('Marble Bath', 0)\n('Walk in Closet(s)', 4)\nFeatures selected by SelectFromModel: ['bathrooms' 'bedrooms' 'latitude' 'longitude' 'num_photos' 'price'\n 'Elevator' 'Hardwood Floors' 'No Fee' 'Laundry in Building' 'Pre-War'\n 'Laundry in Unit' 'Laundry In Building' 'Furnished']\n"
     ]
    }
   ],
   "source": [
    "#lgb\n",
    "X=df_train[choose_columns]\n",
    "Y=df_train[\"interest_level\"]\n",
    "#\n",
    "lgb = lgb.LGBMClassifier().fit(X,Y)\t\n",
    "for feature in zip(choose_columns, lgb.feature_importances_):\n",
    "    print((feature))\n",
    "\n",
    "selector = SelectFromModel(lgb,prefit = True,threshold=80)\n",
    "print(\"Features selected by SelectFromModel: \"\n",
    "      f\"{np.array(choose_columns)[selector.get_support()]}\")\n",
    "X = X[np.array(choose_columns)[selector.get_support()]]\n",
    "#\n",
    "X_train_lgb, X_test_lgb, Y_train_lgb, Y_test_lgb = train_test_split(X, Y, test_size=0.2, random_state = 0)"
   ]
  },
  {
   "cell_type": "code",
   "execution_count": 64,
   "metadata": {},
   "outputs": [
    {
     "output_type": "stream",
     "name": "stdout",
     "text": [
      "Log loss on trainging_lgb dataset:  0.5303269259011405\nLog loss on testing_lgb dataset:  0.5919384052931106\n"
     ]
    }
   ],
   "source": [
    "regression_col_lgb= [\"bathrooms\", \"bedrooms\", \"latitude\", \"longitude\",\"num_photos\",\"price\"]\n",
    "classification_col_lgb = [ 'Elevator', 'Hardwood Floors', 'No Fee','Pre-War', 'Laundry In Building', 'Furnished']\n",
    "sc_lgb = StandardScaler()\n",
    "X_train_lgb_r = sc_lgb.fit_transform(X_train_lgb[regression_col_lgb])\n",
    "X_test_lgb_r = sc_lgb.transform(X_test_lgb[regression_col_lgb])\n",
    "X_train_lgb_r = pd.DataFrame(X_train_lgb_r).reset_index(drop=True)\n",
    "X_test_lgb_r = pd.DataFrame(X_test_lgb_r).reset_index(drop=True)\n",
    "X_train_lgb_c = X_train_lgb[classification_col_lgb].reset_index(drop=True)\n",
    "X_test_lgb_c = X_test_lgb[classification_col_lgb].reset_index(drop=True)\n",
    "X_train_lgb_without_ros = pd.concat([X_train_lgb_r, X_train_lgb_c],axis=1)\n",
    "X_test_lgb_without_ros = pd.concat([X_test_lgb_r, X_test_lgb_c], axis = 1)\n",
    "#\n",
    "import lightgbm as lgb\n",
    "clf_lgb= lgb.LGBMClassifier(random_state=0)\n",
    "clf_lgb.fit(X_train_lgb, Y_train_lgb)\n",
    "print('Log loss on trainging_lgb dataset: ',log_loss(Y_train_lgb, clf_lgb.predict_proba(X_train_lgb)))\n",
    "print('Log loss on testing_lgb dataset: ',log_loss(Y_test_lgb, clf_lgb.predict_proba(X_test_lgb)))"
   ]
  },
  {
   "cell_type": "code",
   "execution_count": 65,
   "metadata": {},
   "outputs": [],
   "source": [
    "#預測成果\n",
    "predict_interest=clf_lgb.predict(X_test_lgb)\n",
    "#建構turnover\n",
    "lgb_turnover=[]\n",
    "for i in Y_test_lgb:\n",
    "    if i == \"low\":\n",
    "        lgb_turnover.append(0.11)\n",
    "    elif i == \"medium\":\n",
    "        lgb_turnover.append(0.33)\n",
    "    else:\n",
    "        lgb_turnover.append(0.5)"
   ]
  },
  {
   "cell_type": "code",
   "execution_count": 66,
   "metadata": {},
   "outputs": [
    {
     "output_type": "execute_result",
     "data": {
      "text/plain": [
       "    Predict_interest Actual_interest  Turnover  Price\n",
       "0               high          medium      0.33   1600\n",
       "1               high            high      0.50   1525\n",
       "2               high          medium      0.33   1675\n",
       "3               high            high      0.50   1375\n",
       "4               high            high      0.50   1650\n",
       "..               ...             ...       ...    ...\n",
       "195             high          medium      0.33   1800\n",
       "196             high            high      0.50   1400\n",
       "197             high          medium      0.33   1650\n",
       "198             high            high      0.50   1800\n",
       "199             high            high      0.50   3200\n",
       "\n",
       "[200 rows x 4 columns]"
      ],
      "text/html": "<div>\n<style scoped>\n    .dataframe tbody tr th:only-of-type {\n        vertical-align: middle;\n    }\n\n    .dataframe tbody tr th {\n        vertical-align: top;\n    }\n\n    .dataframe thead th {\n        text-align: right;\n    }\n</style>\n<table border=\"1\" class=\"dataframe\">\n  <thead>\n    <tr style=\"text-align: right;\">\n      <th></th>\n      <th>Predict_interest</th>\n      <th>Actual_interest</th>\n      <th>Turnover</th>\n      <th>Price</th>\n    </tr>\n  </thead>\n  <tbody>\n    <tr>\n      <th>0</th>\n      <td>high</td>\n      <td>medium</td>\n      <td>0.33</td>\n      <td>1600</td>\n    </tr>\n    <tr>\n      <th>1</th>\n      <td>high</td>\n      <td>high</td>\n      <td>0.50</td>\n      <td>1525</td>\n    </tr>\n    <tr>\n      <th>2</th>\n      <td>high</td>\n      <td>medium</td>\n      <td>0.33</td>\n      <td>1675</td>\n    </tr>\n    <tr>\n      <th>3</th>\n      <td>high</td>\n      <td>high</td>\n      <td>0.50</td>\n      <td>1375</td>\n    </tr>\n    <tr>\n      <th>4</th>\n      <td>high</td>\n      <td>high</td>\n      <td>0.50</td>\n      <td>1650</td>\n    </tr>\n    <tr>\n      <th>...</th>\n      <td>...</td>\n      <td>...</td>\n      <td>...</td>\n      <td>...</td>\n    </tr>\n    <tr>\n      <th>195</th>\n      <td>high</td>\n      <td>medium</td>\n      <td>0.33</td>\n      <td>1800</td>\n    </tr>\n    <tr>\n      <th>196</th>\n      <td>high</td>\n      <td>high</td>\n      <td>0.50</td>\n      <td>1400</td>\n    </tr>\n    <tr>\n      <th>197</th>\n      <td>high</td>\n      <td>medium</td>\n      <td>0.33</td>\n      <td>1650</td>\n    </tr>\n    <tr>\n      <th>198</th>\n      <td>high</td>\n      <td>high</td>\n      <td>0.50</td>\n      <td>1800</td>\n    </tr>\n    <tr>\n      <th>199</th>\n      <td>high</td>\n      <td>high</td>\n      <td>0.50</td>\n      <td>3200</td>\n    </tr>\n  </tbody>\n</table>\n<p>200 rows × 4 columns</p>\n</div>"
     },
     "metadata": {},
     "execution_count": 66
    }
   ],
   "source": [
    "# 建立dataframe\n",
    "lgb_df=pd.DataFrame({\"Predict_interest\":predict_interest,\"Actual_interest\":Y_test_lgb,\"Turnover\":lgb_turnover,\"Price\":X_test_lgb.price}).reset_index(drop=True)\n",
    "import random\n",
    "lgb_df_select=lgb_df[lgb_df[\"Predict_interest\"]==\"high\"].sample(n=200,replace=False,random_state=514).reset_index(drop=True)\n",
    "lgb_df_select"
   ]
  },
  {
   "cell_type": "code",
   "execution_count": 67,
   "metadata": {},
   "outputs": [
    {
     "output_type": "execute_result",
     "data": {
      "text/plain": [
       "    Predict_interest Actual_interest  Turnover  Price  sales_cost  share  \\\n",
       "0               high          medium      0.33   1600           5   0.15   \n",
       "1               high            high      0.50   1525           5   0.15   \n",
       "2               high          medium      0.33   1675           5   0.15   \n",
       "3               high            high      0.50   1375           5   0.15   \n",
       "4               high            high      0.50   1650           5   0.15   \n",
       "..               ...             ...       ...    ...         ...    ...   \n",
       "195             high          medium      0.33   1800           5   0.15   \n",
       "196             high            high      0.50   1400           5   0.15   \n",
       "197             high          medium      0.33   1650           5   0.15   \n",
       "198             high            high      0.50   1800           5   0.15   \n",
       "199             high            high      0.50   3200           5   0.15   \n",
       "\n",
       "      revenue  \n",
       "0     74.2000  \n",
       "1    109.3750  \n",
       "2     77.9125  \n",
       "3     98.1250  \n",
       "4    118.7500  \n",
       "..        ...  \n",
       "195   84.1000  \n",
       "196  100.0000  \n",
       "197   76.6750  \n",
       "198  130.0000  \n",
       "199  235.0000  \n",
       "\n",
       "[200 rows x 7 columns]"
      ],
      "text/html": "<div>\n<style scoped>\n    .dataframe tbody tr th:only-of-type {\n        vertical-align: middle;\n    }\n\n    .dataframe tbody tr th {\n        vertical-align: top;\n    }\n\n    .dataframe thead th {\n        text-align: right;\n    }\n</style>\n<table border=\"1\" class=\"dataframe\">\n  <thead>\n    <tr style=\"text-align: right;\">\n      <th></th>\n      <th>Predict_interest</th>\n      <th>Actual_interest</th>\n      <th>Turnover</th>\n      <th>Price</th>\n      <th>sales_cost</th>\n      <th>share</th>\n      <th>revenue</th>\n    </tr>\n  </thead>\n  <tbody>\n    <tr>\n      <th>0</th>\n      <td>high</td>\n      <td>medium</td>\n      <td>0.33</td>\n      <td>1600</td>\n      <td>5</td>\n      <td>0.15</td>\n      <td>74.2000</td>\n    </tr>\n    <tr>\n      <th>1</th>\n      <td>high</td>\n      <td>high</td>\n      <td>0.50</td>\n      <td>1525</td>\n      <td>5</td>\n      <td>0.15</td>\n      <td>109.3750</td>\n    </tr>\n    <tr>\n      <th>2</th>\n      <td>high</td>\n      <td>medium</td>\n      <td>0.33</td>\n      <td>1675</td>\n      <td>5</td>\n      <td>0.15</td>\n      <td>77.9125</td>\n    </tr>\n    <tr>\n      <th>3</th>\n      <td>high</td>\n      <td>high</td>\n      <td>0.50</td>\n      <td>1375</td>\n      <td>5</td>\n      <td>0.15</td>\n      <td>98.1250</td>\n    </tr>\n    <tr>\n      <th>4</th>\n      <td>high</td>\n      <td>high</td>\n      <td>0.50</td>\n      <td>1650</td>\n      <td>5</td>\n      <td>0.15</td>\n      <td>118.7500</td>\n    </tr>\n    <tr>\n      <th>...</th>\n      <td>...</td>\n      <td>...</td>\n      <td>...</td>\n      <td>...</td>\n      <td>...</td>\n      <td>...</td>\n      <td>...</td>\n    </tr>\n    <tr>\n      <th>195</th>\n      <td>high</td>\n      <td>medium</td>\n      <td>0.33</td>\n      <td>1800</td>\n      <td>5</td>\n      <td>0.15</td>\n      <td>84.1000</td>\n    </tr>\n    <tr>\n      <th>196</th>\n      <td>high</td>\n      <td>high</td>\n      <td>0.50</td>\n      <td>1400</td>\n      <td>5</td>\n      <td>0.15</td>\n      <td>100.0000</td>\n    </tr>\n    <tr>\n      <th>197</th>\n      <td>high</td>\n      <td>medium</td>\n      <td>0.33</td>\n      <td>1650</td>\n      <td>5</td>\n      <td>0.15</td>\n      <td>76.6750</td>\n    </tr>\n    <tr>\n      <th>198</th>\n      <td>high</td>\n      <td>high</td>\n      <td>0.50</td>\n      <td>1800</td>\n      <td>5</td>\n      <td>0.15</td>\n      <td>130.0000</td>\n    </tr>\n    <tr>\n      <th>199</th>\n      <td>high</td>\n      <td>high</td>\n      <td>0.50</td>\n      <td>3200</td>\n      <td>5</td>\n      <td>0.15</td>\n      <td>235.0000</td>\n    </tr>\n  </tbody>\n</table>\n<p>200 rows × 7 columns</p>\n</div>"
     },
     "metadata": {},
     "execution_count": 67
    }
   ],
   "source": [
    "lgb_df_select[\"sales_cost\"]=5\n",
    "lgb_df_select[\"share\"]=0.15\n",
    "lgb_df_select[\"revenue\"]=lgb_df_select[\"Turnover\"]*lgb_df_select[\"Price\"]*lgb_df_select[\"share\"]-lgb_df_select[\"sales_cost\"]\n",
    "lgb_df_select"
   ]
  },
  {
   "cell_type": "code",
   "execution_count": 74,
   "metadata": {},
   "outputs": [],
   "source": [
    "lgb_df_select.to_csv(\"使用機器學習方法_LGBM.csv\",encoding=\"utf-8-sig\")"
   ]
  },
  {
   "cell_type": "code",
   "execution_count": 68,
   "metadata": {},
   "outputs": [
    {
     "output_type": "execute_result",
     "data": {
      "text/plain": [
       "  Actual_interest  Turnover   Price  sales_cost  share    revenue\n",
       "0            high     51.00  205211         510  15.30  14880.825\n",
       "1             low      3.63   75820         165   4.95   1086.030\n",
       "2          medium     21.45  146876         325   9.75   6945.362"
      ],
      "text/html": "<div>\n<style scoped>\n    .dataframe tbody tr th:only-of-type {\n        vertical-align: middle;\n    }\n\n    .dataframe tbody tr th {\n        vertical-align: top;\n    }\n\n    .dataframe thead th {\n        text-align: right;\n    }\n</style>\n<table border=\"1\" class=\"dataframe\">\n  <thead>\n    <tr style=\"text-align: right;\">\n      <th></th>\n      <th>Actual_interest</th>\n      <th>Turnover</th>\n      <th>Price</th>\n      <th>sales_cost</th>\n      <th>share</th>\n      <th>revenue</th>\n    </tr>\n  </thead>\n  <tbody>\n    <tr>\n      <th>0</th>\n      <td>high</td>\n      <td>51.00</td>\n      <td>205211</td>\n      <td>510</td>\n      <td>15.30</td>\n      <td>14880.825</td>\n    </tr>\n    <tr>\n      <th>1</th>\n      <td>low</td>\n      <td>3.63</td>\n      <td>75820</td>\n      <td>165</td>\n      <td>4.95</td>\n      <td>1086.030</td>\n    </tr>\n    <tr>\n      <th>2</th>\n      <td>medium</td>\n      <td>21.45</td>\n      <td>146876</td>\n      <td>325</td>\n      <td>9.75</td>\n      <td>6945.362</td>\n    </tr>\n  </tbody>\n</table>\n</div>"
     },
     "metadata": {},
     "execution_count": 68
    }
   ],
   "source": [
    "lgb_df_select.groupby(\"Actual_interest\",as_index=False).sum(\"revenue\")"
   ]
  },
  {
   "source": [
    "## 隨機挑選之模型"
   ],
   "cell_type": "markdown",
   "metadata": {}
  },
  {
   "cell_type": "code",
   "execution_count": 69,
   "metadata": {},
   "outputs": [
    {
     "output_type": "execute_result",
     "data": {
      "text/plain": [
       "    Actual_interest  Turnover  Price\n",
       "0               low      0.11   2495\n",
       "1            medium      0.33   3250\n",
       "2               low      0.11  15000\n",
       "3               low      0.11   6738\n",
       "4            medium      0.33   2500\n",
       "..              ...       ...    ...\n",
       "195          medium      0.33   5600\n",
       "196             low      0.11   3871\n",
       "197          medium      0.33   4200\n",
       "198          medium      0.33   2631\n",
       "199             low      0.11   5100\n",
       "\n",
       "[200 rows x 3 columns]"
      ],
      "text/html": "<div>\n<style scoped>\n    .dataframe tbody tr th:only-of-type {\n        vertical-align: middle;\n    }\n\n    .dataframe tbody tr th {\n        vertical-align: top;\n    }\n\n    .dataframe thead th {\n        text-align: right;\n    }\n</style>\n<table border=\"1\" class=\"dataframe\">\n  <thead>\n    <tr style=\"text-align: right;\">\n      <th></th>\n      <th>Actual_interest</th>\n      <th>Turnover</th>\n      <th>Price</th>\n    </tr>\n  </thead>\n  <tbody>\n    <tr>\n      <th>0</th>\n      <td>low</td>\n      <td>0.11</td>\n      <td>2495</td>\n    </tr>\n    <tr>\n      <th>1</th>\n      <td>medium</td>\n      <td>0.33</td>\n      <td>3250</td>\n    </tr>\n    <tr>\n      <th>2</th>\n      <td>low</td>\n      <td>0.11</td>\n      <td>15000</td>\n    </tr>\n    <tr>\n      <th>3</th>\n      <td>low</td>\n      <td>0.11</td>\n      <td>6738</td>\n    </tr>\n    <tr>\n      <th>4</th>\n      <td>medium</td>\n      <td>0.33</td>\n      <td>2500</td>\n    </tr>\n    <tr>\n      <th>...</th>\n      <td>...</td>\n      <td>...</td>\n      <td>...</td>\n    </tr>\n    <tr>\n      <th>195</th>\n      <td>medium</td>\n      <td>0.33</td>\n      <td>5600</td>\n    </tr>\n    <tr>\n      <th>196</th>\n      <td>low</td>\n      <td>0.11</td>\n      <td>3871</td>\n    </tr>\n    <tr>\n      <th>197</th>\n      <td>medium</td>\n      <td>0.33</td>\n      <td>4200</td>\n    </tr>\n    <tr>\n      <th>198</th>\n      <td>medium</td>\n      <td>0.33</td>\n      <td>2631</td>\n    </tr>\n    <tr>\n      <th>199</th>\n      <td>low</td>\n      <td>0.11</td>\n      <td>5100</td>\n    </tr>\n  </tbody>\n</table>\n<p>200 rows × 3 columns</p>\n</div>"
     },
     "metadata": {},
     "execution_count": 69
    }
   ],
   "source": [
    "X=df_train[choose_columns]\n",
    "Y=df_train[\"interest_level\"]\n",
    "X_train_random, X_test_random, Y_train_random, Y_test_random = train_test_split(X, Y, test_size=0.2, random_state = 0)\n",
    "#建構turnover\n",
    "random_turnover=[]\n",
    "for i in Y_test_random:\n",
    "    if i == \"low\":\n",
    "        random_turnover.append(0.11)\n",
    "    elif i == \"medium\":\n",
    "        random_turnover.append(0.33)\n",
    "    else:\n",
    "        random_turnover.append(0.5)\n",
    "#建構df\n",
    "random_df=pd.DataFrame({\"Actual_interest\":Y_test_random,\"Turnover\":random_turnover,\"Price\":X_test_random.price}).reset_index(drop=True)\n",
    "random_df_select=random_df.sample(n=200,replace=False,random_state=514).reset_index(drop=True)\n",
    "random_df_select"
   ]
  },
  {
   "cell_type": "code",
   "execution_count": 70,
   "metadata": {},
   "outputs": [
    {
     "output_type": "execute_result",
     "data": {
      "text/plain": [
       "    Actual_interest  Turnover  Price  sales_cost  share   revenue\n",
       "0               low      0.11   2495           5   0.15   36.1675\n",
       "1            medium      0.33   3250           5   0.15  155.8750\n",
       "2               low      0.11  15000           5   0.15  242.5000\n",
       "3               low      0.11   6738           5   0.15  106.1770\n",
       "4            medium      0.33   2500           5   0.15  118.7500\n",
       "..              ...       ...    ...         ...    ...       ...\n",
       "195          medium      0.33   5600           5   0.15  272.2000\n",
       "196             low      0.11   3871           5   0.15   58.8715\n",
       "197          medium      0.33   4200           5   0.15  202.9000\n",
       "198          medium      0.33   2631           5   0.15  125.2345\n",
       "199             low      0.11   5100           5   0.15   79.1500\n",
       "\n",
       "[200 rows x 6 columns]"
      ],
      "text/html": "<div>\n<style scoped>\n    .dataframe tbody tr th:only-of-type {\n        vertical-align: middle;\n    }\n\n    .dataframe tbody tr th {\n        vertical-align: top;\n    }\n\n    .dataframe thead th {\n        text-align: right;\n    }\n</style>\n<table border=\"1\" class=\"dataframe\">\n  <thead>\n    <tr style=\"text-align: right;\">\n      <th></th>\n      <th>Actual_interest</th>\n      <th>Turnover</th>\n      <th>Price</th>\n      <th>sales_cost</th>\n      <th>share</th>\n      <th>revenue</th>\n    </tr>\n  </thead>\n  <tbody>\n    <tr>\n      <th>0</th>\n      <td>low</td>\n      <td>0.11</td>\n      <td>2495</td>\n      <td>5</td>\n      <td>0.15</td>\n      <td>36.1675</td>\n    </tr>\n    <tr>\n      <th>1</th>\n      <td>medium</td>\n      <td>0.33</td>\n      <td>3250</td>\n      <td>5</td>\n      <td>0.15</td>\n      <td>155.8750</td>\n    </tr>\n    <tr>\n      <th>2</th>\n      <td>low</td>\n      <td>0.11</td>\n      <td>15000</td>\n      <td>5</td>\n      <td>0.15</td>\n      <td>242.5000</td>\n    </tr>\n    <tr>\n      <th>3</th>\n      <td>low</td>\n      <td>0.11</td>\n      <td>6738</td>\n      <td>5</td>\n      <td>0.15</td>\n      <td>106.1770</td>\n    </tr>\n    <tr>\n      <th>4</th>\n      <td>medium</td>\n      <td>0.33</td>\n      <td>2500</td>\n      <td>5</td>\n      <td>0.15</td>\n      <td>118.7500</td>\n    </tr>\n    <tr>\n      <th>...</th>\n      <td>...</td>\n      <td>...</td>\n      <td>...</td>\n      <td>...</td>\n      <td>...</td>\n      <td>...</td>\n    </tr>\n    <tr>\n      <th>195</th>\n      <td>medium</td>\n      <td>0.33</td>\n      <td>5600</td>\n      <td>5</td>\n      <td>0.15</td>\n      <td>272.2000</td>\n    </tr>\n    <tr>\n      <th>196</th>\n      <td>low</td>\n      <td>0.11</td>\n      <td>3871</td>\n      <td>5</td>\n      <td>0.15</td>\n      <td>58.8715</td>\n    </tr>\n    <tr>\n      <th>197</th>\n      <td>medium</td>\n      <td>0.33</td>\n      <td>4200</td>\n      <td>5</td>\n      <td>0.15</td>\n      <td>202.9000</td>\n    </tr>\n    <tr>\n      <th>198</th>\n      <td>medium</td>\n      <td>0.33</td>\n      <td>2631</td>\n      <td>5</td>\n      <td>0.15</td>\n      <td>125.2345</td>\n    </tr>\n    <tr>\n      <th>199</th>\n      <td>low</td>\n      <td>0.11</td>\n      <td>5100</td>\n      <td>5</td>\n      <td>0.15</td>\n      <td>79.1500</td>\n    </tr>\n  </tbody>\n</table>\n<p>200 rows × 6 columns</p>\n</div>"
     },
     "metadata": {},
     "execution_count": 70
    }
   ],
   "source": [
    "random_df_select[\"sales_cost\"]=5\n",
    "random_df_select[\"share\"]=0.15\n",
    "random_df_select[\"revenue\"]=random_df_select[\"Turnover\"]*random_df_select[\"Price\"]*random_df_select[\"share\"]-random_df_select[\"sales_cost\"]\n",
    "random_df_select"
   ]
  },
  {
   "cell_type": "code",
   "execution_count": 75,
   "metadata": {},
   "outputs": [],
   "source": [
    "random_df_select.to_csv(\"未使用機器學習方法_Random.csv\",encoding=\"utf-8-sig\")"
   ]
  },
  {
   "cell_type": "code",
   "execution_count": 71,
   "metadata": {},
   "outputs": [
    {
     "output_type": "execute_result",
     "data": {
      "text/plain": [
       "  Actual_interest  Turnover   Price  sales_cost  share    revenue\n",
       "0            high      7.50   43060          75   2.25  3154.5000\n",
       "1             low     15.40  591679         700  21.00  9062.7035\n",
       "2          medium     14.85  152341         225   6.75  7315.8795"
      ],
      "text/html": "<div>\n<style scoped>\n    .dataframe tbody tr th:only-of-type {\n        vertical-align: middle;\n    }\n\n    .dataframe tbody tr th {\n        vertical-align: top;\n    }\n\n    .dataframe thead th {\n        text-align: right;\n    }\n</style>\n<table border=\"1\" class=\"dataframe\">\n  <thead>\n    <tr style=\"text-align: right;\">\n      <th></th>\n      <th>Actual_interest</th>\n      <th>Turnover</th>\n      <th>Price</th>\n      <th>sales_cost</th>\n      <th>share</th>\n      <th>revenue</th>\n    </tr>\n  </thead>\n  <tbody>\n    <tr>\n      <th>0</th>\n      <td>high</td>\n      <td>7.50</td>\n      <td>43060</td>\n      <td>75</td>\n      <td>2.25</td>\n      <td>3154.5000</td>\n    </tr>\n    <tr>\n      <th>1</th>\n      <td>low</td>\n      <td>15.40</td>\n      <td>591679</td>\n      <td>700</td>\n      <td>21.00</td>\n      <td>9062.7035</td>\n    </tr>\n    <tr>\n      <th>2</th>\n      <td>medium</td>\n      <td>14.85</td>\n      <td>152341</td>\n      <td>225</td>\n      <td>6.75</td>\n      <td>7315.8795</td>\n    </tr>\n  </tbody>\n</table>\n</div>"
     },
     "metadata": {},
     "execution_count": 71
    }
   ],
   "source": [
    "random_df_select.groupby(\"Actual_interest\",as_index=False).sum(\"revenue\")"
   ]
  }
 ]
}