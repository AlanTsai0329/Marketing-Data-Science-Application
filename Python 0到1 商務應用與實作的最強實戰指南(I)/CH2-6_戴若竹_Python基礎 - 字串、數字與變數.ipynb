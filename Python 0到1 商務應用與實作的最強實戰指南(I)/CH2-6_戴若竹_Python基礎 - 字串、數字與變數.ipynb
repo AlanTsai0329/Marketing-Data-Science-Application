{
 "cells": [
  {
   "cell_type": "markdown",
   "metadata": {},
   "source": [
    "# Python基礎 - 字串、數字與變數\n",
    "#### 作者：戴若竹(臺灣行銷研究特邀作者)\n",
    "#### 完整文章介紹鏈接"
   ]
  },
  {
   "cell_type": "markdown",
   "metadata": {},
   "source": [
    "## 一、字串(string)"
   ]
  },
  {
   "cell_type": "code",
   "execution_count": 1,
   "metadata": {},
   "outputs": [
    {
     "data": {
      "text/plain": [
       "'hello world!'"
      ]
     },
     "execution_count": 1,
     "metadata": {},
     "output_type": "execute_result"
    }
   ],
   "source": [
    "'hello world!'\n",
    "\"hello world!\"\n"
   ]
  },
  {
   "cell_type": "code",
   "execution_count": 2,
   "metadata": {
    "tags": []
   },
   "outputs": [
    {
     "name": "stdout",
     "output_type": "stream",
     "text": [
      "'Welcome to Python.'\n",
      "<class 'str'>\n",
      "\"Welcome to Python.\"\n",
      "<class 'str'>\n"
     ]
    }
   ],
   "source": [
    "# print()及type()內建函式\n",
    "print(\"'Welcome to Python.'\")\n",
    "print(type(\"'Welcome to Python.'\"))\n",
    "print('\"Welcome to Python.\"')\n",
    "print(type('\"Welcome to Python.\"'))\n"
   ]
  },
  {
   "cell_type": "code",
   "execution_count": 3,
   "metadata": {
    "tags": []
   },
   "outputs": [
    {
     "name": "stdout",
     "output_type": "stream",
     "text": [
      "C:\\some\n",
      "ame\n",
      "C:\\some\\name\n",
      "C:\\some\\name\n"
     ]
    }
   ],
   "source": [
    "print('C:\\some\\name')  # 這裡\\n表示開始新的一行\n",
    "print('C:\\\\some\\\\name')\n",
    "print(r'C:\\some\\name') \n"
   ]
  },
  {
   "cell_type": "code",
   "execution_count": 4,
   "metadata": {
    "tags": []
   },
   "outputs": [
    {
     "name": "stdout",
     "output_type": "stream",
     "text": [
      "HelloWorld\n",
      "HiHiHi\n",
      "Hello W\n",
      "11\n"
     ]
    }
   ],
   "source": [
    "print(\"Hello\" + \"World\")\n",
    "print(\"Hi\" * 3)\n",
    "print(\"Hello World\"[0:7]) # 起始編號從零開始\n",
    "print(len(\"Hello World\"))\n"
   ]
  },
  {
   "cell_type": "markdown",
   "metadata": {},
   "source": [
    "## 二、數字(Number)"
   ]
  },
  {
   "cell_type": "code",
   "execution_count": 5,
   "metadata": {
    "tags": []
   },
   "outputs": [
    {
     "name": "stdout",
     "output_type": "stream",
     "text": [
      "<class 'int'>\n",
      "<class 'float'>\n",
      "<class 'complex'>\n",
      "<class 'complex'>\n"
     ]
    }
   ],
   "source": [
    "print(type(1))\n",
    "print(type(1.0))\n",
    "print(type(1+2j))\n",
    "print(type(complex(1,2)))\n"
   ]
  },
  {
   "cell_type": "code",
   "execution_count": 7,
   "metadata": {
    "tags": []
   },
   "outputs": [
    {
     "name": "stdout",
     "output_type": "stream",
     "text": [
      "0\n",
      "1.9\n",
      "1\n",
      "0\n",
      "1.0\n",
      "<class 'str'>\n",
      "<class 'str'>\n",
      "<class 'int'>\n",
      "<class 'int'>\n",
      "<class 'float'>\n"
     ]
    }
   ],
   "source": [
    "print(str(0))\n",
    "print(str(1.9))\n",
    "print(int(1.9)) # 會無條件省略小數部分\n",
    "print(int(\"0\")) # int(\"hello\")則會顯示錯誤\n",
    "print(float(1)) # float(\"hello\")或float(1+2j)則會顯示錯誤\n",
    "print(type(str(0)))\n",
    "print(type(str(1.9)))\n",
    "print(type(int(1.9)))\n",
    "print(type(int(\"0\")))\n",
    "print(type(float(1)))\n"
   ]
  },
  {
   "cell_type": "code",
   "execution_count": 8,
   "metadata": {
    "tags": []
   },
   "outputs": [
    {
     "name": "stdout",
     "output_type": "stream",
     "text": [
      "3\n",
      "-1\n",
      "10\n",
      "1.2857142857142858\n",
      "-8\n",
      "3\n",
      "9\n",
      "1\n",
      "2\n"
     ]
    }
   ],
   "source": [
    "print(1+2)\n",
    "print(3-4)\n",
    "print(5*2)\n",
    "print(9/7)\n",
    "print((1+3)*(2-4))\n",
    "print(1+3*2-4) # 電腦會自動判斷先乘除後加減\n",
    "print(3**2) # 三的二次方\n",
    "print(5//3) # 除法求商\n",
    "print(5%3) # 除法求餘\n"
   ]
  },
  {
   "cell_type": "markdown",
   "metadata": {},
   "source": [
    "## 三、變數(Variable)"
   ]
  },
  {
   "cell_type": "code",
   "execution_count": 9,
   "metadata": {},
   "outputs": [],
   "source": [
    "# 在Python裡宣告一個變數\n",
    "a = 7\n"
   ]
  },
  {
   "cell_type": "code",
   "execution_count": 10,
   "metadata": {
    "tags": []
   },
   "outputs": [
    {
     "name": "stdout",
     "output_type": "stream",
     "text": [
      "21\n",
      "35\n"
     ]
    }
   ],
   "source": [
    "# 宣告變數a\n",
    "a = 7 \n",
    "print(a*3) # 進行基本運算\n",
    "\n",
    "# 重新賦值\n",
    "a = a*5 \n",
    "print(a)\n"
   ]
  }
 ],
 "metadata": {
  "kernelspec": {
   "display_name": "Python 3",
   "language": "python",
   "name": "python3"
  },
  "language_info": {
   "codemirror_mode": {
    "name": "ipython",
    "version": 3
   },
   "file_extension": ".py",
   "mimetype": "text/x-python",
   "name": "python",
   "nbconvert_exporter": "python",
   "pygments_lexer": "ipython3",
   "version": "3.7.6"
  }
 },
 "nbformat": 4,
 "nbformat_minor": 2
}
