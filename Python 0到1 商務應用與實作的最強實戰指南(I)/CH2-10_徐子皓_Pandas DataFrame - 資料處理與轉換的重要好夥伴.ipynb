{
 "metadata": {
  "language_info": {
   "codemirror_mode": {
    "name": "ipython",
    "version": 3
   },
   "file_extension": ".py",
   "mimetype": "text/x-python",
   "name": "python",
   "nbconvert_exporter": "python",
   "pygments_lexer": "ipython3",
   "version": "3.6.6-final"
  },
  "orig_nbformat": 2,
  "kernelspec": {
   "name": "python36664bitwinconda9a56a0034b864710b2b4e2286a5ce8fc",
   "display_name": "Python 3.6.6 64-bit ('win': conda)"
  }
 },
 "nbformat": 4,
 "nbformat_minor": 2,
 "cells": [
  {
   "source": [
    "# Pandas DataFrame - 資料處理與轉換的重要好夥伴"
   ],
   "cell_type": "markdown",
   "metadata": {}
  },
  {
   "source": [
    "#### 作者：徐子皓(臺灣行銷研究特邀作者)\n",
    "#### 完整文章介紹鏈接：https://medium.com/p/de4bde2d4463/"
   ],
   "cell_type": "markdown",
   "metadata": {}
  },
  {
   "source": [
    "## 一、基本操作"
   ],
   "cell_type": "markdown",
   "metadata": {}
  },
  {
   "source": [
    "### 1. 導入資料集"
   ],
   "cell_type": "markdown",
   "metadata": {}
  },
  {
   "cell_type": "code",
   "execution_count": 3,
   "metadata": {},
   "outputs": [],
   "source": [
    "import pandas as pd\n",
    "transaction = pd.read_csv('transaction.csv')\n",
    "data = {'uid':[1,2,3,4,5],\n",
    "        'name':['Howard','Lily','Kai',\n",
    "                'Jojo','Ivan'],\n",
    "        'age':[25,21,35,18,15]}"
   ]
  },
  {
   "cell_type": "code",
   "execution_count": 4,
   "metadata": {},
   "outputs": [
    {
     "output_type": "execute_result",
     "data": {
      "text/plain": "     tid  uid product  quantity  price\n0  T0001    1   lemon         5  12.40\n1  T0002    5  banana         6  42.16\n2  T0003    4  orange         4   6.20\n3  T0003    3  cherry         3  74.40\n4  T0003    3   guava         2  24.80\n5  T0004    2  banana        10  42.16\n6  T0004    2  orange         5   6.20\n7  T0004    2   guava         2  24.80\n8  T0005    5  orange         4   6.20\n9  T0005    5   lemon         5  12.40",
      "text/html": "<div>\n<style scoped>\n    .dataframe tbody tr th:only-of-type {\n        vertical-align: middle;\n    }\n\n    .dataframe tbody tr th {\n        vertical-align: top;\n    }\n\n    .dataframe thead th {\n        text-align: right;\n    }\n</style>\n<table border=\"1\" class=\"dataframe\">\n  <thead>\n    <tr style=\"text-align: right;\">\n      <th></th>\n      <th>tid</th>\n      <th>uid</th>\n      <th>product</th>\n      <th>quantity</th>\n      <th>price</th>\n    </tr>\n  </thead>\n  <tbody>\n    <tr>\n      <th>0</th>\n      <td>T0001</td>\n      <td>1</td>\n      <td>lemon</td>\n      <td>5</td>\n      <td>12.40</td>\n    </tr>\n    <tr>\n      <th>1</th>\n      <td>T0002</td>\n      <td>5</td>\n      <td>banana</td>\n      <td>6</td>\n      <td>42.16</td>\n    </tr>\n    <tr>\n      <th>2</th>\n      <td>T0003</td>\n      <td>4</td>\n      <td>orange</td>\n      <td>4</td>\n      <td>6.20</td>\n    </tr>\n    <tr>\n      <th>3</th>\n      <td>T0003</td>\n      <td>3</td>\n      <td>cherry</td>\n      <td>3</td>\n      <td>74.40</td>\n    </tr>\n    <tr>\n      <th>4</th>\n      <td>T0003</td>\n      <td>3</td>\n      <td>guava</td>\n      <td>2</td>\n      <td>24.80</td>\n    </tr>\n    <tr>\n      <th>5</th>\n      <td>T0004</td>\n      <td>2</td>\n      <td>banana</td>\n      <td>10</td>\n      <td>42.16</td>\n    </tr>\n    <tr>\n      <th>6</th>\n      <td>T0004</td>\n      <td>2</td>\n      <td>orange</td>\n      <td>5</td>\n      <td>6.20</td>\n    </tr>\n    <tr>\n      <th>7</th>\n      <td>T0004</td>\n      <td>2</td>\n      <td>guava</td>\n      <td>2</td>\n      <td>24.80</td>\n    </tr>\n    <tr>\n      <th>8</th>\n      <td>T0005</td>\n      <td>5</td>\n      <td>orange</td>\n      <td>4</td>\n      <td>6.20</td>\n    </tr>\n    <tr>\n      <th>9</th>\n      <td>T0005</td>\n      <td>5</td>\n      <td>lemon</td>\n      <td>5</td>\n      <td>12.40</td>\n    </tr>\n  </tbody>\n</table>\n</div>"
     },
     "metadata": {},
     "execution_count": 4
    }
   ],
   "source": [
    "transaction"
   ]
  },
  {
   "cell_type": "code",
   "execution_count": 5,
   "metadata": {},
   "outputs": [
    {
     "output_type": "execute_result",
     "data": {
      "text/plain": "{'uid': [1, 2, 3, 4, 5],\n 'name': ['Howard', 'Lily', 'Kai', 'Jojo', 'Ivan'],\n 'age': [25, 21, 35, 18, 15]}"
     },
     "metadata": {},
     "execution_count": 5
    }
   ],
   "source": [
    "data"
   ]
  },
  {
   "source": [
    "### 2. 將「字典」型式資料轉成「資料集」形式"
   ],
   "cell_type": "markdown",
   "metadata": {}
  },
  {
   "cell_type": "code",
   "execution_count": 6,
   "metadata": {},
   "outputs": [
    {
     "output_type": "execute_result",
     "data": {
      "text/plain": "   uid    name  age\n0    1  Howard   25\n1    2    Lily   21\n2    3     Kai   35\n3    4    Jojo   18\n4    5    Ivan   15",
      "text/html": "<div>\n<style scoped>\n    .dataframe tbody tr th:only-of-type {\n        vertical-align: middle;\n    }\n\n    .dataframe tbody tr th {\n        vertical-align: top;\n    }\n\n    .dataframe thead th {\n        text-align: right;\n    }\n</style>\n<table border=\"1\" class=\"dataframe\">\n  <thead>\n    <tr style=\"text-align: right;\">\n      <th></th>\n      <th>uid</th>\n      <th>name</th>\n      <th>age</th>\n    </tr>\n  </thead>\n  <tbody>\n    <tr>\n      <th>0</th>\n      <td>1</td>\n      <td>Howard</td>\n      <td>25</td>\n    </tr>\n    <tr>\n      <th>1</th>\n      <td>2</td>\n      <td>Lily</td>\n      <td>21</td>\n    </tr>\n    <tr>\n      <th>2</th>\n      <td>3</td>\n      <td>Kai</td>\n      <td>35</td>\n    </tr>\n    <tr>\n      <th>3</th>\n      <td>4</td>\n      <td>Jojo</td>\n      <td>18</td>\n    </tr>\n    <tr>\n      <th>4</th>\n      <td>5</td>\n      <td>Ivan</td>\n      <td>15</td>\n    </tr>\n  </tbody>\n</table>\n</div>"
     },
     "metadata": {},
     "execution_count": 6
    }
   ],
   "source": [
    "member = pd.DataFrame(data)\n",
    "member "
   ]
  },
  {
   "source": [
    "### 3. 取出資料集的開頭幾筆資料"
   ],
   "cell_type": "markdown",
   "metadata": {}
  },
  {
   "cell_type": "code",
   "execution_count": 7,
   "metadata": {},
   "outputs": [
    {
     "output_type": "execute_result",
     "data": {
      "text/plain": "   uid    name  age\n0    1  Howard   25\n1    2    Lily   21\n2    3     Kai   35\n3    4    Jojo   18\n4    5    Ivan   15",
      "text/html": "<div>\n<style scoped>\n    .dataframe tbody tr th:only-of-type {\n        vertical-align: middle;\n    }\n\n    .dataframe tbody tr th {\n        vertical-align: top;\n    }\n\n    .dataframe thead th {\n        text-align: right;\n    }\n</style>\n<table border=\"1\" class=\"dataframe\">\n  <thead>\n    <tr style=\"text-align: right;\">\n      <th></th>\n      <th>uid</th>\n      <th>name</th>\n      <th>age</th>\n    </tr>\n  </thead>\n  <tbody>\n    <tr>\n      <th>0</th>\n      <td>1</td>\n      <td>Howard</td>\n      <td>25</td>\n    </tr>\n    <tr>\n      <th>1</th>\n      <td>2</td>\n      <td>Lily</td>\n      <td>21</td>\n    </tr>\n    <tr>\n      <th>2</th>\n      <td>3</td>\n      <td>Kai</td>\n      <td>35</td>\n    </tr>\n    <tr>\n      <th>3</th>\n      <td>4</td>\n      <td>Jojo</td>\n      <td>18</td>\n    </tr>\n    <tr>\n      <th>4</th>\n      <td>5</td>\n      <td>Ivan</td>\n      <td>15</td>\n    </tr>\n  </tbody>\n</table>\n</div>"
     },
     "metadata": {},
     "execution_count": 7
    }
   ],
   "source": [
    "member.head()"
   ]
  },
  {
   "source": [
    "### 4. 查看資料集的基本資料型態"
   ],
   "cell_type": "markdown",
   "metadata": {}
  },
  {
   "cell_type": "code",
   "execution_count": 8,
   "metadata": {
    "tags": []
   },
   "outputs": [
    {
     "output_type": "stream",
     "name": "stdout",
     "text": "<class 'pandas.core.frame.DataFrame'>\nRangeIndex: 5 entries, 0 to 4\nData columns (total 3 columns):\nuid     5 non-null int64\nname    5 non-null object\nage     5 non-null int64\ndtypes: int64(2), object(1)\nmemory usage: 200.0+ bytes\n"
    }
   ],
   "source": [
    "member.info()"
   ]
  },
  {
   "source": [
    "### 5. 查看資料集的列、欄數量"
   ],
   "cell_type": "markdown",
   "metadata": {}
  },
  {
   "cell_type": "code",
   "execution_count": 9,
   "metadata": {},
   "outputs": [
    {
     "output_type": "execute_result",
     "data": {
      "text/plain": "(5, 3)"
     },
     "metadata": {},
     "execution_count": 9
    }
   ],
   "source": [
    "member.shape "
   ]
  },
  {
   "source": [
    "### 6. 取出特定欄位"
   ],
   "cell_type": "markdown",
   "metadata": {}
  },
  {
   "cell_type": "code",
   "execution_count": 10,
   "metadata": {},
   "outputs": [
    {
     "output_type": "execute_result",
     "data": {
      "text/plain": "0    Howard\n1      Lily\n2       Kai\n3      Jojo\n4      Ivan\nName: name, dtype: object"
     },
     "metadata": {},
     "execution_count": 10
    }
   ],
   "source": [
    "member['name']"
   ]
  },
  {
   "source": [
    "### 7. 取出多個特定欄位"
   ],
   "cell_type": "markdown",
   "metadata": {}
  },
  {
   "cell_type": "code",
   "execution_count": 11,
   "metadata": {},
   "outputs": [
    {
     "output_type": "execute_result",
     "data": {
      "text/plain": "     name  age\n0  Howard   25\n1    Lily   21\n2     Kai   35\n3    Jojo   18\n4    Ivan   15",
      "text/html": "<div>\n<style scoped>\n    .dataframe tbody tr th:only-of-type {\n        vertical-align: middle;\n    }\n\n    .dataframe tbody tr th {\n        vertical-align: top;\n    }\n\n    .dataframe thead th {\n        text-align: right;\n    }\n</style>\n<table border=\"1\" class=\"dataframe\">\n  <thead>\n    <tr style=\"text-align: right;\">\n      <th></th>\n      <th>name</th>\n      <th>age</th>\n    </tr>\n  </thead>\n  <tbody>\n    <tr>\n      <th>0</th>\n      <td>Howard</td>\n      <td>25</td>\n    </tr>\n    <tr>\n      <th>1</th>\n      <td>Lily</td>\n      <td>21</td>\n    </tr>\n    <tr>\n      <th>2</th>\n      <td>Kai</td>\n      <td>35</td>\n    </tr>\n    <tr>\n      <th>3</th>\n      <td>Jojo</td>\n      <td>18</td>\n    </tr>\n    <tr>\n      <th>4</th>\n      <td>Ivan</td>\n      <td>15</td>\n    </tr>\n  </tbody>\n</table>\n</div>"
     },
     "metadata": {},
     "execution_count": 11
    }
   ],
   "source": [
    "member[ ['name','age'] ]"
   ]
  },
  {
   "source": [
    "### 8. 資料集數學運算"
   ],
   "cell_type": "markdown",
   "metadata": {}
  },
  {
   "cell_type": "code",
   "execution_count": 15,
   "metadata": {},
   "outputs": [
    {
     "output_type": "execute_result",
     "data": {
      "text/plain": "22.8"
     },
     "metadata": {},
     "execution_count": 15
    }
   ],
   "source": [
    "# 平均會員年紀\n",
    "member['age'].mean()"
   ]
  },
  {
   "cell_type": "code",
   "execution_count": 16,
   "metadata": {},
   "outputs": [
    {
     "output_type": "execute_result",
     "data": {
      "text/plain": "35"
     },
     "metadata": {},
     "execution_count": 16
    }
   ],
   "source": [
    "# 最大會員年紀\n",
    "member['age'].max()"
   ]
  },
  {
   "cell_type": "code",
   "execution_count": 17,
   "metadata": {},
   "outputs": [
    {
     "output_type": "execute_result",
     "data": {
      "text/plain": "15"
     },
     "metadata": {},
     "execution_count": 17
    }
   ],
   "source": [
    "# 最小會員年紀\n",
    "member['age'].min()"
   ]
  },
  {
   "source": [
    "### 9. 其他常見統計"
   ],
   "cell_type": "markdown",
   "metadata": {}
  },
  {
   "cell_type": "code",
   "execution_count": 18,
   "metadata": {},
   "outputs": [
    {
     "output_type": "execute_result",
     "data": {
      "text/plain": "count     5.000000\nmean     22.800000\nstd       7.758866\nmin      15.000000\n25%      18.000000\n50%      21.000000\n75%      25.000000\nmax      35.000000\nName: age, dtype: float64"
     },
     "metadata": {},
     "execution_count": 18
    }
   ],
   "source": [
    "member['age'].describe()"
   ]
  },
  {
   "source": [
    "## 二、資料排序"
   ],
   "cell_type": "markdown",
   "metadata": {}
  },
  {
   "source": [
    "### 1. 遞增排序"
   ],
   "cell_type": "markdown",
   "metadata": {}
  },
  {
   "cell_type": "code",
   "execution_count": 19,
   "metadata": {},
   "outputs": [
    {
     "output_type": "execute_result",
     "data": {
      "text/plain": "4    15\n3    18\n1    21\n0    25\n2    35\nName: age, dtype: int64"
     },
     "metadata": {},
     "execution_count": 19
    }
   ],
   "source": [
    "member['age'].sort_values()"
   ]
  },
  {
   "source": [
    "### 2. 遞減排序"
   ],
   "cell_type": "markdown",
   "metadata": {}
  },
  {
   "cell_type": "code",
   "execution_count": 20,
   "metadata": {},
   "outputs": [
    {
     "output_type": "execute_result",
     "data": {
      "text/plain": "2    35\n0    25\n1    21\n3    18\n4    15\nName: age, dtype: int64"
     },
     "metadata": {},
     "execution_count": 20
    }
   ],
   "source": [
    "member['age'].sort_values(ascending = False)"
   ]
  },
  {
   "source": [
    "### 3. 單獨欄位排序 "
   ],
   "cell_type": "markdown",
   "metadata": {}
  },
  {
   "cell_type": "code",
   "execution_count": 24,
   "metadata": {},
   "outputs": [
    {
     "output_type": "execute_result",
     "data": {
      "text/plain": "   uid    name  age\n4    5    Ivan   15\n3    4    Jojo   18\n1    2    Lily   21\n0    1  Howard   25\n2    3     Kai   35",
      "text/html": "<div>\n<style scoped>\n    .dataframe tbody tr th:only-of-type {\n        vertical-align: middle;\n    }\n\n    .dataframe tbody tr th {\n        vertical-align: top;\n    }\n\n    .dataframe thead th {\n        text-align: right;\n    }\n</style>\n<table border=\"1\" class=\"dataframe\">\n  <thead>\n    <tr style=\"text-align: right;\">\n      <th></th>\n      <th>uid</th>\n      <th>name</th>\n      <th>age</th>\n    </tr>\n  </thead>\n  <tbody>\n    <tr>\n      <th>4</th>\n      <td>5</td>\n      <td>Ivan</td>\n      <td>15</td>\n    </tr>\n    <tr>\n      <th>3</th>\n      <td>4</td>\n      <td>Jojo</td>\n      <td>18</td>\n    </tr>\n    <tr>\n      <th>1</th>\n      <td>2</td>\n      <td>Lily</td>\n      <td>21</td>\n    </tr>\n    <tr>\n      <th>0</th>\n      <td>1</td>\n      <td>Howard</td>\n      <td>25</td>\n    </tr>\n    <tr>\n      <th>2</th>\n      <td>3</td>\n      <td>Kai</td>\n      <td>35</td>\n    </tr>\n  </tbody>\n</table>\n</div>"
     },
     "metadata": {},
     "execution_count": 24
    }
   ],
   "source": [
    "member.sort_values(['age'])"
   ]
  },
  {
   "source": [
    "## 三、進階應用"
   ],
   "cell_type": "markdown",
   "metadata": {}
  },
  {
   "source": [
    "### 1. 移除欄位 "
   ],
   "cell_type": "markdown",
   "metadata": {}
  },
  {
   "cell_type": "code",
   "execution_count": 23,
   "metadata": {},
   "outputs": [
    {
     "output_type": "execute_result",
     "data": {
      "text/plain": "     name  age\n0  Howard   25\n1    Lily   21\n2     Kai   35\n3    Jojo   18\n4    Ivan   15",
      "text/html": "<div>\n<style scoped>\n    .dataframe tbody tr th:only-of-type {\n        vertical-align: middle;\n    }\n\n    .dataframe tbody tr th {\n        vertical-align: top;\n    }\n\n    .dataframe thead th {\n        text-align: right;\n    }\n</style>\n<table border=\"1\" class=\"dataframe\">\n  <thead>\n    <tr style=\"text-align: right;\">\n      <th></th>\n      <th>name</th>\n      <th>age</th>\n    </tr>\n  </thead>\n  <tbody>\n    <tr>\n      <th>0</th>\n      <td>Howard</td>\n      <td>25</td>\n    </tr>\n    <tr>\n      <th>1</th>\n      <td>Lily</td>\n      <td>21</td>\n    </tr>\n    <tr>\n      <th>2</th>\n      <td>Kai</td>\n      <td>35</td>\n    </tr>\n    <tr>\n      <th>3</th>\n      <td>Jojo</td>\n      <td>18</td>\n    </tr>\n    <tr>\n      <th>4</th>\n      <td>Ivan</td>\n      <td>15</td>\n    </tr>\n  </tbody>\n</table>\n</div>"
     },
     "metadata": {},
     "execution_count": 23
    }
   ],
   "source": [
    "member2 = member.drop(columns=['uid'])\n",
    "member2"
   ]
  },
  {
   "source": [
    "### 2. 判斷每一列是否含有指定字串"
   ],
   "cell_type": "markdown",
   "metadata": {}
  },
  {
   "cell_type": "code",
   "execution_count": 25,
   "metadata": {},
   "outputs": [
    {
     "output_type": "execute_result",
     "data": {
      "text/plain": "0     True\n1    False\n2    False\n3    False\n4    False\n5    False\n6    False\n7    False\n8    False\n9     True\nName: product, dtype: bool"
     },
     "metadata": {},
     "execution_count": 25
    }
   ],
   "source": [
    "transaction['product'] == 'lemon'"
   ]
  },
  {
   "source": [
    "### 3. 取出含有指定字串之資料"
   ],
   "cell_type": "markdown",
   "metadata": {}
  },
  {
   "cell_type": "code",
   "execution_count": 26,
   "metadata": {},
   "outputs": [
    {
     "output_type": "execute_result",
     "data": {
      "text/plain": "     tid  uid product  quantity  price\n0  T0001    1   lemon         5   12.4\n9  T0005    5   lemon         5   12.4",
      "text/html": "<div>\n<style scoped>\n    .dataframe tbody tr th:only-of-type {\n        vertical-align: middle;\n    }\n\n    .dataframe tbody tr th {\n        vertical-align: top;\n    }\n\n    .dataframe thead th {\n        text-align: right;\n    }\n</style>\n<table border=\"1\" class=\"dataframe\">\n  <thead>\n    <tr style=\"text-align: right;\">\n      <th></th>\n      <th>tid</th>\n      <th>uid</th>\n      <th>product</th>\n      <th>quantity</th>\n      <th>price</th>\n    </tr>\n  </thead>\n  <tbody>\n    <tr>\n      <th>0</th>\n      <td>T0001</td>\n      <td>1</td>\n      <td>lemon</td>\n      <td>5</td>\n      <td>12.4</td>\n    </tr>\n    <tr>\n      <th>9</th>\n      <td>T0005</td>\n      <td>5</td>\n      <td>lemon</td>\n      <td>5</td>\n      <td>12.4</td>\n    </tr>\n  </tbody>\n</table>\n</div>"
     },
     "metadata": {},
     "execution_count": 26
    }
   ],
   "source": [
    "transaction[transaction['product'] == 'lemon']"
   ]
  },
  {
   "source": [
    "### 4. 將資料轉為串列形式"
   ],
   "cell_type": "markdown",
   "metadata": {}
  },
  {
   "cell_type": "code",
   "execution_count": 27,
   "metadata": {},
   "outputs": [
    {
     "output_type": "execute_result",
     "data": {
      "text/plain": "[[1, 'Howard', 25],\n [2, 'Lily', 21],\n [3, 'Kai', 35],\n [4, 'Jojo', 18],\n [5, 'Ivan', 15]]"
     },
     "metadata": {},
     "execution_count": 27
    }
   ],
   "source": [
    "member.values.tolist()"
   ]
  }
 ]
}