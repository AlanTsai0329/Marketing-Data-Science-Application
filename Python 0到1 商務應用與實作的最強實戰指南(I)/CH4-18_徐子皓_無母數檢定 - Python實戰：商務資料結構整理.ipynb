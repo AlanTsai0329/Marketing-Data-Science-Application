{
 "metadata": {
  "language_info": {
   "codemirror_mode": {
    "name": "ipython",
    "version": 3
   },
   "file_extension": ".py",
   "mimetype": "text/x-python",
   "name": "python",
   "nbconvert_exporter": "python",
   "pygments_lexer": "ipython3",
   "version": "3.7.6-final"
  },
  "orig_nbformat": 2,
  "kernelspec": {
   "name": "python_defaultSpec_1600750276889",
   "display_name": "Python 3.7.6 64-bit (virtualenv)"
  }
 },
 "nbformat": 4,
 "nbformat_minor": 2,
 "cells": [
  {
   "cell_type": "markdown",
   "metadata": {},
   "source": [
    "# 無母數檢定 - Python實戰：商務資料結構整理"
   ]
  },
  {
   "cell_type": "code",
   "execution_count": null,
   "metadata": {},
   "outputs": [],
   "source": [
    "#### 作者：徐子皓(臺灣行銷研究特邀作者)\n",
    "#### 完整文章介紹鏈接：https://medium.com/p/e320b0ee04c4/"
   ]
  },
  {
   "cell_type": "markdown",
   "metadata": {},
   "source": [
    "##  一、讀入原始資料"
   ]
  },
  {
   "cell_type": "markdown",
   "metadata": {},
   "source": [
    "### 1. 導入分析資料"
   ]
  },
  {
   "cell_type": "code",
   "execution_count": 7,
   "metadata": {},
   "outputs": [],
   "source": [
    "import pandas as pd\n",
    "data = pd.read_csv('sales_data_new.csv', encoding = 'utf-8-sig')"
   ]
  },
  {
   "cell_type": "code",
   "execution_count": 8,
   "metadata": {},
   "outputs": [
    {
     "output_type": "execute_result",
     "data": {
      "text/plain": "        Unnamed: 0             顏色   單價   成本     系列        產品  \\\n0                0            NaN  391  240    系列4     產品4-1   \n1                1            NaN  238  137    系列4     產品4-2   \n2                2  watermelonred  434  253    系列4     產品4-3   \n3                3            NaN  339  205    系列4     產品4-4   \n4                4          white  382  223    系列4     產品4-3   \n...            ...            ...  ...  ...    ...       ...   \n353219      353219            NaN  350  245  系列207  產品207-35   \n353220      353220            NaN  350  245  系列207  產品207-35   \n353221      353221            NaN  350  245  系列207  產品207-35   \n353222      353222            NaN  350  245  系列207  產品207-35   \n353223      353223            NaN  350  245  系列207  產品207-35   \n\n                       訂單時間        會員      性別    年紀     廣告代號all 尺寸  \n0       2016-01-01T03:19:35  10052013  FEMALE  32.0  廣告_YND_pid  無  \n1       2016-01-01T03:19:35  10052013  FEMALE  32.0  廣告_YND_pid  無  \n2       2016-01-01T03:19:35  10052013  FEMALE  32.0  廣告_YND_pid  S  \n3       2016-01-01T03:19:35  10052013  FEMALE  32.0  廣告_YND_pid  無  \n4       2016-01-01T03:19:35  10052013  FEMALE  32.0  廣告_YND_pid  S  \n...                     ...       ...     ...   ...         ... ..  \n353219  2019-11-12T14:44:14  10176032  FEMALE  18.0     廣告_自然流量  無  \n353220  2019-11-13T09:37:06  10225036  FEMALE  24.0     廣告_自然流量  無  \n353221  2019-11-14T18:34:45  10225049     NaN  28.0  廣告_KBDG_MK  無  \n353222  2019-11-14T18:34:45  10225049     NaN  28.0  廣告_KBDG_MK  無  \n353223  2019-11-15T12:14:25  10224529     NaN  16.0  廣告_KBDG_MK  無  \n\n[353224 rows x 12 columns]",
      "text/html": "<div>\n<style scoped>\n    .dataframe tbody tr th:only-of-type {\n        vertical-align: middle;\n    }\n\n    .dataframe tbody tr th {\n        vertical-align: top;\n    }\n\n    .dataframe thead th {\n        text-align: right;\n    }\n</style>\n<table border=\"1\" class=\"dataframe\">\n  <thead>\n    <tr style=\"text-align: right;\">\n      <th></th>\n      <th>Unnamed: 0</th>\n      <th>顏色</th>\n      <th>單價</th>\n      <th>成本</th>\n      <th>系列</th>\n      <th>產品</th>\n      <th>訂單時間</th>\n      <th>會員</th>\n      <th>性別</th>\n      <th>年紀</th>\n      <th>廣告代號all</th>\n      <th>尺寸</th>\n    </tr>\n  </thead>\n  <tbody>\n    <tr>\n      <th>0</th>\n      <td>0</td>\n      <td>NaN</td>\n      <td>391</td>\n      <td>240</td>\n      <td>系列4</td>\n      <td>產品4-1</td>\n      <td>2016-01-01T03:19:35</td>\n      <td>10052013</td>\n      <td>FEMALE</td>\n      <td>32.0</td>\n      <td>廣告_YND_pid</td>\n      <td>無</td>\n    </tr>\n    <tr>\n      <th>1</th>\n      <td>1</td>\n      <td>NaN</td>\n      <td>238</td>\n      <td>137</td>\n      <td>系列4</td>\n      <td>產品4-2</td>\n      <td>2016-01-01T03:19:35</td>\n      <td>10052013</td>\n      <td>FEMALE</td>\n      <td>32.0</td>\n      <td>廣告_YND_pid</td>\n      <td>無</td>\n    </tr>\n    <tr>\n      <th>2</th>\n      <td>2</td>\n      <td>watermelonred</td>\n      <td>434</td>\n      <td>253</td>\n      <td>系列4</td>\n      <td>產品4-3</td>\n      <td>2016-01-01T03:19:35</td>\n      <td>10052013</td>\n      <td>FEMALE</td>\n      <td>32.0</td>\n      <td>廣告_YND_pid</td>\n      <td>S</td>\n    </tr>\n    <tr>\n      <th>3</th>\n      <td>3</td>\n      <td>NaN</td>\n      <td>339</td>\n      <td>205</td>\n      <td>系列4</td>\n      <td>產品4-4</td>\n      <td>2016-01-01T03:19:35</td>\n      <td>10052013</td>\n      <td>FEMALE</td>\n      <td>32.0</td>\n      <td>廣告_YND_pid</td>\n      <td>無</td>\n    </tr>\n    <tr>\n      <th>4</th>\n      <td>4</td>\n      <td>white</td>\n      <td>382</td>\n      <td>223</td>\n      <td>系列4</td>\n      <td>產品4-3</td>\n      <td>2016-01-01T03:19:35</td>\n      <td>10052013</td>\n      <td>FEMALE</td>\n      <td>32.0</td>\n      <td>廣告_YND_pid</td>\n      <td>S</td>\n    </tr>\n    <tr>\n      <th>...</th>\n      <td>...</td>\n      <td>...</td>\n      <td>...</td>\n      <td>...</td>\n      <td>...</td>\n      <td>...</td>\n      <td>...</td>\n      <td>...</td>\n      <td>...</td>\n      <td>...</td>\n      <td>...</td>\n      <td>...</td>\n    </tr>\n    <tr>\n      <th>353219</th>\n      <td>353219</td>\n      <td>NaN</td>\n      <td>350</td>\n      <td>245</td>\n      <td>系列207</td>\n      <td>產品207-35</td>\n      <td>2019-11-12T14:44:14</td>\n      <td>10176032</td>\n      <td>FEMALE</td>\n      <td>18.0</td>\n      <td>廣告_自然流量</td>\n      <td>無</td>\n    </tr>\n    <tr>\n      <th>353220</th>\n      <td>353220</td>\n      <td>NaN</td>\n      <td>350</td>\n      <td>245</td>\n      <td>系列207</td>\n      <td>產品207-35</td>\n      <td>2019-11-13T09:37:06</td>\n      <td>10225036</td>\n      <td>FEMALE</td>\n      <td>24.0</td>\n      <td>廣告_自然流量</td>\n      <td>無</td>\n    </tr>\n    <tr>\n      <th>353221</th>\n      <td>353221</td>\n      <td>NaN</td>\n      <td>350</td>\n      <td>245</td>\n      <td>系列207</td>\n      <td>產品207-35</td>\n      <td>2019-11-14T18:34:45</td>\n      <td>10225049</td>\n      <td>NaN</td>\n      <td>28.0</td>\n      <td>廣告_KBDG_MK</td>\n      <td>無</td>\n    </tr>\n    <tr>\n      <th>353222</th>\n      <td>353222</td>\n      <td>NaN</td>\n      <td>350</td>\n      <td>245</td>\n      <td>系列207</td>\n      <td>產品207-35</td>\n      <td>2019-11-14T18:34:45</td>\n      <td>10225049</td>\n      <td>NaN</td>\n      <td>28.0</td>\n      <td>廣告_KBDG_MK</td>\n      <td>無</td>\n    </tr>\n    <tr>\n      <th>353223</th>\n      <td>353223</td>\n      <td>NaN</td>\n      <td>350</td>\n      <td>245</td>\n      <td>系列207</td>\n      <td>產品207-35</td>\n      <td>2019-11-15T12:14:25</td>\n      <td>10224529</td>\n      <td>NaN</td>\n      <td>16.0</td>\n      <td>廣告_KBDG_MK</td>\n      <td>無</td>\n    </tr>\n  </tbody>\n</table>\n<p>353224 rows × 12 columns</p>\n</div>"
     },
     "metadata": {},
     "execution_count": 8
    }
   ],
   "source": [
    "data"
   ]
  },
  {
   "cell_type": "markdown",
   "metadata": {},
   "source": [
    "### 2. 取出「系列4」資料"
   ]
  },
  {
   "cell_type": "code",
   "execution_count": 10,
   "metadata": {},
   "outputs": [],
   "source": [
    "# 只留下需要的欄位\n",
    "data = data[['單價', '成本', '系列', '廣告代號all']]\n",
    "# 取系列4作分析\n",
    "data = data[data['系列']=='系列4']"
   ]
  },
  {
   "cell_type": "code",
   "execution_count": 11,
   "metadata": {},
   "outputs": [
    {
     "output_type": "execute_result",
     "data": {
      "text/plain": "        單價   成本   系列     廣告代號all\n0      391  240  系列4  廣告_YND_pid\n1      238  137  系列4  廣告_YND_pid\n2      434  253  系列4  廣告_YND_pid\n3      339  205  系列4  廣告_YND_pid\n4      382  223  系列4  廣告_YND_pid\n...    ...  ...  ...         ...\n11054  990  504  系列4  廣告_KBDG_MP\n11055  290   85  系列4  廣告_KBDG_MP\n11056  419  182  系列4  廣告_KBDG_MP\n11057  990  504  系列4  廣告_KBDG_MP\n11058  599  267  系列4  廣告_KBDG_MP\n\n[11059 rows x 4 columns]",
      "text/html": "<div>\n<style scoped>\n    .dataframe tbody tr th:only-of-type {\n        vertical-align: middle;\n    }\n\n    .dataframe tbody tr th {\n        vertical-align: top;\n    }\n\n    .dataframe thead th {\n        text-align: right;\n    }\n</style>\n<table border=\"1\" class=\"dataframe\">\n  <thead>\n    <tr style=\"text-align: right;\">\n      <th></th>\n      <th>單價</th>\n      <th>成本</th>\n      <th>系列</th>\n      <th>廣告代號all</th>\n    </tr>\n  </thead>\n  <tbody>\n    <tr>\n      <th>0</th>\n      <td>391</td>\n      <td>240</td>\n      <td>系列4</td>\n      <td>廣告_YND_pid</td>\n    </tr>\n    <tr>\n      <th>1</th>\n      <td>238</td>\n      <td>137</td>\n      <td>系列4</td>\n      <td>廣告_YND_pid</td>\n    </tr>\n    <tr>\n      <th>2</th>\n      <td>434</td>\n      <td>253</td>\n      <td>系列4</td>\n      <td>廣告_YND_pid</td>\n    </tr>\n    <tr>\n      <th>3</th>\n      <td>339</td>\n      <td>205</td>\n      <td>系列4</td>\n      <td>廣告_YND_pid</td>\n    </tr>\n    <tr>\n      <th>4</th>\n      <td>382</td>\n      <td>223</td>\n      <td>系列4</td>\n      <td>廣告_YND_pid</td>\n    </tr>\n    <tr>\n      <th>...</th>\n      <td>...</td>\n      <td>...</td>\n      <td>...</td>\n      <td>...</td>\n    </tr>\n    <tr>\n      <th>11054</th>\n      <td>990</td>\n      <td>504</td>\n      <td>系列4</td>\n      <td>廣告_KBDG_MP</td>\n    </tr>\n    <tr>\n      <th>11055</th>\n      <td>290</td>\n      <td>85</td>\n      <td>系列4</td>\n      <td>廣告_KBDG_MP</td>\n    </tr>\n    <tr>\n      <th>11056</th>\n      <td>419</td>\n      <td>182</td>\n      <td>系列4</td>\n      <td>廣告_KBDG_MP</td>\n    </tr>\n    <tr>\n      <th>11057</th>\n      <td>990</td>\n      <td>504</td>\n      <td>系列4</td>\n      <td>廣告_KBDG_MP</td>\n    </tr>\n    <tr>\n      <th>11058</th>\n      <td>599</td>\n      <td>267</td>\n      <td>系列4</td>\n      <td>廣告_KBDG_MP</td>\n    </tr>\n  </tbody>\n</table>\n<p>11059 rows × 4 columns</p>\n</div>"
     },
     "metadata": {},
     "execution_count": 11
    }
   ],
   "source": [
    "data"
   ]
  },
  {
   "cell_type": "markdown",
   "metadata": {},
   "source": [
    "## 二、重新整理廣告代碼"
   ]
  },
  {
   "cell_type": "markdown",
   "metadata": {},
   "source": [
    "### 1. 查看「B2K」系列廣告有幾種"
   ]
  },
  {
   "cell_type": "code",
   "execution_count": 12,
   "metadata": {
    "tags": []
   },
   "outputs": [
    {
     "output_type": "stream",
     "name": "stdout",
     "text": "['廣告_B2K_pid', '廣告_B2K_mqrukisleeve', '廣告_B2K_mqrukisleeve2', '廣告_B2K_MK', '廣告_B2K_ciccicqrtu', '廣告_B2K_mqrukitrqveltite', '廣告_B2K_ciccicqrtu2', '廣告_B2K_jqejqe', '廣告_B2K_cic2016']\n"
    }
   ],
   "source": [
    "example = []\n",
    "for i in data['廣告代號all']:\n",
    "    if '_B2K_' in i:\n",
    "        if i not in example:\n",
    "            example.append(i)\n",
    "print(example)   "
   ]
  },
  {
   "cell_type": "markdown",
   "metadata": {},
   "source": [
    "### 2. 將廣告種類歸納"
   ]
  },
  {
   "cell_type": "code",
   "execution_count": 13,
   "metadata": {},
   "outputs": [
    {
     "output_type": "execute_result",
     "data": {
      "text/plain": "['YND', 'YND', 'YND', 'YND', 'YND', 'YND', 'YND', '自然流量', '自然流量', '自然流量']"
     },
     "metadata": {},
     "execution_count": 13
    }
   ],
   "source": [
    "rep = []\n",
    "for i in range(0,data.shape[0]):\n",
    "    a = data['廣告代號all'][i].split('_')[1]\n",
    "    rep.append(a)\n",
    "# rep中前十筆資料\n",
    "rep[0:10]"
   ]
  },
  {
   "cell_type": "markdown",
   "metadata": {},
   "source": [
    "### 3. 將「rep」清單內容回傳至資料集「data」"
   ]
  },
  {
   "cell_type": "code",
   "execution_count": 14,
   "metadata": {},
   "outputs": [
    {
     "output_type": "execute_result",
     "data": {
      "text/plain": "        單價   成本   系列 廣告代號all\n0      391  240  系列4     YND\n1      238  137  系列4     YND\n2      434  253  系列4     YND\n3      339  205  系列4     YND\n4      382  223  系列4     YND\n...    ...  ...  ...     ...\n11054  990  504  系列4    KBDG\n11055  290   85  系列4    KBDG\n11056  419  182  系列4    KBDG\n11057  990  504  系列4    KBDG\n11058  599  267  系列4    KBDG\n\n[11059 rows x 4 columns]",
      "text/html": "<div>\n<style scoped>\n    .dataframe tbody tr th:only-of-type {\n        vertical-align: middle;\n    }\n\n    .dataframe tbody tr th {\n        vertical-align: top;\n    }\n\n    .dataframe thead th {\n        text-align: right;\n    }\n</style>\n<table border=\"1\" class=\"dataframe\">\n  <thead>\n    <tr style=\"text-align: right;\">\n      <th></th>\n      <th>單價</th>\n      <th>成本</th>\n      <th>系列</th>\n      <th>廣告代號all</th>\n    </tr>\n  </thead>\n  <tbody>\n    <tr>\n      <th>0</th>\n      <td>391</td>\n      <td>240</td>\n      <td>系列4</td>\n      <td>YND</td>\n    </tr>\n    <tr>\n      <th>1</th>\n      <td>238</td>\n      <td>137</td>\n      <td>系列4</td>\n      <td>YND</td>\n    </tr>\n    <tr>\n      <th>2</th>\n      <td>434</td>\n      <td>253</td>\n      <td>系列4</td>\n      <td>YND</td>\n    </tr>\n    <tr>\n      <th>3</th>\n      <td>339</td>\n      <td>205</td>\n      <td>系列4</td>\n      <td>YND</td>\n    </tr>\n    <tr>\n      <th>4</th>\n      <td>382</td>\n      <td>223</td>\n      <td>系列4</td>\n      <td>YND</td>\n    </tr>\n    <tr>\n      <th>...</th>\n      <td>...</td>\n      <td>...</td>\n      <td>...</td>\n      <td>...</td>\n    </tr>\n    <tr>\n      <th>11054</th>\n      <td>990</td>\n      <td>504</td>\n      <td>系列4</td>\n      <td>KBDG</td>\n    </tr>\n    <tr>\n      <th>11055</th>\n      <td>290</td>\n      <td>85</td>\n      <td>系列4</td>\n      <td>KBDG</td>\n    </tr>\n    <tr>\n      <th>11056</th>\n      <td>419</td>\n      <td>182</td>\n      <td>系列4</td>\n      <td>KBDG</td>\n    </tr>\n    <tr>\n      <th>11057</th>\n      <td>990</td>\n      <td>504</td>\n      <td>系列4</td>\n      <td>KBDG</td>\n    </tr>\n    <tr>\n      <th>11058</th>\n      <td>599</td>\n      <td>267</td>\n      <td>系列4</td>\n      <td>KBDG</td>\n    </tr>\n  </tbody>\n</table>\n<p>11059 rows × 4 columns</p>\n</div>"
     },
     "metadata": {},
     "execution_count": 14
    }
   ],
   "source": [
    "data['廣告代號all']=rep\n",
    "data"
   ]
  },
  {
   "cell_type": "markdown",
   "metadata": {},
   "source": [
    "## 三、取出樣本數前三大廣告"
   ]
  },
  {
   "cell_type": "markdown",
   "metadata": {},
   "source": [
    "### 1. 查看共有幾系列廣告"
   ]
  },
  {
   "cell_type": "code",
   "execution_count": 15,
   "metadata": {},
   "outputs": [
    {
     "output_type": "execute_result",
     "data": {
      "text/plain": "36"
     },
     "metadata": {},
     "execution_count": 15
    }
   ],
   "source": [
    "len(data['廣告代號all'].unique())"
   ]
  },
  {
   "cell_type": "markdown",
   "metadata": {},
   "source": [
    "### 2. 計算每系列廣告的使用頻率 "
   ]
  },
  {
   "cell_type": "code",
   "execution_count": 16,
   "metadata": {},
   "outputs": [
    {
     "output_type": "execute_result",
     "data": {
      "text/plain": "Counter({'YND': 52,\n         '自然流量': 3780,\n         'ikip': 652,\n         'B2K': 452,\n         'critei': 1285,\n         'qdwit': 896,\n         'qpw': 5,\n         'KDPOD': 937,\n         'B2KPOD': 23,\n         'KDMK': 320,\n         'cridgewell': 6,\n         'pic': 5,\n         'B2KMK': 10,\n         'KDP': 1793,\n         'GINEP': 154,\n         'edmP': 128,\n         'edmM': 4,\n         'B2KP': 57,\n         'KDPM': 140,\n         'KDM': 2,\n         'GINEM': 13,\n         'B2KM': 1,\n         'edmD': 1,\n         'edm': 2,\n         'KDMP': 29,\n         'edmMK': 20,\n         'B2KMP': 1,\n         'edmMP': 26,\n         'GINEMK': 24,\n         'GINEMP': 22,\n         'B2KDG': 21,\n         'KBP': 31,\n         'KBMP': 1,\n         'IGP': 20,\n         'KBDG': 145,\n         'IGDG': 1})"
     },
     "metadata": {},
     "execution_count": 16
    }
   ],
   "source": [
    "from collections import Counter\n",
    "count_list = Counter(data['廣告代號all'])\n",
    "count_list"
   ]
  },
  {
   "cell_type": "markdown",
   "metadata": {},
   "source": [
    "### 3. 將「count_list」轉為dataframe格式"
   ]
  },
  {
   "cell_type": "code",
   "execution_count": 17,
   "metadata": {},
   "outputs": [],
   "source": [
    "count_list=pd.DataFrame.from_dict(count_list,orient='index').reset_index()\n",
    "count_list=count_list.rename(columns = {'index' : '廣告名稱', 0: '樣本數'})"
   ]
  },
  {
   "cell_type": "code",
   "execution_count": 18,
   "metadata": {},
   "outputs": [
    {
     "output_type": "execute_result",
     "data": {
      "text/plain": "          廣告名稱   樣本數\n0          YND    52\n1         自然流量  3780\n2         ikip   652\n3          B2K   452\n4       critei  1285\n5        qdwit   896\n6          qpw     5\n7        KDPOD   937\n8       B2KPOD    23\n9         KDMK   320\n10  cridgewell     6\n11         pic     5\n12       B2KMK    10\n13         KDP  1793\n14       GINEP   154\n15        edmP   128\n16        edmM     4\n17        B2KP    57\n18        KDPM   140\n19         KDM     2\n20       GINEM    13\n21        B2KM     1\n22        edmD     1\n23         edm     2\n24        KDMP    29\n25       edmMK    20\n26       B2KMP     1\n27       edmMP    26\n28      GINEMK    24\n29      GINEMP    22\n30       B2KDG    21\n31         KBP    31\n32        KBMP     1\n33         IGP    20\n34        KBDG   145\n35        IGDG     1",
      "text/html": "<div>\n<style scoped>\n    .dataframe tbody tr th:only-of-type {\n        vertical-align: middle;\n    }\n\n    .dataframe tbody tr th {\n        vertical-align: top;\n    }\n\n    .dataframe thead th {\n        text-align: right;\n    }\n</style>\n<table border=\"1\" class=\"dataframe\">\n  <thead>\n    <tr style=\"text-align: right;\">\n      <th></th>\n      <th>廣告名稱</th>\n      <th>樣本數</th>\n    </tr>\n  </thead>\n  <tbody>\n    <tr>\n      <th>0</th>\n      <td>YND</td>\n      <td>52</td>\n    </tr>\n    <tr>\n      <th>1</th>\n      <td>自然流量</td>\n      <td>3780</td>\n    </tr>\n    <tr>\n      <th>2</th>\n      <td>ikip</td>\n      <td>652</td>\n    </tr>\n    <tr>\n      <th>3</th>\n      <td>B2K</td>\n      <td>452</td>\n    </tr>\n    <tr>\n      <th>4</th>\n      <td>critei</td>\n      <td>1285</td>\n    </tr>\n    <tr>\n      <th>5</th>\n      <td>qdwit</td>\n      <td>896</td>\n    </tr>\n    <tr>\n      <th>6</th>\n      <td>qpw</td>\n      <td>5</td>\n    </tr>\n    <tr>\n      <th>7</th>\n      <td>KDPOD</td>\n      <td>937</td>\n    </tr>\n    <tr>\n      <th>8</th>\n      <td>B2KPOD</td>\n      <td>23</td>\n    </tr>\n    <tr>\n      <th>9</th>\n      <td>KDMK</td>\n      <td>320</td>\n    </tr>\n    <tr>\n      <th>10</th>\n      <td>cridgewell</td>\n      <td>6</td>\n    </tr>\n    <tr>\n      <th>11</th>\n      <td>pic</td>\n      <td>5</td>\n    </tr>\n    <tr>\n      <th>12</th>\n      <td>B2KMK</td>\n      <td>10</td>\n    </tr>\n    <tr>\n      <th>13</th>\n      <td>KDP</td>\n      <td>1793</td>\n    </tr>\n    <tr>\n      <th>14</th>\n      <td>GINEP</td>\n      <td>154</td>\n    </tr>\n    <tr>\n      <th>15</th>\n      <td>edmP</td>\n      <td>128</td>\n    </tr>\n    <tr>\n      <th>16</th>\n      <td>edmM</td>\n      <td>4</td>\n    </tr>\n    <tr>\n      <th>17</th>\n      <td>B2KP</td>\n      <td>57</td>\n    </tr>\n    <tr>\n      <th>18</th>\n      <td>KDPM</td>\n      <td>140</td>\n    </tr>\n    <tr>\n      <th>19</th>\n      <td>KDM</td>\n      <td>2</td>\n    </tr>\n    <tr>\n      <th>20</th>\n      <td>GINEM</td>\n      <td>13</td>\n    </tr>\n    <tr>\n      <th>21</th>\n      <td>B2KM</td>\n      <td>1</td>\n    </tr>\n    <tr>\n      <th>22</th>\n      <td>edmD</td>\n      <td>1</td>\n    </tr>\n    <tr>\n      <th>23</th>\n      <td>edm</td>\n      <td>2</td>\n    </tr>\n    <tr>\n      <th>24</th>\n      <td>KDMP</td>\n      <td>29</td>\n    </tr>\n    <tr>\n      <th>25</th>\n      <td>edmMK</td>\n      <td>20</td>\n    </tr>\n    <tr>\n      <th>26</th>\n      <td>B2KMP</td>\n      <td>1</td>\n    </tr>\n    <tr>\n      <th>27</th>\n      <td>edmMP</td>\n      <td>26</td>\n    </tr>\n    <tr>\n      <th>28</th>\n      <td>GINEMK</td>\n      <td>24</td>\n    </tr>\n    <tr>\n      <th>29</th>\n      <td>GINEMP</td>\n      <td>22</td>\n    </tr>\n    <tr>\n      <th>30</th>\n      <td>B2KDG</td>\n      <td>21</td>\n    </tr>\n    <tr>\n      <th>31</th>\n      <td>KBP</td>\n      <td>31</td>\n    </tr>\n    <tr>\n      <th>32</th>\n      <td>KBMP</td>\n      <td>1</td>\n    </tr>\n    <tr>\n      <th>33</th>\n      <td>IGP</td>\n      <td>20</td>\n    </tr>\n    <tr>\n      <th>34</th>\n      <td>KBDG</td>\n      <td>145</td>\n    </tr>\n    <tr>\n      <th>35</th>\n      <td>IGDG</td>\n      <td>1</td>\n    </tr>\n  </tbody>\n</table>\n</div>"
     },
     "metadata": {},
     "execution_count": 18
    }
   ],
   "source": [
    "count_list"
   ]
  },
  {
   "cell_type": "markdown",
   "metadata": {},
   "source": [
    "### 4. 取出使用頻率第三之數字"
   ]
  },
  {
   "cell_type": "code",
   "execution_count": 19,
   "metadata": {},
   "outputs": [
    {
     "output_type": "execute_result",
     "data": {
      "text/plain": "1285"
     },
     "metadata": {},
     "execution_count": 19
    }
   ],
   "source": [
    "import heapq\n",
    "good_number = heapq.nlargest(3,list(count_list['樣本數']))[2]\n",
    "good_number"
   ]
  },
  {
   "cell_type": "markdown",
   "metadata": {},
   "source": [
    "### 5. 選出樣本數不小於第三名的廣告(前三名廣告)"
   ]
  },
  {
   "cell_type": "code",
   "execution_count": 21,
   "metadata": {},
   "outputs": [
    {
     "output_type": "execute_result",
     "data": {
      "text/plain": "      廣告名稱   樣本數\n1     自然流量  3780\n4   critei  1285\n13     KDP  1793",
      "text/html": "<div>\n<style scoped>\n    .dataframe tbody tr th:only-of-type {\n        vertical-align: middle;\n    }\n\n    .dataframe tbody tr th {\n        vertical-align: top;\n    }\n\n    .dataframe thead th {\n        text-align: right;\n    }\n</style>\n<table border=\"1\" class=\"dataframe\">\n  <thead>\n    <tr style=\"text-align: right;\">\n      <th></th>\n      <th>廣告名稱</th>\n      <th>樣本數</th>\n    </tr>\n  </thead>\n  <tbody>\n    <tr>\n      <th>1</th>\n      <td>自然流量</td>\n      <td>3780</td>\n    </tr>\n    <tr>\n      <th>4</th>\n      <td>critei</td>\n      <td>1285</td>\n    </tr>\n    <tr>\n      <th>13</th>\n      <td>KDP</td>\n      <td>1793</td>\n    </tr>\n  </tbody>\n</table>\n</div>"
     },
     "metadata": {},
     "execution_count": 21
    }
   ],
   "source": [
    "good_list = count_list[count_list['樣本數'] >= good_number]\n",
    "good_list"
   ]
  },
  {
   "cell_type": "markdown",
   "metadata": {},
   "source": [
    "### 6. 整理出有前三大廣告的廣告資料"
   ]
  },
  {
   "cell_type": "code",
   "execution_count": 22,
   "metadata": {},
   "outputs": [],
   "source": [
    "data = pd.concat([data[data['廣告代號all']==good_list.iloc[0,0]],\n",
    "       data[data['廣告代號all']==good_list.iloc[1,0]],\n",
    "       data[data['廣告代號all']==good_list.iloc[2,0]]],\n",
    "ignore_index=True)"
   ]
  },
  {
   "cell_type": "code",
   "execution_count": 23,
   "metadata": {},
   "outputs": [
    {
     "output_type": "execute_result",
     "data": {
      "text/plain": "       單價   成本   系列 廣告代號all\n0     635  490  系列4    自然流量\n1     434  253  系列4    自然流量\n2     635  490  系列4    自然流量\n3     562  424  系列4    自然流量\n4     276  194  系列4    自然流量\n...   ...  ...  ...     ...\n6853  599  274  系列4     KDP\n6854  590  413  系列4     KDP\n6855  645  233  系列4     KDP\n6856  537  233  系列4     KDP\n6857  690  281  系列4     KDP\n\n[6858 rows x 4 columns]",
      "text/html": "<div>\n<style scoped>\n    .dataframe tbody tr th:only-of-type {\n        vertical-align: middle;\n    }\n\n    .dataframe tbody tr th {\n        vertical-align: top;\n    }\n\n    .dataframe thead th {\n        text-align: right;\n    }\n</style>\n<table border=\"1\" class=\"dataframe\">\n  <thead>\n    <tr style=\"text-align: right;\">\n      <th></th>\n      <th>單價</th>\n      <th>成本</th>\n      <th>系列</th>\n      <th>廣告代號all</th>\n    </tr>\n  </thead>\n  <tbody>\n    <tr>\n      <th>0</th>\n      <td>635</td>\n      <td>490</td>\n      <td>系列4</td>\n      <td>自然流量</td>\n    </tr>\n    <tr>\n      <th>1</th>\n      <td>434</td>\n      <td>253</td>\n      <td>系列4</td>\n      <td>自然流量</td>\n    </tr>\n    <tr>\n      <th>2</th>\n      <td>635</td>\n      <td>490</td>\n      <td>系列4</td>\n      <td>自然流量</td>\n    </tr>\n    <tr>\n      <th>3</th>\n      <td>562</td>\n      <td>424</td>\n      <td>系列4</td>\n      <td>自然流量</td>\n    </tr>\n    <tr>\n      <th>4</th>\n      <td>276</td>\n      <td>194</td>\n      <td>系列4</td>\n      <td>自然流量</td>\n    </tr>\n    <tr>\n      <th>...</th>\n      <td>...</td>\n      <td>...</td>\n      <td>...</td>\n      <td>...</td>\n    </tr>\n    <tr>\n      <th>6853</th>\n      <td>599</td>\n      <td>274</td>\n      <td>系列4</td>\n      <td>KDP</td>\n    </tr>\n    <tr>\n      <th>6854</th>\n      <td>590</td>\n      <td>413</td>\n      <td>系列4</td>\n      <td>KDP</td>\n    </tr>\n    <tr>\n      <th>6855</th>\n      <td>645</td>\n      <td>233</td>\n      <td>系列4</td>\n      <td>KDP</td>\n    </tr>\n    <tr>\n      <th>6856</th>\n      <td>537</td>\n      <td>233</td>\n      <td>系列4</td>\n      <td>KDP</td>\n    </tr>\n    <tr>\n      <th>6857</th>\n      <td>690</td>\n      <td>281</td>\n      <td>系列4</td>\n      <td>KDP</td>\n    </tr>\n  </tbody>\n</table>\n<p>6858 rows × 4 columns</p>\n</div>"
     },
     "metadata": {},
     "execution_count": 23
    }
   ],
   "source": [
    "data"
   ]
  },
  {
   "cell_type": "markdown",
   "metadata": {},
   "source": [
    "## 四、計算利潤"
   ]
  },
  {
   "cell_type": "markdown",
   "metadata": {},
   "source": [
    "### 1. 去除不必要欄位"
   ]
  },
  {
   "cell_type": "code",
   "execution_count": 24,
   "metadata": {},
   "outputs": [
    {
     "output_type": "execute_result",
     "data": {
      "text/plain": "     廣告代號all   利潤\n0       自然流量  145\n1       自然流量  181\n2       自然流量  145\n3       自然流量  138\n4       自然流量   82\n...      ...  ...\n6853     KDP  325\n6854     KDP  177\n6855     KDP  412\n6856     KDP  304\n6857     KDP  409\n\n[6858 rows x 2 columns]",
      "text/html": "<div>\n<style scoped>\n    .dataframe tbody tr th:only-of-type {\n        vertical-align: middle;\n    }\n\n    .dataframe tbody tr th {\n        vertical-align: top;\n    }\n\n    .dataframe thead th {\n        text-align: right;\n    }\n</style>\n<table border=\"1\" class=\"dataframe\">\n  <thead>\n    <tr style=\"text-align: right;\">\n      <th></th>\n      <th>廣告代號all</th>\n      <th>利潤</th>\n    </tr>\n  </thead>\n  <tbody>\n    <tr>\n      <th>0</th>\n      <td>自然流量</td>\n      <td>145</td>\n    </tr>\n    <tr>\n      <th>1</th>\n      <td>自然流量</td>\n      <td>181</td>\n    </tr>\n    <tr>\n      <th>2</th>\n      <td>自然流量</td>\n      <td>145</td>\n    </tr>\n    <tr>\n      <th>3</th>\n      <td>自然流量</td>\n      <td>138</td>\n    </tr>\n    <tr>\n      <th>4</th>\n      <td>自然流量</td>\n      <td>82</td>\n    </tr>\n    <tr>\n      <th>...</th>\n      <td>...</td>\n      <td>...</td>\n    </tr>\n    <tr>\n      <th>6853</th>\n      <td>KDP</td>\n      <td>325</td>\n    </tr>\n    <tr>\n      <th>6854</th>\n      <td>KDP</td>\n      <td>177</td>\n    </tr>\n    <tr>\n      <th>6855</th>\n      <td>KDP</td>\n      <td>412</td>\n    </tr>\n    <tr>\n      <th>6856</th>\n      <td>KDP</td>\n      <td>304</td>\n    </tr>\n    <tr>\n      <th>6857</th>\n      <td>KDP</td>\n      <td>409</td>\n    </tr>\n  </tbody>\n</table>\n<p>6858 rows × 2 columns</p>\n</div>"
     },
     "metadata": {},
     "execution_count": 24
    }
   ],
   "source": [
    "data['利潤'] = data['單價'] - data['成本']\n",
    "data = data.drop(['單價', '成本', '系列'], axis=1)\n",
    "data"
   ]
  }
 ]
}