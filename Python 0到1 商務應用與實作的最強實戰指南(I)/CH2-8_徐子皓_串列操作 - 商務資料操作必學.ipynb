{
 "metadata": {
  "language_info": {
   "codemirror_mode": {
    "name": "ipython",
    "version": 3
   },
   "file_extension": ".py",
   "mimetype": "text/x-python",
   "name": "python",
   "nbconvert_exporter": "python",
   "pygments_lexer": "ipython3",
   "version": "3.6.6-final"
  },
  "orig_nbformat": 2,
  "kernelspec": {
   "name": "python36664bitwinconda9a56a0034b864710b2b4e2286a5ce8fc",
   "display_name": "Python 3.6.6 64-bit ('win': conda)"
  }
 },
 "nbformat": 4,
 "nbformat_minor": 2,
 "cells": [
  {
   "source": [
    "# 串列操作 - 商務資料操作必學"
   ],
   "cell_type": "markdown",
   "metadata": {}
  },
  {
   "source": [
    "#### 作者：徐子皓(臺灣行銷研究特邀作者)\n",
    "#### 完整文章介紹鏈接：https://reurl.cc/od7vn5"
   ],
   "cell_type": "markdown",
   "metadata": {}
  },
  {
   "source": [
    "## 一、串列基礎操作"
   ],
   "cell_type": "markdown",
   "metadata": {}
  },
  {
   "source": [
    "### 1. 創建一個串列"
   ],
   "cell_type": "markdown",
   "metadata": {}
  },
  {
   "cell_type": "code",
   "execution_count": 2,
   "metadata": {},
   "outputs": [
    {
     "output_type": "execute_result",
     "data": {
      "text/plain": "[1, 2, 3, 4, 5]"
     },
     "metadata": {},
     "execution_count": 2
    }
   ],
   "source": [
    "a=[1,2,3,4,5]\n",
    "a"
   ]
  },
  {
   "source": [
    "### 2. 取串列內特定編號的值"
   ],
   "cell_type": "markdown",
   "metadata": {}
  },
  {
   "source": [
    "a[3]"
   ],
   "cell_type": "code",
   "metadata": {},
   "execution_count": 3,
   "outputs": [
    {
     "output_type": "execute_result",
     "data": {
      "text/plain": "4"
     },
     "metadata": {},
     "execution_count": 3
    }
   ]
  },
  {
   "source": [
    "### 3. 計算串列內含有多少數值 "
   ],
   "cell_type": "markdown",
   "metadata": {}
  },
  {
   "cell_type": "code",
   "execution_count": 4,
   "metadata": {
    "tags": []
   },
   "outputs": [
    {
     "output_type": "stream",
     "name": "stdout",
     "text": "5\n"
    }
   ],
   "source": [
    "print(len(a))"
   ]
  },
  {
   "source": [
    "## 二、串列資料的新增與移除"
   ],
   "cell_type": "markdown",
   "metadata": {}
  },
  {
   "source": [
    "### 1. 除去串列內最後一個數值"
   ],
   "cell_type": "markdown",
   "metadata": {}
  },
  {
   "cell_type": "code",
   "execution_count": 5,
   "metadata": {},
   "outputs": [
    {
     "output_type": "execute_result",
     "data": {
      "text/plain": "[1, 2, 3, 4]"
     },
     "metadata": {},
     "execution_count": 5
    }
   ],
   "source": [
    "a.pop()\n",
    "a"
   ]
  },
  {
   "source": [
    "### 2. 在串列最後方新增數字"
   ],
   "cell_type": "markdown",
   "metadata": {}
  },
  {
   "cell_type": "code",
   "execution_count": 6,
   "metadata": {},
   "outputs": [
    {
     "output_type": "execute_result",
     "data": {
      "text/plain": "[1, 2, 3, 4, 1]"
     },
     "metadata": {},
     "execution_count": 6
    }
   ],
   "source": [
    "a.append(1)\n",
    "a"
   ]
  },
  {
   "source": [
    "### 3. 移除串列內特定數字"
   ],
   "cell_type": "markdown",
   "metadata": {}
  },
  {
   "cell_type": "code",
   "execution_count": 8,
   "metadata": {},
   "outputs": [
    {
     "output_type": "execute_result",
     "data": {
      "text/plain": "[1, 3, 4, 1]"
     },
     "metadata": {},
     "execution_count": 8
    }
   ],
   "source": [
    "a.remove(2)\n",
    "a"
   ]
  },
  {
   "source": [
    "## 三、串列的排序"
   ],
   "cell_type": "markdown",
   "metadata": {}
  },
  {
   "source": [
    "### 1. 將串列遞增排序"
   ],
   "cell_type": "markdown",
   "metadata": {}
  },
  {
   "cell_type": "code",
   "execution_count": 9,
   "metadata": {},
   "outputs": [
    {
     "output_type": "execute_result",
     "data": {
      "text/plain": "[1, 1, 3, 4]"
     },
     "metadata": {},
     "execution_count": 9
    }
   ],
   "source": [
    "a.sort()\n",
    "a"
   ]
  },
  {
   "source": [
    "### 2. 將串列遞減排序"
   ],
   "cell_type": "markdown",
   "metadata": {}
  },
  {
   "cell_type": "code",
   "execution_count": 10,
   "metadata": {},
   "outputs": [
    {
     "output_type": "execute_result",
     "data": {
      "text/plain": "[4, 3, 1, 1]"
     },
     "metadata": {},
     "execution_count": 10
    }
   ],
   "source": [
    "a.reverse()\n",
    "a"
   ]
  }
 ]
}
