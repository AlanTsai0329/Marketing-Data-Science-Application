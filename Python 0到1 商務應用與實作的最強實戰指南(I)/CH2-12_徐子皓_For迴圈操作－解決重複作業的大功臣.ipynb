{
 "metadata": {
  "language_info": {
   "codemirror_mode": {
    "name": "ipython",
    "version": 3
   },
   "file_extension": ".py",
   "mimetype": "text/x-python",
   "name": "python",
   "nbconvert_exporter": "python",
   "pygments_lexer": "ipython3",
   "version": "3.6.6-final"
  },
  "orig_nbformat": 2,
  "kernelspec": {
   "name": "python36664bitwinconda9a56a0034b864710b2b4e2286a5ce8fc",
   "display_name": "Python 3.6.6 64-bit ('win': conda)"
  }
 },
 "nbformat": 4,
 "nbformat_minor": 2,
 "cells": [
  {
   "source": [
    "# For迴圈操作－解決重複作業的大功臣"
   ],
   "cell_type": "markdown",
   "metadata": {}
  },
  {
   "source": [
    "#### 作者：徐子皓(臺灣行銷研究特邀作者)\n",
    "#### 完整文章介紹鏈接："
   ],
   "cell_type": "markdown",
   "metadata": {}
  },
  {
   "source": [
    "## 一、for迴圈運作原理"
   ],
   "cell_type": "markdown",
   "metadata": {}
  },
  {
   "cell_type": "code",
   "execution_count": 1,
   "metadata": {
    "tags": []
   },
   "outputs": [
    {
     "output_type": "stream",
     "name": "stdout",
     "text": "A\nB\nC\n"
    }
   ],
   "source": [
    "a = ['A','B','C']\n",
    "for i in a:\n",
    "    print(i)"
   ]
  },
  {
   "source": [
    "## 二、for迴圈基礎應用－設定range"
   ],
   "cell_type": "markdown",
   "metadata": {}
  },
  {
   "source": [
    "### 1. 依序列印出1~5"
   ],
   "cell_type": "markdown",
   "metadata": {}
  },
  {
   "cell_type": "code",
   "execution_count": 2,
   "metadata": {
    "tags": []
   },
   "outputs": [
    {
     "output_type": "stream",
     "name": "stdout",
     "text": "1\n2\n3\n4\n5\n"
    }
   ],
   "source": [
    "for i in range(1,6,1):\n",
    "    print(i)"
   ]
  },
  {
   "source": [
    "### 2. 依序列出5~1"
   ],
   "cell_type": "markdown",
   "metadata": {}
  },
  {
   "cell_type": "code",
   "execution_count": 3,
   "metadata": {
    "tags": []
   },
   "outputs": [
    {
     "output_type": "stream",
     "name": "stdout",
     "text": "5\n4\n3\n2\n1\n"
    }
   ],
   "source": [
    "for i in range(5,0,-1):\n",
    "    print(i)"
   ]
  },
  {
   "source": [
    "### 3. 計算出數字累加和"
   ],
   "cell_type": "markdown",
   "metadata": {}
  },
  {
   "cell_type": "code",
   "execution_count": 5,
   "metadata": {
    "tags": []
   },
   "outputs": [
    {
     "output_type": "stream",
     "name": "stdout",
     "text": "1\n3\n6\n10\n15\n"
    }
   ],
   "source": [
    "count = 0\n",
    "for i in range(1,6,1):\n",
    "    count += i\n",
    "    print(count)"
   ]
  },
  {
   "source": [
    "## 三、for迴圈進階運用－尋找特定內容"
   ],
   "cell_type": "markdown",
   "metadata": {}
  },
  {
   "cell_type": "code",
   "execution_count": 6,
   "metadata": {
    "tags": []
   },
   "outputs": [
    {
     "output_type": "stream",
     "name": "stdout",
     "text": "今日頭條新聞，TMR公司開設行銷資料科學專班\nTMR課程好\n"
    }
   ],
   "source": [
    "tmrlist=['今日頭條新聞，TMR公司開設行銷資料科學專班', '好棒棒', 'TMR課程好']\n",
    "for i in tmrlist:\n",
    "    if 'TMR' in i:\n",
    "        print(i)"
   ]
  }
 ]
}