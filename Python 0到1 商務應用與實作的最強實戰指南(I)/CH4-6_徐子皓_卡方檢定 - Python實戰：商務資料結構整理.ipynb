{
 "metadata": {
  "language_info": {
   "codemirror_mode": {
    "name": "ipython",
    "version": 3
   },
   "file_extension": ".py",
   "mimetype": "text/x-python",
   "name": "python",
   "nbconvert_exporter": "python",
   "pygments_lexer": "ipython3",
   "version": "3.6.6-final"
  },
  "orig_nbformat": 2,
  "kernelspec": {
   "name": "python_defaultSpec_1601113534180",
   "display_name": "Python 3.6.6 64-bit ('win': conda)"
  }
 },
 "nbformat": 4,
 "nbformat_minor": 2,
 "cells": [
  {
   "source": [
    "#  卡方檢定 - Python實戰：商務資料結構整理"
   ],
   "cell_type": "markdown",
   "metadata": {}
  },
  {
   "source": [
    "#### 作者：徐子皓(臺灣行銷研究特邀作者)\n",
    "#### 完整文章介紹鏈接：https://medium.com/p/47945d4a11a8/"
   ],
   "cell_type": "markdown",
   "metadata": {}
  },
  {
   "source": [
    "## 一、讀取資料"
   ],
   "cell_type": "markdown",
   "metadata": {}
  },
  {
   "source": [
    "### 1. 讀取原始資料"
   ],
   "cell_type": "markdown",
   "metadata": {}
  },
  {
   "cell_type": "code",
   "execution_count": 3,
   "metadata": {},
   "outputs": [
    {
     "output_type": "execute_result",
     "data": {
      "text/plain": "   Unnamed: 0   產品   廣告      性別                 訂單時間        會員 尺寸  \\\n0           0  產品4  廣告1  FEMALE  2016-01-01T03:19:35  10052013  無   \n1           1  產品4  廣告2  FEMALE  2016-01-01T03:19:35  10052013  無   \n2           2  產品4  廣告3  FEMALE  2016-01-01T03:19:35  10052013  S   \n3           3  產品4  廣告4  FEMALE  2016-01-01T03:19:35  10052013  無   \n4           4  產品4  廣告3  FEMALE  2016-01-01T03:19:35  10052013  S   \n5           5  產品4  廣告3  FEMALE  2016-01-01T03:19:35  10052013  S   \n\n              顏色  \n0            NaN  \n1            NaN  \n2  watermelonred  \n3            NaN  \n4          white  \n5       navyblue  ",
      "text/html": "<div>\n<style scoped>\n    .dataframe tbody tr th:only-of-type {\n        vertical-align: middle;\n    }\n\n    .dataframe tbody tr th {\n        vertical-align: top;\n    }\n\n    .dataframe thead th {\n        text-align: right;\n    }\n</style>\n<table border=\"1\" class=\"dataframe\">\n  <thead>\n    <tr style=\"text-align: right;\">\n      <th></th>\n      <th>Unnamed: 0</th>\n      <th>產品</th>\n      <th>廣告</th>\n      <th>性別</th>\n      <th>訂單時間</th>\n      <th>會員</th>\n      <th>尺寸</th>\n      <th>顏色</th>\n    </tr>\n  </thead>\n  <tbody>\n    <tr>\n      <th>0</th>\n      <td>0</td>\n      <td>產品4</td>\n      <td>廣告1</td>\n      <td>FEMALE</td>\n      <td>2016-01-01T03:19:35</td>\n      <td>10052013</td>\n      <td>無</td>\n      <td>NaN</td>\n    </tr>\n    <tr>\n      <th>1</th>\n      <td>1</td>\n      <td>產品4</td>\n      <td>廣告2</td>\n      <td>FEMALE</td>\n      <td>2016-01-01T03:19:35</td>\n      <td>10052013</td>\n      <td>無</td>\n      <td>NaN</td>\n    </tr>\n    <tr>\n      <th>2</th>\n      <td>2</td>\n      <td>產品4</td>\n      <td>廣告3</td>\n      <td>FEMALE</td>\n      <td>2016-01-01T03:19:35</td>\n      <td>10052013</td>\n      <td>S</td>\n      <td>watermelonred</td>\n    </tr>\n    <tr>\n      <th>3</th>\n      <td>3</td>\n      <td>產品4</td>\n      <td>廣告4</td>\n      <td>FEMALE</td>\n      <td>2016-01-01T03:19:35</td>\n      <td>10052013</td>\n      <td>無</td>\n      <td>NaN</td>\n    </tr>\n    <tr>\n      <th>4</th>\n      <td>4</td>\n      <td>產品4</td>\n      <td>廣告3</td>\n      <td>FEMALE</td>\n      <td>2016-01-01T03:19:35</td>\n      <td>10052013</td>\n      <td>S</td>\n      <td>white</td>\n    </tr>\n    <tr>\n      <th>5</th>\n      <td>5</td>\n      <td>產品4</td>\n      <td>廣告3</td>\n      <td>FEMALE</td>\n      <td>2016-01-01T03:19:35</td>\n      <td>10052013</td>\n      <td>S</td>\n      <td>navyblue</td>\n    </tr>\n  </tbody>\n</table>\n</div>"
     },
     "metadata": {},
     "execution_count": 3
    }
   ],
   "source": [
    "import pandas as pd\n",
    "data = pd.read_csv('chisquare.csv', encoding = 'big5')\n",
    "data.head(6)"
   ]
  },
  {
   "source": [
    "### 2. 選取「產品1」的資料"
   ],
   "cell_type": "markdown",
   "metadata": {}
  },
  {
   "cell_type": "code",
   "execution_count": 5,
   "metadata": {},
   "outputs": [
    {
     "output_type": "execute_result",
     "data": {
      "text/plain": "       Unnamed: 0   產品    廣告      性別                 訂單時間        會員 尺寸  \\\n74181       74181  產品1  廣告11  FEMALE  2016-01-02T14:16:32     11734  L   \n74182       74182  產品1  廣告11  FEMALE  2016-01-02T14:16:32     11734  L   \n74183       74183  產品1  廣告12  FEMALE  2016-01-03T12:25:18  10012645  M   \n74184       74184  產品1  廣告12  FEMALE  2016-01-03T12:25:18  10012645  M   \n74185       74185  產品1  廣告13  FEMALE  2016-01-03T12:25:18  10012645  L   \n74186       74186  產品1   廣告1    MALE  2016-01-04T09:04:25  10052301  無   \n\n                  顏色  \n74181   whitetrigray  \n74182   trigrayblack  \n74183  watermelonred  \n74184       jeanblue  \n74185       navyblue  \n74186            NaN  ",
      "text/html": "<div>\n<style scoped>\n    .dataframe tbody tr th:only-of-type {\n        vertical-align: middle;\n    }\n\n    .dataframe tbody tr th {\n        vertical-align: top;\n    }\n\n    .dataframe thead th {\n        text-align: right;\n    }\n</style>\n<table border=\"1\" class=\"dataframe\">\n  <thead>\n    <tr style=\"text-align: right;\">\n      <th></th>\n      <th>Unnamed: 0</th>\n      <th>產品</th>\n      <th>廣告</th>\n      <th>性別</th>\n      <th>訂單時間</th>\n      <th>會員</th>\n      <th>尺寸</th>\n      <th>顏色</th>\n    </tr>\n  </thead>\n  <tbody>\n    <tr>\n      <th>74181</th>\n      <td>74181</td>\n      <td>產品1</td>\n      <td>廣告11</td>\n      <td>FEMALE</td>\n      <td>2016-01-02T14:16:32</td>\n      <td>11734</td>\n      <td>L</td>\n      <td>whitetrigray</td>\n    </tr>\n    <tr>\n      <th>74182</th>\n      <td>74182</td>\n      <td>產品1</td>\n      <td>廣告11</td>\n      <td>FEMALE</td>\n      <td>2016-01-02T14:16:32</td>\n      <td>11734</td>\n      <td>L</td>\n      <td>trigrayblack</td>\n    </tr>\n    <tr>\n      <th>74183</th>\n      <td>74183</td>\n      <td>產品1</td>\n      <td>廣告12</td>\n      <td>FEMALE</td>\n      <td>2016-01-03T12:25:18</td>\n      <td>10012645</td>\n      <td>M</td>\n      <td>watermelonred</td>\n    </tr>\n    <tr>\n      <th>74184</th>\n      <td>74184</td>\n      <td>產品1</td>\n      <td>廣告12</td>\n      <td>FEMALE</td>\n      <td>2016-01-03T12:25:18</td>\n      <td>10012645</td>\n      <td>M</td>\n      <td>jeanblue</td>\n    </tr>\n    <tr>\n      <th>74185</th>\n      <td>74185</td>\n      <td>產品1</td>\n      <td>廣告13</td>\n      <td>FEMALE</td>\n      <td>2016-01-03T12:25:18</td>\n      <td>10012645</td>\n      <td>L</td>\n      <td>navyblue</td>\n    </tr>\n    <tr>\n      <th>74186</th>\n      <td>74186</td>\n      <td>產品1</td>\n      <td>廣告1</td>\n      <td>MALE</td>\n      <td>2016-01-04T09:04:25</td>\n      <td>10052301</td>\n      <td>無</td>\n      <td>NaN</td>\n    </tr>\n  </tbody>\n</table>\n</div>"
     },
     "metadata": {},
     "execution_count": 5
    }
   ],
   "source": [
    "data = data[data['產品']=='產品1']\n",
    "data.head(6)"
   ]
  },
  {
   "source": [
    "### 3. 去除多餘欄位"
   ],
   "cell_type": "markdown",
   "metadata": {}
  },
  {
   "cell_type": "code",
   "execution_count": 7,
   "metadata": {},
   "outputs": [
    {
     "output_type": "execute_result",
     "data": {
      "text/plain": "         廣告      性別\n74181  廣告11  FEMALE\n74182  廣告11  FEMALE\n74183  廣告12  FEMALE\n74184  廣告12  FEMALE\n74185  廣告13  FEMALE\n74186   廣告1    MALE",
      "text/html": "<div>\n<style scoped>\n    .dataframe tbody tr th:only-of-type {\n        vertical-align: middle;\n    }\n\n    .dataframe tbody tr th {\n        vertical-align: top;\n    }\n\n    .dataframe thead th {\n        text-align: right;\n    }\n</style>\n<table border=\"1\" class=\"dataframe\">\n  <thead>\n    <tr style=\"text-align: right;\">\n      <th></th>\n      <th>廣告</th>\n      <th>性別</th>\n    </tr>\n  </thead>\n  <tbody>\n    <tr>\n      <th>74181</th>\n      <td>廣告11</td>\n      <td>FEMALE</td>\n    </tr>\n    <tr>\n      <th>74182</th>\n      <td>廣告11</td>\n      <td>FEMALE</td>\n    </tr>\n    <tr>\n      <th>74183</th>\n      <td>廣告12</td>\n      <td>FEMALE</td>\n    </tr>\n    <tr>\n      <th>74184</th>\n      <td>廣告12</td>\n      <td>FEMALE</td>\n    </tr>\n    <tr>\n      <th>74185</th>\n      <td>廣告13</td>\n      <td>FEMALE</td>\n    </tr>\n    <tr>\n      <th>74186</th>\n      <td>廣告1</td>\n      <td>MALE</td>\n    </tr>\n  </tbody>\n</table>\n</div>"
     },
     "metadata": {},
     "execution_count": 7
    }
   ],
   "source": [
    "data = data.drop(columns = ['Unnamed: 0', '產品', '訂單時間', '會員', '尺寸', '顏色'])\n",
    "data.head(6)"
   ]
  },
  {
   "source": [
    "### 4. 去除遺失值欄位"
   ],
   "cell_type": "markdown",
   "metadata": {}
  },
  {
   "cell_type": "code",
   "execution_count": 8,
   "metadata": {},
   "outputs": [
    {
     "output_type": "execute_result",
     "data": {
      "text/plain": "         廣告      性別\n74181  廣告11  FEMALE\n74182  廣告11  FEMALE\n74183  廣告12  FEMALE\n74184  廣告12  FEMALE\n74185  廣告13  FEMALE\n74186   廣告1    MALE",
      "text/html": "<div>\n<style scoped>\n    .dataframe tbody tr th:only-of-type {\n        vertical-align: middle;\n    }\n\n    .dataframe tbody tr th {\n        vertical-align: top;\n    }\n\n    .dataframe thead th {\n        text-align: right;\n    }\n</style>\n<table border=\"1\" class=\"dataframe\">\n  <thead>\n    <tr style=\"text-align: right;\">\n      <th></th>\n      <th>廣告</th>\n      <th>性別</th>\n    </tr>\n  </thead>\n  <tbody>\n    <tr>\n      <th>74181</th>\n      <td>廣告11</td>\n      <td>FEMALE</td>\n    </tr>\n    <tr>\n      <th>74182</th>\n      <td>廣告11</td>\n      <td>FEMALE</td>\n    </tr>\n    <tr>\n      <th>74183</th>\n      <td>廣告12</td>\n      <td>FEMALE</td>\n    </tr>\n    <tr>\n      <th>74184</th>\n      <td>廣告12</td>\n      <td>FEMALE</td>\n    </tr>\n    <tr>\n      <th>74185</th>\n      <td>廣告13</td>\n      <td>FEMALE</td>\n    </tr>\n    <tr>\n      <th>74186</th>\n      <td>廣告1</td>\n      <td>MALE</td>\n    </tr>\n  </tbody>\n</table>\n</div>"
     },
     "metadata": {},
     "execution_count": 8
    }
   ],
   "source": [
    "data = data.dropna()\n",
    "data.head(6)"
   ]
  },
  {
   "source": [
    "### 5. 重新編號index"
   ],
   "cell_type": "markdown",
   "metadata": {}
  },
  {
   "cell_type": "code",
   "execution_count": 9,
   "metadata": {},
   "outputs": [
    {
     "output_type": "execute_result",
     "data": {
      "text/plain": "     廣告      性別\n0  廣告11  FEMALE\n1  廣告11  FEMALE\n2  廣告12  FEMALE\n3  廣告12  FEMALE\n4  廣告13  FEMALE\n5   廣告1    MALE",
      "text/html": "<div>\n<style scoped>\n    .dataframe tbody tr th:only-of-type {\n        vertical-align: middle;\n    }\n\n    .dataframe tbody tr th {\n        vertical-align: top;\n    }\n\n    .dataframe thead th {\n        text-align: right;\n    }\n</style>\n<table border=\"1\" class=\"dataframe\">\n  <thead>\n    <tr style=\"text-align: right;\">\n      <th></th>\n      <th>廣告</th>\n      <th>性別</th>\n    </tr>\n  </thead>\n  <tbody>\n    <tr>\n      <th>0</th>\n      <td>廣告11</td>\n      <td>FEMALE</td>\n    </tr>\n    <tr>\n      <th>1</th>\n      <td>廣告11</td>\n      <td>FEMALE</td>\n    </tr>\n    <tr>\n      <th>2</th>\n      <td>廣告12</td>\n      <td>FEMALE</td>\n    </tr>\n    <tr>\n      <th>3</th>\n      <td>廣告12</td>\n      <td>FEMALE</td>\n    </tr>\n    <tr>\n      <th>4</th>\n      <td>廣告13</td>\n      <td>FEMALE</td>\n    </tr>\n    <tr>\n      <th>5</th>\n      <td>廣告1</td>\n      <td>MALE</td>\n    </tr>\n  </tbody>\n</table>\n</div>"
     },
     "metadata": {},
     "execution_count": 9
    }
   ],
   "source": [
    "data = data.reset_index().drop(columns='index')\n",
    "data.head(6)"
   ]
  },
  {
   "source": [
    "## 二、進階資料整理"
   ],
   "cell_type": "markdown",
   "metadata": {}
  },
  {
   "source": [
    "### 1. 計算廣告頻率"
   ],
   "cell_type": "markdown",
   "metadata": {}
  },
  {
   "cell_type": "code",
   "execution_count": 10,
   "metadata": {},
   "outputs": [
    {
     "output_type": "execute_result",
     "data": {
      "text/plain": "Counter({'廣告11': 307,\n         '廣告12': 7856,\n         '廣告13': 441,\n         '廣告1': 722,\n         '廣告6': 900,\n         '廣告9': 1397,\n         '廣告14': 449,\n         '廣告3': 4509,\n         '廣告18': 433,\n         '廣告15': 222,\n         '廣告7': 252,\n         '廣告16': 340,\n         '廣告20': 2,\n         '廣告23': 69,\n         '廣告22': 9,\n         '廣告24': 46,\n         '廣告25': 27,\n         '廣告29': 821,\n         '廣告30': 294,\n         '廣告32': 249,\n         '廣告31': 155,\n         '廣告33': 144,\n         '廣告21': 13,\n         '廣告34': 191,\n         '廣告50': 443,\n         '廣告51': 252,\n         '廣告52': 241,\n         '廣告53': 288,\n         '廣告54': 294,\n         '廣告55': 154,\n         '廣告36': 1334,\n         '廣告35': 2270,\n         '廣告56': 109,\n         '廣告57': 16,\n         '廣告58': 23,\n         '廣告59': 17,\n         '廣告60': 14,\n         '廣告61': 187,\n         '廣告62': 186,\n         '廣告63': 211,\n         '廣告64': 54,\n         '廣告10': 3,\n         '廣告65': 188,\n         '廣告66': 239,\n         '廣告67': 118})"
     },
     "metadata": {},
     "execution_count": 10
    }
   ],
   "source": [
    "from collections import Counter\n",
    "frequency_count = Counter(data['廣告'])\n",
    "frequency_count"
   ]
  },
  {
   "source": [
    "### 2. 製作廣告銷售頻率表"
   ],
   "cell_type": "markdown",
   "metadata": {}
  },
  {
   "cell_type": "code",
   "execution_count": 11,
   "metadata": {},
   "outputs": [],
   "source": [
    "f1 = list(frequency_count.keys())\n",
    "f2 = list(frequency_count.values())\n",
    "frequency_table = pd.DataFrame(zip(f1,f2),\n",
    "                            columns=['廣告名稱','頻率'])"
   ]
  },
  {
   "cell_type": "code",
   "execution_count": 12,
   "metadata": {},
   "outputs": [
    {
     "output_type": "execute_result",
     "data": {
      "text/plain": "['廣告11',\n '廣告12',\n '廣告13',\n '廣告1',\n '廣告6',\n '廣告9',\n '廣告14',\n '廣告3',\n '廣告18',\n '廣告15',\n '廣告7',\n '廣告16',\n '廣告20',\n '廣告23',\n '廣告22',\n '廣告24',\n '廣告25',\n '廣告29',\n '廣告30',\n '廣告32',\n '廣告31',\n '廣告33',\n '廣告21',\n '廣告34',\n '廣告50',\n '廣告51',\n '廣告52',\n '廣告53',\n '廣告54',\n '廣告55',\n '廣告36',\n '廣告35',\n '廣告56',\n '廣告57',\n '廣告58',\n '廣告59',\n '廣告60',\n '廣告61',\n '廣告62',\n '廣告63',\n '廣告64',\n '廣告10',\n '廣告65',\n '廣告66',\n '廣告67']"
     },
     "metadata": {},
     "execution_count": 12
    }
   ],
   "source": [
    "f1"
   ]
  },
  {
   "cell_type": "code",
   "execution_count": 13,
   "metadata": {},
   "outputs": [
    {
     "output_type": "execute_result",
     "data": {
      "text/plain": "[307,\n 7856,\n 441,\n 722,\n 900,\n 1397,\n 449,\n 4509,\n 433,\n 222,\n 252,\n 340,\n 2,\n 69,\n 9,\n 46,\n 27,\n 821,\n 294,\n 249,\n 155,\n 144,\n 13,\n 191,\n 443,\n 252,\n 241,\n 288,\n 294,\n 154,\n 1334,\n 2270,\n 109,\n 16,\n 23,\n 17,\n 14,\n 187,\n 186,\n 211,\n 54,\n 3,\n 188,\n 239,\n 118]"
     },
     "metadata": {},
     "execution_count": 13
    }
   ],
   "source": [
    "f2"
   ]
  },
  {
   "cell_type": "code",
   "execution_count": 14,
   "metadata": {},
   "outputs": [
    {
     "output_type": "execute_result",
     "data": {
      "text/plain": "    廣告名稱    頻率\n0   廣告11   307\n1   廣告12  7856\n2   廣告13   441\n3    廣告1   722\n4    廣告6   900\n5    廣告9  1397\n6   廣告14   449\n7    廣告3  4509\n8   廣告18   433\n9   廣告15   222\n10   廣告7   252\n11  廣告16   340\n12  廣告20     2\n13  廣告23    69\n14  廣告22     9\n15  廣告24    46\n16  廣告25    27\n17  廣告29   821\n18  廣告30   294\n19  廣告32   249\n20  廣告31   155\n21  廣告33   144\n22  廣告21    13\n23  廣告34   191\n24  廣告50   443\n25  廣告51   252\n26  廣告52   241\n27  廣告53   288\n28  廣告54   294\n29  廣告55   154\n30  廣告36  1334\n31  廣告35  2270\n32  廣告56   109\n33  廣告57    16\n34  廣告58    23\n35  廣告59    17\n36  廣告60    14\n37  廣告61   187\n38  廣告62   186\n39  廣告63   211\n40  廣告64    54\n41  廣告10     3\n42  廣告65   188\n43  廣告66   239\n44  廣告67   118",
      "text/html": "<div>\n<style scoped>\n    .dataframe tbody tr th:only-of-type {\n        vertical-align: middle;\n    }\n\n    .dataframe tbody tr th {\n        vertical-align: top;\n    }\n\n    .dataframe thead th {\n        text-align: right;\n    }\n</style>\n<table border=\"1\" class=\"dataframe\">\n  <thead>\n    <tr style=\"text-align: right;\">\n      <th></th>\n      <th>廣告名稱</th>\n      <th>頻率</th>\n    </tr>\n  </thead>\n  <tbody>\n    <tr>\n      <th>0</th>\n      <td>廣告11</td>\n      <td>307</td>\n    </tr>\n    <tr>\n      <th>1</th>\n      <td>廣告12</td>\n      <td>7856</td>\n    </tr>\n    <tr>\n      <th>2</th>\n      <td>廣告13</td>\n      <td>441</td>\n    </tr>\n    <tr>\n      <th>3</th>\n      <td>廣告1</td>\n      <td>722</td>\n    </tr>\n    <tr>\n      <th>4</th>\n      <td>廣告6</td>\n      <td>900</td>\n    </tr>\n    <tr>\n      <th>5</th>\n      <td>廣告9</td>\n      <td>1397</td>\n    </tr>\n    <tr>\n      <th>6</th>\n      <td>廣告14</td>\n      <td>449</td>\n    </tr>\n    <tr>\n      <th>7</th>\n      <td>廣告3</td>\n      <td>4509</td>\n    </tr>\n    <tr>\n      <th>8</th>\n      <td>廣告18</td>\n      <td>433</td>\n    </tr>\n    <tr>\n      <th>9</th>\n      <td>廣告15</td>\n      <td>222</td>\n    </tr>\n    <tr>\n      <th>10</th>\n      <td>廣告7</td>\n      <td>252</td>\n    </tr>\n    <tr>\n      <th>11</th>\n      <td>廣告16</td>\n      <td>340</td>\n    </tr>\n    <tr>\n      <th>12</th>\n      <td>廣告20</td>\n      <td>2</td>\n    </tr>\n    <tr>\n      <th>13</th>\n      <td>廣告23</td>\n      <td>69</td>\n    </tr>\n    <tr>\n      <th>14</th>\n      <td>廣告22</td>\n      <td>9</td>\n    </tr>\n    <tr>\n      <th>15</th>\n      <td>廣告24</td>\n      <td>46</td>\n    </tr>\n    <tr>\n      <th>16</th>\n      <td>廣告25</td>\n      <td>27</td>\n    </tr>\n    <tr>\n      <th>17</th>\n      <td>廣告29</td>\n      <td>821</td>\n    </tr>\n    <tr>\n      <th>18</th>\n      <td>廣告30</td>\n      <td>294</td>\n    </tr>\n    <tr>\n      <th>19</th>\n      <td>廣告32</td>\n      <td>249</td>\n    </tr>\n    <tr>\n      <th>20</th>\n      <td>廣告31</td>\n      <td>155</td>\n    </tr>\n    <tr>\n      <th>21</th>\n      <td>廣告33</td>\n      <td>144</td>\n    </tr>\n    <tr>\n      <th>22</th>\n      <td>廣告21</td>\n      <td>13</td>\n    </tr>\n    <tr>\n      <th>23</th>\n      <td>廣告34</td>\n      <td>191</td>\n    </tr>\n    <tr>\n      <th>24</th>\n      <td>廣告50</td>\n      <td>443</td>\n    </tr>\n    <tr>\n      <th>25</th>\n      <td>廣告51</td>\n      <td>252</td>\n    </tr>\n    <tr>\n      <th>26</th>\n      <td>廣告52</td>\n      <td>241</td>\n    </tr>\n    <tr>\n      <th>27</th>\n      <td>廣告53</td>\n      <td>288</td>\n    </tr>\n    <tr>\n      <th>28</th>\n      <td>廣告54</td>\n      <td>294</td>\n    </tr>\n    <tr>\n      <th>29</th>\n      <td>廣告55</td>\n      <td>154</td>\n    </tr>\n    <tr>\n      <th>30</th>\n      <td>廣告36</td>\n      <td>1334</td>\n    </tr>\n    <tr>\n      <th>31</th>\n      <td>廣告35</td>\n      <td>2270</td>\n    </tr>\n    <tr>\n      <th>32</th>\n      <td>廣告56</td>\n      <td>109</td>\n    </tr>\n    <tr>\n      <th>33</th>\n      <td>廣告57</td>\n      <td>16</td>\n    </tr>\n    <tr>\n      <th>34</th>\n      <td>廣告58</td>\n      <td>23</td>\n    </tr>\n    <tr>\n      <th>35</th>\n      <td>廣告59</td>\n      <td>17</td>\n    </tr>\n    <tr>\n      <th>36</th>\n      <td>廣告60</td>\n      <td>14</td>\n    </tr>\n    <tr>\n      <th>37</th>\n      <td>廣告61</td>\n      <td>187</td>\n    </tr>\n    <tr>\n      <th>38</th>\n      <td>廣告62</td>\n      <td>186</td>\n    </tr>\n    <tr>\n      <th>39</th>\n      <td>廣告63</td>\n      <td>211</td>\n    </tr>\n    <tr>\n      <th>40</th>\n      <td>廣告64</td>\n      <td>54</td>\n    </tr>\n    <tr>\n      <th>41</th>\n      <td>廣告10</td>\n      <td>3</td>\n    </tr>\n    <tr>\n      <th>42</th>\n      <td>廣告65</td>\n      <td>188</td>\n    </tr>\n    <tr>\n      <th>43</th>\n      <td>廣告66</td>\n      <td>239</td>\n    </tr>\n    <tr>\n      <th>44</th>\n      <td>廣告67</td>\n      <td>118</td>\n    </tr>\n  </tbody>\n</table>\n</div>"
     },
     "metadata": {},
     "execution_count": 14
    }
   ],
   "source": [
    "frequency_table"
   ]
  },
  {
   "source": [
    "### 3. 將廣告銷售頻率由大至小排序"
   ],
   "cell_type": "markdown",
   "metadata": {}
  },
  {
   "cell_type": "code",
   "execution_count": 15,
   "metadata": {},
   "outputs": [
    {
     "output_type": "execute_result",
     "data": {
      "text/plain": "    廣告名稱    頻率\n1   廣告12  7856\n7    廣告3  4509\n31  廣告35  2270\n5    廣告9  1397\n30  廣告36  1334\n4    廣告6   900\n17  廣告29   821\n3    廣告1   722\n6   廣告14   449\n24  廣告50   443\n2   廣告13   441\n8   廣告18   433\n11  廣告16   340\n0   廣告11   307\n28  廣告54   294\n18  廣告30   294\n27  廣告53   288\n10   廣告7   252\n25  廣告51   252\n19  廣告32   249\n26  廣告52   241\n43  廣告66   239\n9   廣告15   222\n39  廣告63   211\n23  廣告34   191\n42  廣告65   188\n37  廣告61   187\n38  廣告62   186\n20  廣告31   155\n29  廣告55   154\n21  廣告33   144\n44  廣告67   118\n32  廣告56   109\n13  廣告23    69\n40  廣告64    54\n15  廣告24    46\n16  廣告25    27\n34  廣告58    23\n35  廣告59    17\n33  廣告57    16\n36  廣告60    14\n22  廣告21    13\n14  廣告22     9\n41  廣告10     3\n12  廣告20     2",
      "text/html": "<div>\n<style scoped>\n    .dataframe tbody tr th:only-of-type {\n        vertical-align: middle;\n    }\n\n    .dataframe tbody tr th {\n        vertical-align: top;\n    }\n\n    .dataframe thead th {\n        text-align: right;\n    }\n</style>\n<table border=\"1\" class=\"dataframe\">\n  <thead>\n    <tr style=\"text-align: right;\">\n      <th></th>\n      <th>廣告名稱</th>\n      <th>頻率</th>\n    </tr>\n  </thead>\n  <tbody>\n    <tr>\n      <th>1</th>\n      <td>廣告12</td>\n      <td>7856</td>\n    </tr>\n    <tr>\n      <th>7</th>\n      <td>廣告3</td>\n      <td>4509</td>\n    </tr>\n    <tr>\n      <th>31</th>\n      <td>廣告35</td>\n      <td>2270</td>\n    </tr>\n    <tr>\n      <th>5</th>\n      <td>廣告9</td>\n      <td>1397</td>\n    </tr>\n    <tr>\n      <th>30</th>\n      <td>廣告36</td>\n      <td>1334</td>\n    </tr>\n    <tr>\n      <th>4</th>\n      <td>廣告6</td>\n      <td>900</td>\n    </tr>\n    <tr>\n      <th>17</th>\n      <td>廣告29</td>\n      <td>821</td>\n    </tr>\n    <tr>\n      <th>3</th>\n      <td>廣告1</td>\n      <td>722</td>\n    </tr>\n    <tr>\n      <th>6</th>\n      <td>廣告14</td>\n      <td>449</td>\n    </tr>\n    <tr>\n      <th>24</th>\n      <td>廣告50</td>\n      <td>443</td>\n    </tr>\n    <tr>\n      <th>2</th>\n      <td>廣告13</td>\n      <td>441</td>\n    </tr>\n    <tr>\n      <th>8</th>\n      <td>廣告18</td>\n      <td>433</td>\n    </tr>\n    <tr>\n      <th>11</th>\n      <td>廣告16</td>\n      <td>340</td>\n    </tr>\n    <tr>\n      <th>0</th>\n      <td>廣告11</td>\n      <td>307</td>\n    </tr>\n    <tr>\n      <th>28</th>\n      <td>廣告54</td>\n      <td>294</td>\n    </tr>\n    <tr>\n      <th>18</th>\n      <td>廣告30</td>\n      <td>294</td>\n    </tr>\n    <tr>\n      <th>27</th>\n      <td>廣告53</td>\n      <td>288</td>\n    </tr>\n    <tr>\n      <th>10</th>\n      <td>廣告7</td>\n      <td>252</td>\n    </tr>\n    <tr>\n      <th>25</th>\n      <td>廣告51</td>\n      <td>252</td>\n    </tr>\n    <tr>\n      <th>19</th>\n      <td>廣告32</td>\n      <td>249</td>\n    </tr>\n    <tr>\n      <th>26</th>\n      <td>廣告52</td>\n      <td>241</td>\n    </tr>\n    <tr>\n      <th>43</th>\n      <td>廣告66</td>\n      <td>239</td>\n    </tr>\n    <tr>\n      <th>9</th>\n      <td>廣告15</td>\n      <td>222</td>\n    </tr>\n    <tr>\n      <th>39</th>\n      <td>廣告63</td>\n      <td>211</td>\n    </tr>\n    <tr>\n      <th>23</th>\n      <td>廣告34</td>\n      <td>191</td>\n    </tr>\n    <tr>\n      <th>42</th>\n      <td>廣告65</td>\n      <td>188</td>\n    </tr>\n    <tr>\n      <th>37</th>\n      <td>廣告61</td>\n      <td>187</td>\n    </tr>\n    <tr>\n      <th>38</th>\n      <td>廣告62</td>\n      <td>186</td>\n    </tr>\n    <tr>\n      <th>20</th>\n      <td>廣告31</td>\n      <td>155</td>\n    </tr>\n    <tr>\n      <th>29</th>\n      <td>廣告55</td>\n      <td>154</td>\n    </tr>\n    <tr>\n      <th>21</th>\n      <td>廣告33</td>\n      <td>144</td>\n    </tr>\n    <tr>\n      <th>44</th>\n      <td>廣告67</td>\n      <td>118</td>\n    </tr>\n    <tr>\n      <th>32</th>\n      <td>廣告56</td>\n      <td>109</td>\n    </tr>\n    <tr>\n      <th>13</th>\n      <td>廣告23</td>\n      <td>69</td>\n    </tr>\n    <tr>\n      <th>40</th>\n      <td>廣告64</td>\n      <td>54</td>\n    </tr>\n    <tr>\n      <th>15</th>\n      <td>廣告24</td>\n      <td>46</td>\n    </tr>\n    <tr>\n      <th>16</th>\n      <td>廣告25</td>\n      <td>27</td>\n    </tr>\n    <tr>\n      <th>34</th>\n      <td>廣告58</td>\n      <td>23</td>\n    </tr>\n    <tr>\n      <th>35</th>\n      <td>廣告59</td>\n      <td>17</td>\n    </tr>\n    <tr>\n      <th>33</th>\n      <td>廣告57</td>\n      <td>16</td>\n    </tr>\n    <tr>\n      <th>36</th>\n      <td>廣告60</td>\n      <td>14</td>\n    </tr>\n    <tr>\n      <th>22</th>\n      <td>廣告21</td>\n      <td>13</td>\n    </tr>\n    <tr>\n      <th>14</th>\n      <td>廣告22</td>\n      <td>9</td>\n    </tr>\n    <tr>\n      <th>41</th>\n      <td>廣告10</td>\n      <td>3</td>\n    </tr>\n    <tr>\n      <th>12</th>\n      <td>廣告20</td>\n      <td>2</td>\n    </tr>\n  </tbody>\n</table>\n</div>"
     },
     "metadata": {},
     "execution_count": 15
    }
   ],
   "source": [
    "frequency_table = frequency_table.sort_values(by = '頻率', ascending = False)\n",
    "frequency_table"
   ]
  },
  {
   "source": [
    "### 4. 取出前三名之熱門廣告"
   ],
   "cell_type": "markdown",
   "metadata": {}
  },
  {
   "cell_type": "code",
   "execution_count": 17,
   "metadata": {},
   "outputs": [
    {
     "output_type": "execute_result",
     "data": {
      "text/plain": "    廣告名稱    頻率\n1   廣告12  7856\n7    廣告3  4509\n31  廣告35  2270",
      "text/html": "<div>\n<style scoped>\n    .dataframe tbody tr th:only-of-type {\n        vertical-align: middle;\n    }\n\n    .dataframe tbody tr th {\n        vertical-align: top;\n    }\n\n    .dataframe thead th {\n        text-align: right;\n    }\n</style>\n<table border=\"1\" class=\"dataframe\">\n  <thead>\n    <tr style=\"text-align: right;\">\n      <th></th>\n      <th>廣告名稱</th>\n      <th>頻率</th>\n    </tr>\n  </thead>\n  <tbody>\n    <tr>\n      <th>1</th>\n      <td>廣告12</td>\n      <td>7856</td>\n    </tr>\n    <tr>\n      <th>7</th>\n      <td>廣告3</td>\n      <td>4509</td>\n    </tr>\n    <tr>\n      <th>31</th>\n      <td>廣告35</td>\n      <td>2270</td>\n    </tr>\n  </tbody>\n</table>\n</div>"
     },
     "metadata": {},
     "execution_count": 17
    }
   ],
   "source": [
    "frequency_table = frequency_table.iloc[0:3,:]\n",
    "frequency_table"
   ]
  },
  {
   "source": [
    "### 5. 將熱門廣告名稱取出"
   ],
   "cell_type": "markdown",
   "metadata": {}
  },
  {
   "cell_type": "code",
   "execution_count": 18,
   "metadata": {},
   "outputs": [
    {
     "output_type": "execute_result",
     "data": {
      "text/plain": "['廣告12', '廣告3', '廣告35']"
     },
     "metadata": {},
     "execution_count": 18
    }
   ],
   "source": [
    "ad_name = frequency_table['廣告名稱'].tolist()\n",
    "ad_name"
   ]
  },
  {
   "source": [
    "### 6. 判斷是否為熱門廣告"
   ],
   "cell_type": "markdown",
   "metadata": {}
  },
  {
   "cell_type": "code",
   "execution_count": 19,
   "metadata": {},
   "outputs": [],
   "source": [
    "save = []\n",
    "for i in range(0,data.shape[0]):\n",
    "    a = data.iloc[i,0]\n",
    "    if ad_name[0] == a:\n",
    "        save.append('是')\n",
    "    elif ad_name[1] == a:\n",
    "        save.append('是')\n",
    "    elif ad_name[2] == a:\n",
    "        save.append('是')\n",
    "    else:\n",
    "        save.append('否')\n",
    "data['是否為熱門廣告'] = save"
   ]
  },
  {
   "cell_type": "code",
   "execution_count": 20,
   "metadata": {},
   "outputs": [
    {
     "output_type": "execute_result",
     "data": {
      "text/plain": "     廣告      性別 是否為熱門廣告\n0  廣告11  FEMALE       否\n1  廣告11  FEMALE       否\n2  廣告12  FEMALE       是\n3  廣告12  FEMALE       是\n4  廣告13  FEMALE       否\n5   廣告1    MALE       否",
      "text/html": "<div>\n<style scoped>\n    .dataframe tbody tr th:only-of-type {\n        vertical-align: middle;\n    }\n\n    .dataframe tbody tr th {\n        vertical-align: top;\n    }\n\n    .dataframe thead th {\n        text-align: right;\n    }\n</style>\n<table border=\"1\" class=\"dataframe\">\n  <thead>\n    <tr style=\"text-align: right;\">\n      <th></th>\n      <th>廣告</th>\n      <th>性別</th>\n      <th>是否為熱門廣告</th>\n    </tr>\n  </thead>\n  <tbody>\n    <tr>\n      <th>0</th>\n      <td>廣告11</td>\n      <td>FEMALE</td>\n      <td>否</td>\n    </tr>\n    <tr>\n      <th>1</th>\n      <td>廣告11</td>\n      <td>FEMALE</td>\n      <td>否</td>\n    </tr>\n    <tr>\n      <th>2</th>\n      <td>廣告12</td>\n      <td>FEMALE</td>\n      <td>是</td>\n    </tr>\n    <tr>\n      <th>3</th>\n      <td>廣告12</td>\n      <td>FEMALE</td>\n      <td>是</td>\n    </tr>\n    <tr>\n      <th>4</th>\n      <td>廣告13</td>\n      <td>FEMALE</td>\n      <td>否</td>\n    </tr>\n    <tr>\n      <th>5</th>\n      <td>廣告1</td>\n      <td>MALE</td>\n      <td>否</td>\n    </tr>\n  </tbody>\n</table>\n</div>"
     },
     "metadata": {},
     "execution_count": 20
    }
   ],
   "source": [
    "data.head(6)"
   ]
  },
  {
   "source": [
    "### 7. 取出熱門廣告"
   ],
   "cell_type": "markdown",
   "metadata": {}
  },
  {
   "cell_type": "code",
   "execution_count": 21,
   "metadata": {},
   "outputs": [
    {
     "output_type": "execute_result",
     "data": {
      "text/plain": "      廣告      性別 是否為熱門廣告\n2   廣告12  FEMALE       是\n3   廣告12  FEMALE       是\n13   廣告3  FEMALE       是\n14   廣告3  FEMALE       是\n15  廣告12  FEMALE       是\n23  廣告12    MALE       是",
      "text/html": "<div>\n<style scoped>\n    .dataframe tbody tr th:only-of-type {\n        vertical-align: middle;\n    }\n\n    .dataframe tbody tr th {\n        vertical-align: top;\n    }\n\n    .dataframe thead th {\n        text-align: right;\n    }\n</style>\n<table border=\"1\" class=\"dataframe\">\n  <thead>\n    <tr style=\"text-align: right;\">\n      <th></th>\n      <th>廣告</th>\n      <th>性別</th>\n      <th>是否為熱門廣告</th>\n    </tr>\n  </thead>\n  <tbody>\n    <tr>\n      <th>2</th>\n      <td>廣告12</td>\n      <td>FEMALE</td>\n      <td>是</td>\n    </tr>\n    <tr>\n      <th>3</th>\n      <td>廣告12</td>\n      <td>FEMALE</td>\n      <td>是</td>\n    </tr>\n    <tr>\n      <th>13</th>\n      <td>廣告3</td>\n      <td>FEMALE</td>\n      <td>是</td>\n    </tr>\n    <tr>\n      <th>14</th>\n      <td>廣告3</td>\n      <td>FEMALE</td>\n      <td>是</td>\n    </tr>\n    <tr>\n      <th>15</th>\n      <td>廣告12</td>\n      <td>FEMALE</td>\n      <td>是</td>\n    </tr>\n    <tr>\n      <th>23</th>\n      <td>廣告12</td>\n      <td>MALE</td>\n      <td>是</td>\n    </tr>\n  </tbody>\n</table>\n</div>"
     },
     "metadata": {},
     "execution_count": 21
    }
   ],
   "source": [
    "data = data[data['是否為熱門廣告']=='是']  \n",
    "data.head(6)"
   ]
  },
  {
   "source": [
    "### 8. 製作熱門廣告男性銷售頻率清單"
   ],
   "cell_type": "markdown",
   "metadata": {}
  },
  {
   "cell_type": "code",
   "execution_count": 22,
   "metadata": {},
   "outputs": [],
   "source": [
    "M_1 = data[data['廣告']==ad_name[0]][data['性別']=='MALE'].shape[0]\n",
    "M_2 = data[data['廣告']==ad_name[1]][data['性別']=='MALE'].shape[0]\n",
    "M_3 = data[data['廣告']==ad_name[2]][data['性別']=='MALE'].shape[0]\n",
    "list1 = [M_1, M_2, M_3]"
   ]
  },
  {
   "cell_type": "code",
   "execution_count": 23,
   "metadata": {},
   "outputs": [
    {
     "output_type": "execute_result",
     "data": {
      "text/plain": "4676"
     },
     "metadata": {},
     "execution_count": 23
    }
   ],
   "source": [
    "M_1"
   ]
  },
  {
   "cell_type": "code",
   "execution_count": 24,
   "metadata": {},
   "outputs": [
    {
     "output_type": "execute_result",
     "data": {
      "text/plain": "1273"
     },
     "metadata": {},
     "execution_count": 24
    }
   ],
   "source": [
    "M_2"
   ]
  },
  {
   "cell_type": "code",
   "execution_count": 25,
   "metadata": {},
   "outputs": [
    {
     "output_type": "execute_result",
     "data": {
      "text/plain": "978"
     },
     "metadata": {},
     "execution_count": 25
    }
   ],
   "source": [
    "M_3"
   ]
  },
  {
   "cell_type": "code",
   "execution_count": 26,
   "metadata": {},
   "outputs": [
    {
     "output_type": "execute_result",
     "data": {
      "text/plain": "[4676, 1273, 978]"
     },
     "metadata": {},
     "execution_count": 26
    }
   ],
   "source": [
    "list1"
   ]
  },
  {
   "source": [
    "### 9. 製作熱門廣告女性銷售頻率清單"
   ],
   "cell_type": "markdown",
   "metadata": {}
  },
  {
   "cell_type": "code",
   "execution_count": 27,
   "metadata": {},
   "outputs": [],
   "source": [
    "F_1 = data[data['廣告']==ad_name[0]][data['性別']=='FEMALE'].shape[0]\n",
    "F_2 = data[data['廣告']==ad_name[1]][data['性別']=='FEMALE'].shape[0]\n",
    "F_3 = data[data['廣告']==ad_name[2]][data['性別']=='FEMALE'].shape[0]\n",
    "list2 = [F_1, F_2, F_3]"
   ]
  },
  {
   "cell_type": "code",
   "execution_count": 28,
   "metadata": {},
   "outputs": [
    {
     "output_type": "execute_result",
     "data": {
      "text/plain": "3180"
     },
     "metadata": {},
     "execution_count": 28
    }
   ],
   "source": [
    "F_1"
   ]
  },
  {
   "cell_type": "code",
   "execution_count": 29,
   "metadata": {},
   "outputs": [
    {
     "output_type": "execute_result",
     "data": {
      "text/plain": "3236"
     },
     "metadata": {},
     "execution_count": 29
    }
   ],
   "source": [
    "F_2"
   ]
  },
  {
   "cell_type": "code",
   "execution_count": 30,
   "metadata": {},
   "outputs": [
    {
     "output_type": "execute_result",
     "data": {
      "text/plain": "1292"
     },
     "metadata": {},
     "execution_count": 30
    }
   ],
   "source": [
    "F_3"
   ]
  },
  {
   "cell_type": "code",
   "execution_count": 31,
   "metadata": {},
   "outputs": [
    {
     "output_type": "execute_result",
     "data": {
      "text/plain": "[3180, 3236, 1292]"
     },
     "metadata": {},
     "execution_count": 31
    }
   ],
   "source": [
    "list2"
   ]
  },
  {
   "source": [
    "### 10. 將「list1」和「list2」整合成資料集「chi_table」"
   ],
   "cell_type": "markdown",
   "metadata": {}
  },
  {
   "cell_type": "code",
   "execution_count": 32,
   "metadata": {},
   "outputs": [
    {
     "output_type": "execute_result",
     "data": {
      "text/plain": "        男性    女性\n廣告12  4676  3180\n廣告3   1273  3236\n廣告35   978  1292",
      "text/html": "<div>\n<style scoped>\n    .dataframe tbody tr th:only-of-type {\n        vertical-align: middle;\n    }\n\n    .dataframe tbody tr th {\n        vertical-align: top;\n    }\n\n    .dataframe thead th {\n        text-align: right;\n    }\n</style>\n<table border=\"1\" class=\"dataframe\">\n  <thead>\n    <tr style=\"text-align: right;\">\n      <th></th>\n      <th>男性</th>\n      <th>女性</th>\n    </tr>\n  </thead>\n  <tbody>\n    <tr>\n      <th>廣告12</th>\n      <td>4676</td>\n      <td>3180</td>\n    </tr>\n    <tr>\n      <th>廣告3</th>\n      <td>1273</td>\n      <td>3236</td>\n    </tr>\n    <tr>\n      <th>廣告35</th>\n      <td>978</td>\n      <td>1292</td>\n    </tr>\n  </tbody>\n</table>\n</div>"
     },
     "metadata": {},
     "execution_count": 32
    }
   ],
   "source": [
    "chi_table = pd.DataFrame(zip(list1, list2), columns=['男性', '女性'],index=[ad_name[0], ad_name[1], ad_name[2]])\n",
    "chi_table"
   ]
  }
 ]
}