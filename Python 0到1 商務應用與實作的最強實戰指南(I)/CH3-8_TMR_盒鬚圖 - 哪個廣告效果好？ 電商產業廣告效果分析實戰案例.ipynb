{
 "cells": [
  {
   "cell_type": "markdown",
   "metadata": {},
   "source": [
    "# 盒鬚圖 - 哪個廣告效果好？ 電商產業廣告效果分析實戰案例"
   ]
  },
  {
   "cell_type": "markdown",
   "metadata": {},
   "source": [
    "#### 作者：鍾皓軒（臺灣行銷研究創辦人）、徐子皓(臺灣行銷研究特邀作者)\n",
    "#### 完整文章介紹鏈接：[link](https://medium.com/marketingdatascience/%E7%9B%92%E9%AC%9A%E5%9C%96-%E5%93%AA%E5%80%8B%E5%BB%A3%E5%91%8A%E6%95%88%E6%9E%9C%E5%A5%BD-%E9%9B%BB%E5%95%86%E7%94%A2%E6%A5%AD%E5%BB%A3%E5%91%8A%E6%95%88%E6%9E%9C%E5%88%86%E6%9E%90%E5%AF%A6%E6%88%B0%E6%A1%88%E4%BE%8B-%E9%99%84python-%E7%A8%8B%E5%BC%8F%E7%A2%BC-97d9f411de5c)\n",
    "\n",
    "#### 本notebook資料可[從此下載](https://drive.google.com/file/d/1qlZcwteIEFfokw-WYEFRSwe5zMDWpLCY/view?usp=sharing)"
   ]
  },
  {
   "cell_type": "markdown",
   "metadata": {},
   "source": [
    "## 一、基本資料引入"
   ]
  },
  {
   "cell_type": "markdown",
   "metadata": {},
   "source": [
    "### 1. 引入套件包、原始資料"
   ]
  },
  {
   "cell_type": "code",
   "execution_count": 1,
   "metadata": {},
   "outputs": [],
   "source": [
    "import pandas as pd\n",
    "import os\n",
    "from collections import Counter\n",
    "import heapq\n",
    "import plotly.offline as py\n",
    "import plotly.graph_objects as go"
   ]
  },
  {
   "cell_type": "code",
   "execution_count": 2,
   "metadata": {},
   "outputs": [
    {
     "data": {
      "text/html": [
       "<div>\n",
       "<style scoped>\n",
       "    .dataframe tbody tr th:only-of-type {\n",
       "        vertical-align: middle;\n",
       "    }\n",
       "\n",
       "    .dataframe tbody tr th {\n",
       "        vertical-align: top;\n",
       "    }\n",
       "\n",
       "    .dataframe thead th {\n",
       "        text-align: right;\n",
       "    }\n",
       "</style>\n",
       "<table border=\"1\" class=\"dataframe\">\n",
       "  <thead>\n",
       "    <tr style=\"text-align: right;\">\n",
       "      <th></th>\n",
       "      <th>Unnamed: 0</th>\n",
       "      <th>單價</th>\n",
       "      <th>成本</th>\n",
       "      <th>系列</th>\n",
       "      <th>產品</th>\n",
       "      <th>訂單時間</th>\n",
       "      <th>廣告代號all</th>\n",
       "      <th>去識別化會員編碼</th>\n",
       "    </tr>\n",
       "  </thead>\n",
       "  <tbody>\n",
       "    <tr>\n",
       "      <th>0</th>\n",
       "      <td>0</td>\n",
       "      <td>780.0</td>\n",
       "      <td>370.0</td>\n",
       "      <td>系列5</td>\n",
       "      <td>產品5-3</td>\n",
       "      <td>2016-06-04T07:35:59</td>\n",
       "      <td>廣告_自然流量</td>\n",
       "      <td>L_CBY_02560</td>\n",
       "    </tr>\n",
       "    <tr>\n",
       "      <th>1</th>\n",
       "      <td>1</td>\n",
       "      <td>821.0</td>\n",
       "      <td>419.0</td>\n",
       "      <td>系列5</td>\n",
       "      <td>產品5-12</td>\n",
       "      <td>2016-06-04T07:35:59</td>\n",
       "      <td>廣告_自然流量</td>\n",
       "      <td>L_CBY_02560</td>\n",
       "    </tr>\n",
       "    <tr>\n",
       "      <th>2</th>\n",
       "      <td>2</td>\n",
       "      <td>494.0</td>\n",
       "      <td>291.0</td>\n",
       "      <td>系列5</td>\n",
       "      <td>產品5-15</td>\n",
       "      <td>2016-06-04T07:35:59</td>\n",
       "      <td>廣告_自然流量</td>\n",
       "      <td>L_CBY_02560</td>\n",
       "    </tr>\n",
       "    <tr>\n",
       "      <th>3</th>\n",
       "      <td>3</td>\n",
       "      <td>780.0</td>\n",
       "      <td>370.0</td>\n",
       "      <td>系列215</td>\n",
       "      <td>產品215-3</td>\n",
       "      <td>2016-06-04T07:35:59</td>\n",
       "      <td>廣告_自然流量</td>\n",
       "      <td>L_CBY_02560</td>\n",
       "    </tr>\n",
       "    <tr>\n",
       "      <th>4</th>\n",
       "      <td>4</td>\n",
       "      <td>780.0</td>\n",
       "      <td>370.0</td>\n",
       "      <td>系列110</td>\n",
       "      <td>產品110-3</td>\n",
       "      <td>2016-06-04T07:35:59</td>\n",
       "      <td>廣告_自然流量</td>\n",
       "      <td>L_CBY_02560</td>\n",
       "    </tr>\n",
       "    <tr>\n",
       "      <th>5</th>\n",
       "      <td>5</td>\n",
       "      <td>164.0</td>\n",
       "      <td>135.0</td>\n",
       "      <td>系列52</td>\n",
       "      <td>產品52-35</td>\n",
       "      <td>2018-09-22T03:41:24</td>\n",
       "      <td>廣告_自然流量</td>\n",
       "      <td>L_CBY_03273</td>\n",
       "    </tr>\n",
       "  </tbody>\n",
       "</table>\n",
       "</div>"
      ],
      "text/plain": [
       "   Unnamed: 0     單價     成本     系列       產品                 訂單時間  廣告代號all  \\\n",
       "0           0  780.0  370.0    系列5    產品5-3  2016-06-04T07:35:59  廣告_自然流量   \n",
       "1           1  821.0  419.0    系列5   產品5-12  2016-06-04T07:35:59  廣告_自然流量   \n",
       "2           2  494.0  291.0    系列5   產品5-15  2016-06-04T07:35:59  廣告_自然流量   \n",
       "3           3  780.0  370.0  系列215  產品215-3  2016-06-04T07:35:59  廣告_自然流量   \n",
       "4           4  780.0  370.0  系列110  產品110-3  2016-06-04T07:35:59  廣告_自然流量   \n",
       "5           5  164.0  135.0   系列52  產品52-35  2018-09-22T03:41:24  廣告_自然流量   \n",
       "\n",
       "      去識別化會員編碼  \n",
       "0  L_CBY_02560  \n",
       "1  L_CBY_02560  \n",
       "2  L_CBY_02560  \n",
       "3  L_CBY_02560  \n",
       "4  L_CBY_02560  \n",
       "5  L_CBY_03273  "
      ]
     },
     "execution_count": 2,
     "metadata": {},
     "output_type": "execute_result"
    }
   ],
   "source": [
    "data = pd.read_csv(\"sales_data2.csv\")\n",
    "data.head(6)"
   ]
  },
  {
   "cell_type": "code",
   "execution_count": 5,
   "metadata": {},
   "outputs": [],
   "source": [
    "data['廣告代號all'] = data['廣告代號all'].astype(str)"
   ]
  },
  {
   "cell_type": "markdown",
   "metadata": {},
   "source": [
    "### 2. 移除多餘欄位"
   ]
  },
  {
   "cell_type": "code",
   "execution_count": 6,
   "metadata": {},
   "outputs": [
    {
     "data": {
      "text/html": [
       "<div>\n",
       "<style scoped>\n",
       "    .dataframe tbody tr th:only-of-type {\n",
       "        vertical-align: middle;\n",
       "    }\n",
       "\n",
       "    .dataframe tbody tr th {\n",
       "        vertical-align: top;\n",
       "    }\n",
       "\n",
       "    .dataframe thead th {\n",
       "        text-align: right;\n",
       "    }\n",
       "</style>\n",
       "<table border=\"1\" class=\"dataframe\">\n",
       "  <thead>\n",
       "    <tr style=\"text-align: right;\">\n",
       "      <th></th>\n",
       "      <th>單價</th>\n",
       "      <th>成本</th>\n",
       "      <th>系列</th>\n",
       "      <th>訂單時間</th>\n",
       "      <th>廣告代號all</th>\n",
       "    </tr>\n",
       "  </thead>\n",
       "  <tbody>\n",
       "    <tr>\n",
       "      <th>0</th>\n",
       "      <td>780.0</td>\n",
       "      <td>370.0</td>\n",
       "      <td>系列5</td>\n",
       "      <td>2016-06-04T07:35:59</td>\n",
       "      <td>廣告_自然流量</td>\n",
       "    </tr>\n",
       "    <tr>\n",
       "      <th>1</th>\n",
       "      <td>821.0</td>\n",
       "      <td>419.0</td>\n",
       "      <td>系列5</td>\n",
       "      <td>2016-06-04T07:35:59</td>\n",
       "      <td>廣告_自然流量</td>\n",
       "    </tr>\n",
       "    <tr>\n",
       "      <th>2</th>\n",
       "      <td>494.0</td>\n",
       "      <td>291.0</td>\n",
       "      <td>系列5</td>\n",
       "      <td>2016-06-04T07:35:59</td>\n",
       "      <td>廣告_自然流量</td>\n",
       "    </tr>\n",
       "    <tr>\n",
       "      <th>3</th>\n",
       "      <td>780.0</td>\n",
       "      <td>370.0</td>\n",
       "      <td>系列215</td>\n",
       "      <td>2016-06-04T07:35:59</td>\n",
       "      <td>廣告_自然流量</td>\n",
       "    </tr>\n",
       "    <tr>\n",
       "      <th>4</th>\n",
       "      <td>780.0</td>\n",
       "      <td>370.0</td>\n",
       "      <td>系列110</td>\n",
       "      <td>2016-06-04T07:35:59</td>\n",
       "      <td>廣告_自然流量</td>\n",
       "    </tr>\n",
       "    <tr>\n",
       "      <th>5</th>\n",
       "      <td>164.0</td>\n",
       "      <td>135.0</td>\n",
       "      <td>系列52</td>\n",
       "      <td>2018-09-22T03:41:24</td>\n",
       "      <td>廣告_自然流量</td>\n",
       "    </tr>\n",
       "  </tbody>\n",
       "</table>\n",
       "</div>"
      ],
      "text/plain": [
       "      單價     成本     系列                 訂單時間  廣告代號all\n",
       "0  780.0  370.0    系列5  2016-06-04T07:35:59  廣告_自然流量\n",
       "1  821.0  419.0    系列5  2016-06-04T07:35:59  廣告_自然流量\n",
       "2  494.0  291.0    系列5  2016-06-04T07:35:59  廣告_自然流量\n",
       "3  780.0  370.0  系列215  2016-06-04T07:35:59  廣告_自然流量\n",
       "4  780.0  370.0  系列110  2016-06-04T07:35:59  廣告_自然流量\n",
       "5  164.0  135.0   系列52  2018-09-22T03:41:24  廣告_自然流量"
      ]
     },
     "execution_count": 6,
     "metadata": {},
     "output_type": "execute_result"
    }
   ],
   "source": [
    "data = data.drop(columns = list(data.filter(regex='Unnamed: 0|會員|產品')))\n",
    "data.head(6)"
   ]
  },
  {
   "cell_type": "markdown",
   "metadata": {},
   "source": [
    "## 二、基礎資料處理"
   ]
  },
  {
   "cell_type": "markdown",
   "metadata": {},
   "source": [
    "### 1. 只留下「系列4」的資料"
   ]
  },
  {
   "cell_type": "code",
   "execution_count": 7,
   "metadata": {},
   "outputs": [
    {
     "data": {
      "text/html": [
       "<div>\n",
       "<style scoped>\n",
       "    .dataframe tbody tr th:only-of-type {\n",
       "        vertical-align: middle;\n",
       "    }\n",
       "\n",
       "    .dataframe tbody tr th {\n",
       "        vertical-align: top;\n",
       "    }\n",
       "\n",
       "    .dataframe thead th {\n",
       "        text-align: right;\n",
       "    }\n",
       "</style>\n",
       "<table border=\"1\" class=\"dataframe\">\n",
       "  <thead>\n",
       "    <tr style=\"text-align: right;\">\n",
       "      <th></th>\n",
       "      <th>單價</th>\n",
       "      <th>成本</th>\n",
       "      <th>系列</th>\n",
       "      <th>訂單時間</th>\n",
       "      <th>廣告代號all</th>\n",
       "    </tr>\n",
       "  </thead>\n",
       "  <tbody>\n",
       "    <tr>\n",
       "      <th>528</th>\n",
       "      <td>1091.0</td>\n",
       "      <td>472.0</td>\n",
       "      <td>系列4</td>\n",
       "      <td>2017-10-04T07:56:35</td>\n",
       "      <td>廣告_B2KP_D</td>\n",
       "    </tr>\n",
       "    <tr>\n",
       "      <th>529</th>\n",
       "      <td>1091.0</td>\n",
       "      <td>472.0</td>\n",
       "      <td>系列4</td>\n",
       "      <td>2017-10-04T07:56:35</td>\n",
       "      <td>廣告_B2KP_D</td>\n",
       "    </tr>\n",
       "    <tr>\n",
       "      <th>530</th>\n",
       "      <td>1091.0</td>\n",
       "      <td>472.0</td>\n",
       "      <td>系列4</td>\n",
       "      <td>2017-10-04T07:56:35</td>\n",
       "      <td>廣告_B2KP_D</td>\n",
       "    </tr>\n",
       "    <tr>\n",
       "      <th>654</th>\n",
       "      <td>1135.0</td>\n",
       "      <td>661.0</td>\n",
       "      <td>系列4</td>\n",
       "      <td>2018-01-05T04:13:39</td>\n",
       "      <td>廣告_critei_critei</td>\n",
       "    </tr>\n",
       "    <tr>\n",
       "      <th>670</th>\n",
       "      <td>910.0</td>\n",
       "      <td>416.0</td>\n",
       "      <td>系列4</td>\n",
       "      <td>2016-04-04T05:02:11</td>\n",
       "      <td>廣告_ikip_POD</td>\n",
       "    </tr>\n",
       "    <tr>\n",
       "      <th>673</th>\n",
       "      <td>910.0</td>\n",
       "      <td>416.0</td>\n",
       "      <td>系列4</td>\n",
       "      <td>2016-04-18T04:57:25</td>\n",
       "      <td>廣告_critei_critei</td>\n",
       "    </tr>\n",
       "  </tbody>\n",
       "</table>\n",
       "</div>"
      ],
      "text/plain": [
       "         單價     成本   系列                 訂單時間           廣告代號all\n",
       "528  1091.0  472.0  系列4  2017-10-04T07:56:35         廣告_B2KP_D\n",
       "529  1091.0  472.0  系列4  2017-10-04T07:56:35         廣告_B2KP_D\n",
       "530  1091.0  472.0  系列4  2017-10-04T07:56:35         廣告_B2KP_D\n",
       "654  1135.0  661.0  系列4  2018-01-05T04:13:39  廣告_critei_critei\n",
       "670   910.0  416.0  系列4  2016-04-04T05:02:11       廣告_ikip_POD\n",
       "673   910.0  416.0  系列4  2016-04-18T04:57:25  廣告_critei_critei"
      ]
     },
     "execution_count": 7,
     "metadata": {},
     "output_type": "execute_result"
    }
   ],
   "source": [
    "data = data[ data ['系列'] == '系列4']\n",
    "data.head(6)"
   ]
  },
  {
   "cell_type": "markdown",
   "metadata": {},
   "source": [
    "### 2. 重新整理廣告代號格式"
   ]
  },
  {
   "cell_type": "code",
   "execution_count": 8,
   "metadata": {},
   "outputs": [
    {
     "name": "stderr",
     "output_type": "stream",
     "text": [
      "c:\\Users\\howar\\anaconda3\\envs\\MDS\\lib\\site-packages\\pandas\\core\\indexing.py:1732: SettingWithCopyWarning:\n",
      "\n",
      "\n",
      "A value is trying to be set on a copy of a slice from a DataFrame\n",
      "\n",
      "See the caveats in the documentation: https://pandas.pydata.org/pandas-docs/stable/user_guide/indexing.html#returning-a-view-versus-a-copy\n",
      "\n"
     ]
    }
   ],
   "source": [
    "for i in range(0,len(data['廣告代號all'])):\n",
    "    a = data['廣告代號all'].iloc[i].split('_')[1]\n",
    "    data['廣告代號all'].iloc[i] = a"
   ]
  },
  {
   "cell_type": "code",
   "execution_count": 9,
   "metadata": {},
   "outputs": [
    {
     "data": {
      "text/html": [
       "<div>\n",
       "<style scoped>\n",
       "    .dataframe tbody tr th:only-of-type {\n",
       "        vertical-align: middle;\n",
       "    }\n",
       "\n",
       "    .dataframe tbody tr th {\n",
       "        vertical-align: top;\n",
       "    }\n",
       "\n",
       "    .dataframe thead th {\n",
       "        text-align: right;\n",
       "    }\n",
       "</style>\n",
       "<table border=\"1\" class=\"dataframe\">\n",
       "  <thead>\n",
       "    <tr style=\"text-align: right;\">\n",
       "      <th></th>\n",
       "      <th>單價</th>\n",
       "      <th>成本</th>\n",
       "      <th>系列</th>\n",
       "      <th>訂單時間</th>\n",
       "      <th>廣告代號all</th>\n",
       "    </tr>\n",
       "  </thead>\n",
       "  <tbody>\n",
       "    <tr>\n",
       "      <th>528</th>\n",
       "      <td>1091.0</td>\n",
       "      <td>472.0</td>\n",
       "      <td>系列4</td>\n",
       "      <td>2017-10-04T07:56:35</td>\n",
       "      <td>B2KP</td>\n",
       "    </tr>\n",
       "    <tr>\n",
       "      <th>529</th>\n",
       "      <td>1091.0</td>\n",
       "      <td>472.0</td>\n",
       "      <td>系列4</td>\n",
       "      <td>2017-10-04T07:56:35</td>\n",
       "      <td>B2KP</td>\n",
       "    </tr>\n",
       "    <tr>\n",
       "      <th>530</th>\n",
       "      <td>1091.0</td>\n",
       "      <td>472.0</td>\n",
       "      <td>系列4</td>\n",
       "      <td>2017-10-04T07:56:35</td>\n",
       "      <td>B2KP</td>\n",
       "    </tr>\n",
       "    <tr>\n",
       "      <th>654</th>\n",
       "      <td>1135.0</td>\n",
       "      <td>661.0</td>\n",
       "      <td>系列4</td>\n",
       "      <td>2018-01-05T04:13:39</td>\n",
       "      <td>critei</td>\n",
       "    </tr>\n",
       "    <tr>\n",
       "      <th>670</th>\n",
       "      <td>910.0</td>\n",
       "      <td>416.0</td>\n",
       "      <td>系列4</td>\n",
       "      <td>2016-04-04T05:02:11</td>\n",
       "      <td>ikip</td>\n",
       "    </tr>\n",
       "    <tr>\n",
       "      <th>673</th>\n",
       "      <td>910.0</td>\n",
       "      <td>416.0</td>\n",
       "      <td>系列4</td>\n",
       "      <td>2016-04-18T04:57:25</td>\n",
       "      <td>critei</td>\n",
       "    </tr>\n",
       "  </tbody>\n",
       "</table>\n",
       "</div>"
      ],
      "text/plain": [
       "         單價     成本   系列                 訂單時間 廣告代號all\n",
       "528  1091.0  472.0  系列4  2017-10-04T07:56:35    B2KP\n",
       "529  1091.0  472.0  系列4  2017-10-04T07:56:35    B2KP\n",
       "530  1091.0  472.0  系列4  2017-10-04T07:56:35    B2KP\n",
       "654  1135.0  661.0  系列4  2018-01-05T04:13:39  critei\n",
       "670   910.0  416.0  系列4  2016-04-04T05:02:11    ikip\n",
       "673   910.0  416.0  系列4  2016-04-18T04:57:25  critei"
      ]
     },
     "execution_count": 9,
     "metadata": {},
     "output_type": "execute_result"
    }
   ],
   "source": [
    "data.head(6)"
   ]
  },
  {
   "cell_type": "markdown",
   "metadata": {},
   "source": [
    "## 三、進階資料處理－挑選主力廣告"
   ]
  },
  {
   "cell_type": "markdown",
   "metadata": {},
   "source": [
    "### 1. 抓出廣告數量"
   ]
  },
  {
   "cell_type": "code",
   "execution_count": 10,
   "metadata": {},
   "outputs": [
    {
     "data": {
      "text/plain": [
       "36"
      ]
     },
     "execution_count": 10,
     "metadata": {},
     "output_type": "execute_result"
    }
   ],
   "source": [
    "len(data['廣告代號all'].unique())"
   ]
  },
  {
   "cell_type": "markdown",
   "metadata": {},
   "source": [
    "### 2. 廣告使用頻率表"
   ]
  },
  {
   "cell_type": "code",
   "execution_count": 11,
   "metadata": {},
   "outputs": [
    {
     "data": {
      "text/plain": [
       "Counter({'B2KP': 57,\n",
       "         'critei': 1285,\n",
       "         'ikip': 652,\n",
       "         'KBDG': 145,\n",
       "         '自然流量': 3780,\n",
       "         'B2KPOD': 23,\n",
       "         'KDP': 1793,\n",
       "         'B2K': 452,\n",
       "         'qdwit': 896,\n",
       "         'edmMK': 20,\n",
       "         'KBP': 31,\n",
       "         'KDPOD': 937,\n",
       "         'edmP': 128,\n",
       "         'GINEP': 154,\n",
       "         'KDMK': 320,\n",
       "         'edmMP': 26,\n",
       "         'GINEM': 13,\n",
       "         'KDM': 2,\n",
       "         'B2KMP': 1,\n",
       "         'KDPM': 140,\n",
       "         'GINEMK': 24,\n",
       "         'B2KMK': 10,\n",
       "         'IGP': 20,\n",
       "         'edmD': 1,\n",
       "         'YND': 52,\n",
       "         'KBMP': 1,\n",
       "         'edmM': 4,\n",
       "         'GINEMP': 22,\n",
       "         'KDMP': 29,\n",
       "         'qpw': 5,\n",
       "         'cridgewell': 6,\n",
       "         'edm': 2,\n",
       "         'pic': 5,\n",
       "         'B2KM': 1,\n",
       "         'B2KDG': 21,\n",
       "         'IGDG': 1})"
      ]
     },
     "execution_count": 11,
     "metadata": {},
     "output_type": "execute_result"
    }
   ],
   "source": [
    "count_list = Counter(data['廣告代號all'])\n",
    "count_list"
   ]
  },
  {
   "cell_type": "markdown",
   "metadata": {},
   "source": [
    "### 3. 將「count_list」轉換為DataFrame格式"
   ]
  },
  {
   "cell_type": "code",
   "execution_count": 12,
   "metadata": {},
   "outputs": [
    {
     "data": {
      "text/html": [
       "<div>\n",
       "<style scoped>\n",
       "    .dataframe tbody tr th:only-of-type {\n",
       "        vertical-align: middle;\n",
       "    }\n",
       "\n",
       "    .dataframe tbody tr th {\n",
       "        vertical-align: top;\n",
       "    }\n",
       "\n",
       "    .dataframe thead th {\n",
       "        text-align: right;\n",
       "    }\n",
       "</style>\n",
       "<table border=\"1\" class=\"dataframe\">\n",
       "  <thead>\n",
       "    <tr style=\"text-align: right;\">\n",
       "      <th></th>\n",
       "      <th>廣告名稱</th>\n",
       "      <th>樣本數</th>\n",
       "    </tr>\n",
       "  </thead>\n",
       "  <tbody>\n",
       "    <tr>\n",
       "      <th>0</th>\n",
       "      <td>B2KP</td>\n",
       "      <td>57</td>\n",
       "    </tr>\n",
       "    <tr>\n",
       "      <th>1</th>\n",
       "      <td>critei</td>\n",
       "      <td>1285</td>\n",
       "    </tr>\n",
       "    <tr>\n",
       "      <th>2</th>\n",
       "      <td>ikip</td>\n",
       "      <td>652</td>\n",
       "    </tr>\n",
       "    <tr>\n",
       "      <th>3</th>\n",
       "      <td>KBDG</td>\n",
       "      <td>145</td>\n",
       "    </tr>\n",
       "    <tr>\n",
       "      <th>4</th>\n",
       "      <td>自然流量</td>\n",
       "      <td>3780</td>\n",
       "    </tr>\n",
       "    <tr>\n",
       "      <th>5</th>\n",
       "      <td>B2KPOD</td>\n",
       "      <td>23</td>\n",
       "    </tr>\n",
       "    <tr>\n",
       "      <th>6</th>\n",
       "      <td>KDP</td>\n",
       "      <td>1793</td>\n",
       "    </tr>\n",
       "    <tr>\n",
       "      <th>7</th>\n",
       "      <td>B2K</td>\n",
       "      <td>452</td>\n",
       "    </tr>\n",
       "    <tr>\n",
       "      <th>8</th>\n",
       "      <td>qdwit</td>\n",
       "      <td>896</td>\n",
       "    </tr>\n",
       "    <tr>\n",
       "      <th>9</th>\n",
       "      <td>edmMK</td>\n",
       "      <td>20</td>\n",
       "    </tr>\n",
       "    <tr>\n",
       "      <th>10</th>\n",
       "      <td>KBP</td>\n",
       "      <td>31</td>\n",
       "    </tr>\n",
       "    <tr>\n",
       "      <th>11</th>\n",
       "      <td>KDPOD</td>\n",
       "      <td>937</td>\n",
       "    </tr>\n",
       "    <tr>\n",
       "      <th>12</th>\n",
       "      <td>edmP</td>\n",
       "      <td>128</td>\n",
       "    </tr>\n",
       "    <tr>\n",
       "      <th>13</th>\n",
       "      <td>GINEP</td>\n",
       "      <td>154</td>\n",
       "    </tr>\n",
       "    <tr>\n",
       "      <th>14</th>\n",
       "      <td>KDMK</td>\n",
       "      <td>320</td>\n",
       "    </tr>\n",
       "    <tr>\n",
       "      <th>15</th>\n",
       "      <td>edmMP</td>\n",
       "      <td>26</td>\n",
       "    </tr>\n",
       "    <tr>\n",
       "      <th>16</th>\n",
       "      <td>GINEM</td>\n",
       "      <td>13</td>\n",
       "    </tr>\n",
       "    <tr>\n",
       "      <th>17</th>\n",
       "      <td>KDM</td>\n",
       "      <td>2</td>\n",
       "    </tr>\n",
       "    <tr>\n",
       "      <th>18</th>\n",
       "      <td>B2KMP</td>\n",
       "      <td>1</td>\n",
       "    </tr>\n",
       "    <tr>\n",
       "      <th>19</th>\n",
       "      <td>KDPM</td>\n",
       "      <td>140</td>\n",
       "    </tr>\n",
       "    <tr>\n",
       "      <th>20</th>\n",
       "      <td>GINEMK</td>\n",
       "      <td>24</td>\n",
       "    </tr>\n",
       "    <tr>\n",
       "      <th>21</th>\n",
       "      <td>B2KMK</td>\n",
       "      <td>10</td>\n",
       "    </tr>\n",
       "    <tr>\n",
       "      <th>22</th>\n",
       "      <td>IGP</td>\n",
       "      <td>20</td>\n",
       "    </tr>\n",
       "    <tr>\n",
       "      <th>23</th>\n",
       "      <td>edmD</td>\n",
       "      <td>1</td>\n",
       "    </tr>\n",
       "    <tr>\n",
       "      <th>24</th>\n",
       "      <td>YND</td>\n",
       "      <td>52</td>\n",
       "    </tr>\n",
       "    <tr>\n",
       "      <th>25</th>\n",
       "      <td>KBMP</td>\n",
       "      <td>1</td>\n",
       "    </tr>\n",
       "    <tr>\n",
       "      <th>26</th>\n",
       "      <td>edmM</td>\n",
       "      <td>4</td>\n",
       "    </tr>\n",
       "    <tr>\n",
       "      <th>27</th>\n",
       "      <td>GINEMP</td>\n",
       "      <td>22</td>\n",
       "    </tr>\n",
       "    <tr>\n",
       "      <th>28</th>\n",
       "      <td>KDMP</td>\n",
       "      <td>29</td>\n",
       "    </tr>\n",
       "    <tr>\n",
       "      <th>29</th>\n",
       "      <td>qpw</td>\n",
       "      <td>5</td>\n",
       "    </tr>\n",
       "    <tr>\n",
       "      <th>30</th>\n",
       "      <td>cridgewell</td>\n",
       "      <td>6</td>\n",
       "    </tr>\n",
       "    <tr>\n",
       "      <th>31</th>\n",
       "      <td>edm</td>\n",
       "      <td>2</td>\n",
       "    </tr>\n",
       "    <tr>\n",
       "      <th>32</th>\n",
       "      <td>pic</td>\n",
       "      <td>5</td>\n",
       "    </tr>\n",
       "    <tr>\n",
       "      <th>33</th>\n",
       "      <td>B2KM</td>\n",
       "      <td>1</td>\n",
       "    </tr>\n",
       "    <tr>\n",
       "      <th>34</th>\n",
       "      <td>B2KDG</td>\n",
       "      <td>21</td>\n",
       "    </tr>\n",
       "    <tr>\n",
       "      <th>35</th>\n",
       "      <td>IGDG</td>\n",
       "      <td>1</td>\n",
       "    </tr>\n",
       "  </tbody>\n",
       "</table>\n",
       "</div>"
      ],
      "text/plain": [
       "          廣告名稱   樣本數\n",
       "0         B2KP    57\n",
       "1       critei  1285\n",
       "2         ikip   652\n",
       "3         KBDG   145\n",
       "4         自然流量  3780\n",
       "5       B2KPOD    23\n",
       "6          KDP  1793\n",
       "7          B2K   452\n",
       "8        qdwit   896\n",
       "9        edmMK    20\n",
       "10         KBP    31\n",
       "11       KDPOD   937\n",
       "12        edmP   128\n",
       "13       GINEP   154\n",
       "14        KDMK   320\n",
       "15       edmMP    26\n",
       "16       GINEM    13\n",
       "17         KDM     2\n",
       "18       B2KMP     1\n",
       "19        KDPM   140\n",
       "20      GINEMK    24\n",
       "21       B2KMK    10\n",
       "22         IGP    20\n",
       "23        edmD     1\n",
       "24         YND    52\n",
       "25        KBMP     1\n",
       "26        edmM     4\n",
       "27      GINEMP    22\n",
       "28        KDMP    29\n",
       "29         qpw     5\n",
       "30  cridgewell     6\n",
       "31         edm     2\n",
       "32         pic     5\n",
       "33        B2KM     1\n",
       "34       B2KDG    21\n",
       "35        IGDG     1"
      ]
     },
     "execution_count": 12,
     "metadata": {},
     "output_type": "execute_result"
    }
   ],
   "source": [
    "count_list = pd.DataFrame.from_dict(count_list,orient='index').reset_index() # 轉換為DataFrame形式\n",
    "count_list = count_list.rename(columns = {'index' : '廣告名稱', 0: '樣本數'}) # 重新命名欄位名稱\n",
    "count_list"
   ]
  },
  {
   "cell_type": "markdown",
   "metadata": {},
   "source": [
    "### 4. 取出前三大廣告頻率"
   ]
  },
  {
   "cell_type": "code",
   "execution_count": 13,
   "metadata": {},
   "outputs": [
    {
     "data": {
      "text/plain": [
       "[3780, 1793, 1285]"
      ]
     },
     "execution_count": 13,
     "metadata": {},
     "output_type": "execute_result"
    }
   ],
   "source": [
    "heapq.nlargest(3,list(count_list['樣本數']))"
   ]
  },
  {
   "cell_type": "markdown",
   "metadata": {},
   "source": [
    "### 5. 抓出第三名的廣告使用頻率"
   ]
  },
  {
   "cell_type": "code",
   "execution_count": 14,
   "metadata": {},
   "outputs": [
    {
     "data": {
      "text/plain": [
       "1285"
      ]
     },
     "execution_count": 14,
     "metadata": {},
     "output_type": "execute_result"
    }
   ],
   "source": [
    "dead_number = heapq.nlargest(4,list(count_list['樣本數']))[2]\n",
    "dead_number"
   ]
  },
  {
   "cell_type": "markdown",
   "metadata": {},
   "source": [
    "### 6. 製作出非熱門廣告清單"
   ]
  },
  {
   "cell_type": "code",
   "execution_count": 15,
   "metadata": {},
   "outputs": [
    {
     "data": {
      "text/html": [
       "<div>\n",
       "<style scoped>\n",
       "    .dataframe tbody tr th:only-of-type {\n",
       "        vertical-align: middle;\n",
       "    }\n",
       "\n",
       "    .dataframe tbody tr th {\n",
       "        vertical-align: top;\n",
       "    }\n",
       "\n",
       "    .dataframe thead th {\n",
       "        text-align: right;\n",
       "    }\n",
       "</style>\n",
       "<table border=\"1\" class=\"dataframe\">\n",
       "  <thead>\n",
       "    <tr style=\"text-align: right;\">\n",
       "      <th></th>\n",
       "      <th>廣告名稱</th>\n",
       "      <th>樣本數</th>\n",
       "    </tr>\n",
       "  </thead>\n",
       "  <tbody>\n",
       "    <tr>\n",
       "      <th>0</th>\n",
       "      <td>B2KP</td>\n",
       "      <td>57</td>\n",
       "    </tr>\n",
       "    <tr>\n",
       "      <th>2</th>\n",
       "      <td>ikip</td>\n",
       "      <td>652</td>\n",
       "    </tr>\n",
       "    <tr>\n",
       "      <th>3</th>\n",
       "      <td>KBDG</td>\n",
       "      <td>145</td>\n",
       "    </tr>\n",
       "    <tr>\n",
       "      <th>5</th>\n",
       "      <td>B2KPOD</td>\n",
       "      <td>23</td>\n",
       "    </tr>\n",
       "    <tr>\n",
       "      <th>7</th>\n",
       "      <td>B2K</td>\n",
       "      <td>452</td>\n",
       "    </tr>\n",
       "    <tr>\n",
       "      <th>8</th>\n",
       "      <td>qdwit</td>\n",
       "      <td>896</td>\n",
       "    </tr>\n",
       "    <tr>\n",
       "      <th>9</th>\n",
       "      <td>edmMK</td>\n",
       "      <td>20</td>\n",
       "    </tr>\n",
       "    <tr>\n",
       "      <th>10</th>\n",
       "      <td>KBP</td>\n",
       "      <td>31</td>\n",
       "    </tr>\n",
       "    <tr>\n",
       "      <th>11</th>\n",
       "      <td>KDPOD</td>\n",
       "      <td>937</td>\n",
       "    </tr>\n",
       "    <tr>\n",
       "      <th>12</th>\n",
       "      <td>edmP</td>\n",
       "      <td>128</td>\n",
       "    </tr>\n",
       "    <tr>\n",
       "      <th>13</th>\n",
       "      <td>GINEP</td>\n",
       "      <td>154</td>\n",
       "    </tr>\n",
       "    <tr>\n",
       "      <th>14</th>\n",
       "      <td>KDMK</td>\n",
       "      <td>320</td>\n",
       "    </tr>\n",
       "    <tr>\n",
       "      <th>15</th>\n",
       "      <td>edmMP</td>\n",
       "      <td>26</td>\n",
       "    </tr>\n",
       "    <tr>\n",
       "      <th>16</th>\n",
       "      <td>GINEM</td>\n",
       "      <td>13</td>\n",
       "    </tr>\n",
       "    <tr>\n",
       "      <th>17</th>\n",
       "      <td>KDM</td>\n",
       "      <td>2</td>\n",
       "    </tr>\n",
       "    <tr>\n",
       "      <th>18</th>\n",
       "      <td>B2KMP</td>\n",
       "      <td>1</td>\n",
       "    </tr>\n",
       "    <tr>\n",
       "      <th>19</th>\n",
       "      <td>KDPM</td>\n",
       "      <td>140</td>\n",
       "    </tr>\n",
       "    <tr>\n",
       "      <th>20</th>\n",
       "      <td>GINEMK</td>\n",
       "      <td>24</td>\n",
       "    </tr>\n",
       "    <tr>\n",
       "      <th>21</th>\n",
       "      <td>B2KMK</td>\n",
       "      <td>10</td>\n",
       "    </tr>\n",
       "    <tr>\n",
       "      <th>22</th>\n",
       "      <td>IGP</td>\n",
       "      <td>20</td>\n",
       "    </tr>\n",
       "    <tr>\n",
       "      <th>23</th>\n",
       "      <td>edmD</td>\n",
       "      <td>1</td>\n",
       "    </tr>\n",
       "    <tr>\n",
       "      <th>24</th>\n",
       "      <td>YND</td>\n",
       "      <td>52</td>\n",
       "    </tr>\n",
       "    <tr>\n",
       "      <th>25</th>\n",
       "      <td>KBMP</td>\n",
       "      <td>1</td>\n",
       "    </tr>\n",
       "    <tr>\n",
       "      <th>26</th>\n",
       "      <td>edmM</td>\n",
       "      <td>4</td>\n",
       "    </tr>\n",
       "    <tr>\n",
       "      <th>27</th>\n",
       "      <td>GINEMP</td>\n",
       "      <td>22</td>\n",
       "    </tr>\n",
       "    <tr>\n",
       "      <th>28</th>\n",
       "      <td>KDMP</td>\n",
       "      <td>29</td>\n",
       "    </tr>\n",
       "    <tr>\n",
       "      <th>29</th>\n",
       "      <td>qpw</td>\n",
       "      <td>5</td>\n",
       "    </tr>\n",
       "    <tr>\n",
       "      <th>30</th>\n",
       "      <td>cridgewell</td>\n",
       "      <td>6</td>\n",
       "    </tr>\n",
       "    <tr>\n",
       "      <th>31</th>\n",
       "      <td>edm</td>\n",
       "      <td>2</td>\n",
       "    </tr>\n",
       "    <tr>\n",
       "      <th>32</th>\n",
       "      <td>pic</td>\n",
       "      <td>5</td>\n",
       "    </tr>\n",
       "    <tr>\n",
       "      <th>33</th>\n",
       "      <td>B2KM</td>\n",
       "      <td>1</td>\n",
       "    </tr>\n",
       "    <tr>\n",
       "      <th>34</th>\n",
       "      <td>B2KDG</td>\n",
       "      <td>21</td>\n",
       "    </tr>\n",
       "    <tr>\n",
       "      <th>35</th>\n",
       "      <td>IGDG</td>\n",
       "      <td>1</td>\n",
       "    </tr>\n",
       "  </tbody>\n",
       "</table>\n",
       "</div>"
      ],
      "text/plain": [
       "          廣告名稱  樣本數\n",
       "0         B2KP   57\n",
       "2         ikip  652\n",
       "3         KBDG  145\n",
       "5       B2KPOD   23\n",
       "7          B2K  452\n",
       "8        qdwit  896\n",
       "9        edmMK   20\n",
       "10         KBP   31\n",
       "11       KDPOD  937\n",
       "12        edmP  128\n",
       "13       GINEP  154\n",
       "14        KDMK  320\n",
       "15       edmMP   26\n",
       "16       GINEM   13\n",
       "17         KDM    2\n",
       "18       B2KMP    1\n",
       "19        KDPM  140\n",
       "20      GINEMK   24\n",
       "21       B2KMK   10\n",
       "22         IGP   20\n",
       "23        edmD    1\n",
       "24         YND   52\n",
       "25        KBMP    1\n",
       "26        edmM    4\n",
       "27      GINEMP   22\n",
       "28        KDMP   29\n",
       "29         qpw    5\n",
       "30  cridgewell    6\n",
       "31         edm    2\n",
       "32         pic    5\n",
       "33        B2KM    1\n",
       "34       B2KDG   21\n",
       "35        IGDG    1"
      ]
     },
     "execution_count": 15,
     "metadata": {},
     "output_type": "execute_result"
    }
   ],
   "source": [
    "dead_list = count_list[count_list['樣本數'] < dead_number]\n",
    "dead_list"
   ]
  },
  {
   "cell_type": "markdown",
   "metadata": {},
   "source": [
    "### 7. 將非熱門廣告從資料集中排除"
   ]
  },
  {
   "cell_type": "code",
   "execution_count": 16,
   "metadata": {},
   "outputs": [],
   "source": [
    "for i in dead_list['廣告名稱']:\n",
    "    data= data[~data['廣告代號all'].isin([i])]"
   ]
  },
  {
   "cell_type": "code",
   "execution_count": 17,
   "metadata": {},
   "outputs": [
    {
     "data": {
      "text/html": [
       "<div>\n",
       "<style scoped>\n",
       "    .dataframe tbody tr th:only-of-type {\n",
       "        vertical-align: middle;\n",
       "    }\n",
       "\n",
       "    .dataframe tbody tr th {\n",
       "        vertical-align: top;\n",
       "    }\n",
       "\n",
       "    .dataframe thead th {\n",
       "        text-align: right;\n",
       "    }\n",
       "</style>\n",
       "<table border=\"1\" class=\"dataframe\">\n",
       "  <thead>\n",
       "    <tr style=\"text-align: right;\">\n",
       "      <th></th>\n",
       "      <th>單價</th>\n",
       "      <th>成本</th>\n",
       "      <th>系列</th>\n",
       "      <th>訂單時間</th>\n",
       "      <th>廣告代號all</th>\n",
       "    </tr>\n",
       "  </thead>\n",
       "  <tbody>\n",
       "    <tr>\n",
       "      <th>654</th>\n",
       "      <td>1135.0</td>\n",
       "      <td>661.0</td>\n",
       "      <td>系列4</td>\n",
       "      <td>2018-01-05T04:13:39</td>\n",
       "      <td>critei</td>\n",
       "    </tr>\n",
       "    <tr>\n",
       "      <th>673</th>\n",
       "      <td>910.0</td>\n",
       "      <td>416.0</td>\n",
       "      <td>系列4</td>\n",
       "      <td>2016-04-18T04:57:25</td>\n",
       "      <td>critei</td>\n",
       "    </tr>\n",
       "    <tr>\n",
       "      <th>775</th>\n",
       "      <td>887.0</td>\n",
       "      <td>676.0</td>\n",
       "      <td>系列4</td>\n",
       "      <td>2016-01-13T09:32:27</td>\n",
       "      <td>自然流量</td>\n",
       "    </tr>\n",
       "    <tr>\n",
       "      <th>825</th>\n",
       "      <td>686.0</td>\n",
       "      <td>419.0</td>\n",
       "      <td>系列4</td>\n",
       "      <td>2016-08-01T12:35:28</td>\n",
       "      <td>自然流量</td>\n",
       "    </tr>\n",
       "    <tr>\n",
       "      <th>826</th>\n",
       "      <td>870.0</td>\n",
       "      <td>419.0</td>\n",
       "      <td>系列4</td>\n",
       "      <td>2016-08-01T12:35:28</td>\n",
       "      <td>自然流量</td>\n",
       "    </tr>\n",
       "    <tr>\n",
       "      <th>827</th>\n",
       "      <td>832.0</td>\n",
       "      <td>367.0</td>\n",
       "      <td>系列4</td>\n",
       "      <td>2016-08-01T12:35:28</td>\n",
       "      <td>自然流量</td>\n",
       "    </tr>\n",
       "  </tbody>\n",
       "</table>\n",
       "</div>"
      ],
      "text/plain": [
       "         單價     成本   系列                 訂單時間 廣告代號all\n",
       "654  1135.0  661.0  系列4  2018-01-05T04:13:39  critei\n",
       "673   910.0  416.0  系列4  2016-04-18T04:57:25  critei\n",
       "775   887.0  676.0  系列4  2016-01-13T09:32:27    自然流量\n",
       "825   686.0  419.0  系列4  2016-08-01T12:35:28    自然流量\n",
       "826   870.0  419.0  系列4  2016-08-01T12:35:28    自然流量\n",
       "827   832.0  367.0  系列4  2016-08-01T12:35:28    自然流量"
      ]
     },
     "execution_count": 17,
     "metadata": {},
     "output_type": "execute_result"
    }
   ],
   "source": [
    "data.head(6)"
   ]
  },
  {
   "cell_type": "markdown",
   "metadata": {},
   "source": [
    "### 8. 將自然流量的交易資料刪除"
   ]
  },
  {
   "cell_type": "code",
   "execution_count": 18,
   "metadata": {},
   "outputs": [
    {
     "data": {
      "text/html": [
       "<div>\n",
       "<style scoped>\n",
       "    .dataframe tbody tr th:only-of-type {\n",
       "        vertical-align: middle;\n",
       "    }\n",
       "\n",
       "    .dataframe tbody tr th {\n",
       "        vertical-align: top;\n",
       "    }\n",
       "\n",
       "    .dataframe thead th {\n",
       "        text-align: right;\n",
       "    }\n",
       "</style>\n",
       "<table border=\"1\" class=\"dataframe\">\n",
       "  <thead>\n",
       "    <tr style=\"text-align: right;\">\n",
       "      <th></th>\n",
       "      <th>單價</th>\n",
       "      <th>成本</th>\n",
       "      <th>系列</th>\n",
       "      <th>訂單時間</th>\n",
       "      <th>廣告代號all</th>\n",
       "    </tr>\n",
       "  </thead>\n",
       "  <tbody>\n",
       "    <tr>\n",
       "      <th>654</th>\n",
       "      <td>1135.0</td>\n",
       "      <td>661.0</td>\n",
       "      <td>系列4</td>\n",
       "      <td>2018-01-05T04:13:39</td>\n",
       "      <td>critei</td>\n",
       "    </tr>\n",
       "    <tr>\n",
       "      <th>673</th>\n",
       "      <td>910.0</td>\n",
       "      <td>416.0</td>\n",
       "      <td>系列4</td>\n",
       "      <td>2016-04-18T04:57:25</td>\n",
       "      <td>critei</td>\n",
       "    </tr>\n",
       "    <tr>\n",
       "      <th>995</th>\n",
       "      <td>469.0</td>\n",
       "      <td>199.0</td>\n",
       "      <td>系列4</td>\n",
       "      <td>2016-09-18T18:49:08</td>\n",
       "      <td>critei</td>\n",
       "    </tr>\n",
       "    <tr>\n",
       "      <th>1084</th>\n",
       "      <td>642.0</td>\n",
       "      <td>354.0</td>\n",
       "      <td>系列4</td>\n",
       "      <td>2017-05-29T02:16:19</td>\n",
       "      <td>KDP</td>\n",
       "    </tr>\n",
       "    <tr>\n",
       "      <th>1134</th>\n",
       "      <td>780.0</td>\n",
       "      <td>367.0</td>\n",
       "      <td>系列4</td>\n",
       "      <td>2016-04-25T06:30:51</td>\n",
       "      <td>critei</td>\n",
       "    </tr>\n",
       "    <tr>\n",
       "      <th>1172</th>\n",
       "      <td>576.0</td>\n",
       "      <td>263.0</td>\n",
       "      <td>系列4</td>\n",
       "      <td>2017-04-23T09:47:12</td>\n",
       "      <td>KDP</td>\n",
       "    </tr>\n",
       "  </tbody>\n",
       "</table>\n",
       "</div>"
      ],
      "text/plain": [
       "          單價     成本   系列                 訂單時間 廣告代號all\n",
       "654   1135.0  661.0  系列4  2018-01-05T04:13:39  critei\n",
       "673    910.0  416.0  系列4  2016-04-18T04:57:25  critei\n",
       "995    469.0  199.0  系列4  2016-09-18T18:49:08  critei\n",
       "1084   642.0  354.0  系列4  2017-05-29T02:16:19     KDP\n",
       "1134   780.0  367.0  系列4  2016-04-25T06:30:51  critei\n",
       "1172   576.0  263.0  系列4  2017-04-23T09:47:12     KDP"
      ]
     },
     "execution_count": 18,
     "metadata": {},
     "output_type": "execute_result"
    }
   ],
   "source": [
    "data = data[~data['廣告代號all'].isin(['自然流量'])]\n",
    "data.head(6)"
   ]
  },
  {
   "cell_type": "markdown",
   "metadata": {},
   "source": [
    "## 四、進階資料處理－不同廣告每期帶來的淨利"
   ]
  },
  {
   "cell_type": "markdown",
   "metadata": {},
   "source": [
    "### 1. 新增「月份」欄位"
   ]
  },
  {
   "cell_type": "code",
   "execution_count": 19,
   "metadata": {},
   "outputs": [
    {
     "data": {
      "text/html": [
       "<div>\n",
       "<style scoped>\n",
       "    .dataframe tbody tr th:only-of-type {\n",
       "        vertical-align: middle;\n",
       "    }\n",
       "\n",
       "    .dataframe tbody tr th {\n",
       "        vertical-align: top;\n",
       "    }\n",
       "\n",
       "    .dataframe thead th {\n",
       "        text-align: right;\n",
       "    }\n",
       "</style>\n",
       "<table border=\"1\" class=\"dataframe\">\n",
       "  <thead>\n",
       "    <tr style=\"text-align: right;\">\n",
       "      <th></th>\n",
       "      <th>單價</th>\n",
       "      <th>成本</th>\n",
       "      <th>系列</th>\n",
       "      <th>訂單時間</th>\n",
       "      <th>廣告代號all</th>\n",
       "      <th>月份</th>\n",
       "    </tr>\n",
       "  </thead>\n",
       "  <tbody>\n",
       "    <tr>\n",
       "      <th>654</th>\n",
       "      <td>1135.0</td>\n",
       "      <td>661.0</td>\n",
       "      <td>系列4</td>\n",
       "      <td>2018-01-05T04:13:39</td>\n",
       "      <td>critei</td>\n",
       "      <td>1</td>\n",
       "    </tr>\n",
       "    <tr>\n",
       "      <th>673</th>\n",
       "      <td>910.0</td>\n",
       "      <td>416.0</td>\n",
       "      <td>系列4</td>\n",
       "      <td>2016-04-18T04:57:25</td>\n",
       "      <td>critei</td>\n",
       "      <td>4</td>\n",
       "    </tr>\n",
       "    <tr>\n",
       "      <th>995</th>\n",
       "      <td>469.0</td>\n",
       "      <td>199.0</td>\n",
       "      <td>系列4</td>\n",
       "      <td>2016-09-18T18:49:08</td>\n",
       "      <td>critei</td>\n",
       "      <td>9</td>\n",
       "    </tr>\n",
       "    <tr>\n",
       "      <th>1084</th>\n",
       "      <td>642.0</td>\n",
       "      <td>354.0</td>\n",
       "      <td>系列4</td>\n",
       "      <td>2017-05-29T02:16:19</td>\n",
       "      <td>KDP</td>\n",
       "      <td>5</td>\n",
       "    </tr>\n",
       "    <tr>\n",
       "      <th>1134</th>\n",
       "      <td>780.0</td>\n",
       "      <td>367.0</td>\n",
       "      <td>系列4</td>\n",
       "      <td>2016-04-25T06:30:51</td>\n",
       "      <td>critei</td>\n",
       "      <td>4</td>\n",
       "    </tr>\n",
       "    <tr>\n",
       "      <th>1172</th>\n",
       "      <td>576.0</td>\n",
       "      <td>263.0</td>\n",
       "      <td>系列4</td>\n",
       "      <td>2017-04-23T09:47:12</td>\n",
       "      <td>KDP</td>\n",
       "      <td>4</td>\n",
       "    </tr>\n",
       "  </tbody>\n",
       "</table>\n",
       "</div>"
      ],
      "text/plain": [
       "          單價     成本   系列                 訂單時間 廣告代號all  月份\n",
       "654   1135.0  661.0  系列4  2018-01-05T04:13:39  critei   1\n",
       "673    910.0  416.0  系列4  2016-04-18T04:57:25  critei   4\n",
       "995    469.0  199.0  系列4  2016-09-18T18:49:08  critei   9\n",
       "1084   642.0  354.0  系列4  2017-05-29T02:16:19     KDP   5\n",
       "1134   780.0  367.0  系列4  2016-04-25T06:30:51  critei   4\n",
       "1172   576.0  263.0  系列4  2017-04-23T09:47:12     KDP   4"
      ]
     },
     "execution_count": 19,
     "metadata": {},
     "output_type": "execute_result"
    }
   ],
   "source": [
    "data['月份'] = data['訂單時間'].str.split('-', expand = True)[1].astype(int)\n",
    "data.head(6)"
   ]
  },
  {
   "cell_type": "markdown",
   "metadata": {},
   "source": [
    "### 2. 新增「年月」欄位"
   ]
  },
  {
   "cell_type": "code",
   "execution_count": 20,
   "metadata": {},
   "outputs": [
    {
     "data": {
      "text/html": [
       "<div>\n",
       "<style scoped>\n",
       "    .dataframe tbody tr th:only-of-type {\n",
       "        vertical-align: middle;\n",
       "    }\n",
       "\n",
       "    .dataframe tbody tr th {\n",
       "        vertical-align: top;\n",
       "    }\n",
       "\n",
       "    .dataframe thead th {\n",
       "        text-align: right;\n",
       "    }\n",
       "</style>\n",
       "<table border=\"1\" class=\"dataframe\">\n",
       "  <thead>\n",
       "    <tr style=\"text-align: right;\">\n",
       "      <th></th>\n",
       "      <th>單價</th>\n",
       "      <th>成本</th>\n",
       "      <th>系列</th>\n",
       "      <th>訂單時間</th>\n",
       "      <th>廣告代號all</th>\n",
       "      <th>月份</th>\n",
       "      <th>年月</th>\n",
       "    </tr>\n",
       "  </thead>\n",
       "  <tbody>\n",
       "    <tr>\n",
       "      <th>654</th>\n",
       "      <td>1135.0</td>\n",
       "      <td>661.0</td>\n",
       "      <td>系列4</td>\n",
       "      <td>2018-01-05T04:13:39</td>\n",
       "      <td>critei</td>\n",
       "      <td>1</td>\n",
       "      <td>201801</td>\n",
       "    </tr>\n",
       "    <tr>\n",
       "      <th>673</th>\n",
       "      <td>910.0</td>\n",
       "      <td>416.0</td>\n",
       "      <td>系列4</td>\n",
       "      <td>2016-04-18T04:57:25</td>\n",
       "      <td>critei</td>\n",
       "      <td>4</td>\n",
       "      <td>201604</td>\n",
       "    </tr>\n",
       "    <tr>\n",
       "      <th>995</th>\n",
       "      <td>469.0</td>\n",
       "      <td>199.0</td>\n",
       "      <td>系列4</td>\n",
       "      <td>2016-09-18T18:49:08</td>\n",
       "      <td>critei</td>\n",
       "      <td>9</td>\n",
       "      <td>201609</td>\n",
       "    </tr>\n",
       "    <tr>\n",
       "      <th>1084</th>\n",
       "      <td>642.0</td>\n",
       "      <td>354.0</td>\n",
       "      <td>系列4</td>\n",
       "      <td>2017-05-29T02:16:19</td>\n",
       "      <td>KDP</td>\n",
       "      <td>5</td>\n",
       "      <td>201705</td>\n",
       "    </tr>\n",
       "    <tr>\n",
       "      <th>1134</th>\n",
       "      <td>780.0</td>\n",
       "      <td>367.0</td>\n",
       "      <td>系列4</td>\n",
       "      <td>2016-04-25T06:30:51</td>\n",
       "      <td>critei</td>\n",
       "      <td>4</td>\n",
       "      <td>201604</td>\n",
       "    </tr>\n",
       "    <tr>\n",
       "      <th>1172</th>\n",
       "      <td>576.0</td>\n",
       "      <td>263.0</td>\n",
       "      <td>系列4</td>\n",
       "      <td>2017-04-23T09:47:12</td>\n",
       "      <td>KDP</td>\n",
       "      <td>4</td>\n",
       "      <td>201704</td>\n",
       "    </tr>\n",
       "  </tbody>\n",
       "</table>\n",
       "</div>"
      ],
      "text/plain": [
       "          單價     成本   系列                 訂單時間 廣告代號all  月份      年月\n",
       "654   1135.0  661.0  系列4  2018-01-05T04:13:39  critei   1  201801\n",
       "673    910.0  416.0  系列4  2016-04-18T04:57:25  critei   4  201604\n",
       "995    469.0  199.0  系列4  2016-09-18T18:49:08  critei   9  201609\n",
       "1084   642.0  354.0  系列4  2017-05-29T02:16:19     KDP   5  201705\n",
       "1134   780.0  367.0  系列4  2016-04-25T06:30:51  critei   4  201604\n",
       "1172   576.0  263.0  系列4  2017-04-23T09:47:12     KDP   4  201704"
      ]
     },
     "execution_count": 20,
     "metadata": {},
     "output_type": "execute_result"
    }
   ],
   "source": [
    "data['年月'] = (data['訂單時間'].str.split('-', expand = True)[0] + data['訂單時間'].str.split('-', expand = True)[1]).astype(int)\n",
    "data.head(6)"
   ]
  },
  {
   "cell_type": "markdown",
   "metadata": {},
   "source": [
    "### 3. 新增「淨利」欄位"
   ]
  },
  {
   "cell_type": "code",
   "execution_count": 21,
   "metadata": {},
   "outputs": [
    {
     "data": {
      "text/html": [
       "<div>\n",
       "<style scoped>\n",
       "    .dataframe tbody tr th:only-of-type {\n",
       "        vertical-align: middle;\n",
       "    }\n",
       "\n",
       "    .dataframe tbody tr th {\n",
       "        vertical-align: top;\n",
       "    }\n",
       "\n",
       "    .dataframe thead th {\n",
       "        text-align: right;\n",
       "    }\n",
       "</style>\n",
       "<table border=\"1\" class=\"dataframe\">\n",
       "  <thead>\n",
       "    <tr style=\"text-align: right;\">\n",
       "      <th></th>\n",
       "      <th>單價</th>\n",
       "      <th>成本</th>\n",
       "      <th>系列</th>\n",
       "      <th>訂單時間</th>\n",
       "      <th>廣告代號all</th>\n",
       "      <th>月份</th>\n",
       "      <th>年月</th>\n",
       "      <th>淨利</th>\n",
       "    </tr>\n",
       "  </thead>\n",
       "  <tbody>\n",
       "    <tr>\n",
       "      <th>654</th>\n",
       "      <td>1135.0</td>\n",
       "      <td>661.0</td>\n",
       "      <td>系列4</td>\n",
       "      <td>2018-01-05T04:13:39</td>\n",
       "      <td>critei</td>\n",
       "      <td>1</td>\n",
       "      <td>201801</td>\n",
       "      <td>474.0</td>\n",
       "    </tr>\n",
       "    <tr>\n",
       "      <th>673</th>\n",
       "      <td>910.0</td>\n",
       "      <td>416.0</td>\n",
       "      <td>系列4</td>\n",
       "      <td>2016-04-18T04:57:25</td>\n",
       "      <td>critei</td>\n",
       "      <td>4</td>\n",
       "      <td>201604</td>\n",
       "      <td>494.0</td>\n",
       "    </tr>\n",
       "    <tr>\n",
       "      <th>995</th>\n",
       "      <td>469.0</td>\n",
       "      <td>199.0</td>\n",
       "      <td>系列4</td>\n",
       "      <td>2016-09-18T18:49:08</td>\n",
       "      <td>critei</td>\n",
       "      <td>9</td>\n",
       "      <td>201609</td>\n",
       "      <td>270.0</td>\n",
       "    </tr>\n",
       "    <tr>\n",
       "      <th>1084</th>\n",
       "      <td>642.0</td>\n",
       "      <td>354.0</td>\n",
       "      <td>系列4</td>\n",
       "      <td>2017-05-29T02:16:19</td>\n",
       "      <td>KDP</td>\n",
       "      <td>5</td>\n",
       "      <td>201705</td>\n",
       "      <td>288.0</td>\n",
       "    </tr>\n",
       "    <tr>\n",
       "      <th>1134</th>\n",
       "      <td>780.0</td>\n",
       "      <td>367.0</td>\n",
       "      <td>系列4</td>\n",
       "      <td>2016-04-25T06:30:51</td>\n",
       "      <td>critei</td>\n",
       "      <td>4</td>\n",
       "      <td>201604</td>\n",
       "      <td>413.0</td>\n",
       "    </tr>\n",
       "    <tr>\n",
       "      <th>1172</th>\n",
       "      <td>576.0</td>\n",
       "      <td>263.0</td>\n",
       "      <td>系列4</td>\n",
       "      <td>2017-04-23T09:47:12</td>\n",
       "      <td>KDP</td>\n",
       "      <td>4</td>\n",
       "      <td>201704</td>\n",
       "      <td>313.0</td>\n",
       "    </tr>\n",
       "  </tbody>\n",
       "</table>\n",
       "</div>"
      ],
      "text/plain": [
       "          單價     成本   系列                 訂單時間 廣告代號all  月份      年月     淨利\n",
       "654   1135.0  661.0  系列4  2018-01-05T04:13:39  critei   1  201801  474.0\n",
       "673    910.0  416.0  系列4  2016-04-18T04:57:25  critei   4  201604  494.0\n",
       "995    469.0  199.0  系列4  2016-09-18T18:49:08  critei   9  201609  270.0\n",
       "1084   642.0  354.0  系列4  2017-05-29T02:16:19     KDP   5  201705  288.0\n",
       "1134   780.0  367.0  系列4  2016-04-25T06:30:51  critei   4  201604  413.0\n",
       "1172   576.0  263.0  系列4  2017-04-23T09:47:12     KDP   4  201704  313.0"
      ]
     },
     "execution_count": 21,
     "metadata": {},
     "output_type": "execute_result"
    }
   ],
   "source": [
    "data['淨利'] = data['單價'] - data['成本']\n",
    "data.head(6)"
   ]
  },
  {
   "cell_type": "markdown",
   "metadata": {},
   "source": [
    "### 4. 根據「廣告代號all」、「月份」及「年月」欄位交叉組合出不同的淨利總和"
   ]
  },
  {
   "cell_type": "code",
   "execution_count": 22,
   "metadata": {},
   "outputs": [
    {
     "data": {
      "text/plain": [
       "廣告代號all  月份  年月    \n",
       "KDP      1   201801    46315.0\n",
       "             201901     1118.0\n",
       "         2   201702    12109.0\n",
       "             201802     2825.0\n",
       "             201902      858.0\n",
       "                        ...   \n",
       "critei   11  201711     2319.0\n",
       "             201811     2176.0\n",
       "         12  201612    12216.0\n",
       "             201712     2940.0\n",
       "             201812     2256.0\n",
       "Name: 淨利, Length: 68, dtype: float64"
      ]
     },
     "execution_count": 22,
     "metadata": {},
     "output_type": "execute_result"
    }
   ],
   "source": [
    "data = data.groupby(['廣告代號all', '月份', '年月'])['淨利'].sum()\n",
    "data"
   ]
  },
  {
   "cell_type": "markdown",
   "metadata": {},
   "source": [
    "### 5. 將「data」重新組合為DataFrame形式"
   ]
  },
  {
   "cell_type": "code",
   "execution_count": 23,
   "metadata": {},
   "outputs": [
    {
     "data": {
      "text/html": [
       "<div>\n",
       "<style scoped>\n",
       "    .dataframe tbody tr th:only-of-type {\n",
       "        vertical-align: middle;\n",
       "    }\n",
       "\n",
       "    .dataframe tbody tr th {\n",
       "        vertical-align: top;\n",
       "    }\n",
       "\n",
       "    .dataframe thead th {\n",
       "        text-align: right;\n",
       "    }\n",
       "</style>\n",
       "<table border=\"1\" class=\"dataframe\">\n",
       "  <thead>\n",
       "    <tr style=\"text-align: right;\">\n",
       "      <th></th>\n",
       "      <th>廣告代號all</th>\n",
       "      <th>月份</th>\n",
       "      <th>年月</th>\n",
       "      <th>淨利</th>\n",
       "    </tr>\n",
       "  </thead>\n",
       "  <tbody>\n",
       "    <tr>\n",
       "      <th>0</th>\n",
       "      <td>KDP</td>\n",
       "      <td>1</td>\n",
       "      <td>201801</td>\n",
       "      <td>46315.0</td>\n",
       "    </tr>\n",
       "    <tr>\n",
       "      <th>1</th>\n",
       "      <td>KDP</td>\n",
       "      <td>1</td>\n",
       "      <td>201901</td>\n",
       "      <td>1118.0</td>\n",
       "    </tr>\n",
       "    <tr>\n",
       "      <th>2</th>\n",
       "      <td>KDP</td>\n",
       "      <td>2</td>\n",
       "      <td>201702</td>\n",
       "      <td>12109.0</td>\n",
       "    </tr>\n",
       "    <tr>\n",
       "      <th>3</th>\n",
       "      <td>KDP</td>\n",
       "      <td>2</td>\n",
       "      <td>201802</td>\n",
       "      <td>2825.0</td>\n",
       "    </tr>\n",
       "    <tr>\n",
       "      <th>4</th>\n",
       "      <td>KDP</td>\n",
       "      <td>2</td>\n",
       "      <td>201902</td>\n",
       "      <td>858.0</td>\n",
       "    </tr>\n",
       "    <tr>\n",
       "      <th>5</th>\n",
       "      <td>KDP</td>\n",
       "      <td>3</td>\n",
       "      <td>201703</td>\n",
       "      <td>66600.0</td>\n",
       "    </tr>\n",
       "  </tbody>\n",
       "</table>\n",
       "</div>"
      ],
      "text/plain": [
       "  廣告代號all  月份      年月       淨利\n",
       "0     KDP   1  201801  46315.0\n",
       "1     KDP   1  201901   1118.0\n",
       "2     KDP   2  201702  12109.0\n",
       "3     KDP   2  201802   2825.0\n",
       "4     KDP   2  201902    858.0\n",
       "5     KDP   3  201703  66600.0"
      ]
     },
     "execution_count": 23,
     "metadata": {},
     "output_type": "execute_result"
    }
   ],
   "source": [
    "data = data.to_frame().reset_index()\n",
    "data.head(6)"
   ]
  },
  {
   "cell_type": "markdown",
   "metadata": {},
   "source": [
    "### 6. 移除多餘欄位，並新增「count」欄位"
   ]
  },
  {
   "cell_type": "code",
   "execution_count": 24,
   "metadata": {},
   "outputs": [
    {
     "data": {
      "text/html": [
       "<div>\n",
       "<style scoped>\n",
       "    .dataframe tbody tr th:only-of-type {\n",
       "        vertical-align: middle;\n",
       "    }\n",
       "\n",
       "    .dataframe tbody tr th {\n",
       "        vertical-align: top;\n",
       "    }\n",
       "\n",
       "    .dataframe thead th {\n",
       "        text-align: right;\n",
       "    }\n",
       "</style>\n",
       "<table border=\"1\" class=\"dataframe\">\n",
       "  <thead>\n",
       "    <tr style=\"text-align: right;\">\n",
       "      <th></th>\n",
       "      <th>廣告代號all</th>\n",
       "      <th>月份</th>\n",
       "      <th>淨利</th>\n",
       "      <th>count</th>\n",
       "    </tr>\n",
       "  </thead>\n",
       "  <tbody>\n",
       "    <tr>\n",
       "      <th>0</th>\n",
       "      <td>KDP</td>\n",
       "      <td>1</td>\n",
       "      <td>46315.0</td>\n",
       "      <td>1</td>\n",
       "    </tr>\n",
       "    <tr>\n",
       "      <th>1</th>\n",
       "      <td>KDP</td>\n",
       "      <td>1</td>\n",
       "      <td>1118.0</td>\n",
       "      <td>1</td>\n",
       "    </tr>\n",
       "    <tr>\n",
       "      <th>2</th>\n",
       "      <td>KDP</td>\n",
       "      <td>2</td>\n",
       "      <td>12109.0</td>\n",
       "      <td>1</td>\n",
       "    </tr>\n",
       "    <tr>\n",
       "      <th>3</th>\n",
       "      <td>KDP</td>\n",
       "      <td>2</td>\n",
       "      <td>2825.0</td>\n",
       "      <td>1</td>\n",
       "    </tr>\n",
       "    <tr>\n",
       "      <th>4</th>\n",
       "      <td>KDP</td>\n",
       "      <td>2</td>\n",
       "      <td>858.0</td>\n",
       "      <td>1</td>\n",
       "    </tr>\n",
       "    <tr>\n",
       "      <th>5</th>\n",
       "      <td>KDP</td>\n",
       "      <td>3</td>\n",
       "      <td>66600.0</td>\n",
       "      <td>1</td>\n",
       "    </tr>\n",
       "  </tbody>\n",
       "</table>\n",
       "</div>"
      ],
      "text/plain": [
       "  廣告代號all  月份       淨利  count\n",
       "0     KDP   1  46315.0      1\n",
       "1     KDP   1   1118.0      1\n",
       "2     KDP   2  12109.0      1\n",
       "3     KDP   2   2825.0      1\n",
       "4     KDP   2    858.0      1\n",
       "5     KDP   3  66600.0      1"
      ]
     },
     "execution_count": 24,
     "metadata": {},
     "output_type": "execute_result"
    }
   ],
   "source": [
    "data = data.drop(['年月'], axis=1)\n",
    "data['count'] = 1\n",
    "data.head(6)"
   ]
  },
  {
   "cell_type": "markdown",
   "metadata": {},
   "source": [
    "## 五、繪圖"
   ]
  },
  {
   "cell_type": "markdown",
   "metadata": {},
   "source": [
    "### 1. 繪製盒鬚圖"
   ]
  },
  {
   "cell_type": "code",
   "execution_count": 25,
   "metadata": {},
   "outputs": [],
   "source": [
    "fig = go.Figure() # 設定空白畫布\n",
    "colors_box = ['#3366CC', '#DC3912'] # 設定盒子顏色\n",
    "# 繪製盒鬚圖\n",
    "for i in range(0, len(data['廣告代號all'].unique())):\n",
    "    fig.add_trace(go.Box(\n",
    "    y = data[data['廣告代號all'] ==data['廣告代號all'].unique()[i]]['淨利'],\n",
    "    x = data[data['廣告代號all'] ==data['廣告代號all'].unique()[i]]['月份'],\n",
    "    name = str(data[data['廣告代號all'] ==data['廣告代號all'].unique()[i]]['廣告代號all'][0:1].values[0]),\n",
    "    marker_color= colors_box[i]\n",
    "    ))\n"
   ]
  },
  {
   "cell_type": "markdown",
   "metadata": {},
   "source": [
    "### 2. 繪製平均折線圖"
   ]
  },
  {
   "cell_type": "code",
   "execution_count": 26,
   "metadata": {},
   "outputs": [
    {
     "name": "stderr",
     "output_type": "stream",
     "text": [
      "c:\\Users\\howar\\anaconda3\\envs\\MDS\\lib\\site-packages\\ipykernel_launcher.py:12: UserWarning:\n",
      "\n",
      "Boolean Series key will be reindexed to match DataFrame index.\n",
      "\n",
      "c:\\Users\\howar\\anaconda3\\envs\\MDS\\lib\\site-packages\\ipykernel_launcher.py:13: UserWarning:\n",
      "\n",
      "Boolean Series key will be reindexed to match DataFrame index.\n",
      "\n"
     ]
    }
   ],
   "source": [
    "adlist = list(data['廣告代號all'].unique()) # 廣告名稱清單\n",
    "color_line = [\"royalblue\" , \"firebrick\"] # 設定線條顏色\n",
    "# 畫平均線\n",
    "for i in range(0,len(adlist)):\n",
    "    ad = adlist[i]\n",
    "    colour = color_line[i]\n",
    "    meanlist = [] # 平均\n",
    "    axislist = [] # 月分\n",
    "    \n",
    "    for ii in range(1,13):\n",
    "        axislist.append(ii)\n",
    "        total = data[data['廣告代號all'] == ad][data['月份'] == ii]['淨利'].sum()\n",
    "        counts = data[data['廣告代號all'] == ad][data['月份'] == ii]['count'].sum()\n",
    "        aver = total/counts\n",
    "        meanlist.append(aver)\n",
    "        \n",
    "        if ii == 12:   \n",
    "            fig.add_trace(go.Scatter(\n",
    "            x= axislist,\n",
    "            y= meanlist,\n",
    "            mode=\"lines+markers\",\n",
    "            textfont=dict(\n",
    "            family=\"sans serif\",\n",
    "            size=16,\n",
    "            color=\"royalblue\"),    \n",
    "            line=dict(color=colour, width=2),\n",
    "            ))\n"
   ]
  },
  {
   "cell_type": "markdown",
   "metadata": {},
   "source": [
    "### 3. 設定佈景主題"
   ]
  },
  {
   "cell_type": "code",
   "execution_count": 27,
   "metadata": {},
   "outputs": [
    {
     "data": {
      "application/vnd.plotly.v1+json": {
       "config": {
        "plotlyServerURL": "https://plot.ly"
       },
       "data": [
        {
         "marker": {
          "color": "#3366CC"
         },
         "name": "KDP",
         "type": "box",
         "x": [
          1,
          1,
          2,
          2,
          2,
          3,
          3,
          3,
          4,
          4,
          4,
          5,
          5,
          5,
          6,
          6,
          7,
          7,
          7,
          8,
          8,
          9,
          9,
          10,
          10,
          11,
          11,
          12,
          12
         ],
         "y": [
          46315,
          1118,
          12109,
          2825,
          858,
          66600,
          3096,
          1678,
          97131,
          2217,
          534,
          226900,
          40557,
          292,
          30349,
          1201,
          29564,
          16711,
          1851,
          14324,
          67755,
          3942,
          5688,
          7005,
          1554,
          6989,
          1020,
          3559,
          4525
         ]
        },
        {
         "marker": {
          "color": "#DC3912"
         },
         "name": "critei",
         "type": "box",
         "x": [
          1,
          1,
          1,
          1,
          2,
          2,
          2,
          2,
          3,
          3,
          3,
          3,
          4,
          4,
          4,
          5,
          5,
          5,
          6,
          6,
          6,
          7,
          7,
          7,
          8,
          8,
          8,
          9,
          9,
          9,
          10,
          10,
          10,
          11,
          11,
          11,
          12,
          12,
          12
         ],
         "y": [
          26943,
          15504,
          8261,
          4958,
          4918,
          12976,
          4851,
          6058,
          17805,
          10493,
          1970,
          336,
          31481,
          32503,
          6496,
          43009,
          23624,
          7974,
          32153,
          23759,
          5389,
          10565,
          13474,
          1228,
          23007,
          8669,
          2552,
          14126,
          14112,
          3952,
          15618,
          5345,
          883,
          25655,
          2319,
          2176,
          12216,
          2940,
          2256
         ]
        },
        {
         "line": {
          "color": "royalblue",
          "width": 2
         },
         "mode": "lines+markers",
         "textfont": {
          "color": "royalblue",
          "family": "sans serif",
          "size": 16
         },
         "type": "scatter",
         "x": [
          1,
          2,
          3,
          4,
          5,
          6,
          7,
          8,
          9,
          10,
          11,
          12
         ],
         "y": [
          23716.5,
          5264,
          23791.333333333332,
          33294,
          89249.66666666667,
          15775,
          16042,
          41039.5,
          4815,
          4279.5,
          4004.5,
          4042
         ]
        },
        {
         "line": {
          "color": "firebrick",
          "width": 2
         },
         "mode": "lines+markers",
         "textfont": {
          "color": "royalblue",
          "family": "sans serif",
          "size": 16
         },
         "type": "scatter",
         "x": [
          1,
          2,
          3,
          4,
          5,
          6,
          7,
          8,
          9,
          10,
          11,
          12
         ],
         "y": [
          13916.5,
          7200.75,
          7651,
          23493.333333333332,
          24869,
          20433.666666666668,
          8422.333333333334,
          11409.333333333334,
          10730,
          7282,
          10050,
          5804
         ]
        }
       ],
       "layout": {
        "boxmode": "group",
        "font": {
         "color": "lightslategrey",
         "family": "Courier New, monospace",
         "size": 20
        },
        "height": 960,
        "template": {
         "data": {
          "bar": [
           {
            "error_x": {
             "color": "#2a3f5f"
            },
            "error_y": {
             "color": "#2a3f5f"
            },
            "marker": {
             "line": {
              "color": "#E5ECF6",
              "width": 0.5
             },
             "pattern": {
              "fillmode": "overlay",
              "size": 10,
              "solidity": 0.2
             }
            },
            "type": "bar"
           }
          ],
          "barpolar": [
           {
            "marker": {
             "line": {
              "color": "#E5ECF6",
              "width": 0.5
             },
             "pattern": {
              "fillmode": "overlay",
              "size": 10,
              "solidity": 0.2
             }
            },
            "type": "barpolar"
           }
          ],
          "carpet": [
           {
            "aaxis": {
             "endlinecolor": "#2a3f5f",
             "gridcolor": "white",
             "linecolor": "white",
             "minorgridcolor": "white",
             "startlinecolor": "#2a3f5f"
            },
            "baxis": {
             "endlinecolor": "#2a3f5f",
             "gridcolor": "white",
             "linecolor": "white",
             "minorgridcolor": "white",
             "startlinecolor": "#2a3f5f"
            },
            "type": "carpet"
           }
          ],
          "choropleth": [
           {
            "colorbar": {
             "outlinewidth": 0,
             "ticks": ""
            },
            "type": "choropleth"
           }
          ],
          "contour": [
           {
            "colorbar": {
             "outlinewidth": 0,
             "ticks": ""
            },
            "colorscale": [
             [
              0,
              "#0d0887"
             ],
             [
              0.1111111111111111,
              "#46039f"
             ],
             [
              0.2222222222222222,
              "#7201a8"
             ],
             [
              0.3333333333333333,
              "#9c179e"
             ],
             [
              0.4444444444444444,
              "#bd3786"
             ],
             [
              0.5555555555555556,
              "#d8576b"
             ],
             [
              0.6666666666666666,
              "#ed7953"
             ],
             [
              0.7777777777777778,
              "#fb9f3a"
             ],
             [
              0.8888888888888888,
              "#fdca26"
             ],
             [
              1,
              "#f0f921"
             ]
            ],
            "type": "contour"
           }
          ],
          "contourcarpet": [
           {
            "colorbar": {
             "outlinewidth": 0,
             "ticks": ""
            },
            "type": "contourcarpet"
           }
          ],
          "heatmap": [
           {
            "colorbar": {
             "outlinewidth": 0,
             "ticks": ""
            },
            "colorscale": [
             [
              0,
              "#0d0887"
             ],
             [
              0.1111111111111111,
              "#46039f"
             ],
             [
              0.2222222222222222,
              "#7201a8"
             ],
             [
              0.3333333333333333,
              "#9c179e"
             ],
             [
              0.4444444444444444,
              "#bd3786"
             ],
             [
              0.5555555555555556,
              "#d8576b"
             ],
             [
              0.6666666666666666,
              "#ed7953"
             ],
             [
              0.7777777777777778,
              "#fb9f3a"
             ],
             [
              0.8888888888888888,
              "#fdca26"
             ],
             [
              1,
              "#f0f921"
             ]
            ],
            "type": "heatmap"
           }
          ],
          "heatmapgl": [
           {
            "colorbar": {
             "outlinewidth": 0,
             "ticks": ""
            },
            "colorscale": [
             [
              0,
              "#0d0887"
             ],
             [
              0.1111111111111111,
              "#46039f"
             ],
             [
              0.2222222222222222,
              "#7201a8"
             ],
             [
              0.3333333333333333,
              "#9c179e"
             ],
             [
              0.4444444444444444,
              "#bd3786"
             ],
             [
              0.5555555555555556,
              "#d8576b"
             ],
             [
              0.6666666666666666,
              "#ed7953"
             ],
             [
              0.7777777777777778,
              "#fb9f3a"
             ],
             [
              0.8888888888888888,
              "#fdca26"
             ],
             [
              1,
              "#f0f921"
             ]
            ],
            "type": "heatmapgl"
           }
          ],
          "histogram": [
           {
            "marker": {
             "pattern": {
              "fillmode": "overlay",
              "size": 10,
              "solidity": 0.2
             }
            },
            "type": "histogram"
           }
          ],
          "histogram2d": [
           {
            "colorbar": {
             "outlinewidth": 0,
             "ticks": ""
            },
            "colorscale": [
             [
              0,
              "#0d0887"
             ],
             [
              0.1111111111111111,
              "#46039f"
             ],
             [
              0.2222222222222222,
              "#7201a8"
             ],
             [
              0.3333333333333333,
              "#9c179e"
             ],
             [
              0.4444444444444444,
              "#bd3786"
             ],
             [
              0.5555555555555556,
              "#d8576b"
             ],
             [
              0.6666666666666666,
              "#ed7953"
             ],
             [
              0.7777777777777778,
              "#fb9f3a"
             ],
             [
              0.8888888888888888,
              "#fdca26"
             ],
             [
              1,
              "#f0f921"
             ]
            ],
            "type": "histogram2d"
           }
          ],
          "histogram2dcontour": [
           {
            "colorbar": {
             "outlinewidth": 0,
             "ticks": ""
            },
            "colorscale": [
             [
              0,
              "#0d0887"
             ],
             [
              0.1111111111111111,
              "#46039f"
             ],
             [
              0.2222222222222222,
              "#7201a8"
             ],
             [
              0.3333333333333333,
              "#9c179e"
             ],
             [
              0.4444444444444444,
              "#bd3786"
             ],
             [
              0.5555555555555556,
              "#d8576b"
             ],
             [
              0.6666666666666666,
              "#ed7953"
             ],
             [
              0.7777777777777778,
              "#fb9f3a"
             ],
             [
              0.8888888888888888,
              "#fdca26"
             ],
             [
              1,
              "#f0f921"
             ]
            ],
            "type": "histogram2dcontour"
           }
          ],
          "mesh3d": [
           {
            "colorbar": {
             "outlinewidth": 0,
             "ticks": ""
            },
            "type": "mesh3d"
           }
          ],
          "parcoords": [
           {
            "line": {
             "colorbar": {
              "outlinewidth": 0,
              "ticks": ""
             }
            },
            "type": "parcoords"
           }
          ],
          "pie": [
           {
            "automargin": true,
            "type": "pie"
           }
          ],
          "scatter": [
           {
            "fillpattern": {
             "fillmode": "overlay",
             "size": 10,
             "solidity": 0.2
            },
            "type": "scatter"
           }
          ],
          "scatter3d": [
           {
            "line": {
             "colorbar": {
              "outlinewidth": 0,
              "ticks": ""
             }
            },
            "marker": {
             "colorbar": {
              "outlinewidth": 0,
              "ticks": ""
             }
            },
            "type": "scatter3d"
           }
          ],
          "scattercarpet": [
           {
            "marker": {
             "colorbar": {
              "outlinewidth": 0,
              "ticks": ""
             }
            },
            "type": "scattercarpet"
           }
          ],
          "scattergeo": [
           {
            "marker": {
             "colorbar": {
              "outlinewidth": 0,
              "ticks": ""
             }
            },
            "type": "scattergeo"
           }
          ],
          "scattergl": [
           {
            "marker": {
             "colorbar": {
              "outlinewidth": 0,
              "ticks": ""
             }
            },
            "type": "scattergl"
           }
          ],
          "scattermapbox": [
           {
            "marker": {
             "colorbar": {
              "outlinewidth": 0,
              "ticks": ""
             }
            },
            "type": "scattermapbox"
           }
          ],
          "scatterpolar": [
           {
            "marker": {
             "colorbar": {
              "outlinewidth": 0,
              "ticks": ""
             }
            },
            "type": "scatterpolar"
           }
          ],
          "scatterpolargl": [
           {
            "marker": {
             "colorbar": {
              "outlinewidth": 0,
              "ticks": ""
             }
            },
            "type": "scatterpolargl"
           }
          ],
          "scatterternary": [
           {
            "marker": {
             "colorbar": {
              "outlinewidth": 0,
              "ticks": ""
             }
            },
            "type": "scatterternary"
           }
          ],
          "surface": [
           {
            "colorbar": {
             "outlinewidth": 0,
             "ticks": ""
            },
            "colorscale": [
             [
              0,
              "#0d0887"
             ],
             [
              0.1111111111111111,
              "#46039f"
             ],
             [
              0.2222222222222222,
              "#7201a8"
             ],
             [
              0.3333333333333333,
              "#9c179e"
             ],
             [
              0.4444444444444444,
              "#bd3786"
             ],
             [
              0.5555555555555556,
              "#d8576b"
             ],
             [
              0.6666666666666666,
              "#ed7953"
             ],
             [
              0.7777777777777778,
              "#fb9f3a"
             ],
             [
              0.8888888888888888,
              "#fdca26"
             ],
             [
              1,
              "#f0f921"
             ]
            ],
            "type": "surface"
           }
          ],
          "table": [
           {
            "cells": {
             "fill": {
              "color": "#EBF0F8"
             },
             "line": {
              "color": "white"
             }
            },
            "header": {
             "fill": {
              "color": "#C8D4E3"
             },
             "line": {
              "color": "white"
             }
            },
            "type": "table"
           }
          ]
         },
         "layout": {
          "annotationdefaults": {
           "arrowcolor": "#2a3f5f",
           "arrowhead": 0,
           "arrowwidth": 1
          },
          "autotypenumbers": "strict",
          "coloraxis": {
           "colorbar": {
            "outlinewidth": 0,
            "ticks": ""
           }
          },
          "colorscale": {
           "diverging": [
            [
             0,
             "#8e0152"
            ],
            [
             0.1,
             "#c51b7d"
            ],
            [
             0.2,
             "#de77ae"
            ],
            [
             0.3,
             "#f1b6da"
            ],
            [
             0.4,
             "#fde0ef"
            ],
            [
             0.5,
             "#f7f7f7"
            ],
            [
             0.6,
             "#e6f5d0"
            ],
            [
             0.7,
             "#b8e186"
            ],
            [
             0.8,
             "#7fbc41"
            ],
            [
             0.9,
             "#4d9221"
            ],
            [
             1,
             "#276419"
            ]
           ],
           "sequential": [
            [
             0,
             "#0d0887"
            ],
            [
             0.1111111111111111,
             "#46039f"
            ],
            [
             0.2222222222222222,
             "#7201a8"
            ],
            [
             0.3333333333333333,
             "#9c179e"
            ],
            [
             0.4444444444444444,
             "#bd3786"
            ],
            [
             0.5555555555555556,
             "#d8576b"
            ],
            [
             0.6666666666666666,
             "#ed7953"
            ],
            [
             0.7777777777777778,
             "#fb9f3a"
            ],
            [
             0.8888888888888888,
             "#fdca26"
            ],
            [
             1,
             "#f0f921"
            ]
           ],
           "sequentialminus": [
            [
             0,
             "#0d0887"
            ],
            [
             0.1111111111111111,
             "#46039f"
            ],
            [
             0.2222222222222222,
             "#7201a8"
            ],
            [
             0.3333333333333333,
             "#9c179e"
            ],
            [
             0.4444444444444444,
             "#bd3786"
            ],
            [
             0.5555555555555556,
             "#d8576b"
            ],
            [
             0.6666666666666666,
             "#ed7953"
            ],
            [
             0.7777777777777778,
             "#fb9f3a"
            ],
            [
             0.8888888888888888,
             "#fdca26"
            ],
            [
             1,
             "#f0f921"
            ]
           ]
          },
          "colorway": [
           "#636efa",
           "#EF553B",
           "#00cc96",
           "#ab63fa",
           "#FFA15A",
           "#19d3f3",
           "#FF6692",
           "#B6E880",
           "#FF97FF",
           "#FECB52"
          ],
          "font": {
           "color": "#2a3f5f"
          },
          "geo": {
           "bgcolor": "white",
           "lakecolor": "white",
           "landcolor": "#E5ECF6",
           "showlakes": true,
           "showland": true,
           "subunitcolor": "white"
          },
          "hoverlabel": {
           "align": "left"
          },
          "hovermode": "closest",
          "mapbox": {
           "style": "light"
          },
          "paper_bgcolor": "white",
          "plot_bgcolor": "#E5ECF6",
          "polar": {
           "angularaxis": {
            "gridcolor": "white",
            "linecolor": "white",
            "ticks": ""
           },
           "bgcolor": "#E5ECF6",
           "radialaxis": {
            "gridcolor": "white",
            "linecolor": "white",
            "ticks": ""
           }
          },
          "scene": {
           "xaxis": {
            "backgroundcolor": "#E5ECF6",
            "gridcolor": "white",
            "gridwidth": 2,
            "linecolor": "white",
            "showbackground": true,
            "ticks": "",
            "zerolinecolor": "white"
           },
           "yaxis": {
            "backgroundcolor": "#E5ECF6",
            "gridcolor": "white",
            "gridwidth": 2,
            "linecolor": "white",
            "showbackground": true,
            "ticks": "",
            "zerolinecolor": "white"
           },
           "zaxis": {
            "backgroundcolor": "#E5ECF6",
            "gridcolor": "white",
            "gridwidth": 2,
            "linecolor": "white",
            "showbackground": true,
            "ticks": "",
            "zerolinecolor": "white"
           }
          },
          "shapedefaults": {
           "line": {
            "color": "#2a3f5f"
           }
          },
          "ternary": {
           "aaxis": {
            "gridcolor": "white",
            "linecolor": "white",
            "ticks": ""
           },
           "baxis": {
            "gridcolor": "white",
            "linecolor": "white",
            "ticks": ""
           },
           "bgcolor": "#E5ECF6",
           "caxis": {
            "gridcolor": "white",
            "linecolor": "white",
            "ticks": ""
           }
          },
          "title": {
           "x": 0.05
          },
          "xaxis": {
           "automargin": true,
           "gridcolor": "white",
           "linecolor": "white",
           "ticks": "",
           "title": {
            "standoff": 15
           },
           "zerolinecolor": "white",
           "zerolinewidth": 2
          },
          "yaxis": {
           "automargin": true,
           "gridcolor": "white",
           "linecolor": "white",
           "ticks": "",
           "title": {
            "standoff": 15
           },
           "zerolinecolor": "white",
           "zerolinewidth": 2
          }
         }
        },
        "title": {
         "text": "<b>BoxPlot－系列四 廣告效益分析</b>",
         "x": 0.5,
         "xanchor": "center",
         "y": 0.95
        },
        "width": 1800,
        "xaxis": {
         "tickmode": "linear",
         "title": {
          "text": "Month"
         }
        },
        "yaxis": {
         "title": {
          "text": "Profit"
         }
        }
       }
      }
     },
     "metadata": {},
     "output_type": "display_data"
    }
   ],
   "source": [
    "# 設定佈景主題(字體、大小、背景等)\n",
    "fig.update_layout(\n",
    "    title={\n",
    "        'text': \"<b>BoxPlot－系列四 廣告效益分析</b>\",\n",
    "        'y':0.95,\n",
    "        'x':0.5,\n",
    "        'xanchor': 'center',},\n",
    "    yaxis_title='Profit',\n",
    "    xaxis={\n",
    "        'title': 'Month',\n",
    "        'tickmode': 'linear'\n",
    "        },\n",
    "    width=1800,\n",
    "    height=960,\n",
    "    boxmode='group',\n",
    "    font=dict(\n",
    "        family=\"Courier New, monospace\",\n",
    "        size=20,\n",
    "        color=\"lightslategrey\"\n",
    "    )\n",
    "    )\n"
   ]
  }
 ],
 "metadata": {
  "kernelspec": {
   "display_name": "Python 3.6.6 64-bit ('win': conda)",
   "metadata": {
    "interpreter": {
     "hash": "34024e3a09dbd84645edbdbcdeed8f2a9d64f115c760fa8f28ffbd334d3d11ac"
    }
   },
   "name": "Python 3.6.6 64-bit ('win': conda)"
  },
  "language_info": {
   "codemirror_mode": {
    "name": "ipython",
    "version": 3
   },
   "file_extension": ".py",
   "mimetype": "text/x-python",
   "name": "python",
   "nbconvert_exporter": "python",
   "pygments_lexer": "ipython3",
   "version": "3.6.6-final"
  },
  "orig_nbformat": 2
 },
 "nbformat": 4,
 "nbformat_minor": 2
}
