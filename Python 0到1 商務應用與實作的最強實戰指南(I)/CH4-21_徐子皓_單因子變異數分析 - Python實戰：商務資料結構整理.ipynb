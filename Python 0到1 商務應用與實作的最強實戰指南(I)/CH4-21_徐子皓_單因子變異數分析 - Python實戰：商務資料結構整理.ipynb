{
 "metadata": {
  "language_info": {
   "codemirror_mode": {
    "name": "ipython",
    "version": 3
   },
   "file_extension": ".py",
   "mimetype": "text/x-python",
   "name": "python",
   "nbconvert_exporter": "python",
   "pygments_lexer": "ipython3",
   "version": "3.6.6-final"
  },
  "orig_nbformat": 2,
  "kernelspec": {
   "name": "python_defaultSpec_1600769007257",
   "display_name": "Python 3.6.6 64-bit ('win': conda)"
  }
 },
 "nbformat": 4,
 "nbformat_minor": 2,
 "cells": [
  {
   "source": [
    "#  單因子變異數分析 - Python實戰：商務資料結構整理"
   ],
   "cell_type": "markdown",
   "metadata": {}
  },
  {
   "source": [
    "#### 作者：徐子皓(臺灣行銷研究特邀作者)\n",
    "#### 完整文章介紹鏈接：https://medium.com/p/4461d0bf2896/"
   ],
   "cell_type": "markdown",
   "metadata": {}
  },
  {
   "source": [
    "## 一、讀取原始資料"
   ],
   "cell_type": "markdown",
   "metadata": {}
  },
  {
   "cell_type": "code",
   "execution_count": 4,
   "metadata": {},
   "outputs": [
    {
     "output_type": "execute_result",
     "data": {
      "text/plain": "   地區   廣告   消費金額\n0  南部  廣告1  20.83\n1  南部  廣告1  21.45\n2  中部  廣告1  27.09\n3  南部  廣告1  14.09\n4  南部  廣告1  31.23\n5  南部  廣告1  27.20",
      "text/html": "<div>\n<style scoped>\n    .dataframe tbody tr th:only-of-type {\n        vertical-align: middle;\n    }\n\n    .dataframe tbody tr th {\n        vertical-align: top;\n    }\n\n    .dataframe thead th {\n        text-align: right;\n    }\n</style>\n<table border=\"1\" class=\"dataframe\">\n  <thead>\n    <tr style=\"text-align: right;\">\n      <th></th>\n      <th>地區</th>\n      <th>廣告</th>\n      <th>消費金額</th>\n    </tr>\n  </thead>\n  <tbody>\n    <tr>\n      <th>0</th>\n      <td>南部</td>\n      <td>廣告1</td>\n      <td>20.83</td>\n    </tr>\n    <tr>\n      <th>1</th>\n      <td>南部</td>\n      <td>廣告1</td>\n      <td>21.45</td>\n    </tr>\n    <tr>\n      <th>2</th>\n      <td>中部</td>\n      <td>廣告1</td>\n      <td>27.09</td>\n    </tr>\n    <tr>\n      <th>3</th>\n      <td>南部</td>\n      <td>廣告1</td>\n      <td>14.09</td>\n    </tr>\n    <tr>\n      <th>4</th>\n      <td>南部</td>\n      <td>廣告1</td>\n      <td>31.23</td>\n    </tr>\n    <tr>\n      <th>5</th>\n      <td>南部</td>\n      <td>廣告1</td>\n      <td>27.20</td>\n    </tr>\n  </tbody>\n</table>\n</div>"
     },
     "metadata": {},
     "execution_count": 4
    }
   ],
   "source": [
    "import pandas as pd\n",
    "data = pd.read_csv('consumption_data.csv', encoding = 'big5')\n",
    "data.head(6)"
   ]
  },
  {
   "source": [
    "## 二、檢查是否有空值"
   ],
   "cell_type": "markdown",
   "metadata": {}
  },
  {
   "cell_type": "code",
   "execution_count": 5,
   "metadata": {},
   "outputs": [
    {
     "output_type": "execute_result",
     "data": {
      "text/plain": "地區      False\n廣告      False\n消費金額    False\ndtype: bool"
     },
     "metadata": {},
     "execution_count": 5
    }
   ],
   "source": [
    "data.isnull().any()"
   ]
  },
  {
   "source": [
    "## 三、資料分類"
   ],
   "cell_type": "markdown",
   "metadata": {}
  },
  {
   "cell_type": "code",
   "execution_count": 6,
   "metadata": {},
   "outputs": [],
   "source": [
    "alist = data[data ['廣告'] == '廣告1']['消費金額'].tolist()\n",
    "blist = data[data ['廣告'] == '廣告2']['消費金額'].tolist()\n",
    "clist = data[data ['廣告'] == '廣告3']['消費金額'].tolist()"
   ]
  },
  {
   "cell_type": "code",
   "execution_count": 7,
   "metadata": {},
   "outputs": [
    {
     "output_type": "execute_result",
     "data": {
      "text/plain": "[20.83,\n 21.45,\n 27.09,\n 14.09,\n 31.23,\n 27.2,\n 26.65,\n 22.22,\n 21.68,\n 22.62,\n 12.89,\n 17.17,\n 15.86,\n 14.41,\n 14.88,\n 10.62,\n 16.81,\n 11.52,\n 15.84,\n 16.7,\n 18.3,\n 24.57,\n 21.74,\n 20.56,\n 17.35,\n 17.04,\n 20.2,\n 19.73,\n 24.23,\n 14.14,\n 18.52,\n 18.64,\n 15.61,\n 21.62,\n 13.22,\n 14.16,\n 14.65,\n 19.71,\n 17.84,\n 19.53,\n 15.18,\n 20.44,\n 26.66,\n 20.3,\n 29.63,\n 23.87,\n 14.36,\n 20.99,\n 15.19,\n 21.39,\n 21.43,\n 17.81,\n 9.36,\n 29.45,\n 12.69,\n 14.32,\n 9.79,\n 22.08,\n 14.63,\n 11.68,\n 7.98,\n 8.05,\n 8.19,\n 18.14,\n 28.34,\n 6.08,\n 13.13,\n 11.71,\n 17.69,\n 17.72,\n 7.44,\n 18.07,\n 26.62,\n 6.9,\n 11.44,\n 26.96,\n 17.9,\n 10.84,\n 15.88,\n 10.17,\n 14.99,\n 16.0,\n 18.35,\n 6.54,\n 6.92,\n 14.6,\n 24.66,\n 17.4,\n 17.72,\n 11.9,\n 16.81,\n 23.21,\n 18.96,\n 19.38,\n 3.58,\n 19.35,\n 12.63,\n 4.72,\n 12.43,\n 28.97,\n 12.52,\n 25.36,\n 8.41,\n 25.26,\n 17.77,\n 18.23,\n 8.97,\n 11.89,\n 14.03,\n 15.5,\n 17.62,\n 15.43,\n 16.82,\n 20.7,\n 15.34,\n 19.84,\n 13.75,\n 19.0,\n 22.23,\n 14.81]"
     },
     "metadata": {},
     "execution_count": 7
    }
   ],
   "source": [
    "alist"
   ]
  },
  {
   "cell_type": "code",
   "execution_count": 8,
   "metadata": {},
   "outputs": [
    {
     "output_type": "execute_result",
     "data": {
      "text/plain": "[20.23,\n 18.1,\n 12.34,\n 24.08,\n 22.39,\n 19.79,\n 19.39,\n 18.76,\n 21.6,\n 23.54,\n 24.05,\n 13.31,\n 12.49,\n 12.18,\n 18.48,\n 18.13,\n 25.57,\n 25.15,\n 20.68,\n 19.87,\n 8.12,\n 12.04,\n 24.12,\n 30.84,\n 19.44,\n 14.37,\n 18.41,\n 16.16,\n 19.16,\n 11.99,\n 9.6,\n 9.62,\n 9.78,\n 11.59,\n 15.38,\n 18.89,\n 23.48,\n 8.75,\n 15.68,\n 11.08,\n 21.45,\n 2.18,\n 19.48,\n 23.4,\n 23.25,\n 19.85,\n 14.53,\n 11.33,\n 21.77,\n 30.69,\n 11.83,\n 17.08,\n 21.87,\n 15.16,\n 20.76,\n 13.36,\n 8.6,\n 15.22,\n 14.64,\n 20.54,\n 8.57,\n 18.5,\n 15.38,\n 11.76,\n 14.06,\n 13.54,\n 15.4,\n 31.68,\n 12.96,\n 18.21,\n 20.41,\n 14.14,\n 19.03,\n 7.36,\n 15.82,\n 16.01,\n 16.5,\n 17.58,\n 11.65,\n 16.92,\n 12.02,\n 14.72,\n 25.81,\n 9.75,\n 17.82,\n 20.22,\n 22.86,\n 11.81,\n 13.37,\n 10.89,\n 11.19,\n 23.6,\n 15.37,\n 18.56,\n 4.78,\n 16.24,\n 7.1,\n 19.19,\n 15.26,\n 6.31,\n 1.22,\n 9.91,\n 15.09,\n 17.39,\n 14.64,\n 4.93,\n 13.02,\n 6.67,\n 10.93,\n 12.36,\n 21.06,\n 7.37,\n 3.33,\n 7.12,\n 5.86,\n 19.69,\n 10.94,\n 8.59,\n 17.0,\n 6.0]"
     },
     "metadata": {},
     "execution_count": 8
    }
   ],
   "source": [
    "blist"
   ]
  },
  {
   "cell_type": "code",
   "execution_count": 9,
   "metadata": {},
   "outputs": [
    {
     "output_type": "execute_result",
     "data": {
      "text/plain": "[8.81,\n 20.26,\n 17.46,\n 25.48,\n 22.64,\n 19.99,\n 19.45,\n 16.43,\n 20.63,\n 14.76,\n 26.08,\n 22.07,\n 25.07,\n 17.85,\n 21.66,\n 18.34,\n 22.84,\n 20.89,\n 18.98,\n 14.12,\n 23.17,\n 18.7,\n 13.97,\n 22.62,\n 18.88,\n 23.74,\n 14.61,\n 21.63,\n 19.18,\n 20.3,\n 15.89,\n 27.04,\n 12.75,\n 23.96,\n 15.73,\n 23.71,\n 14.96,\n 20.35,\n 14.79,\n 7.54,\n 13.37,\n 12.49,\n 3.3,\n 7.63,\n 18.38,\n 1.65,\n 18.49,\n 15.91,\n 14.21,\n 17.5,\n 6.04,\n 9.76,\n 18.25,\n 16.33,\n 4.29,\n 11.45,\n 17.09,\n 5.66,\n 12.74,\n 20.28,\n 14.29,\n 10.49,\n 9.48,\n 11.15,\n 15.07,\n 21.88,\n 0.63,\n 19.52,\n 6.24,\n 16.86,\n 12.88,\n 21.33,\n 10.11,\n 17.47,\n 21.28,\n 19.56,\n 6.46,\n 17.44,\n 16.17,\n 21.24,\n 3.9,\n 22.93,\n 11.59,\n 28.84,\n 7.41,\n 10.38,\n 5.84,\n 6.82,\n 17.18,\n 16.29,\n 16.31,\n 23.54,\n 7.7,\n 12.74,\n 18.62,\n 9.71,\n 25.57,\n 15.13,\n 11.07,\n 13.01,\n 8.36,\n 3.76,\n 23.88,\n 16.13,\n 9.6,\n 19.43,\n 17.62,\n 19.08,\n 25.37,\n 7.96,\n 15.56,\n 12.81,\n 22.82,\n 16.87,\n 17.04,\n 9.69,\n 10.29,\n 25.52,\n 19.26,\n 2.45]"
     },
     "metadata": {},
     "execution_count": 9
    }
   ],
   "source": [
    "clist"
   ]
  }
 ]
}