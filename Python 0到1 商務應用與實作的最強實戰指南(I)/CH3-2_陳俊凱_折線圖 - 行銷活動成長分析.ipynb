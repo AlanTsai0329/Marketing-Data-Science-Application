{
 "cells": [
  {
   "cell_type": "markdown",
   "metadata": {},
   "source": [
    "<div style=\"text-align:center\"><span style=\"font-size:1.2cm; line-height: 1.5cm; font-family:cursive; \">行銷活動成長分析\n",
    "</span><br></div>"
   ]
  },
  {
   "cell_type": "code",
   "execution_count": 2,
   "metadata": {},
   "outputs": [],
   "source": [
    "\"\"\"\n",
    "Created on Sat Aug 29 23:18:53 2020\n",
    "\n",
    "@author: Luke\n",
    "\"\"\"\n",
    "#引入套件\n",
    "import pandas as pd \n",
    "import numpy as np\n",
    "import plotly.graph_objects as go\n",
    "import plotly.offline as py\n"
   ]
  },
  {
   "cell_type": "markdown",
   "metadata": {},
   "source": [
    "<span style=\"font-size:0.7cm; line-height: 1cm;font-family:cursive;\"> 1.讀取資料</span><br>"
   ]
  },
  {
   "cell_type": "code",
   "execution_count": 5,
   "metadata": {},
   "outputs": [
    {
     "data": {
      "text/html": [
       "<div>\n",
       "<style scoped>\n",
       "    .dataframe tbody tr th:only-of-type {\n",
       "        vertical-align: middle;\n",
       "    }\n",
       "\n",
       "    .dataframe tbody tr th {\n",
       "        vertical-align: top;\n",
       "    }\n",
       "\n",
       "    .dataframe thead th {\n",
       "        text-align: right;\n",
       "    }\n",
       "</style>\n",
       "<table border=\"1\" class=\"dataframe\">\n",
       "  <thead>\n",
       "    <tr style=\"text-align: right;\">\n",
       "      <th></th>\n",
       "      <th>Unnamed: 0</th>\n",
       "      <th>顏色</th>\n",
       "      <th>單價</th>\n",
       "      <th>成本</th>\n",
       "      <th>product</th>\n",
       "      <th>訂單時間</th>\n",
       "      <th>會員</th>\n",
       "      <th>性別</th>\n",
       "      <th>年紀</th>\n",
       "      <th>廣告代號all</th>\n",
       "      <th>尺寸</th>\n",
       "    </tr>\n",
       "  </thead>\n",
       "  <tbody>\n",
       "    <tr>\n",
       "      <th>0</th>\n",
       "      <td>0</td>\n",
       "      <td>NaN</td>\n",
       "      <td>391</td>\n",
       "      <td>240</td>\n",
       "      <td>產品4</td>\n",
       "      <td>2016-01-01T03:19:35</td>\n",
       "      <td>10052013</td>\n",
       "      <td>FEMALE</td>\n",
       "      <td>32.0</td>\n",
       "      <td>YND</td>\n",
       "      <td>無</td>\n",
       "    </tr>\n",
       "    <tr>\n",
       "      <th>1</th>\n",
       "      <td>1</td>\n",
       "      <td>NaN</td>\n",
       "      <td>238</td>\n",
       "      <td>137</td>\n",
       "      <td>產品4</td>\n",
       "      <td>2016-01-01T03:19:35</td>\n",
       "      <td>10052013</td>\n",
       "      <td>FEMALE</td>\n",
       "      <td>32.0</td>\n",
       "      <td>YND</td>\n",
       "      <td>無</td>\n",
       "    </tr>\n",
       "    <tr>\n",
       "      <th>2</th>\n",
       "      <td>2</td>\n",
       "      <td>watermelonred</td>\n",
       "      <td>434</td>\n",
       "      <td>253</td>\n",
       "      <td>產品4</td>\n",
       "      <td>2016-01-01T03:19:35</td>\n",
       "      <td>10052013</td>\n",
       "      <td>FEMALE</td>\n",
       "      <td>32.0</td>\n",
       "      <td>YND</td>\n",
       "      <td>S</td>\n",
       "    </tr>\n",
       "    <tr>\n",
       "      <th>3</th>\n",
       "      <td>3</td>\n",
       "      <td>NaN</td>\n",
       "      <td>339</td>\n",
       "      <td>205</td>\n",
       "      <td>產品4</td>\n",
       "      <td>2016-01-01T03:19:35</td>\n",
       "      <td>10052013</td>\n",
       "      <td>FEMALE</td>\n",
       "      <td>32.0</td>\n",
       "      <td>YND</td>\n",
       "      <td>無</td>\n",
       "    </tr>\n",
       "    <tr>\n",
       "      <th>4</th>\n",
       "      <td>4</td>\n",
       "      <td>white</td>\n",
       "      <td>382</td>\n",
       "      <td>223</td>\n",
       "      <td>產品4</td>\n",
       "      <td>2016-01-01T03:19:35</td>\n",
       "      <td>10052013</td>\n",
       "      <td>FEMALE</td>\n",
       "      <td>32.0</td>\n",
       "      <td>YND</td>\n",
       "      <td>S</td>\n",
       "    </tr>\n",
       "  </tbody>\n",
       "</table>\n",
       "</div>"
      ],
      "text/plain": [
       "   Unnamed: 0             顏色   單價   成本 product                 訂單時間        會員  \\\n",
       "0           0            NaN  391  240     產品4  2016-01-01T03:19:35  10052013   \n",
       "1           1            NaN  238  137     產品4  2016-01-01T03:19:35  10052013   \n",
       "2           2  watermelonred  434  253     產品4  2016-01-01T03:19:35  10052013   \n",
       "3           3            NaN  339  205     產品4  2016-01-01T03:19:35  10052013   \n",
       "4           4          white  382  223     產品4  2016-01-01T03:19:35  10052013   \n",
       "\n",
       "       性別    年紀 廣告代號all 尺寸  \n",
       "0  FEMALE  32.0     YND  無  \n",
       "1  FEMALE  32.0     YND  無  \n",
       "2  FEMALE  32.0     YND  S  \n",
       "3  FEMALE  32.0     YND  無  \n",
       "4  FEMALE  32.0     YND  S  "
      ]
     },
     "execution_count": 5,
     "metadata": {},
     "output_type": "execute_result"
    }
   ],
   "source": [
    "# 讀取資料\n",
    "\n",
    "sales_data = pd.read_csv('sales_data.csv')\n",
    "ad = sales_data['廣告代號all'].str.split('_').str.get(0)\n",
    "ad2 = sales_data['廣告代號all'].str.split('_').str.get(1)\n",
    "sales_data['廣告代號all'] = ad2\n",
    "sales_data.head()"
   ]
  },
  {
   "cell_type": "markdown",
   "metadata": {},
   "source": [
    "<span style=\"font-size:0.7cm; line-height: 1cm;font-family:cursive;\"> 2.資料處理</span><br>"
   ]
  },
  {
   "cell_type": "code",
   "execution_count": 6,
   "metadata": {},
   "outputs": [
    {
     "data": {
      "text/html": [
       "<div>\n",
       "<style scoped>\n",
       "    .dataframe tbody tr th:only-of-type {\n",
       "        vertical-align: middle;\n",
       "    }\n",
       "\n",
       "    .dataframe tbody tr th {\n",
       "        vertical-align: top;\n",
       "    }\n",
       "\n",
       "    .dataframe thead th {\n",
       "        text-align: right;\n",
       "    }\n",
       "</style>\n",
       "<table border=\"1\" class=\"dataframe\">\n",
       "  <thead>\n",
       "    <tr style=\"text-align: right;\">\n",
       "      <th></th>\n",
       "      <th>單價</th>\n",
       "      <th>成本</th>\n",
       "      <th>product</th>\n",
       "      <th>訂單時間</th>\n",
       "      <th>廣告代號all</th>\n",
       "      <th>訂單時間(年)</th>\n",
       "      <th>訂單時間(月)</th>\n",
       "      <th>利潤</th>\n",
       "      <th>count</th>\n",
       "    </tr>\n",
       "  </thead>\n",
       "  <tbody>\n",
       "    <tr>\n",
       "      <th>0</th>\n",
       "      <td>391</td>\n",
       "      <td>240</td>\n",
       "      <td>產品4</td>\n",
       "      <td>2016-01-01 03:19:35</td>\n",
       "      <td>YND</td>\n",
       "      <td>2016</td>\n",
       "      <td>1</td>\n",
       "      <td>151</td>\n",
       "      <td>1</td>\n",
       "    </tr>\n",
       "    <tr>\n",
       "      <th>1</th>\n",
       "      <td>238</td>\n",
       "      <td>137</td>\n",
       "      <td>產品4</td>\n",
       "      <td>2016-01-01 03:19:35</td>\n",
       "      <td>YND</td>\n",
       "      <td>2016</td>\n",
       "      <td>1</td>\n",
       "      <td>101</td>\n",
       "      <td>1</td>\n",
       "    </tr>\n",
       "    <tr>\n",
       "      <th>2</th>\n",
       "      <td>434</td>\n",
       "      <td>253</td>\n",
       "      <td>產品4</td>\n",
       "      <td>2016-01-01 03:19:35</td>\n",
       "      <td>YND</td>\n",
       "      <td>2016</td>\n",
       "      <td>1</td>\n",
       "      <td>181</td>\n",
       "      <td>1</td>\n",
       "    </tr>\n",
       "    <tr>\n",
       "      <th>3</th>\n",
       "      <td>339</td>\n",
       "      <td>205</td>\n",
       "      <td>產品4</td>\n",
       "      <td>2016-01-01 03:19:35</td>\n",
       "      <td>YND</td>\n",
       "      <td>2016</td>\n",
       "      <td>1</td>\n",
       "      <td>134</td>\n",
       "      <td>1</td>\n",
       "    </tr>\n",
       "    <tr>\n",
       "      <th>4</th>\n",
       "      <td>382</td>\n",
       "      <td>223</td>\n",
       "      <td>產品4</td>\n",
       "      <td>2016-01-01 03:19:35</td>\n",
       "      <td>YND</td>\n",
       "      <td>2016</td>\n",
       "      <td>1</td>\n",
       "      <td>159</td>\n",
       "      <td>1</td>\n",
       "    </tr>\n",
       "  </tbody>\n",
       "</table>\n",
       "</div>"
      ],
      "text/plain": [
       "    單價   成本 product                訂單時間 廣告代號all  訂單時間(年)  訂單時間(月)   利潤  count\n",
       "0  391  240     產品4 2016-01-01 03:19:35     YND     2016        1  151      1\n",
       "1  238  137     產品4 2016-01-01 03:19:35     YND     2016        1  101      1\n",
       "2  434  253     產品4 2016-01-01 03:19:35     YND     2016        1  181      1\n",
       "3  339  205     產品4 2016-01-01 03:19:35     YND     2016        1  134      1\n",
       "4  382  223     產品4 2016-01-01 03:19:35     YND     2016        1  159      1"
      ]
     },
     "execution_count": 6,
     "metadata": {},
     "output_type": "execute_result"
    }
   ],
   "source": [
    "# 資料處理\n",
    "\n",
    "sales_data = sales_data[['單價','成本','product','訂單時間','廣告代號all']]\n",
    "# 轉換時間\n",
    "\n",
    "sales_data['訂單時間'] = pd.to_datetime(sales_data['訂單時間'])\n",
    "sales_data['訂單時間(年)'] = sales_data['訂單時間'].dt.year\n",
    "sales_data['訂單時間(月)'] = sales_data['訂單時間'].dt.month\n",
    "sales_data['利潤'] = sales_data['單價'] - sales_data['成本']\n",
    "sales_data['count'] = 1\n",
    "sales_data.head()"
   ]
  },
  {
   "cell_type": "markdown",
   "metadata": {},
   "source": [
    "<span style=\"font-size:0.7cm; line-height: 1cm;font-family:cursive;\"> 3.篩選產品</span><br>"
   ]
  },
  {
   "cell_type": "code",
   "execution_count": 8,
   "metadata": {},
   "outputs": [
    {
     "data": {
      "text/html": [
       "<div>\n",
       "<style scoped>\n",
       "    .dataframe tbody tr th:only-of-type {\n",
       "        vertical-align: middle;\n",
       "    }\n",
       "\n",
       "    .dataframe tbody tr th {\n",
       "        vertical-align: top;\n",
       "    }\n",
       "\n",
       "    .dataframe thead th {\n",
       "        text-align: right;\n",
       "    }\n",
       "</style>\n",
       "<table border=\"1\" class=\"dataframe\">\n",
       "  <thead>\n",
       "    <tr style=\"text-align: right;\">\n",
       "      <th></th>\n",
       "      <th>訂單時間(月)</th>\n",
       "      <th>利潤</th>\n",
       "      <th>count</th>\n",
       "      <th>平均利潤</th>\n",
       "    </tr>\n",
       "  </thead>\n",
       "  <tbody>\n",
       "    <tr>\n",
       "      <th>0</th>\n",
       "      <td>1</td>\n",
       "      <td>97168</td>\n",
       "      <td>375</td>\n",
       "      <td>259.114667</td>\n",
       "    </tr>\n",
       "    <tr>\n",
       "      <th>1</th>\n",
       "      <td>2</td>\n",
       "      <td>36279</td>\n",
       "      <td>158</td>\n",
       "      <td>229.613924</td>\n",
       "    </tr>\n",
       "    <tr>\n",
       "      <th>2</th>\n",
       "      <td>3</td>\n",
       "      <td>82381</td>\n",
       "      <td>353</td>\n",
       "      <td>233.373938</td>\n",
       "    </tr>\n",
       "    <tr>\n",
       "      <th>3</th>\n",
       "      <td>4</td>\n",
       "      <td>126011</td>\n",
       "      <td>521</td>\n",
       "      <td>241.863724</td>\n",
       "    </tr>\n",
       "    <tr>\n",
       "      <th>4</th>\n",
       "      <td>5</td>\n",
       "      <td>213917</td>\n",
       "      <td>923</td>\n",
       "      <td>231.762730</td>\n",
       "    </tr>\n",
       "  </tbody>\n",
       "</table>\n",
       "</div>"
      ],
      "text/plain": [
       "   訂單時間(月)      利潤  count        平均利潤\n",
       "0        1   97168    375  259.114667\n",
       "1        2   36279    158  229.613924\n",
       "2        3   82381    353  233.373938\n",
       "3        4  126011    521  241.863724\n",
       "4        5  213917    923  231.762730"
      ]
     },
     "execution_count": 8,
     "metadata": {},
     "output_type": "execute_result"
    }
   ],
   "source": [
    "# 以產品四為例\n",
    "\n",
    "Analyze_product = \"產品4\"\n",
    "product_data = sales_data[sales_data['product'] == Analyze_product]\n",
    "search_year = 2017\n",
    "product_data = product_data[product_data['訂單時間(年)'] == search_year]\n",
    "\n",
    "#計算利潤\n",
    "ad_avg_profit = product_data.groupby('訂單時間(月)', as_index = False)[['利潤', 'count']].sum()\n",
    "ad_avg_profit['平均利潤'] = ad_avg_profit['利潤'] / ad_avg_profit['count']\n",
    "ad_avg_profit.head()\n"
   ]
  },
  {
   "cell_type": "markdown",
   "metadata": {},
   "source": [
    "<span style=\"font-size:0.7cm; line-height: 1cm;font-family:cursive;\"> 4.繪圖</span><br>"
   ]
  },
  {
   "cell_type": "code",
   "execution_count": 10,
   "metadata": {},
   "outputs": [
    {
     "data": {
      "text/plain": [
       "['1月份',\n",
       " '2月份',\n",
       " '3月份',\n",
       " '4月份',\n",
       " '5月份',\n",
       " '6月份',\n",
       " '7月份',\n",
       " '8月份',\n",
       " '9月份',\n",
       " '10月份',\n",
       " '11月份',\n",
       " '12月份']"
      ]
     },
     "execution_count": 10,
     "metadata": {},
     "output_type": "execute_result"
    }
   ],
   "source": [
    "#月份標籤\n",
    "\n",
    "hover_month = []\n",
    "\n",
    "for i in range(1,13):\n",
    "    hover_month.append(str(i)+'月份')\n",
    "hover_month"
   ]
  },
  {
   "cell_type": "code",
   "execution_count": 11,
   "metadata": {},
   "outputs": [
    {
     "data": {
      "application/vnd.plotly.v1+json": {
       "config": {
        "plotlyServerURL": "https://plot.ly"
       },
       "data": [
        {
         "line": {
          "width": 2
         },
         "marker": {
          "color": "#669966"
         },
         "mode": "lines+markers",
         "name": "每月平均廣告利潤",
         "showlegend": true,
         "type": "scatter",
         "x": [
          "1月份",
          "2月份",
          "3月份",
          "4月份",
          "5月份",
          "6月份",
          "7月份",
          "8月份",
          "9月份",
          "10月份",
          "11月份",
          "12月份"
         ],
         "y": [
          259.11466666666666,
          229.6139240506329,
          233.37393767705382,
          241.8637236084453,
          231.76273022751897,
          229.81141439205956,
          242.9430894308943,
          226.63846153846154,
          241.81578947368422,
          252.1772151898734,
          251.73333333333332,
          271.3414634146341
         ]
        }
       ],
       "layout": {
        "font": {
         "color": "Black",
         "size": 20
        },
        "height": 900,
        "template": {
         "data": {
          "bar": [
           {
            "error_x": {
             "color": "#2a3f5f"
            },
            "error_y": {
             "color": "#2a3f5f"
            },
            "marker": {
             "line": {
              "color": "#E5ECF6",
              "width": 0.5
             }
            },
            "type": "bar"
           }
          ],
          "barpolar": [
           {
            "marker": {
             "line": {
              "color": "#E5ECF6",
              "width": 0.5
             }
            },
            "type": "barpolar"
           }
          ],
          "carpet": [
           {
            "aaxis": {
             "endlinecolor": "#2a3f5f",
             "gridcolor": "white",
             "linecolor": "white",
             "minorgridcolor": "white",
             "startlinecolor": "#2a3f5f"
            },
            "baxis": {
             "endlinecolor": "#2a3f5f",
             "gridcolor": "white",
             "linecolor": "white",
             "minorgridcolor": "white",
             "startlinecolor": "#2a3f5f"
            },
            "type": "carpet"
           }
          ],
          "choropleth": [
           {
            "colorbar": {
             "outlinewidth": 0,
             "ticks": ""
            },
            "type": "choropleth"
           }
          ],
          "contour": [
           {
            "colorbar": {
             "outlinewidth": 0,
             "ticks": ""
            },
            "colorscale": [
             [
              0,
              "#0d0887"
             ],
             [
              0.1111111111111111,
              "#46039f"
             ],
             [
              0.2222222222222222,
              "#7201a8"
             ],
             [
              0.3333333333333333,
              "#9c179e"
             ],
             [
              0.4444444444444444,
              "#bd3786"
             ],
             [
              0.5555555555555556,
              "#d8576b"
             ],
             [
              0.6666666666666666,
              "#ed7953"
             ],
             [
              0.7777777777777778,
              "#fb9f3a"
             ],
             [
              0.8888888888888888,
              "#fdca26"
             ],
             [
              1,
              "#f0f921"
             ]
            ],
            "type": "contour"
           }
          ],
          "contourcarpet": [
           {
            "colorbar": {
             "outlinewidth": 0,
             "ticks": ""
            },
            "type": "contourcarpet"
           }
          ],
          "heatmap": [
           {
            "colorbar": {
             "outlinewidth": 0,
             "ticks": ""
            },
            "colorscale": [
             [
              0,
              "#0d0887"
             ],
             [
              0.1111111111111111,
              "#46039f"
             ],
             [
              0.2222222222222222,
              "#7201a8"
             ],
             [
              0.3333333333333333,
              "#9c179e"
             ],
             [
              0.4444444444444444,
              "#bd3786"
             ],
             [
              0.5555555555555556,
              "#d8576b"
             ],
             [
              0.6666666666666666,
              "#ed7953"
             ],
             [
              0.7777777777777778,
              "#fb9f3a"
             ],
             [
              0.8888888888888888,
              "#fdca26"
             ],
             [
              1,
              "#f0f921"
             ]
            ],
            "type": "heatmap"
           }
          ],
          "heatmapgl": [
           {
            "colorbar": {
             "outlinewidth": 0,
             "ticks": ""
            },
            "colorscale": [
             [
              0,
              "#0d0887"
             ],
             [
              0.1111111111111111,
              "#46039f"
             ],
             [
              0.2222222222222222,
              "#7201a8"
             ],
             [
              0.3333333333333333,
              "#9c179e"
             ],
             [
              0.4444444444444444,
              "#bd3786"
             ],
             [
              0.5555555555555556,
              "#d8576b"
             ],
             [
              0.6666666666666666,
              "#ed7953"
             ],
             [
              0.7777777777777778,
              "#fb9f3a"
             ],
             [
              0.8888888888888888,
              "#fdca26"
             ],
             [
              1,
              "#f0f921"
             ]
            ],
            "type": "heatmapgl"
           }
          ],
          "histogram": [
           {
            "marker": {
             "colorbar": {
              "outlinewidth": 0,
              "ticks": ""
             }
            },
            "type": "histogram"
           }
          ],
          "histogram2d": [
           {
            "colorbar": {
             "outlinewidth": 0,
             "ticks": ""
            },
            "colorscale": [
             [
              0,
              "#0d0887"
             ],
             [
              0.1111111111111111,
              "#46039f"
             ],
             [
              0.2222222222222222,
              "#7201a8"
             ],
             [
              0.3333333333333333,
              "#9c179e"
             ],
             [
              0.4444444444444444,
              "#bd3786"
             ],
             [
              0.5555555555555556,
              "#d8576b"
             ],
             [
              0.6666666666666666,
              "#ed7953"
             ],
             [
              0.7777777777777778,
              "#fb9f3a"
             ],
             [
              0.8888888888888888,
              "#fdca26"
             ],
             [
              1,
              "#f0f921"
             ]
            ],
            "type": "histogram2d"
           }
          ],
          "histogram2dcontour": [
           {
            "colorbar": {
             "outlinewidth": 0,
             "ticks": ""
            },
            "colorscale": [
             [
              0,
              "#0d0887"
             ],
             [
              0.1111111111111111,
              "#46039f"
             ],
             [
              0.2222222222222222,
              "#7201a8"
             ],
             [
              0.3333333333333333,
              "#9c179e"
             ],
             [
              0.4444444444444444,
              "#bd3786"
             ],
             [
              0.5555555555555556,
              "#d8576b"
             ],
             [
              0.6666666666666666,
              "#ed7953"
             ],
             [
              0.7777777777777778,
              "#fb9f3a"
             ],
             [
              0.8888888888888888,
              "#fdca26"
             ],
             [
              1,
              "#f0f921"
             ]
            ],
            "type": "histogram2dcontour"
           }
          ],
          "mesh3d": [
           {
            "colorbar": {
             "outlinewidth": 0,
             "ticks": ""
            },
            "type": "mesh3d"
           }
          ],
          "parcoords": [
           {
            "line": {
             "colorbar": {
              "outlinewidth": 0,
              "ticks": ""
             }
            },
            "type": "parcoords"
           }
          ],
          "pie": [
           {
            "automargin": true,
            "type": "pie"
           }
          ],
          "scatter": [
           {
            "marker": {
             "colorbar": {
              "outlinewidth": 0,
              "ticks": ""
             }
            },
            "type": "scatter"
           }
          ],
          "scatter3d": [
           {
            "line": {
             "colorbar": {
              "outlinewidth": 0,
              "ticks": ""
             }
            },
            "marker": {
             "colorbar": {
              "outlinewidth": 0,
              "ticks": ""
             }
            },
            "type": "scatter3d"
           }
          ],
          "scattercarpet": [
           {
            "marker": {
             "colorbar": {
              "outlinewidth": 0,
              "ticks": ""
             }
            },
            "type": "scattercarpet"
           }
          ],
          "scattergeo": [
           {
            "marker": {
             "colorbar": {
              "outlinewidth": 0,
              "ticks": ""
             }
            },
            "type": "scattergeo"
           }
          ],
          "scattergl": [
           {
            "marker": {
             "colorbar": {
              "outlinewidth": 0,
              "ticks": ""
             }
            },
            "type": "scattergl"
           }
          ],
          "scattermapbox": [
           {
            "marker": {
             "colorbar": {
              "outlinewidth": 0,
              "ticks": ""
             }
            },
            "type": "scattermapbox"
           }
          ],
          "scatterpolar": [
           {
            "marker": {
             "colorbar": {
              "outlinewidth": 0,
              "ticks": ""
             }
            },
            "type": "scatterpolar"
           }
          ],
          "scatterpolargl": [
           {
            "marker": {
             "colorbar": {
              "outlinewidth": 0,
              "ticks": ""
             }
            },
            "type": "scatterpolargl"
           }
          ],
          "scatterternary": [
           {
            "marker": {
             "colorbar": {
              "outlinewidth": 0,
              "ticks": ""
             }
            },
            "type": "scatterternary"
           }
          ],
          "surface": [
           {
            "colorbar": {
             "outlinewidth": 0,
             "ticks": ""
            },
            "colorscale": [
             [
              0,
              "#0d0887"
             ],
             [
              0.1111111111111111,
              "#46039f"
             ],
             [
              0.2222222222222222,
              "#7201a8"
             ],
             [
              0.3333333333333333,
              "#9c179e"
             ],
             [
              0.4444444444444444,
              "#bd3786"
             ],
             [
              0.5555555555555556,
              "#d8576b"
             ],
             [
              0.6666666666666666,
              "#ed7953"
             ],
             [
              0.7777777777777778,
              "#fb9f3a"
             ],
             [
              0.8888888888888888,
              "#fdca26"
             ],
             [
              1,
              "#f0f921"
             ]
            ],
            "type": "surface"
           }
          ],
          "table": [
           {
            "cells": {
             "fill": {
              "color": "#EBF0F8"
             },
             "line": {
              "color": "white"
             }
            },
            "header": {
             "fill": {
              "color": "#C8D4E3"
             },
             "line": {
              "color": "white"
             }
            },
            "type": "table"
           }
          ]
         },
         "layout": {
          "annotationdefaults": {
           "arrowcolor": "#2a3f5f",
           "arrowhead": 0,
           "arrowwidth": 1
          },
          "coloraxis": {
           "colorbar": {
            "outlinewidth": 0,
            "ticks": ""
           }
          },
          "colorscale": {
           "diverging": [
            [
             0,
             "#8e0152"
            ],
            [
             0.1,
             "#c51b7d"
            ],
            [
             0.2,
             "#de77ae"
            ],
            [
             0.3,
             "#f1b6da"
            ],
            [
             0.4,
             "#fde0ef"
            ],
            [
             0.5,
             "#f7f7f7"
            ],
            [
             0.6,
             "#e6f5d0"
            ],
            [
             0.7,
             "#b8e186"
            ],
            [
             0.8,
             "#7fbc41"
            ],
            [
             0.9,
             "#4d9221"
            ],
            [
             1,
             "#276419"
            ]
           ],
           "sequential": [
            [
             0,
             "#0d0887"
            ],
            [
             0.1111111111111111,
             "#46039f"
            ],
            [
             0.2222222222222222,
             "#7201a8"
            ],
            [
             0.3333333333333333,
             "#9c179e"
            ],
            [
             0.4444444444444444,
             "#bd3786"
            ],
            [
             0.5555555555555556,
             "#d8576b"
            ],
            [
             0.6666666666666666,
             "#ed7953"
            ],
            [
             0.7777777777777778,
             "#fb9f3a"
            ],
            [
             0.8888888888888888,
             "#fdca26"
            ],
            [
             1,
             "#f0f921"
            ]
           ],
           "sequentialminus": [
            [
             0,
             "#0d0887"
            ],
            [
             0.1111111111111111,
             "#46039f"
            ],
            [
             0.2222222222222222,
             "#7201a8"
            ],
            [
             0.3333333333333333,
             "#9c179e"
            ],
            [
             0.4444444444444444,
             "#bd3786"
            ],
            [
             0.5555555555555556,
             "#d8576b"
            ],
            [
             0.6666666666666666,
             "#ed7953"
            ],
            [
             0.7777777777777778,
             "#fb9f3a"
            ],
            [
             0.8888888888888888,
             "#fdca26"
            ],
            [
             1,
             "#f0f921"
            ]
           ]
          },
          "colorway": [
           "#636efa",
           "#EF553B",
           "#00cc96",
           "#ab63fa",
           "#FFA15A",
           "#19d3f3",
           "#FF6692",
           "#B6E880",
           "#FF97FF",
           "#FECB52"
          ],
          "font": {
           "color": "#2a3f5f"
          },
          "geo": {
           "bgcolor": "white",
           "lakecolor": "white",
           "landcolor": "#E5ECF6",
           "showlakes": true,
           "showland": true,
           "subunitcolor": "white"
          },
          "hoverlabel": {
           "align": "left"
          },
          "hovermode": "closest",
          "mapbox": {
           "style": "light"
          },
          "paper_bgcolor": "white",
          "plot_bgcolor": "#E5ECF6",
          "polar": {
           "angularaxis": {
            "gridcolor": "white",
            "linecolor": "white",
            "ticks": ""
           },
           "bgcolor": "#E5ECF6",
           "radialaxis": {
            "gridcolor": "white",
            "linecolor": "white",
            "ticks": ""
           }
          },
          "scene": {
           "xaxis": {
            "backgroundcolor": "#E5ECF6",
            "gridcolor": "white",
            "gridwidth": 2,
            "linecolor": "white",
            "showbackground": true,
            "ticks": "",
            "zerolinecolor": "white"
           },
           "yaxis": {
            "backgroundcolor": "#E5ECF6",
            "gridcolor": "white",
            "gridwidth": 2,
            "linecolor": "white",
            "showbackground": true,
            "ticks": "",
            "zerolinecolor": "white"
           },
           "zaxis": {
            "backgroundcolor": "#E5ECF6",
            "gridcolor": "white",
            "gridwidth": 2,
            "linecolor": "white",
            "showbackground": true,
            "ticks": "",
            "zerolinecolor": "white"
           }
          },
          "shapedefaults": {
           "line": {
            "color": "#2a3f5f"
           }
          },
          "ternary": {
           "aaxis": {
            "gridcolor": "white",
            "linecolor": "white",
            "ticks": ""
           },
           "baxis": {
            "gridcolor": "white",
            "linecolor": "white",
            "ticks": ""
           },
           "bgcolor": "#E5ECF6",
           "caxis": {
            "gridcolor": "white",
            "linecolor": "white",
            "ticks": ""
           }
          },
          "title": {
           "x": 0.05
          },
          "xaxis": {
           "automargin": true,
           "gridcolor": "white",
           "linecolor": "white",
           "ticks": "",
           "title": {
            "standoff": 15
           },
           "zerolinecolor": "white",
           "zerolinewidth": 2
          },
          "yaxis": {
           "automargin": true,
           "gridcolor": "white",
           "linecolor": "white",
           "ticks": "",
           "title": {
            "standoff": 15
           },
           "zerolinecolor": "white",
           "zerolinewidth": 2
          }
         }
        },
        "title": {
         "text": "2017年廣告利潤平均",
         "x": 0.5,
         "y": 0.95
        },
        "width": 1800,
        "xaxis": {
         "title": {
          "text": "Month"
         }
        },
        "yaxis": {
         "title": {
          "text": "利潤"
         }
        }
       }
      }
     },
     "metadata": {},
     "output_type": "display_data"
    }
   ],
   "source": [
    "#繪圖\n",
    "\n",
    "trace = go.Scatter(x= hover_month,\n",
    "    y=ad_avg_profit['平均利潤'],\n",
    "    marker={'color': '#669966'},\n",
    "    mode='lines+markers',line={'width': 2},\n",
    "    name ='每月平均廣告利潤',showlegend=True)\n",
    "\n",
    "layout = go.Layout(title={'text': str(search_year)+\"年廣告利潤平均\",'y':0.95,'x':0.5},\n",
    "    yaxis_title='利潤',\n",
    "    xaxis={'title': 'Month'},\n",
    "    width=1800,\n",
    "    height=900,\n",
    "    font=dict(size=20,\n",
    "        color=\"Black\"))\n",
    "\n",
    "ad_figure = go.Figure(data = trace, layout = layout)\n",
    "ad_figure.show()\n"
   ]
  },
  {
   "cell_type": "markdown",
   "metadata": {},
   "source": [
    "![img](https://imgur.com/n2GjOqT.jpg)"
   ]
  },
  {
   "cell_type": "markdown",
   "metadata": {},
   "source": [
    "<span style=\"font-size:0.7cm; line-height: 1cm;font-family:cursive;\"> 5.存成圖檔與網頁檔</span><br>"
   ]
  },
  {
   "cell_type": "code",
   "execution_count": 12,
   "metadata": {},
   "outputs": [
    {
     "name": "stderr",
     "output_type": "stream",
     "text": [
      "C:\\Users\\Luke\\PYthon\\lib\\site-packages\\plotly\\offline\\offline.py:562: UserWarning:\n",
      "\n",
      "Your filename `2017產品4總廣告平均利潤` didn't end with .html. Adding .html to the end of your file.\n",
      "\n"
     ]
    },
    {
     "data": {
      "text/plain": [
       "'2017產品4總廣告平均利潤.html'"
      ]
     },
     "execution_count": 12,
     "metadata": {},
     "output_type": "execute_result"
    }
   ],
   "source": [
    "# save as image\n",
    "\n",
    "ad_figure.write_image(str(search_year)+str(Analyze_product)+'總廣告平均利潤'+'.png')\n",
    "# save as html\n",
    "\n",
    "py.plot(ad_figure, filename=str(search_year)+str(Analyze_product)+'總廣告平均利潤', auto_open=True)\n",
    "#### 每月各廣告利潤 ###\n"
   ]
  },
  {
   "cell_type": "markdown",
   "metadata": {},
   "source": [
    "<span style=\"font-size:0.9cm; line-height: 2cm; font-family:cursive;\">每月廣告效益分析折線圖</span><br>"
   ]
  },
  {
   "cell_type": "markdown",
   "metadata": {},
   "source": [
    "<span style=\"font-size:0.7cm; line-height: 1cm;font-family:cursive;\"> 1.每月廣告利潤計算</span><br>"
   ]
  },
  {
   "cell_type": "code",
   "execution_count": 27,
   "metadata": {},
   "outputs": [
    {
     "data": {
      "text/html": [
       "<div>\n",
       "<style scoped>\n",
       "    .dataframe tbody tr th:only-of-type {\n",
       "        vertical-align: middle;\n",
       "    }\n",
       "\n",
       "    .dataframe tbody tr th {\n",
       "        vertical-align: top;\n",
       "    }\n",
       "\n",
       "    .dataframe thead th {\n",
       "        text-align: right;\n",
       "    }\n",
       "</style>\n",
       "<table border=\"1\" class=\"dataframe\">\n",
       "  <thead>\n",
       "    <tr style=\"text-align: right;\">\n",
       "      <th></th>\n",
       "      <th>廣告代號</th>\n",
       "    </tr>\n",
       "  </thead>\n",
       "  <tbody>\n",
       "    <tr>\n",
       "      <th>0</th>\n",
       "      <td>critei</td>\n",
       "    </tr>\n",
       "    <tr>\n",
       "      <th>1</th>\n",
       "      <td>KDPOD</td>\n",
       "    </tr>\n",
       "    <tr>\n",
       "      <th>2</th>\n",
       "      <td>自然流量</td>\n",
       "    </tr>\n",
       "    <tr>\n",
       "      <th>3</th>\n",
       "      <td>B2KMK</td>\n",
       "    </tr>\n",
       "    <tr>\n",
       "      <th>4</th>\n",
       "      <td>ikip</td>\n",
       "    </tr>\n",
       "    <tr>\n",
       "      <th>5</th>\n",
       "      <td>B2KPOD</td>\n",
       "    </tr>\n",
       "    <tr>\n",
       "      <th>6</th>\n",
       "      <td>KDP</td>\n",
       "    </tr>\n",
       "    <tr>\n",
       "      <th>7</th>\n",
       "      <td>GINEP</td>\n",
       "    </tr>\n",
       "    <tr>\n",
       "      <th>8</th>\n",
       "      <td>edmP</td>\n",
       "    </tr>\n",
       "    <tr>\n",
       "      <th>9</th>\n",
       "      <td>edmM</td>\n",
       "    </tr>\n",
       "    <tr>\n",
       "      <th>10</th>\n",
       "      <td>B2KP</td>\n",
       "    </tr>\n",
       "    <tr>\n",
       "      <th>11</th>\n",
       "      <td>KDPM</td>\n",
       "    </tr>\n",
       "    <tr>\n",
       "      <th>12</th>\n",
       "      <td>KDM</td>\n",
       "    </tr>\n",
       "    <tr>\n",
       "      <th>13</th>\n",
       "      <td>B2K</td>\n",
       "    </tr>\n",
       "    <tr>\n",
       "      <th>14</th>\n",
       "      <td>GINEM</td>\n",
       "    </tr>\n",
       "    <tr>\n",
       "      <th>15</th>\n",
       "      <td>qdwit</td>\n",
       "    </tr>\n",
       "    <tr>\n",
       "      <th>16</th>\n",
       "      <td>B2KM</td>\n",
       "    </tr>\n",
       "    <tr>\n",
       "      <th>17</th>\n",
       "      <td>pic</td>\n",
       "    </tr>\n",
       "  </tbody>\n",
       "</table>\n",
       "</div>"
      ],
      "text/plain": [
       "      廣告代號\n",
       "0   critei\n",
       "1    KDPOD\n",
       "2     自然流量\n",
       "3    B2KMK\n",
       "4     ikip\n",
       "5   B2KPOD\n",
       "6      KDP\n",
       "7    GINEP\n",
       "8     edmP\n",
       "9     edmM\n",
       "10    B2KP\n",
       "11    KDPM\n",
       "12     KDM\n",
       "13     B2K\n",
       "14   GINEM\n",
       "15   qdwit\n",
       "16    B2KM\n",
       "17     pic"
      ]
     },
     "execution_count": 27,
     "metadata": {},
     "output_type": "execute_result"
    }
   ],
   "source": [
    "#### 每月各廣告利潤 ###\n",
    "\n",
    "ad_types=product_data['廣告代號all'].unique()\n",
    "ad = {\"廣告代號\": ad_types}\n",
    "ad_profit_df = pd.DataFrame(ad)\n",
    "ad_profit_df"
   ]
  },
  {
   "cell_type": "code",
   "execution_count": 28,
   "metadata": {},
   "outputs": [
    {
     "data": {
      "text/html": [
       "<div>\n",
       "<style scoped>\n",
       "    .dataframe tbody tr th:only-of-type {\n",
       "        vertical-align: middle;\n",
       "    }\n",
       "\n",
       "    .dataframe tbody tr th {\n",
       "        vertical-align: top;\n",
       "    }\n",
       "\n",
       "    .dataframe thead th {\n",
       "        text-align: right;\n",
       "    }\n",
       "</style>\n",
       "<table border=\"1\" class=\"dataframe\">\n",
       "  <thead>\n",
       "    <tr style=\"text-align: right;\">\n",
       "      <th></th>\n",
       "      <th>廣告代號</th>\n",
       "      <th>1月份</th>\n",
       "      <th>2月份</th>\n",
       "      <th>3月份</th>\n",
       "      <th>4月份</th>\n",
       "      <th>5月份</th>\n",
       "      <th>6月份</th>\n",
       "      <th>7月份</th>\n",
       "      <th>8月份</th>\n",
       "      <th>9月份</th>\n",
       "      <th>10月份</th>\n",
       "      <th>11月份</th>\n",
       "      <th>12月份</th>\n",
       "    </tr>\n",
       "  </thead>\n",
       "  <tbody>\n",
       "    <tr>\n",
       "      <th>0</th>\n",
       "      <td>critei</td>\n",
       "      <td>247.973684</td>\n",
       "      <td>231.911765</td>\n",
       "      <td>220.000000</td>\n",
       "      <td>256.532468</td>\n",
       "      <td>251.824561</td>\n",
       "      <td>272.490566</td>\n",
       "      <td>256.000000</td>\n",
       "      <td>210.720000</td>\n",
       "      <td>252.235294</td>\n",
       "      <td>232.142857</td>\n",
       "      <td>235.000000</td>\n",
       "      <td>297.833333</td>\n",
       "    </tr>\n",
       "    <tr>\n",
       "      <th>1</th>\n",
       "      <td>KDPOD</td>\n",
       "      <td>261.388664</td>\n",
       "      <td>274.900000</td>\n",
       "      <td>338.000000</td>\n",
       "      <td>NaN</td>\n",
       "      <td>NaN</td>\n",
       "      <td>NaN</td>\n",
       "      <td>NaN</td>\n",
       "      <td>NaN</td>\n",
       "      <td>NaN</td>\n",
       "      <td>NaN</td>\n",
       "      <td>NaN</td>\n",
       "      <td>NaN</td>\n",
       "    </tr>\n",
       "    <tr>\n",
       "      <th>2</th>\n",
       "      <td>自然流量</td>\n",
       "      <td>254.329268</td>\n",
       "      <td>226.984375</td>\n",
       "      <td>250.113402</td>\n",
       "      <td>243.861446</td>\n",
       "      <td>232.724638</td>\n",
       "      <td>230.507937</td>\n",
       "      <td>243.302752</td>\n",
       "      <td>233.395833</td>\n",
       "      <td>235.196721</td>\n",
       "      <td>251.512821</td>\n",
       "      <td>246.680000</td>\n",
       "      <td>273.318182</td>\n",
       "    </tr>\n",
       "    <tr>\n",
       "      <th>3</th>\n",
       "      <td>B2KMK</td>\n",
       "      <td>280.800000</td>\n",
       "      <td>NaN</td>\n",
       "      <td>NaN</td>\n",
       "      <td>NaN</td>\n",
       "      <td>NaN</td>\n",
       "      <td>NaN</td>\n",
       "      <td>NaN</td>\n",
       "      <td>NaN</td>\n",
       "      <td>NaN</td>\n",
       "      <td>NaN</td>\n",
       "      <td>NaN</td>\n",
       "      <td>NaN</td>\n",
       "    </tr>\n",
       "    <tr>\n",
       "      <th>4</th>\n",
       "      <td>ikip</td>\n",
       "      <td>323.000000</td>\n",
       "      <td>207.200000</td>\n",
       "      <td>193.333333</td>\n",
       "      <td>267.900000</td>\n",
       "      <td>167.000000</td>\n",
       "      <td>249.600000</td>\n",
       "      <td>196.538462</td>\n",
       "      <td>240.000000</td>\n",
       "      <td>294.666667</td>\n",
       "      <td>NaN</td>\n",
       "      <td>155.000000</td>\n",
       "      <td>NaN</td>\n",
       "    </tr>\n",
       "    <tr>\n",
       "      <th>5</th>\n",
       "      <td>B2KPOD</td>\n",
       "      <td>277.000000</td>\n",
       "      <td>260.500000</td>\n",
       "      <td>NaN</td>\n",
       "      <td>NaN</td>\n",
       "      <td>NaN</td>\n",
       "      <td>NaN</td>\n",
       "      <td>NaN</td>\n",
       "      <td>NaN</td>\n",
       "      <td>NaN</td>\n",
       "      <td>NaN</td>\n",
       "      <td>NaN</td>\n",
       "      <td>NaN</td>\n",
       "    </tr>\n",
       "    <tr>\n",
       "      <th>6</th>\n",
       "      <td>KDP</td>\n",
       "      <td>NaN</td>\n",
       "      <td>223.000000</td>\n",
       "      <td>223.613260</td>\n",
       "      <td>236.148000</td>\n",
       "      <td>229.059801</td>\n",
       "      <td>214.523256</td>\n",
       "      <td>253.154930</td>\n",
       "      <td>223.282051</td>\n",
       "      <td>217.909091</td>\n",
       "      <td>283.933333</td>\n",
       "      <td>283.266667</td>\n",
       "      <td>240.333333</td>\n",
       "    </tr>\n",
       "    <tr>\n",
       "      <th>7</th>\n",
       "      <td>GINEP</td>\n",
       "      <td>NaN</td>\n",
       "      <td>211.250000</td>\n",
       "      <td>272.866667</td>\n",
       "      <td>237.700000</td>\n",
       "      <td>221.500000</td>\n",
       "      <td>232.222222</td>\n",
       "      <td>157.333333</td>\n",
       "      <td>252.000000</td>\n",
       "      <td>294.666667</td>\n",
       "      <td>241.000000</td>\n",
       "      <td>NaN</td>\n",
       "      <td>290.500000</td>\n",
       "    </tr>\n",
       "    <tr>\n",
       "      <th>8</th>\n",
       "      <td>edmP</td>\n",
       "      <td>NaN</td>\n",
       "      <td>236.000000</td>\n",
       "      <td>235.722222</td>\n",
       "      <td>212.166667</td>\n",
       "      <td>323.600000</td>\n",
       "      <td>204.285714</td>\n",
       "      <td>177.000000</td>\n",
       "      <td>217.000000</td>\n",
       "      <td>366.000000</td>\n",
       "      <td>165.666667</td>\n",
       "      <td>246.000000</td>\n",
       "      <td>NaN</td>\n",
       "    </tr>\n",
       "    <tr>\n",
       "      <th>9</th>\n",
       "      <td>edmM</td>\n",
       "      <td>NaN</td>\n",
       "      <td>128.000000</td>\n",
       "      <td>NaN</td>\n",
       "      <td>NaN</td>\n",
       "      <td>235.666667</td>\n",
       "      <td>NaN</td>\n",
       "      <td>NaN</td>\n",
       "      <td>NaN</td>\n",
       "      <td>NaN</td>\n",
       "      <td>NaN</td>\n",
       "      <td>NaN</td>\n",
       "      <td>NaN</td>\n",
       "    </tr>\n",
       "    <tr>\n",
       "      <th>10</th>\n",
       "      <td>B2KP</td>\n",
       "      <td>NaN</td>\n",
       "      <td>NaN</td>\n",
       "      <td>176.000000</td>\n",
       "      <td>205.500000</td>\n",
       "      <td>418.000000</td>\n",
       "      <td>252.000000</td>\n",
       "      <td>272.833333</td>\n",
       "      <td>320.000000</td>\n",
       "      <td>NaN</td>\n",
       "      <td>376.000000</td>\n",
       "      <td>240.000000</td>\n",
       "      <td>NaN</td>\n",
       "    </tr>\n",
       "    <tr>\n",
       "      <th>11</th>\n",
       "      <td>KDPM</td>\n",
       "      <td>NaN</td>\n",
       "      <td>NaN</td>\n",
       "      <td>NaN</td>\n",
       "      <td>NaN</td>\n",
       "      <td>204.320000</td>\n",
       "      <td>235.534653</td>\n",
       "      <td>182.400000</td>\n",
       "      <td>176.500000</td>\n",
       "      <td>NaN</td>\n",
       "      <td>NaN</td>\n",
       "      <td>NaN</td>\n",
       "      <td>NaN</td>\n",
       "    </tr>\n",
       "    <tr>\n",
       "      <th>12</th>\n",
       "      <td>KDM</td>\n",
       "      <td>NaN</td>\n",
       "      <td>NaN</td>\n",
       "      <td>NaN</td>\n",
       "      <td>NaN</td>\n",
       "      <td>122.000000</td>\n",
       "      <td>NaN</td>\n",
       "      <td>NaN</td>\n",
       "      <td>NaN</td>\n",
       "      <td>NaN</td>\n",
       "      <td>NaN</td>\n",
       "      <td>NaN</td>\n",
       "      <td>NaN</td>\n",
       "    </tr>\n",
       "    <tr>\n",
       "      <th>13</th>\n",
       "      <td>B2K</td>\n",
       "      <td>NaN</td>\n",
       "      <td>NaN</td>\n",
       "      <td>NaN</td>\n",
       "      <td>NaN</td>\n",
       "      <td>NaN</td>\n",
       "      <td>370.000000</td>\n",
       "      <td>NaN</td>\n",
       "      <td>NaN</td>\n",
       "      <td>NaN</td>\n",
       "      <td>NaN</td>\n",
       "      <td>NaN</td>\n",
       "      <td>NaN</td>\n",
       "    </tr>\n",
       "    <tr>\n",
       "      <th>14</th>\n",
       "      <td>GINEM</td>\n",
       "      <td>NaN</td>\n",
       "      <td>NaN</td>\n",
       "      <td>NaN</td>\n",
       "      <td>NaN</td>\n",
       "      <td>NaN</td>\n",
       "      <td>96.000000</td>\n",
       "      <td>NaN</td>\n",
       "      <td>NaN</td>\n",
       "      <td>NaN</td>\n",
       "      <td>NaN</td>\n",
       "      <td>NaN</td>\n",
       "      <td>NaN</td>\n",
       "    </tr>\n",
       "    <tr>\n",
       "      <th>15</th>\n",
       "      <td>qdwit</td>\n",
       "      <td>NaN</td>\n",
       "      <td>NaN</td>\n",
       "      <td>NaN</td>\n",
       "      <td>NaN</td>\n",
       "      <td>NaN</td>\n",
       "      <td>NaN</td>\n",
       "      <td>413.000000</td>\n",
       "      <td>NaN</td>\n",
       "      <td>NaN</td>\n",
       "      <td>NaN</td>\n",
       "      <td>NaN</td>\n",
       "      <td>NaN</td>\n",
       "    </tr>\n",
       "    <tr>\n",
       "      <th>16</th>\n",
       "      <td>B2KM</td>\n",
       "      <td>NaN</td>\n",
       "      <td>NaN</td>\n",
       "      <td>NaN</td>\n",
       "      <td>NaN</td>\n",
       "      <td>NaN</td>\n",
       "      <td>NaN</td>\n",
       "      <td>NaN</td>\n",
       "      <td>NaN</td>\n",
       "      <td>113.000000</td>\n",
       "      <td>NaN</td>\n",
       "      <td>NaN</td>\n",
       "      <td>NaN</td>\n",
       "    </tr>\n",
       "    <tr>\n",
       "      <th>17</th>\n",
       "      <td>pic</td>\n",
       "      <td>NaN</td>\n",
       "      <td>NaN</td>\n",
       "      <td>NaN</td>\n",
       "      <td>NaN</td>\n",
       "      <td>NaN</td>\n",
       "      <td>NaN</td>\n",
       "      <td>NaN</td>\n",
       "      <td>NaN</td>\n",
       "      <td>NaN</td>\n",
       "      <td>241.000000</td>\n",
       "      <td>NaN</td>\n",
       "      <td>NaN</td>\n",
       "    </tr>\n",
       "  </tbody>\n",
       "</table>\n",
       "</div>"
      ],
      "text/plain": [
       "      廣告代號         1月份         2月份         3月份         4月份         5月份  \\\n",
       "0   critei  247.973684  231.911765  220.000000  256.532468  251.824561   \n",
       "1    KDPOD  261.388664  274.900000  338.000000         NaN         NaN   \n",
       "2     自然流量  254.329268  226.984375  250.113402  243.861446  232.724638   \n",
       "3    B2KMK  280.800000         NaN         NaN         NaN         NaN   \n",
       "4     ikip  323.000000  207.200000  193.333333  267.900000  167.000000   \n",
       "5   B2KPOD  277.000000  260.500000         NaN         NaN         NaN   \n",
       "6      KDP         NaN  223.000000  223.613260  236.148000  229.059801   \n",
       "7    GINEP         NaN  211.250000  272.866667  237.700000  221.500000   \n",
       "8     edmP         NaN  236.000000  235.722222  212.166667  323.600000   \n",
       "9     edmM         NaN  128.000000         NaN         NaN  235.666667   \n",
       "10    B2KP         NaN         NaN  176.000000  205.500000  418.000000   \n",
       "11    KDPM         NaN         NaN         NaN         NaN  204.320000   \n",
       "12     KDM         NaN         NaN         NaN         NaN  122.000000   \n",
       "13     B2K         NaN         NaN         NaN         NaN         NaN   \n",
       "14   GINEM         NaN         NaN         NaN         NaN         NaN   \n",
       "15   qdwit         NaN         NaN         NaN         NaN         NaN   \n",
       "16    B2KM         NaN         NaN         NaN         NaN         NaN   \n",
       "17     pic         NaN         NaN         NaN         NaN         NaN   \n",
       "\n",
       "           6月份         7月份         8月份         9月份        10月份        11月份  \\\n",
       "0   272.490566  256.000000  210.720000  252.235294  232.142857  235.000000   \n",
       "1          NaN         NaN         NaN         NaN         NaN         NaN   \n",
       "2   230.507937  243.302752  233.395833  235.196721  251.512821  246.680000   \n",
       "3          NaN         NaN         NaN         NaN         NaN         NaN   \n",
       "4   249.600000  196.538462  240.000000  294.666667         NaN  155.000000   \n",
       "5          NaN         NaN         NaN         NaN         NaN         NaN   \n",
       "6   214.523256  253.154930  223.282051  217.909091  283.933333  283.266667   \n",
       "7   232.222222  157.333333  252.000000  294.666667  241.000000         NaN   \n",
       "8   204.285714  177.000000  217.000000  366.000000  165.666667  246.000000   \n",
       "9          NaN         NaN         NaN         NaN         NaN         NaN   \n",
       "10  252.000000  272.833333  320.000000         NaN  376.000000  240.000000   \n",
       "11  235.534653  182.400000  176.500000         NaN         NaN         NaN   \n",
       "12         NaN         NaN         NaN         NaN         NaN         NaN   \n",
       "13  370.000000         NaN         NaN         NaN         NaN         NaN   \n",
       "14   96.000000         NaN         NaN         NaN         NaN         NaN   \n",
       "15         NaN  413.000000         NaN         NaN         NaN         NaN   \n",
       "16         NaN         NaN         NaN  113.000000         NaN         NaN   \n",
       "17         NaN         NaN         NaN         NaN  241.000000         NaN   \n",
       "\n",
       "          12月份  \n",
       "0   297.833333  \n",
       "1          NaN  \n",
       "2   273.318182  \n",
       "3          NaN  \n",
       "4          NaN  \n",
       "5          NaN  \n",
       "6   240.333333  \n",
       "7   290.500000  \n",
       "8          NaN  \n",
       "9          NaN  \n",
       "10         NaN  \n",
       "11         NaN  \n",
       "12         NaN  \n",
       "13         NaN  \n",
       "14         NaN  \n",
       "15         NaN  \n",
       "16         NaN  \n",
       "17         NaN  "
      ]
     },
     "execution_count": 28,
     "metadata": {},
     "output_type": "execute_result"
    }
   ],
   "source": [
    "#迴圈進行每月計算\n",
    "\n",
    "for month in range(1,13):\n",
    "    # 選擇月份\n",
    "    select_month = product_data[product_data['訂單時間(月)'] == month]\n",
    "    profit = []\n",
    "    # 選擇廣告\n",
    "    for ad in ad_types:\n",
    "        select_ad = select_month[select_month['廣告代號all']== ad]\n",
    "        select_ad = select_ad.groupby('廣告代號all')[['利潤', 'count']].sum()\n",
    "        select_ad['平均利潤'] = select_ad['利潤'] / select_ad['count'] \n",
    "        # 取出平均利潤\n",
    "        if not select_ad.empty:\n",
    "            ad_profit = select_ad['平均利潤'][0]\n",
    "        elif select_ad.empty:\n",
    "            ad_profit= None\n",
    "        profit.append(ad_profit)\n",
    "    month_profit = {\"廣告代號\": ad_types,str(month)+'月份' : profit} #+\"月份\"\n",
    "    month_profit = pd.DataFrame(month_profit)  \n",
    "    ad_profit_df = pd.merge(ad_profit_df, month_profit, on='廣告代號', how='left')\n",
    "\n",
    "ad_profit_df"
   ]
  },
  {
   "cell_type": "code",
   "execution_count": 29,
   "metadata": {},
   "outputs": [
    {
     "data": {
      "text/html": [
       "<div>\n",
       "<style scoped>\n",
       "    .dataframe tbody tr th:only-of-type {\n",
       "        vertical-align: middle;\n",
       "    }\n",
       "\n",
       "    .dataframe tbody tr th {\n",
       "        vertical-align: top;\n",
       "    }\n",
       "\n",
       "    .dataframe thead th {\n",
       "        text-align: right;\n",
       "    }\n",
       "</style>\n",
       "<table border=\"1\" class=\"dataframe\">\n",
       "  <thead>\n",
       "    <tr style=\"text-align: right;\">\n",
       "      <th>廣告代號</th>\n",
       "      <th>critei</th>\n",
       "      <th>KDPOD</th>\n",
       "      <th>自然流量</th>\n",
       "      <th>B2KMK</th>\n",
       "      <th>ikip</th>\n",
       "      <th>B2KPOD</th>\n",
       "      <th>KDP</th>\n",
       "      <th>GINEP</th>\n",
       "      <th>edmP</th>\n",
       "      <th>edmM</th>\n",
       "      <th>B2KP</th>\n",
       "      <th>KDPM</th>\n",
       "      <th>KDM</th>\n",
       "      <th>B2K</th>\n",
       "      <th>GINEM</th>\n",
       "      <th>qdwit</th>\n",
       "      <th>B2KM</th>\n",
       "      <th>pic</th>\n",
       "    </tr>\n",
       "  </thead>\n",
       "  <tbody>\n",
       "    <tr>\n",
       "      <th>1月份</th>\n",
       "      <td>247.973684</td>\n",
       "      <td>261.388664</td>\n",
       "      <td>254.329268</td>\n",
       "      <td>280.8</td>\n",
       "      <td>323.000000</td>\n",
       "      <td>277.0</td>\n",
       "      <td>NaN</td>\n",
       "      <td>NaN</td>\n",
       "      <td>NaN</td>\n",
       "      <td>NaN</td>\n",
       "      <td>NaN</td>\n",
       "      <td>NaN</td>\n",
       "      <td>NaN</td>\n",
       "      <td>NaN</td>\n",
       "      <td>NaN</td>\n",
       "      <td>NaN</td>\n",
       "      <td>NaN</td>\n",
       "      <td>NaN</td>\n",
       "    </tr>\n",
       "    <tr>\n",
       "      <th>2月份</th>\n",
       "      <td>231.911765</td>\n",
       "      <td>274.900000</td>\n",
       "      <td>226.984375</td>\n",
       "      <td>NaN</td>\n",
       "      <td>207.200000</td>\n",
       "      <td>260.5</td>\n",
       "      <td>223.000000</td>\n",
       "      <td>211.250000</td>\n",
       "      <td>236.000000</td>\n",
       "      <td>128.000000</td>\n",
       "      <td>NaN</td>\n",
       "      <td>NaN</td>\n",
       "      <td>NaN</td>\n",
       "      <td>NaN</td>\n",
       "      <td>NaN</td>\n",
       "      <td>NaN</td>\n",
       "      <td>NaN</td>\n",
       "      <td>NaN</td>\n",
       "    </tr>\n",
       "    <tr>\n",
       "      <th>3月份</th>\n",
       "      <td>220.000000</td>\n",
       "      <td>338.000000</td>\n",
       "      <td>250.113402</td>\n",
       "      <td>NaN</td>\n",
       "      <td>193.333333</td>\n",
       "      <td>NaN</td>\n",
       "      <td>223.613260</td>\n",
       "      <td>272.866667</td>\n",
       "      <td>235.722222</td>\n",
       "      <td>NaN</td>\n",
       "      <td>176.000000</td>\n",
       "      <td>NaN</td>\n",
       "      <td>NaN</td>\n",
       "      <td>NaN</td>\n",
       "      <td>NaN</td>\n",
       "      <td>NaN</td>\n",
       "      <td>NaN</td>\n",
       "      <td>NaN</td>\n",
       "    </tr>\n",
       "    <tr>\n",
       "      <th>4月份</th>\n",
       "      <td>256.532468</td>\n",
       "      <td>NaN</td>\n",
       "      <td>243.861446</td>\n",
       "      <td>NaN</td>\n",
       "      <td>267.900000</td>\n",
       "      <td>NaN</td>\n",
       "      <td>236.148000</td>\n",
       "      <td>237.700000</td>\n",
       "      <td>212.166667</td>\n",
       "      <td>NaN</td>\n",
       "      <td>205.500000</td>\n",
       "      <td>NaN</td>\n",
       "      <td>NaN</td>\n",
       "      <td>NaN</td>\n",
       "      <td>NaN</td>\n",
       "      <td>NaN</td>\n",
       "      <td>NaN</td>\n",
       "      <td>NaN</td>\n",
       "    </tr>\n",
       "    <tr>\n",
       "      <th>5月份</th>\n",
       "      <td>251.824561</td>\n",
       "      <td>NaN</td>\n",
       "      <td>232.724638</td>\n",
       "      <td>NaN</td>\n",
       "      <td>167.000000</td>\n",
       "      <td>NaN</td>\n",
       "      <td>229.059801</td>\n",
       "      <td>221.500000</td>\n",
       "      <td>323.600000</td>\n",
       "      <td>235.666667</td>\n",
       "      <td>418.000000</td>\n",
       "      <td>204.320000</td>\n",
       "      <td>122.0</td>\n",
       "      <td>NaN</td>\n",
       "      <td>NaN</td>\n",
       "      <td>NaN</td>\n",
       "      <td>NaN</td>\n",
       "      <td>NaN</td>\n",
       "    </tr>\n",
       "    <tr>\n",
       "      <th>6月份</th>\n",
       "      <td>272.490566</td>\n",
       "      <td>NaN</td>\n",
       "      <td>230.507937</td>\n",
       "      <td>NaN</td>\n",
       "      <td>249.600000</td>\n",
       "      <td>NaN</td>\n",
       "      <td>214.523256</td>\n",
       "      <td>232.222222</td>\n",
       "      <td>204.285714</td>\n",
       "      <td>NaN</td>\n",
       "      <td>252.000000</td>\n",
       "      <td>235.534653</td>\n",
       "      <td>NaN</td>\n",
       "      <td>370.0</td>\n",
       "      <td>96.0</td>\n",
       "      <td>NaN</td>\n",
       "      <td>NaN</td>\n",
       "      <td>NaN</td>\n",
       "    </tr>\n",
       "    <tr>\n",
       "      <th>7月份</th>\n",
       "      <td>256.000000</td>\n",
       "      <td>NaN</td>\n",
       "      <td>243.302752</td>\n",
       "      <td>NaN</td>\n",
       "      <td>196.538462</td>\n",
       "      <td>NaN</td>\n",
       "      <td>253.154930</td>\n",
       "      <td>157.333333</td>\n",
       "      <td>177.000000</td>\n",
       "      <td>NaN</td>\n",
       "      <td>272.833333</td>\n",
       "      <td>182.400000</td>\n",
       "      <td>NaN</td>\n",
       "      <td>NaN</td>\n",
       "      <td>NaN</td>\n",
       "      <td>413.0</td>\n",
       "      <td>NaN</td>\n",
       "      <td>NaN</td>\n",
       "    </tr>\n",
       "    <tr>\n",
       "      <th>8月份</th>\n",
       "      <td>210.720000</td>\n",
       "      <td>NaN</td>\n",
       "      <td>233.395833</td>\n",
       "      <td>NaN</td>\n",
       "      <td>240.000000</td>\n",
       "      <td>NaN</td>\n",
       "      <td>223.282051</td>\n",
       "      <td>252.000000</td>\n",
       "      <td>217.000000</td>\n",
       "      <td>NaN</td>\n",
       "      <td>320.000000</td>\n",
       "      <td>176.500000</td>\n",
       "      <td>NaN</td>\n",
       "      <td>NaN</td>\n",
       "      <td>NaN</td>\n",
       "      <td>NaN</td>\n",
       "      <td>NaN</td>\n",
       "      <td>NaN</td>\n",
       "    </tr>\n",
       "    <tr>\n",
       "      <th>9月份</th>\n",
       "      <td>252.235294</td>\n",
       "      <td>NaN</td>\n",
       "      <td>235.196721</td>\n",
       "      <td>NaN</td>\n",
       "      <td>294.666667</td>\n",
       "      <td>NaN</td>\n",
       "      <td>217.909091</td>\n",
       "      <td>294.666667</td>\n",
       "      <td>366.000000</td>\n",
       "      <td>NaN</td>\n",
       "      <td>NaN</td>\n",
       "      <td>NaN</td>\n",
       "      <td>NaN</td>\n",
       "      <td>NaN</td>\n",
       "      <td>NaN</td>\n",
       "      <td>NaN</td>\n",
       "      <td>113.0</td>\n",
       "      <td>NaN</td>\n",
       "    </tr>\n",
       "    <tr>\n",
       "      <th>10月份</th>\n",
       "      <td>232.142857</td>\n",
       "      <td>NaN</td>\n",
       "      <td>251.512821</td>\n",
       "      <td>NaN</td>\n",
       "      <td>NaN</td>\n",
       "      <td>NaN</td>\n",
       "      <td>283.933333</td>\n",
       "      <td>241.000000</td>\n",
       "      <td>165.666667</td>\n",
       "      <td>NaN</td>\n",
       "      <td>376.000000</td>\n",
       "      <td>NaN</td>\n",
       "      <td>NaN</td>\n",
       "      <td>NaN</td>\n",
       "      <td>NaN</td>\n",
       "      <td>NaN</td>\n",
       "      <td>NaN</td>\n",
       "      <td>241.0</td>\n",
       "    </tr>\n",
       "    <tr>\n",
       "      <th>11月份</th>\n",
       "      <td>235.000000</td>\n",
       "      <td>NaN</td>\n",
       "      <td>246.680000</td>\n",
       "      <td>NaN</td>\n",
       "      <td>155.000000</td>\n",
       "      <td>NaN</td>\n",
       "      <td>283.266667</td>\n",
       "      <td>NaN</td>\n",
       "      <td>246.000000</td>\n",
       "      <td>NaN</td>\n",
       "      <td>240.000000</td>\n",
       "      <td>NaN</td>\n",
       "      <td>NaN</td>\n",
       "      <td>NaN</td>\n",
       "      <td>NaN</td>\n",
       "      <td>NaN</td>\n",
       "      <td>NaN</td>\n",
       "      <td>NaN</td>\n",
       "    </tr>\n",
       "    <tr>\n",
       "      <th>12月份</th>\n",
       "      <td>297.833333</td>\n",
       "      <td>NaN</td>\n",
       "      <td>273.318182</td>\n",
       "      <td>NaN</td>\n",
       "      <td>NaN</td>\n",
       "      <td>NaN</td>\n",
       "      <td>240.333333</td>\n",
       "      <td>290.500000</td>\n",
       "      <td>NaN</td>\n",
       "      <td>NaN</td>\n",
       "      <td>NaN</td>\n",
       "      <td>NaN</td>\n",
       "      <td>NaN</td>\n",
       "      <td>NaN</td>\n",
       "      <td>NaN</td>\n",
       "      <td>NaN</td>\n",
       "      <td>NaN</td>\n",
       "      <td>NaN</td>\n",
       "    </tr>\n",
       "  </tbody>\n",
       "</table>\n",
       "</div>"
      ],
      "text/plain": [
       "廣告代號      critei       KDPOD        自然流量  B2KMK        ikip  B2KPOD  \\\n",
       "1月份   247.973684  261.388664  254.329268  280.8  323.000000   277.0   \n",
       "2月份   231.911765  274.900000  226.984375    NaN  207.200000   260.5   \n",
       "3月份   220.000000  338.000000  250.113402    NaN  193.333333     NaN   \n",
       "4月份   256.532468         NaN  243.861446    NaN  267.900000     NaN   \n",
       "5月份   251.824561         NaN  232.724638    NaN  167.000000     NaN   \n",
       "6月份   272.490566         NaN  230.507937    NaN  249.600000     NaN   \n",
       "7月份   256.000000         NaN  243.302752    NaN  196.538462     NaN   \n",
       "8月份   210.720000         NaN  233.395833    NaN  240.000000     NaN   \n",
       "9月份   252.235294         NaN  235.196721    NaN  294.666667     NaN   \n",
       "10月份  232.142857         NaN  251.512821    NaN         NaN     NaN   \n",
       "11月份  235.000000         NaN  246.680000    NaN  155.000000     NaN   \n",
       "12月份  297.833333         NaN  273.318182    NaN         NaN     NaN   \n",
       "\n",
       "廣告代號         KDP       GINEP        edmP        edmM        B2KP        KDPM  \\\n",
       "1月份          NaN         NaN         NaN         NaN         NaN         NaN   \n",
       "2月份   223.000000  211.250000  236.000000  128.000000         NaN         NaN   \n",
       "3月份   223.613260  272.866667  235.722222         NaN  176.000000         NaN   \n",
       "4月份   236.148000  237.700000  212.166667         NaN  205.500000         NaN   \n",
       "5月份   229.059801  221.500000  323.600000  235.666667  418.000000  204.320000   \n",
       "6月份   214.523256  232.222222  204.285714         NaN  252.000000  235.534653   \n",
       "7月份   253.154930  157.333333  177.000000         NaN  272.833333  182.400000   \n",
       "8月份   223.282051  252.000000  217.000000         NaN  320.000000  176.500000   \n",
       "9月份   217.909091  294.666667  366.000000         NaN         NaN         NaN   \n",
       "10月份  283.933333  241.000000  165.666667         NaN  376.000000         NaN   \n",
       "11月份  283.266667         NaN  246.000000         NaN  240.000000         NaN   \n",
       "12月份  240.333333  290.500000         NaN         NaN         NaN         NaN   \n",
       "\n",
       "廣告代號    KDM    B2K  GINEM  qdwit   B2KM    pic  \n",
       "1月份     NaN    NaN    NaN    NaN    NaN    NaN  \n",
       "2月份     NaN    NaN    NaN    NaN    NaN    NaN  \n",
       "3月份     NaN    NaN    NaN    NaN    NaN    NaN  \n",
       "4月份     NaN    NaN    NaN    NaN    NaN    NaN  \n",
       "5月份   122.0    NaN    NaN    NaN    NaN    NaN  \n",
       "6月份     NaN  370.0   96.0    NaN    NaN    NaN  \n",
       "7月份     NaN    NaN    NaN  413.0    NaN    NaN  \n",
       "8月份     NaN    NaN    NaN    NaN    NaN    NaN  \n",
       "9月份     NaN    NaN    NaN    NaN  113.0    NaN  \n",
       "10月份    NaN    NaN    NaN    NaN    NaN  241.0  \n",
       "11月份    NaN    NaN    NaN    NaN    NaN    NaN  \n",
       "12月份    NaN    NaN    NaN    NaN    NaN    NaN  "
      ]
     },
     "execution_count": 29,
     "metadata": {},
     "output_type": "execute_result"
    }
   ],
   "source": [
    "# 計算廣告平均利潤\n",
    "\n",
    "ad_year_avg_profit = ad_avg_profit['平均利潤'].mean()\n",
    "ad_profit_df = ad_profit_df.set_index('廣告代號')\n",
    "ad_profit_df = ad_profit_df.T\n",
    "ad_profit_df"
   ]
  },
  {
   "cell_type": "markdown",
   "metadata": {},
   "source": [
    "<span style=\"font-size:0.7cm; line-height: 1cm;font-family:cursive;\"> 2.廣告篩選並繪圖</span><br>"
   ]
  },
  {
   "cell_type": "code",
   "execution_count": 30,
   "metadata": {
    "tags": []
   },
   "outputs": [
    {
     "name": "stdout",
     "output_type": "stream",
     "text": [
      "critei_具有分析價值\n",
      "KDPOD_具有分析價值\n",
      "自然流量_具有分析價值\n",
      "B2KMK_具有分析價值\n",
      "B2KPOD_具有分析價值\n",
      "B2KP_具有分析價值\n",
      "B2K_具有分析價值\n",
      "qdwit_具有分析價值\n"
     ]
    }
   ],
   "source": [
    "#篩選高於每年平均的廣告\n",
    "\n",
    "for i in ad_profit_df.columns:\n",
    "    if ad_profit_df[i].mean() > ad_year_avg_profit: \n",
    "        print(i+'_具有分析價值')\n",
    "    elif  ad_profit_df[i].mean() < ad_year_avg_profit:\n",
    "        ad_profit_df = ad_profit_df.drop(columns = i )\n"
   ]
  },
  {
   "cell_type": "code",
   "execution_count": 31,
   "metadata": {
    "tags": []
   },
   "outputs": [
    {
     "name": "stdout",
     "output_type": "stream",
     "text": [
      "0\n",
      "1\n",
      "2\n",
      "3\n",
      "4\n",
      "5\n",
      "6\n",
      "7\n"
     ]
    }
   ],
   "source": [
    "#廣告次數篩選\n",
    "\n",
    "ad_profit_df = ad_profit_df.T\n",
    "#繪圖\n",
    "\n",
    "traces = []\n",
    "colors = ['#990066','#FFCC00','#000033','#663300','#FF6600','#663333','#CC6666','#FF6666','#339900']\n",
    "\n",
    "for i in range(len(ad_profit_df.index)):\n",
    "    print(i)\n",
    "    pl_y = ad_profit_df.iloc[i,:].tolist()\n",
    "    color = colors[i]\n",
    "    trace = go.Scatter(x=hover_month,y= pl_y,\n",
    "                       marker= {'color': colors[i]},\n",
    "                       mode='lines+markers',line={'width': 2},\n",
    "                       name = ad_profit_df.index[i]+'廣告')\n",
    "    traces.append(trace)\n"
   ]
  },
  {
   "cell_type": "markdown",
   "metadata": {},
   "source": [
    "<span style=\"font-size:0.7cm; line-height: 1cm;font-family:cursive;\"> 4.推薦廣告清單</span><br>"
   ]
  },
  {
   "cell_type": "code",
   "execution_count": 32,
   "metadata": {},
   "outputs": [],
   "source": [
    "recommend_ad = [] # 最高利潤廣告名稱\n",
    "recommend_ad_profit = [] # 最高利潤廣告利潤額\n",
    "recommend_ad_list = [] # 前五大利潤廣告\n",
    "\n",
    "for i in ad_profit_df.columns:\n",
    "    ad_profit_df = ad_profit_df.sort_values(i,ascending =False)\n",
    "    recommend_ad.append(ad_profit_df[i].index[0])\n",
    "    recommend_ad_list.append(ad_profit_df[i].index[[0,1,2,3,4]].tolist())\n",
    "    recommend_ad_profit.append(ad_profit_df[i][0])"
   ]
  },
  {
   "cell_type": "markdown",
   "metadata": {},
   "source": [
    "<span style=\"font-size:0.7cm; line-height: 1cm;font-family:cursive;\"> 5.每月最適廣告標示</span><br>"
   ]
  },
  {
   "cell_type": "code",
   "execution_count": 33,
   "metadata": {},
   "outputs": [],
   "source": [
    "max_point = go.Scatter(x= hover_month,\n",
    "    y=recommend_ad_profit,\n",
    "    marker=dict(size = 20, color='rgba(255,235,205,0.5)',line=dict(color='#666666',width=2)),\n",
    "    hovertext=recommend_ad,\n",
    "    mode='markers',\n",
    "    name = \"每月最適廣告\")\n",
    "\n",
    "traces.append(max_point)\n"
   ]
  },
  {
   "cell_type": "code",
   "execution_count": 34,
   "metadata": {},
   "outputs": [
    {
     "data": {
      "application/vnd.plotly.v1+json": {
       "config": {
        "plotlyServerURL": "https://plot.ly"
       },
       "data": [
        {
         "line": {
          "width": 2
         },
         "marker": {
          "color": "#990066"
         },
         "mode": "lines+markers",
         "name": "critei廣告",
         "type": "scatter",
         "x": [
          "1月份",
          "2月份",
          "3月份",
          "4月份",
          "5月份",
          "6月份",
          "7月份",
          "8月份",
          "9月份",
          "10月份",
          "11月份",
          "12月份"
         ],
         "y": [
          247.97368421052633,
          231.91176470588235,
          220,
          256.53246753246754,
          251.82456140350877,
          272.49056603773585,
          256,
          210.72,
          252.23529411764707,
          232.14285714285714,
          235,
          297.8333333333333
         ]
        },
        {
         "line": {
          "width": 2
         },
         "marker": {
          "color": "#FFCC00"
         },
         "mode": "lines+markers",
         "name": "KDPOD廣告",
         "type": "scatter",
         "x": [
          "1月份",
          "2月份",
          "3月份",
          "4月份",
          "5月份",
          "6月份",
          "7月份",
          "8月份",
          "9月份",
          "10月份",
          "11月份",
          "12月份"
         ],
         "y": [
          261.3886639676113,
          274.9,
          338,
          null,
          null,
          null,
          null,
          null,
          null,
          null,
          null,
          null
         ]
        },
        {
         "line": {
          "width": 2
         },
         "marker": {
          "color": "#000033"
         },
         "mode": "lines+markers",
         "name": "自然流量廣告",
         "type": "scatter",
         "x": [
          "1月份",
          "2月份",
          "3月份",
          "4月份",
          "5月份",
          "6月份",
          "7月份",
          "8月份",
          "9月份",
          "10月份",
          "11月份",
          "12月份"
         ],
         "y": [
          254.32926829268294,
          226.984375,
          250.11340206185568,
          243.86144578313252,
          232.7246376811594,
          230.5079365079365,
          243.30275229357798,
          233.39583333333334,
          235.19672131147541,
          251.51282051282053,
          246.68,
          273.3181818181818
         ]
        },
        {
         "line": {
          "width": 2
         },
         "marker": {
          "color": "#663300"
         },
         "mode": "lines+markers",
         "name": "B2KMK廣告",
         "type": "scatter",
         "x": [
          "1月份",
          "2月份",
          "3月份",
          "4月份",
          "5月份",
          "6月份",
          "7月份",
          "8月份",
          "9月份",
          "10月份",
          "11月份",
          "12月份"
         ],
         "y": [
          280.8,
          null,
          null,
          null,
          null,
          null,
          null,
          null,
          null,
          null,
          null,
          null
         ]
        },
        {
         "line": {
          "width": 2
         },
         "marker": {
          "color": "#FF6600"
         },
         "mode": "lines+markers",
         "name": "B2KPOD廣告",
         "type": "scatter",
         "x": [
          "1月份",
          "2月份",
          "3月份",
          "4月份",
          "5月份",
          "6月份",
          "7月份",
          "8月份",
          "9月份",
          "10月份",
          "11月份",
          "12月份"
         ],
         "y": [
          277,
          260.5,
          null,
          null,
          null,
          null,
          null,
          null,
          null,
          null,
          null,
          null
         ]
        },
        {
         "line": {
          "width": 2
         },
         "marker": {
          "color": "#663333"
         },
         "mode": "lines+markers",
         "name": "B2KP廣告",
         "type": "scatter",
         "x": [
          "1月份",
          "2月份",
          "3月份",
          "4月份",
          "5月份",
          "6月份",
          "7月份",
          "8月份",
          "9月份",
          "10月份",
          "11月份",
          "12月份"
         ],
         "y": [
          null,
          null,
          176,
          205.5,
          418,
          252,
          272.8333333333333,
          320,
          null,
          376,
          240,
          null
         ]
        },
        {
         "line": {
          "width": 2
         },
         "marker": {
          "color": "#CC6666"
         },
         "mode": "lines+markers",
         "name": "B2K廣告",
         "type": "scatter",
         "x": [
          "1月份",
          "2月份",
          "3月份",
          "4月份",
          "5月份",
          "6月份",
          "7月份",
          "8月份",
          "9月份",
          "10月份",
          "11月份",
          "12月份"
         ],
         "y": [
          null,
          null,
          null,
          null,
          null,
          370,
          null,
          null,
          null,
          null,
          null,
          null
         ]
        },
        {
         "line": {
          "width": 2
         },
         "marker": {
          "color": "#FF6666"
         },
         "mode": "lines+markers",
         "name": "qdwit廣告",
         "type": "scatter",
         "x": [
          "1月份",
          "2月份",
          "3月份",
          "4月份",
          "5月份",
          "6月份",
          "7月份",
          "8月份",
          "9月份",
          "10月份",
          "11月份",
          "12月份"
         ],
         "y": [
          null,
          null,
          null,
          null,
          null,
          null,
          413,
          null,
          null,
          null,
          null,
          null
         ]
        },
        {
         "hovertext": [
          "B2KMK",
          "KDPOD",
          "KDPOD",
          "critei",
          "B2KP",
          "B2K",
          "qdwit",
          "B2KP",
          "critei",
          "B2KP",
          "自然流量",
          "critei"
         ],
         "marker": {
          "color": "rgba(255,235,205,0.5)",
          "line": {
           "color": "#666666",
           "width": 2
          },
          "size": 20
         },
         "mode": "markers",
         "name": "每月最適廣告",
         "type": "scatter",
         "x": [
          "1月份",
          "2月份",
          "3月份",
          "4月份",
          "5月份",
          "6月份",
          "7月份",
          "8月份",
          "9月份",
          "10月份",
          "11月份",
          "12月份"
         ],
         "y": [
          280.8,
          274.9,
          338,
          256.53246753246754,
          418,
          370,
          413,
          320,
          252.23529411764707,
          376,
          246.68,
          297.8333333333333
         ]
        }
       ],
       "layout": {
        "boxmode": "group",
        "font": {
         "color": "lightslategrey",
         "size": 20
        },
        "height": 900,
        "template": {
         "data": {
          "bar": [
           {
            "error_x": {
             "color": "#2a3f5f"
            },
            "error_y": {
             "color": "#2a3f5f"
            },
            "marker": {
             "line": {
              "color": "#E5ECF6",
              "width": 0.5
             }
            },
            "type": "bar"
           }
          ],
          "barpolar": [
           {
            "marker": {
             "line": {
              "color": "#E5ECF6",
              "width": 0.5
             }
            },
            "type": "barpolar"
           }
          ],
          "carpet": [
           {
            "aaxis": {
             "endlinecolor": "#2a3f5f",
             "gridcolor": "white",
             "linecolor": "white",
             "minorgridcolor": "white",
             "startlinecolor": "#2a3f5f"
            },
            "baxis": {
             "endlinecolor": "#2a3f5f",
             "gridcolor": "white",
             "linecolor": "white",
             "minorgridcolor": "white",
             "startlinecolor": "#2a3f5f"
            },
            "type": "carpet"
           }
          ],
          "choropleth": [
           {
            "colorbar": {
             "outlinewidth": 0,
             "ticks": ""
            },
            "type": "choropleth"
           }
          ],
          "contour": [
           {
            "colorbar": {
             "outlinewidth": 0,
             "ticks": ""
            },
            "colorscale": [
             [
              0,
              "#0d0887"
             ],
             [
              0.1111111111111111,
              "#46039f"
             ],
             [
              0.2222222222222222,
              "#7201a8"
             ],
             [
              0.3333333333333333,
              "#9c179e"
             ],
             [
              0.4444444444444444,
              "#bd3786"
             ],
             [
              0.5555555555555556,
              "#d8576b"
             ],
             [
              0.6666666666666666,
              "#ed7953"
             ],
             [
              0.7777777777777778,
              "#fb9f3a"
             ],
             [
              0.8888888888888888,
              "#fdca26"
             ],
             [
              1,
              "#f0f921"
             ]
            ],
            "type": "contour"
           }
          ],
          "contourcarpet": [
           {
            "colorbar": {
             "outlinewidth": 0,
             "ticks": ""
            },
            "type": "contourcarpet"
           }
          ],
          "heatmap": [
           {
            "colorbar": {
             "outlinewidth": 0,
             "ticks": ""
            },
            "colorscale": [
             [
              0,
              "#0d0887"
             ],
             [
              0.1111111111111111,
              "#46039f"
             ],
             [
              0.2222222222222222,
              "#7201a8"
             ],
             [
              0.3333333333333333,
              "#9c179e"
             ],
             [
              0.4444444444444444,
              "#bd3786"
             ],
             [
              0.5555555555555556,
              "#d8576b"
             ],
             [
              0.6666666666666666,
              "#ed7953"
             ],
             [
              0.7777777777777778,
              "#fb9f3a"
             ],
             [
              0.8888888888888888,
              "#fdca26"
             ],
             [
              1,
              "#f0f921"
             ]
            ],
            "type": "heatmap"
           }
          ],
          "heatmapgl": [
           {
            "colorbar": {
             "outlinewidth": 0,
             "ticks": ""
            },
            "colorscale": [
             [
              0,
              "#0d0887"
             ],
             [
              0.1111111111111111,
              "#46039f"
             ],
             [
              0.2222222222222222,
              "#7201a8"
             ],
             [
              0.3333333333333333,
              "#9c179e"
             ],
             [
              0.4444444444444444,
              "#bd3786"
             ],
             [
              0.5555555555555556,
              "#d8576b"
             ],
             [
              0.6666666666666666,
              "#ed7953"
             ],
             [
              0.7777777777777778,
              "#fb9f3a"
             ],
             [
              0.8888888888888888,
              "#fdca26"
             ],
             [
              1,
              "#f0f921"
             ]
            ],
            "type": "heatmapgl"
           }
          ],
          "histogram": [
           {
            "marker": {
             "colorbar": {
              "outlinewidth": 0,
              "ticks": ""
             }
            },
            "type": "histogram"
           }
          ],
          "histogram2d": [
           {
            "colorbar": {
             "outlinewidth": 0,
             "ticks": ""
            },
            "colorscale": [
             [
              0,
              "#0d0887"
             ],
             [
              0.1111111111111111,
              "#46039f"
             ],
             [
              0.2222222222222222,
              "#7201a8"
             ],
             [
              0.3333333333333333,
              "#9c179e"
             ],
             [
              0.4444444444444444,
              "#bd3786"
             ],
             [
              0.5555555555555556,
              "#d8576b"
             ],
             [
              0.6666666666666666,
              "#ed7953"
             ],
             [
              0.7777777777777778,
              "#fb9f3a"
             ],
             [
              0.8888888888888888,
              "#fdca26"
             ],
             [
              1,
              "#f0f921"
             ]
            ],
            "type": "histogram2d"
           }
          ],
          "histogram2dcontour": [
           {
            "colorbar": {
             "outlinewidth": 0,
             "ticks": ""
            },
            "colorscale": [
             [
              0,
              "#0d0887"
             ],
             [
              0.1111111111111111,
              "#46039f"
             ],
             [
              0.2222222222222222,
              "#7201a8"
             ],
             [
              0.3333333333333333,
              "#9c179e"
             ],
             [
              0.4444444444444444,
              "#bd3786"
             ],
             [
              0.5555555555555556,
              "#d8576b"
             ],
             [
              0.6666666666666666,
              "#ed7953"
             ],
             [
              0.7777777777777778,
              "#fb9f3a"
             ],
             [
              0.8888888888888888,
              "#fdca26"
             ],
             [
              1,
              "#f0f921"
             ]
            ],
            "type": "histogram2dcontour"
           }
          ],
          "mesh3d": [
           {
            "colorbar": {
             "outlinewidth": 0,
             "ticks": ""
            },
            "type": "mesh3d"
           }
          ],
          "parcoords": [
           {
            "line": {
             "colorbar": {
              "outlinewidth": 0,
              "ticks": ""
             }
            },
            "type": "parcoords"
           }
          ],
          "pie": [
           {
            "automargin": true,
            "type": "pie"
           }
          ],
          "scatter": [
           {
            "marker": {
             "colorbar": {
              "outlinewidth": 0,
              "ticks": ""
             }
            },
            "type": "scatter"
           }
          ],
          "scatter3d": [
           {
            "line": {
             "colorbar": {
              "outlinewidth": 0,
              "ticks": ""
             }
            },
            "marker": {
             "colorbar": {
              "outlinewidth": 0,
              "ticks": ""
             }
            },
            "type": "scatter3d"
           }
          ],
          "scattercarpet": [
           {
            "marker": {
             "colorbar": {
              "outlinewidth": 0,
              "ticks": ""
             }
            },
            "type": "scattercarpet"
           }
          ],
          "scattergeo": [
           {
            "marker": {
             "colorbar": {
              "outlinewidth": 0,
              "ticks": ""
             }
            },
            "type": "scattergeo"
           }
          ],
          "scattergl": [
           {
            "marker": {
             "colorbar": {
              "outlinewidth": 0,
              "ticks": ""
             }
            },
            "type": "scattergl"
           }
          ],
          "scattermapbox": [
           {
            "marker": {
             "colorbar": {
              "outlinewidth": 0,
              "ticks": ""
             }
            },
            "type": "scattermapbox"
           }
          ],
          "scatterpolar": [
           {
            "marker": {
             "colorbar": {
              "outlinewidth": 0,
              "ticks": ""
             }
            },
            "type": "scatterpolar"
           }
          ],
          "scatterpolargl": [
           {
            "marker": {
             "colorbar": {
              "outlinewidth": 0,
              "ticks": ""
             }
            },
            "type": "scatterpolargl"
           }
          ],
          "scatterternary": [
           {
            "marker": {
             "colorbar": {
              "outlinewidth": 0,
              "ticks": ""
             }
            },
            "type": "scatterternary"
           }
          ],
          "surface": [
           {
            "colorbar": {
             "outlinewidth": 0,
             "ticks": ""
            },
            "colorscale": [
             [
              0,
              "#0d0887"
             ],
             [
              0.1111111111111111,
              "#46039f"
             ],
             [
              0.2222222222222222,
              "#7201a8"
             ],
             [
              0.3333333333333333,
              "#9c179e"
             ],
             [
              0.4444444444444444,
              "#bd3786"
             ],
             [
              0.5555555555555556,
              "#d8576b"
             ],
             [
              0.6666666666666666,
              "#ed7953"
             ],
             [
              0.7777777777777778,
              "#fb9f3a"
             ],
             [
              0.8888888888888888,
              "#fdca26"
             ],
             [
              1,
              "#f0f921"
             ]
            ],
            "type": "surface"
           }
          ],
          "table": [
           {
            "cells": {
             "fill": {
              "color": "#EBF0F8"
             },
             "line": {
              "color": "white"
             }
            },
            "header": {
             "fill": {
              "color": "#C8D4E3"
             },
             "line": {
              "color": "white"
             }
            },
            "type": "table"
           }
          ]
         },
         "layout": {
          "annotationdefaults": {
           "arrowcolor": "#2a3f5f",
           "arrowhead": 0,
           "arrowwidth": 1
          },
          "coloraxis": {
           "colorbar": {
            "outlinewidth": 0,
            "ticks": ""
           }
          },
          "colorscale": {
           "diverging": [
            [
             0,
             "#8e0152"
            ],
            [
             0.1,
             "#c51b7d"
            ],
            [
             0.2,
             "#de77ae"
            ],
            [
             0.3,
             "#f1b6da"
            ],
            [
             0.4,
             "#fde0ef"
            ],
            [
             0.5,
             "#f7f7f7"
            ],
            [
             0.6,
             "#e6f5d0"
            ],
            [
             0.7,
             "#b8e186"
            ],
            [
             0.8,
             "#7fbc41"
            ],
            [
             0.9,
             "#4d9221"
            ],
            [
             1,
             "#276419"
            ]
           ],
           "sequential": [
            [
             0,
             "#0d0887"
            ],
            [
             0.1111111111111111,
             "#46039f"
            ],
            [
             0.2222222222222222,
             "#7201a8"
            ],
            [
             0.3333333333333333,
             "#9c179e"
            ],
            [
             0.4444444444444444,
             "#bd3786"
            ],
            [
             0.5555555555555556,
             "#d8576b"
            ],
            [
             0.6666666666666666,
             "#ed7953"
            ],
            [
             0.7777777777777778,
             "#fb9f3a"
            ],
            [
             0.8888888888888888,
             "#fdca26"
            ],
            [
             1,
             "#f0f921"
            ]
           ],
           "sequentialminus": [
            [
             0,
             "#0d0887"
            ],
            [
             0.1111111111111111,
             "#46039f"
            ],
            [
             0.2222222222222222,
             "#7201a8"
            ],
            [
             0.3333333333333333,
             "#9c179e"
            ],
            [
             0.4444444444444444,
             "#bd3786"
            ],
            [
             0.5555555555555556,
             "#d8576b"
            ],
            [
             0.6666666666666666,
             "#ed7953"
            ],
            [
             0.7777777777777778,
             "#fb9f3a"
            ],
            [
             0.8888888888888888,
             "#fdca26"
            ],
            [
             1,
             "#f0f921"
            ]
           ]
          },
          "colorway": [
           "#636efa",
           "#EF553B",
           "#00cc96",
           "#ab63fa",
           "#FFA15A",
           "#19d3f3",
           "#FF6692",
           "#B6E880",
           "#FF97FF",
           "#FECB52"
          ],
          "font": {
           "color": "#2a3f5f"
          },
          "geo": {
           "bgcolor": "white",
           "lakecolor": "white",
           "landcolor": "#E5ECF6",
           "showlakes": true,
           "showland": true,
           "subunitcolor": "white"
          },
          "hoverlabel": {
           "align": "left"
          },
          "hovermode": "closest",
          "mapbox": {
           "style": "light"
          },
          "paper_bgcolor": "white",
          "plot_bgcolor": "#E5ECF6",
          "polar": {
           "angularaxis": {
            "gridcolor": "white",
            "linecolor": "white",
            "ticks": ""
           },
           "bgcolor": "#E5ECF6",
           "radialaxis": {
            "gridcolor": "white",
            "linecolor": "white",
            "ticks": ""
           }
          },
          "scene": {
           "xaxis": {
            "backgroundcolor": "#E5ECF6",
            "gridcolor": "white",
            "gridwidth": 2,
            "linecolor": "white",
            "showbackground": true,
            "ticks": "",
            "zerolinecolor": "white"
           },
           "yaxis": {
            "backgroundcolor": "#E5ECF6",
            "gridcolor": "white",
            "gridwidth": 2,
            "linecolor": "white",
            "showbackground": true,
            "ticks": "",
            "zerolinecolor": "white"
           },
           "zaxis": {
            "backgroundcolor": "#E5ECF6",
            "gridcolor": "white",
            "gridwidth": 2,
            "linecolor": "white",
            "showbackground": true,
            "ticks": "",
            "zerolinecolor": "white"
           }
          },
          "shapedefaults": {
           "line": {
            "color": "#2a3f5f"
           }
          },
          "ternary": {
           "aaxis": {
            "gridcolor": "white",
            "linecolor": "white",
            "ticks": ""
           },
           "baxis": {
            "gridcolor": "white",
            "linecolor": "white",
            "ticks": ""
           },
           "bgcolor": "#E5ECF6",
           "caxis": {
            "gridcolor": "white",
            "linecolor": "white",
            "ticks": ""
           }
          },
          "title": {
           "x": 0.05
          },
          "xaxis": {
           "automargin": true,
           "gridcolor": "white",
           "linecolor": "white",
           "ticks": "",
           "title": {
            "standoff": 15
           },
           "zerolinecolor": "white",
           "zerolinewidth": 2
          },
          "yaxis": {
           "automargin": true,
           "gridcolor": "white",
           "linecolor": "white",
           "ticks": "",
           "title": {
            "standoff": 15
           },
           "zerolinecolor": "white",
           "zerolinewidth": 2
          }
         }
        },
        "title": {
         "text": "2017年每月廣告效益分析",
         "x": 0.5,
         "y": 0.95
        },
        "width": 1800,
        "xaxis": {
         "title": {
          "text": "月份"
         }
        },
        "yaxis": {
         "title": {
          "text": "利潤"
         }
        }
       }
      }
     },
     "metadata": {},
     "output_type": "display_data"
    }
   ],
   "source": [
    "layout = go.Layout(title={'text': str(search_year)+\"年每月廣告效益分析\",'y':0.95,'x':0.5},\n",
    "    yaxis_title='利潤',\n",
    "    xaxis={'title': '月份'},\n",
    "    width=1800,\n",
    "    height=900,\n",
    "    boxmode='group',\n",
    "    font=dict(size=20,color=\"lightslategrey\"))\n",
    "\n",
    "ad_figure = go.Figure(data = traces, layout = layout)\n",
    "ad_figure.show()\n"
   ]
  },
  {
   "cell_type": "markdown",
   "metadata": {},
   "source": [
    "![img](https://imgur.com/z0E9rwU.jpg)"
   ]
  },
  {
   "cell_type": "markdown",
   "metadata": {},
   "source": [
    "<span style=\"font-size:0.7cm; line-height: 1cm;font-family:cursive;\"> 6.存成圖檔與網頁檔</span><br>"
   ]
  },
  {
   "cell_type": "code",
   "execution_count": 16,
   "metadata": {},
   "outputs": [
    {
     "data": {
      "text/plain": [
       "'2017產品4年每月廣告效益分析.html'"
      ]
     },
     "execution_count": 16,
     "metadata": {},
     "output_type": "execute_result"
    }
   ],
   "source": [
    "# save as image\n",
    "\n",
    "ad_figure.write_image(str(search_year)+str(Analyze_product)+'年每月廣告效益分析'+'.png')\n",
    "# save as html\n",
    "\n",
    "py.plot(ad_figure, filename=str(search_year)+str(Analyze_product)+'年每月廣告效益分析', auto_open=True)\n"
   ]
  },
  {
   "cell_type": "markdown",
   "metadata": {},
   "source": [
    "<span style=\"font-size:0.7cm; line-height: 1cm;font-family:cursive;\"> 7.合併推薦清單並存取</span><br>"
   ]
  },
  {
   "cell_type": "code",
   "execution_count": 17,
   "metadata": {},
   "outputs": [],
   "source": [
    "#  產出清單  前五高利潤\n",
    "\n",
    "recommend_ad_list = pd.DataFrame(recommend_ad_list,index =hover_month)\n",
    "recommend_ad_list.to_csv(str(search_year)+'年各月份推薦廣告名單.csv',encoding = 'utf-8-sig')\n"
   ]
  }
 ],
 "metadata": {
  "kernelspec": {
   "display_name": "Python 3",
   "language": "python",
   "name": "python3"
  },
  "language_info": {
   "codemirror_mode": {
    "name": "ipython",
    "version": 3
   },
   "file_extension": ".py",
   "mimetype": "text/x-python",
   "name": "python",
   "nbconvert_exporter": "python",
   "pygments_lexer": "ipython3",
   "version": "3.7.3"
  }
 },
 "nbformat": 4,
 "nbformat_minor": 2
}
