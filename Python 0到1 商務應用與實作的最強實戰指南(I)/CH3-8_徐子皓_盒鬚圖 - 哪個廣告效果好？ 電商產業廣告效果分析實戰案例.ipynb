{
 "metadata": {
  "language_info": {
   "codemirror_mode": {
    "name": "ipython",
    "version": 3
   },
   "file_extension": ".py",
   "mimetype": "text/x-python",
   "name": "python",
   "nbconvert_exporter": "python",
   "pygments_lexer": "ipython3",
   "version": "3.6.6-final"
  },
  "orig_nbformat": 2,
  "kernelspec": {
   "name": "Python 3.6.6 64-bit ('win': conda)",
   "display_name": "Python 3.6.6 64-bit ('win': conda)",
   "metadata": {
    "interpreter": {
     "hash": "34024e3a09dbd84645edbdbcdeed8f2a9d64f115c760fa8f28ffbd334d3d11ac"
    }
   }
  }
 },
 "nbformat": 4,
 "nbformat_minor": 2,
 "cells": [
  {
   "source": [
    "# 盒鬚圖 - 哪個廣告效果好？ 電商產業廣告效果分析實戰案例"
   ],
   "cell_type": "markdown",
   "metadata": {}
  },
  {
   "source": [
    "#### 作者：徐子皓(臺灣行銷研究特邀作者)\n",
    "#### 完整文章介紹鏈接：https://medium.com/p/f1fd6e0006e4/"
   ],
   "cell_type": "markdown",
   "metadata": {}
  },
  {
   "source": [
    "## 一、基本資料引入"
   ],
   "cell_type": "markdown",
   "metadata": {}
  },
  {
   "source": [
    "### 1. 引入套件包、原始資料"
   ],
   "cell_type": "markdown",
   "metadata": {}
  },
  {
   "cell_type": "code",
   "execution_count": 1,
   "metadata": {},
   "outputs": [],
   "source": [
    "import pandas as pd\n",
    "import os\n",
    "from collections import Counter\n",
    "import heapq\n",
    "import plotly.offline as py\n",
    "import plotly.graph_objects as go"
   ]
  },
  {
   "cell_type": "code",
   "execution_count": 2,
   "metadata": {},
   "outputs": [
    {
     "output_type": "execute_result",
     "data": {
      "text/plain": [
       "   Unnamed: 0             顏色   單價   成本   系列     產品                 訂單時間  \\\n",
       "0           0            NaN  391  240  系列4  產品4-1  2016-01-01T03:19:35   \n",
       "1           1            NaN  238  137  系列4  產品4-2  2016-01-01T03:19:35   \n",
       "2           2  watermelonred  434  253  系列4  產品4-3  2016-01-01T03:19:35   \n",
       "3           3            NaN  339  205  系列4  產品4-4  2016-01-01T03:19:35   \n",
       "4           4          white  382  223  系列4  產品4-3  2016-01-01T03:19:35   \n",
       "5           5       navyblue  434  253  系列4  產品4-3  2016-01-01T03:19:35   \n",
       "\n",
       "         會員      性別    年紀     廣告代號all 尺寸  \n",
       "0  10052013  FEMALE  32.0  廣告_YND_pid  無  \n",
       "1  10052013  FEMALE  32.0  廣告_YND_pid  無  \n",
       "2  10052013  FEMALE  32.0  廣告_YND_pid  S  \n",
       "3  10052013  FEMALE  32.0  廣告_YND_pid  無  \n",
       "4  10052013  FEMALE  32.0  廣告_YND_pid  S  \n",
       "5  10052013  FEMALE  32.0  廣告_YND_pid  S  "
      ],
      "text/html": "<div>\n<style scoped>\n    .dataframe tbody tr th:only-of-type {\n        vertical-align: middle;\n    }\n\n    .dataframe tbody tr th {\n        vertical-align: top;\n    }\n\n    .dataframe thead th {\n        text-align: right;\n    }\n</style>\n<table border=\"1\" class=\"dataframe\">\n  <thead>\n    <tr style=\"text-align: right;\">\n      <th></th>\n      <th>Unnamed: 0</th>\n      <th>顏色</th>\n      <th>單價</th>\n      <th>成本</th>\n      <th>系列</th>\n      <th>產品</th>\n      <th>訂單時間</th>\n      <th>會員</th>\n      <th>性別</th>\n      <th>年紀</th>\n      <th>廣告代號all</th>\n      <th>尺寸</th>\n    </tr>\n  </thead>\n  <tbody>\n    <tr>\n      <th>0</th>\n      <td>0</td>\n      <td>NaN</td>\n      <td>391</td>\n      <td>240</td>\n      <td>系列4</td>\n      <td>產品4-1</td>\n      <td>2016-01-01T03:19:35</td>\n      <td>10052013</td>\n      <td>FEMALE</td>\n      <td>32.0</td>\n      <td>廣告_YND_pid</td>\n      <td>無</td>\n    </tr>\n    <tr>\n      <th>1</th>\n      <td>1</td>\n      <td>NaN</td>\n      <td>238</td>\n      <td>137</td>\n      <td>系列4</td>\n      <td>產品4-2</td>\n      <td>2016-01-01T03:19:35</td>\n      <td>10052013</td>\n      <td>FEMALE</td>\n      <td>32.0</td>\n      <td>廣告_YND_pid</td>\n      <td>無</td>\n    </tr>\n    <tr>\n      <th>2</th>\n      <td>2</td>\n      <td>watermelonred</td>\n      <td>434</td>\n      <td>253</td>\n      <td>系列4</td>\n      <td>產品4-3</td>\n      <td>2016-01-01T03:19:35</td>\n      <td>10052013</td>\n      <td>FEMALE</td>\n      <td>32.0</td>\n      <td>廣告_YND_pid</td>\n      <td>S</td>\n    </tr>\n    <tr>\n      <th>3</th>\n      <td>3</td>\n      <td>NaN</td>\n      <td>339</td>\n      <td>205</td>\n      <td>系列4</td>\n      <td>產品4-4</td>\n      <td>2016-01-01T03:19:35</td>\n      <td>10052013</td>\n      <td>FEMALE</td>\n      <td>32.0</td>\n      <td>廣告_YND_pid</td>\n      <td>無</td>\n    </tr>\n    <tr>\n      <th>4</th>\n      <td>4</td>\n      <td>white</td>\n      <td>382</td>\n      <td>223</td>\n      <td>系列4</td>\n      <td>產品4-3</td>\n      <td>2016-01-01T03:19:35</td>\n      <td>10052013</td>\n      <td>FEMALE</td>\n      <td>32.0</td>\n      <td>廣告_YND_pid</td>\n      <td>S</td>\n    </tr>\n    <tr>\n      <th>5</th>\n      <td>5</td>\n      <td>navyblue</td>\n      <td>434</td>\n      <td>253</td>\n      <td>系列4</td>\n      <td>產品4-3</td>\n      <td>2016-01-01T03:19:35</td>\n      <td>10052013</td>\n      <td>FEMALE</td>\n      <td>32.0</td>\n      <td>廣告_YND_pid</td>\n      <td>S</td>\n    </tr>\n  </tbody>\n</table>\n</div>"
     },
     "metadata": {},
     "execution_count": 2
    }
   ],
   "source": [
    "data = pd.read_csv(\"sales_data.csv\")\n",
    "data.head(6)"
   ]
  },
  {
   "source": [
    "### 2. 移除多餘欄位"
   ],
   "cell_type": "markdown",
   "metadata": {}
  },
  {
   "cell_type": "code",
   "execution_count": 3,
   "metadata": {},
   "outputs": [
    {
     "output_type": "execute_result",
     "data": {
      "text/plain": [
       "    單價   成本   系列                 訂單時間     廣告代號all\n",
       "0  391  240  系列4  2016-01-01T03:19:35  廣告_YND_pid\n",
       "1  238  137  系列4  2016-01-01T03:19:35  廣告_YND_pid\n",
       "2  434  253  系列4  2016-01-01T03:19:35  廣告_YND_pid\n",
       "3  339  205  系列4  2016-01-01T03:19:35  廣告_YND_pid\n",
       "4  382  223  系列4  2016-01-01T03:19:35  廣告_YND_pid\n",
       "5  434  253  系列4  2016-01-01T03:19:35  廣告_YND_pid"
      ],
      "text/html": "<div>\n<style scoped>\n    .dataframe tbody tr th:only-of-type {\n        vertical-align: middle;\n    }\n\n    .dataframe tbody tr th {\n        vertical-align: top;\n    }\n\n    .dataframe thead th {\n        text-align: right;\n    }\n</style>\n<table border=\"1\" class=\"dataframe\">\n  <thead>\n    <tr style=\"text-align: right;\">\n      <th></th>\n      <th>單價</th>\n      <th>成本</th>\n      <th>系列</th>\n      <th>訂單時間</th>\n      <th>廣告代號all</th>\n    </tr>\n  </thead>\n  <tbody>\n    <tr>\n      <th>0</th>\n      <td>391</td>\n      <td>240</td>\n      <td>系列4</td>\n      <td>2016-01-01T03:19:35</td>\n      <td>廣告_YND_pid</td>\n    </tr>\n    <tr>\n      <th>1</th>\n      <td>238</td>\n      <td>137</td>\n      <td>系列4</td>\n      <td>2016-01-01T03:19:35</td>\n      <td>廣告_YND_pid</td>\n    </tr>\n    <tr>\n      <th>2</th>\n      <td>434</td>\n      <td>253</td>\n      <td>系列4</td>\n      <td>2016-01-01T03:19:35</td>\n      <td>廣告_YND_pid</td>\n    </tr>\n    <tr>\n      <th>3</th>\n      <td>339</td>\n      <td>205</td>\n      <td>系列4</td>\n      <td>2016-01-01T03:19:35</td>\n      <td>廣告_YND_pid</td>\n    </tr>\n    <tr>\n      <th>4</th>\n      <td>382</td>\n      <td>223</td>\n      <td>系列4</td>\n      <td>2016-01-01T03:19:35</td>\n      <td>廣告_YND_pid</td>\n    </tr>\n    <tr>\n      <th>5</th>\n      <td>434</td>\n      <td>253</td>\n      <td>系列4</td>\n      <td>2016-01-01T03:19:35</td>\n      <td>廣告_YND_pid</td>\n    </tr>\n  </tbody>\n</table>\n</div>"
     },
     "metadata": {},
     "execution_count": 3
    }
   ],
   "source": [
    "data = data.drop(columns = list(data.filter(regex='Unnamed: 0|顏色|會員|產品|性別|年紀|尺寸')))\n",
    "data.head(6)"
   ]
  },
  {
   "source": [
    "## 二、基礎資料處理"
   ],
   "cell_type": "markdown",
   "metadata": {}
  },
  {
   "source": [
    "### 1. 只留下「系列4」的資料"
   ],
   "cell_type": "markdown",
   "metadata": {}
  },
  {
   "cell_type": "code",
   "execution_count": 4,
   "metadata": {},
   "outputs": [
    {
     "output_type": "execute_result",
     "data": {
      "text/plain": [
       "    單價   成本   系列                 訂單時間     廣告代號all\n",
       "0  391  240  系列4  2016-01-01T03:19:35  廣告_YND_pid\n",
       "1  238  137  系列4  2016-01-01T03:19:35  廣告_YND_pid\n",
       "2  434  253  系列4  2016-01-01T03:19:35  廣告_YND_pid\n",
       "3  339  205  系列4  2016-01-01T03:19:35  廣告_YND_pid\n",
       "4  382  223  系列4  2016-01-01T03:19:35  廣告_YND_pid\n",
       "5  434  253  系列4  2016-01-01T03:19:35  廣告_YND_pid"
      ],
      "text/html": "<div>\n<style scoped>\n    .dataframe tbody tr th:only-of-type {\n        vertical-align: middle;\n    }\n\n    .dataframe tbody tr th {\n        vertical-align: top;\n    }\n\n    .dataframe thead th {\n        text-align: right;\n    }\n</style>\n<table border=\"1\" class=\"dataframe\">\n  <thead>\n    <tr style=\"text-align: right;\">\n      <th></th>\n      <th>單價</th>\n      <th>成本</th>\n      <th>系列</th>\n      <th>訂單時間</th>\n      <th>廣告代號all</th>\n    </tr>\n  </thead>\n  <tbody>\n    <tr>\n      <th>0</th>\n      <td>391</td>\n      <td>240</td>\n      <td>系列4</td>\n      <td>2016-01-01T03:19:35</td>\n      <td>廣告_YND_pid</td>\n    </tr>\n    <tr>\n      <th>1</th>\n      <td>238</td>\n      <td>137</td>\n      <td>系列4</td>\n      <td>2016-01-01T03:19:35</td>\n      <td>廣告_YND_pid</td>\n    </tr>\n    <tr>\n      <th>2</th>\n      <td>434</td>\n      <td>253</td>\n      <td>系列4</td>\n      <td>2016-01-01T03:19:35</td>\n      <td>廣告_YND_pid</td>\n    </tr>\n    <tr>\n      <th>3</th>\n      <td>339</td>\n      <td>205</td>\n      <td>系列4</td>\n      <td>2016-01-01T03:19:35</td>\n      <td>廣告_YND_pid</td>\n    </tr>\n    <tr>\n      <th>4</th>\n      <td>382</td>\n      <td>223</td>\n      <td>系列4</td>\n      <td>2016-01-01T03:19:35</td>\n      <td>廣告_YND_pid</td>\n    </tr>\n    <tr>\n      <th>5</th>\n      <td>434</td>\n      <td>253</td>\n      <td>系列4</td>\n      <td>2016-01-01T03:19:35</td>\n      <td>廣告_YND_pid</td>\n    </tr>\n  </tbody>\n</table>\n</div>"
     },
     "metadata": {},
     "execution_count": 4
    }
   ],
   "source": [
    "data = data[ data ['系列'] == '系列4']\n",
    "data.head(6)"
   ]
  },
  {
   "source": [
    "### 2. 重新整理廣告代號格式"
   ],
   "cell_type": "markdown",
   "metadata": {}
  },
  {
   "cell_type": "code",
   "execution_count": 5,
   "metadata": {},
   "outputs": [],
   "source": [
    "for i in range(0,len(data['廣告代號all'])):\n",
    "    a = data['廣告代號all'][i].split('_')[1]\n",
    "    data['廣告代號all'][i] = a"
   ]
  },
  {
   "cell_type": "code",
   "execution_count": 6,
   "metadata": {},
   "outputs": [
    {
     "output_type": "execute_result",
     "data": {
      "text/plain": [
       "    單價   成本   系列                 訂單時間 廣告代號all\n",
       "0  391  240  系列4  2016-01-01T03:19:35     YND\n",
       "1  238  137  系列4  2016-01-01T03:19:35     YND\n",
       "2  434  253  系列4  2016-01-01T03:19:35     YND\n",
       "3  339  205  系列4  2016-01-01T03:19:35     YND\n",
       "4  382  223  系列4  2016-01-01T03:19:35     YND\n",
       "5  434  253  系列4  2016-01-01T03:19:35     YND"
      ],
      "text/html": "<div>\n<style scoped>\n    .dataframe tbody tr th:only-of-type {\n        vertical-align: middle;\n    }\n\n    .dataframe tbody tr th {\n        vertical-align: top;\n    }\n\n    .dataframe thead th {\n        text-align: right;\n    }\n</style>\n<table border=\"1\" class=\"dataframe\">\n  <thead>\n    <tr style=\"text-align: right;\">\n      <th></th>\n      <th>單價</th>\n      <th>成本</th>\n      <th>系列</th>\n      <th>訂單時間</th>\n      <th>廣告代號all</th>\n    </tr>\n  </thead>\n  <tbody>\n    <tr>\n      <th>0</th>\n      <td>391</td>\n      <td>240</td>\n      <td>系列4</td>\n      <td>2016-01-01T03:19:35</td>\n      <td>YND</td>\n    </tr>\n    <tr>\n      <th>1</th>\n      <td>238</td>\n      <td>137</td>\n      <td>系列4</td>\n      <td>2016-01-01T03:19:35</td>\n      <td>YND</td>\n    </tr>\n    <tr>\n      <th>2</th>\n      <td>434</td>\n      <td>253</td>\n      <td>系列4</td>\n      <td>2016-01-01T03:19:35</td>\n      <td>YND</td>\n    </tr>\n    <tr>\n      <th>3</th>\n      <td>339</td>\n      <td>205</td>\n      <td>系列4</td>\n      <td>2016-01-01T03:19:35</td>\n      <td>YND</td>\n    </tr>\n    <tr>\n      <th>4</th>\n      <td>382</td>\n      <td>223</td>\n      <td>系列4</td>\n      <td>2016-01-01T03:19:35</td>\n      <td>YND</td>\n    </tr>\n    <tr>\n      <th>5</th>\n      <td>434</td>\n      <td>253</td>\n      <td>系列4</td>\n      <td>2016-01-01T03:19:35</td>\n      <td>YND</td>\n    </tr>\n  </tbody>\n</table>\n</div>"
     },
     "metadata": {},
     "execution_count": 6
    }
   ],
   "source": [
    "data.head(6)"
   ]
  },
  {
   "source": [
    "## 三、進階資料處理－挑選主力廣告"
   ],
   "cell_type": "markdown",
   "metadata": {}
  },
  {
   "source": [
    "### 1. 抓出廣告數量"
   ],
   "cell_type": "markdown",
   "metadata": {}
  },
  {
   "cell_type": "code",
   "execution_count": 7,
   "metadata": {},
   "outputs": [
    {
     "output_type": "execute_result",
     "data": {
      "text/plain": [
       "36"
      ]
     },
     "metadata": {},
     "execution_count": 7
    }
   ],
   "source": [
    "len(data['廣告代號all'].unique())"
   ]
  },
  {
   "source": [
    "### 2. 廣告使用頻率表"
   ],
   "cell_type": "markdown",
   "metadata": {}
  },
  {
   "cell_type": "code",
   "execution_count": 8,
   "metadata": {},
   "outputs": [
    {
     "output_type": "execute_result",
     "data": {
      "text/plain": [
       "Counter({'YND': 52,\n",
       "         '自然流量': 3780,\n",
       "         'ikip': 652,\n",
       "         'B2K': 452,\n",
       "         'critei': 1285,\n",
       "         'qdwit': 896,\n",
       "         'qpw': 5,\n",
       "         'KDPOD': 937,\n",
       "         'B2KPOD': 23,\n",
       "         'KDMK': 320,\n",
       "         'cridgewell': 6,\n",
       "         'pic': 5,\n",
       "         'B2KMK': 10,\n",
       "         'KDP': 1793,\n",
       "         'GINEP': 154,\n",
       "         'edmP': 128,\n",
       "         'edmM': 4,\n",
       "         'B2KP': 57,\n",
       "         'KDPM': 140,\n",
       "         'KDM': 2,\n",
       "         'GINEM': 13,\n",
       "         'B2KM': 1,\n",
       "         'edmD': 1,\n",
       "         'edm': 2,\n",
       "         'KDMP': 29,\n",
       "         'edmMK': 20,\n",
       "         'B2KMP': 1,\n",
       "         'edmMP': 26,\n",
       "         'GINEMK': 24,\n",
       "         'GINEMP': 22,\n",
       "         'B2KDG': 21,\n",
       "         'KBP': 31,\n",
       "         'KBMP': 1,\n",
       "         'IGP': 20,\n",
       "         'KBDG': 145,\n",
       "         'IGDG': 1})"
      ]
     },
     "metadata": {},
     "execution_count": 8
    }
   ],
   "source": [
    "count_list = Counter(data['廣告代號all'])\n",
    "count_list"
   ]
  },
  {
   "source": [
    "### 3. 將「count_list」轉換為DataFrame格式"
   ],
   "cell_type": "markdown",
   "metadata": {}
  },
  {
   "cell_type": "code",
   "execution_count": 9,
   "metadata": {},
   "outputs": [
    {
     "output_type": "execute_result",
     "data": {
      "text/plain": [
       "          廣告名稱   樣本數\n",
       "0          YND    52\n",
       "1         自然流量  3780\n",
       "2         ikip   652\n",
       "3          B2K   452\n",
       "4       critei  1285\n",
       "5        qdwit   896\n",
       "6          qpw     5\n",
       "7        KDPOD   937\n",
       "8       B2KPOD    23\n",
       "9         KDMK   320\n",
       "10  cridgewell     6\n",
       "11         pic     5\n",
       "12       B2KMK    10\n",
       "13         KDP  1793\n",
       "14       GINEP   154\n",
       "15        edmP   128\n",
       "16        edmM     4\n",
       "17        B2KP    57\n",
       "18        KDPM   140\n",
       "19         KDM     2\n",
       "20       GINEM    13\n",
       "21        B2KM     1\n",
       "22        edmD     1\n",
       "23         edm     2\n",
       "24        KDMP    29\n",
       "25       edmMK    20\n",
       "26       B2KMP     1\n",
       "27       edmMP    26\n",
       "28      GINEMK    24\n",
       "29      GINEMP    22\n",
       "30       B2KDG    21\n",
       "31         KBP    31\n",
       "32        KBMP     1\n",
       "33         IGP    20\n",
       "34        KBDG   145\n",
       "35        IGDG     1"
      ],
      "text/html": "<div>\n<style scoped>\n    .dataframe tbody tr th:only-of-type {\n        vertical-align: middle;\n    }\n\n    .dataframe tbody tr th {\n        vertical-align: top;\n    }\n\n    .dataframe thead th {\n        text-align: right;\n    }\n</style>\n<table border=\"1\" class=\"dataframe\">\n  <thead>\n    <tr style=\"text-align: right;\">\n      <th></th>\n      <th>廣告名稱</th>\n      <th>樣本數</th>\n    </tr>\n  </thead>\n  <tbody>\n    <tr>\n      <th>0</th>\n      <td>YND</td>\n      <td>52</td>\n    </tr>\n    <tr>\n      <th>1</th>\n      <td>自然流量</td>\n      <td>3780</td>\n    </tr>\n    <tr>\n      <th>2</th>\n      <td>ikip</td>\n      <td>652</td>\n    </tr>\n    <tr>\n      <th>3</th>\n      <td>B2K</td>\n      <td>452</td>\n    </tr>\n    <tr>\n      <th>4</th>\n      <td>critei</td>\n      <td>1285</td>\n    </tr>\n    <tr>\n      <th>5</th>\n      <td>qdwit</td>\n      <td>896</td>\n    </tr>\n    <tr>\n      <th>6</th>\n      <td>qpw</td>\n      <td>5</td>\n    </tr>\n    <tr>\n      <th>7</th>\n      <td>KDPOD</td>\n      <td>937</td>\n    </tr>\n    <tr>\n      <th>8</th>\n      <td>B2KPOD</td>\n      <td>23</td>\n    </tr>\n    <tr>\n      <th>9</th>\n      <td>KDMK</td>\n      <td>320</td>\n    </tr>\n    <tr>\n      <th>10</th>\n      <td>cridgewell</td>\n      <td>6</td>\n    </tr>\n    <tr>\n      <th>11</th>\n      <td>pic</td>\n      <td>5</td>\n    </tr>\n    <tr>\n      <th>12</th>\n      <td>B2KMK</td>\n      <td>10</td>\n    </tr>\n    <tr>\n      <th>13</th>\n      <td>KDP</td>\n      <td>1793</td>\n    </tr>\n    <tr>\n      <th>14</th>\n      <td>GINEP</td>\n      <td>154</td>\n    </tr>\n    <tr>\n      <th>15</th>\n      <td>edmP</td>\n      <td>128</td>\n    </tr>\n    <tr>\n      <th>16</th>\n      <td>edmM</td>\n      <td>4</td>\n    </tr>\n    <tr>\n      <th>17</th>\n      <td>B2KP</td>\n      <td>57</td>\n    </tr>\n    <tr>\n      <th>18</th>\n      <td>KDPM</td>\n      <td>140</td>\n    </tr>\n    <tr>\n      <th>19</th>\n      <td>KDM</td>\n      <td>2</td>\n    </tr>\n    <tr>\n      <th>20</th>\n      <td>GINEM</td>\n      <td>13</td>\n    </tr>\n    <tr>\n      <th>21</th>\n      <td>B2KM</td>\n      <td>1</td>\n    </tr>\n    <tr>\n      <th>22</th>\n      <td>edmD</td>\n      <td>1</td>\n    </tr>\n    <tr>\n      <th>23</th>\n      <td>edm</td>\n      <td>2</td>\n    </tr>\n    <tr>\n      <th>24</th>\n      <td>KDMP</td>\n      <td>29</td>\n    </tr>\n    <tr>\n      <th>25</th>\n      <td>edmMK</td>\n      <td>20</td>\n    </tr>\n    <tr>\n      <th>26</th>\n      <td>B2KMP</td>\n      <td>1</td>\n    </tr>\n    <tr>\n      <th>27</th>\n      <td>edmMP</td>\n      <td>26</td>\n    </tr>\n    <tr>\n      <th>28</th>\n      <td>GINEMK</td>\n      <td>24</td>\n    </tr>\n    <tr>\n      <th>29</th>\n      <td>GINEMP</td>\n      <td>22</td>\n    </tr>\n    <tr>\n      <th>30</th>\n      <td>B2KDG</td>\n      <td>21</td>\n    </tr>\n    <tr>\n      <th>31</th>\n      <td>KBP</td>\n      <td>31</td>\n    </tr>\n    <tr>\n      <th>32</th>\n      <td>KBMP</td>\n      <td>1</td>\n    </tr>\n    <tr>\n      <th>33</th>\n      <td>IGP</td>\n      <td>20</td>\n    </tr>\n    <tr>\n      <th>34</th>\n      <td>KBDG</td>\n      <td>145</td>\n    </tr>\n    <tr>\n      <th>35</th>\n      <td>IGDG</td>\n      <td>1</td>\n    </tr>\n  </tbody>\n</table>\n</div>"
     },
     "metadata": {},
     "execution_count": 9
    }
   ],
   "source": [
    "count_list = pd.DataFrame.from_dict(count_list,orient='index').reset_index() # 轉換為DataFrame形式\n",
    "count_list = count_list.rename(columns = {'index' : '廣告名稱', 0: '樣本數'}) # 重新命名欄位名稱\n",
    "count_list"
   ]
  },
  {
   "source": [
    "### 4. 取出前三大廣告頻率"
   ],
   "cell_type": "markdown",
   "metadata": {}
  },
  {
   "cell_type": "code",
   "execution_count": 10,
   "metadata": {},
   "outputs": [
    {
     "output_type": "execute_result",
     "data": {
      "text/plain": [
       "[3780, 1793, 1285]"
      ]
     },
     "metadata": {},
     "execution_count": 10
    }
   ],
   "source": [
    "heapq.nlargest(3,list(count_list['樣本數']))"
   ]
  },
  {
   "source": [
    "### 5. 抓出第三名的廣告使用頻率"
   ],
   "cell_type": "markdown",
   "metadata": {}
  },
  {
   "cell_type": "code",
   "execution_count": 11,
   "metadata": {},
   "outputs": [
    {
     "output_type": "execute_result",
     "data": {
      "text/plain": [
       "1285"
      ]
     },
     "metadata": {},
     "execution_count": 11
    }
   ],
   "source": [
    "dead_number = heapq.nlargest(4,list(count_list['樣本數']))[2]\n",
    "dead_number"
   ]
  },
  {
   "source": [
    "### 6. 製作出非熱門廣告清單"
   ],
   "cell_type": "markdown",
   "metadata": {}
  },
  {
   "cell_type": "code",
   "execution_count": 12,
   "metadata": {},
   "outputs": [
    {
     "output_type": "execute_result",
     "data": {
      "text/plain": [
       "          廣告名稱  樣本數\n",
       "0          YND   52\n",
       "2         ikip  652\n",
       "3          B2K  452\n",
       "5        qdwit  896\n",
       "6          qpw    5\n",
       "7        KDPOD  937\n",
       "8       B2KPOD   23\n",
       "9         KDMK  320\n",
       "10  cridgewell    6\n",
       "11         pic    5\n",
       "12       B2KMK   10\n",
       "14       GINEP  154\n",
       "15        edmP  128\n",
       "16        edmM    4\n",
       "17        B2KP   57\n",
       "18        KDPM  140\n",
       "19         KDM    2\n",
       "20       GINEM   13\n",
       "21        B2KM    1\n",
       "22        edmD    1\n",
       "23         edm    2\n",
       "24        KDMP   29\n",
       "25       edmMK   20\n",
       "26       B2KMP    1\n",
       "27       edmMP   26\n",
       "28      GINEMK   24\n",
       "29      GINEMP   22\n",
       "30       B2KDG   21\n",
       "31         KBP   31\n",
       "32        KBMP    1\n",
       "33         IGP   20\n",
       "34        KBDG  145\n",
       "35        IGDG    1"
      ],
      "text/html": "<div>\n<style scoped>\n    .dataframe tbody tr th:only-of-type {\n        vertical-align: middle;\n    }\n\n    .dataframe tbody tr th {\n        vertical-align: top;\n    }\n\n    .dataframe thead th {\n        text-align: right;\n    }\n</style>\n<table border=\"1\" class=\"dataframe\">\n  <thead>\n    <tr style=\"text-align: right;\">\n      <th></th>\n      <th>廣告名稱</th>\n      <th>樣本數</th>\n    </tr>\n  </thead>\n  <tbody>\n    <tr>\n      <th>0</th>\n      <td>YND</td>\n      <td>52</td>\n    </tr>\n    <tr>\n      <th>2</th>\n      <td>ikip</td>\n      <td>652</td>\n    </tr>\n    <tr>\n      <th>3</th>\n      <td>B2K</td>\n      <td>452</td>\n    </tr>\n    <tr>\n      <th>5</th>\n      <td>qdwit</td>\n      <td>896</td>\n    </tr>\n    <tr>\n      <th>6</th>\n      <td>qpw</td>\n      <td>5</td>\n    </tr>\n    <tr>\n      <th>7</th>\n      <td>KDPOD</td>\n      <td>937</td>\n    </tr>\n    <tr>\n      <th>8</th>\n      <td>B2KPOD</td>\n      <td>23</td>\n    </tr>\n    <tr>\n      <th>9</th>\n      <td>KDMK</td>\n      <td>320</td>\n    </tr>\n    <tr>\n      <th>10</th>\n      <td>cridgewell</td>\n      <td>6</td>\n    </tr>\n    <tr>\n      <th>11</th>\n      <td>pic</td>\n      <td>5</td>\n    </tr>\n    <tr>\n      <th>12</th>\n      <td>B2KMK</td>\n      <td>10</td>\n    </tr>\n    <tr>\n      <th>14</th>\n      <td>GINEP</td>\n      <td>154</td>\n    </tr>\n    <tr>\n      <th>15</th>\n      <td>edmP</td>\n      <td>128</td>\n    </tr>\n    <tr>\n      <th>16</th>\n      <td>edmM</td>\n      <td>4</td>\n    </tr>\n    <tr>\n      <th>17</th>\n      <td>B2KP</td>\n      <td>57</td>\n    </tr>\n    <tr>\n      <th>18</th>\n      <td>KDPM</td>\n      <td>140</td>\n    </tr>\n    <tr>\n      <th>19</th>\n      <td>KDM</td>\n      <td>2</td>\n    </tr>\n    <tr>\n      <th>20</th>\n      <td>GINEM</td>\n      <td>13</td>\n    </tr>\n    <tr>\n      <th>21</th>\n      <td>B2KM</td>\n      <td>1</td>\n    </tr>\n    <tr>\n      <th>22</th>\n      <td>edmD</td>\n      <td>1</td>\n    </tr>\n    <tr>\n      <th>23</th>\n      <td>edm</td>\n      <td>2</td>\n    </tr>\n    <tr>\n      <th>24</th>\n      <td>KDMP</td>\n      <td>29</td>\n    </tr>\n    <tr>\n      <th>25</th>\n      <td>edmMK</td>\n      <td>20</td>\n    </tr>\n    <tr>\n      <th>26</th>\n      <td>B2KMP</td>\n      <td>1</td>\n    </tr>\n    <tr>\n      <th>27</th>\n      <td>edmMP</td>\n      <td>26</td>\n    </tr>\n    <tr>\n      <th>28</th>\n      <td>GINEMK</td>\n      <td>24</td>\n    </tr>\n    <tr>\n      <th>29</th>\n      <td>GINEMP</td>\n      <td>22</td>\n    </tr>\n    <tr>\n      <th>30</th>\n      <td>B2KDG</td>\n      <td>21</td>\n    </tr>\n    <tr>\n      <th>31</th>\n      <td>KBP</td>\n      <td>31</td>\n    </tr>\n    <tr>\n      <th>32</th>\n      <td>KBMP</td>\n      <td>1</td>\n    </tr>\n    <tr>\n      <th>33</th>\n      <td>IGP</td>\n      <td>20</td>\n    </tr>\n    <tr>\n      <th>34</th>\n      <td>KBDG</td>\n      <td>145</td>\n    </tr>\n    <tr>\n      <th>35</th>\n      <td>IGDG</td>\n      <td>1</td>\n    </tr>\n  </tbody>\n</table>\n</div>"
     },
     "metadata": {},
     "execution_count": 12
    }
   ],
   "source": [
    "dead_list = count_list[count_list['樣本數'] < dead_number]\n",
    "dead_list"
   ]
  },
  {
   "source": [
    "### 7. 將非熱門廣告從資料集中排除"
   ],
   "cell_type": "markdown",
   "metadata": {}
  },
  {
   "cell_type": "code",
   "execution_count": 13,
   "metadata": {},
   "outputs": [],
   "source": [
    "for i in dead_list['廣告名稱']:\n",
    "    data= data[~data['廣告代號all'].isin([i])]"
   ]
  },
  {
   "cell_type": "code",
   "execution_count": 14,
   "metadata": {},
   "outputs": [
    {
     "output_type": "execute_result",
     "data": {
      "text/plain": [
       "     單價   成本   系列                 訂單時間 廣告代號all\n",
       "7   635  490  系列4  2016-01-01T05:53:09    自然流量\n",
       "8   434  253  系列4  2016-01-01T05:53:09    自然流量\n",
       "9   635  490  系列4  2016-01-01T05:53:09    自然流量\n",
       "10  562  424  系列4  2016-01-01T05:53:09    自然流量\n",
       "11  276  194  系列4  2016-01-01T05:53:09    自然流量\n",
       "12  635  490  系列4  2016-01-01T07:21:44    自然流量"
      ],
      "text/html": "<div>\n<style scoped>\n    .dataframe tbody tr th:only-of-type {\n        vertical-align: middle;\n    }\n\n    .dataframe tbody tr th {\n        vertical-align: top;\n    }\n\n    .dataframe thead th {\n        text-align: right;\n    }\n</style>\n<table border=\"1\" class=\"dataframe\">\n  <thead>\n    <tr style=\"text-align: right;\">\n      <th></th>\n      <th>單價</th>\n      <th>成本</th>\n      <th>系列</th>\n      <th>訂單時間</th>\n      <th>廣告代號all</th>\n    </tr>\n  </thead>\n  <tbody>\n    <tr>\n      <th>7</th>\n      <td>635</td>\n      <td>490</td>\n      <td>系列4</td>\n      <td>2016-01-01T05:53:09</td>\n      <td>自然流量</td>\n    </tr>\n    <tr>\n      <th>8</th>\n      <td>434</td>\n      <td>253</td>\n      <td>系列4</td>\n      <td>2016-01-01T05:53:09</td>\n      <td>自然流量</td>\n    </tr>\n    <tr>\n      <th>9</th>\n      <td>635</td>\n      <td>490</td>\n      <td>系列4</td>\n      <td>2016-01-01T05:53:09</td>\n      <td>自然流量</td>\n    </tr>\n    <tr>\n      <th>10</th>\n      <td>562</td>\n      <td>424</td>\n      <td>系列4</td>\n      <td>2016-01-01T05:53:09</td>\n      <td>自然流量</td>\n    </tr>\n    <tr>\n      <th>11</th>\n      <td>276</td>\n      <td>194</td>\n      <td>系列4</td>\n      <td>2016-01-01T05:53:09</td>\n      <td>自然流量</td>\n    </tr>\n    <tr>\n      <th>12</th>\n      <td>635</td>\n      <td>490</td>\n      <td>系列4</td>\n      <td>2016-01-01T07:21:44</td>\n      <td>自然流量</td>\n    </tr>\n  </tbody>\n</table>\n</div>"
     },
     "metadata": {},
     "execution_count": 14
    }
   ],
   "source": [
    "data.head(6)"
   ]
  },
  {
   "source": [
    "### 8. 將自然流量的交易資料刪除"
   ],
   "cell_type": "markdown",
   "metadata": {}
  },
  {
   "cell_type": "code",
   "execution_count": 15,
   "metadata": {},
   "outputs": [
    {
     "output_type": "execute_result",
     "data": {
      "text/plain": [
       "     單價   成本   系列                 訂單時間 廣告代號all\n",
       "32  434  253  系列4  2016-01-01T15:10:43  critei\n",
       "33  382  223  系列4  2016-01-01T15:10:43  critei\n",
       "34  434  253  系列4  2016-01-01T15:10:43  critei\n",
       "48  421  331  系列4  2016-01-02T04:52:47  critei\n",
       "53  562  424  系列4  2016-01-02T08:05:24  critei\n",
       "54  615  471  系列4  2016-01-02T08:05:24  critei"
      ],
      "text/html": "<div>\n<style scoped>\n    .dataframe tbody tr th:only-of-type {\n        vertical-align: middle;\n    }\n\n    .dataframe tbody tr th {\n        vertical-align: top;\n    }\n\n    .dataframe thead th {\n        text-align: right;\n    }\n</style>\n<table border=\"1\" class=\"dataframe\">\n  <thead>\n    <tr style=\"text-align: right;\">\n      <th></th>\n      <th>單價</th>\n      <th>成本</th>\n      <th>系列</th>\n      <th>訂單時間</th>\n      <th>廣告代號all</th>\n    </tr>\n  </thead>\n  <tbody>\n    <tr>\n      <th>32</th>\n      <td>434</td>\n      <td>253</td>\n      <td>系列4</td>\n      <td>2016-01-01T15:10:43</td>\n      <td>critei</td>\n    </tr>\n    <tr>\n      <th>33</th>\n      <td>382</td>\n      <td>223</td>\n      <td>系列4</td>\n      <td>2016-01-01T15:10:43</td>\n      <td>critei</td>\n    </tr>\n    <tr>\n      <th>34</th>\n      <td>434</td>\n      <td>253</td>\n      <td>系列4</td>\n      <td>2016-01-01T15:10:43</td>\n      <td>critei</td>\n    </tr>\n    <tr>\n      <th>48</th>\n      <td>421</td>\n      <td>331</td>\n      <td>系列4</td>\n      <td>2016-01-02T04:52:47</td>\n      <td>critei</td>\n    </tr>\n    <tr>\n      <th>53</th>\n      <td>562</td>\n      <td>424</td>\n      <td>系列4</td>\n      <td>2016-01-02T08:05:24</td>\n      <td>critei</td>\n    </tr>\n    <tr>\n      <th>54</th>\n      <td>615</td>\n      <td>471</td>\n      <td>系列4</td>\n      <td>2016-01-02T08:05:24</td>\n      <td>critei</td>\n    </tr>\n  </tbody>\n</table>\n</div>"
     },
     "metadata": {},
     "execution_count": 15
    }
   ],
   "source": [
    "data = data[~data['廣告代號all'].isin(['自然流量'])]\n",
    "data.head(6)"
   ]
  },
  {
   "source": [
    "## 四、進階資料處理－不同廣告每期帶來的淨利"
   ],
   "cell_type": "markdown",
   "metadata": {}
  },
  {
   "source": [
    "### 1. 新增「月份」欄位"
   ],
   "cell_type": "markdown",
   "metadata": {}
  },
  {
   "cell_type": "code",
   "execution_count": 16,
   "metadata": {},
   "outputs": [
    {
     "output_type": "execute_result",
     "data": {
      "text/plain": [
       "     單價   成本   系列                 訂單時間 廣告代號all  月份\n",
       "32  434  253  系列4  2016-01-01T15:10:43  critei   1\n",
       "33  382  223  系列4  2016-01-01T15:10:43  critei   1\n",
       "34  434  253  系列4  2016-01-01T15:10:43  critei   1\n",
       "48  421  331  系列4  2016-01-02T04:52:47  critei   1\n",
       "53  562  424  系列4  2016-01-02T08:05:24  critei   1\n",
       "54  615  471  系列4  2016-01-02T08:05:24  critei   1"
      ],
      "text/html": "<div>\n<style scoped>\n    .dataframe tbody tr th:only-of-type {\n        vertical-align: middle;\n    }\n\n    .dataframe tbody tr th {\n        vertical-align: top;\n    }\n\n    .dataframe thead th {\n        text-align: right;\n    }\n</style>\n<table border=\"1\" class=\"dataframe\">\n  <thead>\n    <tr style=\"text-align: right;\">\n      <th></th>\n      <th>單價</th>\n      <th>成本</th>\n      <th>系列</th>\n      <th>訂單時間</th>\n      <th>廣告代號all</th>\n      <th>月份</th>\n    </tr>\n  </thead>\n  <tbody>\n    <tr>\n      <th>32</th>\n      <td>434</td>\n      <td>253</td>\n      <td>系列4</td>\n      <td>2016-01-01T15:10:43</td>\n      <td>critei</td>\n      <td>1</td>\n    </tr>\n    <tr>\n      <th>33</th>\n      <td>382</td>\n      <td>223</td>\n      <td>系列4</td>\n      <td>2016-01-01T15:10:43</td>\n      <td>critei</td>\n      <td>1</td>\n    </tr>\n    <tr>\n      <th>34</th>\n      <td>434</td>\n      <td>253</td>\n      <td>系列4</td>\n      <td>2016-01-01T15:10:43</td>\n      <td>critei</td>\n      <td>1</td>\n    </tr>\n    <tr>\n      <th>48</th>\n      <td>421</td>\n      <td>331</td>\n      <td>系列4</td>\n      <td>2016-01-02T04:52:47</td>\n      <td>critei</td>\n      <td>1</td>\n    </tr>\n    <tr>\n      <th>53</th>\n      <td>562</td>\n      <td>424</td>\n      <td>系列4</td>\n      <td>2016-01-02T08:05:24</td>\n      <td>critei</td>\n      <td>1</td>\n    </tr>\n    <tr>\n      <th>54</th>\n      <td>615</td>\n      <td>471</td>\n      <td>系列4</td>\n      <td>2016-01-02T08:05:24</td>\n      <td>critei</td>\n      <td>1</td>\n    </tr>\n  </tbody>\n</table>\n</div>"
     },
     "metadata": {},
     "execution_count": 16
    }
   ],
   "source": [
    "data['月份'] = data['訂單時間'].str.split('-', expand = True)[1].astype(int)\n",
    "data.head(6)"
   ]
  },
  {
   "source": [
    "### 2. 新增「年月」欄位"
   ],
   "cell_type": "markdown",
   "metadata": {}
  },
  {
   "cell_type": "code",
   "execution_count": 17,
   "metadata": {},
   "outputs": [
    {
     "output_type": "execute_result",
     "data": {
      "text/plain": [
       "     單價   成本   系列                 訂單時間 廣告代號all  月份      年月\n",
       "32  434  253  系列4  2016-01-01T15:10:43  critei   1  201601\n",
       "33  382  223  系列4  2016-01-01T15:10:43  critei   1  201601\n",
       "34  434  253  系列4  2016-01-01T15:10:43  critei   1  201601\n",
       "48  421  331  系列4  2016-01-02T04:52:47  critei   1  201601\n",
       "53  562  424  系列4  2016-01-02T08:05:24  critei   1  201601\n",
       "54  615  471  系列4  2016-01-02T08:05:24  critei   1  201601"
      ],
      "text/html": "<div>\n<style scoped>\n    .dataframe tbody tr th:only-of-type {\n        vertical-align: middle;\n    }\n\n    .dataframe tbody tr th {\n        vertical-align: top;\n    }\n\n    .dataframe thead th {\n        text-align: right;\n    }\n</style>\n<table border=\"1\" class=\"dataframe\">\n  <thead>\n    <tr style=\"text-align: right;\">\n      <th></th>\n      <th>單價</th>\n      <th>成本</th>\n      <th>系列</th>\n      <th>訂單時間</th>\n      <th>廣告代號all</th>\n      <th>月份</th>\n      <th>年月</th>\n    </tr>\n  </thead>\n  <tbody>\n    <tr>\n      <th>32</th>\n      <td>434</td>\n      <td>253</td>\n      <td>系列4</td>\n      <td>2016-01-01T15:10:43</td>\n      <td>critei</td>\n      <td>1</td>\n      <td>201601</td>\n    </tr>\n    <tr>\n      <th>33</th>\n      <td>382</td>\n      <td>223</td>\n      <td>系列4</td>\n      <td>2016-01-01T15:10:43</td>\n      <td>critei</td>\n      <td>1</td>\n      <td>201601</td>\n    </tr>\n    <tr>\n      <th>34</th>\n      <td>434</td>\n      <td>253</td>\n      <td>系列4</td>\n      <td>2016-01-01T15:10:43</td>\n      <td>critei</td>\n      <td>1</td>\n      <td>201601</td>\n    </tr>\n    <tr>\n      <th>48</th>\n      <td>421</td>\n      <td>331</td>\n      <td>系列4</td>\n      <td>2016-01-02T04:52:47</td>\n      <td>critei</td>\n      <td>1</td>\n      <td>201601</td>\n    </tr>\n    <tr>\n      <th>53</th>\n      <td>562</td>\n      <td>424</td>\n      <td>系列4</td>\n      <td>2016-01-02T08:05:24</td>\n      <td>critei</td>\n      <td>1</td>\n      <td>201601</td>\n    </tr>\n    <tr>\n      <th>54</th>\n      <td>615</td>\n      <td>471</td>\n      <td>系列4</td>\n      <td>2016-01-02T08:05:24</td>\n      <td>critei</td>\n      <td>1</td>\n      <td>201601</td>\n    </tr>\n  </tbody>\n</table>\n</div>"
     },
     "metadata": {},
     "execution_count": 17
    }
   ],
   "source": [
    "data['年月'] = (data['訂單時間'].str.split('-', expand = True)[0] + data['訂單時間'].str.split('-', expand = True)[1]).astype(int)\n",
    "data.head(6)"
   ]
  },
  {
   "source": [
    "### 3. 新增「淨利」欄位"
   ],
   "cell_type": "markdown",
   "metadata": {}
  },
  {
   "cell_type": "code",
   "execution_count": 18,
   "metadata": {},
   "outputs": [
    {
     "output_type": "execute_result",
     "data": {
      "text/plain": [
       "     單價   成本   系列                 訂單時間 廣告代號all  月份      年月   淨利\n",
       "32  434  253  系列4  2016-01-01T15:10:43  critei   1  201601  181\n",
       "33  382  223  系列4  2016-01-01T15:10:43  critei   1  201601  159\n",
       "34  434  253  系列4  2016-01-01T15:10:43  critei   1  201601  181\n",
       "48  421  331  系列4  2016-01-02T04:52:47  critei   1  201601   90\n",
       "53  562  424  系列4  2016-01-02T08:05:24  critei   1  201601  138\n",
       "54  615  471  系列4  2016-01-02T08:05:24  critei   1  201601  144"
      ],
      "text/html": "<div>\n<style scoped>\n    .dataframe tbody tr th:only-of-type {\n        vertical-align: middle;\n    }\n\n    .dataframe tbody tr th {\n        vertical-align: top;\n    }\n\n    .dataframe thead th {\n        text-align: right;\n    }\n</style>\n<table border=\"1\" class=\"dataframe\">\n  <thead>\n    <tr style=\"text-align: right;\">\n      <th></th>\n      <th>單價</th>\n      <th>成本</th>\n      <th>系列</th>\n      <th>訂單時間</th>\n      <th>廣告代號all</th>\n      <th>月份</th>\n      <th>年月</th>\n      <th>淨利</th>\n    </tr>\n  </thead>\n  <tbody>\n    <tr>\n      <th>32</th>\n      <td>434</td>\n      <td>253</td>\n      <td>系列4</td>\n      <td>2016-01-01T15:10:43</td>\n      <td>critei</td>\n      <td>1</td>\n      <td>201601</td>\n      <td>181</td>\n    </tr>\n    <tr>\n      <th>33</th>\n      <td>382</td>\n      <td>223</td>\n      <td>系列4</td>\n      <td>2016-01-01T15:10:43</td>\n      <td>critei</td>\n      <td>1</td>\n      <td>201601</td>\n      <td>159</td>\n    </tr>\n    <tr>\n      <th>34</th>\n      <td>434</td>\n      <td>253</td>\n      <td>系列4</td>\n      <td>2016-01-01T15:10:43</td>\n      <td>critei</td>\n      <td>1</td>\n      <td>201601</td>\n      <td>181</td>\n    </tr>\n    <tr>\n      <th>48</th>\n      <td>421</td>\n      <td>331</td>\n      <td>系列4</td>\n      <td>2016-01-02T04:52:47</td>\n      <td>critei</td>\n      <td>1</td>\n      <td>201601</td>\n      <td>90</td>\n    </tr>\n    <tr>\n      <th>53</th>\n      <td>562</td>\n      <td>424</td>\n      <td>系列4</td>\n      <td>2016-01-02T08:05:24</td>\n      <td>critei</td>\n      <td>1</td>\n      <td>201601</td>\n      <td>138</td>\n    </tr>\n    <tr>\n      <th>54</th>\n      <td>615</td>\n      <td>471</td>\n      <td>系列4</td>\n      <td>2016-01-02T08:05:24</td>\n      <td>critei</td>\n      <td>1</td>\n      <td>201601</td>\n      <td>144</td>\n    </tr>\n  </tbody>\n</table>\n</div>"
     },
     "metadata": {},
     "execution_count": 18
    }
   ],
   "source": [
    "data['淨利'] = data['單價'] - data['成本']\n",
    "data.head(6)"
   ]
  },
  {
   "source": [
    "### 4. 根據「廣告代號all」、「月份」及「年月」欄位交叉組合出不同的淨利總和"
   ],
   "cell_type": "markdown",
   "metadata": {}
  },
  {
   "source": [
    "data = data.groupby(['廣告代號all', '月份', '年月'])['淨利'].sum()\n",
    "data"
   ],
   "cell_type": "code",
   "metadata": {},
   "execution_count": 19,
   "outputs": [
    {
     "output_type": "execute_result",
     "data": {
      "text/plain": [
       "廣告代號all  月份  年月    \n",
       "KDP      1   201801    28155\n",
       "             201901      680\n",
       "         2   201702     7359\n",
       "             201802     1719\n",
       "             201902      522\n",
       "                       ...  \n",
       "critei   11  201711     1410\n",
       "             201811     1323\n",
       "         12  201612     7427\n",
       "             201712     1787\n",
       "             201812     1372\n",
       "Name: 淨利, Length: 68, dtype: int64"
      ]
     },
     "metadata": {},
     "execution_count": 19
    }
   ]
  },
  {
   "source": [
    "### 5. 將「data」重新組合為DataFrame形式"
   ],
   "cell_type": "markdown",
   "metadata": {}
  },
  {
   "cell_type": "code",
   "execution_count": 20,
   "metadata": {},
   "outputs": [
    {
     "output_type": "execute_result",
     "data": {
      "text/plain": [
       "  廣告代號all  月份      年月     淨利\n",
       "0     KDP   1  201801  28155\n",
       "1     KDP   1  201901    680\n",
       "2     KDP   2  201702   7359\n",
       "3     KDP   2  201802   1719\n",
       "4     KDP   2  201902    522\n",
       "5     KDP   3  201703  40474"
      ],
      "text/html": "<div>\n<style scoped>\n    .dataframe tbody tr th:only-of-type {\n        vertical-align: middle;\n    }\n\n    .dataframe tbody tr th {\n        vertical-align: top;\n    }\n\n    .dataframe thead th {\n        text-align: right;\n    }\n</style>\n<table border=\"1\" class=\"dataframe\">\n  <thead>\n    <tr style=\"text-align: right;\">\n      <th></th>\n      <th>廣告代號all</th>\n      <th>月份</th>\n      <th>年月</th>\n      <th>淨利</th>\n    </tr>\n  </thead>\n  <tbody>\n    <tr>\n      <th>0</th>\n      <td>KDP</td>\n      <td>1</td>\n      <td>201801</td>\n      <td>28155</td>\n    </tr>\n    <tr>\n      <th>1</th>\n      <td>KDP</td>\n      <td>1</td>\n      <td>201901</td>\n      <td>680</td>\n    </tr>\n    <tr>\n      <th>2</th>\n      <td>KDP</td>\n      <td>2</td>\n      <td>201702</td>\n      <td>7359</td>\n    </tr>\n    <tr>\n      <th>3</th>\n      <td>KDP</td>\n      <td>2</td>\n      <td>201802</td>\n      <td>1719</td>\n    </tr>\n    <tr>\n      <th>4</th>\n      <td>KDP</td>\n      <td>2</td>\n      <td>201902</td>\n      <td>522</td>\n    </tr>\n    <tr>\n      <th>5</th>\n      <td>KDP</td>\n      <td>3</td>\n      <td>201703</td>\n      <td>40474</td>\n    </tr>\n  </tbody>\n</table>\n</div>"
     },
     "metadata": {},
     "execution_count": 20
    }
   ],
   "source": [
    "data = data.to_frame().reset_index()\n",
    "data.head(6)"
   ]
  },
  {
   "source": [
    "### 6. 移除多餘欄位，並新增「count」欄位"
   ],
   "cell_type": "markdown",
   "metadata": {}
  },
  {
   "cell_type": "code",
   "execution_count": 21,
   "metadata": {},
   "outputs": [
    {
     "output_type": "execute_result",
     "data": {
      "text/plain": [
       "  廣告代號all  月份     淨利  count\n",
       "0     KDP   1  28155      1\n",
       "1     KDP   1    680      1\n",
       "2     KDP   2   7359      1\n",
       "3     KDP   2   1719      1\n",
       "4     KDP   2    522      1\n",
       "5     KDP   3  40474      1"
      ],
      "text/html": "<div>\n<style scoped>\n    .dataframe tbody tr th:only-of-type {\n        vertical-align: middle;\n    }\n\n    .dataframe tbody tr th {\n        vertical-align: top;\n    }\n\n    .dataframe thead th {\n        text-align: right;\n    }\n</style>\n<table border=\"1\" class=\"dataframe\">\n  <thead>\n    <tr style=\"text-align: right;\">\n      <th></th>\n      <th>廣告代號all</th>\n      <th>月份</th>\n      <th>淨利</th>\n      <th>count</th>\n    </tr>\n  </thead>\n  <tbody>\n    <tr>\n      <th>0</th>\n      <td>KDP</td>\n      <td>1</td>\n      <td>28155</td>\n      <td>1</td>\n    </tr>\n    <tr>\n      <th>1</th>\n      <td>KDP</td>\n      <td>1</td>\n      <td>680</td>\n      <td>1</td>\n    </tr>\n    <tr>\n      <th>2</th>\n      <td>KDP</td>\n      <td>2</td>\n      <td>7359</td>\n      <td>1</td>\n    </tr>\n    <tr>\n      <th>3</th>\n      <td>KDP</td>\n      <td>2</td>\n      <td>1719</td>\n      <td>1</td>\n    </tr>\n    <tr>\n      <th>4</th>\n      <td>KDP</td>\n      <td>2</td>\n      <td>522</td>\n      <td>1</td>\n    </tr>\n    <tr>\n      <th>5</th>\n      <td>KDP</td>\n      <td>3</td>\n      <td>40474</td>\n      <td>1</td>\n    </tr>\n  </tbody>\n</table>\n</div>"
     },
     "metadata": {},
     "execution_count": 21
    }
   ],
   "source": [
    "data = data.drop(['年月'], axis=1)\n",
    "data['count'] = 1\n",
    "data.head(6)"
   ]
  },
  {
   "source": [
    "## 五、繪圖"
   ],
   "cell_type": "markdown",
   "metadata": {}
  },
  {
   "source": [
    "### 1. 繪製盒鬚圖"
   ],
   "cell_type": "markdown",
   "metadata": {}
  },
  {
   "cell_type": "code",
   "execution_count": 22,
   "metadata": {},
   "outputs": [],
   "source": [
    "fig = go.Figure() # 設定空白畫布\n",
    "colors_box = ['#3366CC', '#DC3912'] # 設定盒子顏色\n",
    "# 繪製盒鬚圖\n",
    "for i in range(0, len(data['廣告代號all'].unique())):\n",
    "    fig.add_trace(go.Box(\n",
    "    y = data[data['廣告代號all'] ==data['廣告代號all'].unique()[i]]['淨利'],\n",
    "    x = data[data['廣告代號all'] ==data['廣告代號all'].unique()[i]]['月份'],\n",
    "    name = str(data[data['廣告代號all'] ==data['廣告代號all'].unique()[i]]['廣告代號all'][0:1].values[0]),\n",
    "    marker_color= colors_box[i]\n",
    "    ))\n"
   ]
  },
  {
   "source": [
    "### 2. 繪製平均折線圖"
   ],
   "cell_type": "markdown",
   "metadata": {}
  },
  {
   "cell_type": "code",
   "execution_count": 23,
   "metadata": {},
   "outputs": [],
   "source": [
    "adlist = list(data['廣告代號all'].unique()) # 廣告名稱清單\n",
    "color_line = [\"royalblue\" , \"firebrick\"] # 設定線條顏色\n",
    "# 畫平均線\n",
    "for i in range(0,len(adlist)):\n",
    "    ad = adlist[i]\n",
    "    colour = color_line[i]\n",
    "    meanlist = [] # 平均\n",
    "    axislist = [] # 月分\n",
    "    \n",
    "    for ii in range(1,13):\n",
    "        axislist.append(ii)\n",
    "        total = data[data['廣告代號all'] == ad][data['月份'] == ii]['淨利'].sum()\n",
    "        counts = data[data['廣告代號all'] == ad][data['月份'] == ii]['count'].sum()\n",
    "        aver = total/counts\n",
    "        meanlist.append(aver)\n",
    "        \n",
    "        if ii == 12:   \n",
    "            fig.add_trace(go.Scatter(\n",
    "            x= axislist,\n",
    "            y= meanlist,\n",
    "            mode=\"lines+markers\",\n",
    "            textfont=dict(\n",
    "            family=\"sans serif\",\n",
    "            size=16,\n",
    "            color=\"royalblue\"),    \n",
    "            line=dict(color=colour, width=2),\n",
    "            ))\n"
   ]
  },
  {
   "source": [
    "### 3. 設定佈景主題"
   ],
   "cell_type": "markdown",
   "metadata": {}
  },
  {
   "cell_type": "code",
   "execution_count": 24,
   "metadata": {},
   "outputs": [
    {
     "output_type": "display_data",
     "data": {
      "application/vnd.plotly.v1+json": {
       "config": {
        "plotlyServerURL": "https://plot.ly"
       },
       "data": [
        {
         "marker": {
          "color": "#3366CC"
         },
         "name": "KDP",
         "type": "box",
         "x": [
          1,
          1,
          2,
          2,
          2,
          3,
          3,
          3,
          4,
          4,
          4,
          5,
          5,
          5,
          6,
          6,
          7,
          7,
          7,
          8,
          8,
          9,
          9,
          10,
          10,
          11,
          11,
          12,
          12
         ],
         "y": [
          28155,
          680,
          7359,
          1719,
          522,
          40474,
          1883,
          1021,
          59037,
          1347,
          325,
          137894,
          24650,
          177,
          18449,
          730,
          17974,
          10155,
          1125,
          8708,
          41196,
          2397,
          3459,
          4259,
          945,
          4249,
          620,
          2163,
          2749
         ]
        },
        {
         "marker": {
          "color": "#DC3912"
         },
         "name": "critei",
         "type": "box",
         "x": [
          1,
          1,
          1,
          1,
          2,
          2,
          2,
          2,
          3,
          3,
          3,
          3,
          4,
          4,
          4,
          5,
          5,
          5,
          6,
          6,
          6,
          7,
          7,
          7,
          8,
          8,
          8,
          9,
          9,
          9,
          10,
          10,
          10,
          11,
          11,
          11,
          12,
          12,
          12
         ],
         "y": [
          16367,
          9423,
          5022,
          3014,
          2988,
          7885,
          2949,
          3682,
          10825,
          6380,
          1198,
          204,
          19125,
          19753,
          3949,
          26124,
          14354,
          4846,
          19531,
          14442,
          3277,
          6420,
          8192,
          746,
          13977,
          5268,
          1552,
          8584,
          8576,
          2403,
          9493,
          3250,
          537,
          15596,
          1410,
          1323,
          7427,
          1787,
          1372
         ]
        },
        {
         "line": {
          "color": "royalblue",
          "width": 2
         },
         "mode": "lines+markers",
         "textfont": {
          "color": "royalblue",
          "family": "sans serif",
          "size": 16
         },
         "type": "scatter",
         "x": [
          1,
          2,
          3,
          4,
          5,
          6,
          7,
          8,
          9,
          10,
          11,
          12
         ],
         "y": [
          14417.5,
          3200,
          14459.333333333334,
          20236.333333333332,
          54240.333333333336,
          9589.5,
          9751.333333333334,
          24952,
          2928,
          2602,
          2434.5,
          2456
         ]
        },
        {
         "line": {
          "color": "firebrick",
          "width": 2
         },
         "mode": "lines+markers",
         "textfont": {
          "color": "royalblue",
          "family": "sans serif",
          "size": 16
         },
         "type": "scatter",
         "x": [
          1,
          2,
          3,
          4,
          5,
          6,
          7,
          8,
          9,
          10,
          11,
          12
         ],
         "y": [
          8456.5,
          4376,
          4651.75,
          14275.666666666666,
          15108,
          12416.666666666666,
          5119.333333333333,
          6932.333333333333,
          6521,
          4426.666666666667,
          6109.666666666667,
          3528.6666666666665
         ]
        }
       ],
       "layout": {
        "boxmode": "group",
        "font": {
         "color": "lightslategrey",
         "family": "Courier New, monospace",
         "size": 20
        },
        "height": 960,
        "template": {
         "data": {
          "bar": [
           {
            "error_x": {
             "color": "#2a3f5f"
            },
            "error_y": {
             "color": "#2a3f5f"
            },
            "marker": {
             "line": {
              "color": "#E5ECF6",
              "width": 0.5
             }
            },
            "type": "bar"
           }
          ],
          "barpolar": [
           {
            "marker": {
             "line": {
              "color": "#E5ECF6",
              "width": 0.5
             }
            },
            "type": "barpolar"
           }
          ],
          "carpet": [
           {
            "aaxis": {
             "endlinecolor": "#2a3f5f",
             "gridcolor": "white",
             "linecolor": "white",
             "minorgridcolor": "white",
             "startlinecolor": "#2a3f5f"
            },
            "baxis": {
             "endlinecolor": "#2a3f5f",
             "gridcolor": "white",
             "linecolor": "white",
             "minorgridcolor": "white",
             "startlinecolor": "#2a3f5f"
            },
            "type": "carpet"
           }
          ],
          "choropleth": [
           {
            "colorbar": {
             "outlinewidth": 0,
             "ticks": ""
            },
            "type": "choropleth"
           }
          ],
          "contour": [
           {
            "colorbar": {
             "outlinewidth": 0,
             "ticks": ""
            },
            "colorscale": [
             [
              0,
              "#0d0887"
             ],
             [
              0.1111111111111111,
              "#46039f"
             ],
             [
              0.2222222222222222,
              "#7201a8"
             ],
             [
              0.3333333333333333,
              "#9c179e"
             ],
             [
              0.4444444444444444,
              "#bd3786"
             ],
             [
              0.5555555555555556,
              "#d8576b"
             ],
             [
              0.6666666666666666,
              "#ed7953"
             ],
             [
              0.7777777777777778,
              "#fb9f3a"
             ],
             [
              0.8888888888888888,
              "#fdca26"
             ],
             [
              1,
              "#f0f921"
             ]
            ],
            "type": "contour"
           }
          ],
          "contourcarpet": [
           {
            "colorbar": {
             "outlinewidth": 0,
             "ticks": ""
            },
            "type": "contourcarpet"
           }
          ],
          "heatmap": [
           {
            "colorbar": {
             "outlinewidth": 0,
             "ticks": ""
            },
            "colorscale": [
             [
              0,
              "#0d0887"
             ],
             [
              0.1111111111111111,
              "#46039f"
             ],
             [
              0.2222222222222222,
              "#7201a8"
             ],
             [
              0.3333333333333333,
              "#9c179e"
             ],
             [
              0.4444444444444444,
              "#bd3786"
             ],
             [
              0.5555555555555556,
              "#d8576b"
             ],
             [
              0.6666666666666666,
              "#ed7953"
             ],
             [
              0.7777777777777778,
              "#fb9f3a"
             ],
             [
              0.8888888888888888,
              "#fdca26"
             ],
             [
              1,
              "#f0f921"
             ]
            ],
            "type": "heatmap"
           }
          ],
          "heatmapgl": [
           {
            "colorbar": {
             "outlinewidth": 0,
             "ticks": ""
            },
            "colorscale": [
             [
              0,
              "#0d0887"
             ],
             [
              0.1111111111111111,
              "#46039f"
             ],
             [
              0.2222222222222222,
              "#7201a8"
             ],
             [
              0.3333333333333333,
              "#9c179e"
             ],
             [
              0.4444444444444444,
              "#bd3786"
             ],
             [
              0.5555555555555556,
              "#d8576b"
             ],
             [
              0.6666666666666666,
              "#ed7953"
             ],
             [
              0.7777777777777778,
              "#fb9f3a"
             ],
             [
              0.8888888888888888,
              "#fdca26"
             ],
             [
              1,
              "#f0f921"
             ]
            ],
            "type": "heatmapgl"
           }
          ],
          "histogram": [
           {
            "marker": {
             "colorbar": {
              "outlinewidth": 0,
              "ticks": ""
             }
            },
            "type": "histogram"
           }
          ],
          "histogram2d": [
           {
            "colorbar": {
             "outlinewidth": 0,
             "ticks": ""
            },
            "colorscale": [
             [
              0,
              "#0d0887"
             ],
             [
              0.1111111111111111,
              "#46039f"
             ],
             [
              0.2222222222222222,
              "#7201a8"
             ],
             [
              0.3333333333333333,
              "#9c179e"
             ],
             [
              0.4444444444444444,
              "#bd3786"
             ],
             [
              0.5555555555555556,
              "#d8576b"
             ],
             [
              0.6666666666666666,
              "#ed7953"
             ],
             [
              0.7777777777777778,
              "#fb9f3a"
             ],
             [
              0.8888888888888888,
              "#fdca26"
             ],
             [
              1,
              "#f0f921"
             ]
            ],
            "type": "histogram2d"
           }
          ],
          "histogram2dcontour": [
           {
            "colorbar": {
             "outlinewidth": 0,
             "ticks": ""
            },
            "colorscale": [
             [
              0,
              "#0d0887"
             ],
             [
              0.1111111111111111,
              "#46039f"
             ],
             [
              0.2222222222222222,
              "#7201a8"
             ],
             [
              0.3333333333333333,
              "#9c179e"
             ],
             [
              0.4444444444444444,
              "#bd3786"
             ],
             [
              0.5555555555555556,
              "#d8576b"
             ],
             [
              0.6666666666666666,
              "#ed7953"
             ],
             [
              0.7777777777777778,
              "#fb9f3a"
             ],
             [
              0.8888888888888888,
              "#fdca26"
             ],
             [
              1,
              "#f0f921"
             ]
            ],
            "type": "histogram2dcontour"
           }
          ],
          "mesh3d": [
           {
            "colorbar": {
             "outlinewidth": 0,
             "ticks": ""
            },
            "type": "mesh3d"
           }
          ],
          "parcoords": [
           {
            "line": {
             "colorbar": {
              "outlinewidth": 0,
              "ticks": ""
             }
            },
            "type": "parcoords"
           }
          ],
          "pie": [
           {
            "automargin": true,
            "type": "pie"
           }
          ],
          "scatter": [
           {
            "marker": {
             "colorbar": {
              "outlinewidth": 0,
              "ticks": ""
             }
            },
            "type": "scatter"
           }
          ],
          "scatter3d": [
           {
            "line": {
             "colorbar": {
              "outlinewidth": 0,
              "ticks": ""
             }
            },
            "marker": {
             "colorbar": {
              "outlinewidth": 0,
              "ticks": ""
             }
            },
            "type": "scatter3d"
           }
          ],
          "scattercarpet": [
           {
            "marker": {
             "colorbar": {
              "outlinewidth": 0,
              "ticks": ""
             }
            },
            "type": "scattercarpet"
           }
          ],
          "scattergeo": [
           {
            "marker": {
             "colorbar": {
              "outlinewidth": 0,
              "ticks": ""
             }
            },
            "type": "scattergeo"
           }
          ],
          "scattergl": [
           {
            "marker": {
             "colorbar": {
              "outlinewidth": 0,
              "ticks": ""
             }
            },
            "type": "scattergl"
           }
          ],
          "scattermapbox": [
           {
            "marker": {
             "colorbar": {
              "outlinewidth": 0,
              "ticks": ""
             }
            },
            "type": "scattermapbox"
           }
          ],
          "scatterpolar": [
           {
            "marker": {
             "colorbar": {
              "outlinewidth": 0,
              "ticks": ""
             }
            },
            "type": "scatterpolar"
           }
          ],
          "scatterpolargl": [
           {
            "marker": {
             "colorbar": {
              "outlinewidth": 0,
              "ticks": ""
             }
            },
            "type": "scatterpolargl"
           }
          ],
          "scatterternary": [
           {
            "marker": {
             "colorbar": {
              "outlinewidth": 0,
              "ticks": ""
             }
            },
            "type": "scatterternary"
           }
          ],
          "surface": [
           {
            "colorbar": {
             "outlinewidth": 0,
             "ticks": ""
            },
            "colorscale": [
             [
              0,
              "#0d0887"
             ],
             [
              0.1111111111111111,
              "#46039f"
             ],
             [
              0.2222222222222222,
              "#7201a8"
             ],
             [
              0.3333333333333333,
              "#9c179e"
             ],
             [
              0.4444444444444444,
              "#bd3786"
             ],
             [
              0.5555555555555556,
              "#d8576b"
             ],
             [
              0.6666666666666666,
              "#ed7953"
             ],
             [
              0.7777777777777778,
              "#fb9f3a"
             ],
             [
              0.8888888888888888,
              "#fdca26"
             ],
             [
              1,
              "#f0f921"
             ]
            ],
            "type": "surface"
           }
          ],
          "table": [
           {
            "cells": {
             "fill": {
              "color": "#EBF0F8"
             },
             "line": {
              "color": "white"
             }
            },
            "header": {
             "fill": {
              "color": "#C8D4E3"
             },
             "line": {
              "color": "white"
             }
            },
            "type": "table"
           }
          ]
         },
         "layout": {
          "annotationdefaults": {
           "arrowcolor": "#2a3f5f",
           "arrowhead": 0,
           "arrowwidth": 1
          },
          "coloraxis": {
           "colorbar": {
            "outlinewidth": 0,
            "ticks": ""
           }
          },
          "colorscale": {
           "diverging": [
            [
             0,
             "#8e0152"
            ],
            [
             0.1,
             "#c51b7d"
            ],
            [
             0.2,
             "#de77ae"
            ],
            [
             0.3,
             "#f1b6da"
            ],
            [
             0.4,
             "#fde0ef"
            ],
            [
             0.5,
             "#f7f7f7"
            ],
            [
             0.6,
             "#e6f5d0"
            ],
            [
             0.7,
             "#b8e186"
            ],
            [
             0.8,
             "#7fbc41"
            ],
            [
             0.9,
             "#4d9221"
            ],
            [
             1,
             "#276419"
            ]
           ],
           "sequential": [
            [
             0,
             "#0d0887"
            ],
            [
             0.1111111111111111,
             "#46039f"
            ],
            [
             0.2222222222222222,
             "#7201a8"
            ],
            [
             0.3333333333333333,
             "#9c179e"
            ],
            [
             0.4444444444444444,
             "#bd3786"
            ],
            [
             0.5555555555555556,
             "#d8576b"
            ],
            [
             0.6666666666666666,
             "#ed7953"
            ],
            [
             0.7777777777777778,
             "#fb9f3a"
            ],
            [
             0.8888888888888888,
             "#fdca26"
            ],
            [
             1,
             "#f0f921"
            ]
           ],
           "sequentialminus": [
            [
             0,
             "#0d0887"
            ],
            [
             0.1111111111111111,
             "#46039f"
            ],
            [
             0.2222222222222222,
             "#7201a8"
            ],
            [
             0.3333333333333333,
             "#9c179e"
            ],
            [
             0.4444444444444444,
             "#bd3786"
            ],
            [
             0.5555555555555556,
             "#d8576b"
            ],
            [
             0.6666666666666666,
             "#ed7953"
            ],
            [
             0.7777777777777778,
             "#fb9f3a"
            ],
            [
             0.8888888888888888,
             "#fdca26"
            ],
            [
             1,
             "#f0f921"
            ]
           ]
          },
          "colorway": [
           "#636efa",
           "#EF553B",
           "#00cc96",
           "#ab63fa",
           "#FFA15A",
           "#19d3f3",
           "#FF6692",
           "#B6E880",
           "#FF97FF",
           "#FECB52"
          ],
          "font": {
           "color": "#2a3f5f"
          },
          "geo": {
           "bgcolor": "white",
           "lakecolor": "white",
           "landcolor": "#E5ECF6",
           "showlakes": true,
           "showland": true,
           "subunitcolor": "white"
          },
          "hoverlabel": {
           "align": "left"
          },
          "hovermode": "closest",
          "mapbox": {
           "style": "light"
          },
          "paper_bgcolor": "white",
          "plot_bgcolor": "#E5ECF6",
          "polar": {
           "angularaxis": {
            "gridcolor": "white",
            "linecolor": "white",
            "ticks": ""
           },
           "bgcolor": "#E5ECF6",
           "radialaxis": {
            "gridcolor": "white",
            "linecolor": "white",
            "ticks": ""
           }
          },
          "scene": {
           "xaxis": {
            "backgroundcolor": "#E5ECF6",
            "gridcolor": "white",
            "gridwidth": 2,
            "linecolor": "white",
            "showbackground": true,
            "ticks": "",
            "zerolinecolor": "white"
           },
           "yaxis": {
            "backgroundcolor": "#E5ECF6",
            "gridcolor": "white",
            "gridwidth": 2,
            "linecolor": "white",
            "showbackground": true,
            "ticks": "",
            "zerolinecolor": "white"
           },
           "zaxis": {
            "backgroundcolor": "#E5ECF6",
            "gridcolor": "white",
            "gridwidth": 2,
            "linecolor": "white",
            "showbackground": true,
            "ticks": "",
            "zerolinecolor": "white"
           }
          },
          "shapedefaults": {
           "line": {
            "color": "#2a3f5f"
           }
          },
          "ternary": {
           "aaxis": {
            "gridcolor": "white",
            "linecolor": "white",
            "ticks": ""
           },
           "baxis": {
            "gridcolor": "white",
            "linecolor": "white",
            "ticks": ""
           },
           "bgcolor": "#E5ECF6",
           "caxis": {
            "gridcolor": "white",
            "linecolor": "white",
            "ticks": ""
           }
          },
          "title": {
           "x": 0.05
          },
          "xaxis": {
           "automargin": true,
           "gridcolor": "white",
           "linecolor": "white",
           "ticks": "",
           "title": {
            "standoff": 15
           },
           "zerolinecolor": "white",
           "zerolinewidth": 2
          },
          "yaxis": {
           "automargin": true,
           "gridcolor": "white",
           "linecolor": "white",
           "ticks": "",
           "title": {
            "standoff": 15
           },
           "zerolinecolor": "white",
           "zerolinewidth": 2
          }
         }
        },
        "title": {
         "text": "<b>BoxPlot－系列四 廣告效益分析</b>",
         "x": 0.5,
         "xanchor": "center",
         "y": 0.95
        },
        "width": 1800,
        "xaxis": {
         "tickmode": "linear",
         "title": {
          "text": "Month"
         }
        },
        "yaxis": {
         "title": {
          "text": "Profit"
         }
        }
       }
      }
     },
     "metadata": {}
    }
   ],
   "source": [
    "# 設定佈景主題(字體、大小、背景等)\n",
    "fig.update_layout(\n",
    "    title={\n",
    "        'text': \"<b>BoxPlot－系列四 廣告效益分析</b>\",\n",
    "        'y':0.95,\n",
    "        'x':0.5,\n",
    "        'xanchor': 'center',},\n",
    "    yaxis_title='Profit',\n",
    "    xaxis={\n",
    "        'title': 'Month',\n",
    "        'tickmode': 'linear'\n",
    "        },\n",
    "    width=1800,\n",
    "    height=960,\n",
    "    boxmode='group',\n",
    "    font=dict(\n",
    "        family=\"Courier New, monospace\",\n",
    "        size=20,\n",
    "        color=\"lightslategrey\"\n",
    "    )\n",
    "    )\n"
   ]
  },
  {
   "source": [
    "### 4. 將產出另存"
   ],
   "cell_type": "markdown",
   "metadata": {}
  },
  {
   "cell_type": "code",
   "execution_count": null,
   "metadata": {},
   "outputs": [],
   "source": [
    "# 另存html檔\n",
    "py.plot(fig, filename='BoxPlot－系列四 廣告效益分析', auto_open=True)\n",
    "    \n",
    "# 另存圖檔\n",
    "fig.write_image(\"BoxPlot－系列四 廣告效益分析.png\")"
   ]
  }
 ]
}