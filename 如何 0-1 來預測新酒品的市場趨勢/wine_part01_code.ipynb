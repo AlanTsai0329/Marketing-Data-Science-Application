{
 "cells": [
  {
   "cell_type": "markdown",
   "metadata": {},
   "source": [
    "### 如何 0–1 來預測新酒品的市場趨勢？\n",
    "##### 深度學習 - Part 1 : EDA 與 Python 畫圖工具\n",
    "##### 作者：黃榮晟(臺灣行銷研究特邀作者)、劉加德(臺灣行銷研究特邀編審)、鍾皓軒(臺灣行銷研究有限公司創辦人）\n",
    "\n",
    "###### 「品酒」已經不再是有錢人的權利，在這個美酒當道的年代，我們要如何像 Somm 電影的品酒師，一口就能辨別出「口感」、「年份」、「產地」，甚至預測下一季爆款的酒呢？\n",
    "\n",
    "###### 原始檔案請見[本連結](https://drive.google.com/open?id=1heSaQTTt1jsI1tnIWgpr1NF6kb_G85_I&authuser=howard32180900%40tmrmds.co&usp=drive_fs)"
   ]
  },
  {
   "cell_type": "markdown",
   "metadata": {
    "_uuid": "bd2f4886baa4110bac1e8ff70c4eb24038a37b35"
   },
   "source": [
    "Reference: Plotting with pandas, matplotlib, and seaborn | Kaggle\n",
    "\n",
    "This section covers follwoing aspects:\n",
    "* Pandas basic plot functions,\n",
    "* Basic style functions\n",
    "* Subplots function\n",
    "* Pairplot\n",
    "* Heatplot"
   ]
  },
  {
   "cell_type": "code",
   "execution_count": 1,
   "metadata": {
    "_cell_guid": "b1076dfc-b9ad-4769-8c92-a6c4dae69d19",
    "_uuid": "8f2839f25d086af736a60e9eeb907d3b93b6e0e5",
    "execution": {
     "iopub.execute_input": "2022-06-22T14:35:11.798874Z",
     "iopub.status.busy": "2022-06-22T14:35:11.798444Z",
     "iopub.status.idle": "2022-06-22T14:35:11.819914Z",
     "shell.execute_reply": "2022-06-22T14:35:11.819283Z",
     "shell.execute_reply.started": "2022-06-22T14:35:11.79883Z"
    }
   },
   "outputs": [],
   "source": [
    "import pandas as pd\n",
    "import numpy as np"
   ]
  },
  {
   "cell_type": "code",
   "execution_count": 4,
   "metadata": {
    "_cell_guid": "79c7e3d0-c299-4dcb-8224-4455121ee9b0",
    "_uuid": "d629ff2d2480ee46fbb7e2d37f6b5fab8052498a",
    "execution": {
     "iopub.execute_input": "2022-06-22T14:35:11.821529Z",
     "iopub.status.busy": "2022-06-22T14:35:11.821064Z",
     "iopub.status.idle": "2022-06-22T14:35:13.404464Z",
     "shell.execute_reply": "2022-06-22T14:35:13.403333Z",
     "shell.execute_reply.started": "2022-06-22T14:35:11.821484Z"
    }
   },
   "outputs": [],
   "source": [
    "# 若無法讀取，請在csv檔案前加上檔案路徑\n",
    "df_original = pd.read_csv(\"winemag-data_first150k.csv\")"
   ]
  },
  {
   "cell_type": "code",
   "execution_count": 5,
   "metadata": {
    "_uuid": "cc29a9c2538fe477b895d9afc6c3d043ec60f877",
    "execution": {
     "iopub.execute_input": "2022-06-22T14:35:13.406431Z",
     "iopub.status.busy": "2022-06-22T14:35:13.406168Z",
     "iopub.status.idle": "2022-06-22T14:35:13.456012Z",
     "shell.execute_reply": "2022-06-22T14:35:13.455075Z",
     "shell.execute_reply.started": "2022-06-22T14:35:13.406383Z"
    }
   },
   "outputs": [
    {
     "data": {
      "text/html": [
       "<div>\n",
       "<style scoped>\n",
       "    .dataframe tbody tr th:only-of-type {\n",
       "        vertical-align: middle;\n",
       "    }\n",
       "\n",
       "    .dataframe tbody tr th {\n",
       "        vertical-align: top;\n",
       "    }\n",
       "\n",
       "    .dataframe thead th {\n",
       "        text-align: right;\n",
       "    }\n",
       "</style>\n",
       "<table border=\"1\" class=\"dataframe\">\n",
       "  <thead>\n",
       "    <tr style=\"text-align: right;\">\n",
       "      <th></th>\n",
       "      <th>Unnamed: 0</th>\n",
       "      <th>country</th>\n",
       "      <th>description</th>\n",
       "      <th>designation</th>\n",
       "      <th>points</th>\n",
       "      <th>price</th>\n",
       "      <th>province</th>\n",
       "      <th>region_1</th>\n",
       "      <th>region_2</th>\n",
       "      <th>variety</th>\n",
       "      <th>winery</th>\n",
       "    </tr>\n",
       "  </thead>\n",
       "  <tbody>\n",
       "    <tr>\n",
       "      <th>0</th>\n",
       "      <td>0</td>\n",
       "      <td>US</td>\n",
       "      <td>This tremendous 100% varietal wine hails from ...</td>\n",
       "      <td>Martha's Vineyard</td>\n",
       "      <td>96</td>\n",
       "      <td>235.0</td>\n",
       "      <td>California</td>\n",
       "      <td>Napa Valley</td>\n",
       "      <td>Napa</td>\n",
       "      <td>Cabernet Sauvignon</td>\n",
       "      <td>Heitz</td>\n",
       "    </tr>\n",
       "    <tr>\n",
       "      <th>1</th>\n",
       "      <td>1</td>\n",
       "      <td>Spain</td>\n",
       "      <td>Ripe aromas of fig, blackberry and cassis are ...</td>\n",
       "      <td>Carodorum Selección Especial Reserva</td>\n",
       "      <td>96</td>\n",
       "      <td>110.0</td>\n",
       "      <td>Northern Spain</td>\n",
       "      <td>Toro</td>\n",
       "      <td>NaN</td>\n",
       "      <td>Tinta de Toro</td>\n",
       "      <td>Bodega Carmen Rodríguez</td>\n",
       "    </tr>\n",
       "    <tr>\n",
       "      <th>2</th>\n",
       "      <td>2</td>\n",
       "      <td>US</td>\n",
       "      <td>Mac Watson honors the memory of a wine once ma...</td>\n",
       "      <td>Special Selected Late Harvest</td>\n",
       "      <td>96</td>\n",
       "      <td>90.0</td>\n",
       "      <td>California</td>\n",
       "      <td>Knights Valley</td>\n",
       "      <td>Sonoma</td>\n",
       "      <td>Sauvignon Blanc</td>\n",
       "      <td>Macauley</td>\n",
       "    </tr>\n",
       "    <tr>\n",
       "      <th>3</th>\n",
       "      <td>3</td>\n",
       "      <td>US</td>\n",
       "      <td>This spent 20 months in 30% new French oak, an...</td>\n",
       "      <td>Reserve</td>\n",
       "      <td>96</td>\n",
       "      <td>65.0</td>\n",
       "      <td>Oregon</td>\n",
       "      <td>Willamette Valley</td>\n",
       "      <td>Willamette Valley</td>\n",
       "      <td>Pinot Noir</td>\n",
       "      <td>Ponzi</td>\n",
       "    </tr>\n",
       "    <tr>\n",
       "      <th>4</th>\n",
       "      <td>4</td>\n",
       "      <td>France</td>\n",
       "      <td>This is the top wine from La Bégude, named aft...</td>\n",
       "      <td>La Brûlade</td>\n",
       "      <td>95</td>\n",
       "      <td>66.0</td>\n",
       "      <td>Provence</td>\n",
       "      <td>Bandol</td>\n",
       "      <td>NaN</td>\n",
       "      <td>Provence red blend</td>\n",
       "      <td>Domaine de la Bégude</td>\n",
       "    </tr>\n",
       "  </tbody>\n",
       "</table>\n",
       "</div>"
      ],
      "text/plain": [
       "   Unnamed: 0 country                                        description  \\\n",
       "0           0      US  This tremendous 100% varietal wine hails from ...   \n",
       "1           1   Spain  Ripe aromas of fig, blackberry and cassis are ...   \n",
       "2           2      US  Mac Watson honors the memory of a wine once ma...   \n",
       "3           3      US  This spent 20 months in 30% new French oak, an...   \n",
       "4           4  France  This is the top wine from La Bégude, named aft...   \n",
       "\n",
       "                            designation  points  price        province  \\\n",
       "0                     Martha's Vineyard      96  235.0      California   \n",
       "1  Carodorum Selección Especial Reserva      96  110.0  Northern Spain   \n",
       "2         Special Selected Late Harvest      96   90.0      California   \n",
       "3                               Reserve      96   65.0          Oregon   \n",
       "4                            La Brûlade      95   66.0        Provence   \n",
       "\n",
       "            region_1           region_2             variety  \\\n",
       "0        Napa Valley               Napa  Cabernet Sauvignon   \n",
       "1               Toro                NaN       Tinta de Toro   \n",
       "2     Knights Valley             Sonoma     Sauvignon Blanc   \n",
       "3  Willamette Valley  Willamette Valley          Pinot Noir   \n",
       "4             Bandol                NaN  Provence red blend   \n",
       "\n",
       "                    winery  \n",
       "0                    Heitz  \n",
       "1  Bodega Carmen Rodríguez  \n",
       "2                 Macauley  \n",
       "3                    Ponzi  \n",
       "4     Domaine de la Bégude  "
      ]
     },
     "execution_count": 5,
     "metadata": {},
     "output_type": "execute_result"
    }
   ],
   "source": [
    "df_original.head()"
   ]
  },
  {
   "cell_type": "code",
   "execution_count": 6,
   "metadata": {
    "_uuid": "028966e649b2a4d02cad346a4a47516f161eb697",
    "execution": {
     "iopub.execute_input": "2022-06-22T14:35:13.458236Z",
     "iopub.status.busy": "2022-06-22T14:35:13.45784Z",
     "iopub.status.idle": "2022-06-22T14:35:13.465594Z",
     "shell.execute_reply": "2022-06-22T14:35:13.464476Z",
     "shell.execute_reply.started": "2022-06-22T14:35:13.45816Z"
    }
   },
   "outputs": [
    {
     "data": {
      "text/plain": [
       "(150930, 11)"
      ]
     },
     "execution_count": 6,
     "metadata": {},
     "output_type": "execute_result"
    }
   ],
   "source": [
    "df_original.shape\n",
    "#df_original.dim()"
   ]
  },
  {
   "cell_type": "code",
   "execution_count": 7,
   "metadata": {
    "_uuid": "cc3c302bada59afa2083f42867269868f4dc9880",
    "execution": {
     "iopub.execute_input": "2022-06-22T14:35:13.467851Z",
     "iopub.status.busy": "2022-06-22T14:35:13.467353Z",
     "iopub.status.idle": "2022-06-22T14:35:13.832293Z",
     "shell.execute_reply": "2022-06-22T14:35:13.831224Z",
     "shell.execute_reply.started": "2022-06-22T14:35:13.467767Z"
    }
   },
   "outputs": [
    {
     "data": {
      "text/plain": [
       "<AxesSubplot:>"
      ]
     },
     "execution_count": 7,
     "metadata": {},
     "output_type": "execute_result"
    },
    {
     "data": {
      "image/png": "[encoded data removed]",
      "text/plain": [
       "<Figure size 432x288 with 1 Axes>"
      ]
     },
     "metadata": {
      "needs_background": "light"
     },
     "output_type": "display_data"
    }
   ],
   "source": [
    "# bar plot\n",
    "df_original['country'].value_counts().head(10).plot.bar()"
   ]
  },
  {
   "cell_type": "code",
   "execution_count": 8,
   "metadata": {
    "_uuid": "eb4d859732c962ccf488b42b7fb336a877d3a7d7",
    "execution": {
     "iopub.execute_input": "2022-06-22T14:35:13.834512Z",
     "iopub.status.busy": "2022-06-22T14:35:13.833932Z",
     "iopub.status.idle": "2022-06-22T14:35:14.226249Z",
     "shell.execute_reply": "2022-06-22T14:35:14.225225Z",
     "shell.execute_reply.started": "2022-06-22T14:35:13.834437Z"
    }
   },
   "outputs": [
    {
     "data": {
      "text/plain": [
       "<AxesSubplot:>"
      ]
     },
     "execution_count": 8,
     "metadata": {},
     "output_type": "execute_result"
    },
    {
     "data": {
      "image/png": "[encoded data removed]",
      "text/plain": [
       "<Figure size 432x288 with 1 Axes>"
      ]
     },
     "metadata": {
      "needs_background": "light"
     },
     "output_type": "display_data"
    }
   ],
   "source": [
    "df_original['points'].value_counts().sort_index().plot.bar()"
   ]
  },
  {
   "cell_type": "code",
   "execution_count": 7,
   "metadata": {
    "_uuid": "c1b6b6d778f52d6061b024ee3276c37677513bc3",
    "execution": {
     "iopub.execute_input": "2022-06-22T14:35:14.228513Z",
     "iopub.status.busy": "2022-06-22T14:35:14.227914Z",
     "iopub.status.idle": "2022-06-22T14:35:14.485118Z",
     "shell.execute_reply": "2022-06-22T14:35:14.48434Z",
     "shell.execute_reply.started": "2022-06-22T14:35:14.228429Z"
    }
   },
   "outputs": [
    {
     "data": {
      "text/plain": [
       "<matplotlib.axes._subplots.AxesSubplot at 0x7f679cccb6a0>"
      ]
     },
     "execution_count": 7,
     "metadata": {},
     "output_type": "execute_result"
    },
    {
     "data": {
      "image/png": "[encoded data removed]",
      "text/plain": [
       "<Figure size 432x288 with 1 Axes>"
      ]
     },
     "metadata": {},
     "output_type": "display_data"
    }
   ],
   "source": [
    "#Plot Price\n",
    "df_original['price'].value_counts().sort_index().plot.line()"
   ]
  },
  {
   "cell_type": "code",
   "execution_count": 8,
   "metadata": {
    "_uuid": "ed15529eca1e6bfcb9513b17197b69c0aa9c79c1",
    "execution": {
     "iopub.execute_input": "2022-06-22T14:35:14.487103Z",
     "iopub.status.busy": "2022-06-22T14:35:14.486564Z",
     "iopub.status.idle": "2022-06-22T14:35:14.678314Z",
     "shell.execute_reply": "2022-06-22T14:35:14.67733Z",
     "shell.execute_reply.started": "2022-06-22T14:35:14.487041Z"
    }
   },
   "outputs": [
    {
     "data": {
      "text/plain": [
       "<matplotlib.axes._subplots.AxesSubplot at 0x7f679cc4db38>"
      ]
     },
     "execution_count": 8,
     "metadata": {},
     "output_type": "execute_result"
    },
    {
     "data": {
      "image/png": "[encoded data removed]",
      "text/plain": [
       "<Figure size 432x288 with 1 Axes>"
      ]
     },
     "metadata": {},
     "output_type": "display_data"
    }
   ],
   "source": [
    "df_original['points'].value_counts().sort_index().plot.area()"
   ]
  },
  {
   "cell_type": "code",
   "execution_count": 9,
   "metadata": {
    "_uuid": "079f88309c9d0b48c9433e70b982f048a903eea3",
    "execution": {
     "iopub.execute_input": "2022-06-22T14:35:14.68053Z",
     "iopub.status.busy": "2022-06-22T14:35:14.679922Z",
     "iopub.status.idle": "2022-06-22T14:35:16.210851Z",
     "shell.execute_reply": "2022-06-22T14:35:16.209928Z",
     "shell.execute_reply.started": "2022-06-22T14:35:14.680387Z"
    }
   },
   "outputs": [
    {
     "data": {
      "text/plain": [
       "<matplotlib.axes._subplots.AxesSubplot at 0x7f679cc37908>"
      ]
     },
     "execution_count": 9,
     "metadata": {},
     "output_type": "execute_result"
    },
    {
     "data": {
      "image/png": "[encoded data removed]",
      "text/plain": [
       "<Figure size 432x288 with 1 Axes>"
      ]
     },
     "metadata": {},
     "output_type": "display_data"
    }
   ],
   "source": [
    "#Scatter Plot\n",
    "df_original.plot.scatter(x='points', y='price')"
   ]
  },
  {
   "cell_type": "code",
   "execution_count": 12,
   "metadata": {
    "_uuid": "34f296c896d346805264497e29285845eda084b4",
    "execution": {
     "iopub.execute_input": "2022-06-22T14:35:17.315766Z",
     "iopub.status.busy": "2022-06-22T14:35:17.315447Z",
     "iopub.status.idle": "2022-06-22T14:35:17.74897Z",
     "shell.execute_reply": "2022-06-22T14:35:17.747723Z",
     "shell.execute_reply.started": "2022-06-22T14:35:17.315711Z"
    }
   },
   "outputs": [
    {
     "data": {
      "text/plain": [
       "Text(0,0.5,'Count')"
      ]
     },
     "execution_count": 12,
     "metadata": {},
     "output_type": "execute_result"
    },
    {
     "data": {
      "image/png": "[encoded data removed]",
      "text/plain": [
       "<Figure size 864x432 with 1 Axes>"
      ]
     },
     "metadata": {},
     "output_type": "display_data"
    }
   ],
   "source": [
    "#Adjusting title fontsize using Matplotlib\n",
    "import matplotlib as mlt\n",
    "\n",
    "ax = df_original['points'].value_counts().sort_index().plot.bar(\n",
    "    figsize = (12,6),\n",
    "    fontsize = 14\n",
    ")\n",
    "ax.set_title(\"Count the Wine-Points\", fontsize = 20)\n",
    "ax.set_xlabel(\"Points\", fontsize = 20)\n",
    "ax.set_ylabel(\"Count\", fontsize = 20)"
   ]
  },
  {
   "cell_type": "code",
   "execution_count": 13,
   "metadata": {
    "_uuid": "5027645c511237896ebaa9fe953d4c050ba0e8a5",
    "execution": {
     "iopub.execute_input": "2022-06-22T14:35:17.751465Z",
     "iopub.status.busy": "2022-06-22T14:35:17.750986Z",
     "iopub.status.idle": "2022-06-22T14:35:18.665146Z",
     "shell.execute_reply": "2022-06-22T14:35:18.66446Z",
     "shell.execute_reply.started": "2022-06-22T14:35:17.751401Z"
    }
   },
   "outputs": [
    {
     "data": {
      "text/plain": [
       "Text(0.5,1,'No of Wines from Winery')"
      ]
     },
     "execution_count": 13,
     "metadata": {},
     "output_type": "execute_result"
    },
    {
     "data": {
      "image/png": "[encoded data removed]",
      "text/plain": [
       "<Figure size 864x864 with 3 Axes>"
      ]
     },
     "metadata": {},
     "output_type": "display_data"
    }
   ],
   "source": [
    "import matplotlib.pyplot as plt\n",
    "#Creating a frame of rows and columns to place the plots\n",
    "fig, axi = plt.subplots(3,1, figsize = (12,12))\n",
    "#plot1\n",
    "df_original['points'].value_counts().plot.bar(\n",
    "    ax = axi[0],\n",
    "    fontsize = 14    \n",
    ")\n",
    "axi[0].set_title(\"Count points of Wine\", fontsize = 20)\n",
    "#Plot2\n",
    "df_original['country'].value_counts().head(10).plot.bar(\n",
    "    ax = axi[1],\n",
    "    fontsize = 14\n",
    ")\n",
    "axi[1].set_title('Country', fontsize = 20)\n",
    "#plot3\n",
    "df_original['winery'].value_counts().head().plot.bar(\n",
    "    ax = axi[2],\n",
    "    fontsize = 14\n",
    ")\n",
    "axi[2].set_title(\"No of Wines from Winery\")"
   ]
  },
  {
   "cell_type": "code",
   "execution_count": 14,
   "metadata": {
    "_uuid": "aa0f72afee73433a87181670282c5630f51fae3d",
    "execution": {
     "iopub.execute_input": "2022-06-22T14:35:18.666897Z",
     "iopub.status.busy": "2022-06-22T14:35:18.666467Z",
     "iopub.status.idle": "2022-06-22T14:35:18.839597Z",
     "shell.execute_reply": "2022-06-22T14:35:18.838935Z",
     "shell.execute_reply.started": "2022-06-22T14:35:18.666839Z"
    }
   },
   "outputs": [
    {
     "data": {
      "text/plain": [
       "Unnamed: 0     150930\n",
       "country        150930\n",
       "description    150930\n",
       "designation    150930\n",
       "points         150930\n",
       "price          150930\n",
       "province       150930\n",
       "region_1       150930\n",
       "region_2       150930\n",
       "variety        150930\n",
       "winery         150930\n",
       "dtype: int64"
      ]
     },
     "execution_count": 14,
     "metadata": {},
     "output_type": "execute_result"
    }
   ],
   "source": [
    "df_original.isnull().count()"
   ]
  },
  {
   "cell_type": "markdown",
   "metadata": {
    "_uuid": "7e7b76dd57d7e551a7f5221ec0e7d48536146a03"
   },
   "source": [
    "# Exploring with *seaborn* package"
   ]
  },
  {
   "cell_type": "code",
   "execution_count": 15,
   "metadata": {
    "_uuid": "fdb93174dbddbd1bbd4f30aaff8afd515d6aa236",
    "execution": {
     "iopub.execute_input": "2022-06-22T14:35:18.841135Z",
     "iopub.status.busy": "2022-06-22T14:35:18.840719Z",
     "iopub.status.idle": "2022-06-22T14:35:19.856396Z",
     "shell.execute_reply": "2022-06-22T14:35:19.855296Z",
     "shell.execute_reply.started": "2022-06-22T14:35:18.841081Z"
    }
   },
   "outputs": [],
   "source": [
    " import seaborn as sns"
   ]
  },
  {
   "cell_type": "code",
   "execution_count": 16,
   "metadata": {
    "_uuid": "d7735930973d6852c4a75965b5de79035d42335e",
    "execution": {
     "iopub.execute_input": "2022-06-22T14:35:19.859935Z",
     "iopub.status.busy": "2022-06-22T14:35:19.859293Z",
     "iopub.status.idle": "2022-06-22T14:35:20.645296Z",
     "shell.execute_reply": "2022-06-22T14:35:20.644317Z",
     "shell.execute_reply.started": "2022-06-22T14:35:19.859872Z"
    }
   },
   "outputs": [
    {
     "data": {
      "text/plain": [
       "<matplotlib.axes._subplots.AxesSubplot at 0x7f67885ea518>"
      ]
     },
     "execution_count": 16,
     "metadata": {},
     "output_type": "execute_result"
    },
    {
     "data": {
      "image/png": "[encoded data removed]",
      "text/plain": [
       "<Figure size 432x288 with 1 Axes>"
      ]
     },
     "metadata": {},
     "output_type": "display_data"
    }
   ],
   "source": [
    "sns.countplot(df_original['country'])"
   ]
  },
  {
   "cell_type": "code",
   "execution_count": 17,
   "metadata": {
    "_uuid": "d969f96a16279ffe4c3cddb6aad2aff4dcb3dd8b",
    "execution": {
     "iopub.execute_input": "2022-06-22T14:35:20.647717Z",
     "iopub.status.busy": "2022-06-22T14:35:20.647029Z",
     "iopub.status.idle": "2022-06-22T14:35:21.048606Z",
     "shell.execute_reply": "2022-06-22T14:35:21.047529Z",
     "shell.execute_reply.started": "2022-06-22T14:35:20.647653Z"
    }
   },
   "outputs": [
    {
     "data": {
      "text/plain": [
       "<matplotlib.axes._subplots.AxesSubplot at 0x7f6792540e80>"
      ]
     },
     "execution_count": 17,
     "metadata": {},
     "output_type": "execute_result"
    },
    {
     "data": {
      "image/png": "[encoded data removed]",
      "text/plain": [
       "<Figure size 432x288 with 1 Axes>"
      ]
     },
     "metadata": {},
     "output_type": "display_data"
    }
   ],
   "source": [
    "sns.countplot(df_original['province'].head(20))"
   ]
  },
  {
   "cell_type": "code",
   "execution_count": 19,
   "metadata": {
    "_uuid": "61284dc516481d05441e9a980d2c1705a5863b65",
    "execution": {
     "iopub.execute_input": "2022-06-22T14:35:21.365634Z",
     "iopub.status.busy": "2022-06-22T14:35:21.365252Z",
     "iopub.status.idle": "2022-06-22T14:35:21.815972Z",
     "shell.execute_reply": "2022-06-22T14:35:21.814803Z",
     "shell.execute_reply.started": "2022-06-22T14:35:21.365574Z"
    }
   },
   "outputs": [
    {
     "name": "stderr",
     "output_type": "stream",
     "text": [
      "/opt/conda/lib/python3.6/site-packages/scipy/stats/stats.py:1713: FutureWarning: Using a non-tuple sequence for multidimensional indexing is deprecated; use `arr[tuple(seq)]` instead of `arr[seq]`. In the future this will be interpreted as an array index, `arr[np.array(seq)]`, which will result either in an error or a different result.\n",
      "  return np.add.reduce(sorted[indexer] * weights, axis=axis) / sumval\n"
     ]
    },
    {
     "data": {
      "text/plain": [
       "Text(0.5,1,'Price of Wine')"
      ]
     },
     "execution_count": 19,
     "metadata": {},
     "output_type": "execute_result"
    },
    {
     "data": {
      "image/png": "[encoded data removed]",
      "text/plain": [
       "<Figure size 432x288 with 1 Axes>"
      ]
     },
     "metadata": {},
     "output_type": "display_data"
    }
   ],
   "source": [
    "ax = sns.kdeplot(df_original.query('price < 200').price)\n",
    "ax.set_title(\"Price of Wine\")"
   ]
  },
  {
   "cell_type": "markdown",
   "metadata": {
    "_uuid": "55900b6072cbf990d3e2d77bb6485e6cacdd0e67"
   },
   "source": [
    "# Histogram plot in *Seaborn*\n"
   ]
  },
  {
   "cell_type": "code",
   "execution_count": 21,
   "metadata": {
    "_uuid": "c783693aea9946d715532b0651631f0edc30c8e6",
    "execution": {
     "iopub.execute_input": "2022-06-22T14:35:25.927075Z",
     "iopub.status.busy": "2022-06-22T14:35:25.926656Z",
     "iopub.status.idle": "2022-06-22T14:35:26.26248Z",
     "shell.execute_reply": "2022-06-22T14:35:26.261443Z",
     "shell.execute_reply.started": "2022-06-22T14:35:25.92699Z"
    }
   },
   "outputs": [
    {
     "data": {
      "image/png": "[encoded data removed]",
      "text/plain": [
       "<Figure size 432x288 with 1 Axes>"
      ]
     },
     "metadata": {},
     "output_type": "display_data"
    }
   ],
   "source": [
    "ax = sns.distplot(df_original['points'], bins = 20, kde = False)"
   ]
  },
  {
   "cell_type": "code",
   "execution_count": 22,
   "metadata": {
    "_uuid": "e2c334aef754f0708115f316e504e6bae135f407",
    "execution": {
     "iopub.execute_input": "2022-06-22T14:35:26.265118Z",
     "iopub.status.busy": "2022-06-22T14:35:26.26442Z",
     "iopub.status.idle": "2022-06-22T14:35:26.669524Z",
     "shell.execute_reply": "2022-06-22T14:35:26.668692Z",
     "shell.execute_reply.started": "2022-06-22T14:35:26.265052Z"
    }
   },
   "outputs": [
    {
     "data": {
      "text/plain": [
       "<matplotlib.axes._subplots.AxesSubplot at 0x7f677fd211d0>"
      ]
     },
     "execution_count": 22,
     "metadata": {},
     "output_type": "execute_result"
    },
    {
     "data": {
      "image/png": "[encoded data removed]",
      "text/plain": [
       "<Figure size 432x288 with 1 Axes>"
      ]
     },
     "metadata": {},
     "output_type": "display_data"
    }
   ],
   "source": [
    "df1= df_original[df_original.variety.isin(df_original.variety.value_counts().head(5).index)]\n",
    "\n",
    "sns.boxplot(\n",
    "    x = 'variety',\n",
    "    y = 'points',\n",
    "    data = df1\n",
    ")"
   ]
  },
  {
   "cell_type": "markdown",
   "metadata": {
    "_uuid": "9e03725ce376e15a48e2e18574025fb73571ea99"
   },
   "source": [
    "# Facet Grid"
   ]
  },
  {
   "cell_type": "code",
   "execution_count": 23,
   "metadata": {
    "_uuid": "29b2284c7a07755b9eaa339f8fbeab3daa53e6d8",
    "execution": {
     "iopub.execute_input": "2022-06-22T14:35:26.671343Z",
     "iopub.status.busy": "2022-06-22T14:35:26.670853Z",
     "iopub.status.idle": "2022-06-22T14:35:26.726989Z",
     "shell.execute_reply": "2022-06-22T14:35:26.726306Z",
     "shell.execute_reply.started": "2022-06-22T14:35:26.67129Z"
    }
   },
   "outputs": [
    {
     "data": {
      "text/html": [
       "<div>\n",
       "<style scoped>\n",
       "    .dataframe tbody tr th:only-of-type {\n",
       "        vertical-align: middle;\n",
       "    }\n",
       "\n",
       "    .dataframe tbody tr th {\n",
       "        vertical-align: top;\n",
       "    }\n",
       "\n",
       "    .dataframe thead th {\n",
       "        text-align: right;\n",
       "    }\n",
       "</style>\n",
       "<table border=\"1\" class=\"dataframe\">\n",
       "  <thead>\n",
       "    <tr style=\"text-align: right;\">\n",
       "      <th></th>\n",
       "      <th>Unnamed: 0</th>\n",
       "      <th>country</th>\n",
       "      <th>description</th>\n",
       "      <th>designation</th>\n",
       "      <th>points</th>\n",
       "      <th>price</th>\n",
       "      <th>province</th>\n",
       "      <th>region_1</th>\n",
       "      <th>region_2</th>\n",
       "      <th>variety</th>\n",
       "      <th>winery</th>\n",
       "    </tr>\n",
       "  </thead>\n",
       "  <tbody>\n",
       "    <tr>\n",
       "      <th>0</th>\n",
       "      <td>0</td>\n",
       "      <td>US</td>\n",
       "      <td>This tremendous 100% varietal wine hails from ...</td>\n",
       "      <td>Martha's Vineyard</td>\n",
       "      <td>96</td>\n",
       "      <td>235.0</td>\n",
       "      <td>California</td>\n",
       "      <td>Napa Valley</td>\n",
       "      <td>Napa</td>\n",
       "      <td>Cabernet Sauvignon</td>\n",
       "      <td>Heitz</td>\n",
       "    </tr>\n",
       "    <tr>\n",
       "      <th>1</th>\n",
       "      <td>1</td>\n",
       "      <td>Spain</td>\n",
       "      <td>Ripe aromas of fig, blackberry and cassis are ...</td>\n",
       "      <td>Carodorum Selección Especial Reserva</td>\n",
       "      <td>96</td>\n",
       "      <td>110.0</td>\n",
       "      <td>Northern Spain</td>\n",
       "      <td>Toro</td>\n",
       "      <td>NaN</td>\n",
       "      <td>Tinta de Toro</td>\n",
       "      <td>Bodega Carmen Rodríguez</td>\n",
       "    </tr>\n",
       "    <tr>\n",
       "      <th>2</th>\n",
       "      <td>2</td>\n",
       "      <td>US</td>\n",
       "      <td>Mac Watson honors the memory of a wine once ma...</td>\n",
       "      <td>Special Selected Late Harvest</td>\n",
       "      <td>96</td>\n",
       "      <td>90.0</td>\n",
       "      <td>California</td>\n",
       "      <td>Knights Valley</td>\n",
       "      <td>Sonoma</td>\n",
       "      <td>Sauvignon Blanc</td>\n",
       "      <td>Macauley</td>\n",
       "    </tr>\n",
       "    <tr>\n",
       "      <th>3</th>\n",
       "      <td>3</td>\n",
       "      <td>US</td>\n",
       "      <td>This spent 20 months in 30% new French oak, an...</td>\n",
       "      <td>Reserve</td>\n",
       "      <td>96</td>\n",
       "      <td>65.0</td>\n",
       "      <td>Oregon</td>\n",
       "      <td>Willamette Valley</td>\n",
       "      <td>Willamette Valley</td>\n",
       "      <td>Pinot Noir</td>\n",
       "      <td>Ponzi</td>\n",
       "    </tr>\n",
       "    <tr>\n",
       "      <th>4</th>\n",
       "      <td>4</td>\n",
       "      <td>France</td>\n",
       "      <td>This is the top wine from La Bégude, named aft...</td>\n",
       "      <td>La Brûlade</td>\n",
       "      <td>95</td>\n",
       "      <td>66.0</td>\n",
       "      <td>Provence</td>\n",
       "      <td>Bandol</td>\n",
       "      <td>NaN</td>\n",
       "      <td>Provence red blend</td>\n",
       "      <td>Domaine de la Bégude</td>\n",
       "    </tr>\n",
       "  </tbody>\n",
       "</table>\n",
       "</div>"
      ],
      "text/plain": [
       "   Unnamed: 0           ...                              winery\n",
       "0           0           ...                               Heitz\n",
       "1           1           ...             Bodega Carmen Rodríguez\n",
       "2           2           ...                            Macauley\n",
       "3           3           ...                               Ponzi\n",
       "4           4           ...                Domaine de la Bégude\n",
       "\n",
       "[5 rows x 11 columns]"
      ]
     },
     "execution_count": 23,
     "metadata": {},
     "output_type": "execute_result"
    }
   ],
   "source": [
    "df_original.head()"
   ]
  },
  {
   "cell_type": "code",
   "execution_count": 24,
   "metadata": {
    "_uuid": "2fa8a39cb8f047a84f4deb4851531ab00b08a28b",
    "execution": {
     "iopub.execute_input": "2022-06-22T14:35:26.732697Z",
     "iopub.status.busy": "2022-06-22T14:35:26.730811Z",
     "iopub.status.idle": "2022-06-22T14:35:26.76546Z",
     "shell.execute_reply": "2022-06-22T14:35:26.764094Z",
     "shell.execute_reply.started": "2022-06-22T14:35:26.732634Z"
    }
   },
   "outputs": [],
   "source": [
    "#Extract wine scores from two countries US and France\n",
    "df = df_original[df_original['country'].isin(['US','France', 'Canada', 'Spain'])]\n",
    "#g = sns.FacetGrid(df, col = \"country\", col_wrap = 2)"
   ]
  },
  {
   "cell_type": "code",
   "execution_count": 25,
   "metadata": {
    "_uuid": "3bbbe9b1babb503ae53a886cf8f9231e8469fe81",
    "execution": {
     "iopub.execute_input": "2022-06-22T14:35:26.767502Z",
     "iopub.status.busy": "2022-06-22T14:35:26.767142Z",
     "iopub.status.idle": "2022-06-22T14:35:27.710531Z",
     "shell.execute_reply": "2022-06-22T14:35:27.709439Z",
     "shell.execute_reply.started": "2022-06-22T14:35:26.767427Z"
    }
   },
   "outputs": [
    {
     "name": "stderr",
     "output_type": "stream",
     "text": [
      "/opt/conda/lib/python3.6/site-packages/scipy/stats/stats.py:1713: FutureWarning: Using a non-tuple sequence for multidimensional indexing is deprecated; use `arr[tuple(seq)]` instead of `arr[seq]`. In the future this will be interpreted as an array index, `arr[np.array(seq)]`, which will result either in an error or a different result.\n",
      "  return np.add.reduce(sorted[indexer] * weights, axis=axis) / sumval\n"
     ]
    },
    {
     "data": {
      "text/plain": [
       "<seaborn.axisgrid.FacetGrid at 0x7f677fcbd2b0>"
      ]
     },
     "execution_count": 25,
     "metadata": {},
     "output_type": "execute_result"
    },
    {
     "data": {
      "image/png": "[encoded data removed]",
      "text/plain": [
       "<Figure size 432x432 with 4 Axes>"
      ]
     },
     "metadata": {},
     "output_type": "display_data"
    }
   ],
   "source": [
    "g = sns.FacetGrid(df, col = \"country\", col_wrap = 2)\n",
    "g.map(sns.kdeplot, \"price\")"
   ]
  },
  {
   "cell_type": "markdown",
   "metadata": {
    "_uuid": "cbdf54389b31821dd148dc4f7e28e044d2668bfc"
   },
   "source": [
    "# Multi-Variant Plots"
   ]
  },
  {
   "cell_type": "code",
   "execution_count": 28,
   "metadata": {
    "_uuid": "594bc55580d7adc25e36ba4ead17370a00deb52f",
    "execution": {
     "iopub.execute_input": "2022-06-22T14:35:29.648509Z",
     "iopub.status.busy": "2022-06-22T14:35:29.647362Z",
     "iopub.status.idle": "2022-06-22T14:35:29.653355Z",
     "shell.execute_reply": "2022-06-22T14:35:29.652361Z",
     "shell.execute_reply.started": "2022-06-22T14:35:29.648377Z"
    }
   },
   "outputs": [],
   "source": [
    "import re\n",
    "import numpy as np"
   ]
  },
  {
   "cell_type": "code",
   "execution_count": 29,
   "metadata": {
    "_uuid": "456f25056e1da69d43519bc45d6fe749f596c418",
    "execution": {
     "iopub.execute_input": "2022-06-22T14:35:29.65615Z",
     "iopub.status.busy": "2022-06-22T14:35:29.655379Z",
     "iopub.status.idle": "2022-06-22T14:35:29.887835Z",
     "shell.execute_reply": "2022-06-22T14:35:29.88676Z",
     "shell.execute_reply.started": "2022-06-22T14:35:29.656046Z"
    }
   },
   "outputs": [],
   "source": [
    "df_housing = pd.read_csv(\"../input/melbourne-housing-market/Melbourne_housing_FULL.csv\")"
   ]
  },
  {
   "cell_type": "code",
   "execution_count": 30,
   "metadata": {
    "_uuid": "720b4f0d8d7759fb2fb167a3b980f4d99d5afc76",
    "execution": {
     "iopub.execute_input": "2022-06-22T14:35:29.88985Z",
     "iopub.status.busy": "2022-06-22T14:35:29.889344Z",
     "iopub.status.idle": "2022-06-22T14:35:29.94149Z",
     "shell.execute_reply": "2022-06-22T14:35:29.940318Z",
     "shell.execute_reply.started": "2022-06-22T14:35:29.889636Z"
    }
   },
   "outputs": [
    {
     "data": {
      "text/html": [
       "<div>\n",
       "<style scoped>\n",
       "    .dataframe tbody tr th:only-of-type {\n",
       "        vertical-align: middle;\n",
       "    }\n",
       "\n",
       "    .dataframe tbody tr th {\n",
       "        vertical-align: top;\n",
       "    }\n",
       "\n",
       "    .dataframe thead th {\n",
       "        text-align: right;\n",
       "    }\n",
       "</style>\n",
       "<table border=\"1\" class=\"dataframe\">\n",
       "  <thead>\n",
       "    <tr style=\"text-align: right;\">\n",
       "      <th></th>\n",
       "      <th>Suburb</th>\n",
       "      <th>Address</th>\n",
       "      <th>Rooms</th>\n",
       "      <th>Type</th>\n",
       "      <th>Price</th>\n",
       "      <th>Method</th>\n",
       "      <th>SellerG</th>\n",
       "      <th>Date</th>\n",
       "      <th>Distance</th>\n",
       "      <th>Postcode</th>\n",
       "      <th>Bedroom2</th>\n",
       "      <th>Bathroom</th>\n",
       "      <th>Car</th>\n",
       "      <th>Landsize</th>\n",
       "      <th>BuildingArea</th>\n",
       "      <th>YearBuilt</th>\n",
       "      <th>CouncilArea</th>\n",
       "      <th>Lattitude</th>\n",
       "      <th>Longtitude</th>\n",
       "      <th>Regionname</th>\n",
       "      <th>Propertycount</th>\n",
       "    </tr>\n",
       "  </thead>\n",
       "  <tbody>\n",
       "    <tr>\n",
       "      <th>0</th>\n",
       "      <td>Abbotsford</td>\n",
       "      <td>68 Studley St</td>\n",
       "      <td>2</td>\n",
       "      <td>h</td>\n",
       "      <td>NaN</td>\n",
       "      <td>SS</td>\n",
       "      <td>Jellis</td>\n",
       "      <td>3/09/2016</td>\n",
       "      <td>2.5</td>\n",
       "      <td>3067.0</td>\n",
       "      <td>2.0</td>\n",
       "      <td>1.0</td>\n",
       "      <td>1.0</td>\n",
       "      <td>126.0</td>\n",
       "      <td>NaN</td>\n",
       "      <td>NaN</td>\n",
       "      <td>Yarra City Council</td>\n",
       "      <td>-37.8014</td>\n",
       "      <td>144.9958</td>\n",
       "      <td>Northern Metropolitan</td>\n",
       "      <td>4019.0</td>\n",
       "    </tr>\n",
       "    <tr>\n",
       "      <th>1</th>\n",
       "      <td>Abbotsford</td>\n",
       "      <td>85 Turner St</td>\n",
       "      <td>2</td>\n",
       "      <td>h</td>\n",
       "      <td>1480000.0</td>\n",
       "      <td>S</td>\n",
       "      <td>Biggin</td>\n",
       "      <td>3/12/2016</td>\n",
       "      <td>2.5</td>\n",
       "      <td>3067.0</td>\n",
       "      <td>2.0</td>\n",
       "      <td>1.0</td>\n",
       "      <td>1.0</td>\n",
       "      <td>202.0</td>\n",
       "      <td>NaN</td>\n",
       "      <td>NaN</td>\n",
       "      <td>Yarra City Council</td>\n",
       "      <td>-37.7996</td>\n",
       "      <td>144.9984</td>\n",
       "      <td>Northern Metropolitan</td>\n",
       "      <td>4019.0</td>\n",
       "    </tr>\n",
       "    <tr>\n",
       "      <th>2</th>\n",
       "      <td>Abbotsford</td>\n",
       "      <td>25 Bloomburg St</td>\n",
       "      <td>2</td>\n",
       "      <td>h</td>\n",
       "      <td>1035000.0</td>\n",
       "      <td>S</td>\n",
       "      <td>Biggin</td>\n",
       "      <td>4/02/2016</td>\n",
       "      <td>2.5</td>\n",
       "      <td>3067.0</td>\n",
       "      <td>2.0</td>\n",
       "      <td>1.0</td>\n",
       "      <td>0.0</td>\n",
       "      <td>156.0</td>\n",
       "      <td>79.0</td>\n",
       "      <td>1900.0</td>\n",
       "      <td>Yarra City Council</td>\n",
       "      <td>-37.8079</td>\n",
       "      <td>144.9934</td>\n",
       "      <td>Northern Metropolitan</td>\n",
       "      <td>4019.0</td>\n",
       "    </tr>\n",
       "  </tbody>\n",
       "</table>\n",
       "</div>"
      ],
      "text/plain": [
       "       Suburb      ...      Propertycount\n",
       "0  Abbotsford      ...             4019.0\n",
       "1  Abbotsford      ...             4019.0\n",
       "2  Abbotsford      ...             4019.0\n",
       "\n",
       "[3 rows x 21 columns]"
      ]
     },
     "execution_count": 30,
     "metadata": {},
     "output_type": "execute_result"
    }
   ],
   "source": [
    "df_housing.head(3)"
   ]
  },
  {
   "cell_type": "code",
   "execution_count": 31,
   "metadata": {
    "_uuid": "7a88a36a17308f64fb80834cc51a330ca6aee5ca",
    "execution": {
     "iopub.execute_input": "2022-06-22T14:35:29.943405Z",
     "iopub.status.busy": "2022-06-22T14:35:29.943056Z",
     "iopub.status.idle": "2022-06-22T14:35:29.994503Z",
     "shell.execute_reply": "2022-06-22T14:35:29.993733Z",
     "shell.execute_reply.started": "2022-06-22T14:35:29.943348Z"
    }
   },
   "outputs": [],
   "source": [
    "df_tmp = df_housing.dropna(how='any',axis=0) "
   ]
  },
  {
   "cell_type": "code",
   "execution_count": 32,
   "metadata": {
    "_uuid": "54eca5c6ed7dde2e9b1d1747d24840c02fc564cc",
    "execution": {
     "iopub.execute_input": "2022-06-22T14:35:29.995879Z",
     "iopub.status.busy": "2022-06-22T14:35:29.995535Z",
     "iopub.status.idle": "2022-06-22T14:35:30.049779Z",
     "shell.execute_reply": "2022-06-22T14:35:30.04905Z",
     "shell.execute_reply.started": "2022-06-22T14:35:29.99584Z"
    }
   },
   "outputs": [
    {
     "data": {
      "text/html": [
       "<div>\n",
       "<style scoped>\n",
       "    .dataframe tbody tr th:only-of-type {\n",
       "        vertical-align: middle;\n",
       "    }\n",
       "\n",
       "    .dataframe tbody tr th {\n",
       "        vertical-align: top;\n",
       "    }\n",
       "\n",
       "    .dataframe thead th {\n",
       "        text-align: right;\n",
       "    }\n",
       "</style>\n",
       "<table border=\"1\" class=\"dataframe\">\n",
       "  <thead>\n",
       "    <tr style=\"text-align: right;\">\n",
       "      <th></th>\n",
       "      <th>Suburb</th>\n",
       "      <th>Address</th>\n",
       "      <th>Rooms</th>\n",
       "      <th>Type</th>\n",
       "      <th>Price</th>\n",
       "      <th>Method</th>\n",
       "      <th>SellerG</th>\n",
       "      <th>Date</th>\n",
       "      <th>Distance</th>\n",
       "      <th>Postcode</th>\n",
       "      <th>Bedroom2</th>\n",
       "      <th>Bathroom</th>\n",
       "      <th>Car</th>\n",
       "      <th>Landsize</th>\n",
       "      <th>BuildingArea</th>\n",
       "      <th>YearBuilt</th>\n",
       "      <th>CouncilArea</th>\n",
       "      <th>Lattitude</th>\n",
       "      <th>Longtitude</th>\n",
       "      <th>Regionname</th>\n",
       "      <th>Propertycount</th>\n",
       "    </tr>\n",
       "  </thead>\n",
       "  <tbody>\n",
       "    <tr>\n",
       "      <th>2</th>\n",
       "      <td>Abbotsford</td>\n",
       "      <td>25 Bloomburg St</td>\n",
       "      <td>2</td>\n",
       "      <td>h</td>\n",
       "      <td>1035000.0</td>\n",
       "      <td>S</td>\n",
       "      <td>Biggin</td>\n",
       "      <td>4/02/2016</td>\n",
       "      <td>2.5</td>\n",
       "      <td>3067.0</td>\n",
       "      <td>2.0</td>\n",
       "      <td>1.0</td>\n",
       "      <td>0.0</td>\n",
       "      <td>156.0</td>\n",
       "      <td>79.0</td>\n",
       "      <td>1900.0</td>\n",
       "      <td>Yarra City Council</td>\n",
       "      <td>-37.8079</td>\n",
       "      <td>144.9934</td>\n",
       "      <td>Northern Metropolitan</td>\n",
       "      <td>4019.0</td>\n",
       "    </tr>\n",
       "    <tr>\n",
       "      <th>4</th>\n",
       "      <td>Abbotsford</td>\n",
       "      <td>5 Charles St</td>\n",
       "      <td>3</td>\n",
       "      <td>h</td>\n",
       "      <td>1465000.0</td>\n",
       "      <td>SP</td>\n",
       "      <td>Biggin</td>\n",
       "      <td>4/03/2017</td>\n",
       "      <td>2.5</td>\n",
       "      <td>3067.0</td>\n",
       "      <td>3.0</td>\n",
       "      <td>2.0</td>\n",
       "      <td>0.0</td>\n",
       "      <td>134.0</td>\n",
       "      <td>150.0</td>\n",
       "      <td>1900.0</td>\n",
       "      <td>Yarra City Council</td>\n",
       "      <td>-37.8093</td>\n",
       "      <td>144.9944</td>\n",
       "      <td>Northern Metropolitan</td>\n",
       "      <td>4019.0</td>\n",
       "    </tr>\n",
       "    <tr>\n",
       "      <th>6</th>\n",
       "      <td>Abbotsford</td>\n",
       "      <td>55a Park St</td>\n",
       "      <td>4</td>\n",
       "      <td>h</td>\n",
       "      <td>1600000.0</td>\n",
       "      <td>VB</td>\n",
       "      <td>Nelson</td>\n",
       "      <td>4/06/2016</td>\n",
       "      <td>2.5</td>\n",
       "      <td>3067.0</td>\n",
       "      <td>3.0</td>\n",
       "      <td>1.0</td>\n",
       "      <td>2.0</td>\n",
       "      <td>120.0</td>\n",
       "      <td>142.0</td>\n",
       "      <td>2014.0</td>\n",
       "      <td>Yarra City Council</td>\n",
       "      <td>-37.8072</td>\n",
       "      <td>144.9941</td>\n",
       "      <td>Northern Metropolitan</td>\n",
       "      <td>4019.0</td>\n",
       "    </tr>\n",
       "    <tr>\n",
       "      <th>11</th>\n",
       "      <td>Abbotsford</td>\n",
       "      <td>124 Yarra St</td>\n",
       "      <td>3</td>\n",
       "      <td>h</td>\n",
       "      <td>1876000.0</td>\n",
       "      <td>S</td>\n",
       "      <td>Nelson</td>\n",
       "      <td>7/05/2016</td>\n",
       "      <td>2.5</td>\n",
       "      <td>3067.0</td>\n",
       "      <td>4.0</td>\n",
       "      <td>2.0</td>\n",
       "      <td>0.0</td>\n",
       "      <td>245.0</td>\n",
       "      <td>210.0</td>\n",
       "      <td>1910.0</td>\n",
       "      <td>Yarra City Council</td>\n",
       "      <td>-37.8024</td>\n",
       "      <td>144.9993</td>\n",
       "      <td>Northern Metropolitan</td>\n",
       "      <td>4019.0</td>\n",
       "    </tr>\n",
       "    <tr>\n",
       "      <th>14</th>\n",
       "      <td>Abbotsford</td>\n",
       "      <td>98 Charles St</td>\n",
       "      <td>2</td>\n",
       "      <td>h</td>\n",
       "      <td>1636000.0</td>\n",
       "      <td>S</td>\n",
       "      <td>Nelson</td>\n",
       "      <td>8/10/2016</td>\n",
       "      <td>2.5</td>\n",
       "      <td>3067.0</td>\n",
       "      <td>2.0</td>\n",
       "      <td>1.0</td>\n",
       "      <td>2.0</td>\n",
       "      <td>256.0</td>\n",
       "      <td>107.0</td>\n",
       "      <td>1890.0</td>\n",
       "      <td>Yarra City Council</td>\n",
       "      <td>-37.8060</td>\n",
       "      <td>144.9954</td>\n",
       "      <td>Northern Metropolitan</td>\n",
       "      <td>4019.0</td>\n",
       "    </tr>\n",
       "  </tbody>\n",
       "</table>\n",
       "</div>"
      ],
      "text/plain": [
       "        Suburb      ...      Propertycount\n",
       "2   Abbotsford      ...             4019.0\n",
       "4   Abbotsford      ...             4019.0\n",
       "6   Abbotsford      ...             4019.0\n",
       "11  Abbotsford      ...             4019.0\n",
       "14  Abbotsford      ...             4019.0\n",
       "\n",
       "[5 rows x 21 columns]"
      ]
     },
     "execution_count": 32,
     "metadata": {},
     "output_type": "execute_result"
    }
   ],
   "source": [
    "df_tmp.head()"
   ]
  },
  {
   "cell_type": "code",
   "execution_count": 33,
   "metadata": {
    "_uuid": "d11ffaccb861909c84daddd4dabe13b98879ac98",
    "execution": {
     "iopub.execute_input": "2022-06-22T14:35:30.05127Z",
     "iopub.status.busy": "2022-06-22T14:35:30.050948Z",
     "iopub.status.idle": "2022-06-22T14:35:30.210973Z",
     "shell.execute_reply": "2022-06-22T14:35:30.209683Z",
     "shell.execute_reply.started": "2022-06-22T14:35:30.051209Z"
    }
   },
   "outputs": [
    {
     "data": {
      "text/html": [
       "<div>\n",
       "<style scoped>\n",
       "    .dataframe tbody tr th:only-of-type {\n",
       "        vertical-align: middle;\n",
       "    }\n",
       "\n",
       "    .dataframe tbody tr th {\n",
       "        vertical-align: top;\n",
       "    }\n",
       "\n",
       "    .dataframe thead th {\n",
       "        text-align: right;\n",
       "    }\n",
       "</style>\n",
       "<table border=\"1\" class=\"dataframe\">\n",
       "  <thead>\n",
       "    <tr style=\"text-align: right;\">\n",
       "      <th></th>\n",
       "      <th>Price</th>\n",
       "      <th>Distance</th>\n",
       "      <th>Rooms</th>\n",
       "      <th>Postcode</th>\n",
       "      <th>Bedroom2</th>\n",
       "      <th>Bathroom</th>\n",
       "    </tr>\n",
       "  </thead>\n",
       "  <tbody>\n",
       "    <tr>\n",
       "      <th>2</th>\n",
       "      <td>1035000.0</td>\n",
       "      <td>2.5</td>\n",
       "      <td>2</td>\n",
       "      <td>3067.0</td>\n",
       "      <td>2.0</td>\n",
       "      <td>1.0</td>\n",
       "    </tr>\n",
       "    <tr>\n",
       "      <th>4</th>\n",
       "      <td>1465000.0</td>\n",
       "      <td>2.5</td>\n",
       "      <td>3</td>\n",
       "      <td>3067.0</td>\n",
       "      <td>3.0</td>\n",
       "      <td>2.0</td>\n",
       "    </tr>\n",
       "    <tr>\n",
       "      <th>6</th>\n",
       "      <td>1600000.0</td>\n",
       "      <td>2.5</td>\n",
       "      <td>4</td>\n",
       "      <td>3067.0</td>\n",
       "      <td>3.0</td>\n",
       "      <td>1.0</td>\n",
       "    </tr>\n",
       "    <tr>\n",
       "      <th>11</th>\n",
       "      <td>1876000.0</td>\n",
       "      <td>2.5</td>\n",
       "      <td>3</td>\n",
       "      <td>3067.0</td>\n",
       "      <td>4.0</td>\n",
       "      <td>2.0</td>\n",
       "    </tr>\n",
       "    <tr>\n",
       "      <th>14</th>\n",
       "      <td>1636000.0</td>\n",
       "      <td>2.5</td>\n",
       "      <td>2</td>\n",
       "      <td>3067.0</td>\n",
       "      <td>2.0</td>\n",
       "      <td>1.0</td>\n",
       "    </tr>\n",
       "  </tbody>\n",
       "</table>\n",
       "</div>"
      ],
      "text/plain": [
       "        Price  Distance  Rooms  Postcode  Bedroom2  Bathroom\n",
       "2   1035000.0       2.5      2    3067.0       2.0       1.0\n",
       "4   1465000.0       2.5      3    3067.0       3.0       2.0\n",
       "6   1600000.0       2.5      4    3067.0       3.0       1.0\n",
       "11  1876000.0       2.5      3    3067.0       4.0       2.0\n",
       "14  1636000.0       2.5      2    3067.0       2.0       1.0"
      ]
     },
     "execution_count": 33,
     "metadata": {},
     "output_type": "execute_result"
    }
   ],
   "source": [
    "df_tmp2 = df_tmp[['Price', 'Distance', 'Rooms', 'Postcode', 'Bedroom2', 'Bathroom']]\n",
    "df_tmp2.head()"
   ]
  },
  {
   "cell_type": "markdown",
   "metadata": {
    "_uuid": "d6656faf84df3a0dcce4c7133cb13465ffa4c962"
   },
   "source": [
    "# Heat Map\n"
   ]
  },
  {
   "cell_type": "code",
   "execution_count": 43,
   "metadata": {
    "_uuid": "1a8e67582f4e133015834339e55331eb23ddb8e9",
    "execution": {
     "iopub.execute_input": "2022-06-22T14:35:48.49823Z",
     "iopub.status.busy": "2022-06-22T14:35:48.497559Z",
     "iopub.status.idle": "2022-06-22T14:35:48.731756Z",
     "shell.execute_reply": "2022-06-22T14:35:48.731002Z",
     "shell.execute_reply.started": "2022-06-22T14:35:48.498155Z"
    }
   },
   "outputs": [
    {
     "data": {
      "text/plain": [
       "<matplotlib.axes._subplots.AxesSubplot at 0x7f677cceeda0>"
      ]
     },
     "execution_count": 43,
     "metadata": {},
     "output_type": "execute_result"
    },
    {
     "data": {
      "image/png": "[encoded data removed]",
      "text/plain": [
       "<Figure size 432x288 with 2 Axes>"
      ]
     },
     "metadata": {},
     "output_type": "display_data"
    }
   ],
   "source": [
    "realation = df_tmp2.corr()\n",
    "sns.heatmap(realation)"
   ]
  },
  {
   "cell_type": "code",
   "execution_count": 44,
   "metadata": {
    "_uuid": "e5e2016cfa25438e79ed5f22919530693b8bb831",
    "execution": {
     "iopub.execute_input": "2022-06-22T14:35:48.733979Z",
     "iopub.status.busy": "2022-06-22T14:35:48.733342Z",
     "iopub.status.idle": "2022-06-22T14:35:49.094445Z",
     "shell.execute_reply": "2022-06-22T14:35:49.093501Z",
     "shell.execute_reply.started": "2022-06-22T14:35:48.733918Z"
    }
   },
   "outputs": [
    {
     "data": {
      "text/plain": [
       "<matplotlib.axes._subplots.AxesSubplot at 0x7f677caa49b0>"
      ]
     },
     "execution_count": 44,
     "metadata": {},
     "output_type": "execute_result"
    },
    {
     "data": {
      "image/png": "[encoded data removed]",
      "text/plain": [
       "<Figure size 432x288 with 2 Axes>"
      ]
     },
     "metadata": {},
     "output_type": "display_data"
    }
   ],
   "source": [
    "sns.heatmap(realation, annot = True)"
   ]
  }
 ],
 "metadata": {
  "kernelspec": {
   "display_name": "Python 3",
   "language": "python",
   "name": "python3"
  },
  "language_info": {
   "codemirror_mode": {
    "name": "ipython",
    "version": 3
   },
   "file_extension": ".py",
   "mimetype": "text/x-python",
   "name": "python",
   "nbconvert_exporter": "python",
   "pygments_lexer": "ipython3",
   "version": "3.9.13"
  }
 },
 "nbformat": 4,
 "nbformat_minor": 4
}
