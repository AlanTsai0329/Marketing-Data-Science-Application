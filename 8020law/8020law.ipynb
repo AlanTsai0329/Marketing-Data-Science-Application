{
 "metadata": {
  "language_info": {
   "codemirror_mode": {
    "name": "ipython",
    "version": 3
   },
   "file_extension": ".py",
   "mimetype": "text/x-python",
   "name": "python",
   "nbconvert_exporter": "python",
   "pygments_lexer": "ipython3",
   "version": "3.8.5"
  },
  "orig_nbformat": 2,
  "kernelspec": {
   "name": "python385jvsc74a57bd0aee8b7b246df8f9039afb4144a1f6fd8d2ca17a180786b69acc140d282b71a49",
   "display_name": "Python 3.8.5 64-bit"
  },
  "metadata": {
   "interpreter": {
    "hash": "aee8b7b246df8f9039afb4144a1f6fd8d2ca17a180786b69acc140d282b71a49"
   }
  }
 },
 "nbformat": 4,
 "nbformat_minor": 2,
 "cells": [
  {
   "cell_type": "code",
   "execution_count": 4,
   "metadata": {},
   "outputs": [],
   "source": [
    "import plotly.tools as tls\n",
    "import plotly.graph_objs as go\n",
    "from plotly.offline import download_plotlyjs, init_notebook_mode, plot, iplot\n",
    "import plotly.express as px\n",
    "import pandas as pd\n"
   ]
  },
  {
   "cell_type": "code",
   "execution_count": 5,
   "metadata": {},
   "outputs": [],
   "source": [
    "all_data = pd.read_csv('new_salesdata.csv',encoding= 'utf-8-sig')\n",
    "all_data = all_data.drop(['Unnamed: 0'],axis =1)\n",
    "all_data = all_data.drop(['Unnamed: 0.1'],axis =1)"
   ]
  },
  {
   "cell_type": "code",
   "execution_count": 22,
   "metadata": {},
   "outputs": [
    {
     "output_type": "execute_result",
     "data": {
      "text/plain": [
       "              顏色        單價       成本   系列     產品                 訂單時間  \\\n",
       "0            NaN   643.195  394.800  系列4  產品4-1  2016-01-01T03:19:35   \n",
       "1            NaN   391.510  225.365  系列4  產品4-2  2016-01-01T03:19:35   \n",
       "2  watermelonred   713.930  416.185  系列4  產品4-3  2016-01-01T03:19:35   \n",
       "3            NaN   557.655  337.225  系列4  產品4-4  2016-01-01T03:19:35   \n",
       "4          white   628.390  366.835  系列4  產品4-3  2016-01-01T03:19:35   \n",
       "5       navyblue   713.930  416.185  系列4  產品4-3  2016-01-01T03:19:35   \n",
       "6            NaN  1062.670  674.450  系列4  產品4-5  2016-01-01T03:19:35   \n",
       "7           gray  1044.575  806.050  系列4  產品4-6  2016-01-01T05:53:09   \n",
       "8          black   713.930  416.185  系列4  產品4-3  2016-01-01T05:53:09   \n",
       "9           gray  1044.575  806.050  系列4  產品4-6  2016-01-01T05:53:09   \n",
       "\n",
       "            會員      性別    年紀     廣告代號all 尺寸  \n",
       "0  B_GSJ_06674  FEMALE  32.0  廣告_YND_pid  無  \n",
       "1  B_GSJ_06674  FEMALE  32.0  廣告_YND_pid  無  \n",
       "2  B_GSJ_06674  FEMALE  32.0  廣告_YND_pid  S  \n",
       "3  B_GSJ_06674  FEMALE  32.0  廣告_YND_pid  無  \n",
       "4  B_GSJ_06674  FEMALE  32.0  廣告_YND_pid  S  \n",
       "5  B_GSJ_06674  FEMALE  32.0  廣告_YND_pid  S  \n",
       "6  B_GSJ_06674  FEMALE  32.0  廣告_YND_pid  無  \n",
       "7  L_CBY_03808  FEMALE  32.0     廣告_自然流量  M  \n",
       "8  L_CBY_03808  FEMALE  32.0     廣告_自然流量  M  \n",
       "9  L_CBY_03808  FEMALE  32.0     廣告_自然流量  M  "
      ],
      "text/html": "<div>\n<style scoped>\n    .dataframe tbody tr th:only-of-type {\n        vertical-align: middle;\n    }\n\n    .dataframe tbody tr th {\n        vertical-align: top;\n    }\n\n    .dataframe thead th {\n        text-align: right;\n    }\n</style>\n<table border=\"1\" class=\"dataframe\">\n  <thead>\n    <tr style=\"text-align: right;\">\n      <th></th>\n      <th>顏色</th>\n      <th>單價</th>\n      <th>成本</th>\n      <th>系列</th>\n      <th>產品</th>\n      <th>訂單時間</th>\n      <th>會員</th>\n      <th>性別</th>\n      <th>年紀</th>\n      <th>廣告代號all</th>\n      <th>尺寸</th>\n    </tr>\n  </thead>\n  <tbody>\n    <tr>\n      <th>0</th>\n      <td>NaN</td>\n      <td>643.195</td>\n      <td>394.800</td>\n      <td>系列4</td>\n      <td>產品4-1</td>\n      <td>2016-01-01T03:19:35</td>\n      <td>B_GSJ_06674</td>\n      <td>FEMALE</td>\n      <td>32.0</td>\n      <td>廣告_YND_pid</td>\n      <td>無</td>\n    </tr>\n    <tr>\n      <th>1</th>\n      <td>NaN</td>\n      <td>391.510</td>\n      <td>225.365</td>\n      <td>系列4</td>\n      <td>產品4-2</td>\n      <td>2016-01-01T03:19:35</td>\n      <td>B_GSJ_06674</td>\n      <td>FEMALE</td>\n      <td>32.0</td>\n      <td>廣告_YND_pid</td>\n      <td>無</td>\n    </tr>\n    <tr>\n      <th>2</th>\n      <td>watermelonred</td>\n      <td>713.930</td>\n      <td>416.185</td>\n      <td>系列4</td>\n      <td>產品4-3</td>\n      <td>2016-01-01T03:19:35</td>\n      <td>B_GSJ_06674</td>\n      <td>FEMALE</td>\n      <td>32.0</td>\n      <td>廣告_YND_pid</td>\n      <td>S</td>\n    </tr>\n    <tr>\n      <th>3</th>\n      <td>NaN</td>\n      <td>557.655</td>\n      <td>337.225</td>\n      <td>系列4</td>\n      <td>產品4-4</td>\n      <td>2016-01-01T03:19:35</td>\n      <td>B_GSJ_06674</td>\n      <td>FEMALE</td>\n      <td>32.0</td>\n      <td>廣告_YND_pid</td>\n      <td>無</td>\n    </tr>\n    <tr>\n      <th>4</th>\n      <td>white</td>\n      <td>628.390</td>\n      <td>366.835</td>\n      <td>系列4</td>\n      <td>產品4-3</td>\n      <td>2016-01-01T03:19:35</td>\n      <td>B_GSJ_06674</td>\n      <td>FEMALE</td>\n      <td>32.0</td>\n      <td>廣告_YND_pid</td>\n      <td>S</td>\n    </tr>\n    <tr>\n      <th>5</th>\n      <td>navyblue</td>\n      <td>713.930</td>\n      <td>416.185</td>\n      <td>系列4</td>\n      <td>產品4-3</td>\n      <td>2016-01-01T03:19:35</td>\n      <td>B_GSJ_06674</td>\n      <td>FEMALE</td>\n      <td>32.0</td>\n      <td>廣告_YND_pid</td>\n      <td>S</td>\n    </tr>\n    <tr>\n      <th>6</th>\n      <td>NaN</td>\n      <td>1062.670</td>\n      <td>674.450</td>\n      <td>系列4</td>\n      <td>產品4-5</td>\n      <td>2016-01-01T03:19:35</td>\n      <td>B_GSJ_06674</td>\n      <td>FEMALE</td>\n      <td>32.0</td>\n      <td>廣告_YND_pid</td>\n      <td>無</td>\n    </tr>\n    <tr>\n      <th>7</th>\n      <td>gray</td>\n      <td>1044.575</td>\n      <td>806.050</td>\n      <td>系列4</td>\n      <td>產品4-6</td>\n      <td>2016-01-01T05:53:09</td>\n      <td>L_CBY_03808</td>\n      <td>FEMALE</td>\n      <td>32.0</td>\n      <td>廣告_自然流量</td>\n      <td>M</td>\n    </tr>\n    <tr>\n      <th>8</th>\n      <td>black</td>\n      <td>713.930</td>\n      <td>416.185</td>\n      <td>系列4</td>\n      <td>產品4-3</td>\n      <td>2016-01-01T05:53:09</td>\n      <td>L_CBY_03808</td>\n      <td>FEMALE</td>\n      <td>32.0</td>\n      <td>廣告_自然流量</td>\n      <td>M</td>\n    </tr>\n    <tr>\n      <th>9</th>\n      <td>gray</td>\n      <td>1044.575</td>\n      <td>806.050</td>\n      <td>系列4</td>\n      <td>產品4-6</td>\n      <td>2016-01-01T05:53:09</td>\n      <td>L_CBY_03808</td>\n      <td>FEMALE</td>\n      <td>32.0</td>\n      <td>廣告_自然流量</td>\n      <td>M</td>\n    </tr>\n  </tbody>\n</table>\n</div>"
     },
     "metadata": {},
     "execution_count": 22
    }
   ],
   "source": [
    "all_data.head(10)"
   ]
  },
  {
   "source": [
    "# 找出總共有幾個不同系列\n",
    "print('總共有',len(all_data['系列'].unique()),'種不同系列')\n",
    "# 找出總共有幾個不同產品\n",
    "print('總共有',len(all_data['產品'].unique()),'種不同產品')"
   ],
   "cell_type": "code",
   "metadata": {},
   "execution_count": 7,
   "outputs": [
    {
     "output_type": "stream",
     "name": "stdout",
     "text": [
      "總共有 1051 種不同系列\n總共有 8076 種不同產品\n"
     ]
    }
   ]
  },
  {
   "cell_type": "code",
   "execution_count": 4,
   "metadata": {},
   "outputs": [
    {
     "output_type": "execute_result",
     "data": {
      "text/plain": [
       "8076"
      ]
     },
     "metadata": {},
     "execution_count": 4
    }
   ],
   "source": [
    "\n"
   ]
  },
  {
   "cell_type": "code",
   "execution_count": 24,
   "metadata": {},
   "outputs": [],
   "source": [
    "# 計算利潤，利潤 = 單價 - 成本\n",
    "all_data['利潤'] = all_data['單價'] - all_data['成本']"
   ]
  },
  {
   "cell_type": "code",
   "execution_count": 25,
   "metadata": {},
   "outputs": [
    {
     "output_type": "execute_result",
     "data": {
      "text/plain": [
       "              顏色        單價       成本   系列     產品                 訂單時間  \\\n",
       "0            NaN   643.195  394.800  系列4  產品4-1  2016-01-01T03:19:35   \n",
       "1            NaN   391.510  225.365  系列4  產品4-2  2016-01-01T03:19:35   \n",
       "2  watermelonred   713.930  416.185  系列4  產品4-3  2016-01-01T03:19:35   \n",
       "3            NaN   557.655  337.225  系列4  產品4-4  2016-01-01T03:19:35   \n",
       "4          white   628.390  366.835  系列4  產品4-3  2016-01-01T03:19:35   \n",
       "5       navyblue   713.930  416.185  系列4  產品4-3  2016-01-01T03:19:35   \n",
       "6            NaN  1062.670  674.450  系列4  產品4-5  2016-01-01T03:19:35   \n",
       "7           gray  1044.575  806.050  系列4  產品4-6  2016-01-01T05:53:09   \n",
       "8          black   713.930  416.185  系列4  產品4-3  2016-01-01T05:53:09   \n",
       "9           gray  1044.575  806.050  系列4  產品4-6  2016-01-01T05:53:09   \n",
       "\n",
       "            會員      性別    年紀     廣告代號all 尺寸       利潤  \n",
       "0  B_GSJ_06674  FEMALE  32.0  廣告_YND_pid  無  248.395  \n",
       "1  B_GSJ_06674  FEMALE  32.0  廣告_YND_pid  無  166.145  \n",
       "2  B_GSJ_06674  FEMALE  32.0  廣告_YND_pid  S  297.745  \n",
       "3  B_GSJ_06674  FEMALE  32.0  廣告_YND_pid  無  220.430  \n",
       "4  B_GSJ_06674  FEMALE  32.0  廣告_YND_pid  S  261.555  \n",
       "5  B_GSJ_06674  FEMALE  32.0  廣告_YND_pid  S  297.745  \n",
       "6  B_GSJ_06674  FEMALE  32.0  廣告_YND_pid  無  388.220  \n",
       "7  L_CBY_03808  FEMALE  32.0     廣告_自然流量  M  238.525  \n",
       "8  L_CBY_03808  FEMALE  32.0     廣告_自然流量  M  297.745  \n",
       "9  L_CBY_03808  FEMALE  32.0     廣告_自然流量  M  238.525  "
      ],
      "text/html": "<div>\n<style scoped>\n    .dataframe tbody tr th:only-of-type {\n        vertical-align: middle;\n    }\n\n    .dataframe tbody tr th {\n        vertical-align: top;\n    }\n\n    .dataframe thead th {\n        text-align: right;\n    }\n</style>\n<table border=\"1\" class=\"dataframe\">\n  <thead>\n    <tr style=\"text-align: right;\">\n      <th></th>\n      <th>顏色</th>\n      <th>單價</th>\n      <th>成本</th>\n      <th>系列</th>\n      <th>產品</th>\n      <th>訂單時間</th>\n      <th>會員</th>\n      <th>性別</th>\n      <th>年紀</th>\n      <th>廣告代號all</th>\n      <th>尺寸</th>\n      <th>利潤</th>\n    </tr>\n  </thead>\n  <tbody>\n    <tr>\n      <th>0</th>\n      <td>NaN</td>\n      <td>643.195</td>\n      <td>394.800</td>\n      <td>系列4</td>\n      <td>產品4-1</td>\n      <td>2016-01-01T03:19:35</td>\n      <td>B_GSJ_06674</td>\n      <td>FEMALE</td>\n      <td>32.0</td>\n      <td>廣告_YND_pid</td>\n      <td>無</td>\n      <td>248.395</td>\n    </tr>\n    <tr>\n      <th>1</th>\n      <td>NaN</td>\n      <td>391.510</td>\n      <td>225.365</td>\n      <td>系列4</td>\n      <td>產品4-2</td>\n      <td>2016-01-01T03:19:35</td>\n      <td>B_GSJ_06674</td>\n      <td>FEMALE</td>\n      <td>32.0</td>\n      <td>廣告_YND_pid</td>\n      <td>無</td>\n      <td>166.145</td>\n    </tr>\n    <tr>\n      <th>2</th>\n      <td>watermelonred</td>\n      <td>713.930</td>\n      <td>416.185</td>\n      <td>系列4</td>\n      <td>產品4-3</td>\n      <td>2016-01-01T03:19:35</td>\n      <td>B_GSJ_06674</td>\n      <td>FEMALE</td>\n      <td>32.0</td>\n      <td>廣告_YND_pid</td>\n      <td>S</td>\n      <td>297.745</td>\n    </tr>\n    <tr>\n      <th>3</th>\n      <td>NaN</td>\n      <td>557.655</td>\n      <td>337.225</td>\n      <td>系列4</td>\n      <td>產品4-4</td>\n      <td>2016-01-01T03:19:35</td>\n      <td>B_GSJ_06674</td>\n      <td>FEMALE</td>\n      <td>32.0</td>\n      <td>廣告_YND_pid</td>\n      <td>無</td>\n      <td>220.430</td>\n    </tr>\n    <tr>\n      <th>4</th>\n      <td>white</td>\n      <td>628.390</td>\n      <td>366.835</td>\n      <td>系列4</td>\n      <td>產品4-3</td>\n      <td>2016-01-01T03:19:35</td>\n      <td>B_GSJ_06674</td>\n      <td>FEMALE</td>\n      <td>32.0</td>\n      <td>廣告_YND_pid</td>\n      <td>S</td>\n      <td>261.555</td>\n    </tr>\n    <tr>\n      <th>5</th>\n      <td>navyblue</td>\n      <td>713.930</td>\n      <td>416.185</td>\n      <td>系列4</td>\n      <td>產品4-3</td>\n      <td>2016-01-01T03:19:35</td>\n      <td>B_GSJ_06674</td>\n      <td>FEMALE</td>\n      <td>32.0</td>\n      <td>廣告_YND_pid</td>\n      <td>S</td>\n      <td>297.745</td>\n    </tr>\n    <tr>\n      <th>6</th>\n      <td>NaN</td>\n      <td>1062.670</td>\n      <td>674.450</td>\n      <td>系列4</td>\n      <td>產品4-5</td>\n      <td>2016-01-01T03:19:35</td>\n      <td>B_GSJ_06674</td>\n      <td>FEMALE</td>\n      <td>32.0</td>\n      <td>廣告_YND_pid</td>\n      <td>無</td>\n      <td>388.220</td>\n    </tr>\n    <tr>\n      <th>7</th>\n      <td>gray</td>\n      <td>1044.575</td>\n      <td>806.050</td>\n      <td>系列4</td>\n      <td>產品4-6</td>\n      <td>2016-01-01T05:53:09</td>\n      <td>L_CBY_03808</td>\n      <td>FEMALE</td>\n      <td>32.0</td>\n      <td>廣告_自然流量</td>\n      <td>M</td>\n      <td>238.525</td>\n    </tr>\n    <tr>\n      <th>8</th>\n      <td>black</td>\n      <td>713.930</td>\n      <td>416.185</td>\n      <td>系列4</td>\n      <td>產品4-3</td>\n      <td>2016-01-01T05:53:09</td>\n      <td>L_CBY_03808</td>\n      <td>FEMALE</td>\n      <td>32.0</td>\n      <td>廣告_自然流量</td>\n      <td>M</td>\n      <td>297.745</td>\n    </tr>\n    <tr>\n      <th>9</th>\n      <td>gray</td>\n      <td>1044.575</td>\n      <td>806.050</td>\n      <td>系列4</td>\n      <td>產品4-6</td>\n      <td>2016-01-01T05:53:09</td>\n      <td>L_CBY_03808</td>\n      <td>FEMALE</td>\n      <td>32.0</td>\n      <td>廣告_自然流量</td>\n      <td>M</td>\n      <td>238.525</td>\n    </tr>\n  </tbody>\n</table>\n</div>"
     },
     "metadata": {},
     "execution_count": 25
    }
   ],
   "source": [
    "all_data.head(10)"
   ]
  },
  {
   "cell_type": "code",
   "execution_count": 15,
   "metadata": {},
   "outputs": [],
   "source": [
    "# 將不同系列的利潤分別加總\n",
    "series_data = all_data.groupby('系列', as_index= False)['利潤'].sum()\n",
    "# 依照大小排序\n",
    "series_data = series_data.sort_values('利潤',ascending = False)\n",
    "series_data = series_data[:30]"
   ]
  },
  {
   "cell_type": "code",
   "execution_count": 16,
   "metadata": {},
   "outputs": [
    {
     "output_type": "execute_result",
     "data": {
      "text/plain": [
       "'2019年系列利潤.html'"
      ]
     },
     "metadata": {},
     "execution_count": 16
    }
   ],
   "source": [
    "color_fig = px.bar(data_frame = series_data,\n",
    "             x = '系列', \n",
    "             y = '利潤',\n",
    "             title='2019年各系列利潤排序長條圖' ,\n",
    "             color = '利潤', \n",
    "             )\n",
    "plot(color_fig, filename='2019年系列利潤.html')\n"
   ]
  },
  {
   "cell_type": "code",
   "execution_count": 17,
   "metadata": {},
   "outputs": [
    {
     "output_type": "display_data",
     "data": {
      "application/vnd.plotly.v1+json": {
       "config": {
        "plotlyServerURL": "https://plot.ly"
       },
       "data": [
        {
         "alignmentgroup": "True",
         "hovertemplate": "系列=%{x}<br>利潤=%{marker.color}<extra></extra>",
         "legendgroup": "",
         "marker": {
          "color": [
           14193354.455000604,
           12641902.315000229,
           8772753.745000426,
           5128762.904999604,
           4195607.044999797,
           4179078.0849998654,
           4087930.2799997716,
           4069565.499999962,
           3867113.7049999437,
           3256976.624999919,
           3106014.974999932,
           2784585.264999968,
           2435767.949999949,
           2281608.4200000013,
           2278459.890000019,
           2224737.480000075,
           2096401.1600000183,
           2073966.650000007,
           1791084.2250000006,
           1630731.2700000096,
           1533908.2150000052,
           1437167.4100000027,
           1430842.384999991,
           1420946.0650000025,
           1275329.019999996,
           1271626.125000007,
           1265103.7000000116,
           1168571.809999983,
           1166342.8349999976,
           1136752.5749999986
          ],
          "coloraxis": "coloraxis"
         },
         "name": "",
         "offsetgroup": "",
         "orientation": "v",
         "showlegend": false,
         "textposition": "auto",
         "type": "bar",
         "x": [
          "系列1",
          "系列2",
          "系列3",
          "系列6",
          "系列7",
          "系列4",
          "系列5",
          "系列11",
          "系列9",
          "系列10",
          "系列14",
          "系列18",
          "系列12",
          "系列20",
          "系列13",
          "系列15",
          "系列8",
          "系列16",
          "系列17",
          "系列22",
          "系列21",
          "系列27",
          "系列29",
          "系列24",
          "系列19",
          "系列26",
          "系列23",
          "系列32",
          "系列31",
          "系列28"
         ],
         "xaxis": "x",
         "y": [
          14193354.455000604,
          12641902.315000229,
          8772753.745000426,
          5128762.904999604,
          4195607.044999797,
          4179078.0849998654,
          4087930.2799997716,
          4069565.499999962,
          3867113.7049999437,
          3256976.624999919,
          3106014.974999932,
          2784585.264999968,
          2435767.949999949,
          2281608.4200000013,
          2278459.890000019,
          2224737.480000075,
          2096401.1600000183,
          2073966.650000007,
          1791084.2250000006,
          1630731.2700000096,
          1533908.2150000052,
          1437167.4100000027,
          1430842.384999991,
          1420946.0650000025,
          1275329.019999996,
          1271626.125000007,
          1265103.7000000116,
          1168571.809999983,
          1166342.8349999976,
          1136752.5749999986
         ],
         "yaxis": "y"
        }
       ],
       "layout": {
        "barmode": "relative",
        "coloraxis": {
         "colorbar": {
          "title": {
           "text": "利潤"
          }
         },
         "colorscale": [
          [
           0,
           "#0d0887"
          ],
          [
           0.1111111111111111,
           "#46039f"
          ],
          [
           0.2222222222222222,
           "#7201a8"
          ],
          [
           0.3333333333333333,
           "#9c179e"
          ],
          [
           0.4444444444444444,
           "#bd3786"
          ],
          [
           0.5555555555555556,
           "#d8576b"
          ],
          [
           0.6666666666666666,
           "#ed7953"
          ],
          [
           0.7777777777777778,
           "#fb9f3a"
          ],
          [
           0.8888888888888888,
           "#fdca26"
          ],
          [
           1,
           "#f0f921"
          ]
         ]
        },
        "legend": {
         "tracegroupgap": 0
        },
        "template": {
         "data": {
          "bar": [
           {
            "error_x": {
             "color": "#2a3f5f"
            },
            "error_y": {
             "color": "#2a3f5f"
            },
            "marker": {
             "line": {
              "color": "#E5ECF6",
              "width": 0.5
             }
            },
            "type": "bar"
           }
          ],
          "barpolar": [
           {
            "marker": {
             "line": {
              "color": "#E5ECF6",
              "width": 0.5
             }
            },
            "type": "barpolar"
           }
          ],
          "carpet": [
           {
            "aaxis": {
             "endlinecolor": "#2a3f5f",
             "gridcolor": "white",
             "linecolor": "white",
             "minorgridcolor": "white",
             "startlinecolor": "#2a3f5f"
            },
            "baxis": {
             "endlinecolor": "#2a3f5f",
             "gridcolor": "white",
             "linecolor": "white",
             "minorgridcolor": "white",
             "startlinecolor": "#2a3f5f"
            },
            "type": "carpet"
           }
          ],
          "choropleth": [
           {
            "colorbar": {
             "outlinewidth": 0,
             "ticks": ""
            },
            "type": "choropleth"
           }
          ],
          "contour": [
           {
            "colorbar": {
             "outlinewidth": 0,
             "ticks": ""
            },
            "colorscale": [
             [
              0,
              "#0d0887"
             ],
             [
              0.1111111111111111,
              "#46039f"
             ],
             [
              0.2222222222222222,
              "#7201a8"
             ],
             [
              0.3333333333333333,
              "#9c179e"
             ],
             [
              0.4444444444444444,
              "#bd3786"
             ],
             [
              0.5555555555555556,
              "#d8576b"
             ],
             [
              0.6666666666666666,
              "#ed7953"
             ],
             [
              0.7777777777777778,
              "#fb9f3a"
             ],
             [
              0.8888888888888888,
              "#fdca26"
             ],
             [
              1,
              "#f0f921"
             ]
            ],
            "type": "contour"
           }
          ],
          "contourcarpet": [
           {
            "colorbar": {
             "outlinewidth": 0,
             "ticks": ""
            },
            "type": "contourcarpet"
           }
          ],
          "heatmap": [
           {
            "colorbar": {
             "outlinewidth": 0,
             "ticks": ""
            },
            "colorscale": [
             [
              0,
              "#0d0887"
             ],
             [
              0.1111111111111111,
              "#46039f"
             ],
             [
              0.2222222222222222,
              "#7201a8"
             ],
             [
              0.3333333333333333,
              "#9c179e"
             ],
             [
              0.4444444444444444,
              "#bd3786"
             ],
             [
              0.5555555555555556,
              "#d8576b"
             ],
             [
              0.6666666666666666,
              "#ed7953"
             ],
             [
              0.7777777777777778,
              "#fb9f3a"
             ],
             [
              0.8888888888888888,
              "#fdca26"
             ],
             [
              1,
              "#f0f921"
             ]
            ],
            "type": "heatmap"
           }
          ],
          "heatmapgl": [
           {
            "colorbar": {
             "outlinewidth": 0,
             "ticks": ""
            },
            "colorscale": [
             [
              0,
              "#0d0887"
             ],
             [
              0.1111111111111111,
              "#46039f"
             ],
             [
              0.2222222222222222,
              "#7201a8"
             ],
             [
              0.3333333333333333,
              "#9c179e"
             ],
             [
              0.4444444444444444,
              "#bd3786"
             ],
             [
              0.5555555555555556,
              "#d8576b"
             ],
             [
              0.6666666666666666,
              "#ed7953"
             ],
             [
              0.7777777777777778,
              "#fb9f3a"
             ],
             [
              0.8888888888888888,
              "#fdca26"
             ],
             [
              1,
              "#f0f921"
             ]
            ],
            "type": "heatmapgl"
           }
          ],
          "histogram": [
           {
            "marker": {
             "colorbar": {
              "outlinewidth": 0,
              "ticks": ""
             }
            },
            "type": "histogram"
           }
          ],
          "histogram2d": [
           {
            "colorbar": {
             "outlinewidth": 0,
             "ticks": ""
            },
            "colorscale": [
             [
              0,
              "#0d0887"
             ],
             [
              0.1111111111111111,
              "#46039f"
             ],
             [
              0.2222222222222222,
              "#7201a8"
             ],
             [
              0.3333333333333333,
              "#9c179e"
             ],
             [
              0.4444444444444444,
              "#bd3786"
             ],
             [
              0.5555555555555556,
              "#d8576b"
             ],
             [
              0.6666666666666666,
              "#ed7953"
             ],
             [
              0.7777777777777778,
              "#fb9f3a"
             ],
             [
              0.8888888888888888,
              "#fdca26"
             ],
             [
              1,
              "#f0f921"
             ]
            ],
            "type": "histogram2d"
           }
          ],
          "histogram2dcontour": [
           {
            "colorbar": {
             "outlinewidth": 0,
             "ticks": ""
            },
            "colorscale": [
             [
              0,
              "#0d0887"
             ],
             [
              0.1111111111111111,
              "#46039f"
             ],
             [
              0.2222222222222222,
              "#7201a8"
             ],
             [
              0.3333333333333333,
              "#9c179e"
             ],
             [
              0.4444444444444444,
              "#bd3786"
             ],
             [
              0.5555555555555556,
              "#d8576b"
             ],
             [
              0.6666666666666666,
              "#ed7953"
             ],
             [
              0.7777777777777778,
              "#fb9f3a"
             ],
             [
              0.8888888888888888,
              "#fdca26"
             ],
             [
              1,
              "#f0f921"
             ]
            ],
            "type": "histogram2dcontour"
           }
          ],
          "mesh3d": [
           {
            "colorbar": {
             "outlinewidth": 0,
             "ticks": ""
            },
            "type": "mesh3d"
           }
          ],
          "parcoords": [
           {
            "line": {
             "colorbar": {
              "outlinewidth": 0,
              "ticks": ""
             }
            },
            "type": "parcoords"
           }
          ],
          "pie": [
           {
            "automargin": true,
            "type": "pie"
           }
          ],
          "scatter": [
           {
            "marker": {
             "colorbar": {
              "outlinewidth": 0,
              "ticks": ""
             }
            },
            "type": "scatter"
           }
          ],
          "scatter3d": [
           {
            "line": {
             "colorbar": {
              "outlinewidth": 0,
              "ticks": ""
             }
            },
            "marker": {
             "colorbar": {
              "outlinewidth": 0,
              "ticks": ""
             }
            },
            "type": "scatter3d"
           }
          ],
          "scattercarpet": [
           {
            "marker": {
             "colorbar": {
              "outlinewidth": 0,
              "ticks": ""
             }
            },
            "type": "scattercarpet"
           }
          ],
          "scattergeo": [
           {
            "marker": {
             "colorbar": {
              "outlinewidth": 0,
              "ticks": ""
             }
            },
            "type": "scattergeo"
           }
          ],
          "scattergl": [
           {
            "marker": {
             "colorbar": {
              "outlinewidth": 0,
              "ticks": ""
             }
            },
            "type": "scattergl"
           }
          ],
          "scattermapbox": [
           {
            "marker": {
             "colorbar": {
              "outlinewidth": 0,
              "ticks": ""
             }
            },
            "type": "scattermapbox"
           }
          ],
          "scatterpolar": [
           {
            "marker": {
             "colorbar": {
              "outlinewidth": 0,
              "ticks": ""
             }
            },
            "type": "scatterpolar"
           }
          ],
          "scatterpolargl": [
           {
            "marker": {
             "colorbar": {
              "outlinewidth": 0,
              "ticks": ""
             }
            },
            "type": "scatterpolargl"
           }
          ],
          "scatterternary": [
           {
            "marker": {
             "colorbar": {
              "outlinewidth": 0,
              "ticks": ""
             }
            },
            "type": "scatterternary"
           }
          ],
          "surface": [
           {
            "colorbar": {
             "outlinewidth": 0,
             "ticks": ""
            },
            "colorscale": [
             [
              0,
              "#0d0887"
             ],
             [
              0.1111111111111111,
              "#46039f"
             ],
             [
              0.2222222222222222,
              "#7201a8"
             ],
             [
              0.3333333333333333,
              "#9c179e"
             ],
             [
              0.4444444444444444,
              "#bd3786"
             ],
             [
              0.5555555555555556,
              "#d8576b"
             ],
             [
              0.6666666666666666,
              "#ed7953"
             ],
             [
              0.7777777777777778,
              "#fb9f3a"
             ],
             [
              0.8888888888888888,
              "#fdca26"
             ],
             [
              1,
              "#f0f921"
             ]
            ],
            "type": "surface"
           }
          ],
          "table": [
           {
            "cells": {
             "fill": {
              "color": "#EBF0F8"
             },
             "line": {
              "color": "white"
             }
            },
            "header": {
             "fill": {
              "color": "#C8D4E3"
             },
             "line": {
              "color": "white"
             }
            },
            "type": "table"
           }
          ]
         },
         "layout": {
          "annotationdefaults": {
           "arrowcolor": "#2a3f5f",
           "arrowhead": 0,
           "arrowwidth": 1
          },
          "coloraxis": {
           "colorbar": {
            "outlinewidth": 0,
            "ticks": ""
           }
          },
          "colorscale": {
           "diverging": [
            [
             0,
             "#8e0152"
            ],
            [
             0.1,
             "#c51b7d"
            ],
            [
             0.2,
             "#de77ae"
            ],
            [
             0.3,
             "#f1b6da"
            ],
            [
             0.4,
             "#fde0ef"
            ],
            [
             0.5,
             "#f7f7f7"
            ],
            [
             0.6,
             "#e6f5d0"
            ],
            [
             0.7,
             "#b8e186"
            ],
            [
             0.8,
             "#7fbc41"
            ],
            [
             0.9,
             "#4d9221"
            ],
            [
             1,
             "#276419"
            ]
           ],
           "sequential": [
            [
             0,
             "#0d0887"
            ],
            [
             0.1111111111111111,
             "#46039f"
            ],
            [
             0.2222222222222222,
             "#7201a8"
            ],
            [
             0.3333333333333333,
             "#9c179e"
            ],
            [
             0.4444444444444444,
             "#bd3786"
            ],
            [
             0.5555555555555556,
             "#d8576b"
            ],
            [
             0.6666666666666666,
             "#ed7953"
            ],
            [
             0.7777777777777778,
             "#fb9f3a"
            ],
            [
             0.8888888888888888,
             "#fdca26"
            ],
            [
             1,
             "#f0f921"
            ]
           ],
           "sequentialminus": [
            [
             0,
             "#0d0887"
            ],
            [
             0.1111111111111111,
             "#46039f"
            ],
            [
             0.2222222222222222,
             "#7201a8"
            ],
            [
             0.3333333333333333,
             "#9c179e"
            ],
            [
             0.4444444444444444,
             "#bd3786"
            ],
            [
             0.5555555555555556,
             "#d8576b"
            ],
            [
             0.6666666666666666,
             "#ed7953"
            ],
            [
             0.7777777777777778,
             "#fb9f3a"
            ],
            [
             0.8888888888888888,
             "#fdca26"
            ],
            [
             1,
             "#f0f921"
            ]
           ]
          },
          "colorway": [
           "#636efa",
           "#EF553B",
           "#00cc96",
           "#ab63fa",
           "#FFA15A",
           "#19d3f3",
           "#FF6692",
           "#B6E880",
           "#FF97FF",
           "#FECB52"
          ],
          "font": {
           "color": "#2a3f5f"
          },
          "geo": {
           "bgcolor": "white",
           "lakecolor": "white",
           "landcolor": "#E5ECF6",
           "showlakes": true,
           "showland": true,
           "subunitcolor": "white"
          },
          "hoverlabel": {
           "align": "left"
          },
          "hovermode": "closest",
          "mapbox": {
           "style": "light"
          },
          "paper_bgcolor": "white",
          "plot_bgcolor": "#E5ECF6",
          "polar": {
           "angularaxis": {
            "gridcolor": "white",
            "linecolor": "white",
            "ticks": ""
           },
           "bgcolor": "#E5ECF6",
           "radialaxis": {
            "gridcolor": "white",
            "linecolor": "white",
            "ticks": ""
           }
          },
          "scene": {
           "xaxis": {
            "backgroundcolor": "#E5ECF6",
            "gridcolor": "white",
            "gridwidth": 2,
            "linecolor": "white",
            "showbackground": true,
            "ticks": "",
            "zerolinecolor": "white"
           },
           "yaxis": {
            "backgroundcolor": "#E5ECF6",
            "gridcolor": "white",
            "gridwidth": 2,
            "linecolor": "white",
            "showbackground": true,
            "ticks": "",
            "zerolinecolor": "white"
           },
           "zaxis": {
            "backgroundcolor": "#E5ECF6",
            "gridcolor": "white",
            "gridwidth": 2,
            "linecolor": "white",
            "showbackground": true,
            "ticks": "",
            "zerolinecolor": "white"
           }
          },
          "shapedefaults": {
           "line": {
            "color": "#2a3f5f"
           }
          },
          "ternary": {
           "aaxis": {
            "gridcolor": "white",
            "linecolor": "white",
            "ticks": ""
           },
           "baxis": {
            "gridcolor": "white",
            "linecolor": "white",
            "ticks": ""
           },
           "bgcolor": "#E5ECF6",
           "caxis": {
            "gridcolor": "white",
            "linecolor": "white",
            "ticks": ""
           }
          },
          "title": {
           "x": 0.05
          },
          "xaxis": {
           "automargin": true,
           "gridcolor": "white",
           "linecolor": "white",
           "ticks": "",
           "title": {
            "standoff": 15
           },
           "zerolinecolor": "white",
           "zerolinewidth": 2
          },
          "yaxis": {
           "automargin": true,
           "gridcolor": "white",
           "linecolor": "white",
           "ticks": "",
           "title": {
            "standoff": 15
           },
           "zerolinecolor": "white",
           "zerolinewidth": 2
          }
         }
        },
        "title": {
         "text": "2019年各系列利潤排序長條圖"
        },
        "xaxis": {
         "anchor": "y",
         "domain": [
          0,
          1
         ],
         "title": {
          "text": "系列"
         }
        },
        "yaxis": {
         "anchor": "x",
         "domain": [
          0,
          1
         ],
         "title": {
          "text": "利潤"
         }
        }
       }
      }
     },
     "metadata": {}
    }
   ],
   "source": [
    "color_fig.show()"
   ]
  },
  {
   "cell_type": "code",
   "execution_count": 40,
   "metadata": {},
   "outputs": [
    {
     "output_type": "execute_result",
     "data": {
      "text/plain": [
       "'2019年系列利潤.html'"
      ]
     },
     "metadata": {},
     "execution_count": 40
    }
   ],
   "source": [
    "profit_fig = px.bar(data_frame = top30,\n",
    "             x = '系列', \n",
    "             y = '利潤佔比',\n",
    "             title='各系列利潤佔比' ,\n",
    "             color = '利潤', \n",
    "             )\n",
    "plot(color_fig, filename='2019年系列利潤.html')"
   ]
  },
  {
   "cell_type": "code",
   "execution_count": 41,
   "metadata": {},
   "outputs": [
    {
     "output_type": "display_data",
     "data": {
      "application/vnd.plotly.v1+json": {
       "config": {
        "plotlyServerURL": "https://plot.ly"
       },
       "data": [
        {
         "alignmentgroup": "True",
         "hovertemplate": "系列=%{x}<br>利潤佔比=%{y}<br>利潤=%{marker.color}<extra></extra>",
         "legendgroup": "",
         "marker": {
          "color": [
           14193354.455000604,
           12641902.315000229,
           8772753.745000426,
           5128762.904999604,
           4195607.044999797,
           4179078.0849998654,
           4087930.2799997716,
           4069565.499999962,
           3867113.7049999437,
           3256976.624999919,
           3106014.974999932,
           2784585.264999968,
           2435767.949999949,
           2281608.4200000013,
           2278459.890000019,
           2224737.480000075,
           2096401.1600000183,
           2073966.650000007,
           1791084.2250000006,
           1630731.2700000096,
           1533908.2150000052,
           1437167.4100000027,
           1430842.384999991,
           1420946.0650000025,
           1275329.019999996,
           1271626.125000007,
           1265103.7000000116,
           1168571.809999983,
           1166342.8349999976,
           1136752.5749999986
          ],
          "coloraxis": "coloraxis"
         },
         "name": "",
         "offsetgroup": "",
         "orientation": "v",
         "showlegend": false,
         "textposition": "auto",
         "type": "bar",
         "x": [
          "系列1",
          "系列2",
          "系列3",
          "系列6",
          "系列7",
          "系列4",
          "系列5",
          "系列11",
          "系列9",
          "系列10",
          "系列14",
          "系列18",
          "系列12",
          "系列20",
          "系列13",
          "系列15",
          "系列8",
          "系列16",
          "系列17",
          "系列22",
          "系列21",
          "系列27",
          "系列29",
          "系列24",
          "系列19",
          "系列26",
          "系列23",
          "系列32",
          "系列31",
          "系列28"
         ],
         "xaxis": "x",
         "y": [
          0.08860376871618603,
          0.0789186370566724,
          0.05476499909098053,
          0.0320169360721232,
          0.026191595328487614,
          0.026088411253602693,
          0.0255194098199514,
          0.02540476541190919,
          0.024140935069531008,
          0.020332078967692114,
          0.019389682216873275,
          0.01738311754087355,
          0.01520558235703449,
          0.014243222445230911,
          0.014223567357718028,
          0.013888198576109526,
          0.013087043243082158,
          0.012946993042715208,
          0.011181064555686994,
          0.010180041423148338,
          0.009575611540218696,
          0.008971695113075714,
          0.008932210363082192,
          0.008870431362832438,
          0.007961398969030047,
          0.007938283189515095,
          0.007897566145633713,
          0.007294953896188663,
          0.007281039244370517,
          0.007096318390565023
         ],
         "yaxis": "y"
        }
       ],
       "layout": {
        "barmode": "relative",
        "coloraxis": {
         "colorbar": {
          "title": {
           "text": "利潤"
          }
         },
         "colorscale": [
          [
           0,
           "#0d0887"
          ],
          [
           0.1111111111111111,
           "#46039f"
          ],
          [
           0.2222222222222222,
           "#7201a8"
          ],
          [
           0.3333333333333333,
           "#9c179e"
          ],
          [
           0.4444444444444444,
           "#bd3786"
          ],
          [
           0.5555555555555556,
           "#d8576b"
          ],
          [
           0.6666666666666666,
           "#ed7953"
          ],
          [
           0.7777777777777778,
           "#fb9f3a"
          ],
          [
           0.8888888888888888,
           "#fdca26"
          ],
          [
           1,
           "#f0f921"
          ]
         ]
        },
        "legend": {
         "tracegroupgap": 0
        },
        "template": {
         "data": {
          "bar": [
           {
            "error_x": {
             "color": "#2a3f5f"
            },
            "error_y": {
             "color": "#2a3f5f"
            },
            "marker": {
             "line": {
              "color": "#E5ECF6",
              "width": 0.5
             }
            },
            "type": "bar"
           }
          ],
          "barpolar": [
           {
            "marker": {
             "line": {
              "color": "#E5ECF6",
              "width": 0.5
             }
            },
            "type": "barpolar"
           }
          ],
          "carpet": [
           {
            "aaxis": {
             "endlinecolor": "#2a3f5f",
             "gridcolor": "white",
             "linecolor": "white",
             "minorgridcolor": "white",
             "startlinecolor": "#2a3f5f"
            },
            "baxis": {
             "endlinecolor": "#2a3f5f",
             "gridcolor": "white",
             "linecolor": "white",
             "minorgridcolor": "white",
             "startlinecolor": "#2a3f5f"
            },
            "type": "carpet"
           }
          ],
          "choropleth": [
           {
            "colorbar": {
             "outlinewidth": 0,
             "ticks": ""
            },
            "type": "choropleth"
           }
          ],
          "contour": [
           {
            "colorbar": {
             "outlinewidth": 0,
             "ticks": ""
            },
            "colorscale": [
             [
              0,
              "#0d0887"
             ],
             [
              0.1111111111111111,
              "#46039f"
             ],
             [
              0.2222222222222222,
              "#7201a8"
             ],
             [
              0.3333333333333333,
              "#9c179e"
             ],
             [
              0.4444444444444444,
              "#bd3786"
             ],
             [
              0.5555555555555556,
              "#d8576b"
             ],
             [
              0.6666666666666666,
              "#ed7953"
             ],
             [
              0.7777777777777778,
              "#fb9f3a"
             ],
             [
              0.8888888888888888,
              "#fdca26"
             ],
             [
              1,
              "#f0f921"
             ]
            ],
            "type": "contour"
           }
          ],
          "contourcarpet": [
           {
            "colorbar": {
             "outlinewidth": 0,
             "ticks": ""
            },
            "type": "contourcarpet"
           }
          ],
          "heatmap": [
           {
            "colorbar": {
             "outlinewidth": 0,
             "ticks": ""
            },
            "colorscale": [
             [
              0,
              "#0d0887"
             ],
             [
              0.1111111111111111,
              "#46039f"
             ],
             [
              0.2222222222222222,
              "#7201a8"
             ],
             [
              0.3333333333333333,
              "#9c179e"
             ],
             [
              0.4444444444444444,
              "#bd3786"
             ],
             [
              0.5555555555555556,
              "#d8576b"
             ],
             [
              0.6666666666666666,
              "#ed7953"
             ],
             [
              0.7777777777777778,
              "#fb9f3a"
             ],
             [
              0.8888888888888888,
              "#fdca26"
             ],
             [
              1,
              "#f0f921"
             ]
            ],
            "type": "heatmap"
           }
          ],
          "heatmapgl": [
           {
            "colorbar": {
             "outlinewidth": 0,
             "ticks": ""
            },
            "colorscale": [
             [
              0,
              "#0d0887"
             ],
             [
              0.1111111111111111,
              "#46039f"
             ],
             [
              0.2222222222222222,
              "#7201a8"
             ],
             [
              0.3333333333333333,
              "#9c179e"
             ],
             [
              0.4444444444444444,
              "#bd3786"
             ],
             [
              0.5555555555555556,
              "#d8576b"
             ],
             [
              0.6666666666666666,
              "#ed7953"
             ],
             [
              0.7777777777777778,
              "#fb9f3a"
             ],
             [
              0.8888888888888888,
              "#fdca26"
             ],
             [
              1,
              "#f0f921"
             ]
            ],
            "type": "heatmapgl"
           }
          ],
          "histogram": [
           {
            "marker": {
             "colorbar": {
              "outlinewidth": 0,
              "ticks": ""
             }
            },
            "type": "histogram"
           }
          ],
          "histogram2d": [
           {
            "colorbar": {
             "outlinewidth": 0,
             "ticks": ""
            },
            "colorscale": [
             [
              0,
              "#0d0887"
             ],
             [
              0.1111111111111111,
              "#46039f"
             ],
             [
              0.2222222222222222,
              "#7201a8"
             ],
             [
              0.3333333333333333,
              "#9c179e"
             ],
             [
              0.4444444444444444,
              "#bd3786"
             ],
             [
              0.5555555555555556,
              "#d8576b"
             ],
             [
              0.6666666666666666,
              "#ed7953"
             ],
             [
              0.7777777777777778,
              "#fb9f3a"
             ],
             [
              0.8888888888888888,
              "#fdca26"
             ],
             [
              1,
              "#f0f921"
             ]
            ],
            "type": "histogram2d"
           }
          ],
          "histogram2dcontour": [
           {
            "colorbar": {
             "outlinewidth": 0,
             "ticks": ""
            },
            "colorscale": [
             [
              0,
              "#0d0887"
             ],
             [
              0.1111111111111111,
              "#46039f"
             ],
             [
              0.2222222222222222,
              "#7201a8"
             ],
             [
              0.3333333333333333,
              "#9c179e"
             ],
             [
              0.4444444444444444,
              "#bd3786"
             ],
             [
              0.5555555555555556,
              "#d8576b"
             ],
             [
              0.6666666666666666,
              "#ed7953"
             ],
             [
              0.7777777777777778,
              "#fb9f3a"
             ],
             [
              0.8888888888888888,
              "#fdca26"
             ],
             [
              1,
              "#f0f921"
             ]
            ],
            "type": "histogram2dcontour"
           }
          ],
          "mesh3d": [
           {
            "colorbar": {
             "outlinewidth": 0,
             "ticks": ""
            },
            "type": "mesh3d"
           }
          ],
          "parcoords": [
           {
            "line": {
             "colorbar": {
              "outlinewidth": 0,
              "ticks": ""
             }
            },
            "type": "parcoords"
           }
          ],
          "pie": [
           {
            "automargin": true,
            "type": "pie"
           }
          ],
          "scatter": [
           {
            "marker": {
             "colorbar": {
              "outlinewidth": 0,
              "ticks": ""
             }
            },
            "type": "scatter"
           }
          ],
          "scatter3d": [
           {
            "line": {
             "colorbar": {
              "outlinewidth": 0,
              "ticks": ""
             }
            },
            "marker": {
             "colorbar": {
              "outlinewidth": 0,
              "ticks": ""
             }
            },
            "type": "scatter3d"
           }
          ],
          "scattercarpet": [
           {
            "marker": {
             "colorbar": {
              "outlinewidth": 0,
              "ticks": ""
             }
            },
            "type": "scattercarpet"
           }
          ],
          "scattergeo": [
           {
            "marker": {
             "colorbar": {
              "outlinewidth": 0,
              "ticks": ""
             }
            },
            "type": "scattergeo"
           }
          ],
          "scattergl": [
           {
            "marker": {
             "colorbar": {
              "outlinewidth": 0,
              "ticks": ""
             }
            },
            "type": "scattergl"
           }
          ],
          "scattermapbox": [
           {
            "marker": {
             "colorbar": {
              "outlinewidth": 0,
              "ticks": ""
             }
            },
            "type": "scattermapbox"
           }
          ],
          "scatterpolar": [
           {
            "marker": {
             "colorbar": {
              "outlinewidth": 0,
              "ticks": ""
             }
            },
            "type": "scatterpolar"
           }
          ],
          "scatterpolargl": [
           {
            "marker": {
             "colorbar": {
              "outlinewidth": 0,
              "ticks": ""
             }
            },
            "type": "scatterpolargl"
           }
          ],
          "scatterternary": [
           {
            "marker": {
             "colorbar": {
              "outlinewidth": 0,
              "ticks": ""
             }
            },
            "type": "scatterternary"
           }
          ],
          "surface": [
           {
            "colorbar": {
             "outlinewidth": 0,
             "ticks": ""
            },
            "colorscale": [
             [
              0,
              "#0d0887"
             ],
             [
              0.1111111111111111,
              "#46039f"
             ],
             [
              0.2222222222222222,
              "#7201a8"
             ],
             [
              0.3333333333333333,
              "#9c179e"
             ],
             [
              0.4444444444444444,
              "#bd3786"
             ],
             [
              0.5555555555555556,
              "#d8576b"
             ],
             [
              0.6666666666666666,
              "#ed7953"
             ],
             [
              0.7777777777777778,
              "#fb9f3a"
             ],
             [
              0.8888888888888888,
              "#fdca26"
             ],
             [
              1,
              "#f0f921"
             ]
            ],
            "type": "surface"
           }
          ],
          "table": [
           {
            "cells": {
             "fill": {
              "color": "#EBF0F8"
             },
             "line": {
              "color": "white"
             }
            },
            "header": {
             "fill": {
              "color": "#C8D4E3"
             },
             "line": {
              "color": "white"
             }
            },
            "type": "table"
           }
          ]
         },
         "layout": {
          "annotationdefaults": {
           "arrowcolor": "#2a3f5f",
           "arrowhead": 0,
           "arrowwidth": 1
          },
          "coloraxis": {
           "colorbar": {
            "outlinewidth": 0,
            "ticks": ""
           }
          },
          "colorscale": {
           "diverging": [
            [
             0,
             "#8e0152"
            ],
            [
             0.1,
             "#c51b7d"
            ],
            [
             0.2,
             "#de77ae"
            ],
            [
             0.3,
             "#f1b6da"
            ],
            [
             0.4,
             "#fde0ef"
            ],
            [
             0.5,
             "#f7f7f7"
            ],
            [
             0.6,
             "#e6f5d0"
            ],
            [
             0.7,
             "#b8e186"
            ],
            [
             0.8,
             "#7fbc41"
            ],
            [
             0.9,
             "#4d9221"
            ],
            [
             1,
             "#276419"
            ]
           ],
           "sequential": [
            [
             0,
             "#0d0887"
            ],
            [
             0.1111111111111111,
             "#46039f"
            ],
            [
             0.2222222222222222,
             "#7201a8"
            ],
            [
             0.3333333333333333,
             "#9c179e"
            ],
            [
             0.4444444444444444,
             "#bd3786"
            ],
            [
             0.5555555555555556,
             "#d8576b"
            ],
            [
             0.6666666666666666,
             "#ed7953"
            ],
            [
             0.7777777777777778,
             "#fb9f3a"
            ],
            [
             0.8888888888888888,
             "#fdca26"
            ],
            [
             1,
             "#f0f921"
            ]
           ],
           "sequentialminus": [
            [
             0,
             "#0d0887"
            ],
            [
             0.1111111111111111,
             "#46039f"
            ],
            [
             0.2222222222222222,
             "#7201a8"
            ],
            [
             0.3333333333333333,
             "#9c179e"
            ],
            [
             0.4444444444444444,
             "#bd3786"
            ],
            [
             0.5555555555555556,
             "#d8576b"
            ],
            [
             0.6666666666666666,
             "#ed7953"
            ],
            [
             0.7777777777777778,
             "#fb9f3a"
            ],
            [
             0.8888888888888888,
             "#fdca26"
            ],
            [
             1,
             "#f0f921"
            ]
           ]
          },
          "colorway": [
           "#636efa",
           "#EF553B",
           "#00cc96",
           "#ab63fa",
           "#FFA15A",
           "#19d3f3",
           "#FF6692",
           "#B6E880",
           "#FF97FF",
           "#FECB52"
          ],
          "font": {
           "color": "#2a3f5f"
          },
          "geo": {
           "bgcolor": "white",
           "lakecolor": "white",
           "landcolor": "#E5ECF6",
           "showlakes": true,
           "showland": true,
           "subunitcolor": "white"
          },
          "hoverlabel": {
           "align": "left"
          },
          "hovermode": "closest",
          "mapbox": {
           "style": "light"
          },
          "paper_bgcolor": "white",
          "plot_bgcolor": "#E5ECF6",
          "polar": {
           "angularaxis": {
            "gridcolor": "white",
            "linecolor": "white",
            "ticks": ""
           },
           "bgcolor": "#E5ECF6",
           "radialaxis": {
            "gridcolor": "white",
            "linecolor": "white",
            "ticks": ""
           }
          },
          "scene": {
           "xaxis": {
            "backgroundcolor": "#E5ECF6",
            "gridcolor": "white",
            "gridwidth": 2,
            "linecolor": "white",
            "showbackground": true,
            "ticks": "",
            "zerolinecolor": "white"
           },
           "yaxis": {
            "backgroundcolor": "#E5ECF6",
            "gridcolor": "white",
            "gridwidth": 2,
            "linecolor": "white",
            "showbackground": true,
            "ticks": "",
            "zerolinecolor": "white"
           },
           "zaxis": {
            "backgroundcolor": "#E5ECF6",
            "gridcolor": "white",
            "gridwidth": 2,
            "linecolor": "white",
            "showbackground": true,
            "ticks": "",
            "zerolinecolor": "white"
           }
          },
          "shapedefaults": {
           "line": {
            "color": "#2a3f5f"
           }
          },
          "ternary": {
           "aaxis": {
            "gridcolor": "white",
            "linecolor": "white",
            "ticks": ""
           },
           "baxis": {
            "gridcolor": "white",
            "linecolor": "white",
            "ticks": ""
           },
           "bgcolor": "#E5ECF6",
           "caxis": {
            "gridcolor": "white",
            "linecolor": "white",
            "ticks": ""
           }
          },
          "title": {
           "x": 0.05
          },
          "xaxis": {
           "automargin": true,
           "gridcolor": "white",
           "linecolor": "white",
           "ticks": "",
           "title": {
            "standoff": 15
           },
           "zerolinecolor": "white",
           "zerolinewidth": 2
          },
          "yaxis": {
           "automargin": true,
           "gridcolor": "white",
           "linecolor": "white",
           "ticks": "",
           "title": {
            "standoff": 15
           },
           "zerolinecolor": "white",
           "zerolinewidth": 2
          }
         }
        },
        "title": {
         "text": "各系列利潤佔比"
        },
        "xaxis": {
         "anchor": "y",
         "domain": [
          0,
          1
         ],
         "title": {
          "text": "系列"
         }
        },
        "yaxis": {
         "anchor": "x",
         "domain": [
          0,
          1
         ],
         "title": {
          "text": "利潤佔比"
         }
        }
       }
      }
     },
     "metadata": {}
    }
   ],
   "source": [
    "profit_fig.show()"
   ]
  },
  {
   "cell_type": "code",
   "execution_count": 50,
   "metadata": {},
   "outputs": [],
   "source": [
    "SKU_data = all_data.groupby('產品', as_index = False)['利潤'].sum()\n",
    "SKU_data['利潤佔比'] = SKU_data['利潤']/SKU_data['利潤'].sum()\n",
    "SKU_data = SKU_data.sort_values('利潤佔比',ascending= False)\n",
    "SKU_data['累積利潤佔比'] = SKU_data['利潤佔比'].cumsum()\n",
    "SKU_data_80 = SKU_data[SKU_data['累積利潤佔比']<=0.8]"
   ]
  },
  {
   "cell_type": "code",
   "execution_count": 52,
   "metadata": {},
   "outputs": [
    {
     "output_type": "execute_result",
     "data": {
      "text/plain": [
       "0.07466567607726597"
      ]
     },
     "metadata": {},
     "execution_count": 52
    }
   ],
   "source": [
    "len(SKU_data_80)/len(SKU_data)"
   ]
  },
  {
   "cell_type": "code",
   "execution_count": 58,
   "metadata": {},
   "outputs": [
    {
     "output_type": "execute_result",
     "data": {
      "text/plain": [
       "           產品           利潤      利潤佔比    累積利潤佔比\n",
       "3      產品1-12  4085308.150  0.025503  0.025503\n",
       "6290   產品6-12  3260097.190  0.020352  0.045855\n",
       "16      產品1-3  2099893.495  0.013109  0.058963\n",
       "7741   產品9-12  2008563.095  0.012539  0.071502\n",
       "2007   產品2-12  1940270.920  0.012112  0.083615\n",
       "...       ...          ...       ...       ...\n",
       "2511  產品23-37    43487.220  0.000271  0.798699\n",
       "3400  產品29-16    43367.135  0.000271  0.798970\n",
       "605   產品123-3    43332.590  0.000271  0.799240\n",
       "6061  產品56-18    43135.190  0.000269  0.799509\n",
       "7983   產品97-3    42918.050  0.000268  0.799777\n",
       "\n",
       "[603 rows x 4 columns]"
      ],
      "text/html": "<div>\n<style scoped>\n    .dataframe tbody tr th:only-of-type {\n        vertical-align: middle;\n    }\n\n    .dataframe tbody tr th {\n        vertical-align: top;\n    }\n\n    .dataframe thead th {\n        text-align: right;\n    }\n</style>\n<table border=\"1\" class=\"dataframe\">\n  <thead>\n    <tr style=\"text-align: right;\">\n      <th></th>\n      <th>產品</th>\n      <th>利潤</th>\n      <th>利潤佔比</th>\n      <th>累積利潤佔比</th>\n    </tr>\n  </thead>\n  <tbody>\n    <tr>\n      <th>3</th>\n      <td>產品1-12</td>\n      <td>4085308.150</td>\n      <td>0.025503</td>\n      <td>0.025503</td>\n    </tr>\n    <tr>\n      <th>6290</th>\n      <td>產品6-12</td>\n      <td>3260097.190</td>\n      <td>0.020352</td>\n      <td>0.045855</td>\n    </tr>\n    <tr>\n      <th>16</th>\n      <td>產品1-3</td>\n      <td>2099893.495</td>\n      <td>0.013109</td>\n      <td>0.058963</td>\n    </tr>\n    <tr>\n      <th>7741</th>\n      <td>產品9-12</td>\n      <td>2008563.095</td>\n      <td>0.012539</td>\n      <td>0.071502</td>\n    </tr>\n    <tr>\n      <th>2007</th>\n      <td>產品2-12</td>\n      <td>1940270.920</td>\n      <td>0.012112</td>\n      <td>0.083615</td>\n    </tr>\n    <tr>\n      <th>...</th>\n      <td>...</td>\n      <td>...</td>\n      <td>...</td>\n      <td>...</td>\n    </tr>\n    <tr>\n      <th>2511</th>\n      <td>產品23-37</td>\n      <td>43487.220</td>\n      <td>0.000271</td>\n      <td>0.798699</td>\n    </tr>\n    <tr>\n      <th>3400</th>\n      <td>產品29-16</td>\n      <td>43367.135</td>\n      <td>0.000271</td>\n      <td>0.798970</td>\n    </tr>\n    <tr>\n      <th>605</th>\n      <td>產品123-3</td>\n      <td>43332.590</td>\n      <td>0.000271</td>\n      <td>0.799240</td>\n    </tr>\n    <tr>\n      <th>6061</th>\n      <td>產品56-18</td>\n      <td>43135.190</td>\n      <td>0.000269</td>\n      <td>0.799509</td>\n    </tr>\n    <tr>\n      <th>7983</th>\n      <td>產品97-3</td>\n      <td>42918.050</td>\n      <td>0.000268</td>\n      <td>0.799777</td>\n    </tr>\n  </tbody>\n</table>\n<p>603 rows × 4 columns</p>\n</div>"
     },
     "metadata": {},
     "execution_count": 58
    }
   ],
   "source": [
    "SKU_data_80"
   ]
  },
  {
   "cell_type": "code",
   "execution_count": 53,
   "metadata": {},
   "outputs": [],
   "source": [
    "SKU_data_10 = SKU_data[:10]"
   ]
  },
  {
   "cell_type": "code",
   "execution_count": 55,
   "metadata": {},
   "outputs": [
    {
     "output_type": "execute_result",
     "data": {
      "text/plain": [
       "           產品           利潤      利潤佔比    累積利潤佔比\n",
       "3      產品1-12  4085308.150  0.025503  0.025503\n",
       "6290   產品6-12  3260097.190  0.020352  0.045855\n",
       "16      產品1-3  2099893.495  0.013109  0.058963\n",
       "7741   產品9-12  2008563.095  0.012539  0.071502\n",
       "2007   產品2-12  1940270.920  0.012112  0.083615\n",
       "2017    產品2-3  1630953.345  0.010181  0.093796\n",
       "2023   產品2-35  1618874.110  0.010106  0.103902\n",
       "515   產品12-12  1525623.995  0.009524  0.113426\n",
       "2016   產品2-29  1499874.810  0.009363  0.122789\n",
       "7345   產品8-35  1484087.745  0.009265  0.132054"
      ],
      "text/html": "<div>\n<style scoped>\n    .dataframe tbody tr th:only-of-type {\n        vertical-align: middle;\n    }\n\n    .dataframe tbody tr th {\n        vertical-align: top;\n    }\n\n    .dataframe thead th {\n        text-align: right;\n    }\n</style>\n<table border=\"1\" class=\"dataframe\">\n  <thead>\n    <tr style=\"text-align: right;\">\n      <th></th>\n      <th>產品</th>\n      <th>利潤</th>\n      <th>利潤佔比</th>\n      <th>累積利潤佔比</th>\n    </tr>\n  </thead>\n  <tbody>\n    <tr>\n      <th>3</th>\n      <td>產品1-12</td>\n      <td>4085308.150</td>\n      <td>0.025503</td>\n      <td>0.025503</td>\n    </tr>\n    <tr>\n      <th>6290</th>\n      <td>產品6-12</td>\n      <td>3260097.190</td>\n      <td>0.020352</td>\n      <td>0.045855</td>\n    </tr>\n    <tr>\n      <th>16</th>\n      <td>產品1-3</td>\n      <td>2099893.495</td>\n      <td>0.013109</td>\n      <td>0.058963</td>\n    </tr>\n    <tr>\n      <th>7741</th>\n      <td>產品9-12</td>\n      <td>2008563.095</td>\n      <td>0.012539</td>\n      <td>0.071502</td>\n    </tr>\n    <tr>\n      <th>2007</th>\n      <td>產品2-12</td>\n      <td>1940270.920</td>\n      <td>0.012112</td>\n      <td>0.083615</td>\n    </tr>\n    <tr>\n      <th>2017</th>\n      <td>產品2-3</td>\n      <td>1630953.345</td>\n      <td>0.010181</td>\n      <td>0.093796</td>\n    </tr>\n    <tr>\n      <th>2023</th>\n      <td>產品2-35</td>\n      <td>1618874.110</td>\n      <td>0.010106</td>\n      <td>0.103902</td>\n    </tr>\n    <tr>\n      <th>515</th>\n      <td>產品12-12</td>\n      <td>1525623.995</td>\n      <td>0.009524</td>\n      <td>0.113426</td>\n    </tr>\n    <tr>\n      <th>2016</th>\n      <td>產品2-29</td>\n      <td>1499874.810</td>\n      <td>0.009363</td>\n      <td>0.122789</td>\n    </tr>\n    <tr>\n      <th>7345</th>\n      <td>產品8-35</td>\n      <td>1484087.745</td>\n      <td>0.009265</td>\n      <td>0.132054</td>\n    </tr>\n  </tbody>\n</table>\n</div>"
     },
     "metadata": {},
     "execution_count": 55
    }
   ],
   "source": [
    "SKU_data_10"
   ]
  },
  {
   "cell_type": "code",
   "execution_count": 56,
   "metadata": {},
   "outputs": [
    {
     "output_type": "display_data",
     "data": {
      "application/vnd.plotly.v1+json": {
       "config": {
        "plotlyServerURL": "https://plot.ly"
       },
       "data": [
        {
         "alignmentgroup": "True",
         "hovertemplate": "產品=%{x}<br>利潤=%{y}<br>利潤佔比=%{marker.color}<extra></extra>",
         "legendgroup": "",
         "marker": {
          "color": [
           0.025503040849474416,
           0.020351559480238826,
           0.01310884457578325,
           0.01253870327028637,
           0.012112380930629912,
           0.010181427753772045,
           0.010106021636944707,
           0.00952389627338733,
           0.00936315380481828,
           0.009264601101128518,
           0.008738647800630567,
           0.008567574601634206,
           0.008460714183316342,
           0.007629234151529939,
           0.007441360679194306,
           0.007190085686323169,
           0.007028429266454046,
           0.007028172538560689,
           0.00680265248794799,
           0.006318360989978951,
           0.006005892336454631,
           0.005805151662105618,
           0.005449316532840897,
           0.005310324051394554,
           0.0052293520738396606,
           0.005184116619035697,
           0.005051111032061777,
           0.005039281010737278,
           0.00500744675196488,
           0.004574346795924948
          ],
          "coloraxis": "coloraxis"
         },
         "name": "",
         "offsetgroup": "",
         "orientation": "v",
         "showlegend": false,
         "textposition": "auto",
         "type": "bar",
         "x": [
          "產品1-12",
          "產品6-12",
          "產品1-3",
          "產品9-12",
          "產品2-12",
          "產品2-3",
          "產品2-35",
          "產品12-12",
          "產品2-29",
          "產品8-35",
          "產品3-35",
          "產品11-12",
          "產品1-35",
          "產品15-12",
          "產品3-12",
          "產品11-36",
          "產品4-3",
          "產品20-12",
          "產品7-12",
          "產品1-9",
          "產品22-12",
          "產品13-12",
          "產品5-3",
          "產品27-12",
          "產品3-3",
          "產品14-12",
          "產品2-6",
          "產品26-12",
          "產品18-140",
          "產品16-12"
         ],
         "xaxis": "x",
         "y": [
          4085308.1500000022,
          3260097.190000107,
          2099893.4950000015,
          2008563.0950000323,
          1940270.9199999878,
          1630953.344999969,
          1618874.1100000015,
          1525623.995000022,
          1499874.8099999991,
          1484087.7449999985,
          1399835.7799999912,
          1372431.7249999845,
          1355313.8549999695,
          1222119.8500000027,
          1192024.5749999871,
          1151773.069999994,
          1125877.4799999977,
          1125836.3549999925,
          1089710.5100000047,
          1012132.3100000074,
          962078.2499999922,
          929921.7899999912,
          872920.8949999963,
          850655.8200000019,
          837684.9949999924,
          830438.7699999883,
          809132.7300000059,
          807237.6899999955,
          802138.189999988,
          732760.3149999941
         ],
         "yaxis": "y"
        }
       ],
       "layout": {
        "barmode": "relative",
        "coloraxis": {
         "colorbar": {
          "title": {
           "text": "利潤佔比"
          }
         },
         "colorscale": [
          [
           0,
           "#0d0887"
          ],
          [
           0.1111111111111111,
           "#46039f"
          ],
          [
           0.2222222222222222,
           "#7201a8"
          ],
          [
           0.3333333333333333,
           "#9c179e"
          ],
          [
           0.4444444444444444,
           "#bd3786"
          ],
          [
           0.5555555555555556,
           "#d8576b"
          ],
          [
           0.6666666666666666,
           "#ed7953"
          ],
          [
           0.7777777777777778,
           "#fb9f3a"
          ],
          [
           0.8888888888888888,
           "#fdca26"
          ],
          [
           1,
           "#f0f921"
          ]
         ]
        },
        "legend": {
         "tracegroupgap": 0
        },
        "template": {
         "data": {
          "bar": [
           {
            "error_x": {
             "color": "#2a3f5f"
            },
            "error_y": {
             "color": "#2a3f5f"
            },
            "marker": {
             "line": {
              "color": "#E5ECF6",
              "width": 0.5
             }
            },
            "type": "bar"
           }
          ],
          "barpolar": [
           {
            "marker": {
             "line": {
              "color": "#E5ECF6",
              "width": 0.5
             }
            },
            "type": "barpolar"
           }
          ],
          "carpet": [
           {
            "aaxis": {
             "endlinecolor": "#2a3f5f",
             "gridcolor": "white",
             "linecolor": "white",
             "minorgridcolor": "white",
             "startlinecolor": "#2a3f5f"
            },
            "baxis": {
             "endlinecolor": "#2a3f5f",
             "gridcolor": "white",
             "linecolor": "white",
             "minorgridcolor": "white",
             "startlinecolor": "#2a3f5f"
            },
            "type": "carpet"
           }
          ],
          "choropleth": [
           {
            "colorbar": {
             "outlinewidth": 0,
             "ticks": ""
            },
            "type": "choropleth"
           }
          ],
          "contour": [
           {
            "colorbar": {
             "outlinewidth": 0,
             "ticks": ""
            },
            "colorscale": [
             [
              0,
              "#0d0887"
             ],
             [
              0.1111111111111111,
              "#46039f"
             ],
             [
              0.2222222222222222,
              "#7201a8"
             ],
             [
              0.3333333333333333,
              "#9c179e"
             ],
             [
              0.4444444444444444,
              "#bd3786"
             ],
             [
              0.5555555555555556,
              "#d8576b"
             ],
             [
              0.6666666666666666,
              "#ed7953"
             ],
             [
              0.7777777777777778,
              "#fb9f3a"
             ],
             [
              0.8888888888888888,
              "#fdca26"
             ],
             [
              1,
              "#f0f921"
             ]
            ],
            "type": "contour"
           }
          ],
          "contourcarpet": [
           {
            "colorbar": {
             "outlinewidth": 0,
             "ticks": ""
            },
            "type": "contourcarpet"
           }
          ],
          "heatmap": [
           {
            "colorbar": {
             "outlinewidth": 0,
             "ticks": ""
            },
            "colorscale": [
             [
              0,
              "#0d0887"
             ],
             [
              0.1111111111111111,
              "#46039f"
             ],
             [
              0.2222222222222222,
              "#7201a8"
             ],
             [
              0.3333333333333333,
              "#9c179e"
             ],
             [
              0.4444444444444444,
              "#bd3786"
             ],
             [
              0.5555555555555556,
              "#d8576b"
             ],
             [
              0.6666666666666666,
              "#ed7953"
             ],
             [
              0.7777777777777778,
              "#fb9f3a"
             ],
             [
              0.8888888888888888,
              "#fdca26"
             ],
             [
              1,
              "#f0f921"
             ]
            ],
            "type": "heatmap"
           }
          ],
          "heatmapgl": [
           {
            "colorbar": {
             "outlinewidth": 0,
             "ticks": ""
            },
            "colorscale": [
             [
              0,
              "#0d0887"
             ],
             [
              0.1111111111111111,
              "#46039f"
             ],
             [
              0.2222222222222222,
              "#7201a8"
             ],
             [
              0.3333333333333333,
              "#9c179e"
             ],
             [
              0.4444444444444444,
              "#bd3786"
             ],
             [
              0.5555555555555556,
              "#d8576b"
             ],
             [
              0.6666666666666666,
              "#ed7953"
             ],
             [
              0.7777777777777778,
              "#fb9f3a"
             ],
             [
              0.8888888888888888,
              "#fdca26"
             ],
             [
              1,
              "#f0f921"
             ]
            ],
            "type": "heatmapgl"
           }
          ],
          "histogram": [
           {
            "marker": {
             "colorbar": {
              "outlinewidth": 0,
              "ticks": ""
             }
            },
            "type": "histogram"
           }
          ],
          "histogram2d": [
           {
            "colorbar": {
             "outlinewidth": 0,
             "ticks": ""
            },
            "colorscale": [
             [
              0,
              "#0d0887"
             ],
             [
              0.1111111111111111,
              "#46039f"
             ],
             [
              0.2222222222222222,
              "#7201a8"
             ],
             [
              0.3333333333333333,
              "#9c179e"
             ],
             [
              0.4444444444444444,
              "#bd3786"
             ],
             [
              0.5555555555555556,
              "#d8576b"
             ],
             [
              0.6666666666666666,
              "#ed7953"
             ],
             [
              0.7777777777777778,
              "#fb9f3a"
             ],
             [
              0.8888888888888888,
              "#fdca26"
             ],
             [
              1,
              "#f0f921"
             ]
            ],
            "type": "histogram2d"
           }
          ],
          "histogram2dcontour": [
           {
            "colorbar": {
             "outlinewidth": 0,
             "ticks": ""
            },
            "colorscale": [
             [
              0,
              "#0d0887"
             ],
             [
              0.1111111111111111,
              "#46039f"
             ],
             [
              0.2222222222222222,
              "#7201a8"
             ],
             [
              0.3333333333333333,
              "#9c179e"
             ],
             [
              0.4444444444444444,
              "#bd3786"
             ],
             [
              0.5555555555555556,
              "#d8576b"
             ],
             [
              0.6666666666666666,
              "#ed7953"
             ],
             [
              0.7777777777777778,
              "#fb9f3a"
             ],
             [
              0.8888888888888888,
              "#fdca26"
             ],
             [
              1,
              "#f0f921"
             ]
            ],
            "type": "histogram2dcontour"
           }
          ],
          "mesh3d": [
           {
            "colorbar": {
             "outlinewidth": 0,
             "ticks": ""
            },
            "type": "mesh3d"
           }
          ],
          "parcoords": [
           {
            "line": {
             "colorbar": {
              "outlinewidth": 0,
              "ticks": ""
             }
            },
            "type": "parcoords"
           }
          ],
          "pie": [
           {
            "automargin": true,
            "type": "pie"
           }
          ],
          "scatter": [
           {
            "marker": {
             "colorbar": {
              "outlinewidth": 0,
              "ticks": ""
             }
            },
            "type": "scatter"
           }
          ],
          "scatter3d": [
           {
            "line": {
             "colorbar": {
              "outlinewidth": 0,
              "ticks": ""
             }
            },
            "marker": {
             "colorbar": {
              "outlinewidth": 0,
              "ticks": ""
             }
            },
            "type": "scatter3d"
           }
          ],
          "scattercarpet": [
           {
            "marker": {
             "colorbar": {
              "outlinewidth": 0,
              "ticks": ""
             }
            },
            "type": "scattercarpet"
           }
          ],
          "scattergeo": [
           {
            "marker": {
             "colorbar": {
              "outlinewidth": 0,
              "ticks": ""
             }
            },
            "type": "scattergeo"
           }
          ],
          "scattergl": [
           {
            "marker": {
             "colorbar": {
              "outlinewidth": 0,
              "ticks": ""
             }
            },
            "type": "scattergl"
           }
          ],
          "scattermapbox": [
           {
            "marker": {
             "colorbar": {
              "outlinewidth": 0,
              "ticks": ""
             }
            },
            "type": "scattermapbox"
           }
          ],
          "scatterpolar": [
           {
            "marker": {
             "colorbar": {
              "outlinewidth": 0,
              "ticks": ""
             }
            },
            "type": "scatterpolar"
           }
          ],
          "scatterpolargl": [
           {
            "marker": {
             "colorbar": {
              "outlinewidth": 0,
              "ticks": ""
             }
            },
            "type": "scatterpolargl"
           }
          ],
          "scatterternary": [
           {
            "marker": {
             "colorbar": {
              "outlinewidth": 0,
              "ticks": ""
             }
            },
            "type": "scatterternary"
           }
          ],
          "surface": [
           {
            "colorbar": {
             "outlinewidth": 0,
             "ticks": ""
            },
            "colorscale": [
             [
              0,
              "#0d0887"
             ],
             [
              0.1111111111111111,
              "#46039f"
             ],
             [
              0.2222222222222222,
              "#7201a8"
             ],
             [
              0.3333333333333333,
              "#9c179e"
             ],
             [
              0.4444444444444444,
              "#bd3786"
             ],
             [
              0.5555555555555556,
              "#d8576b"
             ],
             [
              0.6666666666666666,
              "#ed7953"
             ],
             [
              0.7777777777777778,
              "#fb9f3a"
             ],
             [
              0.8888888888888888,
              "#fdca26"
             ],
             [
              1,
              "#f0f921"
             ]
            ],
            "type": "surface"
           }
          ],
          "table": [
           {
            "cells": {
             "fill": {
              "color": "#EBF0F8"
             },
             "line": {
              "color": "white"
             }
            },
            "header": {
             "fill": {
              "color": "#C8D4E3"
             },
             "line": {
              "color": "white"
             }
            },
            "type": "table"
           }
          ]
         },
         "layout": {
          "annotationdefaults": {
           "arrowcolor": "#2a3f5f",
           "arrowhead": 0,
           "arrowwidth": 1
          },
          "coloraxis": {
           "colorbar": {
            "outlinewidth": 0,
            "ticks": ""
           }
          },
          "colorscale": {
           "diverging": [
            [
             0,
             "#8e0152"
            ],
            [
             0.1,
             "#c51b7d"
            ],
            [
             0.2,
             "#de77ae"
            ],
            [
             0.3,
             "#f1b6da"
            ],
            [
             0.4,
             "#fde0ef"
            ],
            [
             0.5,
             "#f7f7f7"
            ],
            [
             0.6,
             "#e6f5d0"
            ],
            [
             0.7,
             "#b8e186"
            ],
            [
             0.8,
             "#7fbc41"
            ],
            [
             0.9,
             "#4d9221"
            ],
            [
             1,
             "#276419"
            ]
           ],
           "sequential": [
            [
             0,
             "#0d0887"
            ],
            [
             0.1111111111111111,
             "#46039f"
            ],
            [
             0.2222222222222222,
             "#7201a8"
            ],
            [
             0.3333333333333333,
             "#9c179e"
            ],
            [
             0.4444444444444444,
             "#bd3786"
            ],
            [
             0.5555555555555556,
             "#d8576b"
            ],
            [
             0.6666666666666666,
             "#ed7953"
            ],
            [
             0.7777777777777778,
             "#fb9f3a"
            ],
            [
             0.8888888888888888,
             "#fdca26"
            ],
            [
             1,
             "#f0f921"
            ]
           ],
           "sequentialminus": [
            [
             0,
             "#0d0887"
            ],
            [
             0.1111111111111111,
             "#46039f"
            ],
            [
             0.2222222222222222,
             "#7201a8"
            ],
            [
             0.3333333333333333,
             "#9c179e"
            ],
            [
             0.4444444444444444,
             "#bd3786"
            ],
            [
             0.5555555555555556,
             "#d8576b"
            ],
            [
             0.6666666666666666,
             "#ed7953"
            ],
            [
             0.7777777777777778,
             "#fb9f3a"
            ],
            [
             0.8888888888888888,
             "#fdca26"
            ],
            [
             1,
             "#f0f921"
            ]
           ]
          },
          "colorway": [
           "#636efa",
           "#EF553B",
           "#00cc96",
           "#ab63fa",
           "#FFA15A",
           "#19d3f3",
           "#FF6692",
           "#B6E880",
           "#FF97FF",
           "#FECB52"
          ],
          "font": {
           "color": "#2a3f5f"
          },
          "geo": {
           "bgcolor": "white",
           "lakecolor": "white",
           "landcolor": "#E5ECF6",
           "showlakes": true,
           "showland": true,
           "subunitcolor": "white"
          },
          "hoverlabel": {
           "align": "left"
          },
          "hovermode": "closest",
          "mapbox": {
           "style": "light"
          },
          "paper_bgcolor": "white",
          "plot_bgcolor": "#E5ECF6",
          "polar": {
           "angularaxis": {
            "gridcolor": "white",
            "linecolor": "white",
            "ticks": ""
           },
           "bgcolor": "#E5ECF6",
           "radialaxis": {
            "gridcolor": "white",
            "linecolor": "white",
            "ticks": ""
           }
          },
          "scene": {
           "xaxis": {
            "backgroundcolor": "#E5ECF6",
            "gridcolor": "white",
            "gridwidth": 2,
            "linecolor": "white",
            "showbackground": true,
            "ticks": "",
            "zerolinecolor": "white"
           },
           "yaxis": {
            "backgroundcolor": "#E5ECF6",
            "gridcolor": "white",
            "gridwidth": 2,
            "linecolor": "white",
            "showbackground": true,
            "ticks": "",
            "zerolinecolor": "white"
           },
           "zaxis": {
            "backgroundcolor": "#E5ECF6",
            "gridcolor": "white",
            "gridwidth": 2,
            "linecolor": "white",
            "showbackground": true,
            "ticks": "",
            "zerolinecolor": "white"
           }
          },
          "shapedefaults": {
           "line": {
            "color": "#2a3f5f"
           }
          },
          "ternary": {
           "aaxis": {
            "gridcolor": "white",
            "linecolor": "white",
            "ticks": ""
           },
           "baxis": {
            "gridcolor": "white",
            "linecolor": "white",
            "ticks": ""
           },
           "bgcolor": "#E5ECF6",
           "caxis": {
            "gridcolor": "white",
            "linecolor": "white",
            "ticks": ""
           }
          },
          "title": {
           "x": 0.05
          },
          "xaxis": {
           "automargin": true,
           "gridcolor": "white",
           "linecolor": "white",
           "ticks": "",
           "title": {
            "standoff": 15
           },
           "zerolinecolor": "white",
           "zerolinewidth": 2
          },
          "yaxis": {
           "automargin": true,
           "gridcolor": "white",
           "linecolor": "white",
           "ticks": "",
           "title": {
            "standoff": 15
           },
           "zerolinecolor": "white",
           "zerolinewidth": 2
          }
         }
        },
        "title": {
         "text": "2019年各產品利潤排序長條圖"
        },
        "xaxis": {
         "anchor": "y",
         "domain": [
          0,
          1
         ],
         "title": {
          "text": "產品"
         }
        },
        "yaxis": {
         "anchor": "x",
         "domain": [
          0,
          1
         ],
         "title": {
          "text": "利潤"
         }
        }
       }
      }
     },
     "metadata": {}
    }
   ],
   "source": [
    "SKU_fig = px.bar(data_frame = SKU_data_30,\n",
    "             x = '產品', \n",
    "             y = '利潤',\n",
    "             title='2019年各產品利潤排序長條圖' ,\n",
    "             color = '利潤佔比')\n",
    "# plot(fig, filename='2019年個系列利潤.html')\n",
    "SKU_fig"
   ]
  },
  {
   "cell_type": "code",
   "execution_count": 38,
   "metadata": {},
   "outputs": [
    {
     "output_type": "execute_result",
     "data": {
      "text/plain": [
       "       系列            利潤      利潤佔比\n",
       "0     系列1  1.419335e+07  0.088604\n",
       "163   系列2  1.264190e+07  0.078919\n",
       "274   系列3  8.772754e+06  0.054765\n",
       "607   系列6  5.128763e+06  0.032017\n",
       "718   系列7  4.195607e+06  0.026192\n",
       "385   系列4  4.179078e+06  0.026088\n",
       "496   系列5  4.087930e+06  0.025519\n",
       "64   系列11  4.069565e+06  0.025405\n",
       "940   系列9  3.867114e+06  0.024141\n",
       "1    系列10  3.256977e+06  0.020332"
      ],
      "text/html": "<div>\n<style scoped>\n    .dataframe tbody tr th:only-of-type {\n        vertical-align: middle;\n    }\n\n    .dataframe tbody tr th {\n        vertical-align: top;\n    }\n\n    .dataframe thead th {\n        text-align: right;\n    }\n</style>\n<table border=\"1\" class=\"dataframe\">\n  <thead>\n    <tr style=\"text-align: right;\">\n      <th></th>\n      <th>系列</th>\n      <th>利潤</th>\n      <th>利潤佔比</th>\n    </tr>\n  </thead>\n  <tbody>\n    <tr>\n      <th>0</th>\n      <td>系列1</td>\n      <td>1.419335e+07</td>\n      <td>0.088604</td>\n    </tr>\n    <tr>\n      <th>163</th>\n      <td>系列2</td>\n      <td>1.264190e+07</td>\n      <td>0.078919</td>\n    </tr>\n    <tr>\n      <th>274</th>\n      <td>系列3</td>\n      <td>8.772754e+06</td>\n      <td>0.054765</td>\n    </tr>\n    <tr>\n      <th>607</th>\n      <td>系列6</td>\n      <td>5.128763e+06</td>\n      <td>0.032017</td>\n    </tr>\n    <tr>\n      <th>718</th>\n      <td>系列7</td>\n      <td>4.195607e+06</td>\n      <td>0.026192</td>\n    </tr>\n    <tr>\n      <th>385</th>\n      <td>系列4</td>\n      <td>4.179078e+06</td>\n      <td>0.026088</td>\n    </tr>\n    <tr>\n      <th>496</th>\n      <td>系列5</td>\n      <td>4.087930e+06</td>\n      <td>0.025519</td>\n    </tr>\n    <tr>\n      <th>64</th>\n      <td>系列11</td>\n      <td>4.069565e+06</td>\n      <td>0.025405</td>\n    </tr>\n    <tr>\n      <th>940</th>\n      <td>系列9</td>\n      <td>3.867114e+06</td>\n      <td>0.024141</td>\n    </tr>\n    <tr>\n      <th>1</th>\n      <td>系列10</td>\n      <td>3.256977e+06</td>\n      <td>0.020332</td>\n    </tr>\n  </tbody>\n</table>\n</div>"
     },
     "metadata": {},
     "execution_count": 38
    }
   ],
   "source": [
    "# 將「各系列」的「利潤」分別總和\n",
    "profit_data = all_data.groupby('系列', as_index = False)['利潤'].sum()\n",
    "\n",
    "profit_data['利潤佔比'] = profit_data['利潤'] / profit_data['利潤'].sum()\n",
    "profit_data = profit_data.sort_values('利潤佔比', ascending = False)\n",
    "# 計算每個系列的利潤在總利潤的佔比\n",
    "\n",
    "profit_data = profit_data.sort_values('利潤佔比', ascending = False)\n",
    "top30 = profit_data.iloc[:30]\n",
    "top10_profit = profit_data.iloc[0:10]\n",
    "top10_profit\n"
   ]
  },
  {
   "cell_type": "code",
   "execution_count": 78,
   "metadata": {},
   "outputs": [
    {
     "output_type": "execute_result",
     "data": {
      "text/plain": [
       "          系列            利潤          利潤佔比    累積利潤佔比\n",
       "0        系列1  1.419335e+07  8.860377e-02  0.088604\n",
       "163      系列2  1.264190e+07  7.891864e-02  0.167522\n",
       "274      系列3  8.772754e+06  5.476500e-02  0.222287\n",
       "607      系列6  5.128763e+06  3.201694e-02  0.254304\n",
       "718      系列7  4.195607e+06  2.619160e-02  0.280496\n",
       "...      ...           ...           ...       ...\n",
       "622    系列612  1.348900e+02  8.420675e-07  0.999998\n",
       "43    系列1037  1.118600e+02  6.982999e-07  0.999999\n",
       "1006   系列959  9.376500e+01  5.853396e-07  1.000000\n",
       "7     系列1004  5.922000e+01  3.696882e-07  1.000000\n",
       "855    系列822  0.000000e+00  0.000000e+00  1.000000\n",
       "\n",
       "[1051 rows x 4 columns]"
      ],
      "text/html": "<div>\n<style scoped>\n    .dataframe tbody tr th:only-of-type {\n        vertical-align: middle;\n    }\n\n    .dataframe tbody tr th {\n        vertical-align: top;\n    }\n\n    .dataframe thead th {\n        text-align: right;\n    }\n</style>\n<table border=\"1\" class=\"dataframe\">\n  <thead>\n    <tr style=\"text-align: right;\">\n      <th></th>\n      <th>系列</th>\n      <th>利潤</th>\n      <th>利潤佔比</th>\n      <th>累積利潤佔比</th>\n    </tr>\n  </thead>\n  <tbody>\n    <tr>\n      <th>0</th>\n      <td>系列1</td>\n      <td>1.419335e+07</td>\n      <td>8.860377e-02</td>\n      <td>0.088604</td>\n    </tr>\n    <tr>\n      <th>163</th>\n      <td>系列2</td>\n      <td>1.264190e+07</td>\n      <td>7.891864e-02</td>\n      <td>0.167522</td>\n    </tr>\n    <tr>\n      <th>274</th>\n      <td>系列3</td>\n      <td>8.772754e+06</td>\n      <td>5.476500e-02</td>\n      <td>0.222287</td>\n    </tr>\n    <tr>\n      <th>607</th>\n      <td>系列6</td>\n      <td>5.128763e+06</td>\n      <td>3.201694e-02</td>\n      <td>0.254304</td>\n    </tr>\n    <tr>\n      <th>718</th>\n      <td>系列7</td>\n      <td>4.195607e+06</td>\n      <td>2.619160e-02</td>\n      <td>0.280496</td>\n    </tr>\n    <tr>\n      <th>...</th>\n      <td>...</td>\n      <td>...</td>\n      <td>...</td>\n      <td>...</td>\n    </tr>\n    <tr>\n      <th>622</th>\n      <td>系列612</td>\n      <td>1.348900e+02</td>\n      <td>8.420675e-07</td>\n      <td>0.999998</td>\n    </tr>\n    <tr>\n      <th>43</th>\n      <td>系列1037</td>\n      <td>1.118600e+02</td>\n      <td>6.982999e-07</td>\n      <td>0.999999</td>\n    </tr>\n    <tr>\n      <th>1006</th>\n      <td>系列959</td>\n      <td>9.376500e+01</td>\n      <td>5.853396e-07</td>\n      <td>1.000000</td>\n    </tr>\n    <tr>\n      <th>7</th>\n      <td>系列1004</td>\n      <td>5.922000e+01</td>\n      <td>3.696882e-07</td>\n      <td>1.000000</td>\n    </tr>\n    <tr>\n      <th>855</th>\n      <td>系列822</td>\n      <td>0.000000e+00</td>\n      <td>0.000000e+00</td>\n      <td>1.000000</td>\n    </tr>\n  </tbody>\n</table>\n<p>1051 rows × 4 columns</p>\n</div>"
     },
     "metadata": {},
     "execution_count": 78
    }
   ],
   "source": [
    "profit_data"
   ]
  },
  {
   "cell_type": "code",
   "execution_count": 64,
   "metadata": {},
   "outputs": [],
   "source": [
    "import plotly.graph_objs as go\n",
    "import plotly.offline as py"
   ]
  },
  {
   "cell_type": "code",
   "execution_count": 79,
   "metadata": {},
   "outputs": [
    {
     "output_type": "display_data",
     "data": {
      "application/vnd.plotly.v1+json": {
       "config": {
        "linkText": "Export to plot.ly",
        "plotlyServerURL": "https://plot.ly",
        "showLink": false
       },
       "data": [
        {
         "line": {
          "color": "#1B813E"
         },
         "name": "系列利潤累積佔比折線圖",
         "type": "scatter",
         "x": [
          "系列1",
          "系列2",
          "系列3",
          "系列6",
          "系列7",
          "系列4",
          "系列5",
          "系列11",
          "系列9",
          "系列10",
          "系列14",
          "系列18",
          "系列12",
          "系列20",
          "系列13",
          "系列15",
          "系列8",
          "系列16",
          "系列17",
          "系列22",
          "系列21",
          "系列27",
          "系列29",
          "系列24",
          "系列19",
          "系列26",
          "系列23",
          "系列32",
          "系列31",
          "系列28",
          "系列35",
          "系列33",
          "系列39",
          "系列43",
          "系列38",
          "系列45",
          "系列42",
          "系列40",
          "系列34",
          "系列36",
          "系列37",
          "系列48",
          "系列30",
          "系列41",
          "系列46",
          "系列47",
          "系列44",
          "系列60",
          "系列50",
          "系列55",
          "系列51",
          "系列57",
          "系列53",
          "系列61",
          "系列49",
          "系列62",
          "系列56",
          "系列69",
          "系列71",
          "系列25",
          "系列59",
          "系列58",
          "系列73",
          "系列77",
          "系列68",
          "系列63",
          "系列78",
          "系列54",
          "系列66",
          "系列64",
          "系列76",
          "系列65",
          "系列74",
          "系列81",
          "系列72",
          "系列67",
          "系列70",
          "系列79",
          "系列83",
          "系列52",
          "系列85",
          "系列75",
          "系列80",
          "系列91",
          "系列88",
          "系列86",
          "系列96",
          "系列95",
          "系列82",
          "系列94",
          "系列89",
          "系列92",
          "系列100",
          "系列90",
          "系列105",
          "系列106",
          "系列108",
          "系列109",
          "系列111",
          "系列104",
          "系列87",
          "系列118",
          "系列98",
          "系列99",
          "系列114",
          "系列103",
          "系列117",
          "系列113",
          "系列112",
          "系列93",
          "系列110",
          "系列132",
          "系列127",
          "系列101",
          "系列121",
          "系列123",
          "系列116",
          "系列115",
          "系列119",
          "系列126",
          "系列84",
          "系列97",
          "系列124",
          "系列136",
          "系列125",
          "系列122",
          "系列142",
          "系列143",
          "系列102",
          "系列107",
          "系列128",
          "系列134",
          "系列131",
          "系列133",
          "系列129",
          "系列144",
          "系列139",
          "系列146",
          "系列141",
          "系列166",
          "系列150",
          "系列140",
          "系列155",
          "系列161",
          "系列169",
          "系列130",
          "系列135",
          "系列153",
          "系列137",
          "系列156",
          "系列120",
          "系列158",
          "系列163",
          "系列147",
          "系列145",
          "系列138",
          "系列159",
          "系列162",
          "系列157",
          "系列149",
          "系列177",
          "系列151",
          "系列181",
          "系列154",
          "系列165",
          "系列152",
          "系列174",
          "系列172",
          "系列185",
          "系列167",
          "系列214",
          "系列182",
          "系列171",
          "系列198",
          "系列200",
          "系列189",
          "系列206",
          "系列179",
          "系列170",
          "系列195",
          "系列186",
          "系列173",
          "系列193",
          "系列175",
          "系列187",
          "系列168",
          "系列164",
          "系列178",
          "系列202",
          "系列184",
          "系列160",
          "系列196",
          "系列148",
          "系列211",
          "系列191",
          "系列194",
          "系列208",
          "系列180",
          "系列201",
          "系列218",
          "系列197",
          "系列190",
          "系列212",
          "系列215",
          "系列209",
          "系列219",
          "系列203",
          "系列213",
          "系列205",
          "系列225",
          "系列224",
          "系列199",
          "系列220",
          "系列183",
          "系列239",
          "系列216",
          "系列233",
          "系列221",
          "系列229",
          "系列222",
          "系列227",
          "系列204",
          "系列230",
          "系列210",
          "系列188",
          "系列247",
          "系列260",
          "系列252",
          "系列248",
          "系列237",
          "系列234",
          "系列249",
          "系列176",
          "系列263",
          "系列232",
          "系列228",
          "系列246",
          "系列256",
          "系列226",
          "系列268",
          "系列267",
          "系列270",
          "系列253",
          "系列223",
          "系列192",
          "系列251",
          "系列235",
          "系列243",
          "系列259",
          "系列242",
          "系列241",
          "系列257",
          "系列255",
          "系列245",
          "系列286",
          "系列254",
          "系列250",
          "系列266",
          "系列236",
          "系列265",
          "系列264",
          "系列262",
          "系列240",
          "系列261",
          "系列278",
          "系列289",
          "系列217",
          "系列301",
          "系列294",
          "系列277",
          "系列238",
          "系列275",
          "系列279",
          "系列244",
          "系列258",
          "系列291",
          "系列284",
          "系列231",
          "系列273",
          "系列272",
          "系列287",
          "系列280",
          "系列276",
          "系列269",
          "系列282",
          "系列283",
          "系列296",
          "系列290",
          "系列285",
          "系列300",
          "系列281",
          "系列295",
          "系列298",
          "系列299",
          "系列288",
          "系列292",
          "系列297",
          "系列207",
          "系列320",
          "系列322",
          "系列305",
          "系列271",
          "系列274",
          "系列326",
          "系列302",
          "系列304",
          "系列306",
          "系列345",
          "系列335",
          "系列325",
          "系列313",
          "系列307",
          "系列312",
          "系列329",
          "系列293",
          "系列314",
          "系列330",
          "系列324",
          "系列309",
          "系列319",
          "系列340",
          "系列315",
          "系列310",
          "系列342",
          "系列327",
          "系列336",
          "系列343",
          "系列317",
          "系列331",
          "系列311",
          "系列351",
          "系列323",
          "系列316",
          "系列363",
          "系列371",
          "系列359",
          "系列350",
          "系列369",
          "系列365",
          "系列334",
          "系列308",
          "系列338",
          "系列368",
          "系列372",
          "系列346",
          "系列354",
          "系列339",
          "系列370",
          "系列361",
          "系列303",
          "系列362",
          "系列348",
          "系列379",
          "系列355",
          "系列352",
          "系列364",
          "系列337",
          "系列366",
          "系列347",
          "系列398",
          "系列332",
          "系列333",
          "系列321",
          "系列328",
          "系列396",
          "系列422",
          "系列417",
          "系列358",
          "系列353",
          "系列427",
          "系列349",
          "系列360",
          "系列404",
          "系列373",
          "系列399",
          "系列406",
          "系列344",
          "系列395",
          "系列400",
          "系列377",
          "系列429",
          "系列318",
          "系列356",
          "系列403",
          "系列392",
          "系列383",
          "系列402",
          "系列375",
          "系列341",
          "系列388",
          "系列413",
          "系列384",
          "系列408",
          "系列367",
          "系列415",
          "系列397",
          "系列393",
          "系列394",
          "系列390",
          "系列435",
          "系列381",
          "系列376",
          "系列412",
          "系列420",
          "系列391",
          "系列431",
          "系列410",
          "系列416",
          "系列374",
          "系列414",
          "系列411",
          "系列386",
          "系列382",
          "系列424",
          "系列432",
          "系列409",
          "系列357",
          "系列444",
          "系列430",
          "系列434",
          "系列401",
          "系列473",
          "系列448",
          "系列466",
          "系列426",
          "系列454",
          "系列419",
          "系列468",
          "系列446",
          "系列449",
          "系列380",
          "系列457",
          "系列378",
          "系列447",
          "系列467",
          "系列428",
          "系列436",
          "系列491",
          "系列485",
          "系列519",
          "系列477",
          "系列425",
          "系列479",
          "系列458",
          "系列451",
          "系列441",
          "系列418",
          "系列421",
          "系列497",
          "系列463",
          "系列470",
          "系列455",
          "系列387",
          "系列496",
          "系列460",
          "系列465",
          "系列438",
          "系列407",
          "系列453",
          "系列439",
          "系列476",
          "系列442",
          "系列450",
          "系列506",
          "系列499",
          "系列459",
          "系列437",
          "系列423",
          "系列481",
          "系列445",
          "系列405",
          "系列440",
          "系列475",
          "系列472",
          "系列461",
          "系列483",
          "系列515",
          "系列452",
          "系列503",
          "系列487",
          "系列501",
          "系列443",
          "系列490",
          "系列513",
          "系列462",
          "系列492",
          "系列512",
          "系列469",
          "系列514",
          "系列471",
          "系列482",
          "系列510",
          "系列532",
          "系列456",
          "系列527",
          "系列526",
          "系列524",
          "系列539",
          "系列495",
          "系列464",
          "系列489",
          "系列385",
          "系列522",
          "系列533",
          "系列691",
          "系列517",
          "系列508",
          "系列551",
          "系列536",
          "系列494",
          "系列523",
          "系列531",
          "系列518",
          "系列500",
          "系列516",
          "系列521",
          "系列502",
          "系列541",
          "系列484",
          "系列542",
          "系列504",
          "系列558",
          "系列552",
          "系列544",
          "系列474",
          "系列478",
          "系列520",
          "系列488",
          "系列525",
          "系列569",
          "系列505",
          "系列498",
          "系列545",
          "系列561",
          "系列486",
          "系列549",
          "系列493",
          "系列529",
          "系列616",
          "系列547",
          "系列568",
          "系列601",
          "系列586",
          "系列548",
          "系列572",
          "系列528",
          "系列530",
          "系列560",
          "系列557",
          "系列550",
          "系列534",
          "系列594",
          "系列596",
          "系列389",
          "系列597",
          "系列566",
          "系列603",
          "系列540",
          "系列507",
          "系列538",
          "系列562",
          "系列618",
          "系列619",
          "系列583",
          "系列608",
          "系列546",
          "系列581",
          "系列555",
          "系列554",
          "系列576",
          "系列537",
          "系列589",
          "系列593",
          "系列604",
          "系列571",
          "系列605",
          "系列511",
          "系列631",
          "系列567",
          "系列633",
          "系列590",
          "系列607",
          "系列543",
          "系列653",
          "系列626",
          "系列585",
          "系列556",
          "系列577",
          "系列640",
          "系列609",
          "系列623",
          "系列621",
          "系列599",
          "系列673",
          "系列628",
          "系列627",
          "系列667",
          "系列600",
          "系列634",
          "系列680",
          "系列669",
          "系列665",
          "系列638",
          "系列629",
          "系列553",
          "系列606",
          "系列559",
          "系列563",
          "系列635",
          "系列565",
          "系列614",
          "系列645",
          "系列578",
          "系列598",
          "系列620",
          "系列646",
          "系列630",
          "系列675",
          "系列575",
          "系列636",
          "系列591",
          "系列644",
          "系列657",
          "系列570",
          "系列664",
          "系列573",
          "系列686",
          "系列637",
          "系列687",
          "系列659",
          "系列595",
          "系列622",
          "系列584",
          "系列641",
          "系列728",
          "系列480",
          "系列615",
          "系列670",
          "系列610",
          "系列658",
          "系列701",
          "系列643",
          "系列579",
          "系列718",
          "系列611",
          "系列699",
          "系列613",
          "系列535",
          "系列509",
          "系列713",
          "系列656",
          "系列683",
          "系列711",
          "系列648",
          "系列625",
          "系列684",
          "系列710",
          "系列727",
          "系列678",
          "系列632",
          "系列677",
          "系列709",
          "系列639",
          "系列617",
          "系列662",
          "系列681",
          "系列716",
          "系列564",
          "系列745",
          "系列734",
          "系列694",
          "系列689",
          "系列582",
          "系列660",
          "系列685",
          "系列602",
          "系列725",
          "系列661",
          "系列588",
          "系列676",
          "系列698",
          "系列666",
          "系列592",
          "系列651",
          "系列731",
          "系列693",
          "系列647",
          "系列729",
          "系列722",
          "系列726",
          "系列674",
          "系列780",
          "系列735",
          "系列754",
          "系列743",
          "系列760",
          "系列779",
          "系列580",
          "系列724",
          "系列732",
          "系列697",
          "系列798",
          "系列761",
          "系列655",
          "系列739",
          "系列720",
          "系列654",
          "系列721",
          "系列574",
          "系列801",
          "系列712",
          "系列672",
          "系列702",
          "系列650",
          "系列788",
          "系列797",
          "系列692",
          "系列649",
          "系列758",
          "系列671",
          "系列794",
          "系列765",
          "系列755",
          "系列764",
          "系列793",
          "系列784",
          "系列652",
          "系列642",
          "系列770",
          "系列695",
          "系列733",
          "系列746",
          "系列736",
          "系列767",
          "系列706",
          "系列679",
          "系列753",
          "系列782",
          "系列824",
          "系列705",
          "系列768",
          "系列796",
          "系列707",
          "系列769",
          "系列757",
          "系列704",
          "系列749",
          "系列772",
          "系列766",
          "系列737",
          "系列800",
          "系列852",
          "系列624",
          "系列433",
          "系列889",
          "系列906",
          "系列771",
          "系列751",
          "系列742",
          "系列805",
          "系列741",
          "系列790",
          "系列786",
          "系列708",
          "系列759",
          "系列703",
          "系列719",
          "系列723",
          "系列752",
          "系列715",
          "系列717",
          "系列875",
          "系列874",
          "系列802",
          "系列690",
          "系列740",
          "系列902",
          "系列908",
          "系列748",
          "系列795",
          "系列763",
          "系列899",
          "系列844",
          "系列858",
          "系列787",
          "系列862",
          "系列816",
          "系列730",
          "系列804",
          "系列700",
          "系列838",
          "系列835",
          "系列696",
          "系列880",
          "系列688",
          "系列873",
          "系列851",
          "系列896",
          "系列853",
          "系列778",
          "系列832",
          "系列842",
          "系列839",
          "系列831",
          "系列860",
          "系列867",
          "系列714",
          "系列886",
          "系列811",
          "系列914",
          "系列903",
          "系列807",
          "系列815",
          "系列954",
          "系列856",
          "系列775",
          "系列750",
          "系列958",
          "系列744",
          "系列911",
          "系列756",
          "系列885",
          "系列836",
          "系列809",
          "系列833",
          "系列803",
          "系列781",
          "系列891",
          "系列883",
          "系列869",
          "系列868",
          "系列905",
          "系列887",
          "系列900",
          "系列854",
          "系列783",
          "系列817",
          "系列841",
          "系列773",
          "系列941",
          "系列870",
          "系列848",
          "系列829",
          "系列912",
          "系列850",
          "系列857",
          "系列774",
          "系列863",
          "系列830",
          "系列904",
          "系列840",
          "系列847",
          "系列819",
          "系列913",
          "系列901",
          "系列820",
          "系列845",
          "系列668",
          "系列777",
          "系列882",
          "系列895",
          "系列890",
          "系列1025",
          "系列877",
          "系列893",
          "系列897",
          "系列789",
          "系列747",
          "系列738",
          "系列792",
          "系列834",
          "系列871",
          "系列785",
          "系列888",
          "系列1044",
          "系列825",
          "系列992",
          "系列894",
          "系列799",
          "系列910",
          "系列855",
          "系列682",
          "系列1013",
          "系列762",
          "系列776",
          "系列823",
          "系列948",
          "系列791",
          "系列1014",
          "系列810",
          "系列866",
          "系列827",
          "系列898",
          "系列865",
          "系列1036",
          "系列923",
          "系列1028",
          "系列1049",
          "系列951",
          "系列942",
          "系列970",
          "系列918",
          "系列861",
          "系列988",
          "系列879",
          "系列964",
          "系列972",
          "系列979",
          "系列663",
          "系列963",
          "系列1008",
          "系列837",
          "系列813",
          "系列859",
          "系列872",
          "系列916",
          "系列826",
          "系列1027",
          "系列933",
          "系列928",
          "系列936",
          "系列931",
          "系列996",
          "系列917",
          "系列846",
          "系列1033",
          "系列884",
          "系列1003",
          "系列1030",
          "系列806",
          "系列997",
          "系列995",
          "系列814",
          "系列977",
          "系列967",
          "系列876",
          "系列828",
          "系列1010",
          "系列1040",
          "系列994",
          "系列892",
          "系列1035",
          "系列985",
          "系列1038",
          "系列1012",
          "系列968",
          "系列1018",
          "系列878",
          "系列1046",
          "系列821",
          "系列990",
          "系列965",
          "系列998",
          "系列991",
          "系列938",
          "系列1034",
          "系列953",
          "系列812",
          "系列989",
          "系列1045",
          "系列843",
          "系列986",
          "系列987",
          "系列940",
          "系列1024",
          "系列864",
          "系列907",
          "系列922",
          "系列909",
          "系列1009",
          "系列930",
          "系列849",
          "系列1001",
          "系列932",
          "系列1048",
          "系列929",
          "系列944",
          "系列947",
          "系列984",
          "系列881",
          "系列1039",
          "系列1015",
          "系列587",
          "系列982",
          "系列1005",
          "系列808",
          "系列952",
          "系列1032",
          "系列976",
          "系列961",
          "系列924",
          "系列1011",
          "系列1031",
          "系列945",
          "系列1026",
          "系列955",
          "系列1023",
          "系列1051",
          "系列1017",
          "系列1000",
          "系列1043",
          "系列818",
          "系列949",
          "系列937",
          "系列962",
          "系列974",
          "系列1007",
          "系列926",
          "系列946",
          "系列939",
          "系列983",
          "系列927",
          "系列1050",
          "系列973",
          "系列999",
          "系列1020",
          "系列1047",
          "系列966",
          "系列981",
          "系列971",
          "系列1006",
          "系列1021",
          "系列980",
          "系列925",
          "系列1019",
          "系列1029",
          "系列1042",
          "系列943",
          "系列975",
          "系列978",
          "系列935",
          "系列969",
          "系列1022",
          "系列1016",
          "系列920",
          "系列950",
          "系列1041",
          "系列921",
          "系列957",
          "系列956",
          "系列934",
          "系列960",
          "系列993",
          "系列919",
          "系列915",
          "系列1002",
          "系列612",
          "系列1037",
          "系列959",
          "系列1004",
          "系列822"
         ],
         "y": [
          0.08860376871618603,
          0.16752240577285843,
          0.22228740486383897,
          0.25430434093596216,
          0.2804959362644498,
          0.30658434751805247,
          0.33210375733800385,
          0.357508522749913,
          0.38164945781944404,
          0.40198153678713616,
          0.4213712190040094,
          0.438754336544883,
          0.4539599189019175,
          0.4682031413471484,
          0.4824267087048664,
          0.49631490728097594,
          0.5094019505240581,
          0.5223489435667733,
          0.5335300081224603,
          0.5437100495456086,
          0.5532856610858273,
          0.562257356198903,
          0.5711895665619853,
          0.5800599979248177,
          0.5880213968938477,
          0.5959596800833628,
          0.6038572462289965,
          0.6111522001251851,
          0.6184332393695556,
          0.6255295577601206,
          0.6320668254901802,
          0.6384744559032263,
          0.6448550682727787,
          0.6510998407794149,
          0.6573197106803984,
          0.663415416703054,
          0.669275477326984,
          0.674998188527985,
          0.6806761263843901,
          0.6863417515710313,
          0.6918925680437773,
          0.6972014236116221,
          0.7024240494146566,
          0.7073502161155948,
          0.712244373982793,
          0.7170624479715254,
          0.7218199136392015,
          0.7262279110293673,
          0.7305593418926278,
          0.7348750610088168,
          0.7391617185274814,
          0.7433746027187199,
          0.7475503127110049,
          0.7515662866080629,
          0.7555813876302835,
          0.7595512531977002,
          0.7634199885133782,
          0.7672200850594967,
          0.7710069036389723,
          0.7747019368620263,
          0.7783202905979019,
          0.7818085243683244,
          0.7852937903643,
          0.7885354113203941,
          0.7917384101322162,
          0.7949022528057484,
          0.798047354343068,
          0.8011602827407959,
          0.804160353556618,
          0.8070896290885766,
          0.8099334245011737,
          0.8126815528316019,
          0.8154040391800449,
          0.8180882936106137,
          0.8207073905018567,
          0.8233074997981092,
          0.8257960248828069,
          0.8282147507878672,
          0.8305439402728514,
          0.8328633638287735,
          0.835169807222409,
          0.8373891685146285,
          0.8395874575813639,
          0.8417460565157912,
          0.8438834291879983,
          0.8460034367855008,
          0.848113072576113,
          0.8502097384735544,
          0.8522983123077982,
          0.8543660706444511,
          0.8563962645557528,
          0.858378470889234,
          0.8602879821524413,
          0.8621439605153323,
          0.8639040458755084,
          0.8655385604885012,
          0.8671655375705459,
          0.8687698199068207,
          0.8703327690522701,
          0.8718711236655389,
          0.8733817927427915,
          0.874889237317704,
          0.8763719538619312,
          0.877854074797446,
          0.8793268302994123,
          0.880795108466919,
          0.8822473873521136,
          0.883693330192901,
          0.8851129327518331,
          0.8865095016841762,
          0.887845770368935,
          0.8891423694596171,
          0.8904336902248124,
          0.8917121027115315,
          0.892980297428096,
          0.8942450006453114,
          0.8954880873739088,
          0.8967284014412583,
          0.8979274542015925,
          0.8991088851593289,
          0.9002859003972999,
          0.9014560250586142,
          0.902581201800365,
          0.9036738254452422,
          0.9047469069628795,
          0.9057948702234339,
          0.9068231578582437,
          0.907844544647281,
          0.9088460093517963,
          0.9098057301008567,
          0.9107647422809317,
          0.9117203656528148,
          0.9126610269230748,
          0.9136008461258448,
          0.9145222425349897,
          0.915433123369624,
          0.9163433675190829,
          0.9172247349151005,
          0.9180955970057232,
          0.9189634707836676,
          0.9198174299097938,
          0.920670926925712,
          0.9215205730232303,
          0.9223348317479326,
          0.9231327523095038,
          0.9239294508463026,
          0.924720244641555,
          0.9255092105342069,
          0.9262731608609331,
          0.9270344309484532,
          0.9277743618134799,
          0.9285024010424878,
          0.9292226768200016,
          0.9299406933920541,
          0.9306539450944065,
          0.9313570098339518,
          0.932054919477399,
          0.9327487522819004,
          0.9334382617886781,
          0.9341196586940266,
          0.9347855389655025,
          0.9354510392796964,
          0.9361030562449328,
          0.9367542208735634,
          0.937389345143419,
          0.9380218918652256,
          0.9386416432688288,
          0.9392555310073485,
          0.9398425547391106,
          0.9404167523453222,
          0.9409638086786515,
          0.9415055353409153,
          0.9420273091113098,
          0.9425488569611583,
          0.9430656912868853,
          0.943575306424252,
          0.9440828266620092,
          0.9445784244564003,
          0.9450706950572939,
          0.9455582624031817,
          0.9460342564556385,
          0.946508874446587,
          0.9469833589390311,
          0.94744726624227,
          0.9479095510252232,
          0.948371045086265,
          0.9488316765415852,
          0.9492888267666719,
          0.9497432556760894,
          0.9501943676611251,
          0.9506373773138475,
          0.9510785487948535,
          0.951505589972611,
          0.9519304232904859,
          0.9523546815378798,
          0.9527785392897601,
          0.9531997989553599,
          0.9536156159896212,
          0.9540296256595134,
          0.9544427932619156,
          0.9548494707831745,
          0.9552554910810265,
          0.9556573318487751,
          0.9560573652521548,
          0.9564562690528038,
          0.9568496686074199,
          0.9572400182346633,
          0.957630357592791,
          0.9580097295353158,
          0.9583876227251751,
          0.9587637701653597,
          0.9591389831160126,
          0.959512758390463,
          0.9598828881288282,
          0.9602318326814361,
          0.9605802227017944,
          0.9609223588306713,
          0.9612633756259333,
          0.9615980871841353,
          0.9619283316769934,
          0.9622562656188116,
          0.9625837374504218,
          0.962911168205569,
          0.963237839046152,
          0.9635637910486337,
          0.9638883259131442,
          0.9642026430075004,
          0.9645149678934043,
          0.9648267074397114,
          0.9651308889168391,
          0.9654298434140587,
          0.9657247826870267,
          0.9660142690595404,
          0.9663024717925874,
          0.9665874705615258,
          0.9668691524060825,
          0.967149109039196,
          0.967426354625756,
          0.9676978905839684,
          0.9679662431163035,
          0.9682332606635934,
          0.9684965505218722,
          0.9687593577317116,
          0.9690216720239958,
          0.9692804434713521,
          0.9695381674689036,
          0.9697912909026067,
          0.9700430690821489,
          0.9702908936521337,
          0.9705378350781656,
          0.9707766228263054,
          0.9710124222617669,
          0.9712478622781777,
          0.9714815873522612,
          0.9717086169628867,
          0.9719356465735122,
          0.9721614130829025,
          0.9723864299468443,
          0.9726079142349741,
          0.9728269750117907,
          0.9730450294152656,
          0.973261985023357,
          0.9734776467228661,
          0.9736890159319987,
          0.9738984134709107,
          0.9741068765202909,
          0.974315308762324,
          0.9745229810897927,
          0.9747149827466529,
          0.9749069638652816,
          0.9750984315281237,
          0.9752887695882352,
          0.9754772284001675,
          0.9756643830344017,
          0.9758506545246829,
          0.976036196907747,
          0.9762215749849594,
          0.9764063882608065,
          0.9765910474999177,
          0.9767742485245947,
          0.9769561453715736,
          0.9771380114112054,
          0.977318152239394,
          0.9774976255750599,
          0.9776732171849788,
          0.9778481002259121,
          0.9780228189609936,
          0.9781962437874928,
          0.9783694529625616,
          0.9785421178744965,
          0.9787137661439739,
          0.9788846647680027,
          0.979046896258353,
          0.9792028533189903,
          0.9793570543608372,
          0.9795109370600964,
          0.9796637004257408,
          0.9798117297290322,
          0.9799585678148985,
          0.9801013496000504,
          0.9802435563147212,
          0.9803855165706143,
          0.9805236464463392,
          0.9806616325544437,
          0.9807985301362806,
          0.9809337846596001,
          0.9810682587301239,
          0.9812022706904397,
          0.9813357897332005,
          0.9814672857601617,
          0.9815978472975913,
          0.9817258929016662,
          0.9818527986338949,
          0.9819794373691144,
          0.9821040530885345,
          0.9822286380006074,
          0.9823518776585194,
          0.9824750351635054,
          0.9825954405454751,
          0.9827125084648315,
          0.9828283235520685,
          0.9829440359481482,
          0.9830588241238118,
          0.983171517399866,
          0.9832797744179235,
          0.9833876925551618,
          0.9834943270529334,
          0.9836006637463488,
          0.9837064356383989,
          0.9838121459157545,
          0.9839173016608606,
          0.9840224265986195,
          0.9841242448811124,
          0.9842256010533973,
          0.9843248623260726,
          0.9844239901002434,
          0.984520355482282,
          0.9846164641364273,
          0.9847122749862164,
          0.9848074594199457,
          0.9849005386849498,
          0.9849935871426067,
          0.9850863686032545,
          0.9851787187610415,
          0.9852709456894397,
          0.9853623202812322,
          0.9854536229892145,
          0.9855443608958314,
          0.9856348626127865,
          0.985725158947427,
          0.9858120972812227,
          0.985898974000324,
          0.9859843719667598,
          0.9860694515906079,
          0.9861539972204378,
          0.9862382861223744,
          0.9863218869935569,
          0.9864043993384717,
          0.9864852891631006,
          0.986565357458471,
          0.9866451382186008,
          0.986724785480226,
          0.986804330050694,
          0.9868837821991203,
          0.9869632343475466,
          0.9870424605754269,
          0.9871198999771695,
          0.9871969286142829,
          0.9872731973368319,
          0.9873491477167934,
          0.9874248824453243,
          0.9874998059137124,
          0.9875741440425038,
          0.9876480303302028,
          0.9877216598900085,
          0.987795145682194,
          0.9878678715598151,
          0.9879403509786587,
          0.988012768782808,
          0.9880850017428741,
          0.9881572038955929,
          0.9882291801277656,
          0.9883004888674157,
          0.9883713868424365,
          0.9884411449456109,
          0.9885107387429335,
          0.9885802811946774,
          0.9886497209552642,
          0.9887189553335362,
          0.9887870703781932,
          0.9888551340772717,
          0.9889227459352579,
          0.9889902653712025,
          0.989057250813129,
          0.989123640646343,
          0.9891893013723398,
          0.9892549312909895,
          0.9893201504450099,
          0.9893845172624244,
          0.989448226856432,
          0.9895109095388663,
          0.9895733046860602,
          0.9896355252582866,
          0.989697663677587,
          0.989758939491166,
          0.9898200612680089,
          0.9898809879316529,
          0.9899418119041395,
          0.9900020710752608,
          0.9900621762096462,
          0.9901217062735505,
          0.9901811849918761,
          0.990240078370605,
          0.9902988074434821,
          0.9903566328341747,
          0.9904142631116685,
          0.9904715237009958,
          0.990528712406513,
          0.9905858394973357,
          0.9906429255116955,
          0.990699641837889,
          0.990756296549388,
          0.9908128177623825,
          0.9908689795563264,
          0.9909243198210116,
          0.9909794136269192,
          0.9910340761299661,
          0.9910886359418556,
          0.9911428876802731,
          0.9911968313452186,
          0.9912497480985909,
          0.9913024697387642,
          0.9913548730363498,
          0.9914070914898522,
          0.9914588272949151,
          0.9915100188368442,
          0.991561107687616,
          0.9916120835781147,
          0.9916630389303819,
          0.9917135629797883,
          0.9917637378792599,
          0.9918138408949213,
          0.9918637898738467,
          0.9919133383572585,
          0.9919622604246106,
          0.9920111208772683,
          0.9920597348711484,
          0.9921083488650285,
          0.9921568601677513,
          0.992204991513192,
          0.9922530817821696,
          0.992300915323254,
          0.9923482867541304,
          0.9923952987659562,
          0.9924422799704348,
          0.9924891276764088,
          0.9925358624221098,
          0.9925821966722972,
          0.9926281201578553,
          0.9926739306831402,
          0.9927193715202588,
          0.9927646891279887,
          0.9928099964666027,
          0.9928550778846706,
          0.9929000976880442,
          0.9929449839929132,
          0.9929896649154676,
          0.9930339864189713,
          0.9930780717328132,
          0.9931219722025718,
          0.9931658213267518,
          0.9932094137230385,
          0.9932526056238116,
          0.9932947706130113,
          0.9933363502626142,
          0.9933776731843239,
          0.9934188728766448,
          0.9934599288013454,
          0.9935009333804673,
          0.993541136968562,
          0.9935812686728467,
          0.9936203529273265,
          0.9936593242215334,
          0.9936981722863514,
          0.9937367738923918,
          0.9937752625381592,
          0.9938131350369825,
          0.9938508226917228,
          0.9938884076553056,
          0.9939257872365738,
          0.9939628176679071,
          0.9939994681419582,
          0.9940359235028103,
          0.9940718140622973,
          0.9941075711232796,
          0.9941432665695676,
          0.9941789517467399,
          0.994214452079829,
          0.9942498599908763,
          0.9942849598284518,
          0.994319720785208,
          0.9943541736684923,
          0.9943881028268742,
          0.9944218471411729,
          0.994455344996694,
          0.9944885347787431,
          0.9945210878756168,
          0.9945534869357544,
          0.9945857524973876,
          0.9946175764870442,
          0.9946490307885344,
          0.9946803721297516,
          0.9947113129754551,
          0.9947422538211587,
          0.9947731125139364,
          0.9948039609375984,
          0.9948347785539131,
          0.9948654832099548,
          0.9948960646366077,
          0.9949266255250292,
          0.9949570529149461,
          0.9949874186901686,
          0.9950176817742338,
          0.9950478010906787,
          0.9950775917954202,
          0.9951073414236987,
          0.9951366700182323,
          0.9951654954260948,
          0.9951938998002123,
          0.9952219961008578,
          0.9952499589029988,
          0.9952776957845937,
          0.9953049397486334,
          0.9953321734435574,
          0.9953591093341251,
          0.9953860349555771,
          0.9954129092314504,
          0.9954394754338517,
          0.9954660313671373,
          0.9954923408416453,
          0.9955185578941117,
          0.995544661986305,
          0.9955707455402668,
          0.9955965929045668,
          0.9956223273085938,
          0.9956476406788757,
          0.9956728821653474,
          0.9956974664284123,
          0.9957219582694355,
          0.995746172844334,
          0.9957702333824965,
          0.9957942117677331,
          0.9958181901529697,
          0.9958419323485445,
          0.9958656129294248,
          0.9958891805500321,
          0.9959127481706394,
          0.9959362131000893,
          0.9959595753383819,
          0.9959827321943598,
          0.9960058890503378,
          0.9960289534842742,
          0.9960516482300442,
          0.996074199208194,
          0.9960965756113762,
          0.9961189417454427,
          0.9961412257265834,
          0.9961634378239139,
          0.9961856088447815,
          0.9962077593274176,
          0.9962297146968547,
          0.9962516084515975,
          0.9962734303225302,
          0.9962952419243472,
          0.9963169919114697,
          0.9963386802838978,
          0.9963601221975483,
          0.9963813484597684,
          0.996402482299947,
          0.9964235956018941,
          0.9964445240597579,
          0.9964652265970757,
          0.9964857853667732,
          0.9965061284850404,
          0.9965263894503816,
          0.9965465990701442,
          0.996566798420791,
          0.9965869772332063,
          0.9966067452809924,
          0.9966264414449683,
          0.9966461170707127,
          0.9966653819318279,
          0.9966846365238272,
          0.996703839770248,
          0.9967230224784372,
          0.9967420408807748,
          0.996760956591955,
          0.996779800419325,
          0.9967984285952647,
          0.9968169643491628,
          0.9968353974119035,
          0.9968535634776352,
          0.9968717090051354,
          0.9968898442635199,
          0.99690791790721,
          0.9969259504744372,
          0.9969439008887385,
          0.9969617896883455,
          0.996979616873258,
          0.9969973208287817,
          0.9970149734387267,
          0.9970325849722088,
          0.9970501348909966,
          0.9970674794274696,
          0.9970846391198596,
          0.9971017680049022,
          0.9971186093547044,
          0.9971352761295391,
          0.9971518710205637,
          0.9971682502601579,
          0.9971845781541734,
          0.9972008855099574,
          0.9972170901745842,
          0.9972332024171693,
          0.9972492735832914,
          0.9972652317891405,
          0.9972811899949896,
          0.9972971482008387,
          0.9973130961375721,
          0.9973289311140324,
          0.9973447352831455,
          0.9973605086449114,
          0.9973762306610987,
          0.9973919218699387,
          0.9974075925405473,
          0.9974231399817671,
          0.9974386566156397,
          0.9974541219039336,
          0.9974694023481443,
          0.9974845184865033,
          0.9974996140866309,
          0.9975146275338326,
          0.9975295690972241,
          0.9975443258165325,
          0.9975589901137992,
          0.99757350037433,
          0.997588000365745,
          0.9976024284733499,
          0.9976167436206818,
          0.9976308636548147,
          0.9976447064228228,
          0.9976584156923264,
          0.99767212496183,
          0.9976857520784077,
          0.9976991943509023,
          0.9977126366233968,
          0.9977260583576598,
          0.9977394595536914,
          0.9977528094041442,
          0.9977661181781342,
          0.9977793139918512,
          0.9977924173835265,
          0.9978054488913918,
          0.9978184495919098,
          0.9978314194850806,
          0.9978443791091357,
          0.9978573079258436,
          0.99787021620432,
          0.9978828985622503,
          0.9978953960760975,
          0.9979078833208288,
          0.9979203602964444,
          0.9979328064647128,
          0.9979451910182868,
          0.9979575036880507,
          0.9979697342048888,
          0.9979819236452638,
          0.9979941028165232,
          0.9980062614495511,
          0.9980183687370003,
          0.9980304349479866,
          0.9980424908898572,
          0.9980544646788019,
          0.9980663973912837,
          0.9980783301037655,
          0.9980902422780158,
          0.9981021031066875,
          0.9981138817824332,
          0.9981256296508317,
          0.998137274828073,
          0.9981487248921154,
          0.9981601749561577,
          0.9981715839437371,
          0.9981829415857377,
          0.9981942684203913,
          0.998205584985929,
          0.998216819398541,
          0.9982280230038058,
          0.9982391136487974,
          0.9982501632173261,
          0.9982612127858548,
          0.9982722212779206,
          0.9982832195008706,
          0.9982936837298025,
          0.9983041376896188,
          0.9983145813803193,
          0.9983249223798624,
          0.9983352017647111,
          0.9983454811495599,
          0.9983557194579458,
          0.9983658345369428,
          0.9983759496159399,
          0.9983860441567054,
          0.9983961284283552,
          0.9984062024308893,
          0.9984162456260762,
          0.9984262888212632,
          0.9984363320164501,
          0.9984462930587111,
          0.9984562232936249,
          0.9984661432594231,
          0.9984758578429065,
          0.9984855724263899,
          0.9984952664716419,
          0.9985049502477781,
          0.9985145929474514,
          0.9985242151088932,
          0.9985337756556406,
          0.9985432643185779,
          0.9985527427123995,
          0.9985622005679896,
          0.998571648154464,
          0.9985810854718227,
          0.9985904406362555,
          0.9985997547242254,
          0.9986088634298805,
          0.9986179515973043,
          0.9986270192264965,
          0.9986360149718787,
          0.9986449593716822,
          0.9986538935023699,
          0.9986628173639419,
          0.9986717206872824,
          0.9986805932032757,
          0.9986894143736904,
          0.9986982252749893,
          0.9987069848307095,
          0.9987157135790826,
          0.9987244320583399,
          0.9987331299993658,
          0.9987417560565816,
          0.9987503821137973,
          0.9987589670945501,
          0.9987674596532613,
          0.9987759419428568,
          0.9987843831559894,
          0.9987928038308904,
          0.9988011834293286,
          0.9988095322204195,
          0.9988178399350475,
          0.998826127111444,
          0.9988344040187248,
          0.9988426706568899,
          0.9988509064877078,
          0.9988591320494099,
          0.9988672343817232,
          0.9988752545611107,
          0.9988832233949195,
          0.9988911922287284,
          0.9988991405243057,
          0.9989070580125359,
          0.9989148420022615,
          0.9989226054537557,
          0.9989303175596712,
          0.9989379885891237,
          0.9989456185421134,
          0.9989532176877558,
          0.998960786026051,
          0.9989683440952305,
          0.9989758302805999,
          0.9989832753895064,
          0.9989906794219499,
          0.9989980834543933,
          0.9990054361412581,
          0.9990127272134286,
          0.9990199258635575,
          0.9990270937063391,
          0.999034251280005,
          0.9990413985845552,
          0.9990485458891054,
          0.9990556931936556,
          0.9990627994217428,
          0.9990698029586728,
          0.9990767859573713,
          0.999083645726681,
          0.9990904336121805,
          0.9990972214976801,
          0.999103916961138,
          0.9991106124245959,
          0.9991172873498223,
          0.9991239622750487,
          0.9991305755855808,
          0.9991371170123028,
          0.999143648169909,
          0.9991500047525477,
          0.9991563510660707,
          0.9991626460340151,
          0.9991688588490335,
          0.9991750613949363,
          0.9991812536717233,
          0.9991873843338159,
          0.999193494457677,
          0.9991995840433067,
          0.9992056633598206,
          0.9992117324072188,
          0.999217801454617,
          0.9992238499637838,
          0.9992298779347191,
          0.999235803214497,
          0.999241728494275,
          0.9992476435049372,
          0.9992535379773679,
          0.9992594324497986,
          0.9992653166531137,
          0.9992712008564287,
          0.999277074790628,
          0.9992829281865958,
          0.9992887610443322,
          0.9992945733638371,
          0.9993003754142262,
          0.9993061261190367,
          0.9993118768238471,
          0.9993175967213105,
          0.9993232858114266,
          0.9993289646324269,
          0.9993346023769644,
          0.9993402093141546,
          0.9993457135601874,
          0.9993512075371046,
          0.9993567015140218,
          0.9993621852218232,
          0.9993676278531617,
          0.9993730294080373,
          0.9993784206937971,
          0.9993837606339783,
          0.999389080035928,
          0.9993943994378777,
          0.9993996777633645,
          0.9994049560888513,
          0.9994101727996436,
          0.9994153484339731,
          0.9994204932609553,
          0.9994256278188218,
          0.9994307315693411,
          0.9994357634360503,
          0.9994407747645281,
          0.9994457347474272,
          0.9994506536538633,
          0.9994555725602995,
          0.9994604709285041,
          0.999465359027593,
          0.999470247126682,
          0.9994751249566551,
          0.9994799925175126,
          0.9994848292710229,
          0.9994896557554174,
          0.9994944514324647,
          0.9994992471095121,
          0.9995040222483279,
          0.9995087563106808,
          0.999513480103918,
          0.9995182038971553,
          0.9995229174212767,
          0.9995276206762824,
          0.9995323239312881,
          0.9995370066480623,
          0.9995416482883737,
          0.9995462796595692,
          0.9995508494160704,
          0.9995554191725716,
          0.9995599375834942,
          0.9995644457253009,
          0.9995688511759504,
          0.9995732360883683,
          0.9995775593860919,
          0.9995818416073526,
          0.9995861238286133,
          0.999590406049874,
          0.9995946574637875,
          0.9995987856483122,
          0.9996029035637211,
          0.9996069906717828,
          0.9996110367033816,
          0.9996150724658647,
          0.9996190876901163,
          0.9996230823761365,
          0.9996270667930409,
          0.9996309998643667,
          0.9996349226665767,
          0.9996388043923238,
          0.9996426347724922,
          0.9996464651526605,
          0.9996502749945975,
          0.9996540848365344,
          0.9996578433328926,
          0.9996616018292509,
          0.9996653500564935,
          0.9996690469381574,
          0.9996727130124741,
          0.9996763688176751,
          0.9996799835464131,
          0.9996835880060354,
          0.9996871616583105,
          0.9996907147723542,
          0.9996942165408191,
          0.9996976977710527,
          0.9997011687321704,
          0.9997046294241725,
          0.9997080901161746,
          0.9997115405390609,
          0.9997149909619472,
          0.9997184413848335,
          0.999721881538604,
          0.9997252908850274,
          0.999728689962335,
          0.9997320890396426,
          0.9997354778478346,
          0.9997388358486793,
          0.9997421425039453,
          0.9997454080827485,
          0.9997486325850886,
          0.9997518570874288,
          0.9997550815897689,
          0.999758306092109,
          0.9997615305944492,
          0.9997647448276736,
          0.9997679487917823,
          0.9997711322176596,
          0.9997743156435368,
          0.9997774785311826,
          0.9997805900732497,
          0.999783691346201,
          0.9997867926191524,
          0.9997898938921037,
          0.9997929746268236,
          0.999796034823312,
          0.9997990950198005,
          0.9998021346780575,
          0.9998051743363144,
          0.9998081729181085,
          0.9998111509616711,
          0.9998140981978865,
          0.9998170454341019,
          0.9998199824012015,
          0.9998228372153752,
          0.9998256714913175,
          0.9998285057672598,
          0.9998313400432021,
          0.9998341537809129,
          0.9998369675186237,
          0.9998397504489873,
          0.9998425231102352,
          0.9998452957714832,
          0.9998480684327311,
          0.999850841093979,
          0.999853613755227,
          0.9998563864164749,
          0.999859148808607,
          0.9998618803933921,
          0.9998645914399455,
          0.9998672614100361,
          0.9998698903036638,
          0.9998724883899442,
          0.9998750659379932,
          0.9998776229478108,
          0.9998801799576283,
          0.9998827061600987,
          0.999885232362569,
          0.9998877380268079,
          0.9998902436910467,
          0.9998927493552856,
          0.9998952242121772,
          0.9998976271852588,
          0.9998999480054144,
          0.9999022585564543,
          0.9999045588383785,
          0.9999068283129555,
          0.9999090259037224,
          0.9999112234944894,
          0.9999133286632146,
          0.9999153414098982,
          0.9999172925418875,
          0.9999192436738769,
          0.9999211537294032,
          0.9999230637849295,
          0.99992489168753,
          0.999926699051899,
          0.9999284858780365,
          0.999930272704174,
          0.9999320595303115,
          0.9999338360873333,
          0.9999356023752394,
          0.9999372762411038,
          0.9999389501069683,
          0.9999405726272541,
          0.9999421848784242,
          0.9999437971295944,
          0.9999454093807645,
          0.9999470216319346,
          0.9999486338831047,
          0.9999502255960433,
          0.999951776232519,
          0.999953316599879,
          0.9999548466981232,
          0.9999563767963674,
          0.9999579068946116,
          0.9999594369928558,
          0.9999609568219843,
          0.9999624561128813,
          0.9999639451346626,
          0.9999654033490967,
          0.9999668307561835,
          0.9999682478941547,
          0.9999696650321259,
          0.9999710821700971,
          0.9999724685007211,
          0.9999738445622293,
          0.999975200085506,
          0.9999765556087827,
          0.9999778700555966,
          0.9999791845024104,
          0.9999804989492243,
          0.9999818133960381,
          0.9999831278428519,
          0.9999844422896658,
          0.9999857464673638,
          0.9999869992994832,
          0.9999882521316026,
          0.999989504963722,
          0.9999907577958413,
          0.9999920106279607,
          0.9999932634600801,
          0.9999943519863478,
          0.9999954405126155,
          0.9999965085006517,
          0.9999975046048778,
          0.9999983466723679,
          0.9999990449722377,
          0.9999996303118345,
          1.0000000000000009,
          1.0000000000000009
         ]
        }
       ],
       "layout": {
        "template": {
         "data": {
          "bar": [
           {
            "error_x": {
             "color": "#2a3f5f"
            },
            "error_y": {
             "color": "#2a3f5f"
            },
            "marker": {
             "line": {
              "color": "#E5ECF6",
              "width": 0.5
             }
            },
            "type": "bar"
           }
          ],
          "barpolar": [
           {
            "marker": {
             "line": {
              "color": "#E5ECF6",
              "width": 0.5
             }
            },
            "type": "barpolar"
           }
          ],
          "carpet": [
           {
            "aaxis": {
             "endlinecolor": "#2a3f5f",
             "gridcolor": "white",
             "linecolor": "white",
             "minorgridcolor": "white",
             "startlinecolor": "#2a3f5f"
            },
            "baxis": {
             "endlinecolor": "#2a3f5f",
             "gridcolor": "white",
             "linecolor": "white",
             "minorgridcolor": "white",
             "startlinecolor": "#2a3f5f"
            },
            "type": "carpet"
           }
          ],
          "choropleth": [
           {
            "colorbar": {
             "outlinewidth": 0,
             "ticks": ""
            },
            "type": "choropleth"
           }
          ],
          "contour": [
           {
            "colorbar": {
             "outlinewidth": 0,
             "ticks": ""
            },
            "colorscale": [
             [
              0,
              "#0d0887"
             ],
             [
              0.1111111111111111,
              "#46039f"
             ],
             [
              0.2222222222222222,
              "#7201a8"
             ],
             [
              0.3333333333333333,
              "#9c179e"
             ],
             [
              0.4444444444444444,
              "#bd3786"
             ],
             [
              0.5555555555555556,
              "#d8576b"
             ],
             [
              0.6666666666666666,
              "#ed7953"
             ],
             [
              0.7777777777777778,
              "#fb9f3a"
             ],
             [
              0.8888888888888888,
              "#fdca26"
             ],
             [
              1,
              "#f0f921"
             ]
            ],
            "type": "contour"
           }
          ],
          "contourcarpet": [
           {
            "colorbar": {
             "outlinewidth": 0,
             "ticks": ""
            },
            "type": "contourcarpet"
           }
          ],
          "heatmap": [
           {
            "colorbar": {
             "outlinewidth": 0,
             "ticks": ""
            },
            "colorscale": [
             [
              0,
              "#0d0887"
             ],
             [
              0.1111111111111111,
              "#46039f"
             ],
             [
              0.2222222222222222,
              "#7201a8"
             ],
             [
              0.3333333333333333,
              "#9c179e"
             ],
             [
              0.4444444444444444,
              "#bd3786"
             ],
             [
              0.5555555555555556,
              "#d8576b"
             ],
             [
              0.6666666666666666,
              "#ed7953"
             ],
             [
              0.7777777777777778,
              "#fb9f3a"
             ],
             [
              0.8888888888888888,
              "#fdca26"
             ],
             [
              1,
              "#f0f921"
             ]
            ],
            "type": "heatmap"
           }
          ],
          "heatmapgl": [
           {
            "colorbar": {
             "outlinewidth": 0,
             "ticks": ""
            },
            "colorscale": [
             [
              0,
              "#0d0887"
             ],
             [
              0.1111111111111111,
              "#46039f"
             ],
             [
              0.2222222222222222,
              "#7201a8"
             ],
             [
              0.3333333333333333,
              "#9c179e"
             ],
             [
              0.4444444444444444,
              "#bd3786"
             ],
             [
              0.5555555555555556,
              "#d8576b"
             ],
             [
              0.6666666666666666,
              "#ed7953"
             ],
             [
              0.7777777777777778,
              "#fb9f3a"
             ],
             [
              0.8888888888888888,
              "#fdca26"
             ],
             [
              1,
              "#f0f921"
             ]
            ],
            "type": "heatmapgl"
           }
          ],
          "histogram": [
           {
            "marker": {
             "colorbar": {
              "outlinewidth": 0,
              "ticks": ""
             }
            },
            "type": "histogram"
           }
          ],
          "histogram2d": [
           {
            "colorbar": {
             "outlinewidth": 0,
             "ticks": ""
            },
            "colorscale": [
             [
              0,
              "#0d0887"
             ],
             [
              0.1111111111111111,
              "#46039f"
             ],
             [
              0.2222222222222222,
              "#7201a8"
             ],
             [
              0.3333333333333333,
              "#9c179e"
             ],
             [
              0.4444444444444444,
              "#bd3786"
             ],
             [
              0.5555555555555556,
              "#d8576b"
             ],
             [
              0.6666666666666666,
              "#ed7953"
             ],
             [
              0.7777777777777778,
              "#fb9f3a"
             ],
             [
              0.8888888888888888,
              "#fdca26"
             ],
             [
              1,
              "#f0f921"
             ]
            ],
            "type": "histogram2d"
           }
          ],
          "histogram2dcontour": [
           {
            "colorbar": {
             "outlinewidth": 0,
             "ticks": ""
            },
            "colorscale": [
             [
              0,
              "#0d0887"
             ],
             [
              0.1111111111111111,
              "#46039f"
             ],
             [
              0.2222222222222222,
              "#7201a8"
             ],
             [
              0.3333333333333333,
              "#9c179e"
             ],
             [
              0.4444444444444444,
              "#bd3786"
             ],
             [
              0.5555555555555556,
              "#d8576b"
             ],
             [
              0.6666666666666666,
              "#ed7953"
             ],
             [
              0.7777777777777778,
              "#fb9f3a"
             ],
             [
              0.8888888888888888,
              "#fdca26"
             ],
             [
              1,
              "#f0f921"
             ]
            ],
            "type": "histogram2dcontour"
           }
          ],
          "mesh3d": [
           {
            "colorbar": {
             "outlinewidth": 0,
             "ticks": ""
            },
            "type": "mesh3d"
           }
          ],
          "parcoords": [
           {
            "line": {
             "colorbar": {
              "outlinewidth": 0,
              "ticks": ""
             }
            },
            "type": "parcoords"
           }
          ],
          "pie": [
           {
            "automargin": true,
            "type": "pie"
           }
          ],
          "scatter": [
           {
            "marker": {
             "colorbar": {
              "outlinewidth": 0,
              "ticks": ""
             }
            },
            "type": "scatter"
           }
          ],
          "scatter3d": [
           {
            "line": {
             "colorbar": {
              "outlinewidth": 0,
              "ticks": ""
             }
            },
            "marker": {
             "colorbar": {
              "outlinewidth": 0,
              "ticks": ""
             }
            },
            "type": "scatter3d"
           }
          ],
          "scattercarpet": [
           {
            "marker": {
             "colorbar": {
              "outlinewidth": 0,
              "ticks": ""
             }
            },
            "type": "scattercarpet"
           }
          ],
          "scattergeo": [
           {
            "marker": {
             "colorbar": {
              "outlinewidth": 0,
              "ticks": ""
             }
            },
            "type": "scattergeo"
           }
          ],
          "scattergl": [
           {
            "marker": {
             "colorbar": {
              "outlinewidth": 0,
              "ticks": ""
             }
            },
            "type": "scattergl"
           }
          ],
          "scattermapbox": [
           {
            "marker": {
             "colorbar": {
              "outlinewidth": 0,
              "ticks": ""
             }
            },
            "type": "scattermapbox"
           }
          ],
          "scatterpolar": [
           {
            "marker": {
             "colorbar": {
              "outlinewidth": 0,
              "ticks": ""
             }
            },
            "type": "scatterpolar"
           }
          ],
          "scatterpolargl": [
           {
            "marker": {
             "colorbar": {
              "outlinewidth": 0,
              "ticks": ""
             }
            },
            "type": "scatterpolargl"
           }
          ],
          "scatterternary": [
           {
            "marker": {
             "colorbar": {
              "outlinewidth": 0,
              "ticks": ""
             }
            },
            "type": "scatterternary"
           }
          ],
          "surface": [
           {
            "colorbar": {
             "outlinewidth": 0,
             "ticks": ""
            },
            "colorscale": [
             [
              0,
              "#0d0887"
             ],
             [
              0.1111111111111111,
              "#46039f"
             ],
             [
              0.2222222222222222,
              "#7201a8"
             ],
             [
              0.3333333333333333,
              "#9c179e"
             ],
             [
              0.4444444444444444,
              "#bd3786"
             ],
             [
              0.5555555555555556,
              "#d8576b"
             ],
             [
              0.6666666666666666,
              "#ed7953"
             ],
             [
              0.7777777777777778,
              "#fb9f3a"
             ],
             [
              0.8888888888888888,
              "#fdca26"
             ],
             [
              1,
              "#f0f921"
             ]
            ],
            "type": "surface"
           }
          ],
          "table": [
           {
            "cells": {
             "fill": {
              "color": "#EBF0F8"
             },
             "line": {
              "color": "white"
             }
            },
            "header": {
             "fill": {
              "color": "#C8D4E3"
             },
             "line": {
              "color": "white"
             }
            },
            "type": "table"
           }
          ]
         },
         "layout": {
          "annotationdefaults": {
           "arrowcolor": "#2a3f5f",
           "arrowhead": 0,
           "arrowwidth": 1
          },
          "coloraxis": {
           "colorbar": {
            "outlinewidth": 0,
            "ticks": ""
           }
          },
          "colorscale": {
           "diverging": [
            [
             0,
             "#8e0152"
            ],
            [
             0.1,
             "#c51b7d"
            ],
            [
             0.2,
             "#de77ae"
            ],
            [
             0.3,
             "#f1b6da"
            ],
            [
             0.4,
             "#fde0ef"
            ],
            [
             0.5,
             "#f7f7f7"
            ],
            [
             0.6,
             "#e6f5d0"
            ],
            [
             0.7,
             "#b8e186"
            ],
            [
             0.8,
             "#7fbc41"
            ],
            [
             0.9,
             "#4d9221"
            ],
            [
             1,
             "#276419"
            ]
           ],
           "sequential": [
            [
             0,
             "#0d0887"
            ],
            [
             0.1111111111111111,
             "#46039f"
            ],
            [
             0.2222222222222222,
             "#7201a8"
            ],
            [
             0.3333333333333333,
             "#9c179e"
            ],
            [
             0.4444444444444444,
             "#bd3786"
            ],
            [
             0.5555555555555556,
             "#d8576b"
            ],
            [
             0.6666666666666666,
             "#ed7953"
            ],
            [
             0.7777777777777778,
             "#fb9f3a"
            ],
            [
             0.8888888888888888,
             "#fdca26"
            ],
            [
             1,
             "#f0f921"
            ]
           ],
           "sequentialminus": [
            [
             0,
             "#0d0887"
            ],
            [
             0.1111111111111111,
             "#46039f"
            ],
            [
             0.2222222222222222,
             "#7201a8"
            ],
            [
             0.3333333333333333,
             "#9c179e"
            ],
            [
             0.4444444444444444,
             "#bd3786"
            ],
            [
             0.5555555555555556,
             "#d8576b"
            ],
            [
             0.6666666666666666,
             "#ed7953"
            ],
            [
             0.7777777777777778,
             "#fb9f3a"
            ],
            [
             0.8888888888888888,
             "#fdca26"
            ],
            [
             1,
             "#f0f921"
            ]
           ]
          },
          "colorway": [
           "#636efa",
           "#EF553B",
           "#00cc96",
           "#ab63fa",
           "#FFA15A",
           "#19d3f3",
           "#FF6692",
           "#B6E880",
           "#FF97FF",
           "#FECB52"
          ],
          "font": {
           "color": "#2a3f5f"
          },
          "geo": {
           "bgcolor": "white",
           "lakecolor": "white",
           "landcolor": "#E5ECF6",
           "showlakes": true,
           "showland": true,
           "subunitcolor": "white"
          },
          "hoverlabel": {
           "align": "left"
          },
          "hovermode": "closest",
          "mapbox": {
           "style": "light"
          },
          "paper_bgcolor": "white",
          "plot_bgcolor": "#E5ECF6",
          "polar": {
           "angularaxis": {
            "gridcolor": "white",
            "linecolor": "white",
            "ticks": ""
           },
           "bgcolor": "#E5ECF6",
           "radialaxis": {
            "gridcolor": "white",
            "linecolor": "white",
            "ticks": ""
           }
          },
          "scene": {
           "xaxis": {
            "backgroundcolor": "#E5ECF6",
            "gridcolor": "white",
            "gridwidth": 2,
            "linecolor": "white",
            "showbackground": true,
            "ticks": "",
            "zerolinecolor": "white"
           },
           "yaxis": {
            "backgroundcolor": "#E5ECF6",
            "gridcolor": "white",
            "gridwidth": 2,
            "linecolor": "white",
            "showbackground": true,
            "ticks": "",
            "zerolinecolor": "white"
           },
           "zaxis": {
            "backgroundcolor": "#E5ECF6",
            "gridcolor": "white",
            "gridwidth": 2,
            "linecolor": "white",
            "showbackground": true,
            "ticks": "",
            "zerolinecolor": "white"
           }
          },
          "shapedefaults": {
           "line": {
            "color": "#2a3f5f"
           }
          },
          "ternary": {
           "aaxis": {
            "gridcolor": "white",
            "linecolor": "white",
            "ticks": ""
           },
           "baxis": {
            "gridcolor": "white",
            "linecolor": "white",
            "ticks": ""
           },
           "bgcolor": "#E5ECF6",
           "caxis": {
            "gridcolor": "white",
            "linecolor": "white",
            "ticks": ""
           }
          },
          "title": {
           "x": 0.05
          },
          "xaxis": {
           "automargin": true,
           "gridcolor": "white",
           "linecolor": "white",
           "ticks": "",
           "title": {
            "standoff": 15
           },
           "zerolinecolor": "white",
           "zerolinewidth": 2
          },
          "yaxis": {
           "automargin": true,
           "gridcolor": "white",
           "linecolor": "white",
           "ticks": "",
           "title": {
            "standoff": 15
           },
           "zerolinecolor": "white",
           "zerolinewidth": 2
          }
         }
        }
       }
      }
     },
     "metadata": {}
    }
   ],
   "source": [
    "trace0 = go.Scatter(\n",
    "   x = profit_data['系列'],\n",
    "   y = profit_data['累積利潤佔比'],\n",
    "   name = '系列利潤累積佔比折線圖',\n",
    "   line = dict(\n",
    "          color = ('#1B813E')))\n",
    "data = [trace0]\n",
    "py.iplot(data)"
   ]
  },
  {
   "cell_type": "code",
   "execution_count": 77,
   "metadata": {},
   "outputs": [
    {
     "output_type": "execute_result",
     "data": {
      "text/plain": [
       "       系列            利潤      利潤佔比    累積利潤佔比\n",
       "0     系列1  1.419335e+07  0.088604  0.088604\n",
       "163   系列2  1.264190e+07  0.078919  0.167522\n",
       "274   系列3  8.772754e+06  0.054765  0.222287\n",
       "607   系列6  5.128763e+06  0.032017  0.254304\n",
       "718   系列7  4.195607e+06  0.026192  0.280496\n",
       "..    ...           ...       ...       ...\n",
       "752  系列73  5.583015e+05  0.003485  0.785294\n",
       "796  系列77  5.192722e+05  0.003242  0.788535\n",
       "696  系列68  5.130854e+05  0.003203  0.791738\n",
       "641  系列63  5.068130e+05  0.003164  0.794902\n",
       "807  系列78  5.038109e+05  0.003145  0.798047\n",
       "\n",
       "[67 rows x 4 columns]"
      ],
      "text/html": "<div>\n<style scoped>\n    .dataframe tbody tr th:only-of-type {\n        vertical-align: middle;\n    }\n\n    .dataframe tbody tr th {\n        vertical-align: top;\n    }\n\n    .dataframe thead th {\n        text-align: right;\n    }\n</style>\n<table border=\"1\" class=\"dataframe\">\n  <thead>\n    <tr style=\"text-align: right;\">\n      <th></th>\n      <th>系列</th>\n      <th>利潤</th>\n      <th>利潤佔比</th>\n      <th>累積利潤佔比</th>\n    </tr>\n  </thead>\n  <tbody>\n    <tr>\n      <th>0</th>\n      <td>系列1</td>\n      <td>1.419335e+07</td>\n      <td>0.088604</td>\n      <td>0.088604</td>\n    </tr>\n    <tr>\n      <th>163</th>\n      <td>系列2</td>\n      <td>1.264190e+07</td>\n      <td>0.078919</td>\n      <td>0.167522</td>\n    </tr>\n    <tr>\n      <th>274</th>\n      <td>系列3</td>\n      <td>8.772754e+06</td>\n      <td>0.054765</td>\n      <td>0.222287</td>\n    </tr>\n    <tr>\n      <th>607</th>\n      <td>系列6</td>\n      <td>5.128763e+06</td>\n      <td>0.032017</td>\n      <td>0.254304</td>\n    </tr>\n    <tr>\n      <th>718</th>\n      <td>系列7</td>\n      <td>4.195607e+06</td>\n      <td>0.026192</td>\n      <td>0.280496</td>\n    </tr>\n    <tr>\n      <th>...</th>\n      <td>...</td>\n      <td>...</td>\n      <td>...</td>\n      <td>...</td>\n    </tr>\n    <tr>\n      <th>752</th>\n      <td>系列73</td>\n      <td>5.583015e+05</td>\n      <td>0.003485</td>\n      <td>0.785294</td>\n    </tr>\n    <tr>\n      <th>796</th>\n      <td>系列77</td>\n      <td>5.192722e+05</td>\n      <td>0.003242</td>\n      <td>0.788535</td>\n    </tr>\n    <tr>\n      <th>696</th>\n      <td>系列68</td>\n      <td>5.130854e+05</td>\n      <td>0.003203</td>\n      <td>0.791738</td>\n    </tr>\n    <tr>\n      <th>641</th>\n      <td>系列63</td>\n      <td>5.068130e+05</td>\n      <td>0.003164</td>\n      <td>0.794902</td>\n    </tr>\n    <tr>\n      <th>807</th>\n      <td>系列78</td>\n      <td>5.038109e+05</td>\n      <td>0.003145</td>\n      <td>0.798047</td>\n    </tr>\n  </tbody>\n</table>\n<p>67 rows × 4 columns</p>\n</div>"
     },
     "metadata": {},
     "execution_count": 77
    }
   ],
   "source": [
    "profit_data['累積利潤佔比'] = profit_data['利潤佔比'].cumsum()\n",
    "profit_data[profit_data['累積利潤佔比']<= 0.8]"
   ]
  },
  {
   "cell_type": "code",
   "execution_count": 28,
   "metadata": {},
   "outputs": [
    {
     "output_type": "display_data",
     "data": {
      "application/vnd.plotly.v1+json": {
       "config": {
        "plotlyServerURL": "https://plot.ly"
       },
       "data": [
        {
         "alignmentgroup": "True",
         "hovertemplate": "系列=%{x}<br>利潤=%{marker.color}<extra></extra>",
         "legendgroup": "",
         "marker": {
          "color": [
           14193354.455000604,
           12641902.315000229,
           8772753.745000426,
           5128762.904999604,
           4195607.044999797,
           4179078.0849998654,
           4087930.2799997716,
           4069565.499999962,
           3867113.7049999437,
           3256976.624999919,
           3106014.974999932,
           2784585.264999968,
           2435767.949999949,
           2281608.4200000013,
           2278459.890000019,
           2224737.480000075,
           2096401.1600000183,
           2073966.650000007,
           1791084.2250000006,
           1630731.2700000096,
           1533908.2150000052,
           1437167.4100000027,
           1430842.384999991,
           1420946.0650000025,
           1275329.019999996,
           1271626.125000007,
           1265103.7000000116,
           1168571.809999983,
           1166342.8349999976,
           1136752.5749999986,
           1047198.7749999864,
           1026432.294999997,
           1022104.2999999978,
           1000344.2400000106,
           996355.1149999964,
           976465.4199999911,
           938717.6049999846,
           916715.7299999906,
           909543.5300000047,
           907571.1750000031,
           889180.0749999932,
           850420.5850000025,
           836607.5199999942,
           789118.0150000014,
           783990.5499999969,
           771802.744999997,
           762093.9549999965,
           706112.959999994,
           693847.8399999997,
           691330.9899999981,
           686675.6400000006,
           674857.9599999976,
           668903.0599999995,
           643315.0849999984,
           643175.259999997,
           635929.0349999993,
           619729.0749999989,
           608733.8949999962,
           606606.9099999955,
           591903.8999999987,
           579620.6849999996,
           558776.889999998,
           558301.4849999992,
           519272.2149999951,
           513085.36999999895,
           506812.9849999986,
           503810.8599999998,
           498657.0749999995,
           480578.52500000235,
           469237.8949999957,
           455544.9149999989,
           440220.0950000008,
           436112.5300000005,
           429988.1950000002,
           419550.67000000074,
           416509.06500000146,
           398634.4950000007,
           387453.42999999993,
           373110.6749999993,
           371546.28000000207,
           369467.0000000004,
           355517.4000000008,
           352141.8600000023,
           345783.93499999976,
           342383.7200000007,
           339602.0249999997,
           337940.5749999994,
           335862.94000000064,
           334566.6800000001,
           331232.2650000001,
           325214.85500000004,
           317527.76999999944,
           305882.8150000001,
           297307.4300000008,
           281946.41999999987,
           261831.3600000005,
           260623.93000000005,
           256988.47999999975,
           250367.35500000048,
           246427.57999999993,
           241992.65999999986,
           241476.13000000038,
           237514.97000000044,
           237419.56,
           235919.32000000039,
           235202.09999999998,
           232639.19000000003,
           231624.22500000036,
           227404.80000000034,
           223715.0649999998,
           214055.62499999997,
           207700.9900000002,
           206855.46000000054,
           204787.69499999998,
           203150.92000000007,
           202591.6200000003,
           199128.8950000006,
           198684.74500000026,
           192075.13499999986,
           189252.31500000003,
           188544.96499999968,
           187441.1699999993,
           180241.00500000003,
           175026.35500000042,
           171895.92,
           167872.25000000026,
           164720.43000000034,
           163614.99000000043,
           160423.69,
           153736.76500000033,
           153623.26,
           153080.40999999997,
           150683.64500000057,
           150548.75499999986,
           147597.62500000006,
           145913.14500000005,
           145811.1549999997,
           141185.41499999983,
           139502.5800000002,
           139023.88500000024,
           136794.91000000006,
           136720.88500000013,
           136104.01000000015,
           130435.33999999988,
           127818.14500000014,
           127622.39000000007,
           126676.51500000017,
           126383.70499999996,
           122376.48500000038,
           121947.14000000035,
           118528.83000000016,
           116623.91999999988,
           115380.3000000001,
           115018.40000000002,
           114255.1200000002,
           112623.27999999991,
           111797.48999999983,
           111144.42500000002,
           110451.88000000018,
           109152.32999999996,
           106666.73499999999,
           106605.87000000007,
           104445.98500000015,
           104309.45000000017,
           101739.96000000006,
           101327.06499999997,
           99277.39500000015,
           98338.10000000006,
           94034.78000000006,
           91980.17500000015,
           87632.44000000005,
           86778.6850000001,
           83582.45000000004,
           83546.26000000004,
           82791.20500000007,
           81634.77,
           81299.19000000006,
           79389.34499999999,
           78856.36500000002,
           78102.95500000005,
           76249.04000000007,
           76028.61000000007,
           76007.22500000008,
           74312.87500000015,
           74052.96500000005,
           73926.30000000003,
           73788.12000000007,
           73230.465,
           72794.54000000002,
           72263.20500000006,
           70965.30000000009,
           70670.84500000004,
           68407.325,
           68053.65,
           67961.53000000004,
           67897.375,
           67481.19000000005,
           66609.34,
           66319.82,
           66184.93000000004,
           65145.29000000005,
           65040.009999999966,
           64370.49499999997,
           64080.97500000002,
           63900.024999999994,
           63018.305000000015,
           62529.74000000005,
           62528.09499999997,
           60771.235000000015,
           60534.35499999998,
           60254.70500000002,
           60105.010000000024,
           59874.71000000002,
           59290.735000000015,
           55897.100000000006,
           55808.26999999995,
           54806.46500000002,
           54627.160000000025,
           53617.130000000005,
           52901.55499999999,
           52531.429999999964,
           52457.405,
           52450.825000000004,
           52329.09499999997,
           52213.944999999985,
           51986.93499999999,
           50350.16000000002,
           50031.030000000006,
           49937.265000000014,
           48726.54500000002,
           47889.240000000005,
           47246.045,
           46372.55,
           46166.92500000001,
           45653.68500000001,
           45122.34999999999,
           44845.98999999999,
           44411.71,
           43497.08999999999,
           42987.13999999999,
           42773.28999999999,
           42176.155000000006,
           42098.84000000001,
           42019.87999999999,
           41452.35499999999,
           41284.564999999995,
           40547.60499999999,
           40332.10999999999,
           39698.78500000001,
           39557.31500000001,
           38251.185,
           37772.48999999999,
           37714.91499999998,
           37440.19999999999,
           36367.66,
           36367.659999999996,
           36165.325,
           36045.23999999999,
           35479.35999999998,
           35091.13999999998,
           34929.929999999986,
           34753.91499999999,
           34546.64499999999,
           33859.035,
           33543.19499999999,
           33393.5,
           33388.56499999994,
           33266.83500000002,
           30756.565000000002,
           30753.274999999983,
           30671.024999999954,
           30490.074999999997,
           30189.039999999994,
           29980.12499999999,
           29838.655000000006,
           29721.86,
           29695.54,
           29605.064999999933,
           29580.389999999996,
           29346.79999999998,
           29137.88500000001,
           29132.950000000004,
           28856.589999999993,
           28749.664999999994,
           28127.85499999999,
           28014.350000000013,
           27988.02999999999,
           27780.759999999995,
           27746.214999999997,
           27659.029999999995,
           27496.17499999999,
           27376.090000000004,
           25987.71,
           24982.61500000001,
           24701.319999999996,
           24650.324999999993,
           24471.019999999997,
           23712.674999999967,
           23521.854999999996,
           22872.079999999998,
           22779.959999999992,
           22740.480000000018,
           22126.89500000001,
           22103.864999999994,
           21929.494999999995,
           21666.294999999984,
           21541.274999999994,
           21467.24999999999,
           21388.29,
           21064.225000000002,
           20914.53,
           20511.50500000001,
           20328.910000000003,
           20286.139999999996,
           19962.074999999997,
           19957.140000000007,
           19741.645,
           19728.484999999993,
           19287.62499999999,
           18752.999999999996,
           18552.309999999998,
           18535.86,
           18387.81,
           18052.23,
           17341.590000000004,
           17287.305,
           17081.68,
           17033.975,
           16943.5,
           16933.630000000005,
           16844.8,
           16839.864999999998,
           16310.174999999997,
           16236.149999999996,
           15900.57,
           15879.184999999998,
           15436.679999999998,
           15395.555,
           15347.849999999999,
           15247.504999999996,
           14910.28,
           14905.345,
           14862.574999999997,
           14793.484999999999,
           14773.744999999999,
           14637.210000000003,
           14625.694999999996,
           14535.219999999998,
           14497.384999999998,
           14464.484999999999,
           13926.57,
           13916.699999999997,
           13679.820000000003,
           13628.825,
           13543.285,
           13502.160000000002,
           13391.945000000003,
           13217.574999999999,
           12957.665,
           12826.064999999999,
           12780.005000000001,
           12758.619999999997,
           12742.170000000004,
           12727.365000000002,
           12727.365,
           12691.174999999997,
           12404.944999999998,
           12339.145,
           12217.414999999997,
           12166.42,
           12131.875000000002,
           12001.920000000002,
           11908.154999999999,
           11835.775,
           11794.65,
           11771.62,
           11649.889999999994,
           11610.41,
           11600.539999999997,
           11570.929999999998,
           11565.995,
           11529.805,
           11422.880000000001,
           11357.08,
           11174.484999999997,
           11148.164999999999,
           11139.94,
           11123.490000000002,
           11090.590000000002,
           10911.285,
           10903.060000000001,
           10830.68,
           10815.875,
           10730.334999999997,
           10634.925000000001,
           10518.130000000001,
           10513.195000000003,
           10447.395,
           10310.859999999997,
           10205.579999999998,
           10041.080000000002,
           9995.019999999997,
           9967.055,
           9953.895,
           9815.715000000002,
           9791.04,
           9759.785,
           9743.335,
           9652.86,
           9628.184999999998,
           9536.064999999999,
           9527.839999999997,
           9434.074999999999,
           9407.754999999997,
           9262.995,
           9231.74,
           9172.52,
           9161.005000000001,
           9151.135,
           9144.555,
           9085.334999999997,
           9075.465,
           9054.079999999998,
           8996.505,
           8864.905,
           8825.425,
           8756.334999999997,
           8739.885,
           8690.535,
           8641.185,
           8476.685,
           8445.43,
           8394.434999999998,
           8364.824999999999,
           8287.509999999998,
           8200.325,
           8183.875,
           8165.78,
           8162.49,
           8093.4,
           8037.469999999999,
           8025.955,
           8001.28,
           7937.125,
           7836.78,
           7826.910000000001,
           7787.430000000001,
           7787.429999999999,
           7770.979999999999,
           7710.115000000001,
           7703.535,
           7662.410000000001,
           7588.385,
           7530.81,
           7525.875,
           7504.49,
           7486.394999999999,
           7422.24,
           7356.4400000000005,
           7338.344999999999,
           7279.125000000001,
           7259.385,
           7257.739999999999,
           7221.549999999999,
           7211.68,
           7190.295,
           7157.3949999999995,
           7099.8200000000015,
           7061.985,
           7032.375,
           7024.150000000001,
           6983.025000000001,
           6918.869999999999,
           6754.37,
           6660.6050000000005,
           6619.48,
           6599.739999999998,
           6576.71,
           6568.485000000001,
           6440.174999999999,
           6428.66,
           6260.869999999998,
           6242.775000000001,
           6223.035,
           6183.555,
           6165.46,
           6066.76,
           6037.15,
           6020.700000000001,
           5987.8,
           5931.870000000001,
           5871.005000000001,
           5839.75,
           5749.274999999999,
           5727.89,
           5718.0199999999995,
           5716.375,
           5686.765,
           5671.96,
           5622.610000000001,
           5568.325000000001,
           5518.974999999999,
           5435.080000000001,
           5405.47,
           5365.99,
           5316.639999999999,
           5214.650000000001,
           5189.975,
           5168.59,
           5097.855000000001,
           5038.635,
           5020.540000000001,
           4956.385,
           4956.385,
           4943.224999999999,
           4941.58,
           4936.6449999999995,
           4918.549999999999,
           4898.8099999999995,
           4895.5199999999995,
           4874.135,
           4864.265,
           4847.8150000000005,
           4824.785000000001,
           4772.145,
           4765.5650000000005,
           4698.120000000001,
           4617.514999999999,
           4550.069999999999,
           4500.72,
           4479.335,
           4443.145,
           4364.185,
           4362.54,
           4314.835000000001,
           4313.19,
           4304.965000000002,
           4255.615000000001,
           4253.97,
           4214.490000000001,
           4199.6849999999995,
           4181.59,
           4178.299999999999,
           4140.465,
           4122.370000000001,
           4054.925,
           4043.41,
           3938.13,
           3923.3250000000003,
           3878.9099999999994,
           3854.235,
           3841.0750000000007,
           3841.075,
           3803.2400000000016,
           3793.37,
           3775.2750000000005,
           3775.2749999999996,
           3758.8250000000003,
           3742.375,
           3709.475000000001,
           3709.4750000000004,
           3694.6700000000005,
           3635.4500000000007,
           3612.4200000000005,
           3584.4550000000004,
           3582.8100000000004,
           3569.6499999999996,
           3558.1350000000007,
           3551.555,
           3548.265,
           3517.01,
           3507.1400000000003,
           3495.625,
           3493.9799999999996,
           3484.11,
           3474.24,
           3434.76,
           3400.215,
           3385.41,
           3382.12,
           3352.51,
           3316.3199999999997,
           3293.29,
           3258.745,
           3245.5850000000005,
           3237.3600000000006,
           3235.715,
           3232.425,
           3166.625,
           3155.1099999999997,
           3151.82,
           3086.0199999999995,
           3084.375,
           3076.1500000000005,
           3072.86,
           3046.54,
           3030.09,
           3018.575,
           2984.0299999999997,
           2969.225,
           2952.7749999999996,
           2910.005,
           2906.715,
           2905.0699999999997,
           2895.2,
           2888.6200000000003,
           2875.46,
           2865.5899999999997,
           2855.7200000000003,
           2835.9799999999996,
           2827.755,
           2821.175,
           2811.305,
           2778.405,
           2748.795,
           2743.86,
           2697.8,
           2669.8349999999996,
           2658.3200000000006,
           2623.7749999999996,
           2615.55,
           2612.26,
           2595.81,
           2581.005,
           2574.425,
           2556.3300000000004,
           2556.33,
           2556.33,
           2554.685,
           2536.5899999999997,
           2531.6549999999997,
           2526.72,
           2518.495,
           2513.5600000000004,
           2510.2699999999995,
           2490.53,
           2485.595,
           2477.3700000000003,
           2447.7599999999998,
           2421.4399999999996,
           2418.15,
           2404.9900000000002,
           2393.4750000000004,
           2363.8650000000002,
           2349.06,
           2324.385,
           2322.74,
           2311.2250000000004,
           2293.13,
           2261.875,
           2217.46,
           2196.075,
           2196.075,
           2182.915,
           2153.3050000000003,
           2153.305,
           2150.0150000000003,
           2146.7250000000004,
           2138.4999999999995,
           2131.92,
           2113.825,
           2099.0199999999995,
           2087.505,
           2082.57,
           2077.635,
           2075.99,
           2071.0550000000003,
           2067.7650000000003,
           2031.575,
           2001.9650000000001,
           2000.32,
           1998.6749999999997,
           1993.74,
           1983.87,
           1972.3550000000002,
           1959.1949999999997,
           1952.6149999999998,
           1950.9700000000003,
           1947.68,
           1939.4549999999997,
           1932.8750000000002,
           1931.2299999999998,
           1918.0699999999997,
           1911.49,
           1911.4899999999998,
           1908.2000000000003,
           1899.9750000000001,
           1886.815,
           1881.8799999999999,
           1865.43,
           1834.1749999999997,
           1834.175,
           1827.5950000000003,
           1819.37,
           1814.435,
           1812.79,
           1799.63,
           1794.6950000000002,
           1776.6000000000001,
           1770.0200000000002,
           1770.0199999999998,
           1763.44,
           1761.7949999999996,
           1676.2549999999999,
           1674.6100000000001,
           1672.9650000000001,
           1656.5150000000003,
           1646.6450000000002,
           1646.645,
           1640.065,
           1620.3250000000003,
           1620.3249999999998,
           1617.0349999999999,
           1615.3899999999999,
           1613.745,
           1608.81,
           1608.81,
           1608.81,
           1595.65,
           1590.7150000000001,
           1589.0700000000002,
           1556.17,
           1556.17,
           1552.88,
           1551.2350000000001,
           1544.655,
           1541.365,
           1531.495,
           1519.98,
           1518.335,
           1515.0449999999998,
           1513.3999999999996,
           1511.7549999999997,
           1498.595,
           1492.0149999999999,
           1459.115,
           1455.825,
           1452.5349999999996,
           1441.02,
           1432.7949999999998,
           1431.15,
           1429.505,
           1426.215,
           1421.28,
           1413.0549999999998,
           1411.41,
           1403.185,
           1398.25,
           1396.605,
           1393.315,
           1381.8000000000002,
           1381.8000000000002,
           1375.2199999999998,
           1360.4150000000002,
           1358.77,
           1352.19,
           1348.9,
           1342.3200000000002,
           1337.3850000000002,
           1330.805,
           1327.515,
           1325.87,
           1324.225,
           1319.29,
           1317.645,
           1297.9050000000007,
           1284.745,
           1276.5199999999998,
           1276.52,
           1273.23,
           1268.295,
           1246.91,
           1243.62,
           1235.395,
           1228.815,
           1222.2350000000001,
           1217.2999999999997,
           1212.3650000000002,
           1210.72,
           1199.205,
           1192.625,
           1186.045,
           1186.0449999999998,
           1177.8200000000002,
           1167.95,
           1153.145,
           1148.21,
           1146.565,
           1144.92,
           1144.92,
           1144.92,
           1138.3400000000001,
           1121.89,
           1118.6,
           1098.86,
           1087.345,
           1087.345,
           1072.54,
           1072.54,
           1069.25,
           1069.25,
           1059.38,
           1047.865,
           1046.22,
           1018.2550000000001,
           1016.61,
           1008.3850000000001,
           995.2249999999999,
           993.5800000000002,
           991.935,
           982.065,
           978.7749999999999,
           975.4849999999999,
           973.84,
           972.1949999999999,
           972.1949999999999,
           968.905,
           965.6149999999999,
           949.1650000000001,
           949.1649999999997,
           947.5199999999998,
           944.23,
           944.23,
           942.585,
           942.5849999999999,
           940.94,
           937.6500000000001,
           934.3599999999999,
           931.0700000000002,
           929.425,
           921.2,
           921.1999999999999,
           916.265,
           911.33,
           909.685,
           903.105,
           898.1700000000001,
           881.72,
           880.075,
           880.0749999999999,
           878.4300000000001,
           871.85,
           865.27,
           863.625,
           855.4000000000001,
           852.1100000000001,
           852.11,
           845.53,
           845.53,
           835.66,
           829.08,
           824.145,
           822.5,
           817.5649999999999,
           806.05,
           802.7600000000001,
           794.5350000000001,
           787.9549999999999,
           787.9549999999999,
           784.6649999999998,
           783.0200000000001,
           783.02,
           781.3749999999999,
           779.73,
           774.7950000000001,
           773.1500000000001,
           768.215,
           768.2149999999999,
           764.9250000000001,
           758.345,
           756.7,
           756.7,
           755.0550000000001,
           753.4100000000001,
           753.41,
           750.1200000000001,
           743.54,
           741.895,
           732.025,
           732.0249999999999,
           723.8,
           722.1550000000001,
           705.7049999999999,
           702.4150000000003,
           692.5450000000001,
           685.965,
           685.965,
           685.9649999999999,
           681.03,
           661.29,
           659.645,
           654.71,
           648.1300000000001,
           646.485,
           643.1949999999999,
           639.905,
           638.26,
           630.0349999999999,
           628.39,
           621.8100000000001,
           613.5849999999999,
           613.5849999999999,
           610.2950000000001,
           610.2950000000001,
           602.07,
           602.0699999999999,
           600.425,
           592.2,
           587.2650000000002,
           585.62,
           579.0400000000001,
           577.395,
           572.46,
           569.1700000000001,
           560.9449999999999,
           557.655,
           556.0099999999999,
           554.365,
           554.365,
           552.72,
           552.72,
           552.72,
           551.075,
           546.1400000000001,
           544.495,
           544.495,
           542.85,
           537.9149999999997,
           529.69,
           523.11,
           516.53,
           516.53,
           516.53,
           516.53,
           516.53,
           514.885,
           513.24,
           509.94999999999993,
           509.94999999999993,
           506.66,
           498.43500000000006,
           496.79,
           496.7900000000001,
           496.7900000000001,
           493.49999999999994,
           490.21000000000004,
           490.2099999999999,
           486.9200000000001,
           486.9200000000001,
           480.34,
           477.04999999999995,
           472.11500000000007,
           472.11500000000007,
           470.47,
           457.30999999999995,
           454.0200000000001,
           454.02000000000004,
           454.02,
           450.73,
           450.73,
           445.7950000000001,
           444.1500000000001,
           444.15000000000003,
           444.15000000000003,
           444.15000000000003,
           444.15,
           444.15,
           442.50499999999994,
           437.57,
           434.28,
           427.70000000000005,
           421.1199999999999,
           416.18499999999995,
           412.89500000000004,
           409.605,
           409.605,
           404.67,
           404.66999999999996,
           401.38000000000005,
           401.38,
           401.38,
           396.445,
           384.93,
           371.77,
           370.125,
           368.48,
           363.545,
           352.03,
           352.03,
           337.225,
           322.42,
           312.55,
           312.54999999999995,
           305.97,
           305.97,
           292.81,
           289.52000000000015,
           286.23,
           286.23,
           286.22999999999996,
           284.585,
           282.94000000000005,
           268.135,
           268.135,
           259.91,
           258.26500000000004,
           258.26500000000004,
           258.265,
           258.265,
           258.265,
           254.97500000000002,
           248.39500000000004,
           246.75000000000003,
           245.10500000000002,
           245.10500000000002,
           245.10500000000002,
           245.10500000000002,
           243.45999999999998,
           240.17000000000002,
           238.52499999999998,
           233.59,
           228.6550000000001,
           227.01,
           227.01,
           227.01,
           222.075,
           220.43,
           217.14,
           217.14,
           210.56,
           210.56,
           210.55999999999995,
           210.55999999999995,
           210.55999999999995,
           210.55999999999995,
           208.91499999999996,
           200.69,
           200.69,
           200.69,
           200.69,
           200.69,
           200.69,
           174.36999999999995,
           174.36999999999995,
           171.07999999999993,
           159.56500000000003,
           134.89000000000004,
           111.86000000000001,
           93.76499999999999,
           59.22000000000003,
           0
          ],
          "coloraxis": "coloraxis"
         },
         "name": "",
         "offsetgroup": "",
         "orientation": "v",
         "showlegend": false,
         "textposition": "auto",
         "type": "bar",
         "x": [
          "系列1",
          "系列2",
          "系列3",
          "系列6",
          "系列7",
          "系列4",
          "系列5",
          "系列11",
          "系列9",
          "系列10",
          "系列14",
          "系列18",
          "系列12",
          "系列20",
          "系列13",
          "系列15",
          "系列8",
          "系列16",
          "系列17",
          "系列22",
          "系列21",
          "系列27",
          "系列29",
          "系列24",
          "系列19",
          "系列26",
          "系列23",
          "系列32",
          "系列31",
          "系列28",
          "系列35",
          "系列33",
          "系列39",
          "系列43",
          "系列38",
          "系列45",
          "系列42",
          "系列40",
          "系列34",
          "系列36",
          "系列37",
          "系列48",
          "系列30",
          "系列41",
          "系列46",
          "系列47",
          "系列44",
          "系列60",
          "系列50",
          "系列55",
          "系列51",
          "系列57",
          "系列53",
          "系列61",
          "系列49",
          "系列62",
          "系列56",
          "系列69",
          "系列71",
          "系列25",
          "系列59",
          "系列58",
          "系列73",
          "系列77",
          "系列68",
          "系列63",
          "系列78",
          "系列54",
          "系列66",
          "系列64",
          "系列76",
          "系列65",
          "系列74",
          "系列81",
          "系列72",
          "系列67",
          "系列70",
          "系列79",
          "系列83",
          "系列52",
          "系列85",
          "系列75",
          "系列80",
          "系列91",
          "系列88",
          "系列86",
          "系列96",
          "系列95",
          "系列82",
          "系列94",
          "系列89",
          "系列92",
          "系列100",
          "系列90",
          "系列105",
          "系列106",
          "系列108",
          "系列109",
          "系列111",
          "系列104",
          "系列87",
          "系列118",
          "系列98",
          "系列99",
          "系列114",
          "系列103",
          "系列117",
          "系列113",
          "系列112",
          "系列93",
          "系列110",
          "系列132",
          "系列127",
          "系列101",
          "系列121",
          "系列123",
          "系列116",
          "系列115",
          "系列119",
          "系列126",
          "系列84",
          "系列97",
          "系列124",
          "系列136",
          "系列125",
          "系列122",
          "系列142",
          "系列143",
          "系列102",
          "系列107",
          "系列128",
          "系列134",
          "系列131",
          "系列133",
          "系列129",
          "系列144",
          "系列139",
          "系列146",
          "系列141",
          "系列166",
          "系列150",
          "系列140",
          "系列155",
          "系列161",
          "系列169",
          "系列130",
          "系列135",
          "系列153",
          "系列137",
          "系列156",
          "系列120",
          "系列158",
          "系列163",
          "系列147",
          "系列145",
          "系列138",
          "系列159",
          "系列162",
          "系列157",
          "系列149",
          "系列177",
          "系列151",
          "系列181",
          "系列154",
          "系列165",
          "系列152",
          "系列174",
          "系列172",
          "系列185",
          "系列167",
          "系列214",
          "系列182",
          "系列171",
          "系列198",
          "系列200",
          "系列189",
          "系列206",
          "系列179",
          "系列170",
          "系列195",
          "系列186",
          "系列173",
          "系列193",
          "系列175",
          "系列187",
          "系列168",
          "系列164",
          "系列178",
          "系列202",
          "系列184",
          "系列160",
          "系列196",
          "系列148",
          "系列211",
          "系列191",
          "系列194",
          "系列208",
          "系列180",
          "系列201",
          "系列218",
          "系列197",
          "系列190",
          "系列212",
          "系列215",
          "系列209",
          "系列219",
          "系列203",
          "系列213",
          "系列205",
          "系列225",
          "系列224",
          "系列199",
          "系列220",
          "系列183",
          "系列239",
          "系列216",
          "系列233",
          "系列221",
          "系列229",
          "系列222",
          "系列227",
          "系列204",
          "系列230",
          "系列210",
          "系列188",
          "系列247",
          "系列260",
          "系列252",
          "系列248",
          "系列237",
          "系列234",
          "系列249",
          "系列176",
          "系列263",
          "系列232",
          "系列228",
          "系列246",
          "系列256",
          "系列226",
          "系列268",
          "系列267",
          "系列270",
          "系列253",
          "系列223",
          "系列192",
          "系列251",
          "系列235",
          "系列243",
          "系列259",
          "系列242",
          "系列241",
          "系列257",
          "系列255",
          "系列245",
          "系列286",
          "系列254",
          "系列250",
          "系列266",
          "系列236",
          "系列265",
          "系列264",
          "系列262",
          "系列240",
          "系列261",
          "系列278",
          "系列289",
          "系列217",
          "系列301",
          "系列294",
          "系列277",
          "系列238",
          "系列275",
          "系列279",
          "系列244",
          "系列258",
          "系列291",
          "系列284",
          "系列231",
          "系列273",
          "系列272",
          "系列287",
          "系列280",
          "系列276",
          "系列269",
          "系列282",
          "系列283",
          "系列296",
          "系列290",
          "系列285",
          "系列300",
          "系列281",
          "系列295",
          "系列298",
          "系列299",
          "系列288",
          "系列292",
          "系列297",
          "系列207",
          "系列320",
          "系列322",
          "系列305",
          "系列271",
          "系列274",
          "系列326",
          "系列302",
          "系列304",
          "系列306",
          "系列345",
          "系列335",
          "系列325",
          "系列313",
          "系列307",
          "系列312",
          "系列329",
          "系列293",
          "系列314",
          "系列330",
          "系列324",
          "系列309",
          "系列319",
          "系列340",
          "系列315",
          "系列310",
          "系列342",
          "系列327",
          "系列336",
          "系列343",
          "系列317",
          "系列331",
          "系列311",
          "系列351",
          "系列323",
          "系列316",
          "系列363",
          "系列371",
          "系列359",
          "系列350",
          "系列369",
          "系列365",
          "系列334",
          "系列308",
          "系列338",
          "系列368",
          "系列372",
          "系列346",
          "系列354",
          "系列339",
          "系列370",
          "系列361",
          "系列303",
          "系列362",
          "系列348",
          "系列379",
          "系列355",
          "系列352",
          "系列364",
          "系列337",
          "系列366",
          "系列347",
          "系列398",
          "系列332",
          "系列333",
          "系列321",
          "系列328",
          "系列396",
          "系列422",
          "系列417",
          "系列358",
          "系列353",
          "系列427",
          "系列349",
          "系列360",
          "系列404",
          "系列373",
          "系列399",
          "系列406",
          "系列344",
          "系列395",
          "系列400",
          "系列377",
          "系列429",
          "系列318",
          "系列356",
          "系列403",
          "系列392",
          "系列383",
          "系列402",
          "系列375",
          "系列341",
          "系列388",
          "系列413",
          "系列384",
          "系列408",
          "系列367",
          "系列415",
          "系列397",
          "系列393",
          "系列394",
          "系列390",
          "系列435",
          "系列381",
          "系列376",
          "系列412",
          "系列420",
          "系列391",
          "系列431",
          "系列410",
          "系列416",
          "系列374",
          "系列414",
          "系列411",
          "系列386",
          "系列382",
          "系列424",
          "系列432",
          "系列409",
          "系列357",
          "系列444",
          "系列430",
          "系列434",
          "系列401",
          "系列473",
          "系列448",
          "系列466",
          "系列426",
          "系列454",
          "系列419",
          "系列468",
          "系列446",
          "系列449",
          "系列380",
          "系列457",
          "系列378",
          "系列447",
          "系列467",
          "系列428",
          "系列436",
          "系列491",
          "系列485",
          "系列519",
          "系列477",
          "系列425",
          "系列479",
          "系列458",
          "系列451",
          "系列441",
          "系列418",
          "系列421",
          "系列497",
          "系列463",
          "系列470",
          "系列455",
          "系列387",
          "系列496",
          "系列460",
          "系列465",
          "系列438",
          "系列407",
          "系列453",
          "系列439",
          "系列476",
          "系列442",
          "系列450",
          "系列506",
          "系列499",
          "系列459",
          "系列437",
          "系列423",
          "系列481",
          "系列445",
          "系列405",
          "系列440",
          "系列475",
          "系列472",
          "系列461",
          "系列483",
          "系列515",
          "系列452",
          "系列503",
          "系列487",
          "系列501",
          "系列443",
          "系列490",
          "系列513",
          "系列462",
          "系列492",
          "系列512",
          "系列469",
          "系列514",
          "系列471",
          "系列482",
          "系列510",
          "系列532",
          "系列456",
          "系列527",
          "系列526",
          "系列524",
          "系列539",
          "系列495",
          "系列464",
          "系列489",
          "系列385",
          "系列522",
          "系列533",
          "系列691",
          "系列517",
          "系列508",
          "系列551",
          "系列536",
          "系列494",
          "系列523",
          "系列531",
          "系列518",
          "系列500",
          "系列516",
          "系列521",
          "系列502",
          "系列541",
          "系列484",
          "系列542",
          "系列504",
          "系列558",
          "系列552",
          "系列544",
          "系列474",
          "系列478",
          "系列520",
          "系列488",
          "系列525",
          "系列569",
          "系列505",
          "系列498",
          "系列545",
          "系列561",
          "系列486",
          "系列549",
          "系列493",
          "系列529",
          "系列616",
          "系列547",
          "系列568",
          "系列601",
          "系列586",
          "系列548",
          "系列572",
          "系列528",
          "系列530",
          "系列560",
          "系列557",
          "系列550",
          "系列534",
          "系列594",
          "系列596",
          "系列389",
          "系列597",
          "系列566",
          "系列603",
          "系列540",
          "系列507",
          "系列538",
          "系列562",
          "系列618",
          "系列619",
          "系列583",
          "系列608",
          "系列546",
          "系列581",
          "系列555",
          "系列554",
          "系列576",
          "系列537",
          "系列589",
          "系列593",
          "系列604",
          "系列571",
          "系列605",
          "系列511",
          "系列631",
          "系列567",
          "系列633",
          "系列590",
          "系列607",
          "系列543",
          "系列653",
          "系列626",
          "系列585",
          "系列556",
          "系列577",
          "系列640",
          "系列609",
          "系列623",
          "系列621",
          "系列599",
          "系列673",
          "系列628",
          "系列627",
          "系列667",
          "系列600",
          "系列634",
          "系列680",
          "系列669",
          "系列665",
          "系列638",
          "系列629",
          "系列553",
          "系列606",
          "系列559",
          "系列563",
          "系列635",
          "系列565",
          "系列614",
          "系列645",
          "系列578",
          "系列598",
          "系列620",
          "系列646",
          "系列630",
          "系列675",
          "系列575",
          "系列636",
          "系列591",
          "系列644",
          "系列657",
          "系列570",
          "系列664",
          "系列573",
          "系列686",
          "系列637",
          "系列687",
          "系列659",
          "系列595",
          "系列622",
          "系列584",
          "系列641",
          "系列728",
          "系列480",
          "系列615",
          "系列670",
          "系列610",
          "系列658",
          "系列701",
          "系列643",
          "系列579",
          "系列718",
          "系列611",
          "系列699",
          "系列613",
          "系列535",
          "系列509",
          "系列713",
          "系列656",
          "系列683",
          "系列711",
          "系列648",
          "系列625",
          "系列684",
          "系列710",
          "系列727",
          "系列678",
          "系列632",
          "系列677",
          "系列709",
          "系列639",
          "系列617",
          "系列662",
          "系列681",
          "系列716",
          "系列564",
          "系列745",
          "系列734",
          "系列694",
          "系列689",
          "系列582",
          "系列660",
          "系列685",
          "系列602",
          "系列725",
          "系列661",
          "系列588",
          "系列676",
          "系列698",
          "系列666",
          "系列592",
          "系列651",
          "系列731",
          "系列693",
          "系列647",
          "系列729",
          "系列722",
          "系列726",
          "系列674",
          "系列780",
          "系列735",
          "系列754",
          "系列743",
          "系列760",
          "系列779",
          "系列580",
          "系列724",
          "系列732",
          "系列697",
          "系列798",
          "系列761",
          "系列655",
          "系列739",
          "系列720",
          "系列654",
          "系列721",
          "系列574",
          "系列801",
          "系列712",
          "系列672",
          "系列702",
          "系列650",
          "系列788",
          "系列797",
          "系列692",
          "系列649",
          "系列758",
          "系列671",
          "系列794",
          "系列765",
          "系列755",
          "系列764",
          "系列793",
          "系列784",
          "系列652",
          "系列642",
          "系列770",
          "系列695",
          "系列733",
          "系列746",
          "系列736",
          "系列767",
          "系列706",
          "系列679",
          "系列753",
          "系列782",
          "系列824",
          "系列705",
          "系列768",
          "系列796",
          "系列707",
          "系列769",
          "系列757",
          "系列704",
          "系列749",
          "系列772",
          "系列766",
          "系列737",
          "系列800",
          "系列852",
          "系列624",
          "系列433",
          "系列889",
          "系列906",
          "系列771",
          "系列751",
          "系列742",
          "系列805",
          "系列741",
          "系列790",
          "系列786",
          "系列708",
          "系列759",
          "系列703",
          "系列719",
          "系列723",
          "系列752",
          "系列715",
          "系列717",
          "系列875",
          "系列874",
          "系列802",
          "系列690",
          "系列740",
          "系列902",
          "系列908",
          "系列748",
          "系列795",
          "系列763",
          "系列899",
          "系列844",
          "系列858",
          "系列787",
          "系列862",
          "系列816",
          "系列730",
          "系列804",
          "系列700",
          "系列838",
          "系列835",
          "系列696",
          "系列880",
          "系列688",
          "系列873",
          "系列851",
          "系列896",
          "系列853",
          "系列778",
          "系列832",
          "系列842",
          "系列839",
          "系列831",
          "系列860",
          "系列867",
          "系列714",
          "系列886",
          "系列811",
          "系列914",
          "系列903",
          "系列807",
          "系列815",
          "系列954",
          "系列856",
          "系列775",
          "系列750",
          "系列958",
          "系列744",
          "系列911",
          "系列756",
          "系列885",
          "系列836",
          "系列809",
          "系列833",
          "系列803",
          "系列781",
          "系列891",
          "系列883",
          "系列869",
          "系列868",
          "系列905",
          "系列887",
          "系列900",
          "系列854",
          "系列783",
          "系列817",
          "系列841",
          "系列773",
          "系列941",
          "系列870",
          "系列848",
          "系列829",
          "系列912",
          "系列850",
          "系列857",
          "系列774",
          "系列863",
          "系列830",
          "系列904",
          "系列840",
          "系列847",
          "系列819",
          "系列913",
          "系列901",
          "系列820",
          "系列845",
          "系列668",
          "系列777",
          "系列882",
          "系列895",
          "系列890",
          "系列1025",
          "系列877",
          "系列893",
          "系列897",
          "系列789",
          "系列747",
          "系列738",
          "系列792",
          "系列834",
          "系列871",
          "系列785",
          "系列888",
          "系列1044",
          "系列825",
          "系列992",
          "系列894",
          "系列799",
          "系列910",
          "系列855",
          "系列682",
          "系列1013",
          "系列762",
          "系列776",
          "系列823",
          "系列948",
          "系列791",
          "系列1014",
          "系列810",
          "系列866",
          "系列827",
          "系列898",
          "系列865",
          "系列1036",
          "系列923",
          "系列1028",
          "系列1049",
          "系列951",
          "系列942",
          "系列970",
          "系列918",
          "系列861",
          "系列988",
          "系列879",
          "系列964",
          "系列972",
          "系列979",
          "系列663",
          "系列963",
          "系列1008",
          "系列837",
          "系列813",
          "系列859",
          "系列872",
          "系列916",
          "系列826",
          "系列1027",
          "系列933",
          "系列928",
          "系列936",
          "系列931",
          "系列996",
          "系列917",
          "系列846",
          "系列1033",
          "系列884",
          "系列1003",
          "系列1030",
          "系列806",
          "系列997",
          "系列995",
          "系列814",
          "系列977",
          "系列967",
          "系列876",
          "系列828",
          "系列1010",
          "系列1040",
          "系列994",
          "系列892",
          "系列1035",
          "系列985",
          "系列1038",
          "系列1012",
          "系列968",
          "系列1018",
          "系列878",
          "系列1046",
          "系列821",
          "系列990",
          "系列965",
          "系列998",
          "系列991",
          "系列938",
          "系列1034",
          "系列953",
          "系列812",
          "系列989",
          "系列1045",
          "系列843",
          "系列986",
          "系列987",
          "系列940",
          "系列1024",
          "系列864",
          "系列907",
          "系列922",
          "系列909",
          "系列1009",
          "系列930",
          "系列849",
          "系列1001",
          "系列932",
          "系列1048",
          "系列929",
          "系列944",
          "系列947",
          "系列984",
          "系列881",
          "系列1039",
          "系列1015",
          "系列587",
          "系列982",
          "系列1005",
          "系列808",
          "系列952",
          "系列1032",
          "系列976",
          "系列961",
          "系列924",
          "系列1011",
          "系列1031",
          "系列945",
          "系列1026",
          "系列955",
          "系列1023",
          "系列1051",
          "系列1017",
          "系列1000",
          "系列1043",
          "系列818",
          "系列949",
          "系列937",
          "系列962",
          "系列974",
          "系列1007",
          "系列926",
          "系列946",
          "系列939",
          "系列983",
          "系列927",
          "系列1050",
          "系列973",
          "系列999",
          "系列1020",
          "系列1047",
          "系列966",
          "系列981",
          "系列971",
          "系列1006",
          "系列1021",
          "系列980",
          "系列925",
          "系列1019",
          "系列1029",
          "系列1042",
          "系列943",
          "系列975",
          "系列978",
          "系列935",
          "系列969",
          "系列1022",
          "系列1016",
          "系列920",
          "系列950",
          "系列1041",
          "系列921",
          "系列957",
          "系列956",
          "系列934",
          "系列960",
          "系列993",
          "系列919",
          "系列915",
          "系列1002",
          "系列612",
          "系列1037",
          "系列959",
          "系列1004",
          "系列822"
         ],
         "xaxis": "x",
         "y": [
          14193354.455000604,
          12641902.315000229,
          8772753.745000426,
          5128762.904999604,
          4195607.044999797,
          4179078.0849998654,
          4087930.2799997716,
          4069565.499999962,
          3867113.7049999437,
          3256976.624999919,
          3106014.974999932,
          2784585.264999968,
          2435767.949999949,
          2281608.4200000013,
          2278459.890000019,
          2224737.480000075,
          2096401.1600000183,
          2073966.650000007,
          1791084.2250000006,
          1630731.2700000096,
          1533908.2150000052,
          1437167.4100000027,
          1430842.384999991,
          1420946.0650000025,
          1275329.019999996,
          1271626.125000007,
          1265103.7000000116,
          1168571.809999983,
          1166342.8349999976,
          1136752.5749999986,
          1047198.7749999864,
          1026432.294999997,
          1022104.2999999978,
          1000344.2400000106,
          996355.1149999964,
          976465.4199999911,
          938717.6049999846,
          916715.7299999906,
          909543.5300000047,
          907571.1750000031,
          889180.0749999932,
          850420.5850000025,
          836607.5199999942,
          789118.0150000014,
          783990.5499999969,
          771802.744999997,
          762093.9549999965,
          706112.959999994,
          693847.8399999997,
          691330.9899999981,
          686675.6400000006,
          674857.9599999976,
          668903.0599999995,
          643315.0849999984,
          643175.259999997,
          635929.0349999993,
          619729.0749999989,
          608733.8949999962,
          606606.9099999955,
          591903.8999999987,
          579620.6849999996,
          558776.889999998,
          558301.4849999992,
          519272.2149999951,
          513085.36999999895,
          506812.9849999986,
          503810.8599999998,
          498657.0749999995,
          480578.52500000235,
          469237.8949999957,
          455544.9149999989,
          440220.0950000008,
          436112.5300000005,
          429988.1950000002,
          419550.67000000074,
          416509.06500000146,
          398634.4950000007,
          387453.42999999993,
          373110.6749999993,
          371546.28000000207,
          369467.0000000004,
          355517.4000000008,
          352141.8600000023,
          345783.93499999976,
          342383.7200000007,
          339602.0249999997,
          337940.5749999994,
          335862.94000000064,
          334566.6800000001,
          331232.2650000001,
          325214.85500000004,
          317527.76999999944,
          305882.8150000001,
          297307.4300000008,
          281946.41999999987,
          261831.3600000005,
          260623.93000000005,
          256988.47999999975,
          250367.35500000048,
          246427.57999999993,
          241992.65999999986,
          241476.13000000038,
          237514.97000000044,
          237419.56,
          235919.32000000039,
          235202.09999999998,
          232639.19000000003,
          231624.22500000036,
          227404.80000000034,
          223715.0649999998,
          214055.62499999997,
          207700.9900000002,
          206855.46000000054,
          204787.69499999998,
          203150.92000000007,
          202591.6200000003,
          199128.8950000006,
          198684.74500000026,
          192075.13499999986,
          189252.31500000003,
          188544.96499999968,
          187441.1699999993,
          180241.00500000003,
          175026.35500000042,
          171895.92,
          167872.25000000026,
          164720.43000000034,
          163614.99000000043,
          160423.69,
          153736.76500000033,
          153623.26,
          153080.40999999997,
          150683.64500000057,
          150548.75499999986,
          147597.62500000006,
          145913.14500000005,
          145811.1549999997,
          141185.41499999983,
          139502.5800000002,
          139023.88500000024,
          136794.91000000006,
          136720.88500000013,
          136104.01000000015,
          130435.33999999988,
          127818.14500000014,
          127622.39000000007,
          126676.51500000017,
          126383.70499999996,
          122376.48500000038,
          121947.14000000035,
          118528.83000000016,
          116623.91999999988,
          115380.3000000001,
          115018.40000000002,
          114255.1200000002,
          112623.27999999991,
          111797.48999999983,
          111144.42500000002,
          110451.88000000018,
          109152.32999999996,
          106666.73499999999,
          106605.87000000007,
          104445.98500000015,
          104309.45000000017,
          101739.96000000006,
          101327.06499999997,
          99277.39500000015,
          98338.10000000006,
          94034.78000000006,
          91980.17500000015,
          87632.44000000005,
          86778.6850000001,
          83582.45000000004,
          83546.26000000004,
          82791.20500000007,
          81634.77,
          81299.19000000006,
          79389.34499999999,
          78856.36500000002,
          78102.95500000005,
          76249.04000000007,
          76028.61000000007,
          76007.22500000008,
          74312.87500000015,
          74052.96500000005,
          73926.30000000003,
          73788.12000000007,
          73230.465,
          72794.54000000002,
          72263.20500000006,
          70965.30000000009,
          70670.84500000004,
          68407.325,
          68053.65,
          67961.53000000004,
          67897.375,
          67481.19000000005,
          66609.34,
          66319.82,
          66184.93000000004,
          65145.29000000005,
          65040.009999999966,
          64370.49499999997,
          64080.97500000002,
          63900.024999999994,
          63018.305000000015,
          62529.74000000005,
          62528.09499999997,
          60771.235000000015,
          60534.35499999998,
          60254.70500000002,
          60105.010000000024,
          59874.71000000002,
          59290.735000000015,
          55897.100000000006,
          55808.26999999995,
          54806.46500000002,
          54627.160000000025,
          53617.130000000005,
          52901.55499999999,
          52531.429999999964,
          52457.405,
          52450.825000000004,
          52329.09499999997,
          52213.944999999985,
          51986.93499999999,
          50350.16000000002,
          50031.030000000006,
          49937.265000000014,
          48726.54500000002,
          47889.240000000005,
          47246.045,
          46372.55,
          46166.92500000001,
          45653.68500000001,
          45122.34999999999,
          44845.98999999999,
          44411.71,
          43497.08999999999,
          42987.13999999999,
          42773.28999999999,
          42176.155000000006,
          42098.84000000001,
          42019.87999999999,
          41452.35499999999,
          41284.564999999995,
          40547.60499999999,
          40332.10999999999,
          39698.78500000001,
          39557.31500000001,
          38251.185,
          37772.48999999999,
          37714.91499999998,
          37440.19999999999,
          36367.66,
          36367.659999999996,
          36165.325,
          36045.23999999999,
          35479.35999999998,
          35091.13999999998,
          34929.929999999986,
          34753.91499999999,
          34546.64499999999,
          33859.035,
          33543.19499999999,
          33393.5,
          33388.56499999994,
          33266.83500000002,
          30756.565000000002,
          30753.274999999983,
          30671.024999999954,
          30490.074999999997,
          30189.039999999994,
          29980.12499999999,
          29838.655000000006,
          29721.86,
          29695.54,
          29605.064999999933,
          29580.389999999996,
          29346.79999999998,
          29137.88500000001,
          29132.950000000004,
          28856.589999999993,
          28749.664999999994,
          28127.85499999999,
          28014.350000000013,
          27988.02999999999,
          27780.759999999995,
          27746.214999999997,
          27659.029999999995,
          27496.17499999999,
          27376.090000000004,
          25987.71,
          24982.61500000001,
          24701.319999999996,
          24650.324999999993,
          24471.019999999997,
          23712.674999999967,
          23521.854999999996,
          22872.079999999998,
          22779.959999999992,
          22740.480000000018,
          22126.89500000001,
          22103.864999999994,
          21929.494999999995,
          21666.294999999984,
          21541.274999999994,
          21467.24999999999,
          21388.29,
          21064.225000000002,
          20914.53,
          20511.50500000001,
          20328.910000000003,
          20286.139999999996,
          19962.074999999997,
          19957.140000000007,
          19741.645,
          19728.484999999993,
          19287.62499999999,
          18752.999999999996,
          18552.309999999998,
          18535.86,
          18387.81,
          18052.23,
          17341.590000000004,
          17287.305,
          17081.68,
          17033.975,
          16943.5,
          16933.630000000005,
          16844.8,
          16839.864999999998,
          16310.174999999997,
          16236.149999999996,
          15900.57,
          15879.184999999998,
          15436.679999999998,
          15395.555,
          15347.849999999999,
          15247.504999999996,
          14910.28,
          14905.345,
          14862.574999999997,
          14793.484999999999,
          14773.744999999999,
          14637.210000000003,
          14625.694999999996,
          14535.219999999998,
          14497.384999999998,
          14464.484999999999,
          13926.57,
          13916.699999999997,
          13679.820000000003,
          13628.825,
          13543.285,
          13502.160000000002,
          13391.945000000003,
          13217.574999999999,
          12957.665,
          12826.064999999999,
          12780.005000000001,
          12758.619999999997,
          12742.170000000004,
          12727.365000000002,
          12727.365,
          12691.174999999997,
          12404.944999999998,
          12339.145,
          12217.414999999997,
          12166.42,
          12131.875000000002,
          12001.920000000002,
          11908.154999999999,
          11835.775,
          11794.65,
          11771.62,
          11649.889999999994,
          11610.41,
          11600.539999999997,
          11570.929999999998,
          11565.995,
          11529.805,
          11422.880000000001,
          11357.08,
          11174.484999999997,
          11148.164999999999,
          11139.94,
          11123.490000000002,
          11090.590000000002,
          10911.285,
          10903.060000000001,
          10830.68,
          10815.875,
          10730.334999999997,
          10634.925000000001,
          10518.130000000001,
          10513.195000000003,
          10447.395,
          10310.859999999997,
          10205.579999999998,
          10041.080000000002,
          9995.019999999997,
          9967.055,
          9953.895,
          9815.715000000002,
          9791.04,
          9759.785,
          9743.335,
          9652.86,
          9628.184999999998,
          9536.064999999999,
          9527.839999999997,
          9434.074999999999,
          9407.754999999997,
          9262.995,
          9231.74,
          9172.52,
          9161.005000000001,
          9151.135,
          9144.555,
          9085.334999999997,
          9075.465,
          9054.079999999998,
          8996.505,
          8864.905,
          8825.425,
          8756.334999999997,
          8739.885,
          8690.535,
          8641.185,
          8476.685,
          8445.43,
          8394.434999999998,
          8364.824999999999,
          8287.509999999998,
          8200.325,
          8183.875,
          8165.78,
          8162.49,
          8093.4,
          8037.469999999999,
          8025.955,
          8001.28,
          7937.125,
          7836.78,
          7826.910000000001,
          7787.430000000001,
          7787.429999999999,
          7770.979999999999,
          7710.115000000001,
          7703.535,
          7662.410000000001,
          7588.385,
          7530.81,
          7525.875,
          7504.49,
          7486.394999999999,
          7422.24,
          7356.4400000000005,
          7338.344999999999,
          7279.125000000001,
          7259.385,
          7257.739999999999,
          7221.549999999999,
          7211.68,
          7190.295,
          7157.3949999999995,
          7099.8200000000015,
          7061.985,
          7032.375,
          7024.150000000001,
          6983.025000000001,
          6918.869999999999,
          6754.37,
          6660.6050000000005,
          6619.48,
          6599.739999999998,
          6576.71,
          6568.485000000001,
          6440.174999999999,
          6428.66,
          6260.869999999998,
          6242.775000000001,
          6223.035,
          6183.555,
          6165.46,
          6066.76,
          6037.15,
          6020.700000000001,
          5987.8,
          5931.870000000001,
          5871.005000000001,
          5839.75,
          5749.274999999999,
          5727.89,
          5718.0199999999995,
          5716.375,
          5686.765,
          5671.96,
          5622.610000000001,
          5568.325000000001,
          5518.974999999999,
          5435.080000000001,
          5405.47,
          5365.99,
          5316.639999999999,
          5214.650000000001,
          5189.975,
          5168.59,
          5097.855000000001,
          5038.635,
          5020.540000000001,
          4956.385,
          4956.385,
          4943.224999999999,
          4941.58,
          4936.6449999999995,
          4918.549999999999,
          4898.8099999999995,
          4895.5199999999995,
          4874.135,
          4864.265,
          4847.8150000000005,
          4824.785000000001,
          4772.145,
          4765.5650000000005,
          4698.120000000001,
          4617.514999999999,
          4550.069999999999,
          4500.72,
          4479.335,
          4443.145,
          4364.185,
          4362.54,
          4314.835000000001,
          4313.19,
          4304.965000000002,
          4255.615000000001,
          4253.97,
          4214.490000000001,
          4199.6849999999995,
          4181.59,
          4178.299999999999,
          4140.465,
          4122.370000000001,
          4054.925,
          4043.41,
          3938.13,
          3923.3250000000003,
          3878.9099999999994,
          3854.235,
          3841.0750000000007,
          3841.075,
          3803.2400000000016,
          3793.37,
          3775.2750000000005,
          3775.2749999999996,
          3758.8250000000003,
          3742.375,
          3709.475000000001,
          3709.4750000000004,
          3694.6700000000005,
          3635.4500000000007,
          3612.4200000000005,
          3584.4550000000004,
          3582.8100000000004,
          3569.6499999999996,
          3558.1350000000007,
          3551.555,
          3548.265,
          3517.01,
          3507.1400000000003,
          3495.625,
          3493.9799999999996,
          3484.11,
          3474.24,
          3434.76,
          3400.215,
          3385.41,
          3382.12,
          3352.51,
          3316.3199999999997,
          3293.29,
          3258.745,
          3245.5850000000005,
          3237.3600000000006,
          3235.715,
          3232.425,
          3166.625,
          3155.1099999999997,
          3151.82,
          3086.0199999999995,
          3084.375,
          3076.1500000000005,
          3072.86,
          3046.54,
          3030.09,
          3018.575,
          2984.0299999999997,
          2969.225,
          2952.7749999999996,
          2910.005,
          2906.715,
          2905.0699999999997,
          2895.2,
          2888.6200000000003,
          2875.46,
          2865.5899999999997,
          2855.7200000000003,
          2835.9799999999996,
          2827.755,
          2821.175,
          2811.305,
          2778.405,
          2748.795,
          2743.86,
          2697.8,
          2669.8349999999996,
          2658.3200000000006,
          2623.7749999999996,
          2615.55,
          2612.26,
          2595.81,
          2581.005,
          2574.425,
          2556.3300000000004,
          2556.33,
          2556.33,
          2554.685,
          2536.5899999999997,
          2531.6549999999997,
          2526.72,
          2518.495,
          2513.5600000000004,
          2510.2699999999995,
          2490.53,
          2485.595,
          2477.3700000000003,
          2447.7599999999998,
          2421.4399999999996,
          2418.15,
          2404.9900000000002,
          2393.4750000000004,
          2363.8650000000002,
          2349.06,
          2324.385,
          2322.74,
          2311.2250000000004,
          2293.13,
          2261.875,
          2217.46,
          2196.075,
          2196.075,
          2182.915,
          2153.3050000000003,
          2153.305,
          2150.0150000000003,
          2146.7250000000004,
          2138.4999999999995,
          2131.92,
          2113.825,
          2099.0199999999995,
          2087.505,
          2082.57,
          2077.635,
          2075.99,
          2071.0550000000003,
          2067.7650000000003,
          2031.575,
          2001.9650000000001,
          2000.32,
          1998.6749999999997,
          1993.74,
          1983.87,
          1972.3550000000002,
          1959.1949999999997,
          1952.6149999999998,
          1950.9700000000003,
          1947.68,
          1939.4549999999997,
          1932.8750000000002,
          1931.2299999999998,
          1918.0699999999997,
          1911.49,
          1911.4899999999998,
          1908.2000000000003,
          1899.9750000000001,
          1886.815,
          1881.8799999999999,
          1865.43,
          1834.1749999999997,
          1834.175,
          1827.5950000000003,
          1819.37,
          1814.435,
          1812.79,
          1799.63,
          1794.6950000000002,
          1776.6000000000001,
          1770.0200000000002,
          1770.0199999999998,
          1763.44,
          1761.7949999999996,
          1676.2549999999999,
          1674.6100000000001,
          1672.9650000000001,
          1656.5150000000003,
          1646.6450000000002,
          1646.645,
          1640.065,
          1620.3250000000003,
          1620.3249999999998,
          1617.0349999999999,
          1615.3899999999999,
          1613.745,
          1608.81,
          1608.81,
          1608.81,
          1595.65,
          1590.7150000000001,
          1589.0700000000002,
          1556.17,
          1556.17,
          1552.88,
          1551.2350000000001,
          1544.655,
          1541.365,
          1531.495,
          1519.98,
          1518.335,
          1515.0449999999998,
          1513.3999999999996,
          1511.7549999999997,
          1498.595,
          1492.0149999999999,
          1459.115,
          1455.825,
          1452.5349999999996,
          1441.02,
          1432.7949999999998,
          1431.15,
          1429.505,
          1426.215,
          1421.28,
          1413.0549999999998,
          1411.41,
          1403.185,
          1398.25,
          1396.605,
          1393.315,
          1381.8000000000002,
          1381.8000000000002,
          1375.2199999999998,
          1360.4150000000002,
          1358.77,
          1352.19,
          1348.9,
          1342.3200000000002,
          1337.3850000000002,
          1330.805,
          1327.515,
          1325.87,
          1324.225,
          1319.29,
          1317.645,
          1297.9050000000007,
          1284.745,
          1276.5199999999998,
          1276.52,
          1273.23,
          1268.295,
          1246.91,
          1243.62,
          1235.395,
          1228.815,
          1222.2350000000001,
          1217.2999999999997,
          1212.3650000000002,
          1210.72,
          1199.205,
          1192.625,
          1186.045,
          1186.0449999999998,
          1177.8200000000002,
          1167.95,
          1153.145,
          1148.21,
          1146.565,
          1144.92,
          1144.92,
          1144.92,
          1138.3400000000001,
          1121.89,
          1118.6,
          1098.86,
          1087.345,
          1087.345,
          1072.54,
          1072.54,
          1069.25,
          1069.25,
          1059.38,
          1047.865,
          1046.22,
          1018.2550000000001,
          1016.61,
          1008.3850000000001,
          995.2249999999999,
          993.5800000000002,
          991.935,
          982.065,
          978.7749999999999,
          975.4849999999999,
          973.84,
          972.1949999999999,
          972.1949999999999,
          968.905,
          965.6149999999999,
          949.1650000000001,
          949.1649999999997,
          947.5199999999998,
          944.23,
          944.23,
          942.585,
          942.5849999999999,
          940.94,
          937.6500000000001,
          934.3599999999999,
          931.0700000000002,
          929.425,
          921.2,
          921.1999999999999,
          916.265,
          911.33,
          909.685,
          903.105,
          898.1700000000001,
          881.72,
          880.075,
          880.0749999999999,
          878.4300000000001,
          871.85,
          865.27,
          863.625,
          855.4000000000001,
          852.1100000000001,
          852.11,
          845.53,
          845.53,
          835.66,
          829.08,
          824.145,
          822.5,
          817.5649999999999,
          806.05,
          802.7600000000001,
          794.5350000000001,
          787.9549999999999,
          787.9549999999999,
          784.6649999999998,
          783.0200000000001,
          783.02,
          781.3749999999999,
          779.73,
          774.7950000000001,
          773.1500000000001,
          768.215,
          768.2149999999999,
          764.9250000000001,
          758.345,
          756.7,
          756.7,
          755.0550000000001,
          753.4100000000001,
          753.41,
          750.1200000000001,
          743.54,
          741.895,
          732.025,
          732.0249999999999,
          723.8,
          722.1550000000001,
          705.7049999999999,
          702.4150000000003,
          692.5450000000001,
          685.965,
          685.965,
          685.9649999999999,
          681.03,
          661.29,
          659.645,
          654.71,
          648.1300000000001,
          646.485,
          643.1949999999999,
          639.905,
          638.26,
          630.0349999999999,
          628.39,
          621.8100000000001,
          613.5849999999999,
          613.5849999999999,
          610.2950000000001,
          610.2950000000001,
          602.07,
          602.0699999999999,
          600.425,
          592.2,
          587.2650000000002,
          585.62,
          579.0400000000001,
          577.395,
          572.46,
          569.1700000000001,
          560.9449999999999,
          557.655,
          556.0099999999999,
          554.365,
          554.365,
          552.72,
          552.72,
          552.72,
          551.075,
          546.1400000000001,
          544.495,
          544.495,
          542.85,
          537.9149999999997,
          529.69,
          523.11,
          516.53,
          516.53,
          516.53,
          516.53,
          516.53,
          514.885,
          513.24,
          509.94999999999993,
          509.94999999999993,
          506.66,
          498.43500000000006,
          496.79,
          496.7900000000001,
          496.7900000000001,
          493.49999999999994,
          490.21000000000004,
          490.2099999999999,
          486.9200000000001,
          486.9200000000001,
          480.34,
          477.04999999999995,
          472.11500000000007,
          472.11500000000007,
          470.47,
          457.30999999999995,
          454.0200000000001,
          454.02000000000004,
          454.02,
          450.73,
          450.73,
          445.7950000000001,
          444.1500000000001,
          444.15000000000003,
          444.15000000000003,
          444.15000000000003,
          444.15,
          444.15,
          442.50499999999994,
          437.57,
          434.28,
          427.70000000000005,
          421.1199999999999,
          416.18499999999995,
          412.89500000000004,
          409.605,
          409.605,
          404.67,
          404.66999999999996,
          401.38000000000005,
          401.38,
          401.38,
          396.445,
          384.93,
          371.77,
          370.125,
          368.48,
          363.545,
          352.03,
          352.03,
          337.225,
          322.42,
          312.55,
          312.54999999999995,
          305.97,
          305.97,
          292.81,
          289.52000000000015,
          286.23,
          286.23,
          286.22999999999996,
          284.585,
          282.94000000000005,
          268.135,
          268.135,
          259.91,
          258.26500000000004,
          258.26500000000004,
          258.265,
          258.265,
          258.265,
          254.97500000000002,
          248.39500000000004,
          246.75000000000003,
          245.10500000000002,
          245.10500000000002,
          245.10500000000002,
          245.10500000000002,
          243.45999999999998,
          240.17000000000002,
          238.52499999999998,
          233.59,
          228.6550000000001,
          227.01,
          227.01,
          227.01,
          222.075,
          220.43,
          217.14,
          217.14,
          210.56,
          210.56,
          210.55999999999995,
          210.55999999999995,
          210.55999999999995,
          210.55999999999995,
          208.91499999999996,
          200.69,
          200.69,
          200.69,
          200.69,
          200.69,
          200.69,
          174.36999999999995,
          174.36999999999995,
          171.07999999999993,
          159.56500000000003,
          134.89000000000004,
          111.86000000000001,
          93.76499999999999,
          59.22000000000003,
          0
         ],
         "yaxis": "y"
        }
       ],
       "layout": {
        "barmode": "relative",
        "coloraxis": {
         "colorbar": {
          "title": {
           "text": "利潤"
          }
         },
         "colorscale": [
          [
           0,
           "#0d0887"
          ],
          [
           0.1111111111111111,
           "#46039f"
          ],
          [
           0.2222222222222222,
           "#7201a8"
          ],
          [
           0.3333333333333333,
           "#9c179e"
          ],
          [
           0.4444444444444444,
           "#bd3786"
          ],
          [
           0.5555555555555556,
           "#d8576b"
          ],
          [
           0.6666666666666666,
           "#ed7953"
          ],
          [
           0.7777777777777778,
           "#fb9f3a"
          ],
          [
           0.8888888888888888,
           "#fdca26"
          ],
          [
           1,
           "#f0f921"
          ]
         ]
        },
        "legend": {
         "tracegroupgap": 0
        },
        "template": {
         "data": {
          "bar": [
           {
            "error_x": {
             "color": "#2a3f5f"
            },
            "error_y": {
             "color": "#2a3f5f"
            },
            "marker": {
             "line": {
              "color": "#E5ECF6",
              "width": 0.5
             }
            },
            "type": "bar"
           }
          ],
          "barpolar": [
           {
            "marker": {
             "line": {
              "color": "#E5ECF6",
              "width": 0.5
             }
            },
            "type": "barpolar"
           }
          ],
          "carpet": [
           {
            "aaxis": {
             "endlinecolor": "#2a3f5f",
             "gridcolor": "white",
             "linecolor": "white",
             "minorgridcolor": "white",
             "startlinecolor": "#2a3f5f"
            },
            "baxis": {
             "endlinecolor": "#2a3f5f",
             "gridcolor": "white",
             "linecolor": "white",
             "minorgridcolor": "white",
             "startlinecolor": "#2a3f5f"
            },
            "type": "carpet"
           }
          ],
          "choropleth": [
           {
            "colorbar": {
             "outlinewidth": 0,
             "ticks": ""
            },
            "type": "choropleth"
           }
          ],
          "contour": [
           {
            "colorbar": {
             "outlinewidth": 0,
             "ticks": ""
            },
            "colorscale": [
             [
              0,
              "#0d0887"
             ],
             [
              0.1111111111111111,
              "#46039f"
             ],
             [
              0.2222222222222222,
              "#7201a8"
             ],
             [
              0.3333333333333333,
              "#9c179e"
             ],
             [
              0.4444444444444444,
              "#bd3786"
             ],
             [
              0.5555555555555556,
              "#d8576b"
             ],
             [
              0.6666666666666666,
              "#ed7953"
             ],
             [
              0.7777777777777778,
              "#fb9f3a"
             ],
             [
              0.8888888888888888,
              "#fdca26"
             ],
             [
              1,
              "#f0f921"
             ]
            ],
            "type": "contour"
           }
          ],
          "contourcarpet": [
           {
            "colorbar": {
             "outlinewidth": 0,
             "ticks": ""
            },
            "type": "contourcarpet"
           }
          ],
          "heatmap": [
           {
            "colorbar": {
             "outlinewidth": 0,
             "ticks": ""
            },
            "colorscale": [
             [
              0,
              "#0d0887"
             ],
             [
              0.1111111111111111,
              "#46039f"
             ],
             [
              0.2222222222222222,
              "#7201a8"
             ],
             [
              0.3333333333333333,
              "#9c179e"
             ],
             [
              0.4444444444444444,
              "#bd3786"
             ],
             [
              0.5555555555555556,
              "#d8576b"
             ],
             [
              0.6666666666666666,
              "#ed7953"
             ],
             [
              0.7777777777777778,
              "#fb9f3a"
             ],
             [
              0.8888888888888888,
              "#fdca26"
             ],
             [
              1,
              "#f0f921"
             ]
            ],
            "type": "heatmap"
           }
          ],
          "heatmapgl": [
           {
            "colorbar": {
             "outlinewidth": 0,
             "ticks": ""
            },
            "colorscale": [
             [
              0,
              "#0d0887"
             ],
             [
              0.1111111111111111,
              "#46039f"
             ],
             [
              0.2222222222222222,
              "#7201a8"
             ],
             [
              0.3333333333333333,
              "#9c179e"
             ],
             [
              0.4444444444444444,
              "#bd3786"
             ],
             [
              0.5555555555555556,
              "#d8576b"
             ],
             [
              0.6666666666666666,
              "#ed7953"
             ],
             [
              0.7777777777777778,
              "#fb9f3a"
             ],
             [
              0.8888888888888888,
              "#fdca26"
             ],
             [
              1,
              "#f0f921"
             ]
            ],
            "type": "heatmapgl"
           }
          ],
          "histogram": [
           {
            "marker": {
             "colorbar": {
              "outlinewidth": 0,
              "ticks": ""
             }
            },
            "type": "histogram"
           }
          ],
          "histogram2d": [
           {
            "colorbar": {
             "outlinewidth": 0,
             "ticks": ""
            },
            "colorscale": [
             [
              0,
              "#0d0887"
             ],
             [
              0.1111111111111111,
              "#46039f"
             ],
             [
              0.2222222222222222,
              "#7201a8"
             ],
             [
              0.3333333333333333,
              "#9c179e"
             ],
             [
              0.4444444444444444,
              "#bd3786"
             ],
             [
              0.5555555555555556,
              "#d8576b"
             ],
             [
              0.6666666666666666,
              "#ed7953"
             ],
             [
              0.7777777777777778,
              "#fb9f3a"
             ],
             [
              0.8888888888888888,
              "#fdca26"
             ],
             [
              1,
              "#f0f921"
             ]
            ],
            "type": "histogram2d"
           }
          ],
          "histogram2dcontour": [
           {
            "colorbar": {
             "outlinewidth": 0,
             "ticks": ""
            },
            "colorscale": [
             [
              0,
              "#0d0887"
             ],
             [
              0.1111111111111111,
              "#46039f"
             ],
             [
              0.2222222222222222,
              "#7201a8"
             ],
             [
              0.3333333333333333,
              "#9c179e"
             ],
             [
              0.4444444444444444,
              "#bd3786"
             ],
             [
              0.5555555555555556,
              "#d8576b"
             ],
             [
              0.6666666666666666,
              "#ed7953"
             ],
             [
              0.7777777777777778,
              "#fb9f3a"
             ],
             [
              0.8888888888888888,
              "#fdca26"
             ],
             [
              1,
              "#f0f921"
             ]
            ],
            "type": "histogram2dcontour"
           }
          ],
          "mesh3d": [
           {
            "colorbar": {
             "outlinewidth": 0,
             "ticks": ""
            },
            "type": "mesh3d"
           }
          ],
          "parcoords": [
           {
            "line": {
             "colorbar": {
              "outlinewidth": 0,
              "ticks": ""
             }
            },
            "type": "parcoords"
           }
          ],
          "pie": [
           {
            "automargin": true,
            "type": "pie"
           }
          ],
          "scatter": [
           {
            "marker": {
             "colorbar": {
              "outlinewidth": 0,
              "ticks": ""
             }
            },
            "type": "scatter"
           }
          ],
          "scatter3d": [
           {
            "line": {
             "colorbar": {
              "outlinewidth": 0,
              "ticks": ""
             }
            },
            "marker": {
             "colorbar": {
              "outlinewidth": 0,
              "ticks": ""
             }
            },
            "type": "scatter3d"
           }
          ],
          "scattercarpet": [
           {
            "marker": {
             "colorbar": {
              "outlinewidth": 0,
              "ticks": ""
             }
            },
            "type": "scattercarpet"
           }
          ],
          "scattergeo": [
           {
            "marker": {
             "colorbar": {
              "outlinewidth": 0,
              "ticks": ""
             }
            },
            "type": "scattergeo"
           }
          ],
          "scattergl": [
           {
            "marker": {
             "colorbar": {
              "outlinewidth": 0,
              "ticks": ""
             }
            },
            "type": "scattergl"
           }
          ],
          "scattermapbox": [
           {
            "marker": {
             "colorbar": {
              "outlinewidth": 0,
              "ticks": ""
             }
            },
            "type": "scattermapbox"
           }
          ],
          "scatterpolar": [
           {
            "marker": {
             "colorbar": {
              "outlinewidth": 0,
              "ticks": ""
             }
            },
            "type": "scatterpolar"
           }
          ],
          "scatterpolargl": [
           {
            "marker": {
             "colorbar": {
              "outlinewidth": 0,
              "ticks": ""
             }
            },
            "type": "scatterpolargl"
           }
          ],
          "scatterternary": [
           {
            "marker": {
             "colorbar": {
              "outlinewidth": 0,
              "ticks": ""
             }
            },
            "type": "scatterternary"
           }
          ],
          "surface": [
           {
            "colorbar": {
             "outlinewidth": 0,
             "ticks": ""
            },
            "colorscale": [
             [
              0,
              "#0d0887"
             ],
             [
              0.1111111111111111,
              "#46039f"
             ],
             [
              0.2222222222222222,
              "#7201a8"
             ],
             [
              0.3333333333333333,
              "#9c179e"
             ],
             [
              0.4444444444444444,
              "#bd3786"
             ],
             [
              0.5555555555555556,
              "#d8576b"
             ],
             [
              0.6666666666666666,
              "#ed7953"
             ],
             [
              0.7777777777777778,
              "#fb9f3a"
             ],
             [
              0.8888888888888888,
              "#fdca26"
             ],
             [
              1,
              "#f0f921"
             ]
            ],
            "type": "surface"
           }
          ],
          "table": [
           {
            "cells": {
             "fill": {
              "color": "#EBF0F8"
             },
             "line": {
              "color": "white"
             }
            },
            "header": {
             "fill": {
              "color": "#C8D4E3"
             },
             "line": {
              "color": "white"
             }
            },
            "type": "table"
           }
          ]
         },
         "layout": {
          "annotationdefaults": {
           "arrowcolor": "#2a3f5f",
           "arrowhead": 0,
           "arrowwidth": 1
          },
          "coloraxis": {
           "colorbar": {
            "outlinewidth": 0,
            "ticks": ""
           }
          },
          "colorscale": {
           "diverging": [
            [
             0,
             "#8e0152"
            ],
            [
             0.1,
             "#c51b7d"
            ],
            [
             0.2,
             "#de77ae"
            ],
            [
             0.3,
             "#f1b6da"
            ],
            [
             0.4,
             "#fde0ef"
            ],
            [
             0.5,
             "#f7f7f7"
            ],
            [
             0.6,
             "#e6f5d0"
            ],
            [
             0.7,
             "#b8e186"
            ],
            [
             0.8,
             "#7fbc41"
            ],
            [
             0.9,
             "#4d9221"
            ],
            [
             1,
             "#276419"
            ]
           ],
           "sequential": [
            [
             0,
             "#0d0887"
            ],
            [
             0.1111111111111111,
             "#46039f"
            ],
            [
             0.2222222222222222,
             "#7201a8"
            ],
            [
             0.3333333333333333,
             "#9c179e"
            ],
            [
             0.4444444444444444,
             "#bd3786"
            ],
            [
             0.5555555555555556,
             "#d8576b"
            ],
            [
             0.6666666666666666,
             "#ed7953"
            ],
            [
             0.7777777777777778,
             "#fb9f3a"
            ],
            [
             0.8888888888888888,
             "#fdca26"
            ],
            [
             1,
             "#f0f921"
            ]
           ],
           "sequentialminus": [
            [
             0,
             "#0d0887"
            ],
            [
             0.1111111111111111,
             "#46039f"
            ],
            [
             0.2222222222222222,
             "#7201a8"
            ],
            [
             0.3333333333333333,
             "#9c179e"
            ],
            [
             0.4444444444444444,
             "#bd3786"
            ],
            [
             0.5555555555555556,
             "#d8576b"
            ],
            [
             0.6666666666666666,
             "#ed7953"
            ],
            [
             0.7777777777777778,
             "#fb9f3a"
            ],
            [
             0.8888888888888888,
             "#fdca26"
            ],
            [
             1,
             "#f0f921"
            ]
           ]
          },
          "colorway": [
           "#636efa",
           "#EF553B",
           "#00cc96",
           "#ab63fa",
           "#FFA15A",
           "#19d3f3",
           "#FF6692",
           "#B6E880",
           "#FF97FF",
           "#FECB52"
          ],
          "font": {
           "color": "#2a3f5f"
          },
          "geo": {
           "bgcolor": "white",
           "lakecolor": "white",
           "landcolor": "#E5ECF6",
           "showlakes": true,
           "showland": true,
           "subunitcolor": "white"
          },
          "hoverlabel": {
           "align": "left"
          },
          "hovermode": "closest",
          "mapbox": {
           "style": "light"
          },
          "paper_bgcolor": "white",
          "plot_bgcolor": "#E5ECF6",
          "polar": {
           "angularaxis": {
            "gridcolor": "white",
            "linecolor": "white",
            "ticks": ""
           },
           "bgcolor": "#E5ECF6",
           "radialaxis": {
            "gridcolor": "white",
            "linecolor": "white",
            "ticks": ""
           }
          },
          "scene": {
           "xaxis": {
            "backgroundcolor": "#E5ECF6",
            "gridcolor": "white",
            "gridwidth": 2,
            "linecolor": "white",
            "showbackground": true,
            "ticks": "",
            "zerolinecolor": "white"
           },
           "yaxis": {
            "backgroundcolor": "#E5ECF6",
            "gridcolor": "white",
            "gridwidth": 2,
            "linecolor": "white",
            "showbackground": true,
            "ticks": "",
            "zerolinecolor": "white"
           },
           "zaxis": {
            "backgroundcolor": "#E5ECF6",
            "gridcolor": "white",
            "gridwidth": 2,
            "linecolor": "white",
            "showbackground": true,
            "ticks": "",
            "zerolinecolor": "white"
           }
          },
          "shapedefaults": {
           "line": {
            "color": "#2a3f5f"
           }
          },
          "ternary": {
           "aaxis": {
            "gridcolor": "white",
            "linecolor": "white",
            "ticks": ""
           },
           "baxis": {
            "gridcolor": "white",
            "linecolor": "white",
            "ticks": ""
           },
           "bgcolor": "#E5ECF6",
           "caxis": {
            "gridcolor": "white",
            "linecolor": "white",
            "ticks": ""
           }
          },
          "title": {
           "x": 0.05
          },
          "xaxis": {
           "automargin": true,
           "gridcolor": "white",
           "linecolor": "white",
           "ticks": "",
           "title": {
            "standoff": 15
           },
           "zerolinecolor": "white",
           "zerolinewidth": 2
          },
          "yaxis": {
           "automargin": true,
           "gridcolor": "white",
           "linecolor": "white",
           "ticks": "",
           "title": {
            "standoff": 15
           },
           "zerolinecolor": "white",
           "zerolinewidth": 2
          }
         }
        },
        "title": {
         "text": "2019年各系列利潤排序長條圖"
        },
        "xaxis": {
         "anchor": "y",
         "domain": [
          0,
          1
         ],
         "title": {
          "text": "系列"
         }
        },
        "yaxis": {
         "anchor": "x",
         "domain": [
          0,
          1
         ],
         "title": {
          "text": "利潤"
         }
        }
       }
      }
     },
     "metadata": {}
    }
   ],
   "source": [
    "fig = px.bar(data_frame = profit_data,\n",
    "             x = '系列', \n",
    "             y = '利潤',\n",
    "             title='2019年各系列利潤排序長條圖' ,\n",
    "             color = '利潤')\n",
    "# plot(fig, filename='2019年個系列利潤.html')\n",
    "fig"
   ]
  },
  {
   "cell_type": "code",
   "execution_count": null,
   "metadata": {},
   "outputs": [],
   "source": [
    "# 將「利潤佔比」依照大小排順序\n",
    "\n",
    "#「累積利潤佔比」= 「利潤佔比」累加\n",
    "profit_data"
   ]
  },
  {
   "cell_type": "code",
   "execution_count": 29,
   "metadata": {},
   "outputs": [
    {
     "output_type": "execute_result",
     "data": {
      "text/plain": [
       "(67, 4)"
      ]
     },
     "metadata": {},
     "execution_count": 29
    }
   ],
   "source": [
    "# 找出「前百分之八十」的利潤主要是由哪些系列貢獻\n",
    "profit_data_cumsum80 = profit_data[ profit_data['累積利潤佔比'] <= .8 ]\n",
    "# profit_data_cumsum80的資料結構\n",
    "profit_data_cumsum80.shape"
   ]
  },
  {
   "cell_type": "code",
   "execution_count": 33,
   "metadata": {},
   "outputs": [
    {
     "output_type": "execute_result",
     "data": {
      "text/plain": [
       "0.06"
      ]
     },
     "metadata": {},
     "execution_count": 33
    }
   ],
   "source": [
    "# 找出創造「前百分之八十利潤」的系列佔總系列的比例，取到小數點下兩位\n",
    "round(len(profit_data_cumsum80) / len(profit_data),2)"
   ]
  },
  {
   "cell_type": "code",
   "execution_count": null,
   "metadata": {},
   "outputs": [],
   "source": [
    "fig = px.bar(data_frame = profit_data,\n",
    "             x = '系列', \n",
    "             y = '利潤',\n",
    "             title='2019年各系列利潤排序長條圖' ,\n",
    "             color = '利潤', \n",
    "             )\n",
    "fig.update_polars(bgcolor = 'black')\n",
    "#儲存此圖為html檔\n",
    "plot(fig, filename='2019年個系列利潤.html')\n",
    "fig"
   ]
  },
  {
   "cell_type": "code",
   "execution_count": 35,
   "metadata": {},
   "outputs": [
    {
     "output_type": "execute_result",
     "data": {
      "text/plain": [
       "       系列            利潤      利潤佔比    累積利潤佔比\n",
       "0     系列1  1.419335e+07  0.088604  0.088604\n",
       "163   系列2  1.264190e+07  0.078919  0.167522\n",
       "274   系列3  8.772754e+06  0.054765  0.222287\n",
       "607   系列6  5.128763e+06  0.032017  0.254304\n",
       "718   系列7  4.195607e+06  0.026192  0.280496\n",
       "385   系列4  4.179078e+06  0.026088  0.306584\n",
       "496   系列5  4.087930e+06  0.025519  0.332104\n",
       "64   系列11  4.069565e+06  0.025405  0.357509\n",
       "940   系列9  3.867114e+06  0.024141  0.381649\n",
       "1    系列10  3.256977e+06  0.020332  0.401982"
      ],
      "text/html": "<div>\n<style scoped>\n    .dataframe tbody tr th:only-of-type {\n        vertical-align: middle;\n    }\n\n    .dataframe tbody tr th {\n        vertical-align: top;\n    }\n\n    .dataframe thead th {\n        text-align: right;\n    }\n</style>\n<table border=\"1\" class=\"dataframe\">\n  <thead>\n    <tr style=\"text-align: right;\">\n      <th></th>\n      <th>系列</th>\n      <th>利潤</th>\n      <th>利潤佔比</th>\n      <th>累積利潤佔比</th>\n    </tr>\n  </thead>\n  <tbody>\n    <tr>\n      <th>0</th>\n      <td>系列1</td>\n      <td>1.419335e+07</td>\n      <td>0.088604</td>\n      <td>0.088604</td>\n    </tr>\n    <tr>\n      <th>163</th>\n      <td>系列2</td>\n      <td>1.264190e+07</td>\n      <td>0.078919</td>\n      <td>0.167522</td>\n    </tr>\n    <tr>\n      <th>274</th>\n      <td>系列3</td>\n      <td>8.772754e+06</td>\n      <td>0.054765</td>\n      <td>0.222287</td>\n    </tr>\n    <tr>\n      <th>607</th>\n      <td>系列6</td>\n      <td>5.128763e+06</td>\n      <td>0.032017</td>\n      <td>0.254304</td>\n    </tr>\n    <tr>\n      <th>718</th>\n      <td>系列7</td>\n      <td>4.195607e+06</td>\n      <td>0.026192</td>\n      <td>0.280496</td>\n    </tr>\n    <tr>\n      <th>385</th>\n      <td>系列4</td>\n      <td>4.179078e+06</td>\n      <td>0.026088</td>\n      <td>0.306584</td>\n    </tr>\n    <tr>\n      <th>496</th>\n      <td>系列5</td>\n      <td>4.087930e+06</td>\n      <td>0.025519</td>\n      <td>0.332104</td>\n    </tr>\n    <tr>\n      <th>64</th>\n      <td>系列11</td>\n      <td>4.069565e+06</td>\n      <td>0.025405</td>\n      <td>0.357509</td>\n    </tr>\n    <tr>\n      <th>940</th>\n      <td>系列9</td>\n      <td>3.867114e+06</td>\n      <td>0.024141</td>\n      <td>0.381649</td>\n    </tr>\n    <tr>\n      <th>1</th>\n      <td>系列10</td>\n      <td>3.256977e+06</td>\n      <td>0.020332</td>\n      <td>0.401982</td>\n    </tr>\n  </tbody>\n</table>\n</div>"
     },
     "metadata": {},
     "execution_count": 35
    }
   ],
   "source": [
    "# 找出利潤「前十名」\n",
    "top10_profit = profit_data.iloc[0:10]\n",
    "top10_profit"
   ]
  },
  {
   "cell_type": "code",
   "execution_count": null,
   "metadata": {},
   "outputs": [],
   "source": []
  }
 ]
}