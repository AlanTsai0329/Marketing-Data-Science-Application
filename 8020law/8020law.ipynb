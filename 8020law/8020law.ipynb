{
 "metadata": {
  "language_info": {
   "codemirror_mode": {
    "name": "ipython",
    "version": 3
   },
   "file_extension": ".py",
   "mimetype": "text/x-python",
   "name": "python",
   "nbconvert_exporter": "python",
   "pygments_lexer": "ipython3",
   "version": "3.8.5"
  },
  "orig_nbformat": 2,
  "kernelspec": {
   "name": "python385jvsc74a57bd0aee8b7b246df8f9039afb4144a1f6fd8d2ca17a180786b69acc140d282b71a49",
   "display_name": "Python 3.8.5 64-bit"
  },
  "metadata": {
   "interpreter": {
    "hash": "aee8b7b246df8f9039afb4144a1f6fd8d2ca17a180786b69acc140d282b71a49"
   }
  }
 },
 "nbformat": 4,
 "nbformat_minor": 2,
 "cells": [
  {
   "source": [
    "# 如何在大數據中找出「關鍵少數」，贏得最大獲利？\n",
    "## 作者：葉庭妤(臺灣行銷研究特邀作者)、鍾皓軒(臺灣行銷研究創辦人)"
   ],
   "cell_type": "markdown",
   "metadata": {}
  },
  {
   "cell_type": "code",
   "execution_count": 1,
   "metadata": {},
   "outputs": [],
   "source": [
    "# 引入套件\n",
    "import plotly.tools as tls\n",
    "import plotly.graph_objs as go\n",
    "from plotly.offline import download_plotlyjs, init_notebook_mode, plot, iplot\n",
    "import plotly.express as px\n",
    "import pandas as pd\n"
   ]
  },
  {
   "source": [
    "# 讀取資料\n",
    "\n",
    "資料可以在此[取得](https://drive.google.com/file/d/1QVHV7IDTFdpeQO0jY41wmxhgLizRzhoJ/view?usp=sharing)，並下載下來後，將資料與本\n",
    "ipynb檔案放於同一個工作目錄中，再執行下方程式即可。"
   ],
   "cell_type": "markdown",
   "metadata": {}
  },
  {
   "cell_type": "code",
   "execution_count": 2,
   "metadata": {},
   "outputs": [],
   "source": [
    "all_data = pd.read_csv('new_salesdata.csv',encoding= 'utf-8-sig')\n",
    "all_data = all_data.drop(['Unnamed: 0'],axis =1)\n",
    "all_data = all_data.drop(['Unnamed: 0.1'],axis =1)"
   ]
  },
  {
   "source": [
    "# 找出總共有幾個不同系列\n",
    "print('總共有',len(all_data['系列'].unique()),'種不同系列')\n",
    "\n",
    "# 找出總共有幾個不同產品\n",
    "print('總共有',len(all_data['產品'].unique()),'種不同產品')"
   ],
   "cell_type": "code",
   "metadata": {},
   "execution_count": 3,
   "outputs": [
    {
     "output_type": "stream",
     "name": "stdout",
     "text": [
      "總共有 1051 種不同系列\n總共有 8076 種不同產品\n"
     ]
    }
   ]
  },
  {
   "source": [
    "## 資料簡介\n",
    "1. 顏色：產品顏色，若產品非服飾類則無顏色\n",
    "2. 單價：產品售出單價\n",
    "3. 成本：產品成本\n",
    "4. 系列：產品所屬系列\n",
    "5. 產品：產品所屬系列下的產品類別，例如：產品4–1指的是系列4產品中的第一個產品\n",
    "6. 訂單時間：客人購買下訂單的時間\n",
    "7. 會員：會員代號流水號，相同顧客會有相同的流水號\n",
    "8. 性別：FEMALE為女，MALE為男\n",
    "9. 年紀：會員年紀\n",
    "10. 廣告代號all：顧客如何知道此產品管道\n",
    "11. 尺寸：產品尺寸，若產品非服飾類則無顏色"
   ],
   "cell_type": "markdown",
   "metadata": {}
  },
  {
   "cell_type": "code",
   "execution_count": 4,
   "metadata": {},
   "outputs": [
    {
     "output_type": "execute_result",
     "data": {
      "text/plain": [
       "              顏色        單價       成本   系列     產品                 訂單時間  \\\n",
       "0            NaN   643.195  394.800  系列4  產品4-1  2016-01-01T03:19:35   \n",
       "1            NaN   391.510  225.365  系列4  產品4-2  2016-01-01T03:19:35   \n",
       "2  watermelonred   713.930  416.185  系列4  產品4-3  2016-01-01T03:19:35   \n",
       "3            NaN   557.655  337.225  系列4  產品4-4  2016-01-01T03:19:35   \n",
       "4          white   628.390  366.835  系列4  產品4-3  2016-01-01T03:19:35   \n",
       "5       navyblue   713.930  416.185  系列4  產品4-3  2016-01-01T03:19:35   \n",
       "6            NaN  1062.670  674.450  系列4  產品4-5  2016-01-01T03:19:35   \n",
       "7           gray  1044.575  806.050  系列4  產品4-6  2016-01-01T05:53:09   \n",
       "8          black   713.930  416.185  系列4  產品4-3  2016-01-01T05:53:09   \n",
       "9           gray  1044.575  806.050  系列4  產品4-6  2016-01-01T05:53:09   \n",
       "\n",
       "            會員      性別    年紀     廣告代號all 尺寸  \n",
       "0  B_GSJ_06674  FEMALE  32.0  廣告_YND_pid  無  \n",
       "1  B_GSJ_06674  FEMALE  32.0  廣告_YND_pid  無  \n",
       "2  B_GSJ_06674  FEMALE  32.0  廣告_YND_pid  S  \n",
       "3  B_GSJ_06674  FEMALE  32.0  廣告_YND_pid  無  \n",
       "4  B_GSJ_06674  FEMALE  32.0  廣告_YND_pid  S  \n",
       "5  B_GSJ_06674  FEMALE  32.0  廣告_YND_pid  S  \n",
       "6  B_GSJ_06674  FEMALE  32.0  廣告_YND_pid  無  \n",
       "7  L_CBY_03808  FEMALE  32.0     廣告_自然流量  M  \n",
       "8  L_CBY_03808  FEMALE  32.0     廣告_自然流量  M  \n",
       "9  L_CBY_03808  FEMALE  32.0     廣告_自然流量  M  "
      ],
      "text/html": "<div>\n<style scoped>\n    .dataframe tbody tr th:only-of-type {\n        vertical-align: middle;\n    }\n\n    .dataframe tbody tr th {\n        vertical-align: top;\n    }\n\n    .dataframe thead th {\n        text-align: right;\n    }\n</style>\n<table border=\"1\" class=\"dataframe\">\n  <thead>\n    <tr style=\"text-align: right;\">\n      <th></th>\n      <th>顏色</th>\n      <th>單價</th>\n      <th>成本</th>\n      <th>系列</th>\n      <th>產品</th>\n      <th>訂單時間</th>\n      <th>會員</th>\n      <th>性別</th>\n      <th>年紀</th>\n      <th>廣告代號all</th>\n      <th>尺寸</th>\n    </tr>\n  </thead>\n  <tbody>\n    <tr>\n      <th>0</th>\n      <td>NaN</td>\n      <td>643.195</td>\n      <td>394.800</td>\n      <td>系列4</td>\n      <td>產品4-1</td>\n      <td>2016-01-01T03:19:35</td>\n      <td>B_GSJ_06674</td>\n      <td>FEMALE</td>\n      <td>32.0</td>\n      <td>廣告_YND_pid</td>\n      <td>無</td>\n    </tr>\n    <tr>\n      <th>1</th>\n      <td>NaN</td>\n      <td>391.510</td>\n      <td>225.365</td>\n      <td>系列4</td>\n      <td>產品4-2</td>\n      <td>2016-01-01T03:19:35</td>\n      <td>B_GSJ_06674</td>\n      <td>FEMALE</td>\n      <td>32.0</td>\n      <td>廣告_YND_pid</td>\n      <td>無</td>\n    </tr>\n    <tr>\n      <th>2</th>\n      <td>watermelonred</td>\n      <td>713.930</td>\n      <td>416.185</td>\n      <td>系列4</td>\n      <td>產品4-3</td>\n      <td>2016-01-01T03:19:35</td>\n      <td>B_GSJ_06674</td>\n      <td>FEMALE</td>\n      <td>32.0</td>\n      <td>廣告_YND_pid</td>\n      <td>S</td>\n    </tr>\n    <tr>\n      <th>3</th>\n      <td>NaN</td>\n      <td>557.655</td>\n      <td>337.225</td>\n      <td>系列4</td>\n      <td>產品4-4</td>\n      <td>2016-01-01T03:19:35</td>\n      <td>B_GSJ_06674</td>\n      <td>FEMALE</td>\n      <td>32.0</td>\n      <td>廣告_YND_pid</td>\n      <td>無</td>\n    </tr>\n    <tr>\n      <th>4</th>\n      <td>white</td>\n      <td>628.390</td>\n      <td>366.835</td>\n      <td>系列4</td>\n      <td>產品4-3</td>\n      <td>2016-01-01T03:19:35</td>\n      <td>B_GSJ_06674</td>\n      <td>FEMALE</td>\n      <td>32.0</td>\n      <td>廣告_YND_pid</td>\n      <td>S</td>\n    </tr>\n    <tr>\n      <th>5</th>\n      <td>navyblue</td>\n      <td>713.930</td>\n      <td>416.185</td>\n      <td>系列4</td>\n      <td>產品4-3</td>\n      <td>2016-01-01T03:19:35</td>\n      <td>B_GSJ_06674</td>\n      <td>FEMALE</td>\n      <td>32.0</td>\n      <td>廣告_YND_pid</td>\n      <td>S</td>\n    </tr>\n    <tr>\n      <th>6</th>\n      <td>NaN</td>\n      <td>1062.670</td>\n      <td>674.450</td>\n      <td>系列4</td>\n      <td>產品4-5</td>\n      <td>2016-01-01T03:19:35</td>\n      <td>B_GSJ_06674</td>\n      <td>FEMALE</td>\n      <td>32.0</td>\n      <td>廣告_YND_pid</td>\n      <td>無</td>\n    </tr>\n    <tr>\n      <th>7</th>\n      <td>gray</td>\n      <td>1044.575</td>\n      <td>806.050</td>\n      <td>系列4</td>\n      <td>產品4-6</td>\n      <td>2016-01-01T05:53:09</td>\n      <td>L_CBY_03808</td>\n      <td>FEMALE</td>\n      <td>32.0</td>\n      <td>廣告_自然流量</td>\n      <td>M</td>\n    </tr>\n    <tr>\n      <th>8</th>\n      <td>black</td>\n      <td>713.930</td>\n      <td>416.185</td>\n      <td>系列4</td>\n      <td>產品4-3</td>\n      <td>2016-01-01T05:53:09</td>\n      <td>L_CBY_03808</td>\n      <td>FEMALE</td>\n      <td>32.0</td>\n      <td>廣告_自然流量</td>\n      <td>M</td>\n    </tr>\n    <tr>\n      <th>9</th>\n      <td>gray</td>\n      <td>1044.575</td>\n      <td>806.050</td>\n      <td>系列4</td>\n      <td>產品4-6</td>\n      <td>2016-01-01T05:53:09</td>\n      <td>L_CBY_03808</td>\n      <td>FEMALE</td>\n      <td>32.0</td>\n      <td>廣告_自然流量</td>\n      <td>M</td>\n    </tr>\n  </tbody>\n</table>\n</div>"
     },
     "metadata": {},
     "execution_count": 4
    }
   ],
   "source": [
    "# 查看資料型態\n",
    "all_data.head(10)"
   ]
  },
  {
   "source": [
    "# 計算系列利潤"
   ],
   "cell_type": "markdown",
   "metadata": {}
  },
  {
   "cell_type": "code",
   "execution_count": 5,
   "metadata": {},
   "outputs": [
    {
     "output_type": "execute_result",
     "data": {
      "text/plain": [
       "                   顏色       單價       成本     系列        產品                 訂單時間  \\\n",
       "0                 NaN  643.195  394.800    系列4     產品4-1  2016-01-01T03:19:35   \n",
       "1                 NaN  391.510  225.365    系列4     產品4-2  2016-01-01T03:19:35   \n",
       "2       watermelonred  713.930  416.185    系列4     產品4-3  2016-01-01T03:19:35   \n",
       "3                 NaN  557.655  337.225    系列4     產品4-4  2016-01-01T03:19:35   \n",
       "4               white  628.390  366.835    系列4     產品4-3  2016-01-01T03:19:35   \n",
       "...               ...      ...      ...    ...       ...                  ...   \n",
       "353219            NaN  575.750  403.025  系列207  產品207-35  2019-11-12T14:44:14   \n",
       "353220            NaN  575.750  403.025  系列207  產品207-35  2019-11-13T09:37:06   \n",
       "353221            NaN  575.750  403.025  系列207  產品207-35  2019-11-14T18:34:45   \n",
       "353222            NaN  575.750  403.025  系列207  產品207-35  2019-11-14T18:34:45   \n",
       "353223            NaN  575.750  403.025  系列207  產品207-35  2019-11-15T12:14:25   \n",
       "\n",
       "                 會員      性別    年紀     廣告代號all 尺寸       利潤  \n",
       "0       B_GSJ_06674  FEMALE  32.0  廣告_YND_pid  無  248.395  \n",
       "1       B_GSJ_06674  FEMALE  32.0  廣告_YND_pid  無  166.145  \n",
       "2       B_GSJ_06674  FEMALE  32.0  廣告_YND_pid  S  297.745  \n",
       "3       B_GSJ_06674  FEMALE  32.0  廣告_YND_pid  無  220.430  \n",
       "4       B_GSJ_06674  FEMALE  32.0  廣告_YND_pid  S  261.555  \n",
       "...             ...     ...   ...         ... ..      ...  \n",
       "353219  B_GSJ_25617  FEMALE  18.0     廣告_自然流量  無  172.725  \n",
       "353220  B_GSJ_16318  FEMALE  24.0     廣告_自然流量  無  172.725  \n",
       "353221  B_GSJ_77300     NaN  28.0  廣告_KBDG_MK  無  172.725  \n",
       "353222  B_GSJ_77300     NaN  28.0  廣告_KBDG_MK  無  172.725  \n",
       "353223  B_GSJ_04755     NaN  16.0  廣告_KBDG_MK  無  172.725  \n",
       "\n",
       "[353224 rows x 12 columns]"
      ],
      "text/html": "<div>\n<style scoped>\n    .dataframe tbody tr th:only-of-type {\n        vertical-align: middle;\n    }\n\n    .dataframe tbody tr th {\n        vertical-align: top;\n    }\n\n    .dataframe thead th {\n        text-align: right;\n    }\n</style>\n<table border=\"1\" class=\"dataframe\">\n  <thead>\n    <tr style=\"text-align: right;\">\n      <th></th>\n      <th>顏色</th>\n      <th>單價</th>\n      <th>成本</th>\n      <th>系列</th>\n      <th>產品</th>\n      <th>訂單時間</th>\n      <th>會員</th>\n      <th>性別</th>\n      <th>年紀</th>\n      <th>廣告代號all</th>\n      <th>尺寸</th>\n      <th>利潤</th>\n    </tr>\n  </thead>\n  <tbody>\n    <tr>\n      <th>0</th>\n      <td>NaN</td>\n      <td>643.195</td>\n      <td>394.800</td>\n      <td>系列4</td>\n      <td>產品4-1</td>\n      <td>2016-01-01T03:19:35</td>\n      <td>B_GSJ_06674</td>\n      <td>FEMALE</td>\n      <td>32.0</td>\n      <td>廣告_YND_pid</td>\n      <td>無</td>\n      <td>248.395</td>\n    </tr>\n    <tr>\n      <th>1</th>\n      <td>NaN</td>\n      <td>391.510</td>\n      <td>225.365</td>\n      <td>系列4</td>\n      <td>產品4-2</td>\n      <td>2016-01-01T03:19:35</td>\n      <td>B_GSJ_06674</td>\n      <td>FEMALE</td>\n      <td>32.0</td>\n      <td>廣告_YND_pid</td>\n      <td>無</td>\n      <td>166.145</td>\n    </tr>\n    <tr>\n      <th>2</th>\n      <td>watermelonred</td>\n      <td>713.930</td>\n      <td>416.185</td>\n      <td>系列4</td>\n      <td>產品4-3</td>\n      <td>2016-01-01T03:19:35</td>\n      <td>B_GSJ_06674</td>\n      <td>FEMALE</td>\n      <td>32.0</td>\n      <td>廣告_YND_pid</td>\n      <td>S</td>\n      <td>297.745</td>\n    </tr>\n    <tr>\n      <th>3</th>\n      <td>NaN</td>\n      <td>557.655</td>\n      <td>337.225</td>\n      <td>系列4</td>\n      <td>產品4-4</td>\n      <td>2016-01-01T03:19:35</td>\n      <td>B_GSJ_06674</td>\n      <td>FEMALE</td>\n      <td>32.0</td>\n      <td>廣告_YND_pid</td>\n      <td>無</td>\n      <td>220.430</td>\n    </tr>\n    <tr>\n      <th>4</th>\n      <td>white</td>\n      <td>628.390</td>\n      <td>366.835</td>\n      <td>系列4</td>\n      <td>產品4-3</td>\n      <td>2016-01-01T03:19:35</td>\n      <td>B_GSJ_06674</td>\n      <td>FEMALE</td>\n      <td>32.0</td>\n      <td>廣告_YND_pid</td>\n      <td>S</td>\n      <td>261.555</td>\n    </tr>\n    <tr>\n      <th>...</th>\n      <td>...</td>\n      <td>...</td>\n      <td>...</td>\n      <td>...</td>\n      <td>...</td>\n      <td>...</td>\n      <td>...</td>\n      <td>...</td>\n      <td>...</td>\n      <td>...</td>\n      <td>...</td>\n      <td>...</td>\n    </tr>\n    <tr>\n      <th>353219</th>\n      <td>NaN</td>\n      <td>575.750</td>\n      <td>403.025</td>\n      <td>系列207</td>\n      <td>產品207-35</td>\n      <td>2019-11-12T14:44:14</td>\n      <td>B_GSJ_25617</td>\n      <td>FEMALE</td>\n      <td>18.0</td>\n      <td>廣告_自然流量</td>\n      <td>無</td>\n      <td>172.725</td>\n    </tr>\n    <tr>\n      <th>353220</th>\n      <td>NaN</td>\n      <td>575.750</td>\n      <td>403.025</td>\n      <td>系列207</td>\n      <td>產品207-35</td>\n      <td>2019-11-13T09:37:06</td>\n      <td>B_GSJ_16318</td>\n      <td>FEMALE</td>\n      <td>24.0</td>\n      <td>廣告_自然流量</td>\n      <td>無</td>\n      <td>172.725</td>\n    </tr>\n    <tr>\n      <th>353221</th>\n      <td>NaN</td>\n      <td>575.750</td>\n      <td>403.025</td>\n      <td>系列207</td>\n      <td>產品207-35</td>\n      <td>2019-11-14T18:34:45</td>\n      <td>B_GSJ_77300</td>\n      <td>NaN</td>\n      <td>28.0</td>\n      <td>廣告_KBDG_MK</td>\n      <td>無</td>\n      <td>172.725</td>\n    </tr>\n    <tr>\n      <th>353222</th>\n      <td>NaN</td>\n      <td>575.750</td>\n      <td>403.025</td>\n      <td>系列207</td>\n      <td>產品207-35</td>\n      <td>2019-11-14T18:34:45</td>\n      <td>B_GSJ_77300</td>\n      <td>NaN</td>\n      <td>28.0</td>\n      <td>廣告_KBDG_MK</td>\n      <td>無</td>\n      <td>172.725</td>\n    </tr>\n    <tr>\n      <th>353223</th>\n      <td>NaN</td>\n      <td>575.750</td>\n      <td>403.025</td>\n      <td>系列207</td>\n      <td>產品207-35</td>\n      <td>2019-11-15T12:14:25</td>\n      <td>B_GSJ_04755</td>\n      <td>NaN</td>\n      <td>16.0</td>\n      <td>廣告_KBDG_MK</td>\n      <td>無</td>\n      <td>172.725</td>\n    </tr>\n  </tbody>\n</table>\n<p>353224 rows × 12 columns</p>\n</div>"
     },
     "metadata": {},
     "execution_count": 5
    }
   ],
   "source": [
    "# 計算利潤，利潤 = 單價 - 成本\n",
    "all_data['利潤'] = all_data['單價'] - all_data['成本']\n",
    "all_data"
   ]
  },
  {
   "cell_type": "code",
   "execution_count": 6,
   "metadata": {},
   "outputs": [
    {
     "output_type": "execute_result",
     "data": {
      "text/plain": [
       "       系列            利潤      利潤佔比\n",
       "0     系列1  1.419335e+07  0.088604\n",
       "163   系列2  1.264190e+07  0.078919\n",
       "274   系列3  8.772754e+06  0.054765\n",
       "607   系列6  5.128763e+06  0.032017\n",
       "718   系列7  4.195607e+06  0.026192\n",
       "385   系列4  4.179078e+06  0.026088\n",
       "496   系列5  4.087930e+06  0.025519\n",
       "64   系列11  4.069565e+06  0.025405\n",
       "940   系列9  3.867114e+06  0.024141\n",
       "1    系列10  3.256977e+06  0.020332"
      ],
      "text/html": "<div>\n<style scoped>\n    .dataframe tbody tr th:only-of-type {\n        vertical-align: middle;\n    }\n\n    .dataframe tbody tr th {\n        vertical-align: top;\n    }\n\n    .dataframe thead th {\n        text-align: right;\n    }\n</style>\n<table border=\"1\" class=\"dataframe\">\n  <thead>\n    <tr style=\"text-align: right;\">\n      <th></th>\n      <th>系列</th>\n      <th>利潤</th>\n      <th>利潤佔比</th>\n    </tr>\n  </thead>\n  <tbody>\n    <tr>\n      <th>0</th>\n      <td>系列1</td>\n      <td>1.419335e+07</td>\n      <td>0.088604</td>\n    </tr>\n    <tr>\n      <th>163</th>\n      <td>系列2</td>\n      <td>1.264190e+07</td>\n      <td>0.078919</td>\n    </tr>\n    <tr>\n      <th>274</th>\n      <td>系列3</td>\n      <td>8.772754e+06</td>\n      <td>0.054765</td>\n    </tr>\n    <tr>\n      <th>607</th>\n      <td>系列6</td>\n      <td>5.128763e+06</td>\n      <td>0.032017</td>\n    </tr>\n    <tr>\n      <th>718</th>\n      <td>系列7</td>\n      <td>4.195607e+06</td>\n      <td>0.026192</td>\n    </tr>\n    <tr>\n      <th>385</th>\n      <td>系列4</td>\n      <td>4.179078e+06</td>\n      <td>0.026088</td>\n    </tr>\n    <tr>\n      <th>496</th>\n      <td>系列5</td>\n      <td>4.087930e+06</td>\n      <td>0.025519</td>\n    </tr>\n    <tr>\n      <th>64</th>\n      <td>系列11</td>\n      <td>4.069565e+06</td>\n      <td>0.025405</td>\n    </tr>\n    <tr>\n      <th>940</th>\n      <td>系列9</td>\n      <td>3.867114e+06</td>\n      <td>0.024141</td>\n    </tr>\n    <tr>\n      <th>1</th>\n      <td>系列10</td>\n      <td>3.256977e+06</td>\n      <td>0.020332</td>\n    </tr>\n  </tbody>\n</table>\n</div>"
     },
     "metadata": {},
     "execution_count": 6
    }
   ],
   "source": [
    "# 將「各系列」的「利潤」分別總和\n",
    "profit_data = all_data.groupby('系列', as_index = False)['利潤'].sum()\n",
    "# 計算利潤佔比\n",
    "profit_data['利潤佔比'] = profit_data['利潤'] / profit_data['利潤'].sum()\n",
    "# 利潤佔比依大小排序\n",
    "profit_data = profit_data.sort_values('利潤佔比', ascending = False)\n",
    "# 取出前10名\n",
    "top10_profit = profit_data.iloc[0:10]\n",
    "top10_profit"
   ]
  },
  {
   "cell_type": "code",
   "execution_count": 7,
   "metadata": {},
   "outputs": [
    {
     "output_type": "display_data",
     "data": {
      "application/vnd.plotly.v1+json": {
       "config": {
        "plotlyServerURL": "https://plot.ly"
       },
       "data": [
        {
         "alignmentgroup": "True",
         "hovertemplate": "系列=%{x}<br>利潤=%{marker.color}<extra></extra>",
         "legendgroup": "",
         "marker": {
          "color": [
           14193354.455000604,
           12641902.315000229,
           8772753.745000426,
           5128762.904999604,
           4195607.044999797,
           4179078.0849998654,
           4087930.2799997716,
           4069565.499999962,
           3867113.7049999437,
           3256976.624999919,
           3106014.974999932,
           2784585.264999968,
           2435767.949999949,
           2281608.4200000013,
           2278459.890000019,
           2224737.480000075,
           2096401.1600000183,
           2073966.650000007,
           1791084.2250000006,
           1630731.2700000096,
           1533908.2150000052,
           1437167.4100000027,
           1430842.384999991,
           1420946.0650000025,
           1275329.019999996,
           1271626.125000007,
           1265103.7000000116,
           1168571.809999983,
           1166342.8349999976,
           1136752.5749999986
          ],
          "coloraxis": "coloraxis"
         },
         "name": "",
         "offsetgroup": "",
         "orientation": "v",
         "showlegend": false,
         "textposition": "auto",
         "type": "bar",
         "x": [
          "系列1",
          "系列2",
          "系列3",
          "系列6",
          "系列7",
          "系列4",
          "系列5",
          "系列11",
          "系列9",
          "系列10",
          "系列14",
          "系列18",
          "系列12",
          "系列20",
          "系列13",
          "系列15",
          "系列8",
          "系列16",
          "系列17",
          "系列22",
          "系列21",
          "系列27",
          "系列29",
          "系列24",
          "系列19",
          "系列26",
          "系列23",
          "系列32",
          "系列31",
          "系列28"
         ],
         "xaxis": "x",
         "y": [
          14193354.455000604,
          12641902.315000229,
          8772753.745000426,
          5128762.904999604,
          4195607.044999797,
          4179078.0849998654,
          4087930.2799997716,
          4069565.499999962,
          3867113.7049999437,
          3256976.624999919,
          3106014.974999932,
          2784585.264999968,
          2435767.949999949,
          2281608.4200000013,
          2278459.890000019,
          2224737.480000075,
          2096401.1600000183,
          2073966.650000007,
          1791084.2250000006,
          1630731.2700000096,
          1533908.2150000052,
          1437167.4100000027,
          1430842.384999991,
          1420946.0650000025,
          1275329.019999996,
          1271626.125000007,
          1265103.7000000116,
          1168571.809999983,
          1166342.8349999976,
          1136752.5749999986
         ],
         "yaxis": "y"
        }
       ],
       "layout": {
        "barmode": "relative",
        "coloraxis": {
         "colorbar": {
          "title": {
           "text": "利潤"
          }
         },
         "colorscale": [
          [
           0,
           "#0d0887"
          ],
          [
           0.1111111111111111,
           "#46039f"
          ],
          [
           0.2222222222222222,
           "#7201a8"
          ],
          [
           0.3333333333333333,
           "#9c179e"
          ],
          [
           0.4444444444444444,
           "#bd3786"
          ],
          [
           0.5555555555555556,
           "#d8576b"
          ],
          [
           0.6666666666666666,
           "#ed7953"
          ],
          [
           0.7777777777777778,
           "#fb9f3a"
          ],
          [
           0.8888888888888888,
           "#fdca26"
          ],
          [
           1,
           "#f0f921"
          ]
         ]
        },
        "legend": {
         "tracegroupgap": 0
        },
        "template": {
         "data": {
          "bar": [
           {
            "error_x": {
             "color": "#2a3f5f"
            },
            "error_y": {
             "color": "#2a3f5f"
            },
            "marker": {
             "line": {
              "color": "#E5ECF6",
              "width": 0.5
             }
            },
            "type": "bar"
           }
          ],
          "barpolar": [
           {
            "marker": {
             "line": {
              "color": "#E5ECF6",
              "width": 0.5
             }
            },
            "type": "barpolar"
           }
          ],
          "carpet": [
           {
            "aaxis": {
             "endlinecolor": "#2a3f5f",
             "gridcolor": "white",
             "linecolor": "white",
             "minorgridcolor": "white",
             "startlinecolor": "#2a3f5f"
            },
            "baxis": {
             "endlinecolor": "#2a3f5f",
             "gridcolor": "white",
             "linecolor": "white",
             "minorgridcolor": "white",
             "startlinecolor": "#2a3f5f"
            },
            "type": "carpet"
           }
          ],
          "choropleth": [
           {
            "colorbar": {
             "outlinewidth": 0,
             "ticks": ""
            },
            "type": "choropleth"
           }
          ],
          "contour": [
           {
            "colorbar": {
             "outlinewidth": 0,
             "ticks": ""
            },
            "colorscale": [
             [
              0,
              "#0d0887"
             ],
             [
              0.1111111111111111,
              "#46039f"
             ],
             [
              0.2222222222222222,
              "#7201a8"
             ],
             [
              0.3333333333333333,
              "#9c179e"
             ],
             [
              0.4444444444444444,
              "#bd3786"
             ],
             [
              0.5555555555555556,
              "#d8576b"
             ],
             [
              0.6666666666666666,
              "#ed7953"
             ],
             [
              0.7777777777777778,
              "#fb9f3a"
             ],
             [
              0.8888888888888888,
              "#fdca26"
             ],
             [
              1,
              "#f0f921"
             ]
            ],
            "type": "contour"
           }
          ],
          "contourcarpet": [
           {
            "colorbar": {
             "outlinewidth": 0,
             "ticks": ""
            },
            "type": "contourcarpet"
           }
          ],
          "heatmap": [
           {
            "colorbar": {
             "outlinewidth": 0,
             "ticks": ""
            },
            "colorscale": [
             [
              0,
              "#0d0887"
             ],
             [
              0.1111111111111111,
              "#46039f"
             ],
             [
              0.2222222222222222,
              "#7201a8"
             ],
             [
              0.3333333333333333,
              "#9c179e"
             ],
             [
              0.4444444444444444,
              "#bd3786"
             ],
             [
              0.5555555555555556,
              "#d8576b"
             ],
             [
              0.6666666666666666,
              "#ed7953"
             ],
             [
              0.7777777777777778,
              "#fb9f3a"
             ],
             [
              0.8888888888888888,
              "#fdca26"
             ],
             [
              1,
              "#f0f921"
             ]
            ],
            "type": "heatmap"
           }
          ],
          "heatmapgl": [
           {
            "colorbar": {
             "outlinewidth": 0,
             "ticks": ""
            },
            "colorscale": [
             [
              0,
              "#0d0887"
             ],
             [
              0.1111111111111111,
              "#46039f"
             ],
             [
              0.2222222222222222,
              "#7201a8"
             ],
             [
              0.3333333333333333,
              "#9c179e"
             ],
             [
              0.4444444444444444,
              "#bd3786"
             ],
             [
              0.5555555555555556,
              "#d8576b"
             ],
             [
              0.6666666666666666,
              "#ed7953"
             ],
             [
              0.7777777777777778,
              "#fb9f3a"
             ],
             [
              0.8888888888888888,
              "#fdca26"
             ],
             [
              1,
              "#f0f921"
             ]
            ],
            "type": "heatmapgl"
           }
          ],
          "histogram": [
           {
            "marker": {
             "colorbar": {
              "outlinewidth": 0,
              "ticks": ""
             }
            },
            "type": "histogram"
           }
          ],
          "histogram2d": [
           {
            "colorbar": {
             "outlinewidth": 0,
             "ticks": ""
            },
            "colorscale": [
             [
              0,
              "#0d0887"
             ],
             [
              0.1111111111111111,
              "#46039f"
             ],
             [
              0.2222222222222222,
              "#7201a8"
             ],
             [
              0.3333333333333333,
              "#9c179e"
             ],
             [
              0.4444444444444444,
              "#bd3786"
             ],
             [
              0.5555555555555556,
              "#d8576b"
             ],
             [
              0.6666666666666666,
              "#ed7953"
             ],
             [
              0.7777777777777778,
              "#fb9f3a"
             ],
             [
              0.8888888888888888,
              "#fdca26"
             ],
             [
              1,
              "#f0f921"
             ]
            ],
            "type": "histogram2d"
           }
          ],
          "histogram2dcontour": [
           {
            "colorbar": {
             "outlinewidth": 0,
             "ticks": ""
            },
            "colorscale": [
             [
              0,
              "#0d0887"
             ],
             [
              0.1111111111111111,
              "#46039f"
             ],
             [
              0.2222222222222222,
              "#7201a8"
             ],
             [
              0.3333333333333333,
              "#9c179e"
             ],
             [
              0.4444444444444444,
              "#bd3786"
             ],
             [
              0.5555555555555556,
              "#d8576b"
             ],
             [
              0.6666666666666666,
              "#ed7953"
             ],
             [
              0.7777777777777778,
              "#fb9f3a"
             ],
             [
              0.8888888888888888,
              "#fdca26"
             ],
             [
              1,
              "#f0f921"
             ]
            ],
            "type": "histogram2dcontour"
           }
          ],
          "mesh3d": [
           {
            "colorbar": {
             "outlinewidth": 0,
             "ticks": ""
            },
            "type": "mesh3d"
           }
          ],
          "parcoords": [
           {
            "line": {
             "colorbar": {
              "outlinewidth": 0,
              "ticks": ""
             }
            },
            "type": "parcoords"
           }
          ],
          "pie": [
           {
            "automargin": true,
            "type": "pie"
           }
          ],
          "scatter": [
           {
            "marker": {
             "colorbar": {
              "outlinewidth": 0,
              "ticks": ""
             }
            },
            "type": "scatter"
           }
          ],
          "scatter3d": [
           {
            "line": {
             "colorbar": {
              "outlinewidth": 0,
              "ticks": ""
             }
            },
            "marker": {
             "colorbar": {
              "outlinewidth": 0,
              "ticks": ""
             }
            },
            "type": "scatter3d"
           }
          ],
          "scattercarpet": [
           {
            "marker": {
             "colorbar": {
              "outlinewidth": 0,
              "ticks": ""
             }
            },
            "type": "scattercarpet"
           }
          ],
          "scattergeo": [
           {
            "marker": {
             "colorbar": {
              "outlinewidth": 0,
              "ticks": ""
             }
            },
            "type": "scattergeo"
           }
          ],
          "scattergl": [
           {
            "marker": {
             "colorbar": {
              "outlinewidth": 0,
              "ticks": ""
             }
            },
            "type": "scattergl"
           }
          ],
          "scattermapbox": [
           {
            "marker": {
             "colorbar": {
              "outlinewidth": 0,
              "ticks": ""
             }
            },
            "type": "scattermapbox"
           }
          ],
          "scatterpolar": [
           {
            "marker": {
             "colorbar": {
              "outlinewidth": 0,
              "ticks": ""
             }
            },
            "type": "scatterpolar"
           }
          ],
          "scatterpolargl": [
           {
            "marker": {
             "colorbar": {
              "outlinewidth": 0,
              "ticks": ""
             }
            },
            "type": "scatterpolargl"
           }
          ],
          "scatterternary": [
           {
            "marker": {
             "colorbar": {
              "outlinewidth": 0,
              "ticks": ""
             }
            },
            "type": "scatterternary"
           }
          ],
          "surface": [
           {
            "colorbar": {
             "outlinewidth": 0,
             "ticks": ""
            },
            "colorscale": [
             [
              0,
              "#0d0887"
             ],
             [
              0.1111111111111111,
              "#46039f"
             ],
             [
              0.2222222222222222,
              "#7201a8"
             ],
             [
              0.3333333333333333,
              "#9c179e"
             ],
             [
              0.4444444444444444,
              "#bd3786"
             ],
             [
              0.5555555555555556,
              "#d8576b"
             ],
             [
              0.6666666666666666,
              "#ed7953"
             ],
             [
              0.7777777777777778,
              "#fb9f3a"
             ],
             [
              0.8888888888888888,
              "#fdca26"
             ],
             [
              1,
              "#f0f921"
             ]
            ],
            "type": "surface"
           }
          ],
          "table": [
           {
            "cells": {
             "fill": {
              "color": "#EBF0F8"
             },
             "line": {
              "color": "white"
             }
            },
            "header": {
             "fill": {
              "color": "#C8D4E3"
             },
             "line": {
              "color": "white"
             }
            },
            "type": "table"
           }
          ]
         },
         "layout": {
          "annotationdefaults": {
           "arrowcolor": "#2a3f5f",
           "arrowhead": 0,
           "arrowwidth": 1
          },
          "coloraxis": {
           "colorbar": {
            "outlinewidth": 0,
            "ticks": ""
           }
          },
          "colorscale": {
           "diverging": [
            [
             0,
             "#8e0152"
            ],
            [
             0.1,
             "#c51b7d"
            ],
            [
             0.2,
             "#de77ae"
            ],
            [
             0.3,
             "#f1b6da"
            ],
            [
             0.4,
             "#fde0ef"
            ],
            [
             0.5,
             "#f7f7f7"
            ],
            [
             0.6,
             "#e6f5d0"
            ],
            [
             0.7,
             "#b8e186"
            ],
            [
             0.8,
             "#7fbc41"
            ],
            [
             0.9,
             "#4d9221"
            ],
            [
             1,
             "#276419"
            ]
           ],
           "sequential": [
            [
             0,
             "#0d0887"
            ],
            [
             0.1111111111111111,
             "#46039f"
            ],
            [
             0.2222222222222222,
             "#7201a8"
            ],
            [
             0.3333333333333333,
             "#9c179e"
            ],
            [
             0.4444444444444444,
             "#bd3786"
            ],
            [
             0.5555555555555556,
             "#d8576b"
            ],
            [
             0.6666666666666666,
             "#ed7953"
            ],
            [
             0.7777777777777778,
             "#fb9f3a"
            ],
            [
             0.8888888888888888,
             "#fdca26"
            ],
            [
             1,
             "#f0f921"
            ]
           ],
           "sequentialminus": [
            [
             0,
             "#0d0887"
            ],
            [
             0.1111111111111111,
             "#46039f"
            ],
            [
             0.2222222222222222,
             "#7201a8"
            ],
            [
             0.3333333333333333,
             "#9c179e"
            ],
            [
             0.4444444444444444,
             "#bd3786"
            ],
            [
             0.5555555555555556,
             "#d8576b"
            ],
            [
             0.6666666666666666,
             "#ed7953"
            ],
            [
             0.7777777777777778,
             "#fb9f3a"
            ],
            [
             0.8888888888888888,
             "#fdca26"
            ],
            [
             1,
             "#f0f921"
            ]
           ]
          },
          "colorway": [
           "#636efa",
           "#EF553B",
           "#00cc96",
           "#ab63fa",
           "#FFA15A",
           "#19d3f3",
           "#FF6692",
           "#B6E880",
           "#FF97FF",
           "#FECB52"
          ],
          "font": {
           "color": "#2a3f5f"
          },
          "geo": {
           "bgcolor": "white",
           "lakecolor": "white",
           "landcolor": "#E5ECF6",
           "showlakes": true,
           "showland": true,
           "subunitcolor": "white"
          },
          "hoverlabel": {
           "align": "left"
          },
          "hovermode": "closest",
          "mapbox": {
           "style": "light"
          },
          "paper_bgcolor": "white",
          "plot_bgcolor": "#E5ECF6",
          "polar": {
           "angularaxis": {
            "gridcolor": "white",
            "linecolor": "white",
            "ticks": ""
           },
           "bgcolor": "#E5ECF6",
           "radialaxis": {
            "gridcolor": "white",
            "linecolor": "white",
            "ticks": ""
           }
          },
          "scene": {
           "xaxis": {
            "backgroundcolor": "#E5ECF6",
            "gridcolor": "white",
            "gridwidth": 2,
            "linecolor": "white",
            "showbackground": true,
            "ticks": "",
            "zerolinecolor": "white"
           },
           "yaxis": {
            "backgroundcolor": "#E5ECF6",
            "gridcolor": "white",
            "gridwidth": 2,
            "linecolor": "white",
            "showbackground": true,
            "ticks": "",
            "zerolinecolor": "white"
           },
           "zaxis": {
            "backgroundcolor": "#E5ECF6",
            "gridcolor": "white",
            "gridwidth": 2,
            "linecolor": "white",
            "showbackground": true,
            "ticks": "",
            "zerolinecolor": "white"
           }
          },
          "shapedefaults": {
           "line": {
            "color": "#2a3f5f"
           }
          },
          "ternary": {
           "aaxis": {
            "gridcolor": "white",
            "linecolor": "white",
            "ticks": ""
           },
           "baxis": {
            "gridcolor": "white",
            "linecolor": "white",
            "ticks": ""
           },
           "bgcolor": "#E5ECF6",
           "caxis": {
            "gridcolor": "white",
            "linecolor": "white",
            "ticks": ""
           }
          },
          "title": {
           "x": 0.05
          },
          "xaxis": {
           "automargin": true,
           "gridcolor": "white",
           "linecolor": "white",
           "ticks": "",
           "title": {
            "standoff": 15
           },
           "zerolinecolor": "white",
           "zerolinewidth": 2
          },
          "yaxis": {
           "automargin": true,
           "gridcolor": "white",
           "linecolor": "white",
           "ticks": "",
           "title": {
            "standoff": 15
           },
           "zerolinecolor": "white",
           "zerolinewidth": 2
          }
         }
        },
        "title": {
         "text": "2019年各系列利潤排序長條圖"
        },
        "xaxis": {
         "anchor": "y",
         "domain": [
          0,
          1
         ],
         "title": {
          "text": "系列"
         }
        },
        "yaxis": {
         "anchor": "x",
         "domain": [
          0,
          1
         ],
         "title": {
          "text": "利潤"
         }
        }
       }
      }
     },
     "metadata": {}
    }
   ],
   "source": [
    "# 製作圖片\n",
    "top30 = profit_data.iloc[:30]\n",
    "profit_fig = px.bar(data_frame = top30,\n",
    "             x = '系列', \n",
    "             y = '利潤',\n",
    "             title='2019年各系列利潤排序長條圖', \n",
    "             color = '利潤', \n",
    "             )\n",
    "plot(profit_fig, filename='2019年各系列利潤排序長條圖.html')\n",
    "# 查看圖片\n",
    "profit_fig.show()"
   ]
  },
  {
   "source": [
    "# 如何找出貢獻總利潤80%的產品清單？"
   ],
   "cell_type": "markdown",
   "metadata": {}
  },
  {
   "cell_type": "code",
   "execution_count": 8,
   "metadata": {},
   "outputs": [
    {
     "output_type": "execute_result",
     "data": {
      "text/plain": [
       "          系列            利潤          利潤佔比    累積利潤佔比\n",
       "0        系列1  1.419335e+07  8.860377e-02  0.088604\n",
       "163      系列2  1.264190e+07  7.891864e-02  0.167522\n",
       "274      系列3  8.772754e+06  5.476500e-02  0.222287\n",
       "607      系列6  5.128763e+06  3.201694e-02  0.254304\n",
       "718      系列7  4.195607e+06  2.619160e-02  0.280496\n",
       "...      ...           ...           ...       ...\n",
       "622    系列612  1.348900e+02  8.420675e-07  0.999998\n",
       "43    系列1037  1.118600e+02  6.982999e-07  0.999999\n",
       "1006   系列959  9.376500e+01  5.853396e-07  1.000000\n",
       "7     系列1004  5.922000e+01  3.696882e-07  1.000000\n",
       "855    系列822  0.000000e+00  0.000000e+00  1.000000\n",
       "\n",
       "[1051 rows x 4 columns]"
      ],
      "text/html": "<div>\n<style scoped>\n    .dataframe tbody tr th:only-of-type {\n        vertical-align: middle;\n    }\n\n    .dataframe tbody tr th {\n        vertical-align: top;\n    }\n\n    .dataframe thead th {\n        text-align: right;\n    }\n</style>\n<table border=\"1\" class=\"dataframe\">\n  <thead>\n    <tr style=\"text-align: right;\">\n      <th></th>\n      <th>系列</th>\n      <th>利潤</th>\n      <th>利潤佔比</th>\n      <th>累積利潤佔比</th>\n    </tr>\n  </thead>\n  <tbody>\n    <tr>\n      <th>0</th>\n      <td>系列1</td>\n      <td>1.419335e+07</td>\n      <td>8.860377e-02</td>\n      <td>0.088604</td>\n    </tr>\n    <tr>\n      <th>163</th>\n      <td>系列2</td>\n      <td>1.264190e+07</td>\n      <td>7.891864e-02</td>\n      <td>0.167522</td>\n    </tr>\n    <tr>\n      <th>274</th>\n      <td>系列3</td>\n      <td>8.772754e+06</td>\n      <td>5.476500e-02</td>\n      <td>0.222287</td>\n    </tr>\n    <tr>\n      <th>607</th>\n      <td>系列6</td>\n      <td>5.128763e+06</td>\n      <td>3.201694e-02</td>\n      <td>0.254304</td>\n    </tr>\n    <tr>\n      <th>718</th>\n      <td>系列7</td>\n      <td>4.195607e+06</td>\n      <td>2.619160e-02</td>\n      <td>0.280496</td>\n    </tr>\n    <tr>\n      <th>...</th>\n      <td>...</td>\n      <td>...</td>\n      <td>...</td>\n      <td>...</td>\n    </tr>\n    <tr>\n      <th>622</th>\n      <td>系列612</td>\n      <td>1.348900e+02</td>\n      <td>8.420675e-07</td>\n      <td>0.999998</td>\n    </tr>\n    <tr>\n      <th>43</th>\n      <td>系列1037</td>\n      <td>1.118600e+02</td>\n      <td>6.982999e-07</td>\n      <td>0.999999</td>\n    </tr>\n    <tr>\n      <th>1006</th>\n      <td>系列959</td>\n      <td>9.376500e+01</td>\n      <td>5.853396e-07</td>\n      <td>1.000000</td>\n    </tr>\n    <tr>\n      <th>7</th>\n      <td>系列1004</td>\n      <td>5.922000e+01</td>\n      <td>3.696882e-07</td>\n      <td>1.000000</td>\n    </tr>\n    <tr>\n      <th>855</th>\n      <td>系列822</td>\n      <td>0.000000e+00</td>\n      <td>0.000000e+00</td>\n      <td>1.000000</td>\n    </tr>\n  </tbody>\n</table>\n<p>1051 rows × 4 columns</p>\n</div>"
     },
     "metadata": {},
     "execution_count": 8
    }
   ],
   "source": [
    "# 計算累積利潤佔比\n",
    "profit_data['累積利潤佔比'] = profit_data['利潤佔比'].cumsum()\n",
    "profit_data"
   ]
  },
  {
   "cell_type": "code",
   "execution_count": 9,
   "metadata": {},
   "outputs": [],
   "source": [
    "profit_data_cumsum80 = profit_data[profit_data['累積利潤佔比']<= 0.8]\n"
   ]
  },
  {
   "cell_type": "code",
   "execution_count": 10,
   "metadata": {},
   "outputs": [
    {
     "output_type": "execute_result",
     "data": {
      "text/plain": [
       "0.06"
      ]
     },
     "metadata": {},
     "execution_count": 10
    }
   ],
   "source": [
    "# 找出創造「前百分之八十利潤」的系列佔總系列的比例，取到小數點下兩位\n",
    "round(len(profit_data_cumsum80) / len(profit_data),2)"
   ]
  },
  {
   "source": [
    "# 八二法則只能用在「系列」產品上嗎？"
   ],
   "cell_type": "markdown",
   "metadata": {}
  },
  {
   "cell_type": "code",
   "execution_count": 11,
   "metadata": {},
   "outputs": [
    {
     "output_type": "execute_result",
     "data": {
      "text/plain": [
       "           產品           利潤      利潤佔比    累積利潤佔比\n",
       "3      產品1-12  4085308.150  0.025503  0.025503\n",
       "6290   產品6-12  3260097.190  0.020352  0.045855\n",
       "16      產品1-3  2099893.495  0.013109  0.058963\n",
       "7741   產品9-12  2008563.095  0.012539  0.071502\n",
       "2007   產品2-12  1940270.920  0.012112  0.083615\n",
       "...       ...          ...       ...       ...\n",
       "2511  產品23-37    43487.220  0.000271  0.798699\n",
       "3400  產品29-16    43367.135  0.000271  0.798970\n",
       "605   產品123-3    43332.590  0.000271  0.799240\n",
       "6061  產品56-18    43135.190  0.000269  0.799509\n",
       "7983   產品97-3    42918.050  0.000268  0.799777\n",
       "\n",
       "[603 rows x 4 columns]"
      ],
      "text/html": "<div>\n<style scoped>\n    .dataframe tbody tr th:only-of-type {\n        vertical-align: middle;\n    }\n\n    .dataframe tbody tr th {\n        vertical-align: top;\n    }\n\n    .dataframe thead th {\n        text-align: right;\n    }\n</style>\n<table border=\"1\" class=\"dataframe\">\n  <thead>\n    <tr style=\"text-align: right;\">\n      <th></th>\n      <th>產品</th>\n      <th>利潤</th>\n      <th>利潤佔比</th>\n      <th>累積利潤佔比</th>\n    </tr>\n  </thead>\n  <tbody>\n    <tr>\n      <th>3</th>\n      <td>產品1-12</td>\n      <td>4085308.150</td>\n      <td>0.025503</td>\n      <td>0.025503</td>\n    </tr>\n    <tr>\n      <th>6290</th>\n      <td>產品6-12</td>\n      <td>3260097.190</td>\n      <td>0.020352</td>\n      <td>0.045855</td>\n    </tr>\n    <tr>\n      <th>16</th>\n      <td>產品1-3</td>\n      <td>2099893.495</td>\n      <td>0.013109</td>\n      <td>0.058963</td>\n    </tr>\n    <tr>\n      <th>7741</th>\n      <td>產品9-12</td>\n      <td>2008563.095</td>\n      <td>0.012539</td>\n      <td>0.071502</td>\n    </tr>\n    <tr>\n      <th>2007</th>\n      <td>產品2-12</td>\n      <td>1940270.920</td>\n      <td>0.012112</td>\n      <td>0.083615</td>\n    </tr>\n    <tr>\n      <th>...</th>\n      <td>...</td>\n      <td>...</td>\n      <td>...</td>\n      <td>...</td>\n    </tr>\n    <tr>\n      <th>2511</th>\n      <td>產品23-37</td>\n      <td>43487.220</td>\n      <td>0.000271</td>\n      <td>0.798699</td>\n    </tr>\n    <tr>\n      <th>3400</th>\n      <td>產品29-16</td>\n      <td>43367.135</td>\n      <td>0.000271</td>\n      <td>0.798970</td>\n    </tr>\n    <tr>\n      <th>605</th>\n      <td>產品123-3</td>\n      <td>43332.590</td>\n      <td>0.000271</td>\n      <td>0.799240</td>\n    </tr>\n    <tr>\n      <th>6061</th>\n      <td>產品56-18</td>\n      <td>43135.190</td>\n      <td>0.000269</td>\n      <td>0.799509</td>\n    </tr>\n    <tr>\n      <th>7983</th>\n      <td>產品97-3</td>\n      <td>42918.050</td>\n      <td>0.000268</td>\n      <td>0.799777</td>\n    </tr>\n  </tbody>\n</table>\n<p>603 rows × 4 columns</p>\n</div>"
     },
     "metadata": {},
     "execution_count": 11
    }
   ],
   "source": [
    "# 查看產品的累積利潤佔比\n",
    "SKU_data = all_data.groupby('產品', as_index = False)['利潤'].sum()\n",
    "SKU_data['利潤佔比'] = SKU_data['利潤']/SKU_data['利潤'].sum()\n",
    "SKU_data = SKU_data.sort_values('利潤佔比',ascending= False)\n",
    "SKU_data['累積利潤佔比'] = SKU_data['利潤佔比'].cumsum()\n",
    "SKU_data_80 = SKU_data[SKU_data['累積利潤佔比']<=0.8]\n",
    "SKU_data_80"
   ]
  },
  {
   "cell_type": "code",
   "execution_count": 12,
   "metadata": {},
   "outputs": [
    {
     "output_type": "execute_result",
     "data": {
      "text/plain": [
       "           產品           利潤      利潤佔比    累積利潤佔比\n",
       "3      產品1-12  4085308.150  0.025503  0.025503\n",
       "6290   產品6-12  3260097.190  0.020352  0.045855\n",
       "16      產品1-3  2099893.495  0.013109  0.058963\n",
       "7741   產品9-12  2008563.095  0.012539  0.071502\n",
       "2007   產品2-12  1940270.920  0.012112  0.083615\n",
       "2017    產品2-3  1630953.345  0.010181  0.093796\n",
       "2023   產品2-35  1618874.110  0.010106  0.103902\n",
       "515   產品12-12  1525623.995  0.009524  0.113426\n",
       "2016   產品2-29  1499874.810  0.009363  0.122789\n",
       "7345   產品8-35  1484087.745  0.009265  0.132054"
      ],
      "text/html": "<div>\n<style scoped>\n    .dataframe tbody tr th:only-of-type {\n        vertical-align: middle;\n    }\n\n    .dataframe tbody tr th {\n        vertical-align: top;\n    }\n\n    .dataframe thead th {\n        text-align: right;\n    }\n</style>\n<table border=\"1\" class=\"dataframe\">\n  <thead>\n    <tr style=\"text-align: right;\">\n      <th></th>\n      <th>產品</th>\n      <th>利潤</th>\n      <th>利潤佔比</th>\n      <th>累積利潤佔比</th>\n    </tr>\n  </thead>\n  <tbody>\n    <tr>\n      <th>3</th>\n      <td>產品1-12</td>\n      <td>4085308.150</td>\n      <td>0.025503</td>\n      <td>0.025503</td>\n    </tr>\n    <tr>\n      <th>6290</th>\n      <td>產品6-12</td>\n      <td>3260097.190</td>\n      <td>0.020352</td>\n      <td>0.045855</td>\n    </tr>\n    <tr>\n      <th>16</th>\n      <td>產品1-3</td>\n      <td>2099893.495</td>\n      <td>0.013109</td>\n      <td>0.058963</td>\n    </tr>\n    <tr>\n      <th>7741</th>\n      <td>產品9-12</td>\n      <td>2008563.095</td>\n      <td>0.012539</td>\n      <td>0.071502</td>\n    </tr>\n    <tr>\n      <th>2007</th>\n      <td>產品2-12</td>\n      <td>1940270.920</td>\n      <td>0.012112</td>\n      <td>0.083615</td>\n    </tr>\n    <tr>\n      <th>2017</th>\n      <td>產品2-3</td>\n      <td>1630953.345</td>\n      <td>0.010181</td>\n      <td>0.093796</td>\n    </tr>\n    <tr>\n      <th>2023</th>\n      <td>產品2-35</td>\n      <td>1618874.110</td>\n      <td>0.010106</td>\n      <td>0.103902</td>\n    </tr>\n    <tr>\n      <th>515</th>\n      <td>產品12-12</td>\n      <td>1525623.995</td>\n      <td>0.009524</td>\n      <td>0.113426</td>\n    </tr>\n    <tr>\n      <th>2016</th>\n      <td>產品2-29</td>\n      <td>1499874.810</td>\n      <td>0.009363</td>\n      <td>0.122789</td>\n    </tr>\n    <tr>\n      <th>7345</th>\n      <td>產品8-35</td>\n      <td>1484087.745</td>\n      <td>0.009265</td>\n      <td>0.132054</td>\n    </tr>\n  </tbody>\n</table>\n</div>"
     },
     "metadata": {},
     "execution_count": 12
    }
   ],
   "source": [
    "# 利潤前10名產品\n",
    "SKU_data_10 = SKU_data[:10]\n",
    "SKU_data_10"
   ]
  },
  {
   "cell_type": "code",
   "execution_count": 13,
   "metadata": {},
   "outputs": [
    {
     "output_type": "display_data",
     "data": {
      "application/vnd.plotly.v1+json": {
       "config": {
        "plotlyServerURL": "https://plot.ly"
       },
       "data": [
        {
         "alignmentgroup": "True",
         "hovertemplate": "產品=%{x}<br>利潤=%{y}<br>利潤佔比=%{marker.color}<extra></extra>",
         "legendgroup": "",
         "marker": {
          "color": [
           0.025503040849474416,
           0.020351559480238826,
           0.01310884457578325,
           0.01253870327028637,
           0.012112380930629912,
           0.010181427753772045,
           0.010106021636944707,
           0.00952389627338733,
           0.00936315380481828,
           0.009264601101128518,
           0.008738647800630567,
           0.008567574601634206,
           0.008460714183316342,
           0.007629234151529939,
           0.007441360679194306,
           0.007190085686323169,
           0.007028429266454046,
           0.007028172538560689,
           0.00680265248794799,
           0.006318360989978951,
           0.006005892336454631,
           0.005805151662105618,
           0.005449316532840897,
           0.005310324051394554,
           0.0052293520738396606,
           0.005184116619035697,
           0.005051111032061777,
           0.005039281010737278,
           0.00500744675196488,
           0.004574346795924948
          ],
          "coloraxis": "coloraxis"
         },
         "name": "",
         "offsetgroup": "",
         "orientation": "v",
         "showlegend": false,
         "textposition": "auto",
         "type": "bar",
         "x": [
          "產品1-12",
          "產品6-12",
          "產品1-3",
          "產品9-12",
          "產品2-12",
          "產品2-3",
          "產品2-35",
          "產品12-12",
          "產品2-29",
          "產品8-35",
          "產品3-35",
          "產品11-12",
          "產品1-35",
          "產品15-12",
          "產品3-12",
          "產品11-36",
          "產品4-3",
          "產品20-12",
          "產品7-12",
          "產品1-9",
          "產品22-12",
          "產品13-12",
          "產品5-3",
          "產品27-12",
          "產品3-3",
          "產品14-12",
          "產品2-6",
          "產品26-12",
          "產品18-140",
          "產品16-12"
         ],
         "xaxis": "x",
         "y": [
          4085308.1500000022,
          3260097.190000107,
          2099893.4950000015,
          2008563.0950000323,
          1940270.9199999878,
          1630953.344999969,
          1618874.1100000015,
          1525623.995000022,
          1499874.8099999991,
          1484087.7449999985,
          1399835.7799999912,
          1372431.7249999845,
          1355313.8549999695,
          1222119.8500000027,
          1192024.5749999871,
          1151773.069999994,
          1125877.4799999977,
          1125836.3549999925,
          1089710.5100000047,
          1012132.3100000074,
          962078.2499999922,
          929921.7899999912,
          872920.8949999963,
          850655.8200000019,
          837684.9949999924,
          830438.7699999883,
          809132.7300000059,
          807237.6899999955,
          802138.189999988,
          732760.3149999941
         ],
         "yaxis": "y"
        }
       ],
       "layout": {
        "barmode": "relative",
        "coloraxis": {
         "colorbar": {
          "title": {
           "text": "利潤佔比"
          }
         },
         "colorscale": [
          [
           0,
           "#0d0887"
          ],
          [
           0.1111111111111111,
           "#46039f"
          ],
          [
           0.2222222222222222,
           "#7201a8"
          ],
          [
           0.3333333333333333,
           "#9c179e"
          ],
          [
           0.4444444444444444,
           "#bd3786"
          ],
          [
           0.5555555555555556,
           "#d8576b"
          ],
          [
           0.6666666666666666,
           "#ed7953"
          ],
          [
           0.7777777777777778,
           "#fb9f3a"
          ],
          [
           0.8888888888888888,
           "#fdca26"
          ],
          [
           1,
           "#f0f921"
          ]
         ]
        },
        "legend": {
         "tracegroupgap": 0
        },
        "template": {
         "data": {
          "bar": [
           {
            "error_x": {
             "color": "#2a3f5f"
            },
            "error_y": {
             "color": "#2a3f5f"
            },
            "marker": {
             "line": {
              "color": "#E5ECF6",
              "width": 0.5
             }
            },
            "type": "bar"
           }
          ],
          "barpolar": [
           {
            "marker": {
             "line": {
              "color": "#E5ECF6",
              "width": 0.5
             }
            },
            "type": "barpolar"
           }
          ],
          "carpet": [
           {
            "aaxis": {
             "endlinecolor": "#2a3f5f",
             "gridcolor": "white",
             "linecolor": "white",
             "minorgridcolor": "white",
             "startlinecolor": "#2a3f5f"
            },
            "baxis": {
             "endlinecolor": "#2a3f5f",
             "gridcolor": "white",
             "linecolor": "white",
             "minorgridcolor": "white",
             "startlinecolor": "#2a3f5f"
            },
            "type": "carpet"
           }
          ],
          "choropleth": [
           {
            "colorbar": {
             "outlinewidth": 0,
             "ticks": ""
            },
            "type": "choropleth"
           }
          ],
          "contour": [
           {
            "colorbar": {
             "outlinewidth": 0,
             "ticks": ""
            },
            "colorscale": [
             [
              0,
              "#0d0887"
             ],
             [
              0.1111111111111111,
              "#46039f"
             ],
             [
              0.2222222222222222,
              "#7201a8"
             ],
             [
              0.3333333333333333,
              "#9c179e"
             ],
             [
              0.4444444444444444,
              "#bd3786"
             ],
             [
              0.5555555555555556,
              "#d8576b"
             ],
             [
              0.6666666666666666,
              "#ed7953"
             ],
             [
              0.7777777777777778,
              "#fb9f3a"
             ],
             [
              0.8888888888888888,
              "#fdca26"
             ],
             [
              1,
              "#f0f921"
             ]
            ],
            "type": "contour"
           }
          ],
          "contourcarpet": [
           {
            "colorbar": {
             "outlinewidth": 0,
             "ticks": ""
            },
            "type": "contourcarpet"
           }
          ],
          "heatmap": [
           {
            "colorbar": {
             "outlinewidth": 0,
             "ticks": ""
            },
            "colorscale": [
             [
              0,
              "#0d0887"
             ],
             [
              0.1111111111111111,
              "#46039f"
             ],
             [
              0.2222222222222222,
              "#7201a8"
             ],
             [
              0.3333333333333333,
              "#9c179e"
             ],
             [
              0.4444444444444444,
              "#bd3786"
             ],
             [
              0.5555555555555556,
              "#d8576b"
             ],
             [
              0.6666666666666666,
              "#ed7953"
             ],
             [
              0.7777777777777778,
              "#fb9f3a"
             ],
             [
              0.8888888888888888,
              "#fdca26"
             ],
             [
              1,
              "#f0f921"
             ]
            ],
            "type": "heatmap"
           }
          ],
          "heatmapgl": [
           {
            "colorbar": {
             "outlinewidth": 0,
             "ticks": ""
            },
            "colorscale": [
             [
              0,
              "#0d0887"
             ],
             [
              0.1111111111111111,
              "#46039f"
             ],
             [
              0.2222222222222222,
              "#7201a8"
             ],
             [
              0.3333333333333333,
              "#9c179e"
             ],
             [
              0.4444444444444444,
              "#bd3786"
             ],
             [
              0.5555555555555556,
              "#d8576b"
             ],
             [
              0.6666666666666666,
              "#ed7953"
             ],
             [
              0.7777777777777778,
              "#fb9f3a"
             ],
             [
              0.8888888888888888,
              "#fdca26"
             ],
             [
              1,
              "#f0f921"
             ]
            ],
            "type": "heatmapgl"
           }
          ],
          "histogram": [
           {
            "marker": {
             "colorbar": {
              "outlinewidth": 0,
              "ticks": ""
             }
            },
            "type": "histogram"
           }
          ],
          "histogram2d": [
           {
            "colorbar": {
             "outlinewidth": 0,
             "ticks": ""
            },
            "colorscale": [
             [
              0,
              "#0d0887"
             ],
             [
              0.1111111111111111,
              "#46039f"
             ],
             [
              0.2222222222222222,
              "#7201a8"
             ],
             [
              0.3333333333333333,
              "#9c179e"
             ],
             [
              0.4444444444444444,
              "#bd3786"
             ],
             [
              0.5555555555555556,
              "#d8576b"
             ],
             [
              0.6666666666666666,
              "#ed7953"
             ],
             [
              0.7777777777777778,
              "#fb9f3a"
             ],
             [
              0.8888888888888888,
              "#fdca26"
             ],
             [
              1,
              "#f0f921"
             ]
            ],
            "type": "histogram2d"
           }
          ],
          "histogram2dcontour": [
           {
            "colorbar": {
             "outlinewidth": 0,
             "ticks": ""
            },
            "colorscale": [
             [
              0,
              "#0d0887"
             ],
             [
              0.1111111111111111,
              "#46039f"
             ],
             [
              0.2222222222222222,
              "#7201a8"
             ],
             [
              0.3333333333333333,
              "#9c179e"
             ],
             [
              0.4444444444444444,
              "#bd3786"
             ],
             [
              0.5555555555555556,
              "#d8576b"
             ],
             [
              0.6666666666666666,
              "#ed7953"
             ],
             [
              0.7777777777777778,
              "#fb9f3a"
             ],
             [
              0.8888888888888888,
              "#fdca26"
             ],
             [
              1,
              "#f0f921"
             ]
            ],
            "type": "histogram2dcontour"
           }
          ],
          "mesh3d": [
           {
            "colorbar": {
             "outlinewidth": 0,
             "ticks": ""
            },
            "type": "mesh3d"
           }
          ],
          "parcoords": [
           {
            "line": {
             "colorbar": {
              "outlinewidth": 0,
              "ticks": ""
             }
            },
            "type": "parcoords"
           }
          ],
          "pie": [
           {
            "automargin": true,
            "type": "pie"
           }
          ],
          "scatter": [
           {
            "marker": {
             "colorbar": {
              "outlinewidth": 0,
              "ticks": ""
             }
            },
            "type": "scatter"
           }
          ],
          "scatter3d": [
           {
            "line": {
             "colorbar": {
              "outlinewidth": 0,
              "ticks": ""
             }
            },
            "marker": {
             "colorbar": {
              "outlinewidth": 0,
              "ticks": ""
             }
            },
            "type": "scatter3d"
           }
          ],
          "scattercarpet": [
           {
            "marker": {
             "colorbar": {
              "outlinewidth": 0,
              "ticks": ""
             }
            },
            "type": "scattercarpet"
           }
          ],
          "scattergeo": [
           {
            "marker": {
             "colorbar": {
              "outlinewidth": 0,
              "ticks": ""
             }
            },
            "type": "scattergeo"
           }
          ],
          "scattergl": [
           {
            "marker": {
             "colorbar": {
              "outlinewidth": 0,
              "ticks": ""
             }
            },
            "type": "scattergl"
           }
          ],
          "scattermapbox": [
           {
            "marker": {
             "colorbar": {
              "outlinewidth": 0,
              "ticks": ""
             }
            },
            "type": "scattermapbox"
           }
          ],
          "scatterpolar": [
           {
            "marker": {
             "colorbar": {
              "outlinewidth": 0,
              "ticks": ""
             }
            },
            "type": "scatterpolar"
           }
          ],
          "scatterpolargl": [
           {
            "marker": {
             "colorbar": {
              "outlinewidth": 0,
              "ticks": ""
             }
            },
            "type": "scatterpolargl"
           }
          ],
          "scatterternary": [
           {
            "marker": {
             "colorbar": {
              "outlinewidth": 0,
              "ticks": ""
             }
            },
            "type": "scatterternary"
           }
          ],
          "surface": [
           {
            "colorbar": {
             "outlinewidth": 0,
             "ticks": ""
            },
            "colorscale": [
             [
              0,
              "#0d0887"
             ],
             [
              0.1111111111111111,
              "#46039f"
             ],
             [
              0.2222222222222222,
              "#7201a8"
             ],
             [
              0.3333333333333333,
              "#9c179e"
             ],
             [
              0.4444444444444444,
              "#bd3786"
             ],
             [
              0.5555555555555556,
              "#d8576b"
             ],
             [
              0.6666666666666666,
              "#ed7953"
             ],
             [
              0.7777777777777778,
              "#fb9f3a"
             ],
             [
              0.8888888888888888,
              "#fdca26"
             ],
             [
              1,
              "#f0f921"
             ]
            ],
            "type": "surface"
           }
          ],
          "table": [
           {
            "cells": {
             "fill": {
              "color": "#EBF0F8"
             },
             "line": {
              "color": "white"
             }
            },
            "header": {
             "fill": {
              "color": "#C8D4E3"
             },
             "line": {
              "color": "white"
             }
            },
            "type": "table"
           }
          ]
         },
         "layout": {
          "annotationdefaults": {
           "arrowcolor": "#2a3f5f",
           "arrowhead": 0,
           "arrowwidth": 1
          },
          "coloraxis": {
           "colorbar": {
            "outlinewidth": 0,
            "ticks": ""
           }
          },
          "colorscale": {
           "diverging": [
            [
             0,
             "#8e0152"
            ],
            [
             0.1,
             "#c51b7d"
            ],
            [
             0.2,
             "#de77ae"
            ],
            [
             0.3,
             "#f1b6da"
            ],
            [
             0.4,
             "#fde0ef"
            ],
            [
             0.5,
             "#f7f7f7"
            ],
            [
             0.6,
             "#e6f5d0"
            ],
            [
             0.7,
             "#b8e186"
            ],
            [
             0.8,
             "#7fbc41"
            ],
            [
             0.9,
             "#4d9221"
            ],
            [
             1,
             "#276419"
            ]
           ],
           "sequential": [
            [
             0,
             "#0d0887"
            ],
            [
             0.1111111111111111,
             "#46039f"
            ],
            [
             0.2222222222222222,
             "#7201a8"
            ],
            [
             0.3333333333333333,
             "#9c179e"
            ],
            [
             0.4444444444444444,
             "#bd3786"
            ],
            [
             0.5555555555555556,
             "#d8576b"
            ],
            [
             0.6666666666666666,
             "#ed7953"
            ],
            [
             0.7777777777777778,
             "#fb9f3a"
            ],
            [
             0.8888888888888888,
             "#fdca26"
            ],
            [
             1,
             "#f0f921"
            ]
           ],
           "sequentialminus": [
            [
             0,
             "#0d0887"
            ],
            [
             0.1111111111111111,
             "#46039f"
            ],
            [
             0.2222222222222222,
             "#7201a8"
            ],
            [
             0.3333333333333333,
             "#9c179e"
            ],
            [
             0.4444444444444444,
             "#bd3786"
            ],
            [
             0.5555555555555556,
             "#d8576b"
            ],
            [
             0.6666666666666666,
             "#ed7953"
            ],
            [
             0.7777777777777778,
             "#fb9f3a"
            ],
            [
             0.8888888888888888,
             "#fdca26"
            ],
            [
             1,
             "#f0f921"
            ]
           ]
          },
          "colorway": [
           "#636efa",
           "#EF553B",
           "#00cc96",
           "#ab63fa",
           "#FFA15A",
           "#19d3f3",
           "#FF6692",
           "#B6E880",
           "#FF97FF",
           "#FECB52"
          ],
          "font": {
           "color": "#2a3f5f"
          },
          "geo": {
           "bgcolor": "white",
           "lakecolor": "white",
           "landcolor": "#E5ECF6",
           "showlakes": true,
           "showland": true,
           "subunitcolor": "white"
          },
          "hoverlabel": {
           "align": "left"
          },
          "hovermode": "closest",
          "mapbox": {
           "style": "light"
          },
          "paper_bgcolor": "white",
          "plot_bgcolor": "#E5ECF6",
          "polar": {
           "angularaxis": {
            "gridcolor": "white",
            "linecolor": "white",
            "ticks": ""
           },
           "bgcolor": "#E5ECF6",
           "radialaxis": {
            "gridcolor": "white",
            "linecolor": "white",
            "ticks": ""
           }
          },
          "scene": {
           "xaxis": {
            "backgroundcolor": "#E5ECF6",
            "gridcolor": "white",
            "gridwidth": 2,
            "linecolor": "white",
            "showbackground": true,
            "ticks": "",
            "zerolinecolor": "white"
           },
           "yaxis": {
            "backgroundcolor": "#E5ECF6",
            "gridcolor": "white",
            "gridwidth": 2,
            "linecolor": "white",
            "showbackground": true,
            "ticks": "",
            "zerolinecolor": "white"
           },
           "zaxis": {
            "backgroundcolor": "#E5ECF6",
            "gridcolor": "white",
            "gridwidth": 2,
            "linecolor": "white",
            "showbackground": true,
            "ticks": "",
            "zerolinecolor": "white"
           }
          },
          "shapedefaults": {
           "line": {
            "color": "#2a3f5f"
           }
          },
          "ternary": {
           "aaxis": {
            "gridcolor": "white",
            "linecolor": "white",
            "ticks": ""
           },
           "baxis": {
            "gridcolor": "white",
            "linecolor": "white",
            "ticks": ""
           },
           "bgcolor": "#E5ECF6",
           "caxis": {
            "gridcolor": "white",
            "linecolor": "white",
            "ticks": ""
           }
          },
          "title": {
           "x": 0.05
          },
          "xaxis": {
           "automargin": true,
           "gridcolor": "white",
           "linecolor": "white",
           "ticks": "",
           "title": {
            "standoff": 15
           },
           "zerolinecolor": "white",
           "zerolinewidth": 2
          },
          "yaxis": {
           "automargin": true,
           "gridcolor": "white",
           "linecolor": "white",
           "ticks": "",
           "title": {
            "standoff": 15
           },
           "zerolinecolor": "white",
           "zerolinewidth": 2
          }
         }
        },
        "title": {
         "text": "2019年各產品利潤排序長條圖"
        },
        "xaxis": {
         "anchor": "y",
         "domain": [
          0,
          1
         ],
         "title": {
          "text": "產品"
         }
        },
        "yaxis": {
         "anchor": "x",
         "domain": [
          0,
          1
         ],
         "title": {
          "text": "利潤"
         }
        }
       }
      }
     },
     "metadata": {}
    }
   ],
   "source": [
    "SKU_data_30 = SKU_data.iloc[:30]\n",
    "# 各產品利潤製圖\n",
    "SKU_fig = px.bar(data_frame = SKU_data_30,\n",
    "             x = '產品', \n",
    "             y = '利潤',\n",
    "             title='2019年各產品利潤排序長條圖' ,\n",
    "             color = '利潤佔比')\n",
    "plot(SKU_fig, filename='2019年各產品利潤排序長條圖.html')\n",
    "SKU_fig"
   ]
  },
  {
   "cell_type": "code",
   "execution_count": 14,
   "metadata": {},
   "outputs": [
    {
     "output_type": "execute_result",
     "data": {
      "text/plain": [
       "0.07"
      ]
     },
     "metadata": {},
     "execution_count": 14
    }
   ],
   "source": [
    "# 找出創造「前百分之八十利潤」的產品佔總系列的比例，取到小數點下兩位\n",
    "round(len(SKU_data_80)/len(SKU_data),2)"
   ]
  },
  {
   "source": [
    "# 管理意涵\n",
    "## 從這次的資料集，我們可以知道：\n",
    "## 1. 當我們遇到數以萬計筆資料集的時候，我們可以利用八二法則抓出重要的系列！\n",
    "## 2. 然而，在每一個產業別不一定是八二法則，像是此資料集就不是20％產品貢獻80％的利潤，但我們仍然可以用此來判斷哪些產品貢獻了80%的利潤！\n",
    "## 3. 同樣八二法則當然也可以應用在產品、顏色、尺寸等SKU上！"
   ],
   "cell_type": "markdown",
   "metadata": {}
  }
 ]
}