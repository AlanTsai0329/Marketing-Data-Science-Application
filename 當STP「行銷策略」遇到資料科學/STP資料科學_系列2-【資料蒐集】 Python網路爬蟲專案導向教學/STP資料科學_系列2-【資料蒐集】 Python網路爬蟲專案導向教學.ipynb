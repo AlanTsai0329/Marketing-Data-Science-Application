{
 "cells": [
  {
   "cell_type": "markdown",
   "metadata": {},
   "source": [
    "# <div style=\"text-align:center\"><span style=\"font-size:1.2cm; line-height: 1.5cm; \">當STP「行銷策略」遇到資料科學</span><br></div>\n",
    "\n",
    "# <div style=\"text-align:center\"><span style=\"font-size:1.2cm; line-height: 1.5cm; \">系列2-【資料蒐集】 Python網路爬蟲專案導向教學</span><br></div>"
   ]
  },
  {
   "cell_type": "markdown",
   "metadata": {},
   "source": [
    "## 作者：鍾皓軒（臺灣行銷研究有限公司）\n",
    "### Python jupyter notebook整理作者：陳俊凱（臺灣行銷研究特邀整理作者）、孔慶媛（臺灣行銷研究特邀整理作者）\n",
    "## 完整文章介紹[鏈接]()【文章修改中，之後準備發表】"
   ]
  },
  {
   "cell_type": "markdown",
   "metadata": {},
   "source": [
    "# <span style=\"font-size:0.9cm; line-height: 2cm; font-family:cursive;\">一、引入套件</span><br>"
   ]
  },
  {
   "cell_type": "code",
   "execution_count": 1,
   "metadata": {},
   "outputs": [],
   "source": [
    "import requests #引入函式庫\n",
    "from bs4 import BeautifulSoup\n",
    "import re"
   ]
  },
  {
   "cell_type": "markdown",
   "metadata": {},
   "source": [
    "# <span style=\"font-size:0.9cm; line-height: 2cm;\">二、 Requests網頁 </span><br>"
   ]
  },
  {
   "cell_type": "code",
   "execution_count": 2,
   "metadata": {},
   "outputs": [
    {
     "output_type": "execute_result",
     "data": {
      "text/plain": "'<!DOCTYPE html>\\n<html>\\n\\t<head>\\n\\t\\t<meta charset=\"utf-8\">\\n\\t\\t\\n\\n<meta name=\"viewport\" content=\"width=device-width, initial-scale=1\">\\n\\n<title>看板 underwear 文章列表 - 批踢踢實業坊</title>\\n\\n<link rel=\"stylesheet\" type=\"text/css\" href=\"//images.ptt.cc/bbs/v2.27/bbs-common.css\">\\n<link rel=\"stylesheet\" type=\"text/css\" href=\"//images.ptt.cc/bbs/v2.27/bbs-base.css\" media=\"screen\">\\n<link rel=\"stylesheet\" type=\"text/css\" href=\"//images.ptt.cc/bbs/v2.27/bbs-custom.css\">\\n<link rel=\"stylesheet\" type=\"text/css\" href=\"//images.ptt.cc/bbs/v2.27/pushstream.css\" media=\"screen\">\\n<link rel=\"stylesheet\" type=\"text/css\" href=\"//images.ptt.cc/bbs/v2.27/bbs-print.css\" media=\"print\">\\n\\n\\n\\n\\n\\t</head>\\n    <body>\\n\\t\\t\\n<div id=\"topbar-container\">\\n\\t<div id=\"topbar\" class=\"bbs-content\">\\n\\t\\t<a id=\"logo\" href=\"/bbs/\">批踢踢實業坊</a>\\n\\t\\t<span>&rsaquo;</span>\\n\\t\\t<a class=\"board\" href=\"/bbs/underwear/index.html\"><span class=\"board-label\">看板 </span>underwear</a>\\n\\t\\t<a class=\"right small\" href=\"/about.html\">關於我們</a>\\n\\t\\t<a class=\"right small\" href=\"/contact.html\">聯絡資訊</a>\\n\\t</div>\\n</div>\\n\\n<div id=\"main-container\">\\n\\t<div id=\"action-bar-container\">\\n\\t\\t<div class=\"action-bar\">\\n\\t\\t\\t<div class=\"btn-group btn-group-dir\">\\n\\t\\t\\t\\t<a class=\"btn selected\" href=\"/bbs/underwear/index.html\">看板</a>\\n\\t\\t\\t\\t<a class=\"btn\" href=\"/man/underwear/index.html\">精華區</a>\\n\\t\\t\\t</div>\\n\\t\\t\\t<div class=\"btn-group btn-group-paging\">\\n\\t\\t\\t\\t<a class=\"btn wide\" href=\"/bbs/underwear/index1.html\">最舊</a>\\n\\t\\t\\t\\t<a class=\"btn wide\" href=\"/bbs/underwear/index1058.html\">&lsaquo; 上頁</a>\\n\\t\\t\\t\\t<a class=\"btn wide disabled\">下頁 &rsaquo;</a>\\n\\t\\t\\t\\t<a class=\"btn wide\" href=\"/bbs/underwear/index.html\">最新</a>\\n\\t\\t\\t</div>\\n\\t\\t</div>\\n\\t</div>\\n\\n\\t<div class=\"r-list-container action-bar-margin bbs-screen\">\\n\\t\\t<div class=\"search-bar\">\\n\\t\\t\\t<form type=\"get\" action=\"search\" id=\"search-bar\">\\n\\t\\t\\t\\t<input class=\"query\" type=\"text\" name=\"q\" value=\"\" placeholder=\"搜尋文章&#x22ef;\">\\n\\t\\t\\t</form>\\n\\t\\t</div>\\n\\n\\t\\t\\n\\t\\t\\n            \\n        \\n        \\n\\t\\t<div class=\"r-ent\">\\n\\t\\t\\t<div class=\"nrec\"></div>\\n\\t\\t\\t<div class=\"title\">\\n\\t\\t\\t\\n\\t\\t\\t\\t<a href=\"/bbs/underwear/M.1598256148.A.72C.html\">[問題]請問台中新光與台中大遠百內衣特惠</a>\\n\\t\\t\\t\\n\\t\\t\\t</div>\\n\\t\\t\\t<div class=\"meta\">\\n\\t\\t\\t\\t<div class=\"author\">phcps</div>\\n\\t\\t\\t\\t<div class=\"article-menu\">\\n\\t\\t\\t\\t\\t\\n\\t\\t\\t\\t\\t<div class=\"trigger\">&#x22ef;</div>\\n\\t\\t\\t\\t\\t<div class=\"dropdown\">\\n\\t\\t\\t\\t\\t\\t<div class=\"item\"><a href=\"/bbs/underwear/search?q=thread%3A%5B%E5%95%8F%E9%A1%8C%5D%E8%AB%8B%E5%95%8F%E5%8F%B0%E4%B8%AD%E6%96%B0%E5%85%89%E8%88%87%E5%8F%B0%E4%B8%AD%E5%A4%A7%E9%81%A0%E7%99%BE%E5%85%A7%E8%A1%A3%E7%89%B9%E6%83%A0\">搜尋同標題文章</a></div>\\n\\t\\t\\t\\t\\t\\t\\n\\t\\t\\t\\t\\t\\t<div class=\"item\"><a href=\"/bbs/underwear/search?q=author%3Aphcps\">搜尋看板內 phcps 的文章</a></div>\\n\\t\\t\\t\\t\\t\\t\\n\\t\\t\\t\\t\\t</div>\\n\\t\\t\\t\\t\\t\\n\\t\\t\\t\\t</div>\\n\\t\\t\\t\\t<div class=\"date\"> 8/24</div>\\n\\t\\t\\t\\t<div class=\"mark\"></div>\\n\\t\\t\\t</div>\\n\\t\\t</div>\\n\\n\\t\\t\\n            \\n        \\n        \\n\\t\\t<div class=\"r-ent\">\\n\\t\\t\\t<div class=\"nrec\"><span class=\"hl f2\">2</span></div>\\n\\t\\t\\t<div class=\"title\">\\n\\t\\t\\t\\n\\t\\t\\t\\t<a href=\"/bbs/underwear/M.1598271124.A.058.html\">[心得] Lise Charmel 款式分享（無實穿照）</a>\\n\\t\\t\\t\\n\\t\\t\\t</div>\\n\\t\\t\\t<div class=\"meta\">\\n\\t\\t\\t\\t<div class=\"author\">sginkgo</div>\\n\\t\\t\\t\\t<div class=\"article-menu\">\\n\\t\\t\\t\\t\\t\\n\\t\\t\\t\\t\\t<div class=\"trigger\">&#x22ef;</div>\\n\\t\\t\\t\\t\\t<div class=\"dropdown\">\\n\\t\\t\\t\\t\\t\\t<div class=\"item\"><a href=\"/bbs/underwear/search?q=thread%3A%5B%E5%BF%83%E5%BE%97%5D&#43;Lise&#43;Charmel&#43;%E6%AC%BE%E5%BC%8F%E5%88%86%E4%BA%AB%EF%BC%88%E7%84%A1%E5%AF%A6%E7%A9%BF%E7%85%A7%EF%BC%89\">搜尋同標題文章</a></div>\\n\\t\\t\\t\\t\\t\\t\\n\\t\\t\\t\\t\\t\\t<div class=\"item\"><a href=\"/bbs/underwear/search?q=author%3Asginkgo\">搜尋看板內 sginkgo 的文章</a></div>\\n\\t\\t\\t\\t\\t\\t\\n\\t\\t\\t\\t\\t</div>\\n\\t\\t\\t\\t\\t\\n\\t\\t\\t\\t</div>\\n\\t\\t\\t\\t<div class=\"date\"> 8/24</div>\\n\\t\\t\\t\\t<div class=\"mark\"></div>\\n\\t\\t\\t</div>\\n\\t\\t</div>\\n\\n\\t\\t\\n            \\n        \\n        \\n\\t\\t<div class=\"r-ent\">\\n\\t\\t\\t<div class=\"nrec\"></div>\\n\\t\\t\\t<div class=\"title\">\\n\\t\\t\\t\\n\\t\\t\\t\\t<a href=\"/bbs/underwear/M.1598360997.A.E68.html\">[贈送] 水餃墊多組、aimerfeel內衣65C</a>\\n\\t\\t\\t\\n\\t\\t\\t</div>\\n\\t\\t\\t<div class=\"meta\">\\n\\t\\t\\t\\t<div class=\"author\">nncyip</div>\\n\\t\\t\\t\\t<div class=\"article-menu\">\\n\\t\\t\\t\\t\\t\\n\\t\\t\\t\\t\\t<div class=\"trigger\">&#x22ef;</div>\\n\\t\\t\\t\\t\\t<div class=\"dropdown\">\\n\\t\\t\\t\\t\\t\\t<div class=\"item\"><a href=\"/bbs/underwear/search?q=thread%3A%5B%E8%B4%88%E9%80%81%5D&#43;%E6%B0%B4%E9%A4%83%E5%A2%8A%E5%A4%9A%E7%B5%84%E3%80%81aimerfeel%E5%85%A7%E8%A1%A365C\">搜尋同標題文章</a></div>\\n\\t\\t\\t\\t\\t\\t\\n\\t\\t\\t\\t\\t\\t<div class=\"item\"><a href=\"/bbs/underwear/search?q=author%3Anncyip\">搜尋看板內 nncyip 的文章</a></div>\\n\\t\\t\\t\\t\\t\\t\\n\\t\\t\\t\\t\\t</div>\\n\\t\\t\\t\\t\\t\\n\\t\\t\\t\\t</div>\\n\\t\\t\\t\\t<div class=\"date\"> 8/25</div>\\n\\t\\t\\t\\t<div class=\"mark\"></div>\\n\\t\\t\\t</div>\\n\\t\\t</div>\\n\\n\\t\\t\\n        \\n        <div class=\"r-list-sep\"></div>\\n            \\n                \\n        \\n        \\n\\t\\t<div class=\"r-ent\">\\n\\t\\t\\t<div class=\"nrec\"><span class=\"hl f3\">14</span></div>\\n\\t\\t\\t<div class=\"title\">\\n\\t\\t\\t\\n\\t\\t\\t\\t<a href=\"/bbs/underwear/M.1200208336.A.567.html\">[公告] 匿名帳號發文及使用教學</a>\\n\\t\\t\\t\\n\\t\\t\\t</div>\\n\\t\\t\\t<div class=\"meta\">\\n\\t\\t\\t\\t<div class=\"author\">spylover</div>\\n\\t\\t\\t\\t<div class=\"article-menu\">\\n\\t\\t\\t\\t\\t\\n\\t\\t\\t\\t\\t<div class=\"trigger\">&#x22ef;</div>\\n\\t\\t\\t\\t\\t<div class=\"dropdown\">\\n\\t\\t\\t\\t\\t\\t<div class=\"item\"><a href=\"/bbs/underwear/search?q=thread%3A%5B%E5%85%AC%E5%91%8A%5D&#43;%E5%8C%BF%E5%90%8D%E5%B8%B3%E8%99%9F%E7%99%BC%E6%96%87%E5%8F%8A%E4%BD%BF%E7%94%A8%E6%95%99%E5%AD%B8\">搜尋同標題文章</a></div>\\n\\t\\t\\t\\t\\t\\t\\n\\t\\t\\t\\t\\t\\t<div class=\"item\"><a href=\"/bbs/underwear/search?q=author%3Aspylover\">搜尋看板內 spylover 的文章</a></div>\\n\\t\\t\\t\\t\\t\\t\\n\\t\\t\\t\\t\\t</div>\\n\\t\\t\\t\\t\\t\\n\\t\\t\\t\\t</div>\\n\\t\\t\\t\\t<div class=\"date\"> 1/13</div>\\n\\t\\t\\t\\t<div class=\"mark\">M</div>\\n\\t\\t\\t</div>\\n\\t\\t</div>\\n\\n            \\n                \\n        \\n        \\n\\t\\t<div class=\"r-ent\">\\n\\t\\t\\t<div class=\"nrec\"><span class=\"hl f2\">4</span></div>\\n\\t\\t\\t<div class=\"title\">\\n\\t\\t\\t\\n\\t\\t\\t\\t<a href=\"/bbs/underwear/M.1437834079.A.11E.html\">[公告] 贈送內衣僅限「全新」</a>\\n\\t\\t\\t\\n\\t\\t\\t</div>\\n\\t\\t\\t<div class=\"meta\">\\n\\t\\t\\t\\t<div class=\"author\">ffwind</div>\\n\\t\\t\\t\\t<div class=\"article-menu\">\\n\\t\\t\\t\\t\\t\\n\\t\\t\\t\\t\\t<div class=\"trigger\">&#x22ef;</div>\\n\\t\\t\\t\\t\\t<div class=\"dropdown\">\\n\\t\\t\\t\\t\\t\\t<div class=\"item\"><a href=\"/bbs/underwear/search?q=thread%3A%5B%E5%85%AC%E5%91%8A%5D&#43;%E8%B4%88%E9%80%81%E5%85%A7%E8%A1%A3%E5%83%85%E9%99%90%E3%80%8C%E5%85%A8%E6%96%B0%E3%80%8D\">搜尋同標題文章</a></div>\\n\\t\\t\\t\\t\\t\\t\\n\\t\\t\\t\\t\\t\\t<div class=\"item\"><a href=\"/bbs/underwear/search?q=author%3Affwind\">搜尋看板內 ffwind 的文章</a></div>\\n\\t\\t\\t\\t\\t\\t\\n\\t\\t\\t\\t\\t</div>\\n\\t\\t\\t\\t\\t\\n\\t\\t\\t\\t</div>\\n\\t\\t\\t\\t<div class=\"date\"> 7/25</div>\\n\\t\\t\\t\\t<div class=\"mark\">M</div>\\n\\t\\t\\t</div>\\n\\t\\t</div>\\n\\n            \\n                \\n        \\n        \\n\\t\\t<div class=\"r-ent\">\\n\\t\\t\\t<div class=\"nrec\"></div>\\n\\t\\t\\t<div class=\"title\">\\n\\t\\t\\t\\n\\t\\t\\t\\t<a href=\"/bbs/underwear/M.1467628247.A.1A7.html\">[公告] 貼身衣物板板規 (2016/07/04)</a>\\n\\t\\t\\t\\n\\t\\t\\t</div>\\n\\t\\t\\t<div class=\"meta\">\\n\\t\\t\\t\\t<div class=\"author\">ffwind</div>\\n\\t\\t\\t\\t<div class=\"article-menu\">\\n\\t\\t\\t\\t\\t\\n\\t\\t\\t\\t\\t<div class=\"trigger\">&#x22ef;</div>\\n\\t\\t\\t\\t\\t<div class=\"dropdown\">\\n\\t\\t\\t\\t\\t\\t<div class=\"item\"><a href=\"/bbs/underwear/search?q=thread%3A%5B%E5%85%AC%E5%91%8A%5D&#43;%E8%B2%BC%E8%BA%AB%E8%A1%A3%E7%89%A9%E6%9D%BF%E6%9D%BF%E8%A6%8F&#43;%282016%2F07%2F04%29\">搜尋同標題文章</a></div>\\n\\t\\t\\t\\t\\t\\t\\n\\t\\t\\t\\t\\t\\t<div class=\"item\"><a href=\"/bbs/underwear/search?q=author%3Affwind\">搜尋看板內 ffwind 的文章</a></div>\\n\\t\\t\\t\\t\\t\\t\\n\\t\\t\\t\\t\\t</div>\\n\\t\\t\\t\\t\\t\\n\\t\\t\\t\\t</div>\\n\\t\\t\\t\\t<div class=\"date\"> 7/04</div>\\n\\t\\t\\t\\t<div class=\"mark\">M</div>\\n\\t\\t\\t</div>\\n\\t\\t</div>\\n\\n            \\n                \\n        \\n        \\n\\t\\t<div class=\"r-ent\">\\n\\t\\t\\t<div class=\"nrec\"><span class=\"hl f3\">22</span></div>\\n\\t\\t\\t<div class=\"title\">\\n\\t\\t\\t\\n\\t\\t\\t\\t<a href=\"/bbs/underwear/M.1496154713.A.405.html\">[公告] 再次提醒大家不要交出實穿照</a>\\n\\t\\t\\t\\n\\t\\t\\t</div>\\n\\t\\t\\t<div class=\"meta\">\\n\\t\\t\\t\\t<div class=\"author\">ffwind</div>\\n\\t\\t\\t\\t<div class=\"article-menu\">\\n\\t\\t\\t\\t\\t\\n\\t\\t\\t\\t\\t<div class=\"trigger\">&#x22ef;</div>\\n\\t\\t\\t\\t\\t<div class=\"dropdown\">\\n\\t\\t\\t\\t\\t\\t<div class=\"item\"><a href=\"/bbs/underwear/search?q=thread%3A%5B%E5%85%AC%E5%91%8A%5D&#43;%E5%86%8D%E6%AC%A1%E6%8F%90%E9%86%92%E5%A4%A7%E5%AE%B6%E4%B8%8D%E8%A6%81%E4%BA%A4%E5%87%BA%E5%AF%A6%E7%A9%BF%E7%85%A7\">搜尋同標題文章</a></div>\\n\\t\\t\\t\\t\\t\\t\\n\\t\\t\\t\\t\\t\\t<div class=\"item\"><a href=\"/bbs/underwear/search?q=author%3Affwind\">搜尋看板內 ffwind 的文章</a></div>\\n\\t\\t\\t\\t\\t\\t\\n\\t\\t\\t\\t\\t</div>\\n\\t\\t\\t\\t\\t\\n\\t\\t\\t\\t</div>\\n\\t\\t\\t\\t<div class=\"date\"> 5/30</div>\\n\\t\\t\\t\\t<div class=\"mark\">M</div>\\n\\t\\t\\t</div>\\n\\t\\t</div>\\n\\n            \\n        \\n\\t</div>\\n\\n    \\n</div>\\n\\n\\t\\t\\n\\n<script>\\n  (function(i,s,o,g,r,a,m){i[\\'GoogleAnalyticsObject\\']=r;i[r]=i[r]||function(){\\n  (i[r].q=i[r].q||[]).push(arguments)},i[r].l=1*new Date();a=s.createElement(o),\\n  m=s.getElementsByTagName(o)[0];a.async=1;a.src=g;m.parentNode.insertBefore(a,m)\\n  })(window,document,\\'script\\',\\'https://www.google-analytics.com/analytics.js\\',\\'ga\\');\\n\\n  ga(\\'create\\', \\'UA-32365737-1\\', {\\n    cookieDomain: \\'ptt.cc\\',\\n    legacyCookieDomain: \\'ptt.cc\\'\\n  });\\n  ga(\\'send\\', \\'pageview\\');\\n</script>\\n\\n\\n\\t\\t\\n<script src=\"//ajax.googleapis.com/ajax/libs/jquery/2.1.1/jquery.min.js\"></script>\\n<script src=\"//images.ptt.cc/bbs/v2.27/bbs.js\"></script>\\n\\n    </body>\\n</html>\\n'"
     },
     "metadata": {},
     "execution_count": 2
    }
   ],
   "source": [
    "# 爬取 underwear\n",
    "url = 'https://www.ptt.cc/bbs/underwear/index.html'\n",
    "resp = requests.get(url)\n",
    "resp.text\n"
   ]
  },
  {
   "cell_type": "markdown",
   "metadata": {},
   "source": [
    "會發現雖然request下來網頁的內容，但是很難從字串中抓到我們想要的內容，所以會使用到bs4爬蟲解析工具\n"
   ]
  },
  {
   "cell_type": "code",
   "execution_count": 3,
   "metadata": {},
   "outputs": [
    {
     "output_type": "execute_result",
     "data": {
      "text/plain": "<!DOCTYPE html>\n\n<html>\n<head>\n<meta charset=\"utf-8\"/>\n<meta content=\"width=device-width, initial-scale=1\" name=\"viewport\"/>\n<title>看板 underwear 文章列表 - 批踢踢實業坊</title>\n<link href=\"//images.ptt.cc/bbs/v2.27/bbs-common.css\" rel=\"stylesheet\" type=\"text/css\"/>\n<link href=\"//images.ptt.cc/bbs/v2.27/bbs-base.css\" media=\"screen\" rel=\"stylesheet\" type=\"text/css\"/>\n<link href=\"//images.ptt.cc/bbs/v2.27/bbs-custom.css\" rel=\"stylesheet\" type=\"text/css\"/>\n<link href=\"//images.ptt.cc/bbs/v2.27/pushstream.css\" media=\"screen\" rel=\"stylesheet\" type=\"text/css\"/>\n<link href=\"//images.ptt.cc/bbs/v2.27/bbs-print.css\" media=\"print\" rel=\"stylesheet\" type=\"text/css\"/>\n</head>\n<body>\n<div id=\"topbar-container\">\n<div class=\"bbs-content\" id=\"topbar\">\n<a href=\"/bbs/\" id=\"logo\">批踢踢實業坊</a>\n<span>›</span>\n<a class=\"board\" href=\"/bbs/underwear/index.html\"><span class=\"board-label\">看板 </span>underwear</a>\n<a class=\"right small\" href=\"/about.html\">關於我們</a>\n<a class=\"right small\" href=\"/contact.html\">聯絡資訊</a>\n</div>\n</div>\n<div id=\"main-container\">\n<div id=\"action-bar-container\">\n<div class=\"action-bar\">\n<div class=\"btn-group btn-group-dir\">\n<a class=\"btn selected\" href=\"/bbs/underwear/index.html\">看板</a>\n<a class=\"btn\" href=\"/man/underwear/index.html\">精華區</a>\n</div>\n<div class=\"btn-group btn-group-paging\">\n<a class=\"btn wide\" href=\"/bbs/underwear/index1.html\">最舊</a>\n<a class=\"btn wide\" href=\"/bbs/underwear/index1058.html\">‹ 上頁</a>\n<a class=\"btn wide disabled\">下頁 ›</a>\n<a class=\"btn wide\" href=\"/bbs/underwear/index.html\">最新</a>\n</div>\n</div>\n</div>\n<div class=\"r-list-container action-bar-margin bbs-screen\">\n<div class=\"search-bar\">\n<form action=\"search\" id=\"search-bar\" type=\"get\">\n<input class=\"query\" name=\"q\" placeholder=\"搜尋文章⋯\" type=\"text\" value=\"\"/>\n</form>\n</div>\n<div class=\"r-ent\">\n<div class=\"nrec\"></div>\n<div class=\"title\">\n<a href=\"/bbs/underwear/M.1598256148.A.72C.html\">[問題]請問台中新光與台中大遠百內衣特惠</a>\n</div>\n<div class=\"meta\">\n<div class=\"author\">phcps</div>\n<div class=\"article-menu\">\n<div class=\"trigger\">⋯</div>\n<div class=\"dropdown\">\n<div class=\"item\"><a href=\"/bbs/underwear/search?q=thread%3A%5B%E5%95%8F%E9%A1%8C%5D%E8%AB%8B%E5%95%8F%E5%8F%B0%E4%B8%AD%E6%96%B0%E5%85%89%E8%88%87%E5%8F%B0%E4%B8%AD%E5%A4%A7%E9%81%A0%E7%99%BE%E5%85%A7%E8%A1%A3%E7%89%B9%E6%83%A0\">搜尋同標題文章</a></div>\n<div class=\"item\"><a href=\"/bbs/underwear/search?q=author%3Aphcps\">搜尋看板內 phcps 的文章</a></div>\n</div>\n</div>\n<div class=\"date\"> 8/24</div>\n<div class=\"mark\"></div>\n</div>\n</div>\n<div class=\"r-ent\">\n<div class=\"nrec\"><span class=\"hl f2\">2</span></div>\n<div class=\"title\">\n<a href=\"/bbs/underwear/M.1598271124.A.058.html\">[心得] Lise Charmel 款式分享（無實穿照）</a>\n</div>\n<div class=\"meta\">\n<div class=\"author\">sginkgo</div>\n<div class=\"article-menu\">\n<div class=\"trigger\">⋯</div>\n<div class=\"dropdown\">\n<div class=\"item\"><a href=\"/bbs/underwear/search?q=thread%3A%5B%E5%BF%83%E5%BE%97%5D+Lise+Charmel+%E6%AC%BE%E5%BC%8F%E5%88%86%E4%BA%AB%EF%BC%88%E7%84%A1%E5%AF%A6%E7%A9%BF%E7%85%A7%EF%BC%89\">搜尋同標題文章</a></div>\n<div class=\"item\"><a href=\"/bbs/underwear/search?q=author%3Asginkgo\">搜尋看板內 sginkgo 的文章</a></div>\n</div>\n</div>\n<div class=\"date\"> 8/24</div>\n<div class=\"mark\"></div>\n</div>\n</div>\n<div class=\"r-ent\">\n<div class=\"nrec\"></div>\n<div class=\"title\">\n<a href=\"/bbs/underwear/M.1598360997.A.E68.html\">[贈送] 水餃墊多組、aimerfeel內衣65C</a>\n</div>\n<div class=\"meta\">\n<div class=\"author\">nncyip</div>\n<div class=\"article-menu\">\n<div class=\"trigger\">⋯</div>\n<div class=\"dropdown\">\n<div class=\"item\"><a href=\"/bbs/underwear/search?q=thread%3A%5B%E8%B4%88%E9%80%81%5D+%E6%B0%B4%E9%A4%83%E5%A2%8A%E5%A4%9A%E7%B5%84%E3%80%81aimerfeel%E5%85%A7%E8%A1%A365C\">搜尋同標題文章</a></div>\n<div class=\"item\"><a href=\"/bbs/underwear/search?q=author%3Anncyip\">搜尋看板內 nncyip 的文章</a></div>\n</div>\n</div>\n<div class=\"date\"> 8/25</div>\n<div class=\"mark\"></div>\n</div>\n</div>\n<div class=\"r-list-sep\"></div>\n<div class=\"r-ent\">\n<div class=\"nrec\"><span class=\"hl f3\">14</span></div>\n<div class=\"title\">\n<a href=\"/bbs/underwear/M.1200208336.A.567.html\">[公告] 匿名帳號發文及使用教學</a>\n</div>\n<div class=\"meta\">\n<div class=\"author\">spylover</div>\n<div class=\"article-menu\">\n<div class=\"trigger\">⋯</div>\n<div class=\"dropdown\">\n<div class=\"item\"><a href=\"/bbs/underwear/search?q=thread%3A%5B%E5%85%AC%E5%91%8A%5D+%E5%8C%BF%E5%90%8D%E5%B8%B3%E8%99%9F%E7%99%BC%E6%96%87%E5%8F%8A%E4%BD%BF%E7%94%A8%E6%95%99%E5%AD%B8\">搜尋同標題文章</a></div>\n<div class=\"item\"><a href=\"/bbs/underwear/search?q=author%3Aspylover\">搜尋看板內 spylover 的文章</a></div>\n</div>\n</div>\n<div class=\"date\"> 1/13</div>\n<div class=\"mark\">M</div>\n</div>\n</div>\n<div class=\"r-ent\">\n<div class=\"nrec\"><span class=\"hl f2\">4</span></div>\n<div class=\"title\">\n<a href=\"/bbs/underwear/M.1437834079.A.11E.html\">[公告] 贈送內衣僅限「全新」</a>\n</div>\n<div class=\"meta\">\n<div class=\"author\">ffwind</div>\n<div class=\"article-menu\">\n<div class=\"trigger\">⋯</div>\n<div class=\"dropdown\">\n<div class=\"item\"><a href=\"/bbs/underwear/search?q=thread%3A%5B%E5%85%AC%E5%91%8A%5D+%E8%B4%88%E9%80%81%E5%85%A7%E8%A1%A3%E5%83%85%E9%99%90%E3%80%8C%E5%85%A8%E6%96%B0%E3%80%8D\">搜尋同標題文章</a></div>\n<div class=\"item\"><a href=\"/bbs/underwear/search?q=author%3Affwind\">搜尋看板內 ffwind 的文章</a></div>\n</div>\n</div>\n<div class=\"date\"> 7/25</div>\n<div class=\"mark\">M</div>\n</div>\n</div>\n<div class=\"r-ent\">\n<div class=\"nrec\"></div>\n<div class=\"title\">\n<a href=\"/bbs/underwear/M.1467628247.A.1A7.html\">[公告] 貼身衣物板板規 (2016/07/04)</a>\n</div>\n<div class=\"meta\">\n<div class=\"author\">ffwind</div>\n<div class=\"article-menu\">\n<div class=\"trigger\">⋯</div>\n<div class=\"dropdown\">\n<div class=\"item\"><a href=\"/bbs/underwear/search?q=thread%3A%5B%E5%85%AC%E5%91%8A%5D+%E8%B2%BC%E8%BA%AB%E8%A1%A3%E7%89%A9%E6%9D%BF%E6%9D%BF%E8%A6%8F+%282016%2F07%2F04%29\">搜尋同標題文章</a></div>\n<div class=\"item\"><a href=\"/bbs/underwear/search?q=author%3Affwind\">搜尋看板內 ffwind 的文章</a></div>\n</div>\n</div>\n<div class=\"date\"> 7/04</div>\n<div class=\"mark\">M</div>\n</div>\n</div>\n<div class=\"r-ent\">\n<div class=\"nrec\"><span class=\"hl f3\">22</span></div>\n<div class=\"title\">\n<a href=\"/bbs/underwear/M.1496154713.A.405.html\">[公告] 再次提醒大家不要交出實穿照</a>\n</div>\n<div class=\"meta\">\n<div class=\"author\">ffwind</div>\n<div class=\"article-menu\">\n<div class=\"trigger\">⋯</div>\n<div class=\"dropdown\">\n<div class=\"item\"><a href=\"/bbs/underwear/search?q=thread%3A%5B%E5%85%AC%E5%91%8A%5D+%E5%86%8D%E6%AC%A1%E6%8F%90%E9%86%92%E5%A4%A7%E5%AE%B6%E4%B8%8D%E8%A6%81%E4%BA%A4%E5%87%BA%E5%AF%A6%E7%A9%BF%E7%85%A7\">搜尋同標題文章</a></div>\n<div class=\"item\"><a href=\"/bbs/underwear/search?q=author%3Affwind\">搜尋看板內 ffwind 的文章</a></div>\n</div>\n</div>\n<div class=\"date\"> 5/30</div>\n<div class=\"mark\">M</div>\n</div>\n</div>\n</div>\n</div>\n<script>\n  (function(i,s,o,g,r,a,m){i['GoogleAnalyticsObject']=r;i[r]=i[r]||function(){\n  (i[r].q=i[r].q||[]).push(arguments)},i[r].l=1*new Date();a=s.createElement(o),\n  m=s.getElementsByTagName(o)[0];a.async=1;a.src=g;m.parentNode.insertBefore(a,m)\n  })(window,document,'script','https://www.google-analytics.com/analytics.js','ga');\n\n  ga('create', 'UA-32365737-1', {\n    cookieDomain: 'ptt.cc',\n    legacyCookieDomain: 'ptt.cc'\n  });\n  ga('send', 'pageview');\n</script>\n<script src=\"//ajax.googleapis.com/ajax/libs/jquery/2.1.1/jquery.min.js\"></script>\n<script src=\"//images.ptt.cc/bbs/v2.27/bbs.js\"></script>\n</body>\n</html>"
     },
     "metadata": {},
     "execution_count": 3
    }
   ],
   "source": [
    "soup = BeautifulSoup(resp.text,'html.parser')\n",
    "soup"
   ]
  },
  {
   "cell_type": "markdown",
   "metadata": {},
   "source": [
    "# <span style=\"font-size:0.9cm; line-height: 2cm; font-family:cursive;\">三、抓標題名稱</span><br>"
   ]
  },
  {
   "cell_type": "markdown",
   "metadata": {},
   "source": [
    "<img src=\"https://imgur.com/dYpV7ja.jpg\" align='center'/>"
   ]
  },
  {
   "cell_type": "code",
   "execution_count": 6,
   "metadata": {
    "tags": []
   },
   "outputs": [
    {
     "output_type": "execute_result",
     "data": {
      "text/plain": "[<div class=\"title\">\n <a href=\"/bbs/underwear/M.1598256148.A.72C.html\">[問題]請問台中新光與台中大遠百內衣特惠</a>\n </div>,\n <div class=\"title\">\n <a href=\"/bbs/underwear/M.1598271124.A.058.html\">[心得] Lise Charmel 款式分享（無實穿照）</a>\n </div>,\n <div class=\"title\">\n <a href=\"/bbs/underwear/M.1598360997.A.E68.html\">[贈送] 水餃墊多組、aimerfeel內衣65C</a>\n </div>,\n <div class=\"title\">\n <a href=\"/bbs/underwear/M.1200208336.A.567.html\">[公告] 匿名帳號發文及使用教學</a>\n </div>,\n <div class=\"title\">\n <a href=\"/bbs/underwear/M.1437834079.A.11E.html\">[公告] 贈送內衣僅限「全新」</a>\n </div>,\n <div class=\"title\">\n <a href=\"/bbs/underwear/M.1467628247.A.1A7.html\">[公告] 貼身衣物板板規 (2016/07/04)</a>\n </div>,\n <div class=\"title\">\n <a href=\"/bbs/underwear/M.1496154713.A.405.html\">[公告] 再次提醒大家不要交出實穿照</a>\n </div>]"
     },
     "metadata": {},
     "execution_count": 6
    }
   ],
   "source": [
    "# 抓【所有】標題名稱，使用find_all\n",
    "soup.find_all('div', re.compile('title'))\n"
   ]
  },
  {
   "cell_type": "code",
   "execution_count": 8,
   "metadata": {},
   "outputs": [
    {
     "output_type": "execute_result",
     "data": {
      "text/plain": "'\\n[問題]請問台中新光與台中大遠百內衣特惠\\n'"
     },
     "metadata": {},
     "execution_count": 8
    }
   ],
   "source": [
    "ptt_title_text = soup.find_all('div', re.compile('title'))\n",
    "ptt_title_text[0].text"
   ]
  },
  {
   "cell_type": "code",
   "execution_count": 9,
   "metadata": {
    "tags": []
   },
   "outputs": [
    {
     "output_type": "stream",
     "name": "stdout",
     "text": "\n[問題]請問台中新光與台中大遠百內衣特惠\n\n\n[心得] Lise Charmel 款式分享（無實穿照）\n\n\n[贈送] 水餃墊多組、aimerfeel內衣65C\n\n\n[公告] 匿名帳號發文及使用教學\n\n\n[公告] 贈送內衣僅限「全新」\n\n\n[公告] 貼身衣物板板規 (2016/07/04)\n\n\n[公告] 再次提醒大家不要交出實穿照\n\n"
    }
   ],
   "source": [
    "# 抓每一個title\n",
    "for i in ptt_title_text:\n",
    "    print(i.text)\n"
   ]
  },
  {
   "cell_type": "markdown",
   "metadata": {},
   "source": [
    "# <span style=\"font-size:0.9cm; line-height: 2cm; font-family:cursive;\">四、 抓出鏈接</span><br>"
   ]
  },
  {
   "cell_type": "markdown",
   "metadata": {},
   "source": [
    "<img src=\"https://imgur.com/g2Oj44f.jpg\"  align='center'/>"
   ]
  },
  {
   "cell_type": "code",
   "execution_count": 10,
   "metadata": {
    "tags": []
   },
   "outputs": [
    {
     "output_type": "stream",
     "name": "stdout",
     "text": "/bbs/underwear/M.1598256148.A.72C.html\n/bbs/underwear/M.1598271124.A.058.html\n/bbs/underwear/M.1598360997.A.E68.html\n/bbs/underwear/M.1200208336.A.567.html\n/bbs/underwear/M.1437834079.A.11E.html\n/bbs/underwear/M.1467628247.A.1A7.html\n/bbs/underwear/M.1496154713.A.405.html\n"
    }
   ],
   "source": [
    "lista = soup.find_all('div',re.compile('title'))\n",
    "\n",
    "for i in lista:\n",
    "    # 如果不是空的\n",
    "    if len(i)!=1 :\n",
    "        print(i.a['href'])\n"
   ]
  },
  {
   "cell_type": "code",
   "execution_count": 11,
   "metadata": {},
   "outputs": [
    {
     "output_type": "execute_result",
     "data": {
      "text/plain": "'/bbs/underwear/M.1496154713.A.405.html'"
     },
     "metadata": {},
     "execution_count": 11
    }
   ],
   "source": [
    "# .a目的為div標籤再往下一層\n",
    "'''\n",
    " </div>, <div class=\"title\">\n",
    "  <a href=\"/bbs/Gossiping/M.1597422441.A.F72.html\">[公告] ==八月十五日零時開始不可有拉票行為==</a>\n",
    " </div>]\n",
    "'''\n",
    "\n",
    "i.a['href']\n",
    "\n",
    "# 如何判斷何時使用 [] 抓取\n",
    "# [] ---→ 為抓取屬性，舉例 : \n",
    "'''\n",
    "<div class=\"title\">\n",
    "<a href=\"/bbs/Gossiping/M.1597422441.A.F72.html\">[公告] ==八月十五日零時開始不可有拉票行為==</a>\n",
    "</div>\n",
    "\n",
    "'''\n",
    "# 標籤下的標籤 <div> <a> 會使用 .\n",
    "i.a\n",
    "\n",
    "#href屬性 要用[]\n",
    "\n",
    "i.a['href']\n"
   ]
  },
  {
   "cell_type": "markdown",
   "metadata": {},
   "source": [
    "<span style=\"font-size:0.7cm; line-height: 1cm;font-family:cursive;\"> 問題：讀者可以練習一下，請將鏈接存起來</span><br>"
   ]
  },
  {
   "cell_type": "code",
   "execution_count": 8,
   "metadata": {
    "tags": []
   },
   "outputs": [],
   "source": [
    "# 並將缺漏的部分補齊，變成一個正確的http網址"
   ]
  },
  {
   "cell_type": "markdown",
   "metadata": {},
   "source": [
    "<span style=\"font-size:0.7cm; line-height: 1cm;font-family:cursive;\"> 解答：</span><br>"
   ]
  },
  {
   "cell_type": "code",
   "execution_count": 12,
   "metadata": {},
   "outputs": [
    {
     "output_type": "execute_result",
     "data": {
      "text/plain": "['https://www.ptt.cc/bbs/underwear/M.1598256148.A.72C.html',\n 'https://www.ptt.cc/bbs/underwear/M.1598271124.A.058.html',\n 'https://www.ptt.cc/bbs/underwear/M.1598360997.A.E68.html',\n 'https://www.ptt.cc/bbs/underwear/M.1200208336.A.567.html',\n 'https://www.ptt.cc/bbs/underwear/M.1437834079.A.11E.html',\n 'https://www.ptt.cc/bbs/underwear/M.1467628247.A.1A7.html',\n 'https://www.ptt.cc/bbs/underwear/M.1496154713.A.405.html']"
     },
     "metadata": {},
     "execution_count": 12
    }
   ],
   "source": [
    "link = []\n",
    "\n",
    "for i in lista:\n",
    "    # 如果不是空的\n",
    "    if len(i)!=1 :\n",
    "        link.append('https://www.ptt.cc'+ i.a['href'])\n",
    "link"
   ]
  },
  {
   "cell_type": "markdown",
   "metadata": {},
   "source": [
    "# <span style=\"font-size:0.9cm; line-height: 2cm; font-family:cursive;\">五、 進去每一個連接爬資料</span><br>"
   ]
  },
  {
   "cell_type": "markdown",
   "metadata": {},
   "source": [
    "<span style=\"font-size:0.7cm; line-height: 1cm;font-family:cursive;\"> 1. Requests 連結</span><br>"
   ]
  },
  {
   "cell_type": "code",
   "execution_count": 32,
   "metadata": {
    "tags": []
   },
   "outputs": [
    {
     "output_type": "stream",
     "name": "stdout",
     "text": "https://www.ptt.cc/bbs/underwear/M.1598271124.A.058.html\n"
    }
   ],
   "source": [
    "# 讓我們舉第1個link為例\n",
    "\n",
    "print(link[1]) # 複製起來，然後貼到browser裡面\n",
    "\n",
    "each_topic = requests.get(link[1])\n",
    "soup = BeautifulSoup(each_topic.text,'html.parser')\n"
   ]
  },
  {
   "cell_type": "markdown",
   "metadata": {},
   "source": [
    "<span style=\"font-size:0.7cm; line-height: 1cm;font-family:cursive;\"> 2. 將主要的內容抓出來<span><br>"
   ]
  },
  {
   "cell_type": "code",
   "execution_count": 33,
   "metadata": {},
   "outputs": [
    {
     "output_type": "execute_result",
     "data": {
      "text/plain": "<div class=\"bbs-screen bbs-content\" id=\"main-content\"><div class=\"article-metaline\"><span class=\"article-meta-tag\">作者</span><span class=\"article-meta-value\">sginkgo (腐海生福田)</span></div><div class=\"article-metaline-right\"><span class=\"article-meta-tag\">看板</span><span class=\"article-meta-value\">underwear</span></div><div class=\"article-metaline\"><span class=\"article-meta-tag\">標題</span><span class=\"article-meta-value\">[心得] Lise Charmel 款式分享（無實穿照）</span></div><div class=\"article-metaline\"><span class=\"article-meta-tag\">時間</span><span class=\"article-meta-value\">Mon Aug 24 20:12:02 2020</span></div>\n內衣品牌：Lise Charmel\n\n品名或型號：Dressing Floral flower，顏色為jade。我買的兩個罩杯種類是\nUnderwired half cup bra與Push-up bra。\n\n心得：Dressing Floral flower是我看了很久的款式，但單價太高了，\n\n趁著折扣趕快買進。這個款式在Lise Charmel的IG上也常常出現，很美。\n\n圖一：Underwired half cup bra與內褲全套的樣子。\n<a href=\"https://imgur.com/a/lA14QUW\" rel=\"nofollow\" target=\"_blank\">https://imgur.com/a/lA14QUW</a>\n\n圖二：Underwired half cup bra這種罩杯沒有墊子，\n在圖一中看似白色的繡線更像淡紫色。\n沒有繡線的地方則有相當細緻的絲線做底，我覺得很厲害。\n<a href=\"https://imgur.com/a/TzmLmZZ\" rel=\"nofollow\" target=\"_blank\">https://imgur.com/a/TzmLmZZ</a>\n\n圖三：Push-up bra\n這種罩杯的內側的下方還有可抽出的小墊子。\n因為IG上有更完整的罩杯的照片，所以我只近拍，讓有興趣的朋友感受一下\n材質的FU~\n<a href=\"https://imgur.com/a/l3Qj4LW\" rel=\"nofollow\" target=\"_blank\">https://imgur.com/a/l3Qj4LW</a>\n\n我是在DD上面購買的，這個款式還有但尺寸不齊。\n<a href=\"https://www.dessus-dessous.com/\" rel=\"nofollow\" target=\"_blank\">https://www.dessus-dessous.com/</a>\n\n最後附上此品牌的IG：\n<a href=\"https://www.instagram.com/lisecharmel_officiel/?hl=zh-tw\" rel=\"nofollow\" target=\"_blank\">https://www.instagram.com/lisecharmel_officiel/?hl=zh-tw</a>\n\n--\n<span class=\"f0 hl\">這個世界所剩的只有滿是垃圾堆的荒原，以及大汗皇宮裡的高處花園。</span>\n<span class=\"hl\">區分它們的乃是我們的眼瞼，</span>\n但是我們不知道哪個在外頭，哪個在裡面。\n\n                                               <span class=\"f0 hl\">--卡爾維諾</span>\n\n--\n<span class=\"f2\">※ 發信站: 批踢踢實業坊(ptt.cc), 來自: 223.138.229.102 (臺灣)\n</span><span class=\"f2\">※ 文章網址: <a href=\"https://www.ptt.cc/bbs/underwear/M.1598271124.A.058.html\" rel=\"nofollow\" target=\"_blank\">https://www.ptt.cc/bbs/underwear/M.1598271124.A.058.html</a>\n</span><div class=\"push\"><span class=\"hl push-tag\">推 </span><span class=\"f3 hl push-userid\">aeee49</span><span class=\"f3 push-content\">: 想請問舒適度跟chantelle 比如何呢~</span><span class=\"push-ipdatetime\"> 08/25 05:31\n</span></div><div class=\"push\"><span class=\"hl push-tag\">推 </span><span class=\"f3 hl push-userid\">kittylee1021</span><span class=\"f3 push-content\">: 請問跟chantelle比較是否杯比較深？</span><span class=\"push-ipdatetime\"> 08/25 13:24\n</span></div></div>"
     },
     "metadata": {},
     "execution_count": 33
    }
   ],
   "source": [
    "main_tag = soup.find('div', id='main-content')\n",
    "main_tag"
   ]
  },
  {
   "cell_type": "markdown",
   "metadata": {},
   "source": [
    "<span style=\"font-size:0.7cm; line-height: 1cm;font-family:cursive;\"> 3. 開始抓取發文的基本資料</span><br>"
   ]
  },
  {
   "cell_type": "markdown",
   "metadata": {},
   "source": [
    "<span style=\"font-size:0.6cm; line-height: 1cm;font-family:cursive;\"> 問題1 如何抓取作者、版、標題與日期？</span><br>"
   ]
  },
  {
   "cell_type": "code",
   "execution_count": null,
   "metadata": {},
   "outputs": [],
   "source": []
  },
  {
   "cell_type": "markdown",
   "metadata": {},
   "source": [
    "<span style=\"font-size:0.6cm; line-height: 1cm;font-family:cursive;\"> 問題2 命名每一個抓取下來的基本資料</span><br>\n",
    "<span style=\"font-size:0.45cm; line-height: 0 cm;font-family:cursive;\"># 抓出author、board、title與date-------------\n",
    "<span style=\"font-size:0.45cm; line-height: 0.3cm;font-family:cursive;\"> hint：text </span><br>"
   ]
  },
  {
   "cell_type": "markdown",
   "metadata": {},
   "source": [
    "<span style=\"font-size:0.7cm; line-height: 1cm;font-family:cursive;\"> 解答 : </span><br>"
   ]
  },
  {
   "cell_type": "code",
   "execution_count": 34,
   "metadata": {},
   "outputs": [],
   "source": [
    "#1 抓取作者、版、標題與日期\n",
    "meta_value_tags = main_tag.find_all('span', re.compile('article-meta-value'))"
   ]
  },
  {
   "cell_type": "code",
   "execution_count": 35,
   "metadata": {},
   "outputs": [],
   "source": [
    "#2 命名每一個抓取下來的基本資料\n",
    "author = meta_value_tags[0].text\n",
    "board = meta_value_tags[1].text\n",
    "title = meta_value_tags[2].text\n",
    "date  = meta_value_tags[3].text\n"
   ]
  },
  {
   "cell_type": "code",
   "execution_count": 36,
   "metadata": {
    "tags": []
   },
   "outputs": [
    {
     "output_type": "stream",
     "name": "stdout",
     "text": "sginkgo (腐海生福田)\nunderwear\n[心得] Lise Charmel 款式分享（無實穿照）\nMon Aug 24 20:12:02 2020\n"
    }
   ],
   "source": [
    "#2 命名每一個抓取下來的基本資料\n",
    "print(author)\n",
    "print(board )\n",
    "print(title )\n",
    "print(date  )\n"
   ]
  },
  {
   "cell_type": "markdown",
   "metadata": {},
   "source": [
    "<span style=\"font-size:0.7cm; line-height: 1cm;font-family:cursive;\"> 4. 抓出主要文章<span><br>"
   ]
  },
  {
   "cell_type": "code",
   "execution_count": 37,
   "metadata": {},
   "outputs": [
    {
     "output_type": "execute_result",
     "data": {
      "text/plain": "['<div class=\"bbs-screen bbs-content\" id=\"main-content\"><div class=\"article-metaline\"><span class=\"article-meta-tag\">作者</span><span class=\"article-meta-value\">sginkgo (腐海生福田)</span></div><div class=\"article-metaline-right\"><span class=\"article-meta-tag\">看板</span><span class=\"article-meta-value\">underwear</span></div><div class=\"article-metaline\"><span class=\"article-meta-tag\">標題</span><span class=\"article-meta-value\">[心得] Lise Charmel 款式分享（無實穿照）</span></div><div class=\"article-metaline\"><span class=\"article-meta-tag\">時間</span><span class=\"article-meta-value\">Mon Aug 24 20:12:02 2020</span></div>',\n '內衣品牌：Lise Charmel',\n '',\n '品名或型號：Dressing Floral flower，顏色為jade。我買的兩個罩杯種類是',\n 'Underwired half cup bra與Push-up bra。',\n '',\n '心得：Dressing Floral flower是我看了很久的款式，但單價太高了，',\n '',\n '趁著折扣趕快買進。這個款式在Lise Charmel的IG上也常常出現，很美。',\n '',\n '圖一：Underwired half cup bra與內褲全套的樣子。',\n '<a href=\"https://imgur.com/a/lA14QUW\" rel=\"nofollow\" target=\"_blank\">https://imgur.com/a/lA14QUW</a>',\n '',\n '圖二：Underwired half cup bra這種罩杯沒有墊子，',\n '在圖一中看似白色的繡線更像淡紫色。',\n '沒有繡線的地方則有相當細緻的絲線做底，我覺得很厲害。',\n '<a href=\"https://imgur.com/a/TzmLmZZ\" rel=\"nofollow\" target=\"_blank\">https://imgur.com/a/TzmLmZZ</a>',\n '',\n '圖三：Push-up bra',\n '這種罩杯的內側的下方還有可抽出的小墊子。',\n '因為IG上有更完整的罩杯的照片，所以我只近拍，讓有興趣的朋友感受一下',\n '材質的FU~',\n '<a href=\"https://imgur.com/a/l3Qj4LW\" rel=\"nofollow\" target=\"_blank\">https://imgur.com/a/l3Qj4LW</a>',\n '',\n '我是在DD上面購買的，這個款式還有但尺寸不齊。',\n '<a href=\"https://www.dessus-dessous.com/\" rel=\"nofollow\" target=\"_blank\">https://www.dessus-dessous.com/</a>',\n '',\n '最後附上此品牌的IG：',\n '<a href=\"https://www.instagram.com/lisecharmel_officiel/?hl=zh-tw\" rel=\"nofollow\" target=\"_blank\">https://www.instagram.com/lisecharmel_officiel/?hl=zh-tw</a>']"
     },
     "metadata": {},
     "execution_count": 37
    }
   ],
   "source": [
    "content = str(main_tag).split('--')[0]\n",
    "content = content.strip()#最後換行\n",
    "contents = content.split('\\n')\n",
    "contents   \n"
   ]
  },
  {
   "cell_type": "code",
   "execution_count": 38,
   "metadata": {
    "tags": []
   },
   "outputs": [
    {
     "output_type": "stream",
     "name": "stdout",
     "text": "<div class=\"bbs-screen bbs-content\" id=\"main-content\"><div class=\"article-metaline\"><span class=\"article-meta-tag\">作者</span><span class=\"article-meta-value\">sginkgo (腐海生福田)</span></div><div class=\"article-metaline-right\"><span class=\"article-meta-tag\">看板</span><span class=\"article-meta-value\">underwear</span></div><div class=\"article-metaline\"><span class=\"article-meta-tag\">標題</span><span class=\"article-meta-value\">[心得] Lise Charmel 款式分享（無實穿照）</span></div><div class=\"article-metaline\"><span class=\"article-meta-tag\">時間</span><span class=\"article-meta-value\">Mon Aug 24 20:12:02 2020</span></div> \n\n\n\n內衣品牌：Lise Charmel\n"
    }
   ],
   "source": [
    "print(contents[0],'\\n\\n\\n')\n",
    "print(contents[1])"
   ]
  },
  {
   "cell_type": "markdown",
   "metadata": {},
   "source": [
    "<span style=\"font-size:0.7cm; line-height: 1cm;font-family:cursive;\"> 5. 將所有內容抓出<span><br>"
   ]
  },
  {
   "cell_type": "code",
   "execution_count": 39,
   "metadata": {
    "tags": []
   },
   "outputs": [
    {
     "output_type": "stream",
     "name": "stdout",
     "text": "內衣品牌：Lise Charmel\n\n品名或型號：Dressing Floral flower，顏色為jade。我買的兩個罩杯種類是\nUnderwired half cup bra與Push-up bra。\n\n心得：Dressing Floral flower是我看了很久的款式，但單價太高了，\n\n趁著折扣趕快買進。這個款式在Lise Charmel的IG上也常常出現，很美。\n\n圖一：Underwired half cup bra與內褲全套的樣子。\n<a href=\"https://imgur.com/a/lA14QUW\" rel=\"nofollow\" target=\"_blank\">https://imgur.com/a/lA14QUW</a>\n\n圖二：Underwired half cup bra這種罩杯沒有墊子，\n在圖一中看似白色的繡線更像淡紫色。\n沒有繡線的地方則有相當細緻的絲線做底，我覺得很厲害。\n<a href=\"https://imgur.com/a/TzmLmZZ\" rel=\"nofollow\" target=\"_blank\">https://imgur.com/a/TzmLmZZ</a>\n\n圖三：Push-up bra\n這種罩杯的內側的下方還有可抽出的小墊子。\n因為IG上有更完整的罩杯的照片，所以我只近拍，讓有興趣的朋友感受一下\n材質的FU~\n<a href=\"https://imgur.com/a/l3Qj4LW\" rel=\"nofollow\" target=\"_blank\">https://imgur.com/a/l3Qj4LW</a>\n\n我是在DD上面購買的，這個款式還有但尺寸不齊。\n<a href=\"https://www.dessus-dessous.com/\" rel=\"nofollow\" target=\"_blank\">https://www.dessus-dessous.com/</a>\n\n最後附上此品牌的IG：\n<a href=\"https://www.instagram.com/lisecharmel_officiel/?hl=zh-tw\" rel=\"nofollow\" target=\"_blank\">https://www.instagram.com/lisecharmel_officiel/?hl=zh-tw</a>\n"
    },
    {
     "output_type": "execute_result",
     "data": {
      "text/plain": "['內衣品牌：Lise Charmel',\n '',\n '品名或型號：Dressing Floral flower，顏色為jade。我買的兩個罩杯種類是',\n 'Underwired half cup bra與Push-up bra。',\n '',\n '心得：Dressing Floral flower是我看了很久的款式，但單價太高了，',\n '',\n '趁著折扣趕快買進。這個款式在Lise Charmel的IG上也常常出現，很美。',\n '',\n '圖一：Underwired half cup bra與內褲全套的樣子。',\n '<a href=\"https://imgur.com/a/lA14QUW\" rel=\"nofollow\" target=\"_blank\">https://imgur.com/a/lA14QUW</a>',\n '',\n '圖二：Underwired half cup bra這種罩杯沒有墊子，',\n '在圖一中看似白色的繡線更像淡紫色。',\n '沒有繡線的地方則有相當細緻的絲線做底，我覺得很厲害。',\n '<a href=\"https://imgur.com/a/TzmLmZZ\" rel=\"nofollow\" target=\"_blank\">https://imgur.com/a/TzmLmZZ</a>',\n '',\n '圖三：Push-up bra',\n '這種罩杯的內側的下方還有可抽出的小墊子。',\n '因為IG上有更完整的罩杯的照片，所以我只近拍，讓有興趣的朋友感受一下',\n '材質的FU~',\n '<a href=\"https://imgur.com/a/l3Qj4LW\" rel=\"nofollow\" target=\"_blank\">https://imgur.com/a/l3Qj4LW</a>',\n '',\n '我是在DD上面購買的，這個款式還有但尺寸不齊。',\n '<a href=\"https://www.dessus-dessous.com/\" rel=\"nofollow\" target=\"_blank\">https://www.dessus-dessous.com/</a>',\n '',\n '最後附上此品牌的IG：',\n '<a href=\"https://www.instagram.com/lisecharmel_officiel/?hl=zh-tw\" rel=\"nofollow\" target=\"_blank\">https://www.instagram.com/lisecharmel_officiel/?hl=zh-tw</a>']"
     },
     "metadata": {},
     "execution_count": 39
    }
   ],
   "source": [
    "all_content = []\n",
    "\n",
    "for i in contents:\n",
    "    if not '<div' in i: \n",
    "        if not 'main-content' in i:\n",
    "            print(i) \n",
    "            all_content.append(i)\n",
    "\n",
    "all_content\n"
   ]
  },
  {
   "cell_type": "markdown",
   "metadata": {},
   "source": [
    "<span style=\"font-size:0.7cm; line-height: 1cm;font-family:cursive;\"> 問題：如何將內容all_content（list）合併，並以 \\n 分隔</span><br>\n",
    "<span style=\"font-size:0.45cm; line-height: 0 cm;font-family:cursive;\">---------> hint：join"
   ]
  },
  {
   "cell_type": "code",
   "execution_count": 40,
   "metadata": {},
   "outputs": [
    {
     "output_type": "execute_result",
     "data": {
      "text/plain": "['內衣品牌：Lise Charmel',\n '',\n '品名或型號：Dressing Floral flower，顏色為jade。我買的兩個罩杯種類是',\n 'Underwired half cup bra與Push-up bra。',\n '',\n '心得：Dressing Floral flower是我看了很久的款式，但單價太高了，',\n '',\n '趁著折扣趕快買進。這個款式在Lise Charmel的IG上也常常出現，很美。',\n '',\n '圖一：Underwired half cup bra與內褲全套的樣子。',\n '<a href=\"https://imgur.com/a/lA14QUW\" rel=\"nofollow\" target=\"_blank\">https://imgur.com/a/lA14QUW</a>',\n '',\n '圖二：Underwired half cup bra這種罩杯沒有墊子，',\n '在圖一中看似白色的繡線更像淡紫色。',\n '沒有繡線的地方則有相當細緻的絲線做底，我覺得很厲害。',\n '<a href=\"https://imgur.com/a/TzmLmZZ\" rel=\"nofollow\" target=\"_blank\">https://imgur.com/a/TzmLmZZ</a>',\n '',\n '圖三：Push-up bra',\n '這種罩杯的內側的下方還有可抽出的小墊子。',\n '因為IG上有更完整的罩杯的照片，所以我只近拍，讓有興趣的朋友感受一下',\n '材質的FU~',\n '<a href=\"https://imgur.com/a/l3Qj4LW\" rel=\"nofollow\" target=\"_blank\">https://imgur.com/a/l3Qj4LW</a>',\n '',\n '我是在DD上面購買的，這個款式還有但尺寸不齊。',\n '<a href=\"https://www.dessus-dessous.com/\" rel=\"nofollow\" target=\"_blank\">https://www.dessus-dessous.com/</a>',\n '',\n '最後附上此品牌的IG：',\n '<a href=\"https://www.instagram.com/lisecharmel_officiel/?hl=zh-tw\" rel=\"nofollow\" target=\"_blank\">https://www.instagram.com/lisecharmel_officiel/?hl=zh-tw</a>']"
     },
     "metadata": {},
     "execution_count": 40
    }
   ],
   "source": [
    "# 解答\n",
    "\"\\n\".join(all_content)\n",
    "all_content"
   ]
  },
  {
   "cell_type": "markdown",
   "metadata": {},
   "source": [
    "<span style=\"font-size:0.7cm; line-height: 1cm;font-family:cursive;\"> 6. 抓出留言<span><br>"
   ]
  },
  {
   "cell_type": "code",
   "execution_count": 41,
   "metadata": {
    "tags": []
   },
   "outputs": [
    {
     "output_type": "stream",
     "name": "stdout",
     "text": "<div class=\"push\"><span class=\"hl push-tag\">推 </span><span class=\"f3 hl push-userid\">aeee49</span><span class=\"f3 push-content\">: 想請問舒適度跟chantelle 比如何呢~</span><span class=\"push-ipdatetime\"> 08/25 05:31\n</span></div>\n"
    }
   ],
   "source": [
    "# -------------- 抓出 留言-------------- \n",
    "\n",
    "try:\n",
    "    main_tag = soup.find('div', id='main-content')\n",
    "\n",
    "    push_tags = main_tag.find_all('div', class_='push')\n",
    "\n",
    "    # 抓第一則留言的內容\n",
    "    tag = push_tags[0]\n",
    "    print(push_tags[0])\n",
    "    push_type = tag.find('span', class_='push-tag').text\n",
    "    push_user = tag.find('span', class_='push-userid').text\n",
    "    push_content = tag.find('span', class_='push-content').text\n",
    "    push_ipdatetime = tag.find('span', class_='push-ipdatetime').text.strip(' \\t\\n\\r')\n",
    "\n",
    "except:\n",
    "    print('本則貼文沒有留言')"
   ]
  },
  {
   "cell_type": "code",
   "execution_count": 42,
   "metadata": {},
   "outputs": [
    {
     "output_type": "execute_result",
     "data": {
      "text/plain": "'推 '"
     },
     "metadata": {},
     "execution_count": 42
    }
   ],
   "source": [
    "push_type"
   ]
  },
  {
   "cell_type": "code",
   "execution_count": 43,
   "metadata": {},
   "outputs": [
    {
     "output_type": "execute_result",
     "data": {
      "text/plain": "'aeee49'"
     },
     "metadata": {},
     "execution_count": 43
    }
   ],
   "source": [
    "push_user"
   ]
  },
  {
   "cell_type": "code",
   "execution_count": 44,
   "metadata": {},
   "outputs": [
    {
     "output_type": "execute_result",
     "data": {
      "text/plain": "': 想請問舒適度跟chantelle 比如何呢~'"
     },
     "metadata": {},
     "execution_count": 44
    }
   ],
   "source": [
    "push_content"
   ]
  },
  {
   "cell_type": "code",
   "execution_count": 45,
   "metadata": {},
   "outputs": [
    {
     "output_type": "execute_result",
     "data": {
      "text/plain": "'08/25 05:31'"
     },
     "metadata": {},
     "execution_count": 45
    }
   ],
   "source": [
    "push_ipdatetime"
   ]
  },
  {
   "cell_type": "markdown",
   "metadata": {},
   "source": [
    "<span style=\"font-size:0.7cm; line-height: 1cm;font-family:cursive;\"> 問題 : 如何抓取每一篇文章的留言內容，並存入名為comment的list裡面</span><br>"
   ]
  },
  {
   "cell_type": "code",
   "execution_count": 46,
   "metadata": {},
   "outputs": [
    {
     "output_type": "execute_result",
     "data": {
      "text/plain": "[['推 ', 'aeee49', ': 想請問舒適度跟chantelle 比如何呢~', '08/25 05:31'],\n ['推 ', 'kittylee1021', ': 請問跟chantelle比較是否杯比較深？', '08/25 13:24']]"
     },
     "metadata": {},
     "execution_count": 46
    }
   ],
   "source": [
    "comment = []\n",
    "for tag in push_tags:\n",
    "    push_type = tag.find('span', class_='push-tag').text\n",
    "    push_user = tag.find('span', class_='push-userid').text\n",
    "    push_content = tag.find('span', class_='push-content').text\n",
    "    push_ipdatetime = tag.find('span', class_='push-ipdatetime').text.strip(' \\t\\n\\r')\n",
    "    comment.append([push_type,push_user,push_content,push_ipdatetime])\n",
    "comment"
   ]
  },
  {
   "cell_type": "markdown",
   "metadata": {},
   "source": [
    "# <span style=\"font-size:0.9cm; line-height: 2cm; font-family:cursive;\">六、轉為 data frame</span><br>"
   ]
  },
  {
   "cell_type": "code",
   "execution_count": 47,
   "metadata": {},
   "outputs": [],
   "source": [
    "import pandas as pd\n",
    "comment_df = pd.DataFrame(comment)\n",
    "comment_df.columns = ['喜好程度','作者','留言','時間']"
   ]
  },
  {
   "cell_type": "code",
   "execution_count": 48,
   "metadata": {},
   "outputs": [
    {
     "output_type": "execute_result",
     "data": {
      "text/plain": "  喜好程度            作者                        留言           時間\n0   推         aeee49  : 想請問舒適度跟chantelle 比如何呢~  08/25 05:31\n1   推   kittylee1021   : 請問跟chantelle比較是否杯比較深？  08/25 13:24",
      "text/html": "<div>\n<style scoped>\n    .dataframe tbody tr th:only-of-type {\n        vertical-align: middle;\n    }\n\n    .dataframe tbody tr th {\n        vertical-align: top;\n    }\n\n    .dataframe thead th {\n        text-align: right;\n    }\n</style>\n<table border=\"1\" class=\"dataframe\">\n  <thead>\n    <tr style=\"text-align: right;\">\n      <th></th>\n      <th>喜好程度</th>\n      <th>作者</th>\n      <th>留言</th>\n      <th>時間</th>\n    </tr>\n  </thead>\n  <tbody>\n    <tr>\n      <th>0</th>\n      <td>推</td>\n      <td>aeee49</td>\n      <td>: 想請問舒適度跟chantelle 比如何呢~</td>\n      <td>08/25 05:31</td>\n    </tr>\n    <tr>\n      <th>1</th>\n      <td>推</td>\n      <td>kittylee1021</td>\n      <td>: 請問跟chantelle比較是否杯比較深？</td>\n      <td>08/25 13:24</td>\n    </tr>\n  </tbody>\n</table>\n</div>"
     },
     "metadata": {},
     "execution_count": 48
    }
   ],
   "source": [
    "comment_df"
   ]
  },
  {
   "cell_type": "code",
   "execution_count": null,
   "metadata": {},
   "outputs": [],
   "source": []
  }
 ],
 "metadata": {
  "kernelspec": {
   "display_name": "Python 3",
   "language": "python",
   "name": "python3"
  },
  "language_info": {
   "codemirror_mode": {
    "name": "ipython",
    "version": 3
   },
   "file_extension": ".py",
   "mimetype": "text/x-python",
   "name": "python",
   "nbconvert_exporter": "python",
   "pygments_lexer": "ipython3",
   "version": "3.7.7-final"
  }
 },
 "nbformat": 4,
 "nbformat_minor": 2
}