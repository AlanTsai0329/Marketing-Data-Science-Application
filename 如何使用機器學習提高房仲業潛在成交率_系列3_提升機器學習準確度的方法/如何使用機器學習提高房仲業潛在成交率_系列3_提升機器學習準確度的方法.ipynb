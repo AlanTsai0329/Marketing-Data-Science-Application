{
 "metadata": {
  "language_info": {
   "codemirror_mode": {
    "name": "ipython",
    "version": 3
   },
   "file_extension": ".py",
   "mimetype": "text/x-python",
   "name": "python",
   "nbconvert_exporter": "python",
   "pygments_lexer": "ipython3",
   "version": "3.7.7"
  },
  "orig_nbformat": 2,
  "kernelspec": {
   "name": "python377jvsc74a57bd0e1977659ddea367e51ae7d236f6dca82c64f40282afc6ae3d301bd694bd63df5",
   "display_name": "Python 3.7.7 64-bit"
  },
  "metadata": {
   "interpreter": {
    "hash": "e1977659ddea367e51ae7d236f6dca82c64f40282afc6ae3d301bd694bd63df5"
   }
  }
 },
 "nbformat": 4,
 "nbformat_minor": 2,
 "cells": [
  {
   "source": [
    "# `如何使用機器學習提高房仲業潛在成交率_系列3_提升機器學習準確度的方法`\n",
    "## 作者：陳政廷、王裕萍、謝豐檍(臺灣行銷研究特邀作者)、鍾皓軒(臺灣行銷研究有限公司創辦人）"
   ],
   "cell_type": "markdown",
   "metadata": {}
  },
  {
   "source": [
    "## 原始資料請見[本連結](https://www.kaggle.com/c/two-sigma-connect-rental-listing-inquiries/data)，下載下來後與本ipynb檔案放於同一個工作目錄中，再執行下方程式即可"
   ],
   "cell_type": "markdown",
   "metadata": {}
  },
  {
   "cell_type": "code",
   "execution_count": 1,
   "metadata": {},
   "outputs": [],
   "source": [
    "import numpy as np\n",
    "import pandas as pd\n",
    "from sklearn import metrics\n",
    "from sklearn.metrics import log_loss\n",
    "from sklearn.model_selection import train_test_split\n",
    "from sklearn.preprocessing import StandardScaler\n",
    "from imblearn.over_sampling import ADASYN\n",
    "from sklearn.metrics import accuracy_score\n",
    "import lightgbm as lgb\n",
    "from sklearn.feature_selection import SelectFromModel\n",
    "from sklearn.ensemble import RandomForestClassifier\n",
    "import xgboost as xgb\n",
    "from imblearn.over_sampling import RandomOverSampler\n",
    "from imblearn.over_sampling import SMOTE\n",
    "from imblearn.over_sampling import ADASYN"
   ]
  },
  {
   "source": [
    "## 系列1_資料前處理"
   ],
   "cell_type": "markdown",
   "metadata": {}
  },
  {
   "cell_type": "code",
   "execution_count": 2,
   "metadata": {},
   "outputs": [],
   "source": [
    "df_train=pd.read_json(open(r\"train.json\"))\n",
    "#系列1_資料前處理\n",
    "df_train[\"num_photos\"]=df_train[\"photos\"].apply(len)\n",
    "df_train[\"num_description_words\"]=df_train[\"description\"].apply(lambda x:len(x.split(\" \"))) #根據空白切割，去算字數\n",
    "def caculate(n_words):\n",
    "    description_test=[]\n",
    "    for i in n_words:\n",
    "        description_test.append(len(i.split(\" \")))\n",
    "    return description_test #效果和上面一樣\n",
    "df_train[\"created\"]=pd.to_datetime(df_train[\"created\"])\n",
    "df_train[\"created_year\"]=df_train[\"created\"].dt.year\n",
    "df_train[\"created_month\"] = df_train[\"created\"].dt.month\n",
    "df_train[\"created_day\"] = df_train[\"created\"].dt.day"
   ]
  },
  {
   "source": [
    "## 系列2_特徵處理：篩選頻率大於100之字詞"
   ],
   "cell_type": "markdown",
   "metadata": {}
  },
  {
   "cell_type": "code",
   "execution_count": 4,
   "metadata": {},
   "outputs": [
    {
     "output_type": "stream",
     "name": "stdout",
     "text": [
      "['Elevator', 'Cats Allowed', 'Hardwood Floors', 'Dogs Allowed', 'Doorman', 'Dishwasher', 'No Fee', 'Laundry in Building', 'Fitness Center', 'Pre-War', 'Laundry in Unit', 'Roof Deck', 'Outdoor Space', 'Dining Room', 'High Speed Internet', 'Balcony', 'Swimming Pool', 'Laundry In Building', 'New Construction', 'Terrace', 'Exclusive', 'Loft', 'Garden/Patio', 'Wheelchair Access', 'Common Outdoor Space', 'HARDWOOD', 'Fireplace', 'SIMPLEX', 'prewar', 'LOWRISE', 'Garage', 'Laundry Room', 'Reduced Fee', 'Laundry In Unit', 'Furnished', 'Multi-Level', 'Private Outdoor Space', 'Prewar', 'PublicOutdoor', 'Parking Space', 'Roof-deck', 'dishwasher', 'High Ceilings', 'elevator', 'Renovated', 'Pool', 'LAUNDRY', 'Green Building', 'HIGH CEILINGS', 'LIVE IN SUPER', 'High Ceiling', 'Washer in Unit', 'Dryer in Unit', 'Storage', 'Stainless Steel Appliances', 'On-site laundry', 'Concierge', 'Newly renovated', 'On-site Laundry', 'Live In Super', 'Hardwood', 'Light', 'On-site Garage', 'Washer/Dryer', 'Granite Kitchen', 'Gym/Fitness', 'Pets on approval', 'Marble Bath', 'Walk in Closet(s)']\n"
     ]
    }
   ],
   "source": [
    "bigdic = {}\n",
    "for i in df_train['features']:\n",
    "    for word in i:\n",
    "        if word not in bigdic:\n",
    "            bigdic[word] = 1\n",
    "        else:\n",
    "            bigdic[word] += 1\n",
    "data = {'word': [*bigdic], 'number': [*bigdic.values()]}   \n",
    "bigdf = pd.DataFrame.from_dict(data).sort_values(by='number', ascending=False)\n",
    "keyword = bigdf[bigdf['number'] > 100]['word'].to_list()\n",
    "print(keyword)\n",
    "#\n",
    "def get_dummy(keyword, alist):\n",
    "    countlist = []\n",
    "    for row in df_train['features']:\n",
    "        if keyword in row:\n",
    "            countlist.append(1)\n",
    "        else:\n",
    "            countlist.append(0)\n",
    "    df_train[keyword] = countlist\n",
    "for word in keyword:\n",
    "    get_dummy(word, df_train['features'])\n",
    "#\n",
    "choose_columns=[\"bathrooms\", \"bedrooms\", \"latitude\", \"longitude\",\"num_photos\",\"price\",'Elevator', 'Cats Allowed', 'Hardwood Floors', 'Dogs Allowed', 'Doorman', 'Dishwasher', 'No Fee', 'Laundry in Building', 'Fitness Center', 'Pre-War', 'Laundry in Unit', 'Roof Deck', 'Outdoor Space', 'Dining Room', 'High Speed Internet', 'Balcony', 'Swimming Pool', 'Laundry In Building', 'New Construction', 'Terrace', 'Exclusive', 'Loft', 'Garden/Patio', 'Wheelchair Access', 'Common Outdoor Space', 'HARDWOOD', 'Fireplace', 'SIMPLEX', 'prewar', 'LOWRISE', 'Garage', 'Laundry Room', 'Reduced Fee', 'Laundry In Unit', 'Furnished', 'Multi-Level', 'Private Outdoor Space', 'Prewar', 'PublicOutdoor', 'Parking Space', 'Roof-deck', 'dishwasher', 'High Ceilings', 'elevator', 'Renovated', 'Pool', 'LAUNDRY', 'Green Building', 'HIGH CEILINGS', 'LIVE IN SUPER', 'High Ceiling', 'Washer in Unit', 'Dryer in Unit', 'Storage', 'Stainless Steel Appliances', 'On-site laundry', 'Concierge', 'Newly renovated', 'On-site Laundry', 'Live In Super', 'Hardwood', 'Light', 'On-site Garage', 'Washer/Dryer', 'Granite Kitchen', 'Gym/Fitness', 'Pets on approval', 'Marble Bath', 'Walk in Closet(s)']"
   ]
  },
  {
   "source": [
    "## RF：特徵篩選、處理資料不平衡、標準化、模型訓練"
   ],
   "cell_type": "markdown",
   "metadata": {}
  },
  {
   "cell_type": "code",
   "execution_count": 5,
   "metadata": {},
   "outputs": [
    {
     "output_type": "stream",
     "name": "stdout",
     "text": [
      "('bathrooms', 0.017768422525377005)\n('bedrooms', 0.05463170284019433)\n('latitude', 0.14568002755453535)\n('longitude', 0.14665677807303595)\n('num_photos', 0.11409114797713595)\n('price', 0.21399025371326022)\n('Elevator', 0.015494179023249163)\n('Cats Allowed', 0.013177384912528463)\n('Hardwood Floors', 0.01814602068571681)\n('Dogs Allowed', 0.01272031701043776)\n('Doorman', 0.012324687051087108)\n('Dishwasher', 0.01450163846274891)\n('No Fee', 0.021380424903113766)\n('Laundry in Building', 0.013187840666037875)\n('Fitness Center', 0.010442289064350716)\n('Pre-War', 0.017170513676233956)\n('Laundry in Unit', 0.013450144740020804)\n('Roof Deck', 0.008958321794154888)\n('Outdoor Space', 0.009682180831576799)\n('Dining Room', 0.010668200823891055)\n('High Speed Internet', 0.006652990221845295)\n('Balcony', 0.007136565147027542)\n('Swimming Pool', 0.0051919059855988735)\n('Laundry In Building', 0.00940162518184341)\n('New Construction', 0.005515949069650801)\n('Terrace', 0.005549835036192719)\n('Exclusive', 0.0066729628358782244)\n('Loft', 0.007043677975088977)\n('Garden/Patio', 0.005935192355531987)\n('Wheelchair Access', 0.003615657383658644)\n('Common Outdoor Space', 0.0034810531944355887)\n('HARDWOOD', 0.0011747976841108496)\n('Fireplace', 0.0031466861724657597)\n('SIMPLEX', 0.0010033861925062325)\n('prewar', 0.00113199244639614)\n('LOWRISE', 0.0008515328809138632)\n('Garage', 0.0009499461481480555)\n('Laundry Room', 0.000742635907977988)\n('Reduced Fee', 0.006013214373136928)\n('Laundry In Unit', 0.0037801514823959676)\n('Furnished', 0.005632465975698942)\n('Multi-Level', 0.00233752511517193)\n('Private Outdoor Space', 0.0034922799020536896)\n('Prewar', 0.0009783929479848974)\n('PublicOutdoor', 0.0005163511373865602)\n('Parking Space', 0.0017957525641987525)\n('Roof-deck', 0.00027350844473032564)\n('dishwasher', 0.0009198559274694422)\n('High Ceilings', 0.001200577436099591)\n('elevator', 0.0006837476316792505)\n('Renovated', 0.0009782626127219965)\n('Pool', 0.00024580558766155655)\n('LAUNDRY', 0.0003914587239272964)\n('Green Building', 0.0008192723877267617)\n('HIGH CEILINGS', 0.0005322163367640279)\n('LIVE IN SUPER', 0.00025783522412610693)\n('High Ceiling', 0.0008925763111740601)\n('Washer in Unit', 0.0004445211002236309)\n('Dryer in Unit', 0.0004402012287751568)\n('Storage', 0.0005062670956538869)\n('Stainless Steel Appliances', 0.0007371712890936325)\n('On-site laundry', 0.0008539163478923396)\n('Concierge', 0.00040698399191529917)\n('Newly renovated', 0.001196887360362703)\n('On-site Laundry', 0.00035398216847836415)\n('Live In Super', 0.0003973455451554622)\n('Hardwood', 0.000365481469783915)\n('Light', 0.0004737637759665698)\n('On-site Garage', 0.00027875945155903615)\n('Washer/Dryer', 0.000560982250314288)\n('Granite Kitchen', 0.00031936866987660216)\n('Gym/Fitness', 0.00011326501546742322)\n('Pets on approval', 0.0008147603777784631)\n('Marble Bath', 0.00027893741458189143)\n('Walk in Closet(s)', 0.0003952871770554843)\nFeatures selected by SelectFromModel: ['bathrooms' 'bedrooms' 'latitude' 'longitude' 'num_photos' 'price'\n 'Elevator' 'Cats Allowed' 'Hardwood Floors' 'Dogs Allowed' 'Doorman'\n 'Dishwasher' 'No Fee' 'Laundry in Building' 'Fitness Center' 'Pre-War'\n 'Laundry in Unit' 'Dining Room']\n"
     ]
    }
   ],
   "source": [
    "#rf\n",
    "X=df_train[choose_columns]\n",
    "Y=df_train[\"interest_level\"]\n",
    "#\n",
    "rf = RandomForestClassifier().fit(X,Y)\t\t\n",
    "for feature in zip(choose_columns, rf.feature_importances_):\n",
    "    print((feature))\n",
    "\n",
    "selector = SelectFromModel(rf,prefit = True,threshold=0.01)\n",
    "print(\"Features selected by SelectFromModel: \"\n",
    "      f\"{np.array(choose_columns)[selector.get_support()]}\")\n",
    "X = X[np.array(choose_columns)[selector.get_support()]]\n",
    "#\n",
    "X_train_rf, X_test_rf, Y_train_rf, Y_test_rf = train_test_split(X, Y, test_size=0.2, random_state = 0)"
   ]
  },
  {
   "cell_type": "code",
   "execution_count": 6,
   "metadata": {},
   "outputs": [
    {
     "output_type": "stream",
     "name": "stdout",
     "text": [
      "High: 27470\nMedium: 27470\nLow: 27470\n"
     ]
    },
    {
     "output_type": "display_data",
     "data": {
      "text/plain": "<Figure size 432x288 with 1 Axes>",
      "image/svg+xml": "<?xml version=\"1.0\" encoding=\"utf-8\" standalone=\"no\"?>\r\n<!DOCTYPE svg PUBLIC \"-//W3C//DTD SVG 1.1//EN\"\r\n  \"http://www.w3.org/Graphics/SVG/1.1/DTD/svg11.dtd\">\r\n<!-- Created with matplotlib (https://matplotlib.org/) -->\r\n<svg height=\"295.056563pt\" version=\"1.1\" viewBox=\"0 0 388.0125 295.056563\" width=\"388.0125pt\" xmlns=\"http://www.w3.org/2000/svg\" xmlns:xlink=\"http://www.w3.org/1999/xlink\">\r\n <metadata>\r\n  <rdf:RDF xmlns:cc=\"http://creativecommons.org/ns#\" xmlns:dc=\"http://purl.org/dc/elements/1.1/\" xmlns:rdf=\"http://www.w3.org/1999/02/22-rdf-syntax-ns#\">\r\n   <cc:Work>\r\n    <dc:type rdf:resource=\"http://purl.org/dc/dcmitype/StillImage\"/>\r\n    <dc:date>2021-05-22T13:32:04.312942</dc:date>\r\n    <dc:format>image/svg+xml</dc:format>\r\n    <dc:creator>\r\n     <cc:Agent>\r\n      <dc:title>Matplotlib v3.3.4, https://matplotlib.org/</dc:title>\r\n     </cc:Agent>\r\n    </dc:creator>\r\n   </cc:Work>\r\n  </rdf:RDF>\r\n </metadata>\r\n <defs>\r\n  <style type=\"text/css\">*{stroke-linecap:butt;stroke-linejoin:round;}</style>\r\n </defs>\r\n <g id=\"figure_1\">\r\n  <g id=\"patch_1\">\r\n   <path d=\"M 0 295.056563 \r\nL 388.0125 295.056563 \r\nL 388.0125 0 \r\nL 0 0 \r\nz\r\n\" style=\"fill:none;\"/>\r\n  </g>\r\n  <g id=\"axes_1\">\r\n   <g id=\"patch_2\">\r\n    <path d=\"M 46.0125 239.758125 \r\nL 380.8125 239.758125 \r\nL 380.8125 22.318125 \r\nL 46.0125 22.318125 \r\nz\r\n\" style=\"fill:#ffffff;\"/>\r\n   </g>\r\n   <g id=\"patch_3\">\r\n    <path clip-path=\"url(#p09e34fba85)\" d=\"M 73.9125 239.758125 \r\nL 129.7125 239.758125 \r\nL 129.7125 32.672411 \r\nL 73.9125 32.672411 \r\nz\r\n\" style=\"fill:#1f77b4;\"/>\r\n   </g>\r\n   <g id=\"patch_4\">\r\n    <path clip-path=\"url(#p09e34fba85)\" d=\"M 185.5125 239.758125 \r\nL 241.3125 239.758125 \r\nL 241.3125 32.672411 \r\nL 185.5125 32.672411 \r\nz\r\n\" style=\"fill:#1f77b4;\"/>\r\n   </g>\r\n   <g id=\"patch_5\">\r\n    <path clip-path=\"url(#p09e34fba85)\" d=\"M 297.1125 239.758125 \r\nL 352.9125 239.758125 \r\nL 352.9125 32.672411 \r\nL 297.1125 32.672411 \r\nz\r\n\" style=\"fill:#1f77b4;\"/>\r\n   </g>\r\n   <g id=\"matplotlib.axis_1\">\r\n    <g id=\"xtick_1\">\r\n     <g id=\"line2d_1\">\r\n      <defs>\r\n       <path d=\"M 0 0 \r\nL 0 3.5 \r\n\" id=\"m8f25a7db20\" style=\"stroke:#000000;stroke-width:0.8;\"/>\r\n      </defs>\r\n      <g>\r\n       <use style=\"stroke:#000000;stroke-width:0.8;\" x=\"101.8125\" xlink:href=\"#m8f25a7db20\" y=\"239.758125\"/>\r\n      </g>\r\n     </g>\r\n     <g id=\"text_1\">\r\n      <!-- low -->\r\n      <g transform=\"translate(104.571875 263.833125)rotate(-90)scale(0.1 -0.1)\">\r\n       <defs>\r\n        <path d=\"M 9.421875 75.984375 \r\nL 18.40625 75.984375 \r\nL 18.40625 0 \r\nL 9.421875 0 \r\nz\r\n\" id=\"DejaVuSans-108\"/>\r\n        <path d=\"M 30.609375 48.390625 \r\nQ 23.390625 48.390625 19.1875 42.75 \r\nQ 14.984375 37.109375 14.984375 27.296875 \r\nQ 14.984375 17.484375 19.15625 11.84375 \r\nQ 23.34375 6.203125 30.609375 6.203125 \r\nQ 37.796875 6.203125 41.984375 11.859375 \r\nQ 46.1875 17.53125 46.1875 27.296875 \r\nQ 46.1875 37.015625 41.984375 42.703125 \r\nQ 37.796875 48.390625 30.609375 48.390625 \r\nz\r\nM 30.609375 56 \r\nQ 42.328125 56 49.015625 48.375 \r\nQ 55.71875 40.765625 55.71875 27.296875 \r\nQ 55.71875 13.875 49.015625 6.21875 \r\nQ 42.328125 -1.421875 30.609375 -1.421875 \r\nQ 18.84375 -1.421875 12.171875 6.21875 \r\nQ 5.515625 13.875 5.515625 27.296875 \r\nQ 5.515625 40.765625 12.171875 48.375 \r\nQ 18.84375 56 30.609375 56 \r\nz\r\n\" id=\"DejaVuSans-111\"/>\r\n        <path d=\"M 4.203125 54.6875 \r\nL 13.1875 54.6875 \r\nL 24.421875 12.015625 \r\nL 35.59375 54.6875 \r\nL 46.1875 54.6875 \r\nL 57.421875 12.015625 \r\nL 68.609375 54.6875 \r\nL 77.59375 54.6875 \r\nL 63.28125 0 \r\nL 52.6875 0 \r\nL 40.921875 44.828125 \r\nL 29.109375 0 \r\nL 18.5 0 \r\nz\r\n\" id=\"DejaVuSans-119\"/>\r\n       </defs>\r\n       <use xlink:href=\"#DejaVuSans-108\"/>\r\n       <use x=\"27.783203\" xlink:href=\"#DejaVuSans-111\"/>\r\n       <use x=\"88.964844\" xlink:href=\"#DejaVuSans-119\"/>\r\n      </g>\r\n     </g>\r\n    </g>\r\n    <g id=\"xtick_2\">\r\n     <g id=\"line2d_2\">\r\n      <g>\r\n       <use style=\"stroke:#000000;stroke-width:0.8;\" x=\"213.4125\" xlink:href=\"#m8f25a7db20\" y=\"239.758125\"/>\r\n      </g>\r\n     </g>\r\n     <g id=\"text_2\">\r\n      <!-- medium -->\r\n      <g transform=\"translate(216.171875 287.856563)rotate(-90)scale(0.1 -0.1)\">\r\n       <defs>\r\n        <path d=\"M 52 44.1875 \r\nQ 55.375 50.25 60.0625 53.125 \r\nQ 64.75 56 71.09375 56 \r\nQ 79.640625 56 84.28125 50.015625 \r\nQ 88.921875 44.046875 88.921875 33.015625 \r\nL 88.921875 0 \r\nL 79.890625 0 \r\nL 79.890625 32.71875 \r\nQ 79.890625 40.578125 77.09375 44.375 \r\nQ 74.3125 48.1875 68.609375 48.1875 \r\nQ 61.625 48.1875 57.5625 43.546875 \r\nQ 53.515625 38.921875 53.515625 30.90625 \r\nL 53.515625 0 \r\nL 44.484375 0 \r\nL 44.484375 32.71875 \r\nQ 44.484375 40.625 41.703125 44.40625 \r\nQ 38.921875 48.1875 33.109375 48.1875 \r\nQ 26.21875 48.1875 22.15625 43.53125 \r\nQ 18.109375 38.875 18.109375 30.90625 \r\nL 18.109375 0 \r\nL 9.078125 0 \r\nL 9.078125 54.6875 \r\nL 18.109375 54.6875 \r\nL 18.109375 46.1875 \r\nQ 21.1875 51.21875 25.484375 53.609375 \r\nQ 29.78125 56 35.6875 56 \r\nQ 41.65625 56 45.828125 52.96875 \r\nQ 50 49.953125 52 44.1875 \r\nz\r\n\" id=\"DejaVuSans-109\"/>\r\n        <path d=\"M 56.203125 29.59375 \r\nL 56.203125 25.203125 \r\nL 14.890625 25.203125 \r\nQ 15.484375 15.921875 20.484375 11.0625 \r\nQ 25.484375 6.203125 34.421875 6.203125 \r\nQ 39.59375 6.203125 44.453125 7.46875 \r\nQ 49.3125 8.734375 54.109375 11.28125 \r\nL 54.109375 2.78125 \r\nQ 49.265625 0.734375 44.1875 -0.34375 \r\nQ 39.109375 -1.421875 33.890625 -1.421875 \r\nQ 20.796875 -1.421875 13.15625 6.1875 \r\nQ 5.515625 13.8125 5.515625 26.8125 \r\nQ 5.515625 40.234375 12.765625 48.109375 \r\nQ 20.015625 56 32.328125 56 \r\nQ 43.359375 56 49.78125 48.890625 \r\nQ 56.203125 41.796875 56.203125 29.59375 \r\nz\r\nM 47.21875 32.234375 \r\nQ 47.125 39.59375 43.09375 43.984375 \r\nQ 39.0625 48.390625 32.421875 48.390625 \r\nQ 24.90625 48.390625 20.390625 44.140625 \r\nQ 15.875 39.890625 15.1875 32.171875 \r\nz\r\n\" id=\"DejaVuSans-101\"/>\r\n        <path d=\"M 45.40625 46.390625 \r\nL 45.40625 75.984375 \r\nL 54.390625 75.984375 \r\nL 54.390625 0 \r\nL 45.40625 0 \r\nL 45.40625 8.203125 \r\nQ 42.578125 3.328125 38.25 0.953125 \r\nQ 33.9375 -1.421875 27.875 -1.421875 \r\nQ 17.96875 -1.421875 11.734375 6.484375 \r\nQ 5.515625 14.40625 5.515625 27.296875 \r\nQ 5.515625 40.1875 11.734375 48.09375 \r\nQ 17.96875 56 27.875 56 \r\nQ 33.9375 56 38.25 53.625 \r\nQ 42.578125 51.265625 45.40625 46.390625 \r\nz\r\nM 14.796875 27.296875 \r\nQ 14.796875 17.390625 18.875 11.75 \r\nQ 22.953125 6.109375 30.078125 6.109375 \r\nQ 37.203125 6.109375 41.296875 11.75 \r\nQ 45.40625 17.390625 45.40625 27.296875 \r\nQ 45.40625 37.203125 41.296875 42.84375 \r\nQ 37.203125 48.484375 30.078125 48.484375 \r\nQ 22.953125 48.484375 18.875 42.84375 \r\nQ 14.796875 37.203125 14.796875 27.296875 \r\nz\r\n\" id=\"DejaVuSans-100\"/>\r\n        <path d=\"M 9.421875 54.6875 \r\nL 18.40625 54.6875 \r\nL 18.40625 0 \r\nL 9.421875 0 \r\nz\r\nM 9.421875 75.984375 \r\nL 18.40625 75.984375 \r\nL 18.40625 64.59375 \r\nL 9.421875 64.59375 \r\nz\r\n\" id=\"DejaVuSans-105\"/>\r\n        <path d=\"M 8.5 21.578125 \r\nL 8.5 54.6875 \r\nL 17.484375 54.6875 \r\nL 17.484375 21.921875 \r\nQ 17.484375 14.15625 20.5 10.265625 \r\nQ 23.53125 6.390625 29.59375 6.390625 \r\nQ 36.859375 6.390625 41.078125 11.03125 \r\nQ 45.3125 15.671875 45.3125 23.6875 \r\nL 45.3125 54.6875 \r\nL 54.296875 54.6875 \r\nL 54.296875 0 \r\nL 45.3125 0 \r\nL 45.3125 8.40625 \r\nQ 42.046875 3.421875 37.71875 1 \r\nQ 33.40625 -1.421875 27.6875 -1.421875 \r\nQ 18.265625 -1.421875 13.375 4.4375 \r\nQ 8.5 10.296875 8.5 21.578125 \r\nz\r\nM 31.109375 56 \r\nz\r\n\" id=\"DejaVuSans-117\"/>\r\n       </defs>\r\n       <use xlink:href=\"#DejaVuSans-109\"/>\r\n       <use x=\"97.412109\" xlink:href=\"#DejaVuSans-101\"/>\r\n       <use x=\"158.935547\" xlink:href=\"#DejaVuSans-100\"/>\r\n       <use x=\"222.412109\" xlink:href=\"#DejaVuSans-105\"/>\r\n       <use x=\"250.195312\" xlink:href=\"#DejaVuSans-117\"/>\r\n       <use x=\"313.574219\" xlink:href=\"#DejaVuSans-109\"/>\r\n      </g>\r\n     </g>\r\n    </g>\r\n    <g id=\"xtick_3\">\r\n     <g id=\"line2d_3\">\r\n      <g>\r\n       <use style=\"stroke:#000000;stroke-width:0.8;\" x=\"325.0125\" xlink:href=\"#m8f25a7db20\" y=\"239.758125\"/>\r\n      </g>\r\n     </g>\r\n     <g id=\"text_3\">\r\n      <!-- high -->\r\n      <g transform=\"translate(327.771875 268.559688)rotate(-90)scale(0.1 -0.1)\">\r\n       <defs>\r\n        <path d=\"M 54.890625 33.015625 \r\nL 54.890625 0 \r\nL 45.90625 0 \r\nL 45.90625 32.71875 \r\nQ 45.90625 40.484375 42.875 44.328125 \r\nQ 39.84375 48.1875 33.796875 48.1875 \r\nQ 26.515625 48.1875 22.3125 43.546875 \r\nQ 18.109375 38.921875 18.109375 30.90625 \r\nL 18.109375 0 \r\nL 9.078125 0 \r\nL 9.078125 75.984375 \r\nL 18.109375 75.984375 \r\nL 18.109375 46.1875 \r\nQ 21.34375 51.125 25.703125 53.5625 \r\nQ 30.078125 56 35.796875 56 \r\nQ 45.21875 56 50.046875 50.171875 \r\nQ 54.890625 44.34375 54.890625 33.015625 \r\nz\r\n\" id=\"DejaVuSans-104\"/>\r\n        <path d=\"M 45.40625 27.984375 \r\nQ 45.40625 37.75 41.375 43.109375 \r\nQ 37.359375 48.484375 30.078125 48.484375 \r\nQ 22.859375 48.484375 18.828125 43.109375 \r\nQ 14.796875 37.75 14.796875 27.984375 \r\nQ 14.796875 18.265625 18.828125 12.890625 \r\nQ 22.859375 7.515625 30.078125 7.515625 \r\nQ 37.359375 7.515625 41.375 12.890625 \r\nQ 45.40625 18.265625 45.40625 27.984375 \r\nz\r\nM 54.390625 6.78125 \r\nQ 54.390625 -7.171875 48.1875 -13.984375 \r\nQ 42 -20.796875 29.203125 -20.796875 \r\nQ 24.46875 -20.796875 20.265625 -20.09375 \r\nQ 16.0625 -19.390625 12.109375 -17.921875 \r\nL 12.109375 -9.1875 \r\nQ 16.0625 -11.328125 19.921875 -12.34375 \r\nQ 23.78125 -13.375 27.78125 -13.375 \r\nQ 36.625 -13.375 41.015625 -8.765625 \r\nQ 45.40625 -4.15625 45.40625 5.171875 \r\nL 45.40625 9.625 \r\nQ 42.625 4.78125 38.28125 2.390625 \r\nQ 33.9375 0 27.875 0 \r\nQ 17.828125 0 11.671875 7.65625 \r\nQ 5.515625 15.328125 5.515625 27.984375 \r\nQ 5.515625 40.671875 11.671875 48.328125 \r\nQ 17.828125 56 27.875 56 \r\nQ 33.9375 56 38.28125 53.609375 \r\nQ 42.625 51.21875 45.40625 46.390625 \r\nL 45.40625 54.6875 \r\nL 54.390625 54.6875 \r\nz\r\n\" id=\"DejaVuSans-103\"/>\r\n       </defs>\r\n       <use xlink:href=\"#DejaVuSans-104\"/>\r\n       <use x=\"63.378906\" xlink:href=\"#DejaVuSans-105\"/>\r\n       <use x=\"91.162109\" xlink:href=\"#DejaVuSans-103\"/>\r\n       <use x=\"154.638672\" xlink:href=\"#DejaVuSans-104\"/>\r\n      </g>\r\n     </g>\r\n    </g>\r\n   </g>\r\n   <g id=\"matplotlib.axis_2\">\r\n    <g id=\"ytick_1\">\r\n     <g id=\"line2d_4\">\r\n      <defs>\r\n       <path d=\"M 0 0 \r\nL -3.5 0 \r\n\" id=\"m39b95ff005\" style=\"stroke:#000000;stroke-width:0.8;\"/>\r\n      </defs>\r\n      <g>\r\n       <use style=\"stroke:#000000;stroke-width:0.8;\" x=\"46.0125\" xlink:href=\"#m39b95ff005\" y=\"239.758125\"/>\r\n      </g>\r\n     </g>\r\n     <g id=\"text_4\">\r\n      <!-- 0 -->\r\n      <g transform=\"translate(32.65 243.557344)scale(0.1 -0.1)\">\r\n       <defs>\r\n        <path d=\"M 31.78125 66.40625 \r\nQ 24.171875 66.40625 20.328125 58.90625 \r\nQ 16.5 51.421875 16.5 36.375 \r\nQ 16.5 21.390625 20.328125 13.890625 \r\nQ 24.171875 6.390625 31.78125 6.390625 \r\nQ 39.453125 6.390625 43.28125 13.890625 \r\nQ 47.125 21.390625 47.125 36.375 \r\nQ 47.125 51.421875 43.28125 58.90625 \r\nQ 39.453125 66.40625 31.78125 66.40625 \r\nz\r\nM 31.78125 74.21875 \r\nQ 44.046875 74.21875 50.515625 64.515625 \r\nQ 56.984375 54.828125 56.984375 36.375 \r\nQ 56.984375 17.96875 50.515625 8.265625 \r\nQ 44.046875 -1.421875 31.78125 -1.421875 \r\nQ 19.53125 -1.421875 13.0625 8.265625 \r\nQ 6.59375 17.96875 6.59375 36.375 \r\nQ 6.59375 54.828125 13.0625 64.515625 \r\nQ 19.53125 74.21875 31.78125 74.21875 \r\nz\r\n\" id=\"DejaVuSans-48\"/>\r\n       </defs>\r\n       <use xlink:href=\"#DejaVuSans-48\"/>\r\n      </g>\r\n     </g>\r\n    </g>\r\n    <g id=\"ytick_2\">\r\n     <g id=\"line2d_5\">\r\n      <g>\r\n       <use style=\"stroke:#000000;stroke-width:0.8;\" x=\"46.0125\" xlink:href=\"#m39b95ff005\" y=\"202.065057\"/>\r\n      </g>\r\n     </g>\r\n     <g id=\"text_5\">\r\n      <!-- 5000 -->\r\n      <g transform=\"translate(13.5625 205.864276)scale(0.1 -0.1)\">\r\n       <defs>\r\n        <path d=\"M 10.796875 72.90625 \r\nL 49.515625 72.90625 \r\nL 49.515625 64.59375 \r\nL 19.828125 64.59375 \r\nL 19.828125 46.734375 \r\nQ 21.96875 47.46875 24.109375 47.828125 \r\nQ 26.265625 48.1875 28.421875 48.1875 \r\nQ 40.625 48.1875 47.75 41.5 \r\nQ 54.890625 34.8125 54.890625 23.390625 \r\nQ 54.890625 11.625 47.5625 5.09375 \r\nQ 40.234375 -1.421875 26.90625 -1.421875 \r\nQ 22.3125 -1.421875 17.546875 -0.640625 \r\nQ 12.796875 0.140625 7.71875 1.703125 \r\nL 7.71875 11.625 \r\nQ 12.109375 9.234375 16.796875 8.0625 \r\nQ 21.484375 6.890625 26.703125 6.890625 \r\nQ 35.15625 6.890625 40.078125 11.328125 \r\nQ 45.015625 15.765625 45.015625 23.390625 \r\nQ 45.015625 31 40.078125 35.4375 \r\nQ 35.15625 39.890625 26.703125 39.890625 \r\nQ 22.75 39.890625 18.8125 39.015625 \r\nQ 14.890625 38.140625 10.796875 36.28125 \r\nz\r\n\" id=\"DejaVuSans-53\"/>\r\n       </defs>\r\n       <use xlink:href=\"#DejaVuSans-53\"/>\r\n       <use x=\"63.623047\" xlink:href=\"#DejaVuSans-48\"/>\r\n       <use x=\"127.246094\" xlink:href=\"#DejaVuSans-48\"/>\r\n       <use x=\"190.869141\" xlink:href=\"#DejaVuSans-48\"/>\r\n      </g>\r\n     </g>\r\n    </g>\r\n    <g id=\"ytick_3\">\r\n     <g id=\"line2d_6\">\r\n      <g>\r\n       <use style=\"stroke:#000000;stroke-width:0.8;\" x=\"46.0125\" xlink:href=\"#m39b95ff005\" y=\"164.371989\"/>\r\n      </g>\r\n     </g>\r\n     <g id=\"text_6\">\r\n      <!-- 10000 -->\r\n      <g transform=\"translate(7.2 168.171208)scale(0.1 -0.1)\">\r\n       <defs>\r\n        <path d=\"M 12.40625 8.296875 \r\nL 28.515625 8.296875 \r\nL 28.515625 63.921875 \r\nL 10.984375 60.40625 \r\nL 10.984375 69.390625 \r\nL 28.421875 72.90625 \r\nL 38.28125 72.90625 \r\nL 38.28125 8.296875 \r\nL 54.390625 8.296875 \r\nL 54.390625 0 \r\nL 12.40625 0 \r\nz\r\n\" id=\"DejaVuSans-49\"/>\r\n       </defs>\r\n       <use xlink:href=\"#DejaVuSans-49\"/>\r\n       <use x=\"63.623047\" xlink:href=\"#DejaVuSans-48\"/>\r\n       <use x=\"127.246094\" xlink:href=\"#DejaVuSans-48\"/>\r\n       <use x=\"190.869141\" xlink:href=\"#DejaVuSans-48\"/>\r\n       <use x=\"254.492188\" xlink:href=\"#DejaVuSans-48\"/>\r\n      </g>\r\n     </g>\r\n    </g>\r\n    <g id=\"ytick_4\">\r\n     <g id=\"line2d_7\">\r\n      <g>\r\n       <use style=\"stroke:#000000;stroke-width:0.8;\" x=\"46.0125\" xlink:href=\"#m39b95ff005\" y=\"126.678922\"/>\r\n      </g>\r\n     </g>\r\n     <g id=\"text_7\">\r\n      <!-- 15000 -->\r\n      <g transform=\"translate(7.2 130.47814)scale(0.1 -0.1)\">\r\n       <use xlink:href=\"#DejaVuSans-49\"/>\r\n       <use x=\"63.623047\" xlink:href=\"#DejaVuSans-53\"/>\r\n       <use x=\"127.246094\" xlink:href=\"#DejaVuSans-48\"/>\r\n       <use x=\"190.869141\" xlink:href=\"#DejaVuSans-48\"/>\r\n       <use x=\"254.492188\" xlink:href=\"#DejaVuSans-48\"/>\r\n      </g>\r\n     </g>\r\n    </g>\r\n    <g id=\"ytick_5\">\r\n     <g id=\"line2d_8\">\r\n      <g>\r\n       <use style=\"stroke:#000000;stroke-width:0.8;\" x=\"46.0125\" xlink:href=\"#m39b95ff005\" y=\"88.985854\"/>\r\n      </g>\r\n     </g>\r\n     <g id=\"text_8\">\r\n      <!-- 20000 -->\r\n      <g transform=\"translate(7.2 92.785073)scale(0.1 -0.1)\">\r\n       <defs>\r\n        <path d=\"M 19.1875 8.296875 \r\nL 53.609375 8.296875 \r\nL 53.609375 0 \r\nL 7.328125 0 \r\nL 7.328125 8.296875 \r\nQ 12.9375 14.109375 22.625 23.890625 \r\nQ 32.328125 33.6875 34.8125 36.53125 \r\nQ 39.546875 41.84375 41.421875 45.53125 \r\nQ 43.3125 49.21875 43.3125 52.78125 \r\nQ 43.3125 58.59375 39.234375 62.25 \r\nQ 35.15625 65.921875 28.609375 65.921875 \r\nQ 23.96875 65.921875 18.8125 64.3125 \r\nQ 13.671875 62.703125 7.8125 59.421875 \r\nL 7.8125 69.390625 \r\nQ 13.765625 71.78125 18.9375 73 \r\nQ 24.125 74.21875 28.421875 74.21875 \r\nQ 39.75 74.21875 46.484375 68.546875 \r\nQ 53.21875 62.890625 53.21875 53.421875 \r\nQ 53.21875 48.921875 51.53125 44.890625 \r\nQ 49.859375 40.875 45.40625 35.40625 \r\nQ 44.1875 33.984375 37.640625 27.21875 \r\nQ 31.109375 20.453125 19.1875 8.296875 \r\nz\r\n\" id=\"DejaVuSans-50\"/>\r\n       </defs>\r\n       <use xlink:href=\"#DejaVuSans-50\"/>\r\n       <use x=\"63.623047\" xlink:href=\"#DejaVuSans-48\"/>\r\n       <use x=\"127.246094\" xlink:href=\"#DejaVuSans-48\"/>\r\n       <use x=\"190.869141\" xlink:href=\"#DejaVuSans-48\"/>\r\n       <use x=\"254.492188\" xlink:href=\"#DejaVuSans-48\"/>\r\n      </g>\r\n     </g>\r\n    </g>\r\n    <g id=\"ytick_6\">\r\n     <g id=\"line2d_9\">\r\n      <g>\r\n       <use style=\"stroke:#000000;stroke-width:0.8;\" x=\"46.0125\" xlink:href=\"#m39b95ff005\" y=\"51.292786\"/>\r\n      </g>\r\n     </g>\r\n     <g id=\"text_9\">\r\n      <!-- 25000 -->\r\n      <g transform=\"translate(7.2 55.092005)scale(0.1 -0.1)\">\r\n       <use xlink:href=\"#DejaVuSans-50\"/>\r\n       <use x=\"63.623047\" xlink:href=\"#DejaVuSans-53\"/>\r\n       <use x=\"127.246094\" xlink:href=\"#DejaVuSans-48\"/>\r\n       <use x=\"190.869141\" xlink:href=\"#DejaVuSans-48\"/>\r\n       <use x=\"254.492188\" xlink:href=\"#DejaVuSans-48\"/>\r\n      </g>\r\n     </g>\r\n    </g>\r\n   </g>\r\n   <g id=\"patch_6\">\r\n    <path d=\"M 46.0125 239.758125 \r\nL 46.0125 22.318125 \r\n\" style=\"fill:none;stroke:#000000;stroke-linecap:square;stroke-linejoin:miter;stroke-width:0.8;\"/>\r\n   </g>\r\n   <g id=\"patch_7\">\r\n    <path d=\"M 380.8125 239.758125 \r\nL 380.8125 22.318125 \r\n\" style=\"fill:none;stroke:#000000;stroke-linecap:square;stroke-linejoin:miter;stroke-width:0.8;\"/>\r\n   </g>\r\n   <g id=\"patch_8\">\r\n    <path d=\"M 46.0125 239.758125 \r\nL 380.8125 239.758125 \r\n\" style=\"fill:none;stroke:#000000;stroke-linecap:square;stroke-linejoin:miter;stroke-width:0.8;\"/>\r\n   </g>\r\n   <g id=\"patch_9\">\r\n    <path d=\"M 46.0125 22.318125 \r\nL 380.8125 22.318125 \r\n\" style=\"fill:none;stroke:#000000;stroke-linecap:square;stroke-linejoin:miter;stroke-width:0.8;\"/>\r\n   </g>\r\n   <g id=\"text_10\">\r\n    <!-- Count (target) -->\r\n    <g transform=\"translate(170.761875 16.318125)scale(0.12 -0.12)\">\r\n     <defs>\r\n      <path d=\"M 64.40625 67.28125 \r\nL 64.40625 56.890625 \r\nQ 59.421875 61.53125 53.78125 63.8125 \r\nQ 48.140625 66.109375 41.796875 66.109375 \r\nQ 29.296875 66.109375 22.65625 58.46875 \r\nQ 16.015625 50.828125 16.015625 36.375 \r\nQ 16.015625 21.96875 22.65625 14.328125 \r\nQ 29.296875 6.6875 41.796875 6.6875 \r\nQ 48.140625 6.6875 53.78125 8.984375 \r\nQ 59.421875 11.28125 64.40625 15.921875 \r\nL 64.40625 5.609375 \r\nQ 59.234375 2.09375 53.4375 0.328125 \r\nQ 47.65625 -1.421875 41.21875 -1.421875 \r\nQ 24.65625 -1.421875 15.125 8.703125 \r\nQ 5.609375 18.84375 5.609375 36.375 \r\nQ 5.609375 53.953125 15.125 64.078125 \r\nQ 24.65625 74.21875 41.21875 74.21875 \r\nQ 47.75 74.21875 53.53125 72.484375 \r\nQ 59.328125 70.75 64.40625 67.28125 \r\nz\r\n\" id=\"DejaVuSans-67\"/>\r\n      <path d=\"M 54.890625 33.015625 \r\nL 54.890625 0 \r\nL 45.90625 0 \r\nL 45.90625 32.71875 \r\nQ 45.90625 40.484375 42.875 44.328125 \r\nQ 39.84375 48.1875 33.796875 48.1875 \r\nQ 26.515625 48.1875 22.3125 43.546875 \r\nQ 18.109375 38.921875 18.109375 30.90625 \r\nL 18.109375 0 \r\nL 9.078125 0 \r\nL 9.078125 54.6875 \r\nL 18.109375 54.6875 \r\nL 18.109375 46.1875 \r\nQ 21.34375 51.125 25.703125 53.5625 \r\nQ 30.078125 56 35.796875 56 \r\nQ 45.21875 56 50.046875 50.171875 \r\nQ 54.890625 44.34375 54.890625 33.015625 \r\nz\r\n\" id=\"DejaVuSans-110\"/>\r\n      <path d=\"M 18.3125 70.21875 \r\nL 18.3125 54.6875 \r\nL 36.8125 54.6875 \r\nL 36.8125 47.703125 \r\nL 18.3125 47.703125 \r\nL 18.3125 18.015625 \r\nQ 18.3125 11.328125 20.140625 9.421875 \r\nQ 21.96875 7.515625 27.59375 7.515625 \r\nL 36.8125 7.515625 \r\nL 36.8125 0 \r\nL 27.59375 0 \r\nQ 17.1875 0 13.234375 3.875 \r\nQ 9.28125 7.765625 9.28125 18.015625 \r\nL 9.28125 47.703125 \r\nL 2.6875 47.703125 \r\nL 2.6875 54.6875 \r\nL 9.28125 54.6875 \r\nL 9.28125 70.21875 \r\nz\r\n\" id=\"DejaVuSans-116\"/>\r\n      <path id=\"DejaVuSans-32\"/>\r\n      <path d=\"M 31 75.875 \r\nQ 24.46875 64.65625 21.28125 53.65625 \r\nQ 18.109375 42.671875 18.109375 31.390625 \r\nQ 18.109375 20.125 21.3125 9.0625 \r\nQ 24.515625 -2 31 -13.1875 \r\nL 23.1875 -13.1875 \r\nQ 15.875 -1.703125 12.234375 9.375 \r\nQ 8.59375 20.453125 8.59375 31.390625 \r\nQ 8.59375 42.28125 12.203125 53.3125 \r\nQ 15.828125 64.359375 23.1875 75.875 \r\nz\r\n\" id=\"DejaVuSans-40\"/>\r\n      <path d=\"M 34.28125 27.484375 \r\nQ 23.390625 27.484375 19.1875 25 \r\nQ 14.984375 22.515625 14.984375 16.5 \r\nQ 14.984375 11.71875 18.140625 8.90625 \r\nQ 21.296875 6.109375 26.703125 6.109375 \r\nQ 34.1875 6.109375 38.703125 11.40625 \r\nQ 43.21875 16.703125 43.21875 25.484375 \r\nL 43.21875 27.484375 \r\nz\r\nM 52.203125 31.203125 \r\nL 52.203125 0 \r\nL 43.21875 0 \r\nL 43.21875 8.296875 \r\nQ 40.140625 3.328125 35.546875 0.953125 \r\nQ 30.953125 -1.421875 24.3125 -1.421875 \r\nQ 15.921875 -1.421875 10.953125 3.296875 \r\nQ 6 8.015625 6 15.921875 \r\nQ 6 25.140625 12.171875 29.828125 \r\nQ 18.359375 34.515625 30.609375 34.515625 \r\nL 43.21875 34.515625 \r\nL 43.21875 35.40625 \r\nQ 43.21875 41.609375 39.140625 45 \r\nQ 35.0625 48.390625 27.6875 48.390625 \r\nQ 23 48.390625 18.546875 47.265625 \r\nQ 14.109375 46.140625 10.015625 43.890625 \r\nL 10.015625 52.203125 \r\nQ 14.9375 54.109375 19.578125 55.046875 \r\nQ 24.21875 56 28.609375 56 \r\nQ 40.484375 56 46.34375 49.84375 \r\nQ 52.203125 43.703125 52.203125 31.203125 \r\nz\r\n\" id=\"DejaVuSans-97\"/>\r\n      <path d=\"M 41.109375 46.296875 \r\nQ 39.59375 47.171875 37.8125 47.578125 \r\nQ 36.03125 48 33.890625 48 \r\nQ 26.265625 48 22.1875 43.046875 \r\nQ 18.109375 38.09375 18.109375 28.8125 \r\nL 18.109375 0 \r\nL 9.078125 0 \r\nL 9.078125 54.6875 \r\nL 18.109375 54.6875 \r\nL 18.109375 46.1875 \r\nQ 20.953125 51.171875 25.484375 53.578125 \r\nQ 30.03125 56 36.53125 56 \r\nQ 37.453125 56 38.578125 55.875 \r\nQ 39.703125 55.765625 41.0625 55.515625 \r\nz\r\n\" id=\"DejaVuSans-114\"/>\r\n      <path d=\"M 8.015625 75.875 \r\nL 15.828125 75.875 \r\nQ 23.140625 64.359375 26.78125 53.3125 \r\nQ 30.421875 42.28125 30.421875 31.390625 \r\nQ 30.421875 20.453125 26.78125 9.375 \r\nQ 23.140625 -1.703125 15.828125 -13.1875 \r\nL 8.015625 -13.1875 \r\nQ 14.5 -2 17.703125 9.0625 \r\nQ 20.90625 20.125 20.90625 31.390625 \r\nQ 20.90625 42.671875 17.703125 53.65625 \r\nQ 14.5 64.65625 8.015625 75.875 \r\nz\r\n\" id=\"DejaVuSans-41\"/>\r\n     </defs>\r\n     <use xlink:href=\"#DejaVuSans-67\"/>\r\n     <use x=\"69.824219\" xlink:href=\"#DejaVuSans-111\"/>\r\n     <use x=\"131.005859\" xlink:href=\"#DejaVuSans-117\"/>\r\n     <use x=\"194.384766\" xlink:href=\"#DejaVuSans-110\"/>\r\n     <use x=\"257.763672\" xlink:href=\"#DejaVuSans-116\"/>\r\n     <use x=\"296.972656\" xlink:href=\"#DejaVuSans-32\"/>\r\n     <use x=\"328.759766\" xlink:href=\"#DejaVuSans-40\"/>\r\n     <use x=\"367.773438\" xlink:href=\"#DejaVuSans-116\"/>\r\n     <use x=\"406.982422\" xlink:href=\"#DejaVuSans-97\"/>\r\n     <use x=\"468.261719\" xlink:href=\"#DejaVuSans-114\"/>\r\n     <use x=\"507.625\" xlink:href=\"#DejaVuSans-103\"/>\r\n     <use x=\"571.101562\" xlink:href=\"#DejaVuSans-101\"/>\r\n     <use x=\"632.625\" xlink:href=\"#DejaVuSans-116\"/>\r\n     <use x=\"671.833984\" xlink:href=\"#DejaVuSans-41\"/>\r\n    </g>\r\n   </g>\r\n  </g>\r\n </g>\r\n <defs>\r\n  <clipPath id=\"p09e34fba85\">\r\n   <rect height=\"217.44\" width=\"334.8\" x=\"46.0125\" y=\"22.318125\"/>\r\n  </clipPath>\r\n </defs>\r\n</svg>\r\n",
      "image/png": "[encoded data removed]"
     },
     "metadata": {
      "needs_background": "light"
     }
    }
   ],
   "source": [
    "#RandomOverSampler=ros\n",
    "train = pd.concat([X_train_rf, Y_train_rf], axis = 1)\n",
    "valid = pd.concat([X_test_rf, Y_test_rf], axis = 1)\n",
    "high = train[train[\"interest_level\"] == 'high']\n",
    "medium = train[train[\"interest_level\"] == 'medium']\n",
    "low = train[train[\"interest_level\"] == 'low']\n",
    "df_high = high.sample(len(low),replace=True)\n",
    "df_med = medium.sample(len(low),replace=True)\n",
    "#\n",
    "train_ros = pd.concat([df_high,df_med,low],axis = 0)\n",
    "train_ros = train_ros.sample(frac=1)\n",
    "X_train_ros_rf = train_ros[X.columns]\n",
    "Y_train_rf_ros = train_ros['interest_level']\n",
    "#\n",
    "target_count = train_ros.interest_level.value_counts()\n",
    "print('High:', target_count['high'])\n",
    "print('Medium:', target_count['medium'])\n",
    "print('Low:', target_count['low'])\n",
    "target_count.plot(kind='bar', title='Count (target)');\n",
    "#標準化\n",
    "regression_col_rf = [\"bathrooms\", \"bedrooms\", \"latitude\", \"longitude\",\"num_photos\",\"price\"]\n",
    "classification_col_rf = ['Elevator','Cats Allowed','Hardwood Floors','Dogs Allowed','Doorman','Dishwasher','No Fee','Laundry in Building','Pre-War','Laundry in Unit','Dining Room']\n",
    "sc_rf = StandardScaler()\n",
    "X_train_rf_r = sc_rf.fit_transform(X_train_ros_rf[regression_col_rf])#\n",
    "X_test_rf_r = sc_rf.transform(X_test_rf[regression_col_rf])#\n",
    "X_train_rf_r = pd.DataFrame(X_train_rf_r).reset_index(drop=True)\n",
    "X_test_rf_r = pd.DataFrame(X_test_rf_r).reset_index(drop=True)\n",
    "X_train_rf_c = X_train_ros_rf[classification_col_rf].reset_index(drop=True)#\n",
    "X_test_rf_c = X_test_rf[classification_col_rf].reset_index(drop=True)\n",
    "X_train_rf_ros = pd.concat([X_train_rf_r, X_train_rf_c],axis=1)\n",
    "X_test_rf_ros = pd.concat([X_test_rf_r, X_test_rf_c], axis = 1)"
   ]
  },
  {
   "cell_type": "code",
   "execution_count": 7,
   "metadata": {},
   "outputs": [
    {
     "output_type": "stream",
     "name": "stdout",
     "text": [
      "low       27470\nmedium    27470\nhigh      27470\nName: interest_level, dtype: int64\n"
     ]
    }
   ],
   "source": [
    "#Smote\n",
    "X_train_smote_rf, Y_train_smote_rf = SMOTE().fit_sample(X_train_rf, Y_train_rf)\n",
    "print(Y_train_smote_rf.value_counts()) # 確認資料平衡\n",
    "#\n",
    "train_smote = pd.concat([X_train_smote_rf, Y_train_smote_rf],axis = 1)\n",
    "train_smote = train_smote.sample(frac=1)\n",
    "X_train_smote_rf_df = train_smote[X.columns]\n",
    "X_test_rf_smote=X_test_rf[X.columns]\n",
    "Y_train_smote_rf = train_smote['interest_level']\n",
    "#標準化\n",
    "sc = StandardScaler()\n",
    "X_train_smote_r = sc.fit_transform(X_train_smote_rf_df[regression_col_rf])\n",
    "X_test_smote_r = sc.transform(X_test_rf_smote[regression_col_rf])\n",
    "X_train_smote_r = pd.DataFrame(X_train_smote_r).reset_index(drop=True)\n",
    "X_test_smote_r = pd.DataFrame(X_test_smote_r).reset_index(drop=True)\n",
    "X_train_smote_c = X_train_smote_rf_df[classification_col_rf].reset_index(drop=True)\n",
    "X_test_smote_c = X_test_rf_smote[classification_col_rf].reset_index(drop=True)\n",
    "#\n",
    "X_train_smote_rf = pd.concat([X_train_smote_r, X_train_smote_c],axis=1)\n",
    "X_test_smote_rf = pd.concat([X_test_smote_r, X_test_smote_c], axis = 1)"
   ]
  },
  {
   "cell_type": "code",
   "execution_count": 8,
   "metadata": {},
   "outputs": [
    {
     "output_type": "stream",
     "name": "stdout",
     "text": [
      "High: 26310\nMedium: 26532\nLow: 27470\n"
     ]
    },
    {
     "output_type": "display_data",
     "data": {
      "text/plain": "<Figure size 432x288 with 1 Axes>",
      "image/svg+xml": "<?xml version=\"1.0\" encoding=\"utf-8\" standalone=\"no\"?>\r\n<!DOCTYPE svg PUBLIC \"-//W3C//DTD SVG 1.1//EN\"\r\n  \"http://www.w3.org/Graphics/SVG/1.1/DTD/svg11.dtd\">\r\n<!-- Created with matplotlib (https://matplotlib.org/) -->\r\n<svg height=\"295.056563pt\" version=\"1.1\" viewBox=\"0 0 388.0125 295.056563\" width=\"388.0125pt\" xmlns=\"http://www.w3.org/2000/svg\" xmlns:xlink=\"http://www.w3.org/1999/xlink\">\r\n <metadata>\r\n  <rdf:RDF xmlns:cc=\"http://creativecommons.org/ns#\" xmlns:dc=\"http://purl.org/dc/elements/1.1/\" xmlns:rdf=\"http://www.w3.org/1999/02/22-rdf-syntax-ns#\">\r\n   <cc:Work>\r\n    <dc:type rdf:resource=\"http://purl.org/dc/dcmitype/StillImage\"/>\r\n    <dc:date>2021-05-22T13:32:18.973222</dc:date>\r\n    <dc:format>image/svg+xml</dc:format>\r\n    <dc:creator>\r\n     <cc:Agent>\r\n      <dc:title>Matplotlib v3.3.4, https://matplotlib.org/</dc:title>\r\n     </cc:Agent>\r\n    </dc:creator>\r\n   </cc:Work>\r\n  </rdf:RDF>\r\n </metadata>\r\n <defs>\r\n  <style type=\"text/css\">*{stroke-linecap:butt;stroke-linejoin:round;}</style>\r\n </defs>\r\n <g id=\"figure_1\">\r\n  <g id=\"patch_1\">\r\n   <path d=\"M 0 295.056563 \r\nL 388.0125 295.056563 \r\nL 388.0125 0 \r\nL 0 0 \r\nz\r\n\" style=\"fill:none;\"/>\r\n  </g>\r\n  <g id=\"axes_1\">\r\n   <g id=\"patch_2\">\r\n    <path d=\"M 46.0125 239.758125 \r\nL 380.8125 239.758125 \r\nL 380.8125 22.318125 \r\nL 46.0125 22.318125 \r\nz\r\n\" style=\"fill:#ffffff;\"/>\r\n   </g>\r\n   <g id=\"patch_3\">\r\n    <path clip-path=\"url(#p3df1a73e7d)\" d=\"M 73.9125 239.758125 \r\nL 129.7125 239.758125 \r\nL 129.7125 32.672411 \r\nL 73.9125 32.672411 \r\nz\r\n\" style=\"fill:#1f77b4;\"/>\r\n   </g>\r\n   <g id=\"patch_4\">\r\n    <path clip-path=\"url(#p3df1a73e7d)\" d=\"M 185.5125 239.758125 \r\nL 241.3125 239.758125 \r\nL 241.3125 39.74363 \r\nL 185.5125 39.74363 \r\nz\r\n\" style=\"fill:#1f77b4;\"/>\r\n   </g>\r\n   <g id=\"patch_5\">\r\n    <path clip-path=\"url(#p3df1a73e7d)\" d=\"M 297.1125 239.758125 \r\nL 352.9125 239.758125 \r\nL 352.9125 41.417202 \r\nL 297.1125 41.417202 \r\nz\r\n\" style=\"fill:#1f77b4;\"/>\r\n   </g>\r\n   <g id=\"matplotlib.axis_1\">\r\n    <g id=\"xtick_1\">\r\n     <g id=\"line2d_1\">\r\n      <defs>\r\n       <path d=\"M 0 0 \r\nL 0 3.5 \r\n\" id=\"m4efb6f48b4\" style=\"stroke:#000000;stroke-width:0.8;\"/>\r\n      </defs>\r\n      <g>\r\n       <use style=\"stroke:#000000;stroke-width:0.8;\" x=\"101.8125\" xlink:href=\"#m4efb6f48b4\" y=\"239.758125\"/>\r\n      </g>\r\n     </g>\r\n     <g id=\"text_1\">\r\n      <!-- low -->\r\n      <g transform=\"translate(104.571875 263.833125)rotate(-90)scale(0.1 -0.1)\">\r\n       <defs>\r\n        <path d=\"M 9.421875 75.984375 \r\nL 18.40625 75.984375 \r\nL 18.40625 0 \r\nL 9.421875 0 \r\nz\r\n\" id=\"DejaVuSans-108\"/>\r\n        <path d=\"M 30.609375 48.390625 \r\nQ 23.390625 48.390625 19.1875 42.75 \r\nQ 14.984375 37.109375 14.984375 27.296875 \r\nQ 14.984375 17.484375 19.15625 11.84375 \r\nQ 23.34375 6.203125 30.609375 6.203125 \r\nQ 37.796875 6.203125 41.984375 11.859375 \r\nQ 46.1875 17.53125 46.1875 27.296875 \r\nQ 46.1875 37.015625 41.984375 42.703125 \r\nQ 37.796875 48.390625 30.609375 48.390625 \r\nz\r\nM 30.609375 56 \r\nQ 42.328125 56 49.015625 48.375 \r\nQ 55.71875 40.765625 55.71875 27.296875 \r\nQ 55.71875 13.875 49.015625 6.21875 \r\nQ 42.328125 -1.421875 30.609375 -1.421875 \r\nQ 18.84375 -1.421875 12.171875 6.21875 \r\nQ 5.515625 13.875 5.515625 27.296875 \r\nQ 5.515625 40.765625 12.171875 48.375 \r\nQ 18.84375 56 30.609375 56 \r\nz\r\n\" id=\"DejaVuSans-111\"/>\r\n        <path d=\"M 4.203125 54.6875 \r\nL 13.1875 54.6875 \r\nL 24.421875 12.015625 \r\nL 35.59375 54.6875 \r\nL 46.1875 54.6875 \r\nL 57.421875 12.015625 \r\nL 68.609375 54.6875 \r\nL 77.59375 54.6875 \r\nL 63.28125 0 \r\nL 52.6875 0 \r\nL 40.921875 44.828125 \r\nL 29.109375 0 \r\nL 18.5 0 \r\nz\r\n\" id=\"DejaVuSans-119\"/>\r\n       </defs>\r\n       <use xlink:href=\"#DejaVuSans-108\"/>\r\n       <use x=\"27.783203\" xlink:href=\"#DejaVuSans-111\"/>\r\n       <use x=\"88.964844\" xlink:href=\"#DejaVuSans-119\"/>\r\n      </g>\r\n     </g>\r\n    </g>\r\n    <g id=\"xtick_2\">\r\n     <g id=\"line2d_2\">\r\n      <g>\r\n       <use style=\"stroke:#000000;stroke-width:0.8;\" x=\"213.4125\" xlink:href=\"#m4efb6f48b4\" y=\"239.758125\"/>\r\n      </g>\r\n     </g>\r\n     <g id=\"text_2\">\r\n      <!-- medium -->\r\n      <g transform=\"translate(216.171875 287.856563)rotate(-90)scale(0.1 -0.1)\">\r\n       <defs>\r\n        <path d=\"M 52 44.1875 \r\nQ 55.375 50.25 60.0625 53.125 \r\nQ 64.75 56 71.09375 56 \r\nQ 79.640625 56 84.28125 50.015625 \r\nQ 88.921875 44.046875 88.921875 33.015625 \r\nL 88.921875 0 \r\nL 79.890625 0 \r\nL 79.890625 32.71875 \r\nQ 79.890625 40.578125 77.09375 44.375 \r\nQ 74.3125 48.1875 68.609375 48.1875 \r\nQ 61.625 48.1875 57.5625 43.546875 \r\nQ 53.515625 38.921875 53.515625 30.90625 \r\nL 53.515625 0 \r\nL 44.484375 0 \r\nL 44.484375 32.71875 \r\nQ 44.484375 40.625 41.703125 44.40625 \r\nQ 38.921875 48.1875 33.109375 48.1875 \r\nQ 26.21875 48.1875 22.15625 43.53125 \r\nQ 18.109375 38.875 18.109375 30.90625 \r\nL 18.109375 0 \r\nL 9.078125 0 \r\nL 9.078125 54.6875 \r\nL 18.109375 54.6875 \r\nL 18.109375 46.1875 \r\nQ 21.1875 51.21875 25.484375 53.609375 \r\nQ 29.78125 56 35.6875 56 \r\nQ 41.65625 56 45.828125 52.96875 \r\nQ 50 49.953125 52 44.1875 \r\nz\r\n\" id=\"DejaVuSans-109\"/>\r\n        <path d=\"M 56.203125 29.59375 \r\nL 56.203125 25.203125 \r\nL 14.890625 25.203125 \r\nQ 15.484375 15.921875 20.484375 11.0625 \r\nQ 25.484375 6.203125 34.421875 6.203125 \r\nQ 39.59375 6.203125 44.453125 7.46875 \r\nQ 49.3125 8.734375 54.109375 11.28125 \r\nL 54.109375 2.78125 \r\nQ 49.265625 0.734375 44.1875 -0.34375 \r\nQ 39.109375 -1.421875 33.890625 -1.421875 \r\nQ 20.796875 -1.421875 13.15625 6.1875 \r\nQ 5.515625 13.8125 5.515625 26.8125 \r\nQ 5.515625 40.234375 12.765625 48.109375 \r\nQ 20.015625 56 32.328125 56 \r\nQ 43.359375 56 49.78125 48.890625 \r\nQ 56.203125 41.796875 56.203125 29.59375 \r\nz\r\nM 47.21875 32.234375 \r\nQ 47.125 39.59375 43.09375 43.984375 \r\nQ 39.0625 48.390625 32.421875 48.390625 \r\nQ 24.90625 48.390625 20.390625 44.140625 \r\nQ 15.875 39.890625 15.1875 32.171875 \r\nz\r\n\" id=\"DejaVuSans-101\"/>\r\n        <path d=\"M 45.40625 46.390625 \r\nL 45.40625 75.984375 \r\nL 54.390625 75.984375 \r\nL 54.390625 0 \r\nL 45.40625 0 \r\nL 45.40625 8.203125 \r\nQ 42.578125 3.328125 38.25 0.953125 \r\nQ 33.9375 -1.421875 27.875 -1.421875 \r\nQ 17.96875 -1.421875 11.734375 6.484375 \r\nQ 5.515625 14.40625 5.515625 27.296875 \r\nQ 5.515625 40.1875 11.734375 48.09375 \r\nQ 17.96875 56 27.875 56 \r\nQ 33.9375 56 38.25 53.625 \r\nQ 42.578125 51.265625 45.40625 46.390625 \r\nz\r\nM 14.796875 27.296875 \r\nQ 14.796875 17.390625 18.875 11.75 \r\nQ 22.953125 6.109375 30.078125 6.109375 \r\nQ 37.203125 6.109375 41.296875 11.75 \r\nQ 45.40625 17.390625 45.40625 27.296875 \r\nQ 45.40625 37.203125 41.296875 42.84375 \r\nQ 37.203125 48.484375 30.078125 48.484375 \r\nQ 22.953125 48.484375 18.875 42.84375 \r\nQ 14.796875 37.203125 14.796875 27.296875 \r\nz\r\n\" id=\"DejaVuSans-100\"/>\r\n        <path d=\"M 9.421875 54.6875 \r\nL 18.40625 54.6875 \r\nL 18.40625 0 \r\nL 9.421875 0 \r\nz\r\nM 9.421875 75.984375 \r\nL 18.40625 75.984375 \r\nL 18.40625 64.59375 \r\nL 9.421875 64.59375 \r\nz\r\n\" id=\"DejaVuSans-105\"/>\r\n        <path d=\"M 8.5 21.578125 \r\nL 8.5 54.6875 \r\nL 17.484375 54.6875 \r\nL 17.484375 21.921875 \r\nQ 17.484375 14.15625 20.5 10.265625 \r\nQ 23.53125 6.390625 29.59375 6.390625 \r\nQ 36.859375 6.390625 41.078125 11.03125 \r\nQ 45.3125 15.671875 45.3125 23.6875 \r\nL 45.3125 54.6875 \r\nL 54.296875 54.6875 \r\nL 54.296875 0 \r\nL 45.3125 0 \r\nL 45.3125 8.40625 \r\nQ 42.046875 3.421875 37.71875 1 \r\nQ 33.40625 -1.421875 27.6875 -1.421875 \r\nQ 18.265625 -1.421875 13.375 4.4375 \r\nQ 8.5 10.296875 8.5 21.578125 \r\nz\r\nM 31.109375 56 \r\nz\r\n\" id=\"DejaVuSans-117\"/>\r\n       </defs>\r\n       <use xlink:href=\"#DejaVuSans-109\"/>\r\n       <use x=\"97.412109\" xlink:href=\"#DejaVuSans-101\"/>\r\n       <use x=\"158.935547\" xlink:href=\"#DejaVuSans-100\"/>\r\n       <use x=\"222.412109\" xlink:href=\"#DejaVuSans-105\"/>\r\n       <use x=\"250.195312\" xlink:href=\"#DejaVuSans-117\"/>\r\n       <use x=\"313.574219\" xlink:href=\"#DejaVuSans-109\"/>\r\n      </g>\r\n     </g>\r\n    </g>\r\n    <g id=\"xtick_3\">\r\n     <g id=\"line2d_3\">\r\n      <g>\r\n       <use style=\"stroke:#000000;stroke-width:0.8;\" x=\"325.0125\" xlink:href=\"#m4efb6f48b4\" y=\"239.758125\"/>\r\n      </g>\r\n     </g>\r\n     <g id=\"text_3\">\r\n      <!-- high -->\r\n      <g transform=\"translate(327.771875 268.559688)rotate(-90)scale(0.1 -0.1)\">\r\n       <defs>\r\n        <path d=\"M 54.890625 33.015625 \r\nL 54.890625 0 \r\nL 45.90625 0 \r\nL 45.90625 32.71875 \r\nQ 45.90625 40.484375 42.875 44.328125 \r\nQ 39.84375 48.1875 33.796875 48.1875 \r\nQ 26.515625 48.1875 22.3125 43.546875 \r\nQ 18.109375 38.921875 18.109375 30.90625 \r\nL 18.109375 0 \r\nL 9.078125 0 \r\nL 9.078125 75.984375 \r\nL 18.109375 75.984375 \r\nL 18.109375 46.1875 \r\nQ 21.34375 51.125 25.703125 53.5625 \r\nQ 30.078125 56 35.796875 56 \r\nQ 45.21875 56 50.046875 50.171875 \r\nQ 54.890625 44.34375 54.890625 33.015625 \r\nz\r\n\" id=\"DejaVuSans-104\"/>\r\n        <path d=\"M 45.40625 27.984375 \r\nQ 45.40625 37.75 41.375 43.109375 \r\nQ 37.359375 48.484375 30.078125 48.484375 \r\nQ 22.859375 48.484375 18.828125 43.109375 \r\nQ 14.796875 37.75 14.796875 27.984375 \r\nQ 14.796875 18.265625 18.828125 12.890625 \r\nQ 22.859375 7.515625 30.078125 7.515625 \r\nQ 37.359375 7.515625 41.375 12.890625 \r\nQ 45.40625 18.265625 45.40625 27.984375 \r\nz\r\nM 54.390625 6.78125 \r\nQ 54.390625 -7.171875 48.1875 -13.984375 \r\nQ 42 -20.796875 29.203125 -20.796875 \r\nQ 24.46875 -20.796875 20.265625 -20.09375 \r\nQ 16.0625 -19.390625 12.109375 -17.921875 \r\nL 12.109375 -9.1875 \r\nQ 16.0625 -11.328125 19.921875 -12.34375 \r\nQ 23.78125 -13.375 27.78125 -13.375 \r\nQ 36.625 -13.375 41.015625 -8.765625 \r\nQ 45.40625 -4.15625 45.40625 5.171875 \r\nL 45.40625 9.625 \r\nQ 42.625 4.78125 38.28125 2.390625 \r\nQ 33.9375 0 27.875 0 \r\nQ 17.828125 0 11.671875 7.65625 \r\nQ 5.515625 15.328125 5.515625 27.984375 \r\nQ 5.515625 40.671875 11.671875 48.328125 \r\nQ 17.828125 56 27.875 56 \r\nQ 33.9375 56 38.28125 53.609375 \r\nQ 42.625 51.21875 45.40625 46.390625 \r\nL 45.40625 54.6875 \r\nL 54.390625 54.6875 \r\nz\r\n\" id=\"DejaVuSans-103\"/>\r\n       </defs>\r\n       <use xlink:href=\"#DejaVuSans-104\"/>\r\n       <use x=\"63.378906\" xlink:href=\"#DejaVuSans-105\"/>\r\n       <use x=\"91.162109\" xlink:href=\"#DejaVuSans-103\"/>\r\n       <use x=\"154.638672\" xlink:href=\"#DejaVuSans-104\"/>\r\n      </g>\r\n     </g>\r\n    </g>\r\n   </g>\r\n   <g id=\"matplotlib.axis_2\">\r\n    <g id=\"ytick_1\">\r\n     <g id=\"line2d_4\">\r\n      <defs>\r\n       <path d=\"M 0 0 \r\nL -3.5 0 \r\n\" id=\"mf74131a2ac\" style=\"stroke:#000000;stroke-width:0.8;\"/>\r\n      </defs>\r\n      <g>\r\n       <use style=\"stroke:#000000;stroke-width:0.8;\" x=\"46.0125\" xlink:href=\"#mf74131a2ac\" y=\"239.758125\"/>\r\n      </g>\r\n     </g>\r\n     <g id=\"text_4\">\r\n      <!-- 0 -->\r\n      <g transform=\"translate(32.65 243.557344)scale(0.1 -0.1)\">\r\n       <defs>\r\n        <path d=\"M 31.78125 66.40625 \r\nQ 24.171875 66.40625 20.328125 58.90625 \r\nQ 16.5 51.421875 16.5 36.375 \r\nQ 16.5 21.390625 20.328125 13.890625 \r\nQ 24.171875 6.390625 31.78125 6.390625 \r\nQ 39.453125 6.390625 43.28125 13.890625 \r\nQ 47.125 21.390625 47.125 36.375 \r\nQ 47.125 51.421875 43.28125 58.90625 \r\nQ 39.453125 66.40625 31.78125 66.40625 \r\nz\r\nM 31.78125 74.21875 \r\nQ 44.046875 74.21875 50.515625 64.515625 \r\nQ 56.984375 54.828125 56.984375 36.375 \r\nQ 56.984375 17.96875 50.515625 8.265625 \r\nQ 44.046875 -1.421875 31.78125 -1.421875 \r\nQ 19.53125 -1.421875 13.0625 8.265625 \r\nQ 6.59375 17.96875 6.59375 36.375 \r\nQ 6.59375 54.828125 13.0625 64.515625 \r\nQ 19.53125 74.21875 31.78125 74.21875 \r\nz\r\n\" id=\"DejaVuSans-48\"/>\r\n       </defs>\r\n       <use xlink:href=\"#DejaVuSans-48\"/>\r\n      </g>\r\n     </g>\r\n    </g>\r\n    <g id=\"ytick_2\">\r\n     <g id=\"line2d_5\">\r\n      <g>\r\n       <use style=\"stroke:#000000;stroke-width:0.8;\" x=\"46.0125\" xlink:href=\"#mf74131a2ac\" y=\"202.065057\"/>\r\n      </g>\r\n     </g>\r\n     <g id=\"text_5\">\r\n      <!-- 5000 -->\r\n      <g transform=\"translate(13.5625 205.864276)scale(0.1 -0.1)\">\r\n       <defs>\r\n        <path d=\"M 10.796875 72.90625 \r\nL 49.515625 72.90625 \r\nL 49.515625 64.59375 \r\nL 19.828125 64.59375 \r\nL 19.828125 46.734375 \r\nQ 21.96875 47.46875 24.109375 47.828125 \r\nQ 26.265625 48.1875 28.421875 48.1875 \r\nQ 40.625 48.1875 47.75 41.5 \r\nQ 54.890625 34.8125 54.890625 23.390625 \r\nQ 54.890625 11.625 47.5625 5.09375 \r\nQ 40.234375 -1.421875 26.90625 -1.421875 \r\nQ 22.3125 -1.421875 17.546875 -0.640625 \r\nQ 12.796875 0.140625 7.71875 1.703125 \r\nL 7.71875 11.625 \r\nQ 12.109375 9.234375 16.796875 8.0625 \r\nQ 21.484375 6.890625 26.703125 6.890625 \r\nQ 35.15625 6.890625 40.078125 11.328125 \r\nQ 45.015625 15.765625 45.015625 23.390625 \r\nQ 45.015625 31 40.078125 35.4375 \r\nQ 35.15625 39.890625 26.703125 39.890625 \r\nQ 22.75 39.890625 18.8125 39.015625 \r\nQ 14.890625 38.140625 10.796875 36.28125 \r\nz\r\n\" id=\"DejaVuSans-53\"/>\r\n       </defs>\r\n       <use xlink:href=\"#DejaVuSans-53\"/>\r\n       <use x=\"63.623047\" xlink:href=\"#DejaVuSans-48\"/>\r\n       <use x=\"127.246094\" xlink:href=\"#DejaVuSans-48\"/>\r\n       <use x=\"190.869141\" xlink:href=\"#DejaVuSans-48\"/>\r\n      </g>\r\n     </g>\r\n    </g>\r\n    <g id=\"ytick_3\">\r\n     <g id=\"line2d_6\">\r\n      <g>\r\n       <use style=\"stroke:#000000;stroke-width:0.8;\" x=\"46.0125\" xlink:href=\"#mf74131a2ac\" y=\"164.371989\"/>\r\n      </g>\r\n     </g>\r\n     <g id=\"text_6\">\r\n      <!-- 10000 -->\r\n      <g transform=\"translate(7.2 168.171208)scale(0.1 -0.1)\">\r\n       <defs>\r\n        <path d=\"M 12.40625 8.296875 \r\nL 28.515625 8.296875 \r\nL 28.515625 63.921875 \r\nL 10.984375 60.40625 \r\nL 10.984375 69.390625 \r\nL 28.421875 72.90625 \r\nL 38.28125 72.90625 \r\nL 38.28125 8.296875 \r\nL 54.390625 8.296875 \r\nL 54.390625 0 \r\nL 12.40625 0 \r\nz\r\n\" id=\"DejaVuSans-49\"/>\r\n       </defs>\r\n       <use xlink:href=\"#DejaVuSans-49\"/>\r\n       <use x=\"63.623047\" xlink:href=\"#DejaVuSans-48\"/>\r\n       <use x=\"127.246094\" xlink:href=\"#DejaVuSans-48\"/>\r\n       <use x=\"190.869141\" xlink:href=\"#DejaVuSans-48\"/>\r\n       <use x=\"254.492188\" xlink:href=\"#DejaVuSans-48\"/>\r\n      </g>\r\n     </g>\r\n    </g>\r\n    <g id=\"ytick_4\">\r\n     <g id=\"line2d_7\">\r\n      <g>\r\n       <use style=\"stroke:#000000;stroke-width:0.8;\" x=\"46.0125\" xlink:href=\"#mf74131a2ac\" y=\"126.678922\"/>\r\n      </g>\r\n     </g>\r\n     <g id=\"text_7\">\r\n      <!-- 15000 -->\r\n      <g transform=\"translate(7.2 130.47814)scale(0.1 -0.1)\">\r\n       <use xlink:href=\"#DejaVuSans-49\"/>\r\n       <use x=\"63.623047\" xlink:href=\"#DejaVuSans-53\"/>\r\n       <use x=\"127.246094\" xlink:href=\"#DejaVuSans-48\"/>\r\n       <use x=\"190.869141\" xlink:href=\"#DejaVuSans-48\"/>\r\n       <use x=\"254.492188\" xlink:href=\"#DejaVuSans-48\"/>\r\n      </g>\r\n     </g>\r\n    </g>\r\n    <g id=\"ytick_5\">\r\n     <g id=\"line2d_8\">\r\n      <g>\r\n       <use style=\"stroke:#000000;stroke-width:0.8;\" x=\"46.0125\" xlink:href=\"#mf74131a2ac\" y=\"88.985854\"/>\r\n      </g>\r\n     </g>\r\n     <g id=\"text_8\">\r\n      <!-- 20000 -->\r\n      <g transform=\"translate(7.2 92.785073)scale(0.1 -0.1)\">\r\n       <defs>\r\n        <path d=\"M 19.1875 8.296875 \r\nL 53.609375 8.296875 \r\nL 53.609375 0 \r\nL 7.328125 0 \r\nL 7.328125 8.296875 \r\nQ 12.9375 14.109375 22.625 23.890625 \r\nQ 32.328125 33.6875 34.8125 36.53125 \r\nQ 39.546875 41.84375 41.421875 45.53125 \r\nQ 43.3125 49.21875 43.3125 52.78125 \r\nQ 43.3125 58.59375 39.234375 62.25 \r\nQ 35.15625 65.921875 28.609375 65.921875 \r\nQ 23.96875 65.921875 18.8125 64.3125 \r\nQ 13.671875 62.703125 7.8125 59.421875 \r\nL 7.8125 69.390625 \r\nQ 13.765625 71.78125 18.9375 73 \r\nQ 24.125 74.21875 28.421875 74.21875 \r\nQ 39.75 74.21875 46.484375 68.546875 \r\nQ 53.21875 62.890625 53.21875 53.421875 \r\nQ 53.21875 48.921875 51.53125 44.890625 \r\nQ 49.859375 40.875 45.40625 35.40625 \r\nQ 44.1875 33.984375 37.640625 27.21875 \r\nQ 31.109375 20.453125 19.1875 8.296875 \r\nz\r\n\" id=\"DejaVuSans-50\"/>\r\n       </defs>\r\n       <use xlink:href=\"#DejaVuSans-50\"/>\r\n       <use x=\"63.623047\" xlink:href=\"#DejaVuSans-48\"/>\r\n       <use x=\"127.246094\" xlink:href=\"#DejaVuSans-48\"/>\r\n       <use x=\"190.869141\" xlink:href=\"#DejaVuSans-48\"/>\r\n       <use x=\"254.492188\" xlink:href=\"#DejaVuSans-48\"/>\r\n      </g>\r\n     </g>\r\n    </g>\r\n    <g id=\"ytick_6\">\r\n     <g id=\"line2d_9\">\r\n      <g>\r\n       <use style=\"stroke:#000000;stroke-width:0.8;\" x=\"46.0125\" xlink:href=\"#mf74131a2ac\" y=\"51.292786\"/>\r\n      </g>\r\n     </g>\r\n     <g id=\"text_9\">\r\n      <!-- 25000 -->\r\n      <g transform=\"translate(7.2 55.092005)scale(0.1 -0.1)\">\r\n       <use xlink:href=\"#DejaVuSans-50\"/>\r\n       <use x=\"63.623047\" xlink:href=\"#DejaVuSans-53\"/>\r\n       <use x=\"127.246094\" xlink:href=\"#DejaVuSans-48\"/>\r\n       <use x=\"190.869141\" xlink:href=\"#DejaVuSans-48\"/>\r\n       <use x=\"254.492188\" xlink:href=\"#DejaVuSans-48\"/>\r\n      </g>\r\n     </g>\r\n    </g>\r\n   </g>\r\n   <g id=\"patch_6\">\r\n    <path d=\"M 46.0125 239.758125 \r\nL 46.0125 22.318125 \r\n\" style=\"fill:none;stroke:#000000;stroke-linecap:square;stroke-linejoin:miter;stroke-width:0.8;\"/>\r\n   </g>\r\n   <g id=\"patch_7\">\r\n    <path d=\"M 380.8125 239.758125 \r\nL 380.8125 22.318125 \r\n\" style=\"fill:none;stroke:#000000;stroke-linecap:square;stroke-linejoin:miter;stroke-width:0.8;\"/>\r\n   </g>\r\n   <g id=\"patch_8\">\r\n    <path d=\"M 46.0125 239.758125 \r\nL 380.8125 239.758125 \r\n\" style=\"fill:none;stroke:#000000;stroke-linecap:square;stroke-linejoin:miter;stroke-width:0.8;\"/>\r\n   </g>\r\n   <g id=\"patch_9\">\r\n    <path d=\"M 46.0125 22.318125 \r\nL 380.8125 22.318125 \r\n\" style=\"fill:none;stroke:#000000;stroke-linecap:square;stroke-linejoin:miter;stroke-width:0.8;\"/>\r\n   </g>\r\n   <g id=\"text_10\">\r\n    <!-- Count (target) -->\r\n    <g transform=\"translate(170.761875 16.318125)scale(0.12 -0.12)\">\r\n     <defs>\r\n      <path d=\"M 64.40625 67.28125 \r\nL 64.40625 56.890625 \r\nQ 59.421875 61.53125 53.78125 63.8125 \r\nQ 48.140625 66.109375 41.796875 66.109375 \r\nQ 29.296875 66.109375 22.65625 58.46875 \r\nQ 16.015625 50.828125 16.015625 36.375 \r\nQ 16.015625 21.96875 22.65625 14.328125 \r\nQ 29.296875 6.6875 41.796875 6.6875 \r\nQ 48.140625 6.6875 53.78125 8.984375 \r\nQ 59.421875 11.28125 64.40625 15.921875 \r\nL 64.40625 5.609375 \r\nQ 59.234375 2.09375 53.4375 0.328125 \r\nQ 47.65625 -1.421875 41.21875 -1.421875 \r\nQ 24.65625 -1.421875 15.125 8.703125 \r\nQ 5.609375 18.84375 5.609375 36.375 \r\nQ 5.609375 53.953125 15.125 64.078125 \r\nQ 24.65625 74.21875 41.21875 74.21875 \r\nQ 47.75 74.21875 53.53125 72.484375 \r\nQ 59.328125 70.75 64.40625 67.28125 \r\nz\r\n\" id=\"DejaVuSans-67\"/>\r\n      <path d=\"M 54.890625 33.015625 \r\nL 54.890625 0 \r\nL 45.90625 0 \r\nL 45.90625 32.71875 \r\nQ 45.90625 40.484375 42.875 44.328125 \r\nQ 39.84375 48.1875 33.796875 48.1875 \r\nQ 26.515625 48.1875 22.3125 43.546875 \r\nQ 18.109375 38.921875 18.109375 30.90625 \r\nL 18.109375 0 \r\nL 9.078125 0 \r\nL 9.078125 54.6875 \r\nL 18.109375 54.6875 \r\nL 18.109375 46.1875 \r\nQ 21.34375 51.125 25.703125 53.5625 \r\nQ 30.078125 56 35.796875 56 \r\nQ 45.21875 56 50.046875 50.171875 \r\nQ 54.890625 44.34375 54.890625 33.015625 \r\nz\r\n\" id=\"DejaVuSans-110\"/>\r\n      <path d=\"M 18.3125 70.21875 \r\nL 18.3125 54.6875 \r\nL 36.8125 54.6875 \r\nL 36.8125 47.703125 \r\nL 18.3125 47.703125 \r\nL 18.3125 18.015625 \r\nQ 18.3125 11.328125 20.140625 9.421875 \r\nQ 21.96875 7.515625 27.59375 7.515625 \r\nL 36.8125 7.515625 \r\nL 36.8125 0 \r\nL 27.59375 0 \r\nQ 17.1875 0 13.234375 3.875 \r\nQ 9.28125 7.765625 9.28125 18.015625 \r\nL 9.28125 47.703125 \r\nL 2.6875 47.703125 \r\nL 2.6875 54.6875 \r\nL 9.28125 54.6875 \r\nL 9.28125 70.21875 \r\nz\r\n\" id=\"DejaVuSans-116\"/>\r\n      <path id=\"DejaVuSans-32\"/>\r\n      <path d=\"M 31 75.875 \r\nQ 24.46875 64.65625 21.28125 53.65625 \r\nQ 18.109375 42.671875 18.109375 31.390625 \r\nQ 18.109375 20.125 21.3125 9.0625 \r\nQ 24.515625 -2 31 -13.1875 \r\nL 23.1875 -13.1875 \r\nQ 15.875 -1.703125 12.234375 9.375 \r\nQ 8.59375 20.453125 8.59375 31.390625 \r\nQ 8.59375 42.28125 12.203125 53.3125 \r\nQ 15.828125 64.359375 23.1875 75.875 \r\nz\r\n\" id=\"DejaVuSans-40\"/>\r\n      <path d=\"M 34.28125 27.484375 \r\nQ 23.390625 27.484375 19.1875 25 \r\nQ 14.984375 22.515625 14.984375 16.5 \r\nQ 14.984375 11.71875 18.140625 8.90625 \r\nQ 21.296875 6.109375 26.703125 6.109375 \r\nQ 34.1875 6.109375 38.703125 11.40625 \r\nQ 43.21875 16.703125 43.21875 25.484375 \r\nL 43.21875 27.484375 \r\nz\r\nM 52.203125 31.203125 \r\nL 52.203125 0 \r\nL 43.21875 0 \r\nL 43.21875 8.296875 \r\nQ 40.140625 3.328125 35.546875 0.953125 \r\nQ 30.953125 -1.421875 24.3125 -1.421875 \r\nQ 15.921875 -1.421875 10.953125 3.296875 \r\nQ 6 8.015625 6 15.921875 \r\nQ 6 25.140625 12.171875 29.828125 \r\nQ 18.359375 34.515625 30.609375 34.515625 \r\nL 43.21875 34.515625 \r\nL 43.21875 35.40625 \r\nQ 43.21875 41.609375 39.140625 45 \r\nQ 35.0625 48.390625 27.6875 48.390625 \r\nQ 23 48.390625 18.546875 47.265625 \r\nQ 14.109375 46.140625 10.015625 43.890625 \r\nL 10.015625 52.203125 \r\nQ 14.9375 54.109375 19.578125 55.046875 \r\nQ 24.21875 56 28.609375 56 \r\nQ 40.484375 56 46.34375 49.84375 \r\nQ 52.203125 43.703125 52.203125 31.203125 \r\nz\r\n\" id=\"DejaVuSans-97\"/>\r\n      <path d=\"M 41.109375 46.296875 \r\nQ 39.59375 47.171875 37.8125 47.578125 \r\nQ 36.03125 48 33.890625 48 \r\nQ 26.265625 48 22.1875 43.046875 \r\nQ 18.109375 38.09375 18.109375 28.8125 \r\nL 18.109375 0 \r\nL 9.078125 0 \r\nL 9.078125 54.6875 \r\nL 18.109375 54.6875 \r\nL 18.109375 46.1875 \r\nQ 20.953125 51.171875 25.484375 53.578125 \r\nQ 30.03125 56 36.53125 56 \r\nQ 37.453125 56 38.578125 55.875 \r\nQ 39.703125 55.765625 41.0625 55.515625 \r\nz\r\n\" id=\"DejaVuSans-114\"/>\r\n      <path d=\"M 8.015625 75.875 \r\nL 15.828125 75.875 \r\nQ 23.140625 64.359375 26.78125 53.3125 \r\nQ 30.421875 42.28125 30.421875 31.390625 \r\nQ 30.421875 20.453125 26.78125 9.375 \r\nQ 23.140625 -1.703125 15.828125 -13.1875 \r\nL 8.015625 -13.1875 \r\nQ 14.5 -2 17.703125 9.0625 \r\nQ 20.90625 20.125 20.90625 31.390625 \r\nQ 20.90625 42.671875 17.703125 53.65625 \r\nQ 14.5 64.65625 8.015625 75.875 \r\nz\r\n\" id=\"DejaVuSans-41\"/>\r\n     </defs>\r\n     <use xlink:href=\"#DejaVuSans-67\"/>\r\n     <use x=\"69.824219\" xlink:href=\"#DejaVuSans-111\"/>\r\n     <use x=\"131.005859\" xlink:href=\"#DejaVuSans-117\"/>\r\n     <use x=\"194.384766\" xlink:href=\"#DejaVuSans-110\"/>\r\n     <use x=\"257.763672\" xlink:href=\"#DejaVuSans-116\"/>\r\n     <use x=\"296.972656\" xlink:href=\"#DejaVuSans-32\"/>\r\n     <use x=\"328.759766\" xlink:href=\"#DejaVuSans-40\"/>\r\n     <use x=\"367.773438\" xlink:href=\"#DejaVuSans-116\"/>\r\n     <use x=\"406.982422\" xlink:href=\"#DejaVuSans-97\"/>\r\n     <use x=\"468.261719\" xlink:href=\"#DejaVuSans-114\"/>\r\n     <use x=\"507.625\" xlink:href=\"#DejaVuSans-103\"/>\r\n     <use x=\"571.101562\" xlink:href=\"#DejaVuSans-101\"/>\r\n     <use x=\"632.625\" xlink:href=\"#DejaVuSans-116\"/>\r\n     <use x=\"671.833984\" xlink:href=\"#DejaVuSans-41\"/>\r\n    </g>\r\n   </g>\r\n  </g>\r\n </g>\r\n <defs>\r\n  <clipPath id=\"p3df1a73e7d\">\r\n   <rect height=\"217.44\" width=\"334.8\" x=\"46.0125\" y=\"22.318125\"/>\r\n  </clipPath>\r\n </defs>\r\n</svg>\r\n",
      "image/png": "[encoded data removed]"
     },
     "metadata": {
      "needs_background": "light"
     }
    }
   ],
   "source": [
    "#Adasyn\n",
    "X_train_adasyn_rf, Y_train_adasyn_rf = ADASYN().fit_sample(X_train_rf, Y_train_rf)\n",
    "#\n",
    "target_count = Y_train_adasyn_rf.value_counts()\n",
    "print('High:', target_count['high'])\n",
    "print('Medium:', target_count['medium'])\n",
    "print('Low:', target_count['low'])\n",
    "target_count.plot(kind='bar', title='Count (target)');\n",
    "#\n",
    "train_adasyn = pd.concat([X_train_adasyn_rf, Y_train_adasyn_rf],axis = 1)\n",
    "train_adasyn = train_adasyn.sample(frac=1)\n",
    "X_train_adasyn_rf_df = train_adasyn[X.columns]\n",
    "X_test_rf_adasyn=X_test_rf[X.columns]\n",
    "Y_train_adasyn_rf = train_adasyn['interest_level']\n",
    "#標準化\n",
    "sc = StandardScaler()\n",
    "X_train_adasyn_r = sc.fit_transform(X_train_adasyn_rf_df[regression_col_rf])\n",
    "X_test_adasyn_r = sc.transform(X_test_rf_adasyn[regression_col_rf])\n",
    "X_train_adasyn_r = pd.DataFrame(X_train_adasyn_r).reset_index(drop=True)\n",
    "X_test_adasyn_r = pd.DataFrame(X_test_adasyn_r).reset_index(drop=True)\n",
    "X_train_adasyn_c = X_train_adasyn_rf_df[classification_col_rf].reset_index(drop=True)\n",
    "X_test_adasyn_c = X_test_rf_adasyn[classification_col_rf].reset_index(drop=True)\n",
    "#\n",
    "X_train_adasyn_rf = pd.concat([X_train_adasyn_r, X_train_adasyn_c],axis=1)\n",
    "X_test_adasyn_rf = pd.concat([X_test_adasyn_r, X_test_adasyn_c], axis = 1)"
   ]
  },
  {
   "cell_type": "code",
   "execution_count": 9,
   "metadata": {},
   "outputs": [
    {
     "output_type": "stream",
     "name": "stdout",
     "text": [
      "Log loss on training_ros_rf dataset:  0.642044089983792\n",
      "Log loss on testing_ros_rf dataset:  0.7651352483748638\n",
      "Log loss on training_smote_rf dataset:  0.7128857021801258\n",
      "Log loss on testing_smote_rf dataset:  0.7979174140389498\n",
      "Log loss on training_rf dataset:  0.7313767407770981\n",
      "Log loss on testing_rf dataset:  0.8012699042073906\n"
     ]
    }
   ],
   "source": [
    "#implement model\n",
    "#RandomOverSampler\n",
    "clf_ros_rf= RandomForestClassifier(n_estimators=200,max_depth=13 ,random_state=0)\n",
    "clf_ros_rf.fit(X_train_rf_ros, Y_train_rf_ros)\n",
    "print('Log loss on training_ros_rf dataset: ',log_loss(Y_train_rf_ros, clf_ros_rf.predict_proba(X_train_rf_ros)))\n",
    "print('Log loss on testing_ros_rf dataset: ',log_loss(Y_test_rf, clf_ros_rf.predict_proba(X_test_rf_ros)))\n",
    "#Smote\n",
    "clf_smote_rf= RandomForestClassifier(n_estimators=200,max_depth=13 ,random_state=0)\n",
    "clf_smote_rf.fit(X_train_smote_rf, Y_train_smote_rf)\n",
    "print('Log loss on training_smote_rf dataset: ',log_loss(Y_train_smote_rf, clf_smote_rf.predict_proba(X_train_smote_rf)))\n",
    "print('Log loss on testing_smote_rf dataset: ',log_loss(Y_test_rf, clf_smote_rf.predict_proba(X_test_smote_rf)))\n",
    "#Adasyn\n",
    "clf_adasyn_rf= RandomForestClassifier(n_estimators=200,max_depth=13 ,random_state=0)\n",
    "clf_adasyn_rf.fit(X_train_adasyn_rf, Y_train_adasyn_rf)\n",
    "print('Log loss on training_rf dataset: ',log_loss(Y_train_adasyn_rf, clf_adasyn_rf.predict_proba(X_train_adasyn_rf)))\n",
    "print('Log loss on testing_rf dataset: ',log_loss(Y_test_rf, clf_adasyn_rf.predict_proba(X_test_adasyn_rf)))"
   ]
  },
  {
   "source": [
    "## XGB：特徵篩選、處理資料不平衡、標準化、模型訓練"
   ],
   "cell_type": "markdown",
   "metadata": {}
  },
  {
   "cell_type": "code",
   "execution_count": 10,
   "metadata": {},
   "outputs": [
    {
     "output_type": "stream",
     "name": "stdout",
     "text": [
      "('bathrooms', 0.023299037)\n('bedrooms', 0.05728956)\n('latitude', 0.03170791)\n('longitude', 0.025688747)\n('num_photos', 0.06463715)\n('price', 0.07509823)\n('Elevator', 0.015026101)\n('Cats Allowed', 0.0)\n('Hardwood Floors', 0.13670494)\n('Dogs Allowed', 0.015412761)\n('Doorman', 0.009637335)\n('Dishwasher', 0.030747833)\n('No Fee', 0.09060067)\n('Laundry in Building', 0.012489352)\n('Fitness Center', 0.0062987907)\n('Pre-War', 0.016118981)\n('Laundry in Unit', 0.009111703)\n('Roof Deck', 0.0016712534)\n('Outdoor Space', 0.015450262)\n('Dining Room', 0.011479532)\n('High Speed Internet', 0.0)\n('Balcony', 0.0022401984)\n('Swimming Pool', 0.012119083)\n('Laundry In Building', 0.04607277)\n('New Construction', 0.0010066461)\n('Terrace', 0.008725449)\n('Exclusive', 0.024789108)\n('Loft', 0.0039733807)\n('Garden/Patio', 0.0025406785)\n('Wheelchair Access', 0.0053706365)\n('Common Outdoor Space', 0.0136557575)\n('HARDWOOD', 0.072352126)\n('Fireplace', 0.0028062335)\n('SIMPLEX', 0.025450023)\n('prewar', 0.0)\n('LOWRISE', 0.0)\n('Garage', 0.0)\n('Laundry Room', 0.0)\n('Reduced Fee', 0.03775671)\n('Laundry In Unit', 0.010959443)\n('Furnished', 0.037592392)\n('Multi-Level', 0.0)\n('Private Outdoor Space', 0.017163998)\n('Prewar', 0.0)\n('PublicOutdoor', 0.0)\n('Parking Space', 0.004038824)\n('Roof-deck', 0.0)\n('dishwasher', 0.0)\n('High Ceilings', 0.0)\n('elevator', 0.0)\n('Renovated', 0.0)\n('Pool', 0.0)\n('LAUNDRY', 0.0)\n('Green Building', 0.0)\n('HIGH CEILINGS', 0.0037971407)\n('LIVE IN SUPER', 0.0)\n('High Ceiling', 0.010675639)\n('Washer in Unit', 0.0)\n('Dryer in Unit', 0.0)\n('Storage', 0.0)\n('Stainless Steel Appliances', 0.0)\n('On-site laundry', 0.0)\n('Concierge', 0.0)\n('Newly renovated', 0.0084436)\n('On-site Laundry', 0.0)\n('Live In Super', 0.0)\n('Hardwood', 0.0)\n('Light', 0.0)\n('On-site Garage', 0.0)\n('Washer/Dryer', 0.0)\n('Granite Kitchen', 0.0)\n('Gym/Fitness', 0.0)\n('Pets on approval', 0.0)\n('Marble Bath', 0.0)\n('Walk in Closet(s)', 0.0)\nFeatures selected by SelectFromModel: ['bathrooms' 'bedrooms' 'latitude' 'longitude' 'num_photos' 'price'\n 'Hardwood Floors' 'Dishwasher' 'No Fee' 'Laundry In Building' 'Exclusive'\n 'HARDWOOD' 'SIMPLEX' 'Reduced Fee' 'Furnished']\n"
     ]
    }
   ],
   "source": [
    "#xgb\n",
    "X=df_train[choose_columns]\n",
    "Y=df_train[\"interest_level\"]\n",
    "#\n",
    "xgb = xgb.XGBClassifier().fit(X,Y)\t\t\n",
    "for feature in zip(choose_columns, xgb.feature_importances_):\n",
    "    print((feature))\n",
    "\n",
    "selector = SelectFromModel(xgb,prefit = True,threshold=0.02)\n",
    "print(\"Features selected by SelectFromModel: \"\n",
    "      f\"{np.array(choose_columns)[selector.get_support()]}\")\n",
    "X = X[np.array(choose_columns)[selector.get_support()]]\n",
    "#\n",
    "X_train_xgb, X_test_xgb, Y_train_xgb, Y_test_xgb = train_test_split(X, Y, test_size=0.2, random_state = 0)"
   ]
  },
  {
   "cell_type": "code",
   "execution_count": 11,
   "metadata": {},
   "outputs": [],
   "source": [
    "#RandomOverSampler=ros\n",
    "train = pd.concat([X_train_xgb, Y_train_xgb], axis = 1)\n",
    "valid = pd.concat([X_test_xgb, Y_test_xgb], axis = 1)\n",
    "high = train[train[\"interest_level\"] == 'high']\n",
    "medium = train[train[\"interest_level\"] == 'medium']\n",
    "low = train[train[\"interest_level\"] == 'low']\n",
    "df_high = high.sample(len(low),replace=True)\n",
    "df_med = medium.sample(len(low),replace=True)\n",
    "#\n",
    "train_ros = pd.concat([df_high,df_med,low],axis = 0)\n",
    "train_ros = train_ros.sample(frac=1)\n",
    "X_train_ros_xgb = train_ros[X.columns]\n",
    "Y_train_xgb_ros = train_ros['interest_level']\n",
    "#標準化\n",
    "regression_col_xgb = [\"bathrooms\", \"bedrooms\", \"latitude\", \"longitude\",\"num_photos\",\"price\"]\n",
    "classification_col_xgb = ['Hardwood Floors','Dishwasher','No Fee','Laundry In Building','Exclusive','HARDWOOD','SIMPLEX','Reduced Fee','Furnished']\n",
    "sc_xgb = StandardScaler()\n",
    "X_train_xgb_r = sc_xgb.fit_transform(X_train_ros_xgb[regression_col_xgb])#\n",
    "X_test_xgb_r = sc_xgb.transform(X_test_xgb[regression_col_xgb])#\n",
    "X_train_xgb_r = pd.DataFrame(X_train_xgb_r).reset_index(drop=True)\n",
    "X_test_xgb_r = pd.DataFrame(X_test_xgb_r).reset_index(drop=True)\n",
    "X_train_xgb_c = X_train_ros_xgb[classification_col_xgb].reset_index(drop=True)#\n",
    "X_test_xgb_c = X_test_xgb[classification_col_xgb].reset_index(drop=True)\n",
    "X_train_xgb_ros = pd.concat([X_train_xgb_r, X_train_xgb_c],axis=1)\n",
    "X_test_xgb_ros = pd.concat([X_test_xgb_r, X_test_xgb_c], axis = 1)"
   ]
  },
  {
   "cell_type": "code",
   "execution_count": 12,
   "metadata": {},
   "outputs": [
    {
     "output_type": "stream",
     "name": "stdout",
     "text": [
      "low       27470\nmedium    27470\nhigh      27470\nName: interest_level, dtype: int64\n"
     ]
    }
   ],
   "source": [
    "#Smote\n",
    "X_train_smote_xgb, Y_train_smote_xgb = SMOTE().fit_sample(X_train_xgb, Y_train_xgb)\n",
    "print(Y_train_smote_xgb.value_counts()) # 確認資料平衡\n",
    "#\n",
    "train_smote = pd.concat([X_train_smote_xgb, Y_train_smote_xgb],axis = 1)\n",
    "train_smote = train_smote.sample(frac=1)\n",
    "X_train_smote_xgb_df = train_smote[X.columns]\n",
    "X_test_xgb_smote=X_test_xgb[X.columns]\n",
    "Y_train_smote_xgb = train_smote['interest_level']\n",
    "#標準化\n",
    "sc = StandardScaler()\n",
    "X_train_smote_r = sc.fit_transform(X_train_smote_xgb_df[regression_col_xgb])\n",
    "X_test_smote_r = sc.transform(X_test_xgb_smote[regression_col_xgb])\n",
    "X_train_smote_r = pd.DataFrame(X_train_smote_r).reset_index(drop=True)\n",
    "X_test_smote_r = pd.DataFrame(X_test_smote_r).reset_index(drop=True)\n",
    "X_train_smote_c = X_train_smote_xgb_df[classification_col_xgb].reset_index(drop=True)\n",
    "X_test_smote_c = X_test_xgb_smote[classification_col_xgb].reset_index(drop=True)\n",
    "#\n",
    "X_train_smote_xgb = pd.concat([X_train_smote_r, X_train_smote_c],axis=1)\n",
    "X_test_smote_xgb = pd.concat([X_test_smote_r, X_test_smote_c], axis = 1)"
   ]
  },
  {
   "cell_type": "code",
   "execution_count": 13,
   "metadata": {},
   "outputs": [],
   "source": [
    "#Adasyn\n",
    "X_train_adasyn_xgb, Y_train_adasyn_xgb = ADASYN().fit_sample(X_train_xgb, Y_train_xgb)\n",
    "#\n",
    "train_adasyn = pd.concat([X_train_adasyn_xgb, Y_train_adasyn_xgb],axis = 1)\n",
    "train_adasyn = train_adasyn.sample(frac=1)\n",
    "X_train_adasyn_xgb_df = train_adasyn[X.columns]\n",
    "X_test_xgb_adasyn=X_test_xgb[X.columns]\n",
    "Y_train_adasyn_xgb = train_adasyn['interest_level']\n",
    "#標準化\n",
    "sc = StandardScaler()\n",
    "X_train_adasyn_r = sc.fit_transform(X_train_adasyn_xgb_df[regression_col_xgb])\n",
    "X_test_adasyn_r = sc.transform(X_test_xgb_adasyn[regression_col_xgb])\n",
    "X_train_adasyn_r = pd.DataFrame(X_train_adasyn_r).reset_index(drop=True)\n",
    "X_test_adasyn_r = pd.DataFrame(X_test_adasyn_r).reset_index(drop=True)\n",
    "X_train_adasyn_c = X_train_adasyn_xgb_df[classification_col_xgb].reset_index(drop=True)\n",
    "X_test_adasyn_c = X_test_xgb_adasyn[classification_col_xgb].reset_index(drop=True)\n",
    "#\n",
    "X_train_adasyn_xgb = pd.concat([X_train_adasyn_r, X_train_adasyn_c],axis=1)\n",
    "X_test_adasyn_xgb = pd.concat([X_test_adasyn_r, X_test_adasyn_c], axis = 1)"
   ]
  },
  {
   "cell_type": "code",
   "execution_count": 14,
   "metadata": {},
   "outputs": [
    {
     "output_type": "stream",
     "name": "stdout",
     "text": [
      "Log loss on training_ros_xgb dataset:  0.7588317269697792\n",
      "Log loss on testing_ros_xgb dataset:  0.7642013800874667\n",
      "Log loss on training_smote_xgb dataset:  0.7895954880433267\n",
      "Log loss on testing_smote_xgb dataset:  0.791326814292148\n",
      "Log loss on training_adasyn_xgb dataset:  0.8142764306815977\n",
      "Log loss on testing_adasyn_xgb dataset:  0.8050816519765595\n"
     ]
    }
   ],
   "source": [
    "#implement model\n",
    "#RandomOverSampler\n",
    "import xgboost as xgb\n",
    "clf_ros_xgb= xgb.XGBClassifier(n_estimators=200,max_depth=4 ,random_state=0)\n",
    "clf_ros_xgb.fit(X_train_xgb_ros, Y_train_xgb_ros)\n",
    "print('Log loss on training_ros_xgb dataset: ',log_loss(Y_train_xgb_ros, clf_ros_xgb.predict_proba(X_train_xgb_ros)))\n",
    "print('Log loss on testing_ros_xgb dataset: ',log_loss(Y_test_xgb, clf_ros_xgb.predict_proba(X_test_xgb_ros)))\n",
    "#Smote\n",
    "clf_smote_xgb= xgb.XGBClassifier(n_estimators=200,max_depth=4 ,random_state=0)\n",
    "clf_smote_xgb.fit(X_train_smote_xgb, Y_train_smote_xgb)\n",
    "print('Log loss on training_smote_xgb dataset: ',log_loss(Y_train_smote_xgb, clf_smote_xgb.predict_proba(X_train_smote_xgb)))\n",
    "print('Log loss on testing_smote_xgb dataset: ',log_loss(Y_test_xgb, clf_smote_xgb.predict_proba(X_test_smote_xgb)))\n",
    "#Adasyn\n",
    "clf_adasyn_xgb= xgb.XGBClassifier(n_estimators=200,max_depth=4 ,random_state=0)\n",
    "clf_adasyn_xgb.fit(X_train_adasyn_xgb, Y_train_adasyn_xgb)\n",
    "print('Log loss on training_adasyn_xgb dataset: ',log_loss(Y_train_adasyn_xgb, clf_adasyn_xgb.predict_proba(X_train_adasyn_xgb)))\n",
    "print('Log loss on testing_adasyn_xgb dataset: ',log_loss(Y_test_xgb, clf_adasyn_xgb.predict_proba(X_test_adasyn_xgb)))"
   ]
  },
  {
   "source": [
    "## LGBM：特徵篩選、處理資料不平衡、標準化、模型訓練"
   ],
   "cell_type": "markdown",
   "metadata": {}
  },
  {
   "cell_type": "code",
   "execution_count": 15,
   "metadata": {},
   "outputs": [
    {
     "output_type": "stream",
     "name": "stdout",
     "text": [
      "('bathrooms', 230)\n('bedrooms', 806)\n('latitude', 1655)\n('longitude', 1456)\n('num_photos', 602)\n('price', 1824)\n('Elevator', 95)\n('Cats Allowed', 69)\n('Hardwood Floors', 103)\n('Dogs Allowed', 63)\n('Doorman', 47)\n('Dishwasher', 79)\n('No Fee', 205)\n('Laundry in Building', 90)\n('Fitness Center', 55)\n('Pre-War', 122)\n('Laundry in Unit', 84)\n('Roof Deck', 30)\n('Outdoor Space', 65)\n('Dining Room', 48)\n('High Speed Internet', 33)\n('Balcony', 63)\n('Swimming Pool', 46)\n('Laundry In Building', 125)\n('New Construction', 34)\n('Terrace', 52)\n('Exclusive', 73)\n('Loft', 36)\n('Garden/Patio', 22)\n('Wheelchair Access', 44)\n('Common Outdoor Space', 27)\n('HARDWOOD', 69)\n('Fireplace', 16)\n('SIMPLEX', 10)\n('prewar', 6)\n('LOWRISE', 3)\n('Garage', 11)\n('Laundry Room', 4)\n('Reduced Fee', 78)\n('Laundry In Unit', 60)\n('Furnished', 114)\n('Multi-Level', 15)\n('Private Outdoor Space', 55)\n('Prewar', 2)\n('PublicOutdoor', 3)\n('Parking Space', 28)\n('Roof-deck', 5)\n('dishwasher', 11)\n('High Ceilings', 16)\n('elevator', 19)\n('Renovated', 13)\n('Pool', 1)\n('LAUNDRY', 3)\n('Green Building', 2)\n('HIGH CEILINGS', 6)\n('LIVE IN SUPER', 6)\n('High Ceiling', 23)\n('Washer in Unit', 18)\n('Dryer in Unit', 0)\n('Storage', 22)\n('Stainless Steel Appliances', 17)\n('On-site laundry', 12)\n('Concierge', 12)\n('Newly renovated', 11)\n('On-site Laundry', 2)\n('Live In Super', 7)\n('Hardwood', 3)\n('Light', 2)\n('On-site Garage', 18)\n('Washer/Dryer', 1)\n('Granite Kitchen', 2)\n('Gym/Fitness', 0)\n('Pets on approval', 7)\n('Marble Bath', 0)\n('Walk in Closet(s)', 4)\nFeatures selected by SelectFromModel: ['bathrooms' 'bedrooms' 'latitude' 'longitude' 'num_photos' 'price'\n 'Elevator' 'Hardwood Floors' 'No Fee' 'Laundry in Building' 'Pre-War'\n 'Laundry in Unit' 'Laundry In Building' 'Furnished']\n"
     ]
    }
   ],
   "source": [
    "#lgb\n",
    "X=df_train[choose_columns]\n",
    "Y=df_train[\"interest_level\"]\n",
    "#\n",
    "lgb = lgb.LGBMClassifier().fit(X,Y)\t\n",
    "for feature in zip(choose_columns, lgb.feature_importances_):\n",
    "    print((feature))\n",
    "\n",
    "selector = SelectFromModel(lgb,prefit = True,threshold=80)\n",
    "print(\"Features selected by SelectFromModel: \"\n",
    "      f\"{np.array(choose_columns)[selector.get_support()]}\")\n",
    "X = X[np.array(choose_columns)[selector.get_support()]]\n",
    "#\n",
    "X_train_lgb, X_test_lgb, Y_train_lgb, Y_test_lgb = train_test_split(X, Y, test_size=0.2, random_state = 0)"
   ]
  },
  {
   "cell_type": "code",
   "execution_count": 16,
   "metadata": {},
   "outputs": [],
   "source": [
    "#RandomOverSampler=ros\n",
    "train = pd.concat([X_train_lgb, Y_train_lgb], axis = 1)\n",
    "valid = pd.concat([X_test_lgb, Y_test_lgb], axis = 1)\n",
    "high = train[train[\"interest_level\"] == 'high']\n",
    "medium = train[train[\"interest_level\"] == 'medium']\n",
    "low = train[train[\"interest_level\"] == 'low']\n",
    "df_high = high.sample(len(low),replace=True)\n",
    "df_med = medium.sample(len(low),replace=True)\n",
    "#\n",
    "train_ros = pd.concat([df_high,df_med,low],axis = 0)\n",
    "train_ros = train_ros.sample(frac=1)\n",
    "X_train_ros_lgb = train_ros[X.columns]\n",
    "Y_train_lgb_ros = train_ros['interest_level']\n",
    "#標準化\n",
    "regression_col_lgb= [\"bathrooms\", \"bedrooms\", \"latitude\", \"longitude\",\"num_photos\",\"price\"]\n",
    "classification_col_lgb = [ 'Elevator', 'Hardwood Floors', 'No Fee','Pre-War', 'Laundry In Building', 'Furnished']\n",
    "sc_lgb = StandardScaler()\n",
    "X_train_lgb_r = sc_lgb.fit_transform(X_train_ros_lgb[regression_col_lgb])#\n",
    "X_test_lgb_r = sc_lgb.transform(X_test_lgb[regression_col_lgb])#\n",
    "X_train_lgb_r = pd.DataFrame(X_train_lgb_r).reset_index(drop=True)\n",
    "X_test_lgb_r = pd.DataFrame(X_test_lgb_r).reset_index(drop=True)\n",
    "X_train_lgb_c = X_train_ros_lgb[classification_col_lgb].reset_index(drop=True)#\n",
    "X_test_lgb_c = X_test_lgb[classification_col_lgb].reset_index(drop=True)\n",
    "X_train_lgb_ros = pd.concat([X_train_lgb_r, X_train_lgb_c],axis=1)\n",
    "X_test_lgb_ros = pd.concat([X_test_lgb_r, X_test_lgb_c], axis = 1)"
   ]
  },
  {
   "cell_type": "code",
   "execution_count": 17,
   "metadata": {},
   "outputs": [
    {
     "output_type": "stream",
     "name": "stdout",
     "text": [
      "low       27470\nmedium    27470\nhigh      27470\nName: interest_level, dtype: int64\n"
     ]
    }
   ],
   "source": [
    "#Smote\n",
    "X_train_smote_lgb, Y_train_smote_lgb = SMOTE().fit_sample(X_train_lgb, Y_train_lgb)\n",
    "print(Y_train_smote_lgb.value_counts()) # 確認資料平衡\n",
    "#\n",
    "train_smote = pd.concat([X_train_smote_lgb, Y_train_smote_lgb],axis = 1)\n",
    "train_smote = train_smote.sample(frac=1)\n",
    "X_train_smote_lgb_df = train_smote[X.columns]\n",
    "X_test_lgb_smote=X_test_lgb[X.columns]\n",
    "Y_train_smote_lgb = train_smote['interest_level']\n",
    "#標準化\n",
    "sc = StandardScaler()\n",
    "X_train_smote_r = sc.fit_transform(X_train_smote_lgb_df[regression_col_lgb])\n",
    "X_test_smote_r = sc.transform(X_test_lgb_smote[regression_col_lgb])\n",
    "X_train_smote_r = pd.DataFrame(X_train_smote_r).reset_index(drop=True)\n",
    "X_test_smote_r = pd.DataFrame(X_test_smote_r).reset_index(drop=True)\n",
    "X_train_smote_c = X_train_smote_lgb_df[classification_col_lgb].reset_index(drop=True)\n",
    "X_test_smote_c = X_test_lgb_smote[classification_col_lgb].reset_index(drop=True)\n",
    "#\n",
    "X_train_smote_lgb = pd.concat([X_train_smote_r, X_train_smote_c],axis=1)\n",
    "X_test_smote_lgb = pd.concat([X_test_smote_r, X_test_smote_c], axis = 1)"
   ]
  },
  {
   "cell_type": "code",
   "execution_count": 18,
   "metadata": {},
   "outputs": [],
   "source": [
    "#Adasyn\n",
    "X_train_adasyn_lgb, Y_train_adasyn_lgb = ADASYN().fit_sample(X_train_lgb, Y_train_lgb)\n",
    "#\n",
    "train_adasyn = pd.concat([X_train_adasyn_lgb, Y_train_adasyn_lgb],axis = 1)\n",
    "train_adasyn = train_adasyn.sample(frac=1)\n",
    "X_train_adasyn_lgb_df = train_adasyn[X.columns]\n",
    "X_test_lgb_adasyn=X_test_lgb[X.columns]\n",
    "Y_train_adasyn_lgb = train_adasyn['interest_level']\n",
    "#標準化\n",
    "sc = StandardScaler()\n",
    "X_train_adasyn_r = sc.fit_transform(X_train_adasyn_lgb_df[regression_col_lgb])\n",
    "X_test_adasyn_r = sc.transform(X_test_lgb_adasyn[regression_col_lgb])\n",
    "X_train_adasyn_r = pd.DataFrame(X_train_adasyn_r).reset_index(drop=True)\n",
    "X_test_adasyn_r = pd.DataFrame(X_test_adasyn_r).reset_index(drop=True)\n",
    "X_train_adasyn_c = X_train_adasyn_lgb_df[classification_col_lgb].reset_index(drop=True)\n",
    "X_test_adasyn_c = X_test_lgb_adasyn[classification_col_lgb].reset_index(drop=True)\n",
    "#\n",
    "X_train_adasyn_lgb = pd.concat([X_train_adasyn_r, X_train_adasyn_c],axis=1)\n",
    "X_test_adasyn_lgb = pd.concat([X_test_adasyn_r, X_test_adasyn_c], axis = 1)"
   ]
  },
  {
   "cell_type": "code",
   "execution_count": 19,
   "metadata": {},
   "outputs": [
    {
     "output_type": "stream",
     "name": "stdout",
     "text": [
      "Log loss on training_ros_lgb dataset:  0.692840919545154\n",
      "Log loss on testing_ros_lgb dataset:  0.7363600111671159\n",
      "Log loss on training_smote_lgb dataset:  0.7257956967684569\n",
      "Log loss on testing_smote_lgb dataset:  0.7565473261752504\n",
      "Log loss on training_adasyn_lgb dataset:  0.7462440554978343\n",
      "Log loss on testing_adasyn_lgb dataset:  0.7607797993667978\n"
     ]
    }
   ],
   "source": [
    "#implement model\n",
    "#RandomOverSampler\n",
    "import lightgbm as lgb\n",
    "clf_ros_lgb= lgb.LGBMClassifier(random_state=0)\n",
    "clf_ros_lgb.fit(X_train_lgb_ros, Y_train_lgb_ros)\n",
    "print('Log loss on training_ros_lgb dataset: ',log_loss(Y_train_lgb_ros, clf_ros_lgb.predict_proba(X_train_lgb_ros)))\n",
    "print('Log loss on testing_ros_lgb dataset: ',log_loss(Y_test_lgb, clf_ros_lgb.predict_proba(X_test_lgb_ros)))\n",
    "#Smote\n",
    "clf_smote_lgb= lgb.LGBMClassifier(random_state=0)\n",
    "clf_smote_lgb.fit(X_train_smote_lgb, Y_train_smote_lgb)\n",
    "print('Log loss on training_smote_lgb dataset: ',log_loss(Y_train_smote_lgb, clf_smote_lgb.predict_proba(X_train_smote_lgb)))\n",
    "print('Log loss on testing_smote_lgb dataset: ',log_loss(Y_test_lgb, clf_smote_lgb.predict_proba(X_test_smote_lgb)))\n",
    "#Adasyn\n",
    "clf_adasyn_lgb= lgb.LGBMClassifier(random_state=0)\n",
    "clf_adasyn_lgb.fit(X_train_adasyn_lgb, Y_train_adasyn_lgb)\n",
    "print('Log loss on training_adasyn_lgb dataset: ',log_loss(Y_train_adasyn_lgb, clf_adasyn_lgb.predict_proba(X_train_adasyn_lgb)))\n",
    "print('Log loss on testing_adasyn_lgb dataset: ',log_loss(Y_test_lgb, clf_adasyn_lgb.predict_proba(X_test_adasyn_lgb)))"
   ]
  }
 ]
}